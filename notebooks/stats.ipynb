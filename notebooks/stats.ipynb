{
 "cells": [
  {
   "cell_type": "code",
   "execution_count": 14,
   "metadata": {},
   "outputs": [
    {
     "name": "stdout",
     "output_type": "stream",
     "text": [
      "The autoreload extension is already loaded. To reload it, use:\n",
      "  %reload_ext autoreload\n"
     ]
    }
   ],
   "source": [
    "%load_ext autoreload\n",
    "%autoreload 2"
   ]
  },
  {
   "cell_type": "code",
   "execution_count": 15,
   "metadata": {},
   "outputs": [],
   "source": [
    "import sys\n",
    "import os\n",
    "sys.path.append(os.path.join(os.path.split(os.path.abspath(''))[0], 'project/packages'))\n",
    "\n",
    "# For writing images\n",
    "if not os.path.exists(\"images\"):\n",
    "    os.mkdir(\"images\")"
   ]
  },
  {
   "cell_type": "code",
   "execution_count": 16,
   "metadata": {
    "scrolled": true
   },
   "outputs": [],
   "source": [
    "import pandas as pd\n",
    "import plotly.express as px\n",
    "import plotly.graph_objects as go\n",
    "import ipywidgets as widgets\n",
    "\n",
    "import data_types\n",
    "import stock_data_manager\n",
    "import stock_data_consumer\n",
    "\n",
    "sdm = stock_data_manager.StockDataManager(console_logging_level='ERROR')\n",
    "sdm._testing = True\n",
    "sdm.run()\n",
    "\n",
    "sdc = stock_data_consumer.StockDataConsumer(all_symbols=sdm.all_symbols,\n",
    "                                            stock_categories=sdm.stock_categories,\n",
    "                                            category_allocations=sdm.category_allocations,\n",
    "                                            index_tracker_stocks=sdm.index_tracker_stocks,\n",
    "                                            watchlist_stocks=sdm.watchlist_stocks,\n",
    "                                            portfolio_stocks=sdm.portfolio_stocks,\n",
    "                                            positions=sdm.positions)\n",
    "sdc.run()\n",
    "\n",
    "portfolio_stock_stats_combined = sdc.get_portfolio_stock_stats(combined=True)\n",
    "portfolio_aggregated_stats = sdc.get_portfolio_aggregate_stats()\n",
    "portfolio_stock_composition_stats = sdc.get_portfolio_stock_composition_stats()\n",
    "portfolio_category_composition_stats = sdc.get_portfolio_category_composition_stats()\n",
    "portfolio_category_composition_stats_combined = sdc.get_portfolio_category_composition_stats(combined=True)\n",
    "\n",
    "portfolio_market_dates = sdc.portfolio_market_dates\n",
    "first_date = portfolio_market_dates[0]\n",
    "last_date = portfolio_market_dates[len(portfolio_market_dates)-1]\n",
    "# Pick last date for any outputs\n",
    "s_composition_stats = portfolio_stock_composition_stats[last_date]\n",
    "c_composition_stats = portfolio_category_composition_stats[last_date]"
   ]
  },
  {
   "cell_type": "code",
   "execution_count": 17,
   "metadata": {},
   "outputs": [
    {
     "data": {
      "application/vnd.plotly.v1+json": {
       "config": {
        "plotlyServerURL": "https://plot.ly"
       },
       "data": [
        {
         "customdata": [
          [
           679.61,
           647.31,
           -32.3,
           -4.75,
           0,
           0,
           -32.3,
           -4.75
          ],
          [
           679.61,
           680.86,
           1.25,
           0.18,
           0,
           0,
           1.25,
           0.18
          ],
          [
           679.61,
           666.25,
           -13.36,
           -1.97,
           0,
           0,
           -13.36,
           -1.97
          ],
          [
           6219.37,
           6281.6,
           62.23,
           1,
           0,
           0,
           62.23,
           1
          ],
          [
           6219.37,
           6408.28,
           188.91,
           3.04,
           0,
           0,
           188.91,
           3.04
          ],
          [
           50277.33,
           50013.61,
           -263.75,
           -0.52,
           0,
           0,
           -263.75,
           -0.52
          ],
          [
           50277.33,
           48208.47,
           -2068.86,
           -4.11,
           0,
           0,
           -2068.86,
           -4.11
          ],
          [
           50277.33,
           49926.02,
           -351.32,
           -0.7,
           0,
           0,
           -351.32,
           -0.7
          ],
          [
           50277.33,
           49615.47,
           -661.87,
           -1.32,
           0,
           0,
           -661.87,
           -1.32
          ],
          [
           50277.33,
           50478.17,
           200.84,
           0.4,
           0,
           0,
           200.84,
           0.4
          ],
          [
           50277.33,
           52090.32,
           1812.99,
           3.61,
           0,
           0,
           1812.99,
           3.61
          ],
          [
           50277.33,
           51241.7,
           964.37,
           1.92,
           0,
           0,
           964.37,
           1.92
          ],
          [
           50277.33,
           53226.03,
           2948.69,
           5.86,
           0,
           0,
           2948.69,
           5.86
          ],
          [
           50277.33,
           52156.7,
           1879.37,
           3.74,
           0,
           0,
           1879.37,
           3.74
          ],
          [
           50277.33,
           50147.16,
           -130.18,
           -0.26,
           0,
           0,
           -130.18,
           -0.26
          ],
          [
           50277.33,
           51336.06,
           1058.73,
           2.11,
           0,
           0,
           1058.73,
           2.11
          ],
          [
           50277.33,
           52051.39,
           1774.06,
           3.53,
           0,
           0,
           1774.06,
           3.53
          ],
          [
           50277.33,
           52354.43,
           2077.11,
           4.13,
           0,
           0,
           2077.11,
           4.13
          ],
          [
           50277.33,
           53326.9,
           3049.58,
           6.07,
           0,
           0,
           3049.58,
           6.07
          ],
          [
           50277.33,
           54628.08,
           4350.74,
           8.65,
           0,
           0,
           4350.74,
           8.65
          ],
          [
           50277.33,
           55579.47,
           5302.14,
           10.55,
           0,
           0,
           5302.14,
           10.55
          ],
          [
           50277.33,
           54421.9,
           4144.57,
           8.24,
           0,
           0,
           4144.57,
           8.24
          ],
          [
           59555.78,
           62435.2,
           2879.44,
           4.83,
           0,
           0,
           2879.44,
           4.83
          ],
          [
           59555.78,
           62641.92,
           3086.17,
           5.18,
           0,
           0,
           3086.17,
           5.18
          ],
          [
           59555.78,
           63797.4,
           4241.62,
           7.12,
           0,
           0,
           4241.62,
           7.12
          ],
          [
           59555.78,
           65782.29,
           6226.52,
           10.45,
           0,
           0,
           6226.52,
           10.45
          ],
          [
           59555.78,
           65650.35,
           6094.58,
           10.23,
           0,
           0,
           6094.58,
           10.23
          ],
          [
           59555.78,
           67456.8,
           7901.05,
           13.27,
           0,
           0,
           7901.05,
           13.27
          ],
          [
           59555.78,
           67136.98,
           7581.23,
           12.73,
           0,
           0,
           7581.23,
           12.73
          ],
          [
           59555.78,
           67908.71,
           8352.95,
           14.03,
           0,
           0,
           8352.95,
           14.03
          ],
          [
           64513.82,
           72794.78,
           8280.95,
           12.84,
           0,
           0,
           8280.95,
           12.84
          ],
          [
           64513.82,
           72363.21,
           7849.41,
           12.17,
           0,
           0,
           7849.41,
           12.17
          ],
          [
           64513.82,
           71601.57,
           7087.75,
           10.99,
           0,
           0,
           7087.75,
           10.99
          ],
          [
           64513.82,
           72911.19,
           8397.38,
           13.02,
           0,
           0,
           8397.38,
           13.02
          ],
          [
           64513.82,
           74250.72,
           9736.91,
           15.09,
           0,
           0,
           9736.91,
           15.09
          ],
          [
           64513.82,
           74091.4,
           9577.58,
           14.85,
           0,
           0,
           9577.58,
           14.85
          ]
         ],
         "hovertemplate": "date=%{x}<br>total_pct_gain=%{customdata[7]}<br>invested_amount=%{customdata[0]}<br>market_value=%{customdata[1]}<br>unrealized_gain=%{customdata[2]}<br>unrealized_pct_gain=%{customdata[3]}<br>realized_gain=%{customdata[4]}<br>realized_pct_gain=%{customdata[5]}<br>total_gain=%{customdata[6]}<extra></extra>",
         "legendgroup": "",
         "line": {
          "color": "#636efa",
          "dash": "solid"
         },
         "mode": "lines",
         "name": "",
         "showlegend": false,
         "type": "scatter",
         "x": [
          "2020-04-13T00:00:00",
          "2020-04-14T00:00:00",
          "2020-04-15T00:00:00",
          "2020-04-16T00:00:00",
          "2020-04-17T00:00:00",
          "2020-04-20T00:00:00",
          "2020-04-21T00:00:00",
          "2020-04-22T00:00:00",
          "2020-04-23T00:00:00",
          "2020-04-24T00:00:00",
          "2020-04-27T00:00:00",
          "2020-04-28T00:00:00",
          "2020-04-29T00:00:00",
          "2020-04-30T00:00:00",
          "2020-05-01T00:00:00",
          "2020-05-04T00:00:00",
          "2020-05-05T00:00:00",
          "2020-05-06T00:00:00",
          "2020-05-07T00:00:00",
          "2020-05-08T00:00:00",
          "2020-05-11T00:00:00",
          "2020-05-12T00:00:00",
          "2020-05-13T00:00:00",
          "2020-05-14T00:00:00",
          "2020-05-15T00:00:00",
          "2020-05-18T00:00:00",
          "2020-05-19T00:00:00",
          "2020-05-20T00:00:00",
          "2020-05-21T00:00:00",
          "2020-05-22T00:00:00",
          "2020-05-26T00:00:00",
          "2020-05-27T00:00:00",
          "2020-05-28T00:00:00",
          "2020-05-29T00:00:00",
          "2020-06-01T00:00:00",
          "2020-06-02T15:02:47"
         ],
         "xaxis": "x",
         "y": [
          -4.75,
          0.18,
          -1.97,
          1,
          3.04,
          -0.52,
          -4.11,
          -0.7,
          -1.32,
          0.4,
          3.61,
          1.92,
          5.86,
          3.74,
          -0.26,
          2.11,
          3.53,
          4.13,
          6.07,
          8.65,
          10.55,
          8.24,
          4.83,
          5.18,
          7.12,
          10.45,
          10.23,
          13.27,
          12.73,
          14.03,
          12.84,
          12.17,
          10.99,
          13.02,
          15.09,
          14.85
         ],
         "yaxis": "y"
        }
       ],
       "layout": {
        "legend": {
         "tracegroupgap": 0
        },
        "shapes": [
         {
          "fillcolor": "Red",
          "opacity": 0.2,
          "type": "rect",
          "x0": "2020-04-13T00:00:00+00:00",
          "x1": "2020-06-02T15:02:47+00:00",
          "xref": "x",
          "y0": -4.75,
          "y1": 0,
          "yref": "y"
         }
        ],
        "template": {
         "data": {
          "bar": [
           {
            "error_x": {
             "color": "#2a3f5f"
            },
            "error_y": {
             "color": "#2a3f5f"
            },
            "marker": {
             "line": {
              "color": "#E5ECF6",
              "width": 0.5
             }
            },
            "type": "bar"
           }
          ],
          "barpolar": [
           {
            "marker": {
             "line": {
              "color": "#E5ECF6",
              "width": 0.5
             }
            },
            "type": "barpolar"
           }
          ],
          "carpet": [
           {
            "aaxis": {
             "endlinecolor": "#2a3f5f",
             "gridcolor": "white",
             "linecolor": "white",
             "minorgridcolor": "white",
             "startlinecolor": "#2a3f5f"
            },
            "baxis": {
             "endlinecolor": "#2a3f5f",
             "gridcolor": "white",
             "linecolor": "white",
             "minorgridcolor": "white",
             "startlinecolor": "#2a3f5f"
            },
            "type": "carpet"
           }
          ],
          "choropleth": [
           {
            "colorbar": {
             "outlinewidth": 0,
             "ticks": ""
            },
            "type": "choropleth"
           }
          ],
          "contour": [
           {
            "colorbar": {
             "outlinewidth": 0,
             "ticks": ""
            },
            "colorscale": [
             [
              0,
              "#0d0887"
             ],
             [
              0.1111111111111111,
              "#46039f"
             ],
             [
              0.2222222222222222,
              "#7201a8"
             ],
             [
              0.3333333333333333,
              "#9c179e"
             ],
             [
              0.4444444444444444,
              "#bd3786"
             ],
             [
              0.5555555555555556,
              "#d8576b"
             ],
             [
              0.6666666666666666,
              "#ed7953"
             ],
             [
              0.7777777777777778,
              "#fb9f3a"
             ],
             [
              0.8888888888888888,
              "#fdca26"
             ],
             [
              1,
              "#f0f921"
             ]
            ],
            "type": "contour"
           }
          ],
          "contourcarpet": [
           {
            "colorbar": {
             "outlinewidth": 0,
             "ticks": ""
            },
            "type": "contourcarpet"
           }
          ],
          "heatmap": [
           {
            "colorbar": {
             "outlinewidth": 0,
             "ticks": ""
            },
            "colorscale": [
             [
              0,
              "#0d0887"
             ],
             [
              0.1111111111111111,
              "#46039f"
             ],
             [
              0.2222222222222222,
              "#7201a8"
             ],
             [
              0.3333333333333333,
              "#9c179e"
             ],
             [
              0.4444444444444444,
              "#bd3786"
             ],
             [
              0.5555555555555556,
              "#d8576b"
             ],
             [
              0.6666666666666666,
              "#ed7953"
             ],
             [
              0.7777777777777778,
              "#fb9f3a"
             ],
             [
              0.8888888888888888,
              "#fdca26"
             ],
             [
              1,
              "#f0f921"
             ]
            ],
            "type": "heatmap"
           }
          ],
          "heatmapgl": [
           {
            "colorbar": {
             "outlinewidth": 0,
             "ticks": ""
            },
            "colorscale": [
             [
              0,
              "#0d0887"
             ],
             [
              0.1111111111111111,
              "#46039f"
             ],
             [
              0.2222222222222222,
              "#7201a8"
             ],
             [
              0.3333333333333333,
              "#9c179e"
             ],
             [
              0.4444444444444444,
              "#bd3786"
             ],
             [
              0.5555555555555556,
              "#d8576b"
             ],
             [
              0.6666666666666666,
              "#ed7953"
             ],
             [
              0.7777777777777778,
              "#fb9f3a"
             ],
             [
              0.8888888888888888,
              "#fdca26"
             ],
             [
              1,
              "#f0f921"
             ]
            ],
            "type": "heatmapgl"
           }
          ],
          "histogram": [
           {
            "marker": {
             "colorbar": {
              "outlinewidth": 0,
              "ticks": ""
             }
            },
            "type": "histogram"
           }
          ],
          "histogram2d": [
           {
            "colorbar": {
             "outlinewidth": 0,
             "ticks": ""
            },
            "colorscale": [
             [
              0,
              "#0d0887"
             ],
             [
              0.1111111111111111,
              "#46039f"
             ],
             [
              0.2222222222222222,
              "#7201a8"
             ],
             [
              0.3333333333333333,
              "#9c179e"
             ],
             [
              0.4444444444444444,
              "#bd3786"
             ],
             [
              0.5555555555555556,
              "#d8576b"
             ],
             [
              0.6666666666666666,
              "#ed7953"
             ],
             [
              0.7777777777777778,
              "#fb9f3a"
             ],
             [
              0.8888888888888888,
              "#fdca26"
             ],
             [
              1,
              "#f0f921"
             ]
            ],
            "type": "histogram2d"
           }
          ],
          "histogram2dcontour": [
           {
            "colorbar": {
             "outlinewidth": 0,
             "ticks": ""
            },
            "colorscale": [
             [
              0,
              "#0d0887"
             ],
             [
              0.1111111111111111,
              "#46039f"
             ],
             [
              0.2222222222222222,
              "#7201a8"
             ],
             [
              0.3333333333333333,
              "#9c179e"
             ],
             [
              0.4444444444444444,
              "#bd3786"
             ],
             [
              0.5555555555555556,
              "#d8576b"
             ],
             [
              0.6666666666666666,
              "#ed7953"
             ],
             [
              0.7777777777777778,
              "#fb9f3a"
             ],
             [
              0.8888888888888888,
              "#fdca26"
             ],
             [
              1,
              "#f0f921"
             ]
            ],
            "type": "histogram2dcontour"
           }
          ],
          "mesh3d": [
           {
            "colorbar": {
             "outlinewidth": 0,
             "ticks": ""
            },
            "type": "mesh3d"
           }
          ],
          "parcoords": [
           {
            "line": {
             "colorbar": {
              "outlinewidth": 0,
              "ticks": ""
             }
            },
            "type": "parcoords"
           }
          ],
          "pie": [
           {
            "automargin": true,
            "type": "pie"
           }
          ],
          "scatter": [
           {
            "marker": {
             "colorbar": {
              "outlinewidth": 0,
              "ticks": ""
             }
            },
            "type": "scatter"
           }
          ],
          "scatter3d": [
           {
            "line": {
             "colorbar": {
              "outlinewidth": 0,
              "ticks": ""
             }
            },
            "marker": {
             "colorbar": {
              "outlinewidth": 0,
              "ticks": ""
             }
            },
            "type": "scatter3d"
           }
          ],
          "scattercarpet": [
           {
            "marker": {
             "colorbar": {
              "outlinewidth": 0,
              "ticks": ""
             }
            },
            "type": "scattercarpet"
           }
          ],
          "scattergeo": [
           {
            "marker": {
             "colorbar": {
              "outlinewidth": 0,
              "ticks": ""
             }
            },
            "type": "scattergeo"
           }
          ],
          "scattergl": [
           {
            "marker": {
             "colorbar": {
              "outlinewidth": 0,
              "ticks": ""
             }
            },
            "type": "scattergl"
           }
          ],
          "scattermapbox": [
           {
            "marker": {
             "colorbar": {
              "outlinewidth": 0,
              "ticks": ""
             }
            },
            "type": "scattermapbox"
           }
          ],
          "scatterpolar": [
           {
            "marker": {
             "colorbar": {
              "outlinewidth": 0,
              "ticks": ""
             }
            },
            "type": "scatterpolar"
           }
          ],
          "scatterpolargl": [
           {
            "marker": {
             "colorbar": {
              "outlinewidth": 0,
              "ticks": ""
             }
            },
            "type": "scatterpolargl"
           }
          ],
          "scatterternary": [
           {
            "marker": {
             "colorbar": {
              "outlinewidth": 0,
              "ticks": ""
             }
            },
            "type": "scatterternary"
           }
          ],
          "surface": [
           {
            "colorbar": {
             "outlinewidth": 0,
             "ticks": ""
            },
            "colorscale": [
             [
              0,
              "#0d0887"
             ],
             [
              0.1111111111111111,
              "#46039f"
             ],
             [
              0.2222222222222222,
              "#7201a8"
             ],
             [
              0.3333333333333333,
              "#9c179e"
             ],
             [
              0.4444444444444444,
              "#bd3786"
             ],
             [
              0.5555555555555556,
              "#d8576b"
             ],
             [
              0.6666666666666666,
              "#ed7953"
             ],
             [
              0.7777777777777778,
              "#fb9f3a"
             ],
             [
              0.8888888888888888,
              "#fdca26"
             ],
             [
              1,
              "#f0f921"
             ]
            ],
            "type": "surface"
           }
          ],
          "table": [
           {
            "cells": {
             "fill": {
              "color": "#EBF0F8"
             },
             "line": {
              "color": "white"
             }
            },
            "header": {
             "fill": {
              "color": "#C8D4E3"
             },
             "line": {
              "color": "white"
             }
            },
            "type": "table"
           }
          ]
         },
         "layout": {
          "annotationdefaults": {
           "arrowcolor": "#2a3f5f",
           "arrowhead": 0,
           "arrowwidth": 1
          },
          "coloraxis": {
           "colorbar": {
            "outlinewidth": 0,
            "ticks": ""
           }
          },
          "colorscale": {
           "diverging": [
            [
             0,
             "#8e0152"
            ],
            [
             0.1,
             "#c51b7d"
            ],
            [
             0.2,
             "#de77ae"
            ],
            [
             0.3,
             "#f1b6da"
            ],
            [
             0.4,
             "#fde0ef"
            ],
            [
             0.5,
             "#f7f7f7"
            ],
            [
             0.6,
             "#e6f5d0"
            ],
            [
             0.7,
             "#b8e186"
            ],
            [
             0.8,
             "#7fbc41"
            ],
            [
             0.9,
             "#4d9221"
            ],
            [
             1,
             "#276419"
            ]
           ],
           "sequential": [
            [
             0,
             "#0d0887"
            ],
            [
             0.1111111111111111,
             "#46039f"
            ],
            [
             0.2222222222222222,
             "#7201a8"
            ],
            [
             0.3333333333333333,
             "#9c179e"
            ],
            [
             0.4444444444444444,
             "#bd3786"
            ],
            [
             0.5555555555555556,
             "#d8576b"
            ],
            [
             0.6666666666666666,
             "#ed7953"
            ],
            [
             0.7777777777777778,
             "#fb9f3a"
            ],
            [
             0.8888888888888888,
             "#fdca26"
            ],
            [
             1,
             "#f0f921"
            ]
           ],
           "sequentialminus": [
            [
             0,
             "#0d0887"
            ],
            [
             0.1111111111111111,
             "#46039f"
            ],
            [
             0.2222222222222222,
             "#7201a8"
            ],
            [
             0.3333333333333333,
             "#9c179e"
            ],
            [
             0.4444444444444444,
             "#bd3786"
            ],
            [
             0.5555555555555556,
             "#d8576b"
            ],
            [
             0.6666666666666666,
             "#ed7953"
            ],
            [
             0.7777777777777778,
             "#fb9f3a"
            ],
            [
             0.8888888888888888,
             "#fdca26"
            ],
            [
             1,
             "#f0f921"
            ]
           ]
          },
          "colorway": [
           "#636efa",
           "#EF553B",
           "#00cc96",
           "#ab63fa",
           "#FFA15A",
           "#19d3f3",
           "#FF6692",
           "#B6E880",
           "#FF97FF",
           "#FECB52"
          ],
          "font": {
           "color": "#2a3f5f"
          },
          "geo": {
           "bgcolor": "white",
           "lakecolor": "white",
           "landcolor": "#E5ECF6",
           "showlakes": true,
           "showland": true,
           "subunitcolor": "white"
          },
          "hoverlabel": {
           "align": "left"
          },
          "hovermode": "closest",
          "mapbox": {
           "style": "light"
          },
          "paper_bgcolor": "white",
          "plot_bgcolor": "#E5ECF6",
          "polar": {
           "angularaxis": {
            "gridcolor": "white",
            "linecolor": "white",
            "ticks": ""
           },
           "bgcolor": "#E5ECF6",
           "radialaxis": {
            "gridcolor": "white",
            "linecolor": "white",
            "ticks": ""
           }
          },
          "scene": {
           "xaxis": {
            "backgroundcolor": "#E5ECF6",
            "gridcolor": "white",
            "gridwidth": 2,
            "linecolor": "white",
            "showbackground": true,
            "ticks": "",
            "zerolinecolor": "white"
           },
           "yaxis": {
            "backgroundcolor": "#E5ECF6",
            "gridcolor": "white",
            "gridwidth": 2,
            "linecolor": "white",
            "showbackground": true,
            "ticks": "",
            "zerolinecolor": "white"
           },
           "zaxis": {
            "backgroundcolor": "#E5ECF6",
            "gridcolor": "white",
            "gridwidth": 2,
            "linecolor": "white",
            "showbackground": true,
            "ticks": "",
            "zerolinecolor": "white"
           }
          },
          "shapedefaults": {
           "line": {
            "color": "#2a3f5f"
           }
          },
          "ternary": {
           "aaxis": {
            "gridcolor": "white",
            "linecolor": "white",
            "ticks": ""
           },
           "baxis": {
            "gridcolor": "white",
            "linecolor": "white",
            "ticks": ""
           },
           "bgcolor": "#E5ECF6",
           "caxis": {
            "gridcolor": "white",
            "linecolor": "white",
            "ticks": ""
           }
          },
          "title": {
           "x": 0.05
          },
          "xaxis": {
           "automargin": true,
           "gridcolor": "white",
           "linecolor": "white",
           "ticks": "",
           "title": {
            "standoff": 15
           },
           "zerolinecolor": "white",
           "zerolinewidth": 2
          },
          "yaxis": {
           "automargin": true,
           "gridcolor": "white",
           "linecolor": "white",
           "ticks": "",
           "title": {
            "standoff": 15
           },
           "zerolinecolor": "white",
           "zerolinewidth": 2
          }
         }
        },
        "title": {
         "text": "Portfolio Value"
        },
        "xaxis": {
         "anchor": "y",
         "domain": [
          0,
          1
         ],
         "rangeselector": {
          "buttons": [
           {
            "count": 1,
            "label": "1m",
            "step": "month",
            "stepmode": "backward"
           },
           {
            "count": 6,
            "label": "6m",
            "step": "month",
            "stepmode": "backward"
           },
           {
            "count": 1,
            "label": "YTD",
            "step": "year",
            "stepmode": "todate"
           },
           {
            "count": 1,
            "label": "1y",
            "step": "year",
            "stepmode": "backward"
           },
           {
            "step": "all"
           }
          ]
         },
         "rangeslider": {
          "visible": true
         },
         "title": {
          "text": "date"
         }
        },
        "yaxis": {
         "anchor": "x",
         "domain": [
          0,
          1
         ],
         "range": [
          -4.75,
          16.09
         ],
         "title": {
          "text": "total_pct_gain"
         }
        }
       }
      },
      "text/html": [
       "<div>\n",
       "        \n",
       "        \n",
       "            <div id=\"eca299a3-c94d-469f-8993-d2197ab7b48b\" class=\"plotly-graph-div\" style=\"height:525px; width:100%;\"></div>\n",
       "            <script type=\"text/javascript\">\n",
       "                require([\"plotly\"], function(Plotly) {\n",
       "                    window.PLOTLYENV=window.PLOTLYENV || {};\n",
       "                    \n",
       "                if (document.getElementById(\"eca299a3-c94d-469f-8993-d2197ab7b48b\")) {\n",
       "                    Plotly.newPlot(\n",
       "                        'eca299a3-c94d-469f-8993-d2197ab7b48b',\n",
       "                        [{\"customdata\": [[679.61, 647.31, -32.3, -4.75, 0.0, 0.0, -32.3, -4.75], [679.61, 680.86, 1.25, 0.18, 0.0, 0.0, 1.25, 0.18], [679.61, 666.25, -13.36, -1.97, 0.0, 0.0, -13.36, -1.97], [6219.37, 6281.6, 62.23, 1.0, 0.0, 0.0, 62.23, 1.0], [6219.37, 6408.28, 188.91, 3.04, 0.0, 0.0, 188.91, 3.04], [50277.33, 50013.61, -263.75, -0.52, 0.0, 0.0, -263.75, -0.52], [50277.33, 48208.47, -2068.86, -4.11, 0.0, 0.0, -2068.86, -4.11], [50277.33, 49926.02, -351.32, -0.7, 0.0, 0.0, -351.32, -0.7], [50277.33, 49615.47, -661.87, -1.32, 0.0, 0.0, -661.87, -1.32], [50277.33, 50478.17, 200.84, 0.4, 0.0, 0.0, 200.84, 0.4], [50277.33, 52090.32, 1812.99, 3.61, 0.0, 0.0, 1812.99, 3.61], [50277.33, 51241.7, 964.37, 1.92, 0.0, 0.0, 964.37, 1.92], [50277.33, 53226.03, 2948.69, 5.86, 0.0, 0.0, 2948.69, 5.86], [50277.33, 52156.7, 1879.37, 3.74, 0.0, 0.0, 1879.37, 3.74], [50277.33, 50147.16, -130.18, -0.26, 0.0, 0.0, -130.18, -0.26], [50277.33, 51336.06, 1058.73, 2.11, 0.0, 0.0, 1058.73, 2.11], [50277.33, 52051.39, 1774.06, 3.53, 0.0, 0.0, 1774.06, 3.53], [50277.33, 52354.43, 2077.11, 4.13, 0.0, 0.0, 2077.11, 4.13], [50277.33, 53326.9, 3049.58, 6.07, 0.0, 0.0, 3049.58, 6.07], [50277.33, 54628.08, 4350.74, 8.65, 0.0, 0.0, 4350.74, 8.65], [50277.33, 55579.47, 5302.14, 10.55, 0.0, 0.0, 5302.14, 10.55], [50277.33, 54421.9, 4144.57, 8.24, 0.0, 0.0, 4144.57, 8.24], [59555.78, 62435.2, 2879.44, 4.83, 0.0, 0.0, 2879.44, 4.83], [59555.78, 62641.92, 3086.17, 5.18, 0.0, 0.0, 3086.17, 5.18], [59555.78, 63797.4, 4241.62, 7.12, 0.0, 0.0, 4241.62, 7.12], [59555.78, 65782.29, 6226.52, 10.45, 0.0, 0.0, 6226.52, 10.45], [59555.78, 65650.35, 6094.58, 10.23, 0.0, 0.0, 6094.58, 10.23], [59555.78, 67456.8, 7901.05, 13.27, 0.0, 0.0, 7901.05, 13.27], [59555.78, 67136.98, 7581.23, 12.73, 0.0, 0.0, 7581.23, 12.73], [59555.78, 67908.71, 8352.95, 14.03, 0.0, 0.0, 8352.95, 14.03], [64513.82, 72794.78, 8280.95, 12.84, 0.0, 0.0, 8280.95, 12.84], [64513.82, 72363.21, 7849.41, 12.17, 0.0, 0.0, 7849.41, 12.17], [64513.82, 71601.57, 7087.75, 10.99, 0.0, 0.0, 7087.75, 10.99], [64513.82, 72911.19, 8397.38, 13.02, 0.0, 0.0, 8397.38, 13.02], [64513.82, 74250.72, 9736.91, 15.09, 0.0, 0.0, 9736.91, 15.09], [64513.82, 74091.4, 9577.58, 14.85, 0.0, 0.0, 9577.58, 14.85]], \"hovertemplate\": \"date=%{x}<br>total_pct_gain=%{customdata[7]}<br>invested_amount=%{customdata[0]}<br>market_value=%{customdata[1]}<br>unrealized_gain=%{customdata[2]}<br>unrealized_pct_gain=%{customdata[3]}<br>realized_gain=%{customdata[4]}<br>realized_pct_gain=%{customdata[5]}<br>total_gain=%{customdata[6]}<extra></extra>\", \"legendgroup\": \"\", \"line\": {\"color\": \"#636efa\", \"dash\": \"solid\"}, \"mode\": \"lines\", \"name\": \"\", \"showlegend\": false, \"type\": \"scatter\", \"x\": [\"2020-04-13T00:00:00\", \"2020-04-14T00:00:00\", \"2020-04-15T00:00:00\", \"2020-04-16T00:00:00\", \"2020-04-17T00:00:00\", \"2020-04-20T00:00:00\", \"2020-04-21T00:00:00\", \"2020-04-22T00:00:00\", \"2020-04-23T00:00:00\", \"2020-04-24T00:00:00\", \"2020-04-27T00:00:00\", \"2020-04-28T00:00:00\", \"2020-04-29T00:00:00\", \"2020-04-30T00:00:00\", \"2020-05-01T00:00:00\", \"2020-05-04T00:00:00\", \"2020-05-05T00:00:00\", \"2020-05-06T00:00:00\", \"2020-05-07T00:00:00\", \"2020-05-08T00:00:00\", \"2020-05-11T00:00:00\", \"2020-05-12T00:00:00\", \"2020-05-13T00:00:00\", \"2020-05-14T00:00:00\", \"2020-05-15T00:00:00\", \"2020-05-18T00:00:00\", \"2020-05-19T00:00:00\", \"2020-05-20T00:00:00\", \"2020-05-21T00:00:00\", \"2020-05-22T00:00:00\", \"2020-05-26T00:00:00\", \"2020-05-27T00:00:00\", \"2020-05-28T00:00:00\", \"2020-05-29T00:00:00\", \"2020-06-01T00:00:00\", \"2020-06-02T15:02:47\"], \"xaxis\": \"x\", \"y\": [-4.75, 0.18, -1.97, 1.0, 3.04, -0.52, -4.11, -0.7, -1.32, 0.4, 3.61, 1.92, 5.86, 3.74, -0.26, 2.11, 3.53, 4.13, 6.07, 8.65, 10.55, 8.24, 4.83, 5.18, 7.12, 10.45, 10.23, 13.27, 12.73, 14.03, 12.84, 12.17, 10.99, 13.02, 15.09, 14.85], \"yaxis\": \"y\"}],\n",
       "                        {\"legend\": {\"tracegroupgap\": 0}, \"shapes\": [{\"fillcolor\": \"Red\", \"opacity\": 0.2, \"type\": \"rect\", \"x0\": \"2020-04-13T00:00:00+00:00\", \"x1\": \"2020-06-02T15:02:47+00:00\", \"xref\": \"x\", \"y0\": -4.75, \"y1\": 0, \"yref\": \"y\"}], \"template\": {\"data\": {\"bar\": [{\"error_x\": {\"color\": \"#2a3f5f\"}, \"error_y\": {\"color\": \"#2a3f5f\"}, \"marker\": {\"line\": {\"color\": \"#E5ECF6\", \"width\": 0.5}}, \"type\": \"bar\"}], \"barpolar\": [{\"marker\": {\"line\": {\"color\": \"#E5ECF6\", \"width\": 0.5}}, \"type\": \"barpolar\"}], \"carpet\": [{\"aaxis\": {\"endlinecolor\": \"#2a3f5f\", \"gridcolor\": \"white\", \"linecolor\": \"white\", \"minorgridcolor\": \"white\", \"startlinecolor\": \"#2a3f5f\"}, \"baxis\": {\"endlinecolor\": \"#2a3f5f\", \"gridcolor\": \"white\", \"linecolor\": \"white\", \"minorgridcolor\": \"white\", \"startlinecolor\": \"#2a3f5f\"}, \"type\": \"carpet\"}], \"choropleth\": [{\"colorbar\": {\"outlinewidth\": 0, \"ticks\": \"\"}, \"type\": \"choropleth\"}], \"contour\": [{\"colorbar\": {\"outlinewidth\": 0, \"ticks\": \"\"}, \"colorscale\": [[0.0, \"#0d0887\"], [0.1111111111111111, \"#46039f\"], [0.2222222222222222, \"#7201a8\"], [0.3333333333333333, \"#9c179e\"], [0.4444444444444444, \"#bd3786\"], [0.5555555555555556, \"#d8576b\"], [0.6666666666666666, \"#ed7953\"], [0.7777777777777778, \"#fb9f3a\"], [0.8888888888888888, \"#fdca26\"], [1.0, \"#f0f921\"]], \"type\": \"contour\"}], \"contourcarpet\": [{\"colorbar\": {\"outlinewidth\": 0, \"ticks\": \"\"}, \"type\": \"contourcarpet\"}], \"heatmap\": [{\"colorbar\": {\"outlinewidth\": 0, \"ticks\": \"\"}, \"colorscale\": [[0.0, \"#0d0887\"], [0.1111111111111111, \"#46039f\"], [0.2222222222222222, \"#7201a8\"], [0.3333333333333333, \"#9c179e\"], [0.4444444444444444, \"#bd3786\"], [0.5555555555555556, \"#d8576b\"], [0.6666666666666666, \"#ed7953\"], [0.7777777777777778, \"#fb9f3a\"], [0.8888888888888888, \"#fdca26\"], [1.0, \"#f0f921\"]], \"type\": \"heatmap\"}], \"heatmapgl\": [{\"colorbar\": {\"outlinewidth\": 0, \"ticks\": \"\"}, \"colorscale\": [[0.0, \"#0d0887\"], [0.1111111111111111, \"#46039f\"], [0.2222222222222222, \"#7201a8\"], [0.3333333333333333, \"#9c179e\"], [0.4444444444444444, \"#bd3786\"], [0.5555555555555556, \"#d8576b\"], [0.6666666666666666, \"#ed7953\"], [0.7777777777777778, \"#fb9f3a\"], [0.8888888888888888, \"#fdca26\"], [1.0, \"#f0f921\"]], \"type\": \"heatmapgl\"}], \"histogram\": [{\"marker\": {\"colorbar\": {\"outlinewidth\": 0, \"ticks\": \"\"}}, \"type\": \"histogram\"}], \"histogram2d\": [{\"colorbar\": {\"outlinewidth\": 0, \"ticks\": \"\"}, \"colorscale\": [[0.0, \"#0d0887\"], [0.1111111111111111, \"#46039f\"], [0.2222222222222222, \"#7201a8\"], [0.3333333333333333, \"#9c179e\"], [0.4444444444444444, \"#bd3786\"], [0.5555555555555556, \"#d8576b\"], [0.6666666666666666, \"#ed7953\"], [0.7777777777777778, \"#fb9f3a\"], [0.8888888888888888, \"#fdca26\"], [1.0, \"#f0f921\"]], \"type\": \"histogram2d\"}], \"histogram2dcontour\": [{\"colorbar\": {\"outlinewidth\": 0, \"ticks\": \"\"}, \"colorscale\": [[0.0, \"#0d0887\"], [0.1111111111111111, \"#46039f\"], [0.2222222222222222, \"#7201a8\"], [0.3333333333333333, \"#9c179e\"], [0.4444444444444444, \"#bd3786\"], [0.5555555555555556, \"#d8576b\"], [0.6666666666666666, \"#ed7953\"], [0.7777777777777778, \"#fb9f3a\"], [0.8888888888888888, \"#fdca26\"], [1.0, \"#f0f921\"]], \"type\": \"histogram2dcontour\"}], \"mesh3d\": [{\"colorbar\": {\"outlinewidth\": 0, \"ticks\": \"\"}, \"type\": \"mesh3d\"}], \"parcoords\": [{\"line\": {\"colorbar\": {\"outlinewidth\": 0, \"ticks\": \"\"}}, \"type\": \"parcoords\"}], \"pie\": [{\"automargin\": true, \"type\": \"pie\"}], \"scatter\": [{\"marker\": {\"colorbar\": {\"outlinewidth\": 0, \"ticks\": \"\"}}, \"type\": \"scatter\"}], \"scatter3d\": [{\"line\": {\"colorbar\": {\"outlinewidth\": 0, \"ticks\": \"\"}}, \"marker\": {\"colorbar\": {\"outlinewidth\": 0, \"ticks\": \"\"}}, \"type\": \"scatter3d\"}], \"scattercarpet\": [{\"marker\": {\"colorbar\": {\"outlinewidth\": 0, \"ticks\": \"\"}}, \"type\": \"scattercarpet\"}], \"scattergeo\": [{\"marker\": {\"colorbar\": {\"outlinewidth\": 0, \"ticks\": \"\"}}, \"type\": \"scattergeo\"}], \"scattergl\": [{\"marker\": {\"colorbar\": {\"outlinewidth\": 0, \"ticks\": \"\"}}, \"type\": \"scattergl\"}], \"scattermapbox\": [{\"marker\": {\"colorbar\": {\"outlinewidth\": 0, \"ticks\": \"\"}}, \"type\": \"scattermapbox\"}], \"scatterpolar\": [{\"marker\": {\"colorbar\": {\"outlinewidth\": 0, \"ticks\": \"\"}}, \"type\": \"scatterpolar\"}], \"scatterpolargl\": [{\"marker\": {\"colorbar\": {\"outlinewidth\": 0, \"ticks\": \"\"}}, \"type\": \"scatterpolargl\"}], \"scatterternary\": [{\"marker\": {\"colorbar\": {\"outlinewidth\": 0, \"ticks\": \"\"}}, \"type\": \"scatterternary\"}], \"surface\": [{\"colorbar\": {\"outlinewidth\": 0, \"ticks\": \"\"}, \"colorscale\": [[0.0, \"#0d0887\"], [0.1111111111111111, \"#46039f\"], [0.2222222222222222, \"#7201a8\"], [0.3333333333333333, \"#9c179e\"], [0.4444444444444444, \"#bd3786\"], [0.5555555555555556, \"#d8576b\"], [0.6666666666666666, \"#ed7953\"], [0.7777777777777778, \"#fb9f3a\"], [0.8888888888888888, \"#fdca26\"], [1.0, \"#f0f921\"]], \"type\": \"surface\"}], \"table\": [{\"cells\": {\"fill\": {\"color\": \"#EBF0F8\"}, \"line\": {\"color\": \"white\"}}, \"header\": {\"fill\": {\"color\": \"#C8D4E3\"}, \"line\": {\"color\": \"white\"}}, \"type\": \"table\"}]}, \"layout\": {\"annotationdefaults\": {\"arrowcolor\": \"#2a3f5f\", \"arrowhead\": 0, \"arrowwidth\": 1}, \"coloraxis\": {\"colorbar\": {\"outlinewidth\": 0, \"ticks\": \"\"}}, \"colorscale\": {\"diverging\": [[0, \"#8e0152\"], [0.1, \"#c51b7d\"], [0.2, \"#de77ae\"], [0.3, \"#f1b6da\"], [0.4, \"#fde0ef\"], [0.5, \"#f7f7f7\"], [0.6, \"#e6f5d0\"], [0.7, \"#b8e186\"], [0.8, \"#7fbc41\"], [0.9, \"#4d9221\"], [1, \"#276419\"]], \"sequential\": [[0.0, \"#0d0887\"], [0.1111111111111111, \"#46039f\"], [0.2222222222222222, \"#7201a8\"], [0.3333333333333333, \"#9c179e\"], [0.4444444444444444, \"#bd3786\"], [0.5555555555555556, \"#d8576b\"], [0.6666666666666666, \"#ed7953\"], [0.7777777777777778, \"#fb9f3a\"], [0.8888888888888888, \"#fdca26\"], [1.0, \"#f0f921\"]], \"sequentialminus\": [[0.0, \"#0d0887\"], [0.1111111111111111, \"#46039f\"], [0.2222222222222222, \"#7201a8\"], [0.3333333333333333, \"#9c179e\"], [0.4444444444444444, \"#bd3786\"], [0.5555555555555556, \"#d8576b\"], [0.6666666666666666, \"#ed7953\"], [0.7777777777777778, \"#fb9f3a\"], [0.8888888888888888, \"#fdca26\"], [1.0, \"#f0f921\"]]}, \"colorway\": [\"#636efa\", \"#EF553B\", \"#00cc96\", \"#ab63fa\", \"#FFA15A\", \"#19d3f3\", \"#FF6692\", \"#B6E880\", \"#FF97FF\", \"#FECB52\"], \"font\": {\"color\": \"#2a3f5f\"}, \"geo\": {\"bgcolor\": \"white\", \"lakecolor\": \"white\", \"landcolor\": \"#E5ECF6\", \"showlakes\": true, \"showland\": true, \"subunitcolor\": \"white\"}, \"hoverlabel\": {\"align\": \"left\"}, \"hovermode\": \"closest\", \"mapbox\": {\"style\": \"light\"}, \"paper_bgcolor\": \"white\", \"plot_bgcolor\": \"#E5ECF6\", \"polar\": {\"angularaxis\": {\"gridcolor\": \"white\", \"linecolor\": \"white\", \"ticks\": \"\"}, \"bgcolor\": \"#E5ECF6\", \"radialaxis\": {\"gridcolor\": \"white\", \"linecolor\": \"white\", \"ticks\": \"\"}}, \"scene\": {\"xaxis\": {\"backgroundcolor\": \"#E5ECF6\", \"gridcolor\": \"white\", \"gridwidth\": 2, \"linecolor\": \"white\", \"showbackground\": true, \"ticks\": \"\", \"zerolinecolor\": \"white\"}, \"yaxis\": {\"backgroundcolor\": \"#E5ECF6\", \"gridcolor\": \"white\", \"gridwidth\": 2, \"linecolor\": \"white\", \"showbackground\": true, \"ticks\": \"\", \"zerolinecolor\": \"white\"}, \"zaxis\": {\"backgroundcolor\": \"#E5ECF6\", \"gridcolor\": \"white\", \"gridwidth\": 2, \"linecolor\": \"white\", \"showbackground\": true, \"ticks\": \"\", \"zerolinecolor\": \"white\"}}, \"shapedefaults\": {\"line\": {\"color\": \"#2a3f5f\"}}, \"ternary\": {\"aaxis\": {\"gridcolor\": \"white\", \"linecolor\": \"white\", \"ticks\": \"\"}, \"baxis\": {\"gridcolor\": \"white\", \"linecolor\": \"white\", \"ticks\": \"\"}, \"bgcolor\": \"#E5ECF6\", \"caxis\": {\"gridcolor\": \"white\", \"linecolor\": \"white\", \"ticks\": \"\"}}, \"title\": {\"x\": 0.05}, \"xaxis\": {\"automargin\": true, \"gridcolor\": \"white\", \"linecolor\": \"white\", \"ticks\": \"\", \"title\": {\"standoff\": 15}, \"zerolinecolor\": \"white\", \"zerolinewidth\": 2}, \"yaxis\": {\"automargin\": true, \"gridcolor\": \"white\", \"linecolor\": \"white\", \"ticks\": \"\", \"title\": {\"standoff\": 15}, \"zerolinecolor\": \"white\", \"zerolinewidth\": 2}}}, \"title\": {\"text\": \"Portfolio Value\"}, \"xaxis\": {\"anchor\": \"y\", \"domain\": [0.0, 1.0], \"rangeselector\": {\"buttons\": [{\"count\": 1, \"label\": \"1m\", \"step\": \"month\", \"stepmode\": \"backward\"}, {\"count\": 6, \"label\": \"6m\", \"step\": \"month\", \"stepmode\": \"backward\"}, {\"count\": 1, \"label\": \"YTD\", \"step\": \"year\", \"stepmode\": \"todate\"}, {\"count\": 1, \"label\": \"1y\", \"step\": \"year\", \"stepmode\": \"backward\"}, {\"step\": \"all\"}]}, \"rangeslider\": {\"visible\": true}, \"title\": {\"text\": \"date\"}}, \"yaxis\": {\"anchor\": \"x\", \"domain\": [0.0, 1.0], \"range\": [-4.75, 16.09], \"title\": {\"text\": \"total_pct_gain\"}}},\n",
       "                        {\"responsive\": true}\n",
       "                    ).then(function(){\n",
       "                            \n",
       "var gd = document.getElementById('eca299a3-c94d-469f-8993-d2197ab7b48b');\n",
       "var x = new MutationObserver(function (mutations, observer) {{\n",
       "        var display = window.getComputedStyle(gd).display;\n",
       "        if (!display || display === 'none') {{\n",
       "            console.log([gd, 'removed!']);\n",
       "            Plotly.purge(gd);\n",
       "            observer.disconnect();\n",
       "        }}\n",
       "}});\n",
       "\n",
       "// Listen for the removal of the full notebook cells\n",
       "var notebookContainer = gd.closest('#notebook-container');\n",
       "if (notebookContainer) {{\n",
       "    x.observe(notebookContainer, {childList: true});\n",
       "}}\n",
       "\n",
       "// Listen for the clearing of the current output cell\n",
       "var outputEl = gd.closest('.output');\n",
       "if (outputEl) {{\n",
       "    x.observe(outputEl, {childList: true});\n",
       "}}\n",
       "\n",
       "                        })\n",
       "                };\n",
       "                });\n",
       "            </script>\n",
       "        </div>"
      ]
     },
     "metadata": {},
     "output_type": "display_data"
    }
   ],
   "source": [
    "min_value = portfolio_aggregated_stats['total_pct_gain'].min()\n",
    "max_value = portfolio_aggregated_stats['total_pct_gain'].max()\n",
    "\n",
    "fig = px.line(portfolio_aggregated_stats, \n",
    "              x='date', y=\"total_pct_gain\", \n",
    "              hover_data=['invested_amount', 'market_value', 'unrealized_gain', \n",
    "                          'unrealized_pct_gain', 'realized_gain', 'realized_pct_gain', \n",
    "                          'total_gain', 'total_pct_gain'],\n",
    "              range_y=[min_value, max_value+1],\n",
    "              title='Portfolio Value')\n",
    "fig.update_xaxes(\n",
    "    rangeslider_visible=True,\n",
    "    rangeselector=dict(\n",
    "        buttons=list([\n",
    "            dict(count=1, label=\"1m\", step=\"month\", stepmode=\"backward\"),\n",
    "            dict(count=6, label=\"6m\", step=\"month\", stepmode=\"backward\"),\n",
    "            dict(count=1, label=\"YTD\", step=\"year\", stepmode=\"todate\"),\n",
    "            dict(count=1, label=\"1y\", step=\"year\", stepmode=\"backward\"),\n",
    "            dict(step=\"all\")\n",
    "        ])\n",
    "    )\n",
    ")\n",
    "fig.add_shape(\n",
    "        # Rectangle reference to the axes\n",
    "            type=\"rect\",\n",
    "            xref=\"x\",\n",
    "            yref=\"y\",\n",
    "            x0=first_date,\n",
    "            y0=min_value,\n",
    "            x1=last_date,\n",
    "            y1=0,\n",
    "            opacity=0.2,\n",
    "            fillcolor=\"Red\",\n",
    "        )\n",
    "fig.write_image(\"images/portfolio_value.pdf\")\n",
    "fig.show()"
   ]
  },
  {
   "cell_type": "code",
   "execution_count": 18,
   "metadata": {},
   "outputs": [
    {
     "data": {
      "application/vnd.plotly.v1+json": {
       "config": {
        "plotlyServerURL": "https://plot.ly"
       },
       "data": [
        {
         "customdata": [
          [
           679.61,
           647.31,
           -32.3,
           -4.75,
           0,
           0,
           -32.3,
           -4.75
          ],
          [
           679.61,
           680.86,
           1.25,
           0.18,
           0,
           0,
           1.25,
           0.18
          ],
          [
           679.61,
           666.25,
           -13.36,
           -1.97,
           0,
           0,
           -13.36,
           -1.97
          ]
         ],
         "hovertemplate": "invested_amount=%{customdata[0]}<br>date=%{x}<br>total_pct_gain=%{customdata[7]}<br>market_value=%{customdata[1]}<br>unrealized_gain=%{customdata[2]}<br>unrealized_pct_gain=%{customdata[3]}<br>realized_gain=%{customdata[4]}<br>realized_pct_gain=%{customdata[5]}<br>total_gain=%{customdata[6]}<extra></extra>",
         "legendgroup": "679.61",
         "line": {
          "color": "#636efa",
          "dash": "solid"
         },
         "mode": "lines",
         "name": "679.61",
         "showlegend": true,
         "type": "scatter",
         "x": [
          "2020-04-13T00:00:00",
          "2020-04-14T00:00:00",
          "2020-04-15T00:00:00"
         ],
         "xaxis": "x",
         "y": [
          -4.75,
          0.18,
          -1.97
         ],
         "yaxis": "y"
        },
        {
         "customdata": [
          [
           6219.37,
           6281.6,
           62.23,
           1,
           0,
           0,
           62.23,
           1
          ],
          [
           6219.37,
           6408.28,
           188.91,
           3.04,
           0,
           0,
           188.91,
           3.04
          ]
         ],
         "hovertemplate": "invested_amount=%{customdata[0]}<br>date=%{x}<br>total_pct_gain=%{customdata[7]}<br>market_value=%{customdata[1]}<br>unrealized_gain=%{customdata[2]}<br>unrealized_pct_gain=%{customdata[3]}<br>realized_gain=%{customdata[4]}<br>realized_pct_gain=%{customdata[5]}<br>total_gain=%{customdata[6]}<extra></extra>",
         "legendgroup": "6219.37",
         "line": {
          "color": "#EF553B",
          "dash": "solid"
         },
         "mode": "lines",
         "name": "6219.37",
         "showlegend": true,
         "type": "scatter",
         "x": [
          "2020-04-16T00:00:00",
          "2020-04-17T00:00:00"
         ],
         "xaxis": "x",
         "y": [
          1,
          3.04
         ],
         "yaxis": "y"
        },
        {
         "customdata": [
          [
           50277.33,
           50013.61,
           -263.75,
           -0.52,
           0,
           0,
           -263.75,
           -0.52
          ],
          [
           50277.33,
           48208.47,
           -2068.86,
           -4.11,
           0,
           0,
           -2068.86,
           -4.11
          ],
          [
           50277.33,
           49926.02,
           -351.32,
           -0.7,
           0,
           0,
           -351.32,
           -0.7
          ],
          [
           50277.33,
           49615.47,
           -661.87,
           -1.32,
           0,
           0,
           -661.87,
           -1.32
          ],
          [
           50277.33,
           50478.17,
           200.84,
           0.4,
           0,
           0,
           200.84,
           0.4
          ],
          [
           50277.33,
           52090.32,
           1812.99,
           3.61,
           0,
           0,
           1812.99,
           3.61
          ],
          [
           50277.33,
           51241.7,
           964.37,
           1.92,
           0,
           0,
           964.37,
           1.92
          ],
          [
           50277.33,
           53226.03,
           2948.69,
           5.86,
           0,
           0,
           2948.69,
           5.86
          ],
          [
           50277.33,
           52156.7,
           1879.37,
           3.74,
           0,
           0,
           1879.37,
           3.74
          ],
          [
           50277.33,
           50147.16,
           -130.18,
           -0.26,
           0,
           0,
           -130.18,
           -0.26
          ],
          [
           50277.33,
           51336.06,
           1058.73,
           2.11,
           0,
           0,
           1058.73,
           2.11
          ],
          [
           50277.33,
           52051.39,
           1774.06,
           3.53,
           0,
           0,
           1774.06,
           3.53
          ],
          [
           50277.33,
           52354.43,
           2077.11,
           4.13,
           0,
           0,
           2077.11,
           4.13
          ],
          [
           50277.33,
           53326.9,
           3049.58,
           6.07,
           0,
           0,
           3049.58,
           6.07
          ],
          [
           50277.33,
           54628.08,
           4350.74,
           8.65,
           0,
           0,
           4350.74,
           8.65
          ],
          [
           50277.33,
           55579.47,
           5302.14,
           10.55,
           0,
           0,
           5302.14,
           10.55
          ],
          [
           50277.33,
           54421.9,
           4144.57,
           8.24,
           0,
           0,
           4144.57,
           8.24
          ]
         ],
         "hovertemplate": "invested_amount=%{customdata[0]}<br>date=%{x}<br>total_pct_gain=%{customdata[7]}<br>market_value=%{customdata[1]}<br>unrealized_gain=%{customdata[2]}<br>unrealized_pct_gain=%{customdata[3]}<br>realized_gain=%{customdata[4]}<br>realized_pct_gain=%{customdata[5]}<br>total_gain=%{customdata[6]}<extra></extra>",
         "legendgroup": "50277.33",
         "line": {
          "color": "#00cc96",
          "dash": "solid"
         },
         "mode": "lines",
         "name": "50277.33",
         "showlegend": true,
         "type": "scatter",
         "x": [
          "2020-04-20T00:00:00",
          "2020-04-21T00:00:00",
          "2020-04-22T00:00:00",
          "2020-04-23T00:00:00",
          "2020-04-24T00:00:00",
          "2020-04-27T00:00:00",
          "2020-04-28T00:00:00",
          "2020-04-29T00:00:00",
          "2020-04-30T00:00:00",
          "2020-05-01T00:00:00",
          "2020-05-04T00:00:00",
          "2020-05-05T00:00:00",
          "2020-05-06T00:00:00",
          "2020-05-07T00:00:00",
          "2020-05-08T00:00:00",
          "2020-05-11T00:00:00",
          "2020-05-12T00:00:00"
         ],
         "xaxis": "x",
         "y": [
          -0.52,
          -4.11,
          -0.7,
          -1.32,
          0.4,
          3.61,
          1.92,
          5.86,
          3.74,
          -0.26,
          2.11,
          3.53,
          4.13,
          6.07,
          8.65,
          10.55,
          8.24
         ],
         "yaxis": "y"
        },
        {
         "customdata": [
          [
           59555.78,
           62435.2,
           2879.44,
           4.83,
           0,
           0,
           2879.44,
           4.83
          ],
          [
           59555.78,
           62641.92,
           3086.17,
           5.18,
           0,
           0,
           3086.17,
           5.18
          ],
          [
           59555.78,
           63797.4,
           4241.62,
           7.12,
           0,
           0,
           4241.62,
           7.12
          ],
          [
           59555.78,
           65782.29,
           6226.52,
           10.45,
           0,
           0,
           6226.52,
           10.45
          ],
          [
           59555.78,
           65650.35,
           6094.58,
           10.23,
           0,
           0,
           6094.58,
           10.23
          ],
          [
           59555.78,
           67456.8,
           7901.05,
           13.27,
           0,
           0,
           7901.05,
           13.27
          ],
          [
           59555.78,
           67136.98,
           7581.23,
           12.73,
           0,
           0,
           7581.23,
           12.73
          ],
          [
           59555.78,
           67908.71,
           8352.95,
           14.03,
           0,
           0,
           8352.95,
           14.03
          ]
         ],
         "hovertemplate": "invested_amount=%{customdata[0]}<br>date=%{x}<br>total_pct_gain=%{customdata[7]}<br>market_value=%{customdata[1]}<br>unrealized_gain=%{customdata[2]}<br>unrealized_pct_gain=%{customdata[3]}<br>realized_gain=%{customdata[4]}<br>realized_pct_gain=%{customdata[5]}<br>total_gain=%{customdata[6]}<extra></extra>",
         "legendgroup": "59555.78",
         "line": {
          "color": "#ab63fa",
          "dash": "solid"
         },
         "mode": "lines",
         "name": "59555.78",
         "showlegend": true,
         "type": "scatter",
         "x": [
          "2020-05-13T00:00:00",
          "2020-05-14T00:00:00",
          "2020-05-15T00:00:00",
          "2020-05-18T00:00:00",
          "2020-05-19T00:00:00",
          "2020-05-20T00:00:00",
          "2020-05-21T00:00:00",
          "2020-05-22T00:00:00"
         ],
         "xaxis": "x",
         "y": [
          4.83,
          5.18,
          7.12,
          10.45,
          10.23,
          13.27,
          12.73,
          14.03
         ],
         "yaxis": "y"
        },
        {
         "customdata": [
          [
           64513.82,
           72794.78,
           8280.95,
           12.84,
           0,
           0,
           8280.95,
           12.84
          ],
          [
           64513.82,
           72363.21,
           7849.41,
           12.17,
           0,
           0,
           7849.41,
           12.17
          ],
          [
           64513.82,
           71601.57,
           7087.75,
           10.99,
           0,
           0,
           7087.75,
           10.99
          ],
          [
           64513.82,
           72911.19,
           8397.38,
           13.02,
           0,
           0,
           8397.38,
           13.02
          ],
          [
           64513.82,
           74250.72,
           9736.91,
           15.09,
           0,
           0,
           9736.91,
           15.09
          ],
          [
           64513.82,
           74091.4,
           9577.58,
           14.85,
           0,
           0,
           9577.58,
           14.85
          ]
         ],
         "hovertemplate": "invested_amount=%{customdata[0]}<br>date=%{x}<br>total_pct_gain=%{customdata[7]}<br>market_value=%{customdata[1]}<br>unrealized_gain=%{customdata[2]}<br>unrealized_pct_gain=%{customdata[3]}<br>realized_gain=%{customdata[4]}<br>realized_pct_gain=%{customdata[5]}<br>total_gain=%{customdata[6]}<extra></extra>",
         "legendgroup": "64513.82",
         "line": {
          "color": "#FFA15A",
          "dash": "solid"
         },
         "mode": "lines",
         "name": "64513.82",
         "showlegend": true,
         "type": "scatter",
         "x": [
          "2020-05-26T00:00:00",
          "2020-05-27T00:00:00",
          "2020-05-28T00:00:00",
          "2020-05-29T00:00:00",
          "2020-06-01T00:00:00",
          "2020-06-02T15:02:47"
         ],
         "xaxis": "x",
         "y": [
          12.84,
          12.17,
          10.99,
          13.02,
          15.09,
          14.85
         ],
         "yaxis": "y"
        }
       ],
       "layout": {
        "legend": {
         "title": {
          "text": "invested_amount"
         },
         "tracegroupgap": 0
        },
        "shapes": [
         {
          "fillcolor": "Red",
          "opacity": 0.2,
          "type": "rect",
          "x0": "2020-04-13T00:00:00+00:00",
          "x1": "2020-06-02T15:02:47+00:00",
          "xref": "x",
          "y0": -4.75,
          "y1": 0,
          "yref": "y"
         }
        ],
        "template": {
         "data": {
          "bar": [
           {
            "error_x": {
             "color": "#2a3f5f"
            },
            "error_y": {
             "color": "#2a3f5f"
            },
            "marker": {
             "line": {
              "color": "#E5ECF6",
              "width": 0.5
             }
            },
            "type": "bar"
           }
          ],
          "barpolar": [
           {
            "marker": {
             "line": {
              "color": "#E5ECF6",
              "width": 0.5
             }
            },
            "type": "barpolar"
           }
          ],
          "carpet": [
           {
            "aaxis": {
             "endlinecolor": "#2a3f5f",
             "gridcolor": "white",
             "linecolor": "white",
             "minorgridcolor": "white",
             "startlinecolor": "#2a3f5f"
            },
            "baxis": {
             "endlinecolor": "#2a3f5f",
             "gridcolor": "white",
             "linecolor": "white",
             "minorgridcolor": "white",
             "startlinecolor": "#2a3f5f"
            },
            "type": "carpet"
           }
          ],
          "choropleth": [
           {
            "colorbar": {
             "outlinewidth": 0,
             "ticks": ""
            },
            "type": "choropleth"
           }
          ],
          "contour": [
           {
            "colorbar": {
             "outlinewidth": 0,
             "ticks": ""
            },
            "colorscale": [
             [
              0,
              "#0d0887"
             ],
             [
              0.1111111111111111,
              "#46039f"
             ],
             [
              0.2222222222222222,
              "#7201a8"
             ],
             [
              0.3333333333333333,
              "#9c179e"
             ],
             [
              0.4444444444444444,
              "#bd3786"
             ],
             [
              0.5555555555555556,
              "#d8576b"
             ],
             [
              0.6666666666666666,
              "#ed7953"
             ],
             [
              0.7777777777777778,
              "#fb9f3a"
             ],
             [
              0.8888888888888888,
              "#fdca26"
             ],
             [
              1,
              "#f0f921"
             ]
            ],
            "type": "contour"
           }
          ],
          "contourcarpet": [
           {
            "colorbar": {
             "outlinewidth": 0,
             "ticks": ""
            },
            "type": "contourcarpet"
           }
          ],
          "heatmap": [
           {
            "colorbar": {
             "outlinewidth": 0,
             "ticks": ""
            },
            "colorscale": [
             [
              0,
              "#0d0887"
             ],
             [
              0.1111111111111111,
              "#46039f"
             ],
             [
              0.2222222222222222,
              "#7201a8"
             ],
             [
              0.3333333333333333,
              "#9c179e"
             ],
             [
              0.4444444444444444,
              "#bd3786"
             ],
             [
              0.5555555555555556,
              "#d8576b"
             ],
             [
              0.6666666666666666,
              "#ed7953"
             ],
             [
              0.7777777777777778,
              "#fb9f3a"
             ],
             [
              0.8888888888888888,
              "#fdca26"
             ],
             [
              1,
              "#f0f921"
             ]
            ],
            "type": "heatmap"
           }
          ],
          "heatmapgl": [
           {
            "colorbar": {
             "outlinewidth": 0,
             "ticks": ""
            },
            "colorscale": [
             [
              0,
              "#0d0887"
             ],
             [
              0.1111111111111111,
              "#46039f"
             ],
             [
              0.2222222222222222,
              "#7201a8"
             ],
             [
              0.3333333333333333,
              "#9c179e"
             ],
             [
              0.4444444444444444,
              "#bd3786"
             ],
             [
              0.5555555555555556,
              "#d8576b"
             ],
             [
              0.6666666666666666,
              "#ed7953"
             ],
             [
              0.7777777777777778,
              "#fb9f3a"
             ],
             [
              0.8888888888888888,
              "#fdca26"
             ],
             [
              1,
              "#f0f921"
             ]
            ],
            "type": "heatmapgl"
           }
          ],
          "histogram": [
           {
            "marker": {
             "colorbar": {
              "outlinewidth": 0,
              "ticks": ""
             }
            },
            "type": "histogram"
           }
          ],
          "histogram2d": [
           {
            "colorbar": {
             "outlinewidth": 0,
             "ticks": ""
            },
            "colorscale": [
             [
              0,
              "#0d0887"
             ],
             [
              0.1111111111111111,
              "#46039f"
             ],
             [
              0.2222222222222222,
              "#7201a8"
             ],
             [
              0.3333333333333333,
              "#9c179e"
             ],
             [
              0.4444444444444444,
              "#bd3786"
             ],
             [
              0.5555555555555556,
              "#d8576b"
             ],
             [
              0.6666666666666666,
              "#ed7953"
             ],
             [
              0.7777777777777778,
              "#fb9f3a"
             ],
             [
              0.8888888888888888,
              "#fdca26"
             ],
             [
              1,
              "#f0f921"
             ]
            ],
            "type": "histogram2d"
           }
          ],
          "histogram2dcontour": [
           {
            "colorbar": {
             "outlinewidth": 0,
             "ticks": ""
            },
            "colorscale": [
             [
              0,
              "#0d0887"
             ],
             [
              0.1111111111111111,
              "#46039f"
             ],
             [
              0.2222222222222222,
              "#7201a8"
             ],
             [
              0.3333333333333333,
              "#9c179e"
             ],
             [
              0.4444444444444444,
              "#bd3786"
             ],
             [
              0.5555555555555556,
              "#d8576b"
             ],
             [
              0.6666666666666666,
              "#ed7953"
             ],
             [
              0.7777777777777778,
              "#fb9f3a"
             ],
             [
              0.8888888888888888,
              "#fdca26"
             ],
             [
              1,
              "#f0f921"
             ]
            ],
            "type": "histogram2dcontour"
           }
          ],
          "mesh3d": [
           {
            "colorbar": {
             "outlinewidth": 0,
             "ticks": ""
            },
            "type": "mesh3d"
           }
          ],
          "parcoords": [
           {
            "line": {
             "colorbar": {
              "outlinewidth": 0,
              "ticks": ""
             }
            },
            "type": "parcoords"
           }
          ],
          "pie": [
           {
            "automargin": true,
            "type": "pie"
           }
          ],
          "scatter": [
           {
            "marker": {
             "colorbar": {
              "outlinewidth": 0,
              "ticks": ""
             }
            },
            "type": "scatter"
           }
          ],
          "scatter3d": [
           {
            "line": {
             "colorbar": {
              "outlinewidth": 0,
              "ticks": ""
             }
            },
            "marker": {
             "colorbar": {
              "outlinewidth": 0,
              "ticks": ""
             }
            },
            "type": "scatter3d"
           }
          ],
          "scattercarpet": [
           {
            "marker": {
             "colorbar": {
              "outlinewidth": 0,
              "ticks": ""
             }
            },
            "type": "scattercarpet"
           }
          ],
          "scattergeo": [
           {
            "marker": {
             "colorbar": {
              "outlinewidth": 0,
              "ticks": ""
             }
            },
            "type": "scattergeo"
           }
          ],
          "scattergl": [
           {
            "marker": {
             "colorbar": {
              "outlinewidth": 0,
              "ticks": ""
             }
            },
            "type": "scattergl"
           }
          ],
          "scattermapbox": [
           {
            "marker": {
             "colorbar": {
              "outlinewidth": 0,
              "ticks": ""
             }
            },
            "type": "scattermapbox"
           }
          ],
          "scatterpolar": [
           {
            "marker": {
             "colorbar": {
              "outlinewidth": 0,
              "ticks": ""
             }
            },
            "type": "scatterpolar"
           }
          ],
          "scatterpolargl": [
           {
            "marker": {
             "colorbar": {
              "outlinewidth": 0,
              "ticks": ""
             }
            },
            "type": "scatterpolargl"
           }
          ],
          "scatterternary": [
           {
            "marker": {
             "colorbar": {
              "outlinewidth": 0,
              "ticks": ""
             }
            },
            "type": "scatterternary"
           }
          ],
          "surface": [
           {
            "colorbar": {
             "outlinewidth": 0,
             "ticks": ""
            },
            "colorscale": [
             [
              0,
              "#0d0887"
             ],
             [
              0.1111111111111111,
              "#46039f"
             ],
             [
              0.2222222222222222,
              "#7201a8"
             ],
             [
              0.3333333333333333,
              "#9c179e"
             ],
             [
              0.4444444444444444,
              "#bd3786"
             ],
             [
              0.5555555555555556,
              "#d8576b"
             ],
             [
              0.6666666666666666,
              "#ed7953"
             ],
             [
              0.7777777777777778,
              "#fb9f3a"
             ],
             [
              0.8888888888888888,
              "#fdca26"
             ],
             [
              1,
              "#f0f921"
             ]
            ],
            "type": "surface"
           }
          ],
          "table": [
           {
            "cells": {
             "fill": {
              "color": "#EBF0F8"
             },
             "line": {
              "color": "white"
             }
            },
            "header": {
             "fill": {
              "color": "#C8D4E3"
             },
             "line": {
              "color": "white"
             }
            },
            "type": "table"
           }
          ]
         },
         "layout": {
          "annotationdefaults": {
           "arrowcolor": "#2a3f5f",
           "arrowhead": 0,
           "arrowwidth": 1
          },
          "coloraxis": {
           "colorbar": {
            "outlinewidth": 0,
            "ticks": ""
           }
          },
          "colorscale": {
           "diverging": [
            [
             0,
             "#8e0152"
            ],
            [
             0.1,
             "#c51b7d"
            ],
            [
             0.2,
             "#de77ae"
            ],
            [
             0.3,
             "#f1b6da"
            ],
            [
             0.4,
             "#fde0ef"
            ],
            [
             0.5,
             "#f7f7f7"
            ],
            [
             0.6,
             "#e6f5d0"
            ],
            [
             0.7,
             "#b8e186"
            ],
            [
             0.8,
             "#7fbc41"
            ],
            [
             0.9,
             "#4d9221"
            ],
            [
             1,
             "#276419"
            ]
           ],
           "sequential": [
            [
             0,
             "#0d0887"
            ],
            [
             0.1111111111111111,
             "#46039f"
            ],
            [
             0.2222222222222222,
             "#7201a8"
            ],
            [
             0.3333333333333333,
             "#9c179e"
            ],
            [
             0.4444444444444444,
             "#bd3786"
            ],
            [
             0.5555555555555556,
             "#d8576b"
            ],
            [
             0.6666666666666666,
             "#ed7953"
            ],
            [
             0.7777777777777778,
             "#fb9f3a"
            ],
            [
             0.8888888888888888,
             "#fdca26"
            ],
            [
             1,
             "#f0f921"
            ]
           ],
           "sequentialminus": [
            [
             0,
             "#0d0887"
            ],
            [
             0.1111111111111111,
             "#46039f"
            ],
            [
             0.2222222222222222,
             "#7201a8"
            ],
            [
             0.3333333333333333,
             "#9c179e"
            ],
            [
             0.4444444444444444,
             "#bd3786"
            ],
            [
             0.5555555555555556,
             "#d8576b"
            ],
            [
             0.6666666666666666,
             "#ed7953"
            ],
            [
             0.7777777777777778,
             "#fb9f3a"
            ],
            [
             0.8888888888888888,
             "#fdca26"
            ],
            [
             1,
             "#f0f921"
            ]
           ]
          },
          "colorway": [
           "#636efa",
           "#EF553B",
           "#00cc96",
           "#ab63fa",
           "#FFA15A",
           "#19d3f3",
           "#FF6692",
           "#B6E880",
           "#FF97FF",
           "#FECB52"
          ],
          "font": {
           "color": "#2a3f5f"
          },
          "geo": {
           "bgcolor": "white",
           "lakecolor": "white",
           "landcolor": "#E5ECF6",
           "showlakes": true,
           "showland": true,
           "subunitcolor": "white"
          },
          "hoverlabel": {
           "align": "left"
          },
          "hovermode": "closest",
          "mapbox": {
           "style": "light"
          },
          "paper_bgcolor": "white",
          "plot_bgcolor": "#E5ECF6",
          "polar": {
           "angularaxis": {
            "gridcolor": "white",
            "linecolor": "white",
            "ticks": ""
           },
           "bgcolor": "#E5ECF6",
           "radialaxis": {
            "gridcolor": "white",
            "linecolor": "white",
            "ticks": ""
           }
          },
          "scene": {
           "xaxis": {
            "backgroundcolor": "#E5ECF6",
            "gridcolor": "white",
            "gridwidth": 2,
            "linecolor": "white",
            "showbackground": true,
            "ticks": "",
            "zerolinecolor": "white"
           },
           "yaxis": {
            "backgroundcolor": "#E5ECF6",
            "gridcolor": "white",
            "gridwidth": 2,
            "linecolor": "white",
            "showbackground": true,
            "ticks": "",
            "zerolinecolor": "white"
           },
           "zaxis": {
            "backgroundcolor": "#E5ECF6",
            "gridcolor": "white",
            "gridwidth": 2,
            "linecolor": "white",
            "showbackground": true,
            "ticks": "",
            "zerolinecolor": "white"
           }
          },
          "shapedefaults": {
           "line": {
            "color": "#2a3f5f"
           }
          },
          "ternary": {
           "aaxis": {
            "gridcolor": "white",
            "linecolor": "white",
            "ticks": ""
           },
           "baxis": {
            "gridcolor": "white",
            "linecolor": "white",
            "ticks": ""
           },
           "bgcolor": "#E5ECF6",
           "caxis": {
            "gridcolor": "white",
            "linecolor": "white",
            "ticks": ""
           }
          },
          "title": {
           "x": 0.05
          },
          "xaxis": {
           "automargin": true,
           "gridcolor": "white",
           "linecolor": "white",
           "ticks": "",
           "title": {
            "standoff": 15
           },
           "zerolinecolor": "white",
           "zerolinewidth": 2
          },
          "yaxis": {
           "automargin": true,
           "gridcolor": "white",
           "linecolor": "white",
           "ticks": "",
           "title": {
            "standoff": 15
           },
           "zerolinecolor": "white",
           "zerolinewidth": 2
          }
         }
        },
        "title": {
         "text": "Portfolio Value by Invested Amount"
        },
        "xaxis": {
         "anchor": "y",
         "domain": [
          0,
          1
         ],
         "rangeselector": {
          "buttons": [
           {
            "count": 1,
            "label": "1m",
            "step": "month",
            "stepmode": "backward"
           },
           {
            "count": 6,
            "label": "6m",
            "step": "month",
            "stepmode": "backward"
           },
           {
            "count": 1,
            "label": "YTD",
            "step": "year",
            "stepmode": "todate"
           },
           {
            "count": 1,
            "label": "1y",
            "step": "year",
            "stepmode": "backward"
           },
           {
            "step": "all"
           }
          ]
         },
         "rangeslider": {
          "visible": true
         },
         "title": {
          "text": "date"
         }
        },
        "yaxis": {
         "anchor": "x",
         "domain": [
          0,
          1
         ],
         "range": [
          -4.75,
          16.09
         ],
         "title": {
          "text": "total_pct_gain"
         }
        }
       }
      },
      "text/html": [
       "<div>\n",
       "        \n",
       "        \n",
       "            <div id=\"3ed4e065-895a-4bb3-aa82-52060df7aaf8\" class=\"plotly-graph-div\" style=\"height:525px; width:100%;\"></div>\n",
       "            <script type=\"text/javascript\">\n",
       "                require([\"plotly\"], function(Plotly) {\n",
       "                    window.PLOTLYENV=window.PLOTLYENV || {};\n",
       "                    \n",
       "                if (document.getElementById(\"3ed4e065-895a-4bb3-aa82-52060df7aaf8\")) {\n",
       "                    Plotly.newPlot(\n",
       "                        '3ed4e065-895a-4bb3-aa82-52060df7aaf8',\n",
       "                        [{\"customdata\": [[679.61, 647.31, -32.3, -4.75, 0.0, 0.0, -32.3, -4.75], [679.61, 680.86, 1.25, 0.18, 0.0, 0.0, 1.25, 0.18], [679.61, 666.25, -13.36, -1.97, 0.0, 0.0, -13.36, -1.97]], \"hovertemplate\": \"invested_amount=%{customdata[0]}<br>date=%{x}<br>total_pct_gain=%{customdata[7]}<br>market_value=%{customdata[1]}<br>unrealized_gain=%{customdata[2]}<br>unrealized_pct_gain=%{customdata[3]}<br>realized_gain=%{customdata[4]}<br>realized_pct_gain=%{customdata[5]}<br>total_gain=%{customdata[6]}<extra></extra>\", \"legendgroup\": \"679.61\", \"line\": {\"color\": \"#636efa\", \"dash\": \"solid\"}, \"mode\": \"lines\", \"name\": \"679.61\", \"showlegend\": true, \"type\": \"scatter\", \"x\": [\"2020-04-13T00:00:00\", \"2020-04-14T00:00:00\", \"2020-04-15T00:00:00\"], \"xaxis\": \"x\", \"y\": [-4.75, 0.18, -1.97], \"yaxis\": \"y\"}, {\"customdata\": [[6219.37, 6281.6, 62.23, 1.0, 0.0, 0.0, 62.23, 1.0], [6219.37, 6408.28, 188.91, 3.04, 0.0, 0.0, 188.91, 3.04]], \"hovertemplate\": \"invested_amount=%{customdata[0]}<br>date=%{x}<br>total_pct_gain=%{customdata[7]}<br>market_value=%{customdata[1]}<br>unrealized_gain=%{customdata[2]}<br>unrealized_pct_gain=%{customdata[3]}<br>realized_gain=%{customdata[4]}<br>realized_pct_gain=%{customdata[5]}<br>total_gain=%{customdata[6]}<extra></extra>\", \"legendgroup\": \"6219.37\", \"line\": {\"color\": \"#EF553B\", \"dash\": \"solid\"}, \"mode\": \"lines\", \"name\": \"6219.37\", \"showlegend\": true, \"type\": \"scatter\", \"x\": [\"2020-04-16T00:00:00\", \"2020-04-17T00:00:00\"], \"xaxis\": \"x\", \"y\": [1.0, 3.04], \"yaxis\": \"y\"}, {\"customdata\": [[50277.33, 50013.61, -263.75, -0.52, 0.0, 0.0, -263.75, -0.52], [50277.33, 48208.47, -2068.86, -4.11, 0.0, 0.0, -2068.86, -4.11], [50277.33, 49926.02, -351.32, -0.7, 0.0, 0.0, -351.32, -0.7], [50277.33, 49615.47, -661.87, -1.32, 0.0, 0.0, -661.87, -1.32], [50277.33, 50478.17, 200.84, 0.4, 0.0, 0.0, 200.84, 0.4], [50277.33, 52090.32, 1812.99, 3.61, 0.0, 0.0, 1812.99, 3.61], [50277.33, 51241.7, 964.37, 1.92, 0.0, 0.0, 964.37, 1.92], [50277.33, 53226.03, 2948.69, 5.86, 0.0, 0.0, 2948.69, 5.86], [50277.33, 52156.7, 1879.37, 3.74, 0.0, 0.0, 1879.37, 3.74], [50277.33, 50147.16, -130.18, -0.26, 0.0, 0.0, -130.18, -0.26], [50277.33, 51336.06, 1058.73, 2.11, 0.0, 0.0, 1058.73, 2.11], [50277.33, 52051.39, 1774.06, 3.53, 0.0, 0.0, 1774.06, 3.53], [50277.33, 52354.43, 2077.11, 4.13, 0.0, 0.0, 2077.11, 4.13], [50277.33, 53326.9, 3049.58, 6.07, 0.0, 0.0, 3049.58, 6.07], [50277.33, 54628.08, 4350.74, 8.65, 0.0, 0.0, 4350.74, 8.65], [50277.33, 55579.47, 5302.14, 10.55, 0.0, 0.0, 5302.14, 10.55], [50277.33, 54421.9, 4144.57, 8.24, 0.0, 0.0, 4144.57, 8.24]], \"hovertemplate\": \"invested_amount=%{customdata[0]}<br>date=%{x}<br>total_pct_gain=%{customdata[7]}<br>market_value=%{customdata[1]}<br>unrealized_gain=%{customdata[2]}<br>unrealized_pct_gain=%{customdata[3]}<br>realized_gain=%{customdata[4]}<br>realized_pct_gain=%{customdata[5]}<br>total_gain=%{customdata[6]}<extra></extra>\", \"legendgroup\": \"50277.33\", \"line\": {\"color\": \"#00cc96\", \"dash\": \"solid\"}, \"mode\": \"lines\", \"name\": \"50277.33\", \"showlegend\": true, \"type\": \"scatter\", \"x\": [\"2020-04-20T00:00:00\", \"2020-04-21T00:00:00\", \"2020-04-22T00:00:00\", \"2020-04-23T00:00:00\", \"2020-04-24T00:00:00\", \"2020-04-27T00:00:00\", \"2020-04-28T00:00:00\", \"2020-04-29T00:00:00\", \"2020-04-30T00:00:00\", \"2020-05-01T00:00:00\", \"2020-05-04T00:00:00\", \"2020-05-05T00:00:00\", \"2020-05-06T00:00:00\", \"2020-05-07T00:00:00\", \"2020-05-08T00:00:00\", \"2020-05-11T00:00:00\", \"2020-05-12T00:00:00\"], \"xaxis\": \"x\", \"y\": [-0.52, -4.11, -0.7, -1.32, 0.4, 3.61, 1.92, 5.86, 3.74, -0.26, 2.11, 3.53, 4.13, 6.07, 8.65, 10.55, 8.24], \"yaxis\": \"y\"}, {\"customdata\": [[59555.78, 62435.2, 2879.44, 4.83, 0.0, 0.0, 2879.44, 4.83], [59555.78, 62641.92, 3086.17, 5.18, 0.0, 0.0, 3086.17, 5.18], [59555.78, 63797.4, 4241.62, 7.12, 0.0, 0.0, 4241.62, 7.12], [59555.78, 65782.29, 6226.52, 10.45, 0.0, 0.0, 6226.52, 10.45], [59555.78, 65650.35, 6094.58, 10.23, 0.0, 0.0, 6094.58, 10.23], [59555.78, 67456.8, 7901.05, 13.27, 0.0, 0.0, 7901.05, 13.27], [59555.78, 67136.98, 7581.23, 12.73, 0.0, 0.0, 7581.23, 12.73], [59555.78, 67908.71, 8352.95, 14.03, 0.0, 0.0, 8352.95, 14.03]], \"hovertemplate\": \"invested_amount=%{customdata[0]}<br>date=%{x}<br>total_pct_gain=%{customdata[7]}<br>market_value=%{customdata[1]}<br>unrealized_gain=%{customdata[2]}<br>unrealized_pct_gain=%{customdata[3]}<br>realized_gain=%{customdata[4]}<br>realized_pct_gain=%{customdata[5]}<br>total_gain=%{customdata[6]}<extra></extra>\", \"legendgroup\": \"59555.78\", \"line\": {\"color\": \"#ab63fa\", \"dash\": \"solid\"}, \"mode\": \"lines\", \"name\": \"59555.78\", \"showlegend\": true, \"type\": \"scatter\", \"x\": [\"2020-05-13T00:00:00\", \"2020-05-14T00:00:00\", \"2020-05-15T00:00:00\", \"2020-05-18T00:00:00\", \"2020-05-19T00:00:00\", \"2020-05-20T00:00:00\", \"2020-05-21T00:00:00\", \"2020-05-22T00:00:00\"], \"xaxis\": \"x\", \"y\": [4.83, 5.18, 7.12, 10.45, 10.23, 13.27, 12.73, 14.03], \"yaxis\": \"y\"}, {\"customdata\": [[64513.82, 72794.78, 8280.95, 12.84, 0.0, 0.0, 8280.95, 12.84], [64513.82, 72363.21, 7849.41, 12.17, 0.0, 0.0, 7849.41, 12.17], [64513.82, 71601.57, 7087.75, 10.99, 0.0, 0.0, 7087.75, 10.99], [64513.82, 72911.19, 8397.38, 13.02, 0.0, 0.0, 8397.38, 13.02], [64513.82, 74250.72, 9736.91, 15.09, 0.0, 0.0, 9736.91, 15.09], [64513.82, 74091.4, 9577.58, 14.85, 0.0, 0.0, 9577.58, 14.85]], \"hovertemplate\": \"invested_amount=%{customdata[0]}<br>date=%{x}<br>total_pct_gain=%{customdata[7]}<br>market_value=%{customdata[1]}<br>unrealized_gain=%{customdata[2]}<br>unrealized_pct_gain=%{customdata[3]}<br>realized_gain=%{customdata[4]}<br>realized_pct_gain=%{customdata[5]}<br>total_gain=%{customdata[6]}<extra></extra>\", \"legendgroup\": \"64513.82\", \"line\": {\"color\": \"#FFA15A\", \"dash\": \"solid\"}, \"mode\": \"lines\", \"name\": \"64513.82\", \"showlegend\": true, \"type\": \"scatter\", \"x\": [\"2020-05-26T00:00:00\", \"2020-05-27T00:00:00\", \"2020-05-28T00:00:00\", \"2020-05-29T00:00:00\", \"2020-06-01T00:00:00\", \"2020-06-02T15:02:47\"], \"xaxis\": \"x\", \"y\": [12.84, 12.17, 10.99, 13.02, 15.09, 14.85], \"yaxis\": \"y\"}],\n",
       "                        {\"legend\": {\"title\": {\"text\": \"invested_amount\"}, \"tracegroupgap\": 0}, \"shapes\": [{\"fillcolor\": \"Red\", \"opacity\": 0.2, \"type\": \"rect\", \"x0\": \"2020-04-13T00:00:00+00:00\", \"x1\": \"2020-06-02T15:02:47+00:00\", \"xref\": \"x\", \"y0\": -4.75, \"y1\": 0, \"yref\": \"y\"}], \"template\": {\"data\": {\"bar\": [{\"error_x\": {\"color\": \"#2a3f5f\"}, \"error_y\": {\"color\": \"#2a3f5f\"}, \"marker\": {\"line\": {\"color\": \"#E5ECF6\", \"width\": 0.5}}, \"type\": \"bar\"}], \"barpolar\": [{\"marker\": {\"line\": {\"color\": \"#E5ECF6\", \"width\": 0.5}}, \"type\": \"barpolar\"}], \"carpet\": [{\"aaxis\": {\"endlinecolor\": \"#2a3f5f\", \"gridcolor\": \"white\", \"linecolor\": \"white\", \"minorgridcolor\": \"white\", \"startlinecolor\": \"#2a3f5f\"}, \"baxis\": {\"endlinecolor\": \"#2a3f5f\", \"gridcolor\": \"white\", \"linecolor\": \"white\", \"minorgridcolor\": \"white\", \"startlinecolor\": \"#2a3f5f\"}, \"type\": \"carpet\"}], \"choropleth\": [{\"colorbar\": {\"outlinewidth\": 0, \"ticks\": \"\"}, \"type\": \"choropleth\"}], \"contour\": [{\"colorbar\": {\"outlinewidth\": 0, \"ticks\": \"\"}, \"colorscale\": [[0.0, \"#0d0887\"], [0.1111111111111111, \"#46039f\"], [0.2222222222222222, \"#7201a8\"], [0.3333333333333333, \"#9c179e\"], [0.4444444444444444, \"#bd3786\"], [0.5555555555555556, \"#d8576b\"], [0.6666666666666666, \"#ed7953\"], [0.7777777777777778, \"#fb9f3a\"], [0.8888888888888888, \"#fdca26\"], [1.0, \"#f0f921\"]], \"type\": \"contour\"}], \"contourcarpet\": [{\"colorbar\": {\"outlinewidth\": 0, \"ticks\": \"\"}, \"type\": \"contourcarpet\"}], \"heatmap\": [{\"colorbar\": {\"outlinewidth\": 0, \"ticks\": \"\"}, \"colorscale\": [[0.0, \"#0d0887\"], [0.1111111111111111, \"#46039f\"], [0.2222222222222222, \"#7201a8\"], [0.3333333333333333, \"#9c179e\"], [0.4444444444444444, \"#bd3786\"], [0.5555555555555556, \"#d8576b\"], [0.6666666666666666, \"#ed7953\"], [0.7777777777777778, \"#fb9f3a\"], [0.8888888888888888, \"#fdca26\"], [1.0, \"#f0f921\"]], \"type\": \"heatmap\"}], \"heatmapgl\": [{\"colorbar\": {\"outlinewidth\": 0, \"ticks\": \"\"}, \"colorscale\": [[0.0, \"#0d0887\"], [0.1111111111111111, \"#46039f\"], [0.2222222222222222, \"#7201a8\"], [0.3333333333333333, \"#9c179e\"], [0.4444444444444444, \"#bd3786\"], [0.5555555555555556, \"#d8576b\"], [0.6666666666666666, \"#ed7953\"], [0.7777777777777778, \"#fb9f3a\"], [0.8888888888888888, \"#fdca26\"], [1.0, \"#f0f921\"]], \"type\": \"heatmapgl\"}], \"histogram\": [{\"marker\": {\"colorbar\": {\"outlinewidth\": 0, \"ticks\": \"\"}}, \"type\": \"histogram\"}], \"histogram2d\": [{\"colorbar\": {\"outlinewidth\": 0, \"ticks\": \"\"}, \"colorscale\": [[0.0, \"#0d0887\"], [0.1111111111111111, \"#46039f\"], [0.2222222222222222, \"#7201a8\"], [0.3333333333333333, \"#9c179e\"], [0.4444444444444444, \"#bd3786\"], [0.5555555555555556, \"#d8576b\"], [0.6666666666666666, \"#ed7953\"], [0.7777777777777778, \"#fb9f3a\"], [0.8888888888888888, \"#fdca26\"], [1.0, \"#f0f921\"]], \"type\": \"histogram2d\"}], \"histogram2dcontour\": [{\"colorbar\": {\"outlinewidth\": 0, \"ticks\": \"\"}, \"colorscale\": [[0.0, \"#0d0887\"], [0.1111111111111111, \"#46039f\"], [0.2222222222222222, \"#7201a8\"], [0.3333333333333333, \"#9c179e\"], [0.4444444444444444, \"#bd3786\"], [0.5555555555555556, \"#d8576b\"], [0.6666666666666666, \"#ed7953\"], [0.7777777777777778, \"#fb9f3a\"], [0.8888888888888888, \"#fdca26\"], [1.0, \"#f0f921\"]], \"type\": \"histogram2dcontour\"}], \"mesh3d\": [{\"colorbar\": {\"outlinewidth\": 0, \"ticks\": \"\"}, \"type\": \"mesh3d\"}], \"parcoords\": [{\"line\": {\"colorbar\": {\"outlinewidth\": 0, \"ticks\": \"\"}}, \"type\": \"parcoords\"}], \"pie\": [{\"automargin\": true, \"type\": \"pie\"}], \"scatter\": [{\"marker\": {\"colorbar\": {\"outlinewidth\": 0, \"ticks\": \"\"}}, \"type\": \"scatter\"}], \"scatter3d\": [{\"line\": {\"colorbar\": {\"outlinewidth\": 0, \"ticks\": \"\"}}, \"marker\": {\"colorbar\": {\"outlinewidth\": 0, \"ticks\": \"\"}}, \"type\": \"scatter3d\"}], \"scattercarpet\": [{\"marker\": {\"colorbar\": {\"outlinewidth\": 0, \"ticks\": \"\"}}, \"type\": \"scattercarpet\"}], \"scattergeo\": [{\"marker\": {\"colorbar\": {\"outlinewidth\": 0, \"ticks\": \"\"}}, \"type\": \"scattergeo\"}], \"scattergl\": [{\"marker\": {\"colorbar\": {\"outlinewidth\": 0, \"ticks\": \"\"}}, \"type\": \"scattergl\"}], \"scattermapbox\": [{\"marker\": {\"colorbar\": {\"outlinewidth\": 0, \"ticks\": \"\"}}, \"type\": \"scattermapbox\"}], \"scatterpolar\": [{\"marker\": {\"colorbar\": {\"outlinewidth\": 0, \"ticks\": \"\"}}, \"type\": \"scatterpolar\"}], \"scatterpolargl\": [{\"marker\": {\"colorbar\": {\"outlinewidth\": 0, \"ticks\": \"\"}}, \"type\": \"scatterpolargl\"}], \"scatterternary\": [{\"marker\": {\"colorbar\": {\"outlinewidth\": 0, \"ticks\": \"\"}}, \"type\": \"scatterternary\"}], \"surface\": [{\"colorbar\": {\"outlinewidth\": 0, \"ticks\": \"\"}, \"colorscale\": [[0.0, \"#0d0887\"], [0.1111111111111111, \"#46039f\"], [0.2222222222222222, \"#7201a8\"], [0.3333333333333333, \"#9c179e\"], [0.4444444444444444, \"#bd3786\"], [0.5555555555555556, \"#d8576b\"], [0.6666666666666666, \"#ed7953\"], [0.7777777777777778, \"#fb9f3a\"], [0.8888888888888888, \"#fdca26\"], [1.0, \"#f0f921\"]], \"type\": \"surface\"}], \"table\": [{\"cells\": {\"fill\": {\"color\": \"#EBF0F8\"}, \"line\": {\"color\": \"white\"}}, \"header\": {\"fill\": {\"color\": \"#C8D4E3\"}, \"line\": {\"color\": \"white\"}}, \"type\": \"table\"}]}, \"layout\": {\"annotationdefaults\": {\"arrowcolor\": \"#2a3f5f\", \"arrowhead\": 0, \"arrowwidth\": 1}, \"coloraxis\": {\"colorbar\": {\"outlinewidth\": 0, \"ticks\": \"\"}}, \"colorscale\": {\"diverging\": [[0, \"#8e0152\"], [0.1, \"#c51b7d\"], [0.2, \"#de77ae\"], [0.3, \"#f1b6da\"], [0.4, \"#fde0ef\"], [0.5, \"#f7f7f7\"], [0.6, \"#e6f5d0\"], [0.7, \"#b8e186\"], [0.8, \"#7fbc41\"], [0.9, \"#4d9221\"], [1, \"#276419\"]], \"sequential\": [[0.0, \"#0d0887\"], [0.1111111111111111, \"#46039f\"], [0.2222222222222222, \"#7201a8\"], [0.3333333333333333, \"#9c179e\"], [0.4444444444444444, \"#bd3786\"], [0.5555555555555556, \"#d8576b\"], [0.6666666666666666, \"#ed7953\"], [0.7777777777777778, \"#fb9f3a\"], [0.8888888888888888, \"#fdca26\"], [1.0, \"#f0f921\"]], \"sequentialminus\": [[0.0, \"#0d0887\"], [0.1111111111111111, \"#46039f\"], [0.2222222222222222, \"#7201a8\"], [0.3333333333333333, \"#9c179e\"], [0.4444444444444444, \"#bd3786\"], [0.5555555555555556, \"#d8576b\"], [0.6666666666666666, \"#ed7953\"], [0.7777777777777778, \"#fb9f3a\"], [0.8888888888888888, \"#fdca26\"], [1.0, \"#f0f921\"]]}, \"colorway\": [\"#636efa\", \"#EF553B\", \"#00cc96\", \"#ab63fa\", \"#FFA15A\", \"#19d3f3\", \"#FF6692\", \"#B6E880\", \"#FF97FF\", \"#FECB52\"], \"font\": {\"color\": \"#2a3f5f\"}, \"geo\": {\"bgcolor\": \"white\", \"lakecolor\": \"white\", \"landcolor\": \"#E5ECF6\", \"showlakes\": true, \"showland\": true, \"subunitcolor\": \"white\"}, \"hoverlabel\": {\"align\": \"left\"}, \"hovermode\": \"closest\", \"mapbox\": {\"style\": \"light\"}, \"paper_bgcolor\": \"white\", \"plot_bgcolor\": \"#E5ECF6\", \"polar\": {\"angularaxis\": {\"gridcolor\": \"white\", \"linecolor\": \"white\", \"ticks\": \"\"}, \"bgcolor\": \"#E5ECF6\", \"radialaxis\": {\"gridcolor\": \"white\", \"linecolor\": \"white\", \"ticks\": \"\"}}, \"scene\": {\"xaxis\": {\"backgroundcolor\": \"#E5ECF6\", \"gridcolor\": \"white\", \"gridwidth\": 2, \"linecolor\": \"white\", \"showbackground\": true, \"ticks\": \"\", \"zerolinecolor\": \"white\"}, \"yaxis\": {\"backgroundcolor\": \"#E5ECF6\", \"gridcolor\": \"white\", \"gridwidth\": 2, \"linecolor\": \"white\", \"showbackground\": true, \"ticks\": \"\", \"zerolinecolor\": \"white\"}, \"zaxis\": {\"backgroundcolor\": \"#E5ECF6\", \"gridcolor\": \"white\", \"gridwidth\": 2, \"linecolor\": \"white\", \"showbackground\": true, \"ticks\": \"\", \"zerolinecolor\": \"white\"}}, \"shapedefaults\": {\"line\": {\"color\": \"#2a3f5f\"}}, \"ternary\": {\"aaxis\": {\"gridcolor\": \"white\", \"linecolor\": \"white\", \"ticks\": \"\"}, \"baxis\": {\"gridcolor\": \"white\", \"linecolor\": \"white\", \"ticks\": \"\"}, \"bgcolor\": \"#E5ECF6\", \"caxis\": {\"gridcolor\": \"white\", \"linecolor\": \"white\", \"ticks\": \"\"}}, \"title\": {\"x\": 0.05}, \"xaxis\": {\"automargin\": true, \"gridcolor\": \"white\", \"linecolor\": \"white\", \"ticks\": \"\", \"title\": {\"standoff\": 15}, \"zerolinecolor\": \"white\", \"zerolinewidth\": 2}, \"yaxis\": {\"automargin\": true, \"gridcolor\": \"white\", \"linecolor\": \"white\", \"ticks\": \"\", \"title\": {\"standoff\": 15}, \"zerolinecolor\": \"white\", \"zerolinewidth\": 2}}}, \"title\": {\"text\": \"Portfolio Value by Invested Amount\"}, \"xaxis\": {\"anchor\": \"y\", \"domain\": [0.0, 1.0], \"rangeselector\": {\"buttons\": [{\"count\": 1, \"label\": \"1m\", \"step\": \"month\", \"stepmode\": \"backward\"}, {\"count\": 6, \"label\": \"6m\", \"step\": \"month\", \"stepmode\": \"backward\"}, {\"count\": 1, \"label\": \"YTD\", \"step\": \"year\", \"stepmode\": \"todate\"}, {\"count\": 1, \"label\": \"1y\", \"step\": \"year\", \"stepmode\": \"backward\"}, {\"step\": \"all\"}]}, \"rangeslider\": {\"visible\": true}, \"title\": {\"text\": \"date\"}}, \"yaxis\": {\"anchor\": \"x\", \"domain\": [0.0, 1.0], \"range\": [-4.75, 16.09], \"title\": {\"text\": \"total_pct_gain\"}}},\n",
       "                        {\"responsive\": true}\n",
       "                    ).then(function(){\n",
       "                            \n",
       "var gd = document.getElementById('3ed4e065-895a-4bb3-aa82-52060df7aaf8');\n",
       "var x = new MutationObserver(function (mutations, observer) {{\n",
       "        var display = window.getComputedStyle(gd).display;\n",
       "        if (!display || display === 'none') {{\n",
       "            console.log([gd, 'removed!']);\n",
       "            Plotly.purge(gd);\n",
       "            observer.disconnect();\n",
       "        }}\n",
       "}});\n",
       "\n",
       "// Listen for the removal of the full notebook cells\n",
       "var notebookContainer = gd.closest('#notebook-container');\n",
       "if (notebookContainer) {{\n",
       "    x.observe(notebookContainer, {childList: true});\n",
       "}}\n",
       "\n",
       "// Listen for the clearing of the current output cell\n",
       "var outputEl = gd.closest('.output');\n",
       "if (outputEl) {{\n",
       "    x.observe(outputEl, {childList: true});\n",
       "}}\n",
       "\n",
       "                        })\n",
       "                };\n",
       "                });\n",
       "            </script>\n",
       "        </div>"
      ]
     },
     "metadata": {},
     "output_type": "display_data"
    }
   ],
   "source": [
    "min_value = portfolio_aggregated_stats['total_pct_gain'].min()\n",
    "max_value = portfolio_aggregated_stats['total_pct_gain'].max()\n",
    "\n",
    "fig = px.line(portfolio_aggregated_stats, \n",
    "              x='date', y=\"total_pct_gain\", \n",
    "              hover_data=['invested_amount', 'market_value', 'unrealized_gain', \n",
    "                          'unrealized_pct_gain', 'realized_gain', 'realized_pct_gain', \n",
    "                          'total_gain', 'total_pct_gain'],\n",
    "              color='invested_amount',\n",
    "              range_y=[min_value, max_value+1],\n",
    "              title='Portfolio Value by Invested Amount')\n",
    "fig.update_xaxes(\n",
    "    rangeslider_visible=True,\n",
    "    rangeselector=dict(\n",
    "        buttons=list([\n",
    "            dict(count=1, label=\"1m\", step=\"month\", stepmode=\"backward\"),\n",
    "            dict(count=6, label=\"6m\", step=\"month\", stepmode=\"backward\"),\n",
    "            dict(count=1, label=\"YTD\", step=\"year\", stepmode=\"todate\"),\n",
    "            dict(count=1, label=\"1y\", step=\"year\", stepmode=\"backward\"),\n",
    "            dict(step=\"all\")\n",
    "        ])\n",
    "    )\n",
    ")\n",
    "fig.add_shape(\n",
    "        # Rectangle reference to the axes\n",
    "            type=\"rect\",\n",
    "            xref=\"x\",\n",
    "            yref=\"y\",\n",
    "            x0=first_date,\n",
    "            y0=min_value,\n",
    "            x1=last_date,\n",
    "            y1=0,\n",
    "            opacity=0.2,\n",
    "            fillcolor=\"Red\",\n",
    "        )\n",
    "fig.write_image(\"images/portfolio_value_invested_amount.pdf\")\n",
    "fig.show()"
   ]
  },
  {
   "cell_type": "code",
   "execution_count": 19,
   "metadata": {},
   "outputs": [
    {
     "data": {
      "application/vnd.plotly.v1+json": {
       "config": {
        "plotlyServerURL": "https://plot.ly"
       },
       "data": [
        {
         "customdata": [
          [
           679.61,
           647.31,
           -32.3,
           -4.75,
           0,
           0,
           -32.3,
           -4.75
          ],
          [
           679.61,
           680.86,
           1.25,
           0.18,
           0,
           0,
           1.25,
           0.18
          ],
          [
           679.61,
           666.25,
           -13.36,
           -1.97,
           0,
           0,
           -13.36,
           -1.97
          ],
          [
           6219.37,
           6281.6,
           62.23,
           1,
           0,
           0,
           62.23,
           1
          ],
          [
           6219.37,
           6408.28,
           188.91,
           3.04,
           0,
           0,
           188.91,
           3.04
          ],
          [
           50277.33,
           50013.61,
           -263.75,
           -0.52,
           0,
           0,
           -263.75,
           -0.52
          ],
          [
           50277.33,
           48208.47,
           -2068.86,
           -4.11,
           0,
           0,
           -2068.86,
           -4.11
          ],
          [
           50277.33,
           49926.02,
           -351.32,
           -0.7,
           0,
           0,
           -351.32,
           -0.7
          ],
          [
           50277.33,
           49615.47,
           -661.87,
           -1.32,
           0,
           0,
           -661.87,
           -1.32
          ],
          [
           50277.33,
           50478.17,
           200.84,
           0.4,
           0,
           0,
           200.84,
           0.4
          ],
          [
           50277.33,
           52090.32,
           1812.99,
           3.61,
           0,
           0,
           1812.99,
           3.61
          ],
          [
           50277.33,
           51241.7,
           964.37,
           1.92,
           0,
           0,
           964.37,
           1.92
          ],
          [
           50277.33,
           53226.03,
           2948.69,
           5.86,
           0,
           0,
           2948.69,
           5.86
          ],
          [
           50277.33,
           52156.7,
           1879.37,
           3.74,
           0,
           0,
           1879.37,
           3.74
          ],
          [
           50277.33,
           50147.16,
           -130.18,
           -0.26,
           0,
           0,
           -130.18,
           -0.26
          ],
          [
           50277.33,
           51336.06,
           1058.73,
           2.11,
           0,
           0,
           1058.73,
           2.11
          ],
          [
           50277.33,
           52051.39,
           1774.06,
           3.53,
           0,
           0,
           1774.06,
           3.53
          ],
          [
           50277.33,
           52354.43,
           2077.11,
           4.13,
           0,
           0,
           2077.11,
           4.13
          ],
          [
           50277.33,
           53326.9,
           3049.58,
           6.07,
           0,
           0,
           3049.58,
           6.07
          ],
          [
           50277.33,
           54628.08,
           4350.74,
           8.65,
           0,
           0,
           4350.74,
           8.65
          ],
          [
           50277.33,
           55579.47,
           5302.14,
           10.55,
           0,
           0,
           5302.14,
           10.55
          ],
          [
           50277.33,
           54421.9,
           4144.57,
           8.24,
           0,
           0,
           4144.57,
           8.24
          ],
          [
           59555.78,
           62435.2,
           2879.44,
           4.83,
           0,
           0,
           2879.44,
           4.83
          ],
          [
           59555.78,
           62641.92,
           3086.17,
           5.18,
           0,
           0,
           3086.17,
           5.18
          ],
          [
           59555.78,
           63797.4,
           4241.62,
           7.12,
           0,
           0,
           4241.62,
           7.12
          ],
          [
           59555.78,
           65782.29,
           6226.52,
           10.45,
           0,
           0,
           6226.52,
           10.45
          ],
          [
           59555.78,
           65650.35,
           6094.58,
           10.23,
           0,
           0,
           6094.58,
           10.23
          ],
          [
           59555.78,
           67456.8,
           7901.05,
           13.27,
           0,
           0,
           7901.05,
           13.27
          ],
          [
           59555.78,
           67136.98,
           7581.23,
           12.73,
           0,
           0,
           7581.23,
           12.73
          ],
          [
           59555.78,
           67908.71,
           8352.95,
           14.03,
           0,
           0,
           8352.95,
           14.03
          ],
          [
           64513.82,
           72794.78,
           8280.95,
           12.84,
           0,
           0,
           8280.95,
           12.84
          ],
          [
           64513.82,
           72363.21,
           7849.41,
           12.17,
           0,
           0,
           7849.41,
           12.17
          ],
          [
           64513.82,
           71601.57,
           7087.75,
           10.99,
           0,
           0,
           7087.75,
           10.99
          ],
          [
           64513.82,
           72911.19,
           8397.38,
           13.02,
           0,
           0,
           8397.38,
           13.02
          ],
          [
           64513.82,
           74250.72,
           9736.91,
           15.09,
           0,
           0,
           9736.91,
           15.09
          ],
          [
           64513.82,
           74091.4,
           9577.58,
           14.85,
           0,
           0,
           9577.58,
           14.85
          ]
         ],
         "hovertemplate": "date=%{x}<br>total_pct_gain=%{customdata[7]}<br>invested_amount=%{marker.color}<br>market_value=%{customdata[1]}<br>unrealized_gain=%{customdata[2]}<br>unrealized_pct_gain=%{customdata[3]}<br>realized_gain=%{customdata[4]}<br>realized_pct_gain=%{customdata[5]}<br>total_gain=%{customdata[6]}<extra></extra>",
         "legendgroup": "",
         "marker": {
          "color": [
           679.61,
           679.61,
           679.61,
           6219.37,
           6219.37,
           50277.33,
           50277.33,
           50277.33,
           50277.33,
           50277.33,
           50277.33,
           50277.33,
           50277.33,
           50277.33,
           50277.33,
           50277.33,
           50277.33,
           50277.33,
           50277.33,
           50277.33,
           50277.33,
           50277.33,
           59555.78,
           59555.78,
           59555.78,
           59555.78,
           59555.78,
           59555.78,
           59555.78,
           59555.78,
           64513.82,
           64513.82,
           64513.82,
           64513.82,
           64513.82,
           64513.82
          ],
          "coloraxis": "coloraxis",
          "symbol": "circle"
         },
         "mode": "markers",
         "name": "",
         "showlegend": false,
         "type": "scatter",
         "x": [
          "2020-04-13T00:00:00",
          "2020-04-14T00:00:00",
          "2020-04-15T00:00:00",
          "2020-04-16T00:00:00",
          "2020-04-17T00:00:00",
          "2020-04-20T00:00:00",
          "2020-04-21T00:00:00",
          "2020-04-22T00:00:00",
          "2020-04-23T00:00:00",
          "2020-04-24T00:00:00",
          "2020-04-27T00:00:00",
          "2020-04-28T00:00:00",
          "2020-04-29T00:00:00",
          "2020-04-30T00:00:00",
          "2020-05-01T00:00:00",
          "2020-05-04T00:00:00",
          "2020-05-05T00:00:00",
          "2020-05-06T00:00:00",
          "2020-05-07T00:00:00",
          "2020-05-08T00:00:00",
          "2020-05-11T00:00:00",
          "2020-05-12T00:00:00",
          "2020-05-13T00:00:00",
          "2020-05-14T00:00:00",
          "2020-05-15T00:00:00",
          "2020-05-18T00:00:00",
          "2020-05-19T00:00:00",
          "2020-05-20T00:00:00",
          "2020-05-21T00:00:00",
          "2020-05-22T00:00:00",
          "2020-05-26T00:00:00",
          "2020-05-27T00:00:00",
          "2020-05-28T00:00:00",
          "2020-05-29T00:00:00",
          "2020-06-01T00:00:00",
          "2020-06-02T15:02:47"
         ],
         "xaxis": "x",
         "y": [
          -4.75,
          0.18,
          -1.97,
          1,
          3.04,
          -0.52,
          -4.11,
          -0.7,
          -1.32,
          0.4,
          3.61,
          1.92,
          5.86,
          3.74,
          -0.26,
          2.11,
          3.53,
          4.13,
          6.07,
          8.65,
          10.55,
          8.24,
          4.83,
          5.18,
          7.12,
          10.45,
          10.23,
          13.27,
          12.73,
          14.03,
          12.84,
          12.17,
          10.99,
          13.02,
          15.09,
          14.85
         ],
         "yaxis": "y"
        },
        {
         "alignmentgroup": "True",
         "customdata": [
          [
           679.61,
           647.31,
           -32.3,
           -4.75,
           0,
           0,
           -32.3,
           -4.75
          ],
          [
           679.61,
           680.86,
           1.25,
           0.18,
           0,
           0,
           1.25,
           0.18
          ],
          [
           679.61,
           666.25,
           -13.36,
           -1.97,
           0,
           0,
           -13.36,
           -1.97
          ],
          [
           6219.37,
           6281.6,
           62.23,
           1,
           0,
           0,
           62.23,
           1
          ],
          [
           6219.37,
           6408.28,
           188.91,
           3.04,
           0,
           0,
           188.91,
           3.04
          ],
          [
           50277.33,
           50013.61,
           -263.75,
           -0.52,
           0,
           0,
           -263.75,
           -0.52
          ],
          [
           50277.33,
           48208.47,
           -2068.86,
           -4.11,
           0,
           0,
           -2068.86,
           -4.11
          ],
          [
           50277.33,
           49926.02,
           -351.32,
           -0.7,
           0,
           0,
           -351.32,
           -0.7
          ],
          [
           50277.33,
           49615.47,
           -661.87,
           -1.32,
           0,
           0,
           -661.87,
           -1.32
          ],
          [
           50277.33,
           50478.17,
           200.84,
           0.4,
           0,
           0,
           200.84,
           0.4
          ],
          [
           50277.33,
           52090.32,
           1812.99,
           3.61,
           0,
           0,
           1812.99,
           3.61
          ],
          [
           50277.33,
           51241.7,
           964.37,
           1.92,
           0,
           0,
           964.37,
           1.92
          ],
          [
           50277.33,
           53226.03,
           2948.69,
           5.86,
           0,
           0,
           2948.69,
           5.86
          ],
          [
           50277.33,
           52156.7,
           1879.37,
           3.74,
           0,
           0,
           1879.37,
           3.74
          ],
          [
           50277.33,
           50147.16,
           -130.18,
           -0.26,
           0,
           0,
           -130.18,
           -0.26
          ],
          [
           50277.33,
           51336.06,
           1058.73,
           2.11,
           0,
           0,
           1058.73,
           2.11
          ],
          [
           50277.33,
           52051.39,
           1774.06,
           3.53,
           0,
           0,
           1774.06,
           3.53
          ],
          [
           50277.33,
           52354.43,
           2077.11,
           4.13,
           0,
           0,
           2077.11,
           4.13
          ],
          [
           50277.33,
           53326.9,
           3049.58,
           6.07,
           0,
           0,
           3049.58,
           6.07
          ],
          [
           50277.33,
           54628.08,
           4350.74,
           8.65,
           0,
           0,
           4350.74,
           8.65
          ],
          [
           50277.33,
           55579.47,
           5302.14,
           10.55,
           0,
           0,
           5302.14,
           10.55
          ],
          [
           50277.33,
           54421.9,
           4144.57,
           8.24,
           0,
           0,
           4144.57,
           8.24
          ],
          [
           59555.78,
           62435.2,
           2879.44,
           4.83,
           0,
           0,
           2879.44,
           4.83
          ],
          [
           59555.78,
           62641.92,
           3086.17,
           5.18,
           0,
           0,
           3086.17,
           5.18
          ],
          [
           59555.78,
           63797.4,
           4241.62,
           7.12,
           0,
           0,
           4241.62,
           7.12
          ],
          [
           59555.78,
           65782.29,
           6226.52,
           10.45,
           0,
           0,
           6226.52,
           10.45
          ],
          [
           59555.78,
           65650.35,
           6094.58,
           10.23,
           0,
           0,
           6094.58,
           10.23
          ],
          [
           59555.78,
           67456.8,
           7901.05,
           13.27,
           0,
           0,
           7901.05,
           13.27
          ],
          [
           59555.78,
           67136.98,
           7581.23,
           12.73,
           0,
           0,
           7581.23,
           12.73
          ],
          [
           59555.78,
           67908.71,
           8352.95,
           14.03,
           0,
           0,
           8352.95,
           14.03
          ],
          [
           64513.82,
           72794.78,
           8280.95,
           12.84,
           0,
           0,
           8280.95,
           12.84
          ],
          [
           64513.82,
           72363.21,
           7849.41,
           12.17,
           0,
           0,
           7849.41,
           12.17
          ],
          [
           64513.82,
           71601.57,
           7087.75,
           10.99,
           0,
           0,
           7087.75,
           10.99
          ],
          [
           64513.82,
           72911.19,
           8397.38,
           13.02,
           0,
           0,
           8397.38,
           13.02
          ],
          [
           64513.82,
           74250.72,
           9736.91,
           15.09,
           0,
           0,
           9736.91,
           15.09
          ],
          [
           64513.82,
           74091.4,
           9577.58,
           14.85,
           0,
           0,
           9577.58,
           14.85
          ]
         ],
         "hovertemplate": "total_pct_gain=%{customdata[7]}<br>invested_amount=%{customdata[0]}<br>market_value=%{customdata[1]}<br>unrealized_gain=%{customdata[2]}<br>unrealized_pct_gain=%{customdata[3]}<br>realized_gain=%{customdata[4]}<br>realized_pct_gain=%{customdata[5]}<br>total_gain=%{customdata[6]}<extra></extra>",
         "legendgroup": "",
         "marker": {
          "color": "#0d0887",
          "symbol": "circle"
         },
         "name": "",
         "notched": true,
         "offsetgroup": "",
         "showlegend": false,
         "type": "box",
         "xaxis": "x2",
         "y": [
          -4.75,
          0.18,
          -1.97,
          1,
          3.04,
          -0.52,
          -4.11,
          -0.7,
          -1.32,
          0.4,
          3.61,
          1.92,
          5.86,
          3.74,
          -0.26,
          2.11,
          3.53,
          4.13,
          6.07,
          8.65,
          10.55,
          8.24,
          4.83,
          5.18,
          7.12,
          10.45,
          10.23,
          13.27,
          12.73,
          14.03,
          12.84,
          12.17,
          10.99,
          13.02,
          15.09,
          14.85
         ],
         "yaxis": "y2"
        },
        {
         "hovertemplate": "<b>LOWESS trendline</b><br><br>date=%{x}<br>total_pct_gain=%{y} <b>(trend)</b><extra></extra>",
         "legendgroup": "",
         "line": {
          "color": "dodgerblue"
         },
         "marker": {
          "symbol": "circle"
         },
         "mode": "lines",
         "name": "",
         "showlegend": false,
         "type": "scatter",
         "x": [
          "2020-04-13T00:00:00",
          "2020-04-14T00:00:00",
          "2020-04-15T00:00:00",
          "2020-04-16T00:00:00",
          "2020-04-17T00:00:00",
          "2020-04-20T00:00:00",
          "2020-04-21T00:00:00",
          "2020-04-22T00:00:00",
          "2020-04-23T00:00:00",
          "2020-04-24T00:00:00",
          "2020-04-27T00:00:00",
          "2020-04-28T00:00:00",
          "2020-04-29T00:00:00",
          "2020-04-30T00:00:00",
          "2020-05-01T00:00:00",
          "2020-05-04T00:00:00",
          "2020-05-05T00:00:00",
          "2020-05-06T00:00:00",
          "2020-05-07T00:00:00",
          "2020-05-08T00:00:00",
          "2020-05-11T00:00:00",
          "2020-05-12T00:00:00",
          "2020-05-13T00:00:00",
          "2020-05-14T00:00:00",
          "2020-05-15T00:00:00",
          "2020-05-18T00:00:00",
          "2020-05-19T00:00:00",
          "2020-05-20T00:00:00",
          "2020-05-21T00:00:00",
          "2020-05-22T00:00:00",
          "2020-05-26T00:00:00",
          "2020-05-27T00:00:00",
          "2020-05-28T00:00:00",
          "2020-05-29T00:00:00",
          "2020-06-01T00:00:00",
          "2020-06-02T15:02:47"
         ],
         "xaxis": "x",
         "y": [
          -2.042947167700113,
          -1.7799460184507465,
          -1.5143178802575918,
          -1.2454858930425567,
          -0.9729532676432588,
          -0.13569456569175417,
          0.1468088495108813,
          0.4287557875569554,
          0.7087395630169901,
          0.9852722188528272,
          1.7758880000749937,
          2.026725550199334,
          2.3775407364961527,
          2.75873978233641,
          3.1544427225425404,
          4.288108434883425,
          4.68020234898018,
          5.032606994079747,
          5.389410334067059,
          5.815301450749012,
          7.083848379254877,
          7.534402909988431,
          7.988296689463964,
          8.42125089094374,
          8.838518692048302,
          9.880294254117558,
          10.208721641455007,
          10.544257777049207,
          10.885474391691835,
          11.230450433334635,
          12.6154608828116,
          12.957501607953219,
          13.296545214115113,
          13.632345763849706,
          14.621956684604703,
          15.149297971735926
         ],
         "yaxis": "y"
        }
       ],
       "layout": {
        "coloraxis": {
         "colorbar": {
          "title": {
           "text": "invested_amount"
          }
         },
         "colorscale": [
          [
           0,
           "#0d0887"
          ],
          [
           0.1111111111111111,
           "#46039f"
          ],
          [
           0.2222222222222222,
           "#7201a8"
          ],
          [
           0.3333333333333333,
           "#9c179e"
          ],
          [
           0.4444444444444444,
           "#bd3786"
          ],
          [
           0.5555555555555556,
           "#d8576b"
          ],
          [
           0.6666666666666666,
           "#ed7953"
          ],
          [
           0.7777777777777778,
           "#fb9f3a"
          ],
          [
           0.8888888888888888,
           "#fdca26"
          ],
          [
           1,
           "#f0f921"
          ]
         ]
        },
        "legend": {
         "tracegroupgap": 0
        },
        "shapes": [
         {
          "fillcolor": "Red",
          "opacity": 0.2,
          "type": "rect",
          "x0": "2020-04-13T00:00:00+00:00",
          "x1": "2020-06-02T15:02:47+00:00",
          "xref": "x",
          "y0": -4.75,
          "y1": 0,
          "yref": "y"
         }
        ],
        "template": {
         "data": {
          "bar": [
           {
            "error_x": {
             "color": "#2a3f5f"
            },
            "error_y": {
             "color": "#2a3f5f"
            },
            "marker": {
             "line": {
              "color": "#E5ECF6",
              "width": 0.5
             }
            },
            "type": "bar"
           }
          ],
          "barpolar": [
           {
            "marker": {
             "line": {
              "color": "#E5ECF6",
              "width": 0.5
             }
            },
            "type": "barpolar"
           }
          ],
          "carpet": [
           {
            "aaxis": {
             "endlinecolor": "#2a3f5f",
             "gridcolor": "white",
             "linecolor": "white",
             "minorgridcolor": "white",
             "startlinecolor": "#2a3f5f"
            },
            "baxis": {
             "endlinecolor": "#2a3f5f",
             "gridcolor": "white",
             "linecolor": "white",
             "minorgridcolor": "white",
             "startlinecolor": "#2a3f5f"
            },
            "type": "carpet"
           }
          ],
          "choropleth": [
           {
            "colorbar": {
             "outlinewidth": 0,
             "ticks": ""
            },
            "type": "choropleth"
           }
          ],
          "contour": [
           {
            "colorbar": {
             "outlinewidth": 0,
             "ticks": ""
            },
            "colorscale": [
             [
              0,
              "#0d0887"
             ],
             [
              0.1111111111111111,
              "#46039f"
             ],
             [
              0.2222222222222222,
              "#7201a8"
             ],
             [
              0.3333333333333333,
              "#9c179e"
             ],
             [
              0.4444444444444444,
              "#bd3786"
             ],
             [
              0.5555555555555556,
              "#d8576b"
             ],
             [
              0.6666666666666666,
              "#ed7953"
             ],
             [
              0.7777777777777778,
              "#fb9f3a"
             ],
             [
              0.8888888888888888,
              "#fdca26"
             ],
             [
              1,
              "#f0f921"
             ]
            ],
            "type": "contour"
           }
          ],
          "contourcarpet": [
           {
            "colorbar": {
             "outlinewidth": 0,
             "ticks": ""
            },
            "type": "contourcarpet"
           }
          ],
          "heatmap": [
           {
            "colorbar": {
             "outlinewidth": 0,
             "ticks": ""
            },
            "colorscale": [
             [
              0,
              "#0d0887"
             ],
             [
              0.1111111111111111,
              "#46039f"
             ],
             [
              0.2222222222222222,
              "#7201a8"
             ],
             [
              0.3333333333333333,
              "#9c179e"
             ],
             [
              0.4444444444444444,
              "#bd3786"
             ],
             [
              0.5555555555555556,
              "#d8576b"
             ],
             [
              0.6666666666666666,
              "#ed7953"
             ],
             [
              0.7777777777777778,
              "#fb9f3a"
             ],
             [
              0.8888888888888888,
              "#fdca26"
             ],
             [
              1,
              "#f0f921"
             ]
            ],
            "type": "heatmap"
           }
          ],
          "heatmapgl": [
           {
            "colorbar": {
             "outlinewidth": 0,
             "ticks": ""
            },
            "colorscale": [
             [
              0,
              "#0d0887"
             ],
             [
              0.1111111111111111,
              "#46039f"
             ],
             [
              0.2222222222222222,
              "#7201a8"
             ],
             [
              0.3333333333333333,
              "#9c179e"
             ],
             [
              0.4444444444444444,
              "#bd3786"
             ],
             [
              0.5555555555555556,
              "#d8576b"
             ],
             [
              0.6666666666666666,
              "#ed7953"
             ],
             [
              0.7777777777777778,
              "#fb9f3a"
             ],
             [
              0.8888888888888888,
              "#fdca26"
             ],
             [
              1,
              "#f0f921"
             ]
            ],
            "type": "heatmapgl"
           }
          ],
          "histogram": [
           {
            "marker": {
             "colorbar": {
              "outlinewidth": 0,
              "ticks": ""
             }
            },
            "type": "histogram"
           }
          ],
          "histogram2d": [
           {
            "colorbar": {
             "outlinewidth": 0,
             "ticks": ""
            },
            "colorscale": [
             [
              0,
              "#0d0887"
             ],
             [
              0.1111111111111111,
              "#46039f"
             ],
             [
              0.2222222222222222,
              "#7201a8"
             ],
             [
              0.3333333333333333,
              "#9c179e"
             ],
             [
              0.4444444444444444,
              "#bd3786"
             ],
             [
              0.5555555555555556,
              "#d8576b"
             ],
             [
              0.6666666666666666,
              "#ed7953"
             ],
             [
              0.7777777777777778,
              "#fb9f3a"
             ],
             [
              0.8888888888888888,
              "#fdca26"
             ],
             [
              1,
              "#f0f921"
             ]
            ],
            "type": "histogram2d"
           }
          ],
          "histogram2dcontour": [
           {
            "colorbar": {
             "outlinewidth": 0,
             "ticks": ""
            },
            "colorscale": [
             [
              0,
              "#0d0887"
             ],
             [
              0.1111111111111111,
              "#46039f"
             ],
             [
              0.2222222222222222,
              "#7201a8"
             ],
             [
              0.3333333333333333,
              "#9c179e"
             ],
             [
              0.4444444444444444,
              "#bd3786"
             ],
             [
              0.5555555555555556,
              "#d8576b"
             ],
             [
              0.6666666666666666,
              "#ed7953"
             ],
             [
              0.7777777777777778,
              "#fb9f3a"
             ],
             [
              0.8888888888888888,
              "#fdca26"
             ],
             [
              1,
              "#f0f921"
             ]
            ],
            "type": "histogram2dcontour"
           }
          ],
          "mesh3d": [
           {
            "colorbar": {
             "outlinewidth": 0,
             "ticks": ""
            },
            "type": "mesh3d"
           }
          ],
          "parcoords": [
           {
            "line": {
             "colorbar": {
              "outlinewidth": 0,
              "ticks": ""
             }
            },
            "type": "parcoords"
           }
          ],
          "pie": [
           {
            "automargin": true,
            "type": "pie"
           }
          ],
          "scatter": [
           {
            "marker": {
             "colorbar": {
              "outlinewidth": 0,
              "ticks": ""
             }
            },
            "type": "scatter"
           }
          ],
          "scatter3d": [
           {
            "line": {
             "colorbar": {
              "outlinewidth": 0,
              "ticks": ""
             }
            },
            "marker": {
             "colorbar": {
              "outlinewidth": 0,
              "ticks": ""
             }
            },
            "type": "scatter3d"
           }
          ],
          "scattercarpet": [
           {
            "marker": {
             "colorbar": {
              "outlinewidth": 0,
              "ticks": ""
             }
            },
            "type": "scattercarpet"
           }
          ],
          "scattergeo": [
           {
            "marker": {
             "colorbar": {
              "outlinewidth": 0,
              "ticks": ""
             }
            },
            "type": "scattergeo"
           }
          ],
          "scattergl": [
           {
            "marker": {
             "colorbar": {
              "outlinewidth": 0,
              "ticks": ""
             }
            },
            "type": "scattergl"
           }
          ],
          "scattermapbox": [
           {
            "marker": {
             "colorbar": {
              "outlinewidth": 0,
              "ticks": ""
             }
            },
            "type": "scattermapbox"
           }
          ],
          "scatterpolar": [
           {
            "marker": {
             "colorbar": {
              "outlinewidth": 0,
              "ticks": ""
             }
            },
            "type": "scatterpolar"
           }
          ],
          "scatterpolargl": [
           {
            "marker": {
             "colorbar": {
              "outlinewidth": 0,
              "ticks": ""
             }
            },
            "type": "scatterpolargl"
           }
          ],
          "scatterternary": [
           {
            "marker": {
             "colorbar": {
              "outlinewidth": 0,
              "ticks": ""
             }
            },
            "type": "scatterternary"
           }
          ],
          "surface": [
           {
            "colorbar": {
             "outlinewidth": 0,
             "ticks": ""
            },
            "colorscale": [
             [
              0,
              "#0d0887"
             ],
             [
              0.1111111111111111,
              "#46039f"
             ],
             [
              0.2222222222222222,
              "#7201a8"
             ],
             [
              0.3333333333333333,
              "#9c179e"
             ],
             [
              0.4444444444444444,
              "#bd3786"
             ],
             [
              0.5555555555555556,
              "#d8576b"
             ],
             [
              0.6666666666666666,
              "#ed7953"
             ],
             [
              0.7777777777777778,
              "#fb9f3a"
             ],
             [
              0.8888888888888888,
              "#fdca26"
             ],
             [
              1,
              "#f0f921"
             ]
            ],
            "type": "surface"
           }
          ],
          "table": [
           {
            "cells": {
             "fill": {
              "color": "#EBF0F8"
             },
             "line": {
              "color": "white"
             }
            },
            "header": {
             "fill": {
              "color": "#C8D4E3"
             },
             "line": {
              "color": "white"
             }
            },
            "type": "table"
           }
          ]
         },
         "layout": {
          "annotationdefaults": {
           "arrowcolor": "#2a3f5f",
           "arrowhead": 0,
           "arrowwidth": 1
          },
          "coloraxis": {
           "colorbar": {
            "outlinewidth": 0,
            "ticks": ""
           }
          },
          "colorscale": {
           "diverging": [
            [
             0,
             "#8e0152"
            ],
            [
             0.1,
             "#c51b7d"
            ],
            [
             0.2,
             "#de77ae"
            ],
            [
             0.3,
             "#f1b6da"
            ],
            [
             0.4,
             "#fde0ef"
            ],
            [
             0.5,
             "#f7f7f7"
            ],
            [
             0.6,
             "#e6f5d0"
            ],
            [
             0.7,
             "#b8e186"
            ],
            [
             0.8,
             "#7fbc41"
            ],
            [
             0.9,
             "#4d9221"
            ],
            [
             1,
             "#276419"
            ]
           ],
           "sequential": [
            [
             0,
             "#0d0887"
            ],
            [
             0.1111111111111111,
             "#46039f"
            ],
            [
             0.2222222222222222,
             "#7201a8"
            ],
            [
             0.3333333333333333,
             "#9c179e"
            ],
            [
             0.4444444444444444,
             "#bd3786"
            ],
            [
             0.5555555555555556,
             "#d8576b"
            ],
            [
             0.6666666666666666,
             "#ed7953"
            ],
            [
             0.7777777777777778,
             "#fb9f3a"
            ],
            [
             0.8888888888888888,
             "#fdca26"
            ],
            [
             1,
             "#f0f921"
            ]
           ],
           "sequentialminus": [
            [
             0,
             "#0d0887"
            ],
            [
             0.1111111111111111,
             "#46039f"
            ],
            [
             0.2222222222222222,
             "#7201a8"
            ],
            [
             0.3333333333333333,
             "#9c179e"
            ],
            [
             0.4444444444444444,
             "#bd3786"
            ],
            [
             0.5555555555555556,
             "#d8576b"
            ],
            [
             0.6666666666666666,
             "#ed7953"
            ],
            [
             0.7777777777777778,
             "#fb9f3a"
            ],
            [
             0.8888888888888888,
             "#fdca26"
            ],
            [
             1,
             "#f0f921"
            ]
           ]
          },
          "colorway": [
           "#636efa",
           "#EF553B",
           "#00cc96",
           "#ab63fa",
           "#FFA15A",
           "#19d3f3",
           "#FF6692",
           "#B6E880",
           "#FF97FF",
           "#FECB52"
          ],
          "font": {
           "color": "#2a3f5f"
          },
          "geo": {
           "bgcolor": "white",
           "lakecolor": "white",
           "landcolor": "#E5ECF6",
           "showlakes": true,
           "showland": true,
           "subunitcolor": "white"
          },
          "hoverlabel": {
           "align": "left"
          },
          "hovermode": "closest",
          "mapbox": {
           "style": "light"
          },
          "paper_bgcolor": "white",
          "plot_bgcolor": "#E5ECF6",
          "polar": {
           "angularaxis": {
            "gridcolor": "white",
            "linecolor": "white",
            "ticks": ""
           },
           "bgcolor": "#E5ECF6",
           "radialaxis": {
            "gridcolor": "white",
            "linecolor": "white",
            "ticks": ""
           }
          },
          "scene": {
           "xaxis": {
            "backgroundcolor": "#E5ECF6",
            "gridcolor": "white",
            "gridwidth": 2,
            "linecolor": "white",
            "showbackground": true,
            "ticks": "",
            "zerolinecolor": "white"
           },
           "yaxis": {
            "backgroundcolor": "#E5ECF6",
            "gridcolor": "white",
            "gridwidth": 2,
            "linecolor": "white",
            "showbackground": true,
            "ticks": "",
            "zerolinecolor": "white"
           },
           "zaxis": {
            "backgroundcolor": "#E5ECF6",
            "gridcolor": "white",
            "gridwidth": 2,
            "linecolor": "white",
            "showbackground": true,
            "ticks": "",
            "zerolinecolor": "white"
           }
          },
          "shapedefaults": {
           "line": {
            "color": "#2a3f5f"
           }
          },
          "ternary": {
           "aaxis": {
            "gridcolor": "white",
            "linecolor": "white",
            "ticks": ""
           },
           "baxis": {
            "gridcolor": "white",
            "linecolor": "white",
            "ticks": ""
           },
           "bgcolor": "#E5ECF6",
           "caxis": {
            "gridcolor": "white",
            "linecolor": "white",
            "ticks": ""
           }
          },
          "title": {
           "x": 0.05
          },
          "xaxis": {
           "automargin": true,
           "gridcolor": "white",
           "linecolor": "white",
           "ticks": "",
           "title": {
            "standoff": 15
           },
           "zerolinecolor": "white",
           "zerolinewidth": 2
          },
          "yaxis": {
           "automargin": true,
           "gridcolor": "white",
           "linecolor": "white",
           "ticks": "",
           "title": {
            "standoff": 15
           },
           "zerolinecolor": "white",
           "zerolinewidth": 2
          }
         }
        },
        "title": {
         "text": "Portfolio Value Scatter"
        },
        "xaxis": {
         "anchor": "y",
         "domain": [
          0,
          0.7363
         ],
         "rangeselector": {
          "buttons": [
           {
            "count": 1,
            "label": "1m",
            "step": "month",
            "stepmode": "backward"
           },
           {
            "count": 6,
            "label": "6m",
            "step": "month",
            "stepmode": "backward"
           },
           {
            "count": 1,
            "label": "YTD",
            "step": "year",
            "stepmode": "todate"
           },
           {
            "count": 1,
            "label": "1y",
            "step": "year",
            "stepmode": "backward"
           },
           {
            "step": "all"
           }
          ]
         },
         "title": {
          "text": "date"
         }
        },
        "xaxis2": {
         "anchor": "y2",
         "domain": [
          0.7413,
          1
         ],
         "matches": "x2",
         "rangeselector": {
          "buttons": [
           {
            "count": 1,
            "label": "1m",
            "step": "month",
            "stepmode": "backward"
           },
           {
            "count": 6,
            "label": "6m",
            "step": "month",
            "stepmode": "backward"
           },
           {
            "count": 1,
            "label": "YTD",
            "step": "year",
            "stepmode": "todate"
           },
           {
            "count": 1,
            "label": "1y",
            "step": "year",
            "stepmode": "backward"
           },
           {
            "step": "all"
           }
          ]
         },
         "showgrid": false,
         "showline": false,
         "showticklabels": false,
         "ticks": ""
        },
        "yaxis": {
         "anchor": "x",
         "domain": [
          0,
          1
         ],
         "range": [
          -4.75,
          16.09
         ],
         "title": {
          "text": "total_pct_gain"
         }
        },
        "yaxis2": {
         "anchor": "x2",
         "domain": [
          0,
          1
         ],
         "matches": "y",
         "showgrid": true,
         "showticklabels": false
        }
       }
      },
      "text/html": [
       "<div>\n",
       "        \n",
       "        \n",
       "            <div id=\"7157c813-b9c4-4ceb-ac0f-69a60efa5e6c\" class=\"plotly-graph-div\" style=\"height:525px; width:100%;\"></div>\n",
       "            <script type=\"text/javascript\">\n",
       "                require([\"plotly\"], function(Plotly) {\n",
       "                    window.PLOTLYENV=window.PLOTLYENV || {};\n",
       "                    \n",
       "                if (document.getElementById(\"7157c813-b9c4-4ceb-ac0f-69a60efa5e6c\")) {\n",
       "                    Plotly.newPlot(\n",
       "                        '7157c813-b9c4-4ceb-ac0f-69a60efa5e6c',\n",
       "                        [{\"customdata\": [[679.61, 647.31, -32.3, -4.75, 0.0, 0.0, -32.3, -4.75], [679.61, 680.86, 1.25, 0.18, 0.0, 0.0, 1.25, 0.18], [679.61, 666.25, -13.36, -1.97, 0.0, 0.0, -13.36, -1.97], [6219.37, 6281.6, 62.23, 1.0, 0.0, 0.0, 62.23, 1.0], [6219.37, 6408.28, 188.91, 3.04, 0.0, 0.0, 188.91, 3.04], [50277.33, 50013.61, -263.75, -0.52, 0.0, 0.0, -263.75, -0.52], [50277.33, 48208.47, -2068.86, -4.11, 0.0, 0.0, -2068.86, -4.11], [50277.33, 49926.02, -351.32, -0.7, 0.0, 0.0, -351.32, -0.7], [50277.33, 49615.47, -661.87, -1.32, 0.0, 0.0, -661.87, -1.32], [50277.33, 50478.17, 200.84, 0.4, 0.0, 0.0, 200.84, 0.4], [50277.33, 52090.32, 1812.99, 3.61, 0.0, 0.0, 1812.99, 3.61], [50277.33, 51241.7, 964.37, 1.92, 0.0, 0.0, 964.37, 1.92], [50277.33, 53226.03, 2948.69, 5.86, 0.0, 0.0, 2948.69, 5.86], [50277.33, 52156.7, 1879.37, 3.74, 0.0, 0.0, 1879.37, 3.74], [50277.33, 50147.16, -130.18, -0.26, 0.0, 0.0, -130.18, -0.26], [50277.33, 51336.06, 1058.73, 2.11, 0.0, 0.0, 1058.73, 2.11], [50277.33, 52051.39, 1774.06, 3.53, 0.0, 0.0, 1774.06, 3.53], [50277.33, 52354.43, 2077.11, 4.13, 0.0, 0.0, 2077.11, 4.13], [50277.33, 53326.9, 3049.58, 6.07, 0.0, 0.0, 3049.58, 6.07], [50277.33, 54628.08, 4350.74, 8.65, 0.0, 0.0, 4350.74, 8.65], [50277.33, 55579.47, 5302.14, 10.55, 0.0, 0.0, 5302.14, 10.55], [50277.33, 54421.9, 4144.57, 8.24, 0.0, 0.0, 4144.57, 8.24], [59555.78, 62435.2, 2879.44, 4.83, 0.0, 0.0, 2879.44, 4.83], [59555.78, 62641.92, 3086.17, 5.18, 0.0, 0.0, 3086.17, 5.18], [59555.78, 63797.4, 4241.62, 7.12, 0.0, 0.0, 4241.62, 7.12], [59555.78, 65782.29, 6226.52, 10.45, 0.0, 0.0, 6226.52, 10.45], [59555.78, 65650.35, 6094.58, 10.23, 0.0, 0.0, 6094.58, 10.23], [59555.78, 67456.8, 7901.05, 13.27, 0.0, 0.0, 7901.05, 13.27], [59555.78, 67136.98, 7581.23, 12.73, 0.0, 0.0, 7581.23, 12.73], [59555.78, 67908.71, 8352.95, 14.03, 0.0, 0.0, 8352.95, 14.03], [64513.82, 72794.78, 8280.95, 12.84, 0.0, 0.0, 8280.95, 12.84], [64513.82, 72363.21, 7849.41, 12.17, 0.0, 0.0, 7849.41, 12.17], [64513.82, 71601.57, 7087.75, 10.99, 0.0, 0.0, 7087.75, 10.99], [64513.82, 72911.19, 8397.38, 13.02, 0.0, 0.0, 8397.38, 13.02], [64513.82, 74250.72, 9736.91, 15.09, 0.0, 0.0, 9736.91, 15.09], [64513.82, 74091.4, 9577.58, 14.85, 0.0, 0.0, 9577.58, 14.85]], \"hovertemplate\": \"date=%{x}<br>total_pct_gain=%{customdata[7]}<br>invested_amount=%{marker.color}<br>market_value=%{customdata[1]}<br>unrealized_gain=%{customdata[2]}<br>unrealized_pct_gain=%{customdata[3]}<br>realized_gain=%{customdata[4]}<br>realized_pct_gain=%{customdata[5]}<br>total_gain=%{customdata[6]}<extra></extra>\", \"legendgroup\": \"\", \"marker\": {\"color\": [679.61, 679.61, 679.61, 6219.37, 6219.37, 50277.33, 50277.33, 50277.33, 50277.33, 50277.33, 50277.33, 50277.33, 50277.33, 50277.33, 50277.33, 50277.33, 50277.33, 50277.33, 50277.33, 50277.33, 50277.33, 50277.33, 59555.78, 59555.78, 59555.78, 59555.78, 59555.78, 59555.78, 59555.78, 59555.78, 64513.82, 64513.82, 64513.82, 64513.82, 64513.82, 64513.82], \"coloraxis\": \"coloraxis\", \"symbol\": \"circle\"}, \"mode\": \"markers\", \"name\": \"\", \"showlegend\": false, \"type\": \"scatter\", \"x\": [\"2020-04-13T00:00:00\", \"2020-04-14T00:00:00\", \"2020-04-15T00:00:00\", \"2020-04-16T00:00:00\", \"2020-04-17T00:00:00\", \"2020-04-20T00:00:00\", \"2020-04-21T00:00:00\", \"2020-04-22T00:00:00\", \"2020-04-23T00:00:00\", \"2020-04-24T00:00:00\", \"2020-04-27T00:00:00\", \"2020-04-28T00:00:00\", \"2020-04-29T00:00:00\", \"2020-04-30T00:00:00\", \"2020-05-01T00:00:00\", \"2020-05-04T00:00:00\", \"2020-05-05T00:00:00\", \"2020-05-06T00:00:00\", \"2020-05-07T00:00:00\", \"2020-05-08T00:00:00\", \"2020-05-11T00:00:00\", \"2020-05-12T00:00:00\", \"2020-05-13T00:00:00\", \"2020-05-14T00:00:00\", \"2020-05-15T00:00:00\", \"2020-05-18T00:00:00\", \"2020-05-19T00:00:00\", \"2020-05-20T00:00:00\", \"2020-05-21T00:00:00\", \"2020-05-22T00:00:00\", \"2020-05-26T00:00:00\", \"2020-05-27T00:00:00\", \"2020-05-28T00:00:00\", \"2020-05-29T00:00:00\", \"2020-06-01T00:00:00\", \"2020-06-02T15:02:47\"], \"xaxis\": \"x\", \"y\": [-4.75, 0.18, -1.97, 1.0, 3.04, -0.52, -4.11, -0.7, -1.32, 0.4, 3.61, 1.92, 5.86, 3.74, -0.26, 2.11, 3.53, 4.13, 6.07, 8.65, 10.55, 8.24, 4.83, 5.18, 7.12, 10.45, 10.23, 13.27, 12.73, 14.03, 12.84, 12.17, 10.99, 13.02, 15.09, 14.85], \"yaxis\": \"y\"}, {\"alignmentgroup\": \"True\", \"customdata\": [[679.61, 647.31, -32.3, -4.75, 0.0, 0.0, -32.3, -4.75], [679.61, 680.86, 1.25, 0.18, 0.0, 0.0, 1.25, 0.18], [679.61, 666.25, -13.36, -1.97, 0.0, 0.0, -13.36, -1.97], [6219.37, 6281.6, 62.23, 1.0, 0.0, 0.0, 62.23, 1.0], [6219.37, 6408.28, 188.91, 3.04, 0.0, 0.0, 188.91, 3.04], [50277.33, 50013.61, -263.75, -0.52, 0.0, 0.0, -263.75, -0.52], [50277.33, 48208.47, -2068.86, -4.11, 0.0, 0.0, -2068.86, -4.11], [50277.33, 49926.02, -351.32, -0.7, 0.0, 0.0, -351.32, -0.7], [50277.33, 49615.47, -661.87, -1.32, 0.0, 0.0, -661.87, -1.32], [50277.33, 50478.17, 200.84, 0.4, 0.0, 0.0, 200.84, 0.4], [50277.33, 52090.32, 1812.99, 3.61, 0.0, 0.0, 1812.99, 3.61], [50277.33, 51241.7, 964.37, 1.92, 0.0, 0.0, 964.37, 1.92], [50277.33, 53226.03, 2948.69, 5.86, 0.0, 0.0, 2948.69, 5.86], [50277.33, 52156.7, 1879.37, 3.74, 0.0, 0.0, 1879.37, 3.74], [50277.33, 50147.16, -130.18, -0.26, 0.0, 0.0, -130.18, -0.26], [50277.33, 51336.06, 1058.73, 2.11, 0.0, 0.0, 1058.73, 2.11], [50277.33, 52051.39, 1774.06, 3.53, 0.0, 0.0, 1774.06, 3.53], [50277.33, 52354.43, 2077.11, 4.13, 0.0, 0.0, 2077.11, 4.13], [50277.33, 53326.9, 3049.58, 6.07, 0.0, 0.0, 3049.58, 6.07], [50277.33, 54628.08, 4350.74, 8.65, 0.0, 0.0, 4350.74, 8.65], [50277.33, 55579.47, 5302.14, 10.55, 0.0, 0.0, 5302.14, 10.55], [50277.33, 54421.9, 4144.57, 8.24, 0.0, 0.0, 4144.57, 8.24], [59555.78, 62435.2, 2879.44, 4.83, 0.0, 0.0, 2879.44, 4.83], [59555.78, 62641.92, 3086.17, 5.18, 0.0, 0.0, 3086.17, 5.18], [59555.78, 63797.4, 4241.62, 7.12, 0.0, 0.0, 4241.62, 7.12], [59555.78, 65782.29, 6226.52, 10.45, 0.0, 0.0, 6226.52, 10.45], [59555.78, 65650.35, 6094.58, 10.23, 0.0, 0.0, 6094.58, 10.23], [59555.78, 67456.8, 7901.05, 13.27, 0.0, 0.0, 7901.05, 13.27], [59555.78, 67136.98, 7581.23, 12.73, 0.0, 0.0, 7581.23, 12.73], [59555.78, 67908.71, 8352.95, 14.03, 0.0, 0.0, 8352.95, 14.03], [64513.82, 72794.78, 8280.95, 12.84, 0.0, 0.0, 8280.95, 12.84], [64513.82, 72363.21, 7849.41, 12.17, 0.0, 0.0, 7849.41, 12.17], [64513.82, 71601.57, 7087.75, 10.99, 0.0, 0.0, 7087.75, 10.99], [64513.82, 72911.19, 8397.38, 13.02, 0.0, 0.0, 8397.38, 13.02], [64513.82, 74250.72, 9736.91, 15.09, 0.0, 0.0, 9736.91, 15.09], [64513.82, 74091.4, 9577.58, 14.85, 0.0, 0.0, 9577.58, 14.85]], \"hovertemplate\": \"total_pct_gain=%{customdata[7]}<br>invested_amount=%{customdata[0]}<br>market_value=%{customdata[1]}<br>unrealized_gain=%{customdata[2]}<br>unrealized_pct_gain=%{customdata[3]}<br>realized_gain=%{customdata[4]}<br>realized_pct_gain=%{customdata[5]}<br>total_gain=%{customdata[6]}<extra></extra>\", \"legendgroup\": \"\", \"marker\": {\"color\": \"#0d0887\", \"symbol\": \"circle\"}, \"name\": \"\", \"notched\": true, \"offsetgroup\": \"\", \"showlegend\": false, \"type\": \"box\", \"xaxis\": \"x2\", \"y\": [-4.75, 0.18, -1.97, 1.0, 3.04, -0.52, -4.11, -0.7, -1.32, 0.4, 3.61, 1.92, 5.86, 3.74, -0.26, 2.11, 3.53, 4.13, 6.07, 8.65, 10.55, 8.24, 4.83, 5.18, 7.12, 10.45, 10.23, 13.27, 12.73, 14.03, 12.84, 12.17, 10.99, 13.02, 15.09, 14.85], \"yaxis\": \"y2\"}, {\"hovertemplate\": \"<b>LOWESS trendline</b><br><br>date=%{x}<br>total_pct_gain=%{y} <b>(trend)</b><extra></extra>\", \"legendgroup\": \"\", \"line\": {\"color\": \"dodgerblue\"}, \"marker\": {\"symbol\": \"circle\"}, \"mode\": \"lines\", \"name\": \"\", \"showlegend\": false, \"type\": \"scatter\", \"x\": [\"2020-04-13T00:00:00\", \"2020-04-14T00:00:00\", \"2020-04-15T00:00:00\", \"2020-04-16T00:00:00\", \"2020-04-17T00:00:00\", \"2020-04-20T00:00:00\", \"2020-04-21T00:00:00\", \"2020-04-22T00:00:00\", \"2020-04-23T00:00:00\", \"2020-04-24T00:00:00\", \"2020-04-27T00:00:00\", \"2020-04-28T00:00:00\", \"2020-04-29T00:00:00\", \"2020-04-30T00:00:00\", \"2020-05-01T00:00:00\", \"2020-05-04T00:00:00\", \"2020-05-05T00:00:00\", \"2020-05-06T00:00:00\", \"2020-05-07T00:00:00\", \"2020-05-08T00:00:00\", \"2020-05-11T00:00:00\", \"2020-05-12T00:00:00\", \"2020-05-13T00:00:00\", \"2020-05-14T00:00:00\", \"2020-05-15T00:00:00\", \"2020-05-18T00:00:00\", \"2020-05-19T00:00:00\", \"2020-05-20T00:00:00\", \"2020-05-21T00:00:00\", \"2020-05-22T00:00:00\", \"2020-05-26T00:00:00\", \"2020-05-27T00:00:00\", \"2020-05-28T00:00:00\", \"2020-05-29T00:00:00\", \"2020-06-01T00:00:00\", \"2020-06-02T15:02:47\"], \"xaxis\": \"x\", \"y\": [-2.042947167700113, -1.7799460184507465, -1.5143178802575918, -1.2454858930425567, -0.9729532676432588, -0.13569456569175417, 0.1468088495108813, 0.4287557875569554, 0.7087395630169901, 0.9852722188528272, 1.7758880000749937, 2.026725550199334, 2.3775407364961527, 2.75873978233641, 3.1544427225425404, 4.288108434883425, 4.68020234898018, 5.032606994079747, 5.389410334067059, 5.815301450749012, 7.083848379254877, 7.534402909988431, 7.988296689463964, 8.42125089094374, 8.838518692048302, 9.880294254117558, 10.208721641455007, 10.544257777049207, 10.885474391691835, 11.230450433334635, 12.6154608828116, 12.957501607953219, 13.296545214115113, 13.632345763849706, 14.621956684604703, 15.149297971735926], \"yaxis\": \"y\"}],\n",
       "                        {\"coloraxis\": {\"colorbar\": {\"title\": {\"text\": \"invested_amount\"}}, \"colorscale\": [[0.0, \"#0d0887\"], [0.1111111111111111, \"#46039f\"], [0.2222222222222222, \"#7201a8\"], [0.3333333333333333, \"#9c179e\"], [0.4444444444444444, \"#bd3786\"], [0.5555555555555556, \"#d8576b\"], [0.6666666666666666, \"#ed7953\"], [0.7777777777777778, \"#fb9f3a\"], [0.8888888888888888, \"#fdca26\"], [1.0, \"#f0f921\"]]}, \"legend\": {\"tracegroupgap\": 0}, \"shapes\": [{\"fillcolor\": \"Red\", \"opacity\": 0.2, \"type\": \"rect\", \"x0\": \"2020-04-13T00:00:00+00:00\", \"x1\": \"2020-06-02T15:02:47+00:00\", \"xref\": \"x\", \"y0\": -4.75, \"y1\": 0, \"yref\": \"y\"}], \"template\": {\"data\": {\"bar\": [{\"error_x\": {\"color\": \"#2a3f5f\"}, \"error_y\": {\"color\": \"#2a3f5f\"}, \"marker\": {\"line\": {\"color\": \"#E5ECF6\", \"width\": 0.5}}, \"type\": \"bar\"}], \"barpolar\": [{\"marker\": {\"line\": {\"color\": \"#E5ECF6\", \"width\": 0.5}}, \"type\": \"barpolar\"}], \"carpet\": [{\"aaxis\": {\"endlinecolor\": \"#2a3f5f\", \"gridcolor\": \"white\", \"linecolor\": \"white\", \"minorgridcolor\": \"white\", \"startlinecolor\": \"#2a3f5f\"}, \"baxis\": {\"endlinecolor\": \"#2a3f5f\", \"gridcolor\": \"white\", \"linecolor\": \"white\", \"minorgridcolor\": \"white\", \"startlinecolor\": \"#2a3f5f\"}, \"type\": \"carpet\"}], \"choropleth\": [{\"colorbar\": {\"outlinewidth\": 0, \"ticks\": \"\"}, \"type\": \"choropleth\"}], \"contour\": [{\"colorbar\": {\"outlinewidth\": 0, \"ticks\": \"\"}, \"colorscale\": [[0.0, \"#0d0887\"], [0.1111111111111111, \"#46039f\"], [0.2222222222222222, \"#7201a8\"], [0.3333333333333333, \"#9c179e\"], [0.4444444444444444, \"#bd3786\"], [0.5555555555555556, \"#d8576b\"], [0.6666666666666666, \"#ed7953\"], [0.7777777777777778, \"#fb9f3a\"], [0.8888888888888888, \"#fdca26\"], [1.0, \"#f0f921\"]], \"type\": \"contour\"}], \"contourcarpet\": [{\"colorbar\": {\"outlinewidth\": 0, \"ticks\": \"\"}, \"type\": \"contourcarpet\"}], \"heatmap\": [{\"colorbar\": {\"outlinewidth\": 0, \"ticks\": \"\"}, \"colorscale\": [[0.0, \"#0d0887\"], [0.1111111111111111, \"#46039f\"], [0.2222222222222222, \"#7201a8\"], [0.3333333333333333, \"#9c179e\"], [0.4444444444444444, \"#bd3786\"], [0.5555555555555556, \"#d8576b\"], [0.6666666666666666, \"#ed7953\"], [0.7777777777777778, \"#fb9f3a\"], [0.8888888888888888, \"#fdca26\"], [1.0, \"#f0f921\"]], \"type\": \"heatmap\"}], \"heatmapgl\": [{\"colorbar\": {\"outlinewidth\": 0, \"ticks\": \"\"}, \"colorscale\": [[0.0, \"#0d0887\"], [0.1111111111111111, \"#46039f\"], [0.2222222222222222, \"#7201a8\"], [0.3333333333333333, \"#9c179e\"], [0.4444444444444444, \"#bd3786\"], [0.5555555555555556, \"#d8576b\"], [0.6666666666666666, \"#ed7953\"], [0.7777777777777778, \"#fb9f3a\"], [0.8888888888888888, \"#fdca26\"], [1.0, \"#f0f921\"]], \"type\": \"heatmapgl\"}], \"histogram\": [{\"marker\": {\"colorbar\": {\"outlinewidth\": 0, \"ticks\": \"\"}}, \"type\": \"histogram\"}], \"histogram2d\": [{\"colorbar\": {\"outlinewidth\": 0, \"ticks\": \"\"}, \"colorscale\": [[0.0, \"#0d0887\"], [0.1111111111111111, \"#46039f\"], [0.2222222222222222, \"#7201a8\"], [0.3333333333333333, \"#9c179e\"], [0.4444444444444444, \"#bd3786\"], [0.5555555555555556, \"#d8576b\"], [0.6666666666666666, \"#ed7953\"], [0.7777777777777778, \"#fb9f3a\"], [0.8888888888888888, \"#fdca26\"], [1.0, \"#f0f921\"]], \"type\": \"histogram2d\"}], \"histogram2dcontour\": [{\"colorbar\": {\"outlinewidth\": 0, \"ticks\": \"\"}, \"colorscale\": [[0.0, \"#0d0887\"], [0.1111111111111111, \"#46039f\"], [0.2222222222222222, \"#7201a8\"], [0.3333333333333333, \"#9c179e\"], [0.4444444444444444, \"#bd3786\"], [0.5555555555555556, \"#d8576b\"], [0.6666666666666666, \"#ed7953\"], [0.7777777777777778, \"#fb9f3a\"], [0.8888888888888888, \"#fdca26\"], [1.0, \"#f0f921\"]], \"type\": \"histogram2dcontour\"}], \"mesh3d\": [{\"colorbar\": {\"outlinewidth\": 0, \"ticks\": \"\"}, \"type\": \"mesh3d\"}], \"parcoords\": [{\"line\": {\"colorbar\": {\"outlinewidth\": 0, \"ticks\": \"\"}}, \"type\": \"parcoords\"}], \"pie\": [{\"automargin\": true, \"type\": \"pie\"}], \"scatter\": [{\"marker\": {\"colorbar\": {\"outlinewidth\": 0, \"ticks\": \"\"}}, \"type\": \"scatter\"}], \"scatter3d\": [{\"line\": {\"colorbar\": {\"outlinewidth\": 0, \"ticks\": \"\"}}, \"marker\": {\"colorbar\": {\"outlinewidth\": 0, \"ticks\": \"\"}}, \"type\": \"scatter3d\"}], \"scattercarpet\": [{\"marker\": {\"colorbar\": {\"outlinewidth\": 0, \"ticks\": \"\"}}, \"type\": \"scattercarpet\"}], \"scattergeo\": [{\"marker\": {\"colorbar\": {\"outlinewidth\": 0, \"ticks\": \"\"}}, \"type\": \"scattergeo\"}], \"scattergl\": [{\"marker\": {\"colorbar\": {\"outlinewidth\": 0, \"ticks\": \"\"}}, \"type\": \"scattergl\"}], \"scattermapbox\": [{\"marker\": {\"colorbar\": {\"outlinewidth\": 0, \"ticks\": \"\"}}, \"type\": \"scattermapbox\"}], \"scatterpolar\": [{\"marker\": {\"colorbar\": {\"outlinewidth\": 0, \"ticks\": \"\"}}, \"type\": \"scatterpolar\"}], \"scatterpolargl\": [{\"marker\": {\"colorbar\": {\"outlinewidth\": 0, \"ticks\": \"\"}}, \"type\": \"scatterpolargl\"}], \"scatterternary\": [{\"marker\": {\"colorbar\": {\"outlinewidth\": 0, \"ticks\": \"\"}}, \"type\": \"scatterternary\"}], \"surface\": [{\"colorbar\": {\"outlinewidth\": 0, \"ticks\": \"\"}, \"colorscale\": [[0.0, \"#0d0887\"], [0.1111111111111111, \"#46039f\"], [0.2222222222222222, \"#7201a8\"], [0.3333333333333333, \"#9c179e\"], [0.4444444444444444, \"#bd3786\"], [0.5555555555555556, \"#d8576b\"], [0.6666666666666666, \"#ed7953\"], [0.7777777777777778, \"#fb9f3a\"], [0.8888888888888888, \"#fdca26\"], [1.0, \"#f0f921\"]], \"type\": \"surface\"}], \"table\": [{\"cells\": {\"fill\": {\"color\": \"#EBF0F8\"}, \"line\": {\"color\": \"white\"}}, \"header\": {\"fill\": {\"color\": \"#C8D4E3\"}, \"line\": {\"color\": \"white\"}}, \"type\": \"table\"}]}, \"layout\": {\"annotationdefaults\": {\"arrowcolor\": \"#2a3f5f\", \"arrowhead\": 0, \"arrowwidth\": 1}, \"coloraxis\": {\"colorbar\": {\"outlinewidth\": 0, \"ticks\": \"\"}}, \"colorscale\": {\"diverging\": [[0, \"#8e0152\"], [0.1, \"#c51b7d\"], [0.2, \"#de77ae\"], [0.3, \"#f1b6da\"], [0.4, \"#fde0ef\"], [0.5, \"#f7f7f7\"], [0.6, \"#e6f5d0\"], [0.7, \"#b8e186\"], [0.8, \"#7fbc41\"], [0.9, \"#4d9221\"], [1, \"#276419\"]], \"sequential\": [[0.0, \"#0d0887\"], [0.1111111111111111, \"#46039f\"], [0.2222222222222222, \"#7201a8\"], [0.3333333333333333, \"#9c179e\"], [0.4444444444444444, \"#bd3786\"], [0.5555555555555556, \"#d8576b\"], [0.6666666666666666, \"#ed7953\"], [0.7777777777777778, \"#fb9f3a\"], [0.8888888888888888, \"#fdca26\"], [1.0, \"#f0f921\"]], \"sequentialminus\": [[0.0, \"#0d0887\"], [0.1111111111111111, \"#46039f\"], [0.2222222222222222, \"#7201a8\"], [0.3333333333333333, \"#9c179e\"], [0.4444444444444444, \"#bd3786\"], [0.5555555555555556, \"#d8576b\"], [0.6666666666666666, \"#ed7953\"], [0.7777777777777778, \"#fb9f3a\"], [0.8888888888888888, \"#fdca26\"], [1.0, \"#f0f921\"]]}, \"colorway\": [\"#636efa\", \"#EF553B\", \"#00cc96\", \"#ab63fa\", \"#FFA15A\", \"#19d3f3\", \"#FF6692\", \"#B6E880\", \"#FF97FF\", \"#FECB52\"], \"font\": {\"color\": \"#2a3f5f\"}, \"geo\": {\"bgcolor\": \"white\", \"lakecolor\": \"white\", \"landcolor\": \"#E5ECF6\", \"showlakes\": true, \"showland\": true, \"subunitcolor\": \"white\"}, \"hoverlabel\": {\"align\": \"left\"}, \"hovermode\": \"closest\", \"mapbox\": {\"style\": \"light\"}, \"paper_bgcolor\": \"white\", \"plot_bgcolor\": \"#E5ECF6\", \"polar\": {\"angularaxis\": {\"gridcolor\": \"white\", \"linecolor\": \"white\", \"ticks\": \"\"}, \"bgcolor\": \"#E5ECF6\", \"radialaxis\": {\"gridcolor\": \"white\", \"linecolor\": \"white\", \"ticks\": \"\"}}, \"scene\": {\"xaxis\": {\"backgroundcolor\": \"#E5ECF6\", \"gridcolor\": \"white\", \"gridwidth\": 2, \"linecolor\": \"white\", \"showbackground\": true, \"ticks\": \"\", \"zerolinecolor\": \"white\"}, \"yaxis\": {\"backgroundcolor\": \"#E5ECF6\", \"gridcolor\": \"white\", \"gridwidth\": 2, \"linecolor\": \"white\", \"showbackground\": true, \"ticks\": \"\", \"zerolinecolor\": \"white\"}, \"zaxis\": {\"backgroundcolor\": \"#E5ECF6\", \"gridcolor\": \"white\", \"gridwidth\": 2, \"linecolor\": \"white\", \"showbackground\": true, \"ticks\": \"\", \"zerolinecolor\": \"white\"}}, \"shapedefaults\": {\"line\": {\"color\": \"#2a3f5f\"}}, \"ternary\": {\"aaxis\": {\"gridcolor\": \"white\", \"linecolor\": \"white\", \"ticks\": \"\"}, \"baxis\": {\"gridcolor\": \"white\", \"linecolor\": \"white\", \"ticks\": \"\"}, \"bgcolor\": \"#E5ECF6\", \"caxis\": {\"gridcolor\": \"white\", \"linecolor\": \"white\", \"ticks\": \"\"}}, \"title\": {\"x\": 0.05}, \"xaxis\": {\"automargin\": true, \"gridcolor\": \"white\", \"linecolor\": \"white\", \"ticks\": \"\", \"title\": {\"standoff\": 15}, \"zerolinecolor\": \"white\", \"zerolinewidth\": 2}, \"yaxis\": {\"automargin\": true, \"gridcolor\": \"white\", \"linecolor\": \"white\", \"ticks\": \"\", \"title\": {\"standoff\": 15}, \"zerolinecolor\": \"white\", \"zerolinewidth\": 2}}}, \"title\": {\"text\": \"Portfolio Value Scatter\"}, \"xaxis\": {\"anchor\": \"y\", \"domain\": [0.0, 0.7363], \"rangeselector\": {\"buttons\": [{\"count\": 1, \"label\": \"1m\", \"step\": \"month\", \"stepmode\": \"backward\"}, {\"count\": 6, \"label\": \"6m\", \"step\": \"month\", \"stepmode\": \"backward\"}, {\"count\": 1, \"label\": \"YTD\", \"step\": \"year\", \"stepmode\": \"todate\"}, {\"count\": 1, \"label\": \"1y\", \"step\": \"year\", \"stepmode\": \"backward\"}, {\"step\": \"all\"}]}, \"title\": {\"text\": \"date\"}}, \"xaxis2\": {\"anchor\": \"y2\", \"domain\": [0.7413, 1.0], \"matches\": \"x2\", \"rangeselector\": {\"buttons\": [{\"count\": 1, \"label\": \"1m\", \"step\": \"month\", \"stepmode\": \"backward\"}, {\"count\": 6, \"label\": \"6m\", \"step\": \"month\", \"stepmode\": \"backward\"}, {\"count\": 1, \"label\": \"YTD\", \"step\": \"year\", \"stepmode\": \"todate\"}, {\"count\": 1, \"label\": \"1y\", \"step\": \"year\", \"stepmode\": \"backward\"}, {\"step\": \"all\"}]}, \"showgrid\": false, \"showline\": false, \"showticklabels\": false, \"ticks\": \"\"}, \"yaxis\": {\"anchor\": \"x\", \"domain\": [0.0, 1.0], \"range\": [-4.75, 16.09], \"title\": {\"text\": \"total_pct_gain\"}}, \"yaxis2\": {\"anchor\": \"x2\", \"domain\": [0.0, 1.0], \"matches\": \"y\", \"showgrid\": true, \"showticklabels\": false}},\n",
       "                        {\"responsive\": true}\n",
       "                    ).then(function(){\n",
       "                            \n",
       "var gd = document.getElementById('7157c813-b9c4-4ceb-ac0f-69a60efa5e6c');\n",
       "var x = new MutationObserver(function (mutations, observer) {{\n",
       "        var display = window.getComputedStyle(gd).display;\n",
       "        if (!display || display === 'none') {{\n",
       "            console.log([gd, 'removed!']);\n",
       "            Plotly.purge(gd);\n",
       "            observer.disconnect();\n",
       "        }}\n",
       "}});\n",
       "\n",
       "// Listen for the removal of the full notebook cells\n",
       "var notebookContainer = gd.closest('#notebook-container');\n",
       "if (notebookContainer) {{\n",
       "    x.observe(notebookContainer, {childList: true});\n",
       "}}\n",
       "\n",
       "// Listen for the clearing of the current output cell\n",
       "var outputEl = gd.closest('.output');\n",
       "if (outputEl) {{\n",
       "    x.observe(outputEl, {childList: true});\n",
       "}}\n",
       "\n",
       "                        })\n",
       "                };\n",
       "                });\n",
       "            </script>\n",
       "        </div>"
      ]
     },
     "metadata": {},
     "output_type": "display_data"
    }
   ],
   "source": [
    "min_value = portfolio_aggregated_stats['total_pct_gain'].min()\n",
    "max_value = portfolio_aggregated_stats['total_pct_gain'].max()\n",
    "\n",
    "fig = px.scatter(portfolio_aggregated_stats, \n",
    "                 x=\"date\", y=\"total_pct_gain\", \n",
    "                 trendline=\"lowess\",\n",
    "                 hover_data=['invested_amount', 'market_value', 'unrealized_gain', \n",
    "                             'unrealized_pct_gain', 'realized_gain', 'realized_pct_gain', \n",
    "                             'total_gain', 'total_pct_gain'],\n",
    "                 marginal_y='box',\n",
    "                 color='invested_amount',\n",
    "                 range_y=[min_value, max_value+1],\n",
    "                 trendline_color_override='dodgerblue',\n",
    "                 title='Portfolio Value Scatter')\n",
    "fig.update_xaxes(\n",
    "    rangeselector=dict(\n",
    "        buttons=list([\n",
    "            dict(count=1, label=\"1m\", step=\"month\", stepmode=\"backward\"),\n",
    "            dict(count=6, label=\"6m\", step=\"month\", stepmode=\"backward\"),\n",
    "            dict(count=1, label=\"YTD\", step=\"year\", stepmode=\"todate\"),\n",
    "            dict(count=1, label=\"1y\", step=\"year\", stepmode=\"backward\"),\n",
    "            dict(step=\"all\")\n",
    "        ])\n",
    "    )\n",
    ")\n",
    "fig.add_shape(\n",
    "        # Rectangle reference to the axes\n",
    "            type=\"rect\",\n",
    "            xref=\"x\",\n",
    "            yref=\"y\",\n",
    "            x0=first_date,\n",
    "            y0=min_value,\n",
    "            x1=last_date,\n",
    "            y1=0,\n",
    "            opacity=0.2,\n",
    "            fillcolor=\"Red\",\n",
    "        )\n",
    "fig.write_image(\"images/portfolio_value_scatter.pdf\")\n",
    "fig.show()"
   ]
  },
  {
   "cell_type": "code",
   "execution_count": 20,
   "metadata": {
    "code_folding": []
   },
   "outputs": [
    {
     "data": {
      "application/vnd.plotly.v1+json": {
       "config": {
        "plotlyServerURL": "https://plot.ly"
       },
       "data": [
        {
         "customdata": [
          [
           0,
           0,
           0,
           0,
           0,
           0,
           0,
           0,
           40.03,
           40.6,
           40.62,
           39.9,
           125124,
           0,
           0,
           "VanEck Vectors Video Gaming & eSports ETF"
          ],
          [
           0,
           0,
           0,
           0,
           0,
           0,
           0,
           0,
           41.58,
           41.62,
           42,
           41.3,
           178144,
           0,
           0,
           "VanEck Vectors Video Gaming & eSports ETF"
          ],
          [
           0,
           0,
           0,
           0,
           0,
           0,
           0,
           0,
           41.42,
           42.09,
           42.3,
           41.19,
           159519,
           0,
           0,
           "VanEck Vectors Video Gaming & eSports ETF"
          ],
          [
           128.19,
           128.61,
           0.42,
           0.33,
           0,
           0,
           0.42,
           0.33,
           42.73,
           42.87,
           43.12,
           42.31,
           219459,
           3,
           42.73,
           "VanEck Vectors Video Gaming & eSports ETF"
          ],
          [
           128.19,
           128.36,
           0.17,
           0.13,
           0,
           0,
           0.17,
           0.13,
           43.23,
           42.79,
           43.23,
           42.4,
           107302,
           3,
           42.73,
           "VanEck Vectors Video Gaming & eSports ETF"
          ],
          [
           1031.19,
           1023.6,
           -7.59,
           -0.74,
           0,
           0,
           -7.59,
           -0.74,
           42.54,
           42.65,
           43.12,
           42.5,
           173348,
           24,
           42.97,
           "VanEck Vectors Video Gaming & eSports ETF"
          ],
          [
           1031.19,
           996,
           -35.19,
           -3.41,
           0,
           0,
           -35.19,
           -3.41,
           42.39,
           41.5,
           42.39,
           41.08,
           120400,
           24,
           42.97,
           "VanEck Vectors Video Gaming & eSports ETF"
          ],
          [
           1031.19,
           1021.2,
           -9.99,
           -0.97,
           0,
           0,
           -9.99,
           -0.97,
           42.35,
           42.55,
           42.74,
           41.82,
           71663,
           24,
           42.97,
           "VanEck Vectors Video Gaming & eSports ETF"
          ],
          [
           1031.19,
           1015.32,
           -15.87,
           -1.54,
           0,
           0,
           -15.87,
           -1.54,
           42.92,
           42.3,
           42.92,
           42.15,
           65168,
           24,
           42.97,
           "VanEck Vectors Video Gaming & eSports ETF"
          ],
          [
           1031.19,
           1023.6,
           -7.59,
           -0.74,
           0,
           0,
           -7.59,
           -0.74,
           42.44,
           42.65,
           42.82,
           42.17,
           84878,
           24,
           42.97,
           "VanEck Vectors Video Gaming & eSports ETF"
          ],
          [
           1031.19,
           1034.4,
           3.21,
           0.31,
           0,
           0,
           3.21,
           0.31,
           43.03,
           43.1,
           43.31,
           42.87,
           71298,
           24,
           42.97,
           "VanEck Vectors Video Gaming & eSports ETF"
          ],
          [
           1031.19,
           1015.44,
           -15.75,
           -1.53,
           0,
           0,
           -15.75,
           -1.53,
           43.67,
           42.31,
           43.67,
           42.31,
           76189,
           24,
           42.97,
           "VanEck Vectors Video Gaming & eSports ETF"
          ],
          [
           1031.19,
           1029.6,
           -1.59,
           -0.15,
           0,
           0,
           -1.59,
           -0.15,
           42.91,
           42.9,
           43.1,
           42.5,
           62845,
           24,
           42.97,
           "VanEck Vectors Video Gaming & eSports ETF"
          ],
          [
           1031.19,
           999.84,
           -31.35,
           -3.04,
           0,
           0,
           -31.35,
           -3.04,
           42.45,
           41.66,
           42.45,
           41.6,
           152485,
           24,
           42.97,
           "VanEck Vectors Video Gaming & eSports ETF"
          ],
          [
           1031.19,
           983.76,
           -47.43,
           -4.6,
           0,
           0,
           -47.43,
           -4.6,
           41.12,
           40.99,
           41.41,
           40.78,
           46394,
           24,
           42.97,
           "VanEck Vectors Video Gaming & eSports ETF"
          ],
          [
           1031.19,
           1005.12,
           -26.07,
           -2.53,
           0,
           0,
           -26.07,
           -2.53,
           41.02,
           41.88,
           41.88,
           41.01,
           43815,
           24,
           42.97,
           "VanEck Vectors Video Gaming & eSports ETF"
          ],
          [
           1031.19,
           1017.36,
           -13.83,
           -1.34,
           0,
           0,
           -13.83,
           -1.34,
           42.45,
           42.39,
           42.71,
           42.12,
           81778,
           24,
           42.97,
           "VanEck Vectors Video Gaming & eSports ETF"
          ],
          [
           1031.19,
           1024.32,
           -6.87,
           -0.67,
           0,
           0,
           -6.87,
           -0.67,
           42.61,
           42.68,
           43.14,
           42.5,
           57745,
           24,
           42.97,
           "VanEck Vectors Video Gaming & eSports ETF"
          ],
          [
           1031.19,
           1040.88,
           9.69,
           0.94,
           0,
           0,
           9.69,
           0.94,
           43.46,
           43.37,
           43.58,
           43.02,
           117757,
           24,
           42.97,
           "VanEck Vectors Video Gaming & eSports ETF"
          ],
          [
           1031.19,
           1052.4,
           21.21,
           2.06,
           0,
           0,
           21.21,
           2.06,
           43.73,
           43.85,
           43.98,
           43.5,
           86489,
           24,
           42.97,
           "VanEck Vectors Video Gaming & eSports ETF"
          ],
          [
           1031.19,
           1070.16,
           38.97,
           3.78,
           0,
           0,
           38.97,
           3.78,
           43.95,
           44.59,
           44.7,
           43.95,
           160192,
           24,
           42.97,
           "VanEck Vectors Video Gaming & eSports ETF"
          ],
          [
           1031.19,
           1062.72,
           31.53,
           3.06,
           0,
           0,
           31.53,
           3.06,
           45.13,
           44.28,
           45.3,
           44.28,
           139472,
           24,
           42.97,
           "VanEck Vectors Video Gaming & eSports ETF"
          ],
          [
           1252.99,
           1290.5,
           37.51,
           2.99,
           0,
           0,
           37.51,
           2.99,
           44.45,
           44.5,
           45.33,
           44.09,
           120612,
           29,
           43.21,
           "VanEck Vectors Video Gaming & eSports ETF"
          ],
          [
           1252.99,
           1298.62,
           45.63,
           3.64,
           0,
           0,
           45.63,
           3.64,
           44.18,
           44.78,
           44.78,
           43.87,
           97210,
           29,
           43.21,
           "VanEck Vectors Video Gaming & eSports ETF"
          ],
          [
           1252.99,
           1313.7,
           60.71,
           4.85,
           0,
           0,
           60.71,
           4.85,
           44.54,
           45.3,
           45.3,
           44.26,
           117869,
           29,
           43.21,
           "VanEck Vectors Video Gaming & eSports ETF"
          ],
          [
           1252.99,
           1340.96,
           87.97,
           7.02,
           0,
           0,
           87.97,
           7.02,
           45.78,
           46.24,
           46.35,
           45.55,
           192583,
           29,
           43.21,
           "VanEck Vectors Video Gaming & eSports ETF"
          ],
          [
           1252.99,
           1342.12,
           89.13,
           7.11,
           0,
           0,
           89.13,
           7.11,
           46.07,
           46.28,
           46.76,
           45.98,
           116990,
           29,
           43.21,
           "VanEck Vectors Video Gaming & eSports ETF"
          ],
          [
           1252.99,
           1363.87,
           110.88,
           8.85,
           0,
           0,
           110.88,
           8.85,
           46.81,
           47.03,
           47.48,
           46.8,
           140962,
           29,
           43.21,
           "VanEck Vectors Video Gaming & eSports ETF"
          ],
          [
           1252.99,
           1362.13,
           109.14,
           8.71,
           0,
           0,
           109.14,
           8.71,
           47.08,
           46.97,
           47.46,
           46.64,
           126031,
           29,
           43.21,
           "VanEck Vectors Video Gaming & eSports ETF"
          ],
          [
           1252.99,
           1363.29,
           110.3,
           8.8,
           0,
           0,
           110.3,
           8.8,
           46.88,
           47.01,
           47.14,
           46.5,
           85937,
           29,
           43.21,
           "VanEck Vectors Video Gaming & eSports ETF"
          ],
          [
           1444.71,
           1549.03,
           104.31,
           7.22,
           0,
           0,
           104.31,
           7.22,
           47.93,
           46.94,
           47.94,
           46.85,
           139843,
           33,
           43.78,
           "VanEck Vectors Video Gaming & eSports ETF"
          ],
          [
           1444.71,
           1518.33,
           73.62,
           5.1,
           0,
           0,
           73.62,
           5.1,
           46.71,
           46.01,
           46.71,
           44.97,
           225051,
           33,
           43.78,
           "VanEck Vectors Video Gaming & eSports ETF"
          ],
          [
           1444.71,
           1509.42,
           64.71,
           4.48,
           0,
           0,
           64.71,
           4.48,
           45.73,
           45.74,
           46.54,
           45.66,
           137632,
           33,
           43.78,
           "VanEck Vectors Video Gaming & eSports ETF"
          ],
          [
           1444.71,
           1563.87,
           119.16,
           8.25,
           0,
           0,
           119.16,
           8.25,
           46.1,
           47.39,
           47.39,
           46,
           131650,
           33,
           43.78,
           "VanEck Vectors Video Gaming & eSports ETF"
          ],
          [
           1444.71,
           1590.93,
           146.22,
           10.12,
           0,
           0,
           146.22,
           10.12,
           47.64,
           48.21,
           48.25,
           47.4,
           165327,
           33,
           43.78,
           "VanEck Vectors Video Gaming & eSports ETF"
          ],
          [
           1444.71,
           1588.95,
           144.24,
           9.98,
           0,
           0,
           144.24,
           9.98,
           48.36,
           48.15,
           48.4,
           48.05,
           0,
           33,
           43.78,
           "VanEck Vectors Video Gaming & eSports ETF"
          ]
         ],
         "hovertemplate": "<b>%{hovertext}</b><br><br>symbol=ESPO<br>date=%{x}<br>total_pct_gain=%{customdata[7]}<br>invested_amount=%{customdata[0]}<br>market_value=%{customdata[1]}<br>unrealized_gain=%{customdata[2]}<br>unrealized_pct_gain=%{customdata[3]}<br>realized_gain=%{customdata[4]}<br>realized_pct_gain=%{customdata[5]}<br>total_gain=%{customdata[6]}<br>open=%{customdata[8]}<br>close=%{customdata[9]}<br>high=%{customdata[10]}<br>low=%{customdata[11]}<br>volume=%{customdata[12]}<br>quantity=%{customdata[13]}<br>average_cost=%{customdata[14]}<br>company_name=%{customdata[15]}<extra></extra>",
         "hovertext": [
          "ESPO",
          "ESPO",
          "ESPO",
          "ESPO",
          "ESPO",
          "ESPO",
          "ESPO",
          "ESPO",
          "ESPO",
          "ESPO",
          "ESPO",
          "ESPO",
          "ESPO",
          "ESPO",
          "ESPO",
          "ESPO",
          "ESPO",
          "ESPO",
          "ESPO",
          "ESPO",
          "ESPO",
          "ESPO",
          "ESPO",
          "ESPO",
          "ESPO",
          "ESPO",
          "ESPO",
          "ESPO",
          "ESPO",
          "ESPO",
          "ESPO",
          "ESPO",
          "ESPO",
          "ESPO",
          "ESPO",
          "ESPO"
         ],
         "legendgroup": "ESPO",
         "line": {
          "color": "#636efa",
          "dash": "solid"
         },
         "mode": "lines",
         "name": "ESPO",
         "showlegend": true,
         "type": "scatter",
         "x": [
          "2020-04-13T00:00:00",
          "2020-04-14T00:00:00",
          "2020-04-15T00:00:00",
          "2020-04-16T00:00:00",
          "2020-04-17T00:00:00",
          "2020-04-20T00:00:00",
          "2020-04-21T00:00:00",
          "2020-04-22T00:00:00",
          "2020-04-23T00:00:00",
          "2020-04-24T00:00:00",
          "2020-04-27T00:00:00",
          "2020-04-28T00:00:00",
          "2020-04-29T00:00:00",
          "2020-04-30T00:00:00",
          "2020-05-01T00:00:00",
          "2020-05-04T00:00:00",
          "2020-05-05T00:00:00",
          "2020-05-06T00:00:00",
          "2020-05-07T00:00:00",
          "2020-05-08T00:00:00",
          "2020-05-11T00:00:00",
          "2020-05-12T00:00:00",
          "2020-05-13T00:00:00",
          "2020-05-14T00:00:00",
          "2020-05-15T00:00:00",
          "2020-05-18T00:00:00",
          "2020-05-19T00:00:00",
          "2020-05-20T00:00:00",
          "2020-05-21T00:00:00",
          "2020-05-22T00:00:00",
          "2020-05-26T00:00:00",
          "2020-05-27T00:00:00",
          "2020-05-28T00:00:00",
          "2020-05-29T00:00:00",
          "2020-06-01T00:00:00",
          "2020-06-02T15:02:47"
         ],
         "xaxis": "x",
         "y": [
          0,
          0,
          0,
          0.33,
          0.13,
          -0.74,
          -3.41,
          -0.97,
          -1.54,
          -0.74,
          0.31,
          -1.53,
          -0.15,
          -3.04,
          -4.6,
          -2.53,
          -1.34,
          -0.67,
          0.94,
          2.06,
          3.78,
          3.06,
          2.99,
          3.64,
          4.85,
          7.02,
          7.11,
          8.85,
          8.71,
          8.8,
          7.22,
          5.1,
          4.48,
          8.25,
          10.12,
          9.98
         ],
         "yaxis": "y"
        },
        {
         "customdata": [
          [
           0,
           0,
           0,
           0,
           0,
           0,
           0,
           0,
           17.02,
           17.09,
           17.18,
           16.78,
           27305,
           0,
           0,
           "Global X Video Games & Esports ETF"
          ],
          [
           0,
           0,
           0,
           0,
           0,
           0,
           0,
           0,
           17.54,
           17.6,
           17.8,
           17.36,
           21322,
           0,
           0,
           "Global X Video Games & Esports ETF"
          ],
          [
           0,
           0,
           0,
           0,
           0,
           0,
           0,
           0,
           17.34,
           17.58,
           17.79,
           17.3,
           14844,
           0,
           0,
           "Global X Video Games & Esports ETF"
          ],
          [
           125.44,
           127.33,
           1.89,
           1.51,
           0,
           0,
           1.89,
           1.51,
           17.91,
           18.19,
           18.19,
           17.85,
           34850,
           7,
           17.92,
           "Global X Video Games & Esports ETF"
          ],
          [
           125.44,
           126.53,
           1.09,
           0.87,
           0,
           0,
           1.09,
           0.87,
           18.44,
           18.08,
           18.44,
           17.8,
           22644,
           7,
           17.92,
           "Global X Video Games & Esports ETF"
          ],
          [
           1031.19,
           1027.45,
           -3.74,
           -0.36,
           0,
           0,
           -3.74,
           -0.36,
           18.2,
           18.03,
           18.2,
           17.98,
           40200,
           57,
           18.09,
           "Global X Video Games & Esports ETF"
          ],
          [
           1031.19,
           1005.76,
           -25.42,
           -2.47,
           0,
           0,
           -25.42,
           -2.47,
           18.05,
           17.64,
           18.05,
           17.35,
           29536,
           57,
           18.09,
           "Global X Video Games & Esports ETF"
          ],
          [
           1031.19,
           1016.26,
           -14.93,
           -1.45,
           0,
           0,
           -14.93,
           -1.45,
           17.98,
           17.83,
           17.98,
           17.58,
           16373,
           57,
           18.09,
           "Global X Video Games & Esports ETF"
          ],
          [
           1031.19,
           1011.75,
           -19.44,
           -1.89,
           0,
           0,
           -19.44,
           -1.89,
           18.05,
           17.75,
           18.05,
           17.74,
           36130,
           57,
           18.09,
           "Global X Video Games & Esports ETF"
          ],
          [
           1031.19,
           1020.36,
           -10.83,
           -1.05,
           0,
           0,
           -10.83,
           -1.05,
           17.91,
           17.9,
           18.06,
           17.65,
           131627,
           57,
           18.09,
           "Global X Video Games & Esports ETF"
          ],
          [
           1031.19,
           1030.56,
           -0.63,
           -0.06,
           0,
           0,
           -0.63,
           -0.06,
           18,
           18.08,
           18.27,
           18,
           23707,
           57,
           18.09,
           "Global X Video Games & Esports ETF"
          ],
          [
           1031.19,
           1019.16,
           -12.03,
           -1.17,
           0,
           0,
           -12.03,
           -1.17,
           18.64,
           17.88,
           18.64,
           17.88,
           13208,
           57,
           18.09,
           "Global X Video Games & Esports ETF"
          ],
          [
           1031.19,
           1036.26,
           5.07,
           0.49,
           0,
           0,
           5.07,
           0.49,
           18.14,
           18.18,
           18.29,
           18,
           21445,
           57,
           18.09,
           "Global X Video Games & Esports ETF"
          ],
          [
           1031.19,
           1013.46,
           -17.73,
           -1.72,
           0,
           0,
           -17.73,
           -1.72,
           17.84,
           17.78,
           18.02,
           17.74,
           18679,
           57,
           18.09,
           "Global X Video Games & Esports ETF"
          ],
          [
           1031.19,
           995.22,
           -35.97,
           -3.49,
           0,
           0,
           -35.97,
           -3.49,
           17.72,
           17.46,
           17.72,
           17.28,
           22958,
           57,
           18.09,
           "Global X Video Games & Esports ETF"
          ],
          [
           1031.19,
           999.21,
           -31.98,
           -3.1,
           0,
           0,
           -31.98,
           -3.1,
           17.29,
           17.53,
           17.62,
           17.29,
           875464,
           57,
           18.09,
           "Global X Video Games & Esports ETF"
          ],
          [
           1031.19,
           1020.3,
           -10.89,
           -1.06,
           0,
           0,
           -10.89,
           -1.06,
           17.81,
           17.9,
           18.12,
           17.8,
           20084,
           57,
           18.09,
           "Global X Video Games & Esports ETF"
          ],
          [
           1031.19,
           1030.84,
           -0.34,
           -0.03,
           0,
           0,
           -0.34,
           -0.03,
           17.98,
           18.08,
           18.28,
           17.98,
           31564,
           57,
           18.09,
           "Global X Video Games & Esports ETF"
          ],
          [
           1031.19,
           1052.5,
           21.32,
           2.07,
           0,
           0,
           21.32,
           2.07,
           18.47,
           18.46,
           18.5,
           18.23,
           19331,
           57,
           18.09,
           "Global X Video Games & Esports ETF"
          ],
          [
           1031.19,
           1066.81,
           35.62,
           3.45,
           0,
           0,
           35.62,
           3.45,
           18.47,
           18.72,
           18.75,
           18.47,
           31706,
           57,
           18.09,
           "Global X Video Games & Esports ETF"
          ],
          [
           1031.19,
           1073.88,
           42.69,
           4.14,
           0,
           0,
           42.69,
           4.14,
           18.73,
           18.84,
           18.91,
           18.52,
           25456,
           57,
           18.09,
           "Global X Video Games & Esports ETF"
          ],
          [
           1031.19,
           1076.73,
           45.54,
           4.42,
           0,
           0,
           45.54,
           4.42,
           19.08,
           18.89,
           19.24,
           18.88,
           51441,
           57,
           18.09,
           "Global X Video Games & Esports ETF"
          ],
          [
           1237.99,
           1277.88,
           39.89,
           3.22,
           0,
           0,
           39.89,
           3.22,
           19.08,
           18.79,
           19.2,
           18.66,
           20489,
           68,
           18.21,
           "Global X Video Games & Esports ETF"
          ],
          [
           1237.99,
           1291.87,
           53.88,
           4.35,
           0,
           0,
           53.88,
           4.35,
           18.87,
           19,
           19,
           18.62,
           22047,
           68,
           18.21,
           "Global X Video Games & Esports ETF"
          ],
          [
           1237.99,
           1307.94,
           69.95,
           5.65,
           0,
           0,
           69.95,
           5.65,
           19.02,
           19.23,
           19.23,
           18.92,
           25061,
           68,
           18.21,
           "Global X Video Games & Esports ETF"
          ],
          [
           1237.99,
           1347.08,
           109.09,
           8.81,
           0,
           0,
           109.09,
           8.81,
           19.71,
           19.81,
           19.87,
           19.37,
           58505,
           68,
           18.21,
           "Global X Video Games & Esports ETF"
          ],
          [
           1237.99,
           1352.52,
           114.53,
           9.25,
           0,
           0,
           114.53,
           9.25,
           19.66,
           19.89,
           19.99,
           19.65,
           42659,
           68,
           18.21,
           "Global X Video Games & Esports ETF"
          ],
          [
           1237.99,
           1364.42,
           126.43,
           10.21,
           0,
           0,
           126.43,
           10.21,
           20.26,
           20.07,
           20.36,
           20.02,
           53050,
           68,
           18.21,
           "Global X Video Games & Esports ETF"
          ],
          [
           1237.99,
           1367.48,
           129.49,
           10.46,
           0,
           0,
           129.49,
           10.46,
           20.26,
           20.11,
           20.26,
           19.8,
           35502,
           68,
           18.21,
           "Global X Video Games & Esports ETF"
          ],
          [
           1237.99,
           1370.19,
           132.2,
           10.68,
           0,
           0,
           132.2,
           10.68,
           20.25,
           20.15,
           20.27,
           19.94,
           31038,
           68,
           18.21,
           "Global X Video Games & Esports ETF"
          ],
          [
           1520.37,
           1657.22,
           136.85,
           9,
           0,
           0,
           136.85,
           9,
           20.6,
           20.21,
           20.6,
           20.06,
           55611,
           82,
           18.54,
           "Global X Video Games & Esports ETF"
          ],
          [
           1520.37,
           1635.08,
           114.71,
           7.54,
           0,
           0,
           114.71,
           7.54,
           20.35,
           19.94,
           20.35,
           19.29,
           1723710,
           82,
           18.54,
           "Global X Video Games & Esports ETF"
          ],
          [
           1520.37,
           1618.68,
           98.31,
           6.47,
           0,
           0,
           98.31,
           6.47,
           19.95,
           19.74,
           20.1,
           19.71,
           29809,
           82,
           18.54,
           "Global X Video Games & Esports ETF"
          ],
          [
           1520.37,
           1672.39,
           152.02,
           10,
           0,
           0,
           152.02,
           10,
           19.88,
           20.4,
           20.46,
           19.81,
           43823,
           82,
           18.54,
           "Global X Video Games & Esports ETF"
          ],
          [
           1520.37,
           1709.86,
           189.49,
           12.46,
           0,
           0,
           189.49,
           12.46,
           20.52,
           20.85,
           20.92,
           20.52,
           57933,
           82,
           18.54,
           "Global X Video Games & Esports ETF"
          ],
          [
           1520.37,
           1708.47,
           188.1,
           12.37,
           0,
           0,
           188.1,
           12.37,
           20.99,
           20.84,
           21,
           20.73,
           0,
           82,
           18.54,
           "Global X Video Games & Esports ETF"
          ]
         ],
         "hovertemplate": "<b>%{hovertext}</b><br><br>symbol=HERO<br>date=%{x}<br>total_pct_gain=%{customdata[7]}<br>invested_amount=%{customdata[0]}<br>market_value=%{customdata[1]}<br>unrealized_gain=%{customdata[2]}<br>unrealized_pct_gain=%{customdata[3]}<br>realized_gain=%{customdata[4]}<br>realized_pct_gain=%{customdata[5]}<br>total_gain=%{customdata[6]}<br>open=%{customdata[8]}<br>close=%{customdata[9]}<br>high=%{customdata[10]}<br>low=%{customdata[11]}<br>volume=%{customdata[12]}<br>quantity=%{customdata[13]}<br>average_cost=%{customdata[14]}<br>company_name=%{customdata[15]}<extra></extra>",
         "hovertext": [
          "HERO",
          "HERO",
          "HERO",
          "HERO",
          "HERO",
          "HERO",
          "HERO",
          "HERO",
          "HERO",
          "HERO",
          "HERO",
          "HERO",
          "HERO",
          "HERO",
          "HERO",
          "HERO",
          "HERO",
          "HERO",
          "HERO",
          "HERO",
          "HERO",
          "HERO",
          "HERO",
          "HERO",
          "HERO",
          "HERO",
          "HERO",
          "HERO",
          "HERO",
          "HERO",
          "HERO",
          "HERO",
          "HERO",
          "HERO",
          "HERO",
          "HERO"
         ],
         "legendgroup": "HERO",
         "line": {
          "color": "#EF553B",
          "dash": "solid"
         },
         "mode": "lines",
         "name": "HERO",
         "showlegend": true,
         "type": "scatter",
         "x": [
          "2020-04-13T00:00:00",
          "2020-04-14T00:00:00",
          "2020-04-15T00:00:00",
          "2020-04-16T00:00:00",
          "2020-04-17T00:00:00",
          "2020-04-20T00:00:00",
          "2020-04-21T00:00:00",
          "2020-04-22T00:00:00",
          "2020-04-23T00:00:00",
          "2020-04-24T00:00:00",
          "2020-04-27T00:00:00",
          "2020-04-28T00:00:00",
          "2020-04-29T00:00:00",
          "2020-04-30T00:00:00",
          "2020-05-01T00:00:00",
          "2020-05-04T00:00:00",
          "2020-05-05T00:00:00",
          "2020-05-06T00:00:00",
          "2020-05-07T00:00:00",
          "2020-05-08T00:00:00",
          "2020-05-11T00:00:00",
          "2020-05-12T00:00:00",
          "2020-05-13T00:00:00",
          "2020-05-14T00:00:00",
          "2020-05-15T00:00:00",
          "2020-05-18T00:00:00",
          "2020-05-19T00:00:00",
          "2020-05-20T00:00:00",
          "2020-05-21T00:00:00",
          "2020-05-22T00:00:00",
          "2020-05-26T00:00:00",
          "2020-05-27T00:00:00",
          "2020-05-28T00:00:00",
          "2020-05-29T00:00:00",
          "2020-06-01T00:00:00",
          "2020-06-02T15:02:47"
         ],
         "xaxis": "x",
         "y": [
          0,
          0,
          0,
          1.51,
          0.87,
          -0.36,
          -2.47,
          -1.45,
          -1.89,
          -1.05,
          -0.06,
          -1.17,
          0.49,
          -1.72,
          -3.49,
          -3.1,
          -1.06,
          -0.03,
          2.07,
          3.45,
          4.14,
          4.42,
          3.22,
          4.35,
          5.65,
          8.81,
          9.25,
          10.21,
          10.46,
          10.68,
          9,
          7.54,
          6.47,
          10,
          12.46,
          12.37
         ],
         "yaxis": "y"
        },
        {
         "customdata": [
          [
           0,
           0,
           0,
           0,
           0,
           0,
           0,
           0,
           146.76,
           145.77,
           147.06,
           144.37,
           257362,
           0,
           0,
           "Vanguard Consumer Staples Index Fund"
          ],
          [
           0,
           0,
           0,
           0,
           0,
           0,
           0,
           0,
           147.86,
           151.79,
           151.87,
           147.85,
           850466,
           0,
           0,
           "Vanguard Consumer Staples Index Fund"
          ],
          [
           0,
           0,
           0,
           0,
           0,
           0,
           0,
           0,
           149.17,
           149.22,
           151.23,
           148.08,
           225653,
           0,
           0,
           "Vanguard Consumer Staples Index Fund"
          ],
          [
           299.9,
           300.58,
           0.68,
           0.23,
           0,
           0,
           0.68,
           0.23,
           149.95,
           150.29,
           150.73,
           148.09,
           195404,
           2,
           149.95,
           "Vanguard Consumer Staples Index Fund"
          ],
          [
           299.9,
           305.04,
           5.14,
           1.71,
           0,
           0,
           5.14,
           1.71,
           152.42,
           152.52,
           153.05,
           150.21,
           230577,
           2,
           149.95,
           "Vanguard Consumer Staples Index Fund"
          ],
          [
           2123.18,
           2094.4,
           -28.78,
           -1.36,
           0,
           0,
           -28.78,
           -1.36,
           151.11,
           149.6,
           152.28,
           149.6,
           211365,
           14,
           151.66,
           "Vanguard Consumer Staples Index Fund"
          ],
          [
           2123.18,
           2051.98,
           -71.2,
           -3.35,
           0,
           0,
           -71.2,
           -3.35,
           147.55,
           146.57,
           148.26,
           146.04,
           179815,
           14,
           151.66,
           "Vanguard Consumer Staples Index Fund"
          ],
          [
           2123.18,
           2072,
           -51.18,
           -2.41,
           0,
           0,
           -51.18,
           -2.41,
           148.42,
           148,
           148.94,
           147.01,
           186897,
           14,
           151.66,
           "Vanguard Consumer Staples Index Fund"
          ],
          [
           2123.18,
           2058.98,
           -64.2,
           -3.02,
           0,
           0,
           -64.2,
           -3.02,
           148.05,
           147.07,
           148.78,
           146.78,
           142867,
           14,
           151.66,
           "Vanguard Consumer Staples Index Fund"
          ],
          [
           2123.18,
           2079,
           -44.18,
           -2.08,
           0,
           0,
           -44.18,
           -2.08,
           147.9,
           148.5,
           149,
           147.36,
           118919,
           14,
           151.66,
           "Vanguard Consumer Staples Index Fund"
          ],
          [
           2123.18,
           2092.3,
           -30.88,
           -1.45,
           0,
           0,
           -30.88,
           -1.45,
           149.43,
           149.45,
           150,
           148.68,
           451568,
           14,
           151.66,
           "Vanguard Consumer Staples Index Fund"
          ],
          [
           2123.18,
           2103.08,
           -20.1,
           -0.95,
           0,
           0,
           -20.1,
           -0.95,
           151.38,
           150.22,
           151.38,
           149.65,
           141564,
           14,
           151.66,
           "Vanguard Consumer Staples Index Fund"
          ],
          [
           2123.18,
           2098.74,
           -24.44,
           -1.15,
           0,
           0,
           -24.44,
           -1.15,
           151.17,
           149.91,
           151.17,
           148.9,
           164790,
           14,
           151.66,
           "Vanguard Consumer Staples Index Fund"
          ],
          [
           2123.18,
           2071.58,
           -51.6,
           -2.43,
           0,
           0,
           -51.6,
           -2.43,
           149.19,
           147.97,
           149.27,
           147.16,
           267150,
           14,
           151.66,
           "Vanguard Consumer Staples Index Fund"
          ],
          [
           2123.18,
           2046.66,
           -76.52,
           -3.6,
           0,
           0,
           -76.52,
           -3.6,
           146.81,
           146.19,
           148,
           145.56,
           212430,
           14,
           151.66,
           "Vanguard Consumer Staples Index Fund"
          ],
          [
           2123.18,
           2045.82,
           -77.36,
           -3.64,
           0,
           0,
           -77.36,
           -3.64,
           145.63,
           146.13,
           146.3,
           144.57,
           210362,
           14,
           151.66,
           "Vanguard Consumer Staples Index Fund"
          ],
          [
           2123.18,
           2048.9,
           -74.28,
           -3.5,
           0,
           0,
           -74.28,
           -3.5,
           146.83,
           146.35,
           147.78,
           146.18,
           152959,
           14,
           151.66,
           "Vanguard Consumer Staples Index Fund"
          ],
          [
           2123.18,
           2026.92,
           -96.26,
           -4.53,
           0,
           0,
           -96.26,
           -4.53,
           146.69,
           144.78,
           146.78,
           144.66,
           127050,
           14,
           151.66,
           "Vanguard Consumer Staples Index Fund"
          ],
          [
           2123.18,
           2022.44,
           -100.74,
           -4.74,
           0,
           0,
           -100.74,
           -4.74,
           145.93,
           144.46,
           146.13,
           144.29,
           118832,
           14,
           151.66,
           "Vanguard Consumer Staples Index Fund"
          ],
          [
           2123.18,
           2071.3,
           -51.88,
           -2.44,
           0,
           0,
           -51.88,
           -2.44,
           145.9,
           147.95,
           148.26,
           145.9,
           154185,
           14,
           151.66,
           "Vanguard Consumer Staples Index Fund"
          ],
          [
           2123.18,
           2065.7,
           -57.48,
           -2.71,
           0,
           0,
           -57.48,
           -2.71,
           147.32,
           147.55,
           148.86,
           147.29,
           426025,
           14,
           151.66,
           "Vanguard Consumer Staples Index Fund"
          ],
          [
           2123.18,
           2048.06,
           -75.12,
           -3.54,
           0,
           0,
           -75.12,
           -3.54,
           148.07,
           146.29,
           149.74,
           146.29,
           2471005,
           14,
           151.66,
           "Vanguard Consumer Staples Index Fund"
          ],
          [
           2556.04,
           2466.02,
           -90.01,
           -3.52,
           0,
           0,
           -90.01,
           -3.52,
           146.23,
           145.06,
           146.95,
           144.24,
           211249,
           17,
           150.35,
           "Vanguard Consumer Staples Index Fund"
          ],
          [
           2556.04,
           2455.82,
           -100.21,
           -3.92,
           0,
           0,
           -100.21,
           -3.92,
           144.15,
           144.46,
           144.86,
           142.36,
           272025,
           17,
           150.35,
           "Vanguard Consumer Staples Index Fund"
          ],
          [
           2556.04,
           2478.43,
           -77.61,
           -3.04,
           0,
           0,
           -77.61,
           -3.04,
           144.43,
           145.79,
           146.27,
           144.1,
           188256,
           17,
           150.35,
           "Vanguard Consumer Staples Index Fund"
          ],
          [
           2556.04,
           2520.25,
           -35.78,
           -1.4,
           0,
           0,
           -35.78,
           -1.4,
           148.11,
           148.25,
           149.03,
           147.32,
           162946,
           17,
           150.35,
           "Vanguard Consumer Staples Index Fund"
          ],
          [
           2556.04,
           2474.86,
           -81.17,
           -3.18,
           0,
           0,
           -81.17,
           -3.18,
           148.49,
           145.58,
           148.49,
           145.58,
           353959,
           17,
           150.35,
           "Vanguard Consumer Staples Index Fund"
          ],
          [
           2556.04,
           2505.46,
           -50.57,
           -1.98,
           0,
           0,
           -50.57,
           -1.98,
           147.06,
           147.38,
           147.46,
           146.3,
           96255,
           17,
           150.35,
           "Vanguard Consumer Staples Index Fund"
          ],
          [
           2556.04,
           2478.94,
           -77.09,
           -3.02,
           0,
           0,
           -77.09,
           -3.02,
           147.11,
           145.82,
           147.12,
           145.58,
           177413,
           17,
           150.35,
           "Vanguard Consumer Staples Index Fund"
          ],
          [
           2556.04,
           2488.46,
           -67.57,
           -2.64,
           0,
           0,
           -67.57,
           -2.64,
           146.18,
           146.38,
           146.38,
           145.71,
           126512,
           17,
           150.35,
           "Vanguard Consumer Staples Index Fund"
          ],
          [
           2703.72,
           2651.76,
           -51.97,
           -1.92,
           0,
           0,
           -51.97,
           -1.92,
           148.7,
           147.32,
           148.73,
           147.13,
           245371,
           18,
           150.21,
           "Vanguard Consumer Staples Index Fund"
          ],
          [
           2703.72,
           2700.9,
           -2.82,
           -0.1,
           0,
           0,
           -2.82,
           -0.1,
           148.7,
           150.05,
           150.05,
           147.87,
           190235,
           18,
           150.21,
           "Vanguard Consumer Staples Index Fund"
          ],
          [
           2703.72,
           2713.14,
           9.41,
           0.35,
           0,
           0,
           9.41,
           0.35,
           151.2,
           150.73,
           151.82,
           150.38,
           228848,
           18,
           150.21,
           "Vanguard Consumer Staples Index Fund"
          ],
          [
           2703.72,
           2720.34,
           16.62,
           0.61,
           0,
           0,
           16.62,
           0.61,
           150.33,
           151.13,
           151.46,
           149.1,
           155355,
           18,
           150.21,
           "Vanguard Consumer Staples Index Fund"
          ],
          [
           2703.72,
           2736.72,
           32.99,
           1.22,
           0,
           0,
           32.99,
           1.22,
           150.98,
           152.04,
           152.68,
           150.98,
           156697,
           18,
           150.21,
           "Vanguard Consumer Staples Index Fund"
          ],
          [
           2703.72,
           2736.72,
           32.99,
           1.22,
           0,
           0,
           32.99,
           1.22,
           152.39,
           152.04,
           152.67,
           151.55,
           0,
           18,
           150.21,
           "Vanguard Consumer Staples Index Fund"
          ]
         ],
         "hovertemplate": "<b>%{hovertext}</b><br><br>symbol=VDC<br>date=%{x}<br>total_pct_gain=%{customdata[7]}<br>invested_amount=%{customdata[0]}<br>market_value=%{customdata[1]}<br>unrealized_gain=%{customdata[2]}<br>unrealized_pct_gain=%{customdata[3]}<br>realized_gain=%{customdata[4]}<br>realized_pct_gain=%{customdata[5]}<br>total_gain=%{customdata[6]}<br>open=%{customdata[8]}<br>close=%{customdata[9]}<br>high=%{customdata[10]}<br>low=%{customdata[11]}<br>volume=%{customdata[12]}<br>quantity=%{customdata[13]}<br>average_cost=%{customdata[14]}<br>company_name=%{customdata[15]}<extra></extra>",
         "hovertext": [
          "VDC",
          "VDC",
          "VDC",
          "VDC",
          "VDC",
          "VDC",
          "VDC",
          "VDC",
          "VDC",
          "VDC",
          "VDC",
          "VDC",
          "VDC",
          "VDC",
          "VDC",
          "VDC",
          "VDC",
          "VDC",
          "VDC",
          "VDC",
          "VDC",
          "VDC",
          "VDC",
          "VDC",
          "VDC",
          "VDC",
          "VDC",
          "VDC",
          "VDC",
          "VDC",
          "VDC",
          "VDC",
          "VDC",
          "VDC",
          "VDC",
          "VDC"
         ],
         "legendgroup": "VDC",
         "line": {
          "color": "#00cc96",
          "dash": "solid"
         },
         "mode": "lines",
         "name": "VDC",
         "showlegend": true,
         "type": "scatter",
         "x": [
          "2020-04-13T00:00:00",
          "2020-04-14T00:00:00",
          "2020-04-15T00:00:00",
          "2020-04-16T00:00:00",
          "2020-04-17T00:00:00",
          "2020-04-20T00:00:00",
          "2020-04-21T00:00:00",
          "2020-04-22T00:00:00",
          "2020-04-23T00:00:00",
          "2020-04-24T00:00:00",
          "2020-04-27T00:00:00",
          "2020-04-28T00:00:00",
          "2020-04-29T00:00:00",
          "2020-04-30T00:00:00",
          "2020-05-01T00:00:00",
          "2020-05-04T00:00:00",
          "2020-05-05T00:00:00",
          "2020-05-06T00:00:00",
          "2020-05-07T00:00:00",
          "2020-05-08T00:00:00",
          "2020-05-11T00:00:00",
          "2020-05-12T00:00:00",
          "2020-05-13T00:00:00",
          "2020-05-14T00:00:00",
          "2020-05-15T00:00:00",
          "2020-05-18T00:00:00",
          "2020-05-19T00:00:00",
          "2020-05-20T00:00:00",
          "2020-05-21T00:00:00",
          "2020-05-22T00:00:00",
          "2020-05-26T00:00:00",
          "2020-05-27T00:00:00",
          "2020-05-28T00:00:00",
          "2020-05-29T00:00:00",
          "2020-06-01T00:00:00",
          "2020-06-02T15:02:47"
         ],
         "xaxis": "x",
         "y": [
          0,
          0,
          0,
          0.23,
          1.71,
          -1.36,
          -3.35,
          -2.41,
          -3.02,
          -2.08,
          -1.45,
          -0.95,
          -1.15,
          -2.43,
          -3.6,
          -3.64,
          -3.5,
          -4.53,
          -4.74,
          -2.44,
          -2.71,
          -3.54,
          -3.52,
          -3.92,
          -3.04,
          -1.4,
          -3.18,
          -1.98,
          -3.02,
          -2.64,
          -1.92,
          -0.1,
          0.35,
          0.61,
          1.22,
          1.22
         ],
         "yaxis": "y"
        },
        {
         "customdata": [
          [
           0,
           0,
           0,
           0,
           0,
           0,
           0,
           0,
           60.28,
           59.84,
           60.3,
           59.84,
           1289,
           0,
           0,
           "FlexShares Credit-Scored US Long Corporate Bond Index Fund"
          ],
          [
           0,
           0,
           0,
           0,
           0,
           0,
           0,
           0,
           60.5,
           60.48,
           60.84,
           60.48,
           1092,
           0,
           0,
           "FlexShares Credit-Scored US Long Corporate Bond Index Fund"
          ],
          [
           0,
           0,
           0,
           0,
           0,
           0,
           0,
           0,
           62.74,
           62.52,
           62.79,
           62.34,
           3496,
           0,
           0,
           "FlexShares Credit-Scored US Long Corporate Bond Index Fund"
          ],
          [
           119.98,
           121.45,
           1.47,
           1.23,
           0,
           0,
           1.47,
           1.23,
           61.53,
           60.73,
           61.53,
           60.03,
           6464,
           2,
           59.99,
           "FlexShares Credit-Scored US Long Corporate Bond Index Fund"
          ],
          [
           119.98,
           116.44,
           -3.54,
           -2.95,
           0,
           0,
           -3.54,
           -2.95,
           58.22,
           58.22,
           58.22,
           58.22,
           244,
           2,
           59.99,
           "FlexShares Credit-Scored US Long Corporate Bond Index Fund"
          ],
          [
           1009.03,
           946.87,
           -62.17,
           -6.16,
           0,
           0,
           -62.17,
           -6.16,
           58.41,
           55.7,
           58.41,
           55.7,
           727,
           17,
           59.35,
           "FlexShares Credit-Scored US Long Corporate Bond Index Fund"
          ],
          [
           1009.03,
           873.38,
           -135.66,
           -13.44,
           0,
           0,
           -135.66,
           -13.44,
           55.28,
           51.38,
           55.91,
           45.9,
           11288,
           17,
           59.35,
           "FlexShares Credit-Scored US Long Corporate Bond Index Fund"
          ],
          [
           1009.03,
           942.19,
           -66.85,
           -6.62,
           0,
           0,
           -66.85,
           -6.62,
           53.89,
           55.42,
           55.42,
           52.4,
           3738,
           17,
           59.35,
           "FlexShares Credit-Scored US Long Corporate Bond Index Fund"
          ],
          [
           1009.03,
           870.57,
           -138.46,
           -13.72,
           0,
           0,
           -138.46,
           -13.72,
           53.51,
           51.21,
           53.67,
           51.15,
           9419,
           17,
           59.35,
           "FlexShares Credit-Scored US Long Corporate Bond Index Fund"
          ],
          [
           1009.03,
           804.78,
           -204.25,
           -20.24,
           0,
           0,
           -204.25,
           -20.24,
           48,
           47.34,
           49.29,
           46.31,
           8286,
           17,
           59.35,
           "FlexShares Credit-Scored US Long Corporate Bond Index Fund"
          ],
          [
           1009.03,
           777.62,
           -231.41,
           -22.93,
           0,
           0,
           -231.41,
           -22.93,
           47.93,
           45.74,
           47.93,
           45.41,
           877,
           17,
           59.35,
           "FlexShares Credit-Scored US Long Corporate Bond Index Fund"
          ],
          [
           1009.03,
           941.8,
           -67.23,
           -6.66,
           0,
           0,
           -67.23,
           -6.66,
           55.5,
           55.4,
           55.5,
           54.99,
           2679,
           17,
           59.35,
           "FlexShares Credit-Scored US Long Corporate Bond Index Fund"
          ],
          [
           1009.03,
           943.27,
           -65.76,
           -6.52,
           0,
           0,
           -65.76,
           -6.52,
           55.4,
           55.49,
           55.49,
           54.22,
           2688,
           17,
           59.35,
           "FlexShares Credit-Scored US Long Corporate Bond Index Fund"
          ],
          [
           1009.03,
           957.78,
           -51.25,
           -5.08,
           0,
           0,
           -51.25,
           -5.08,
           56.38,
           56.34,
           56.81,
           56.34,
           2793,
           17,
           59.35,
           "FlexShares Credit-Scored US Long Corporate Bond Index Fund"
          ],
          [
           1009.03,
           951.04,
           -57.99,
           -5.75,
           0,
           0,
           -57.99,
           -5.75,
           55.47,
           55.94,
           55.94,
           55.44,
           18572,
           17,
           59.35,
           "FlexShares Credit-Scored US Long Corporate Bond Index Fund"
          ],
          [
           1009.03,
           957.79,
           -51.24,
           -5.08,
           0,
           0,
           -51.24,
           -5.08,
           56.5,
           56.34,
           56.6,
           56.18,
           3745,
           17,
           59.35,
           "FlexShares Credit-Scored US Long Corporate Bond Index Fund"
          ],
          [
           1009.03,
           1013.89,
           4.86,
           0.48,
           0,
           0,
           4.86,
           0.48,
           59.96,
           59.64,
           60.25,
           59.64,
           1565,
           17,
           59.35,
           "FlexShares Credit-Scored US Long Corporate Bond Index Fund"
          ],
          [
           1009.03,
           1019.2,
           10.17,
           1.01,
           0,
           0,
           10.17,
           1.01,
           59.74,
           59.95,
           60,
           59.23,
           2518,
           17,
           59.35,
           "FlexShares Credit-Scored US Long Corporate Bond Index Fund"
          ],
          [
           1009.03,
           1018.21,
           9.18,
           0.91,
           0,
           0,
           9.18,
           0.91,
           60.9,
           59.89,
           60.9,
           59.6,
           3325,
           17,
           59.35,
           "FlexShares Credit-Scored US Long Corporate Bond Index Fund"
          ],
          [
           1009.03,
           1013.39,
           4.36,
           0.43,
           0,
           0,
           4.36,
           0.43,
           59.34,
           59.61,
           59.61,
           59.22,
           2178,
           17,
           59.35,
           "FlexShares Credit-Scored US Long Corporate Bond Index Fund"
          ],
          [
           1009.03,
           1010.1,
           1.07,
           0.11,
           0,
           0,
           1.07,
           0.11,
           59.64,
           59.42,
           59.85,
           59.12,
           3261,
           17,
           59.35,
           "FlexShares Credit-Scored US Long Corporate Bond Index Fund"
          ],
          [
           1009.03,
           1002.39,
           -6.64,
           -0.66,
           0,
           0,
           -6.64,
           -0.66,
           59.67,
           58.96,
           59.71,
           58.96,
           4381,
           17,
           59.35,
           "FlexShares Credit-Scored US Long Corporate Bond Index Fund"
          ],
          [
           1180.56,
           1185.24,
           4.68,
           0.4,
           0,
           0,
           4.68,
           0.4,
           59.26,
           59.26,
           59.26,
           59.26,
           98,
           20,
           59.03,
           "FlexShares Credit-Scored US Long Corporate Bond Index Fund"
          ],
          [
           1180.56,
           1191.05,
           10.5,
           0.89,
           0,
           0,
           10.5,
           0.89,
           59.47,
           59.55,
           59.78,
           59.47,
           4725,
           20,
           59.03,
           "FlexShares Credit-Scored US Long Corporate Bond Index Fund"
          ],
          [
           1180.56,
           1171.52,
           -9.04,
           -0.77,
           0,
           0,
           -9.04,
           -0.77,
           58.89,
           58.58,
           58.89,
           58.4,
           1145,
           20,
           59.03,
           "FlexShares Credit-Scored US Long Corporate Bond Index Fund"
          ],
          [
           1180.56,
           1167.44,
           -13.12,
           -1.11,
           0,
           0,
           -13.12,
           -1.11,
           58.4,
           58.37,
           58.64,
           58.37,
           1302,
           20,
           59.03,
           "FlexShares Credit-Scored US Long Corporate Bond Index Fund"
          ],
          [
           1180.56,
           1147.07,
           -33.49,
           -2.84,
           0,
           0,
           -33.49,
           -2.84,
           57.9,
           57.35,
           57.92,
           57.28,
           27345,
           20,
           59.03,
           "FlexShares Credit-Scored US Long Corporate Bond Index Fund"
          ],
          [
           1180.56,
           1159.16,
           -21.39,
           -1.81,
           0,
           0,
           -21.39,
           -1.81,
           57.66,
           57.96,
           57.96,
           57.56,
           778,
           20,
           59.03,
           "FlexShares Credit-Scored US Long Corporate Bond Index Fund"
          ],
          [
           1180.56,
           1168.4,
           -12.16,
           -1.03,
           0,
           0,
           -12.16,
           -1.03,
           58.48,
           58.42,
           58.48,
           58.16,
           13466,
           20,
           59.03,
           "FlexShares Credit-Scored US Long Corporate Bond Index Fund"
          ],
          [
           1180.56,
           1193.24,
           12.69,
           1.07,
           0,
           0,
           12.69,
           1.07,
           59.7,
           59.66,
           59.91,
           59.66,
           1171,
           20,
           59.03,
           "FlexShares Credit-Scored US Long Corporate Bond Index Fund"
          ],
          [
           1300.02,
           1309.87,
           9.85,
           0.76,
           0,
           0,
           9.85,
           0.76,
           59.7,
           59.54,
           59.72,
           59.54,
           276,
           22,
           59.09,
           "FlexShares Credit-Scored US Long Corporate Bond Index Fund"
          ],
          [
           1300.02,
           1316.1,
           16.09,
           1.24,
           0,
           0,
           16.09,
           1.24,
           59.82,
           59.82,
           59.82,
           59.82,
           112,
           22,
           59.09,
           "FlexShares Credit-Scored US Long Corporate Bond Index Fund"
          ],
          [
           1300.02,
           1316.65,
           16.63,
           1.28,
           0,
           0,
           16.63,
           1.28,
           59.85,
           59.85,
           59.85,
           59.85,
           170,
           22,
           59.09,
           "FlexShares Credit-Scored US Long Corporate Bond Index Fund"
          ],
          [
           1300.02,
           1330.2,
           30.19,
           2.32,
           0,
           0,
           30.19,
           2.32,
           60.13,
           60.46,
           60.46,
           59.94,
           1171,
           22,
           59.09,
           "FlexShares Credit-Scored US Long Corporate Bond Index Fund"
          ],
          [
           1300.02,
           1321.08,
           21.07,
           1.62,
           0,
           0,
           21.07,
           1.62,
           60.07,
           60.05,
           60.07,
           60.05,
           210,
           22,
           59.09,
           "FlexShares Credit-Scored US Long Corporate Bond Index Fund"
          ],
          [
           1300.02,
           1326.6,
           26.58,
           2.04,
           0,
           0,
           26.58,
           2.04,
           60.23,
           60.3,
           60.3,
           60.23,
           0,
           22,
           59.09,
           "FlexShares Credit-Scored US Long Corporate Bond Index Fund"
          ]
         ],
         "hovertemplate": "<b>%{hovertext}</b><br><br>symbol=LKOR<br>date=%{x}<br>total_pct_gain=%{customdata[7]}<br>invested_amount=%{customdata[0]}<br>market_value=%{customdata[1]}<br>unrealized_gain=%{customdata[2]}<br>unrealized_pct_gain=%{customdata[3]}<br>realized_gain=%{customdata[4]}<br>realized_pct_gain=%{customdata[5]}<br>total_gain=%{customdata[6]}<br>open=%{customdata[8]}<br>close=%{customdata[9]}<br>high=%{customdata[10]}<br>low=%{customdata[11]}<br>volume=%{customdata[12]}<br>quantity=%{customdata[13]}<br>average_cost=%{customdata[14]}<br>company_name=%{customdata[15]}<extra></extra>",
         "hovertext": [
          "LKOR",
          "LKOR",
          "LKOR",
          "LKOR",
          "LKOR",
          "LKOR",
          "LKOR",
          "LKOR",
          "LKOR",
          "LKOR",
          "LKOR",
          "LKOR",
          "LKOR",
          "LKOR",
          "LKOR",
          "LKOR",
          "LKOR",
          "LKOR",
          "LKOR",
          "LKOR",
          "LKOR",
          "LKOR",
          "LKOR",
          "LKOR",
          "LKOR",
          "LKOR",
          "LKOR",
          "LKOR",
          "LKOR",
          "LKOR",
          "LKOR",
          "LKOR",
          "LKOR",
          "LKOR",
          "LKOR",
          "LKOR"
         ],
         "legendgroup": "LKOR",
         "line": {
          "color": "#ab63fa",
          "dash": "solid"
         },
         "mode": "lines",
         "name": "LKOR",
         "showlegend": true,
         "type": "scatter",
         "x": [
          "2020-04-13T00:00:00",
          "2020-04-14T00:00:00",
          "2020-04-15T00:00:00",
          "2020-04-16T00:00:00",
          "2020-04-17T00:00:00",
          "2020-04-20T00:00:00",
          "2020-04-21T00:00:00",
          "2020-04-22T00:00:00",
          "2020-04-23T00:00:00",
          "2020-04-24T00:00:00",
          "2020-04-27T00:00:00",
          "2020-04-28T00:00:00",
          "2020-04-29T00:00:00",
          "2020-04-30T00:00:00",
          "2020-05-01T00:00:00",
          "2020-05-04T00:00:00",
          "2020-05-05T00:00:00",
          "2020-05-06T00:00:00",
          "2020-05-07T00:00:00",
          "2020-05-08T00:00:00",
          "2020-05-11T00:00:00",
          "2020-05-12T00:00:00",
          "2020-05-13T00:00:00",
          "2020-05-14T00:00:00",
          "2020-05-15T00:00:00",
          "2020-05-18T00:00:00",
          "2020-05-19T00:00:00",
          "2020-05-20T00:00:00",
          "2020-05-21T00:00:00",
          "2020-05-22T00:00:00",
          "2020-05-26T00:00:00",
          "2020-05-27T00:00:00",
          "2020-05-28T00:00:00",
          "2020-05-29T00:00:00",
          "2020-06-01T00:00:00",
          "2020-06-02T15:02:47"
         ],
         "xaxis": "x",
         "y": [
          0,
          0,
          0,
          1.23,
          -2.95,
          -6.16,
          -13.44,
          -6.62,
          -13.72,
          -20.24,
          -22.93,
          -6.66,
          -6.52,
          -5.08,
          -5.75,
          -5.08,
          0.48,
          1.01,
          0.91,
          0.43,
          0.11,
          -0.66,
          0.4,
          0.89,
          -0.77,
          -1.11,
          -2.84,
          -1.81,
          -1.03,
          1.07,
          0.76,
          1.24,
          1.28,
          2.32,
          1.62,
          2.04
         ],
         "yaxis": "y"
        },
        {
         "customdata": [
          [
           0,
           0,
           0,
           0,
           0,
           0,
           0,
           0,
           26.99,
           25.76,
           26.99,
           25.68,
           19133,
           0,
           0,
           "PPTY-U.S. Diversified Real Estate ETF"
          ],
          [
           0,
           0,
           0,
           0,
           0,
           0,
           0,
           0,
           26.83,
           26.55,
           26.83,
           26.32,
           52637,
           0,
           0,
           "PPTY-U.S. Diversified Real Estate ETF"
          ],
          [
           0,
           0,
           0,
           0,
           0,
           0,
           0,
           0,
           25.62,
           25.42,
           25.62,
           25.05,
           23210,
           0,
           0,
           "PPTY-U.S. Diversified Real Estate ETF"
          ],
          [
           128.3,
           125.24,
           -3.06,
           -2.39,
           0,
           0,
           -3.06,
           -2.39,
           25.05,
           25.05,
           25.14,
           24.88,
           34688,
           5,
           25.66,
           "PPTY-U.S. Diversified Real Estate ETF"
          ],
          [
           128.3,
           129.5,
           1.2,
           0.94,
           0,
           0,
           1.2,
           0.94,
           25.86,
           25.9,
           26.07,
           25.63,
           60282,
           5,
           25.66,
           "PPTY-U.S. Diversified Real Estate ETF"
          ],
          [
           128.3,
           124.47,
           -3.83,
           -2.98,
           0,
           0,
           -3.83,
           -2.98,
           25.52,
           24.89,
           25.52,
           24.43,
           50439,
           5,
           25.66,
           "PPTY-U.S. Diversified Real Estate ETF"
          ],
          [
           128.3,
           121.1,
           -7.2,
           -5.61,
           0,
           0,
           -7.2,
           -5.61,
           24.15,
           24.22,
           24.37,
           23.93,
           48958,
           5,
           25.66,
           "PPTY-U.S. Diversified Real Estate ETF"
          ],
          [
           128.3,
           121.81,
           -6.49,
           -5.06,
           0,
           0,
           -6.49,
           -5.06,
           24.61,
           24.36,
           24.61,
           24.25,
           35392,
           5,
           25.66,
           "PPTY-U.S. Diversified Real Estate ETF"
          ],
          [
           128.3,
           120.65,
           -7.65,
           -5.96,
           0,
           0,
           -7.65,
           -5.96,
           24.49,
           24.13,
           24.8,
           23.82,
           41213,
           5,
           25.66,
           "PPTY-U.S. Diversified Real Estate ETF"
          ],
          [
           128.3,
           120.7,
           -7.6,
           -5.92,
           0,
           0,
           -7.6,
           -5.92,
           24.29,
           24.14,
           24.55,
           24.03,
           25032,
           5,
           25.66,
           "PPTY-U.S. Diversified Real Estate ETF"
          ],
          [
           128.3,
           126.07,
           -2.23,
           -1.74,
           0,
           0,
           -2.23,
           -1.74,
           24.65,
           25.21,
           25.43,
           24.63,
           21422,
           5,
           25.66,
           "PPTY-U.S. Diversified Real Estate ETF"
          ],
          [
           128.3,
           128.1,
           -0.2,
           -0.16,
           0,
           0,
           -0.2,
           -0.16,
           25.91,
           25.62,
           26.07,
           25.62,
           42278,
           5,
           25.66,
           "PPTY-U.S. Diversified Real Estate ETF"
          ],
          [
           128.3,
           132.1,
           3.8,
           2.96,
           0,
           0,
           3.8,
           2.96,
           26.37,
           26.42,
           26.73,
           25.95,
           31178,
           5,
           25.66,
           "PPTY-U.S. Diversified Real Estate ETF"
          ],
          [
           128.3,
           129.75,
           1.45,
           1.13,
           0,
           0,
           1.45,
           1.13,
           25.73,
           25.95,
           25.95,
           25.54,
           37408,
           5,
           25.66,
           "PPTY-U.S. Diversified Real Estate ETF"
          ],
          [
           128.3,
           124.45,
           -3.85,
           -3,
           0,
           0,
           -3.85,
           -3,
           25.05,
           24.89,
           25.3,
           24.75,
           28507,
           5,
           25.66,
           "PPTY-U.S. Diversified Real Estate ETF"
          ],
          [
           128.3,
           123.85,
           -4.45,
           -3.47,
           0,
           0,
           -4.45,
           -3.47,
           24.59,
           24.77,
           24.81,
           24.34,
           31107,
           5,
           25.66,
           "PPTY-U.S. Diversified Real Estate ETF"
          ],
          [
           128.3,
           124.41,
           -3.89,
           -3.03,
           0,
           0,
           -3.89,
           -3.03,
           25.01,
           24.88,
           25.32,
           24.88,
           15394,
           5,
           25.66,
           "PPTY-U.S. Diversified Real Estate ETF"
          ],
          [
           128.3,
           122.35,
           -5.95,
           -4.64,
           0,
           0,
           -5.95,
           -4.64,
           24.89,
           24.47,
           24.93,
           24.47,
           23897,
           5,
           25.66,
           "PPTY-U.S. Diversified Real Estate ETF"
          ],
          [
           128.3,
           123.3,
           -5,
           -3.9,
           0,
           0,
           -5,
           -3.9,
           24.75,
           24.66,
           25.08,
           24.64,
           8731,
           5,
           25.66,
           "PPTY-U.S. Diversified Real Estate ETF"
          ],
          [
           128.3,
           126.49,
           -1.81,
           -1.41,
           0,
           0,
           -1.81,
           -1.41,
           25.12,
           25.3,
           25.44,
           25.07,
           15481,
           5,
           25.66,
           "PPTY-U.S. Diversified Real Estate ETF"
          ],
          [
           128.3,
           124.34,
           -3.96,
           -3.08,
           0,
           0,
           -3.96,
           -3.08,
           25.23,
           24.87,
           25.23,
           24.73,
           11907,
           5,
           25.66,
           "PPTY-U.S. Diversified Real Estate ETF"
          ],
          [
           128.3,
           118.2,
           -10.1,
           -7.87,
           0,
           0,
           -10.1,
           -7.87,
           24.5,
           23.64,
           24.5,
           23.61,
           17067,
           5,
           25.66,
           "PPTY-U.S. Diversified Real Estate ETF"
          ],
          [
           128.3,
           114.33,
           -13.97,
           -10.89,
           0,
           0,
           -13.97,
           -10.89,
           23.24,
           22.87,
           23.31,
           22.75,
           21409,
           5,
           25.66,
           "PPTY-U.S. Diversified Real Estate ETF"
          ],
          [
           128.3,
           115.35,
           -12.95,
           -10.09,
           0,
           0,
           -12.95,
           -10.09,
           22.27,
           23.07,
           23.07,
           22.06,
           11915,
           5,
           25.66,
           "PPTY-U.S. Diversified Real Estate ETF"
          ],
          [
           128.3,
           115,
           -13.3,
           -10.37,
           0,
           0,
           -13.3,
           -10.37,
           22.62,
           23,
           23,
           22.52,
           54318,
           5,
           25.66,
           "PPTY-U.S. Diversified Real Estate ETF"
          ],
          [
           128.3,
           121.6,
           -6.7,
           -5.22,
           0,
           0,
           -6.7,
           -5.22,
           23.05,
           24.32,
           24.62,
           23.05,
           20012,
           5,
           25.66,
           "PPTY-U.S. Diversified Real Estate ETF"
          ],
          [
           128.3,
           120.79,
           -7.51,
           -5.85,
           0,
           0,
           -7.51,
           -5.85,
           24.52,
           24.16,
           24.52,
           24.04,
           16361,
           5,
           25.66,
           "PPTY-U.S. Diversified Real Estate ETF"
          ],
          [
           128.3,
           122.3,
           -6,
           -4.68,
           0,
           0,
           -6,
           -4.68,
           24.34,
           24.46,
           24.47,
           24.13,
           12700,
           5,
           25.66,
           "PPTY-U.S. Diversified Real Estate ETF"
          ],
          [
           128.3,
           122.01,
           -6.29,
           -4.9,
           0,
           0,
           -6.29,
           -4.9,
           24.44,
           24.4,
           24.62,
           24.35,
           24851,
           5,
           25.66,
           "PPTY-U.S. Diversified Real Estate ETF"
          ],
          [
           128.3,
           122.6,
           -5.7,
           -4.44,
           0,
           0,
           -5.7,
           -4.44,
           24.42,
           24.52,
           24.59,
           24.32,
           13490,
           5,
           25.66,
           "PPTY-U.S. Diversified Real Estate ETF"
          ],
          [
           128.3,
           127.78,
           -0.52,
           -0.4,
           0,
           0,
           -0.52,
           -0.4,
           25.42,
           25.56,
           25.77,
           25.42,
           22333,
           5,
           25.66,
           "PPTY-U.S. Diversified Real Estate ETF"
          ],
          [
           128.3,
           130.45,
           2.15,
           1.68,
           0,
           0,
           2.15,
           1.68,
           26.22,
           26.09,
           26.22,
           25.57,
           21119,
           5,
           25.66,
           "PPTY-U.S. Diversified Real Estate ETF"
          ],
          [
           128.3,
           130.2,
           1.9,
           1.48,
           0,
           0,
           1.9,
           1.48,
           26.14,
           26.04,
           26.14,
           25.81,
           11343,
           5,
           25.66,
           "PPTY-U.S. Diversified Real Estate ETF"
          ],
          [
           128.3,
           128.38,
           0.08,
           0.06,
           0,
           0,
           0.08,
           0.06,
           25.63,
           25.68,
           25.81,
           25.55,
           31218,
           5,
           25.66,
           "PPTY-U.S. Diversified Real Estate ETF"
          ],
          [
           128.3,
           131.15,
           2.85,
           2.22,
           0,
           0,
           2.85,
           2.22,
           25.86,
           26.23,
           26.39,
           25.86,
           15052,
           5,
           25.66,
           "PPTY-U.S. Diversified Real Estate ETF"
          ],
          [
           128.3,
           132.7,
           4.4,
           3.43,
           0,
           0,
           4.4,
           3.43,
           26.29,
           26.54,
           26.54,
           26.29,
           0,
           5,
           25.66,
           "PPTY-U.S. Diversified Real Estate ETF"
          ]
         ],
         "hovertemplate": "<b>%{hovertext}</b><br><br>symbol=PPTY<br>date=%{x}<br>total_pct_gain=%{customdata[7]}<br>invested_amount=%{customdata[0]}<br>market_value=%{customdata[1]}<br>unrealized_gain=%{customdata[2]}<br>unrealized_pct_gain=%{customdata[3]}<br>realized_gain=%{customdata[4]}<br>realized_pct_gain=%{customdata[5]}<br>total_gain=%{customdata[6]}<br>open=%{customdata[8]}<br>close=%{customdata[9]}<br>high=%{customdata[10]}<br>low=%{customdata[11]}<br>volume=%{customdata[12]}<br>quantity=%{customdata[13]}<br>average_cost=%{customdata[14]}<br>company_name=%{customdata[15]}<extra></extra>",
         "hovertext": [
          "PPTY",
          "PPTY",
          "PPTY",
          "PPTY",
          "PPTY",
          "PPTY",
          "PPTY",
          "PPTY",
          "PPTY",
          "PPTY",
          "PPTY",
          "PPTY",
          "PPTY",
          "PPTY",
          "PPTY",
          "PPTY",
          "PPTY",
          "PPTY",
          "PPTY",
          "PPTY",
          "PPTY",
          "PPTY",
          "PPTY",
          "PPTY",
          "PPTY",
          "PPTY",
          "PPTY",
          "PPTY",
          "PPTY",
          "PPTY",
          "PPTY",
          "PPTY",
          "PPTY",
          "PPTY",
          "PPTY",
          "PPTY"
         ],
         "legendgroup": "PPTY",
         "line": {
          "color": "#FFA15A",
          "dash": "solid"
         },
         "mode": "lines",
         "name": "PPTY",
         "showlegend": true,
         "type": "scatter",
         "x": [
          "2020-04-13T00:00:00",
          "2020-04-14T00:00:00",
          "2020-04-15T00:00:00",
          "2020-04-16T00:00:00",
          "2020-04-17T00:00:00",
          "2020-04-20T00:00:00",
          "2020-04-21T00:00:00",
          "2020-04-22T00:00:00",
          "2020-04-23T00:00:00",
          "2020-04-24T00:00:00",
          "2020-04-27T00:00:00",
          "2020-04-28T00:00:00",
          "2020-04-29T00:00:00",
          "2020-04-30T00:00:00",
          "2020-05-01T00:00:00",
          "2020-05-04T00:00:00",
          "2020-05-05T00:00:00",
          "2020-05-06T00:00:00",
          "2020-05-07T00:00:00",
          "2020-05-08T00:00:00",
          "2020-05-11T00:00:00",
          "2020-05-12T00:00:00",
          "2020-05-13T00:00:00",
          "2020-05-14T00:00:00",
          "2020-05-15T00:00:00",
          "2020-05-18T00:00:00",
          "2020-05-19T00:00:00",
          "2020-05-20T00:00:00",
          "2020-05-21T00:00:00",
          "2020-05-22T00:00:00",
          "2020-05-26T00:00:00",
          "2020-05-27T00:00:00",
          "2020-05-28T00:00:00",
          "2020-05-29T00:00:00",
          "2020-06-01T00:00:00",
          "2020-06-02T15:02:47"
         ],
         "xaxis": "x",
         "y": [
          0,
          0,
          0,
          -2.39,
          0.94,
          -2.98,
          -5.61,
          -5.06,
          -5.96,
          -5.92,
          -1.74,
          -0.16,
          2.96,
          1.13,
          -3,
          -3.47,
          -3.03,
          -4.64,
          -3.9,
          -1.41,
          -3.08,
          -7.87,
          -10.89,
          -10.09,
          -10.37,
          -5.22,
          -5.85,
          -4.68,
          -4.9,
          -4.44,
          -0.4,
          1.68,
          1.48,
          0.06,
          2.22,
          3.43
         ],
         "yaxis": "y"
        },
        {
         "customdata": [
          [
           0,
           0,
           0,
           0,
           0,
           0,
           0,
           0,
           31.17,
           30.71,
           31.17,
           30.55,
           1035489,
           0,
           0,
           "SPDR Portfolio Long Term Corporate Bond ETF"
          ],
          [
           0,
           0,
           0,
           0,
           0,
           0,
           0,
           0,
           31.02,
           30.6,
           31.02,
           30.38,
           1057836,
           0,
           0,
           "SPDR Portfolio Long Term Corporate Bond ETF"
          ],
          [
           0,
           0,
           0,
           0,
           0,
           0,
           0,
           0,
           30.43,
           30.69,
           30.77,
           30.39,
           1213910,
           0,
           0,
           "SPDR Portfolio Long Term Corporate Bond ETF"
          ],
          [
           122.76,
           123.08,
           0.32,
           0.26,
           0,
           0,
           0.32,
           0.26,
           30.69,
           30.77,
           31.01,
           30.52,
           962853,
           4,
           30.69,
           "SPDR Portfolio Long Term Corporate Bond ETF"
          ],
          [
           122.76,
           123.88,
           1.12,
           0.91,
           0,
           0,
           1.12,
           0.91,
           31.28,
           30.97,
           31.28,
           30.64,
           1923704,
           4,
           30.69,
           "SPDR Portfolio Long Term Corporate Bond ETF"
          ],
          [
           1009.14,
           1016.4,
           7.25,
           0.72,
           0,
           0,
           7.25,
           0.72,
           30.47,
           30.8,
           30.87,
           30.42,
           947107,
           33,
           30.58,
           "SPDR Portfolio Long Term Corporate Bond ETF"
          ],
          [
           1009.14,
           1013.1,
           3.96,
           0.39,
           0,
           0,
           3.96,
           0.39,
           30.73,
           30.7,
           30.79,
           30.43,
           889362,
           33,
           30.58,
           "SPDR Portfolio Long Term Corporate Bond ETF"
          ],
          [
           1009.14,
           1010.46,
           1.32,
           0.13,
           0,
           0,
           1.32,
           0.13,
           30.74,
           30.62,
           30.74,
           30.44,
           650513,
           33,
           30.58,
           "SPDR Portfolio Long Term Corporate Bond ETF"
          ],
          [
           1009.14,
           1015.41,
           6.26,
           0.62,
           0,
           0,
           6.26,
           0.62,
           30.82,
           30.77,
           30.92,
           30.75,
           644096,
           33,
           30.58,
           "SPDR Portfolio Long Term Corporate Bond ETF"
          ],
          [
           1009.14,
           1015.08,
           5.94,
           0.59,
           0,
           0,
           5.94,
           0.59,
           30.81,
           30.76,
           30.81,
           30.59,
           752464,
           33,
           30.58,
           "SPDR Portfolio Long Term Corporate Bond ETF"
          ],
          [
           1009.14,
           1005.51,
           -3.63,
           -0.36,
           0,
           0,
           -3.63,
           -0.36,
           30.84,
           30.47,
           30.84,
           30.43,
           409897,
           33,
           30.58,
           "SPDR Portfolio Long Term Corporate Bond ETF"
          ],
          [
           1009.14,
           1009.47,
           0.33,
           0.03,
           0,
           0,
           0.33,
           0.03,
           30.72,
           30.59,
           30.73,
           30.5,
           607138,
           33,
           30.58,
           "SPDR Portfolio Long Term Corporate Bond ETF"
          ],
          [
           1009.14,
           1016.07,
           6.92,
           0.69,
           0,
           0,
           6.92,
           0.69,
           30.76,
           30.79,
           30.82,
           30.56,
           542171,
           33,
           30.58,
           "SPDR Portfolio Long Term Corporate Bond ETF"
          ],
          [
           1009.14,
           1005.84,
           -3.3,
           -0.33,
           0,
           0,
           -3.3,
           -0.33,
           30.74,
           30.48,
           30.74,
           30.43,
           478776,
           33,
           30.58,
           "SPDR Portfolio Long Term Corporate Bond ETF"
          ],
          [
           1009.14,
           994.95,
           -14.2,
           -1.41,
           0,
           0,
           -14.2,
           -1.41,
           30.3,
           30.15,
           30.3,
           29.96,
           741838,
           33,
           30.58,
           "SPDR Portfolio Long Term Corporate Bond ETF"
          ],
          [
           1009.14,
           997.26,
           -11.88,
           -1.18,
           0,
           0,
           -11.88,
           -1.18,
           30.34,
           30.22,
           30.34,
           30.04,
           911938,
           33,
           30.58,
           "SPDR Portfolio Long Term Corporate Bond ETF"
          ],
          [
           1009.14,
           993.63,
           -15.51,
           -1.54,
           0,
           0,
           -15.51,
           -1.54,
           30.09,
           30.11,
           30.22,
           30.02,
           605326,
           33,
           30.58,
           "SPDR Portfolio Long Term Corporate Bond ETF"
          ],
          [
           1009.14,
           978.12,
           -31.02,
           -3.07,
           0,
           0,
           -31.02,
           -3.07,
           29.83,
           29.64,
           29.83,
           29.5,
           687570,
           33,
           30.58,
           "SPDR Portfolio Long Term Corporate Bond ETF"
          ],
          [
           1009.14,
           972.51,
           -36.63,
           -3.63,
           0,
           0,
           -36.63,
           -3.63,
           29.59,
           29.47,
           29.72,
           29.47,
           1472328,
           33,
           30.58,
           "SPDR Portfolio Long Term Corporate Bond ETF"
          ],
          [
           1009.14,
           965.91,
           -43.24,
           -4.28,
           0,
           0,
           -43.24,
           -4.28,
           29.26,
           29.27,
           29.36,
           29.23,
           743337,
           33,
           30.58,
           "SPDR Portfolio Long Term Corporate Bond ETF"
          ],
          [
           1009.14,
           956.01,
           -53.13,
           -5.27,
           0,
           0,
           -53.13,
           -5.27,
           29.12,
           28.97,
           29.19,
           28.92,
           393585,
           33,
           30.58,
           "SPDR Portfolio Long Term Corporate Bond ETF"
          ],
          [
           1009.14,
           966.9,
           -42.24,
           -4.19,
           0,
           0,
           -42.24,
           -4.19,
           29.54,
           29.3,
           29.54,
           29.2,
           2277903,
           33,
           30.58,
           "SPDR Portfolio Long Term Corporate Bond ETF"
          ],
          [
           1214.77,
           1177.2,
           -37.57,
           -3.09,
           0,
           0,
           -37.57,
           -3.09,
           29.58,
           29.43,
           29.59,
           29.34,
           920493,
           40,
           30.37,
           "SPDR Portfolio Long Term Corporate Bond ETF"
          ],
          [
           1214.77,
           1187.2,
           -27.57,
           -2.27,
           0,
           0,
           -27.57,
           -2.27,
           29.47,
           29.68,
           29.81,
           29.38,
           552923,
           40,
           30.37,
           "SPDR Portfolio Long Term Corporate Bond ETF"
          ],
          [
           1214.77,
           1194.4,
           -20.37,
           -1.68,
           0,
           0,
           -20.37,
           -1.68,
           29.79,
           29.86,
           29.92,
           29.73,
           913450,
           40,
           30.37,
           "SPDR Portfolio Long Term Corporate Bond ETF"
          ],
          [
           1214.77,
           1202.8,
           -11.97,
           -0.99,
           0,
           0,
           -11.97,
           -0.99,
           30,
           30.07,
           30.16,
           29.92,
           607155,
           40,
           30.37,
           "SPDR Portfolio Long Term Corporate Bond ETF"
          ],
          [
           1214.77,
           1199.2,
           -15.57,
           -1.28,
           0,
           0,
           -15.57,
           -1.28,
           30.1,
           29.98,
           30.1,
           29.95,
           543819,
           40,
           30.37,
           "SPDR Portfolio Long Term Corporate Bond ETF"
          ],
          [
           1214.77,
           1217.6,
           2.83,
           0.23,
           0,
           0,
           2.83,
           0.23,
           30.16,
           30.44,
           30.57,
           30.12,
           493977,
           40,
           30.37,
           "SPDR Portfolio Long Term Corporate Bond ETF"
          ],
          [
           1214.77,
           1218,
           3.23,
           0.27,
           0,
           0,
           3.23,
           0.27,
           30.58,
           30.45,
           30.58,
           30.39,
           413753,
           40,
           30.37,
           "SPDR Portfolio Long Term Corporate Bond ETF"
          ],
          [
           1214.77,
           1224,
           9.23,
           0.76,
           0,
           0,
           9.23,
           0.76,
           30.51,
           30.6,
           30.6,
           30.44,
           225661,
           40,
           30.37,
           "SPDR Portfolio Long Term Corporate Bond ETF"
          ],
          [
           1336.69,
           1339.8,
           3.11,
           0.23,
           0,
           0,
           3.11,
           0.23,
           30.63,
           30.45,
           30.63,
           30.39,
           622831,
           44,
           30.38,
           "SPDR Portfolio Long Term Corporate Bond ETF"
          ],
          [
           1336.69,
           1346.4,
           9.71,
           0.73,
           0,
           0,
           9.71,
           0.73,
           30.57,
           30.6,
           30.61,
           30.48,
           332432,
           44,
           30.38,
           "SPDR Portfolio Long Term Corporate Bond ETF"
          ],
          [
           1336.69,
           1348.6,
           11.91,
           0.89,
           0,
           0,
           11.91,
           0.89,
           30.52,
           30.65,
           30.65,
           30.46,
           311333,
           44,
           30.38,
           "SPDR Portfolio Long Term Corporate Bond ETF"
          ],
          [
           1336.69,
           1356.52,
           19.83,
           1.48,
           0,
           0,
           19.83,
           1.48,
           30.66,
           30.83,
           30.89,
           30.57,
           351737,
           44,
           30.38,
           "SPDR Portfolio Long Term Corporate Bond ETF"
          ],
          [
           1336.69,
           1347.72,
           11.03,
           0.82,
           0,
           0,
           11.03,
           0.82,
           30.69,
           30.63,
           30.73,
           30.54,
           388987,
           44,
           30.38,
           "SPDR Portfolio Long Term Corporate Bond ETF"
          ],
          [
           1336.69,
           1351.24,
           14.55,
           1.09,
           0,
           0,
           14.55,
           1.09,
           30.7,
           30.71,
           30.75,
           30.7,
           0,
           44,
           30.38,
           "SPDR Portfolio Long Term Corporate Bond ETF"
          ]
         ],
         "hovertemplate": "<b>%{hovertext}</b><br><br>symbol=SPLB<br>date=%{x}<br>total_pct_gain=%{customdata[7]}<br>invested_amount=%{customdata[0]}<br>market_value=%{customdata[1]}<br>unrealized_gain=%{customdata[2]}<br>unrealized_pct_gain=%{customdata[3]}<br>realized_gain=%{customdata[4]}<br>realized_pct_gain=%{customdata[5]}<br>total_gain=%{customdata[6]}<br>open=%{customdata[8]}<br>close=%{customdata[9]}<br>high=%{customdata[10]}<br>low=%{customdata[11]}<br>volume=%{customdata[12]}<br>quantity=%{customdata[13]}<br>average_cost=%{customdata[14]}<br>company_name=%{customdata[15]}<extra></extra>",
         "hovertext": [
          "SPLB",
          "SPLB",
          "SPLB",
          "SPLB",
          "SPLB",
          "SPLB",
          "SPLB",
          "SPLB",
          "SPLB",
          "SPLB",
          "SPLB",
          "SPLB",
          "SPLB",
          "SPLB",
          "SPLB",
          "SPLB",
          "SPLB",
          "SPLB",
          "SPLB",
          "SPLB",
          "SPLB",
          "SPLB",
          "SPLB",
          "SPLB",
          "SPLB",
          "SPLB",
          "SPLB",
          "SPLB",
          "SPLB",
          "SPLB",
          "SPLB",
          "SPLB",
          "SPLB",
          "SPLB",
          "SPLB",
          "SPLB"
         ],
         "legendgroup": "SPLB",
         "line": {
          "color": "#19d3f3",
          "dash": "solid"
         },
         "mode": "lines",
         "name": "SPLB",
         "showlegend": true,
         "type": "scatter",
         "x": [
          "2020-04-13T00:00:00",
          "2020-04-14T00:00:00",
          "2020-04-15T00:00:00",
          "2020-04-16T00:00:00",
          "2020-04-17T00:00:00",
          "2020-04-20T00:00:00",
          "2020-04-21T00:00:00",
          "2020-04-22T00:00:00",
          "2020-04-23T00:00:00",
          "2020-04-24T00:00:00",
          "2020-04-27T00:00:00",
          "2020-04-28T00:00:00",
          "2020-04-29T00:00:00",
          "2020-04-30T00:00:00",
          "2020-05-01T00:00:00",
          "2020-05-04T00:00:00",
          "2020-05-05T00:00:00",
          "2020-05-06T00:00:00",
          "2020-05-07T00:00:00",
          "2020-05-08T00:00:00",
          "2020-05-11T00:00:00",
          "2020-05-12T00:00:00",
          "2020-05-13T00:00:00",
          "2020-05-14T00:00:00",
          "2020-05-15T00:00:00",
          "2020-05-18T00:00:00",
          "2020-05-19T00:00:00",
          "2020-05-20T00:00:00",
          "2020-05-21T00:00:00",
          "2020-05-22T00:00:00",
          "2020-05-26T00:00:00",
          "2020-05-27T00:00:00",
          "2020-05-28T00:00:00",
          "2020-05-29T00:00:00",
          "2020-06-01T00:00:00",
          "2020-06-02T15:02:47"
         ],
         "xaxis": "x",
         "y": [
          0,
          0,
          0,
          0.26,
          0.91,
          0.72,
          0.39,
          0.13,
          0.62,
          0.59,
          -0.36,
          0.03,
          0.69,
          -0.33,
          -1.41,
          -1.18,
          -1.54,
          -3.07,
          -3.63,
          -4.28,
          -5.27,
          -4.19,
          -3.09,
          -2.27,
          -1.68,
          -0.99,
          -1.28,
          0.23,
          0.27,
          0.76,
          0.23,
          0.73,
          0.89,
          1.48,
          0.82,
          1.09
         ],
         "yaxis": "y"
        },
        {
         "customdata": [
          [
           0,
           0,
           0,
           0,
           0,
           0,
           0,
           0,
           31.08,
           29.88,
           31.1,
           29.86,
           25261,
           0,
           0,
           "Pacer Benchmark Industrial Real Estate SCTR ETF"
          ],
          [
           0,
           0,
           0,
           0,
           0,
           0,
           0,
           0,
           30.73,
           30.73,
           31.06,
           30.58,
           18258,
           0,
           0,
           "Pacer Benchmark Industrial Real Estate SCTR ETF"
          ],
          [
           0,
           0,
           0,
           0,
           0,
           0,
           0,
           0,
           29.87,
           29.25,
           29.87,
           29.1,
           23041,
           0,
           0,
           "Pacer Benchmark Industrial Real Estate SCTR ETF"
          ],
          [
           118,
           117.49,
           -0.51,
           -0.43,
           0,
           0,
           -0.51,
           -0.43,
           29.5,
           29.37,
           29.54,
           29,
           15762,
           4,
           29.5,
           "Pacer Benchmark Industrial Real Estate SCTR ETF"
          ],
          [
           118,
           120.78,
           2.78,
           2.35,
           0,
           0,
           2.78,
           2.35,
           30.14,
           30.19,
           30.37,
           29.86,
           14498,
           4,
           29.5,
           "Pacer Benchmark Industrial Real Estate SCTR ETF"
          ],
          [
           118,
           117.91,
           -0.09,
           -0.08,
           0,
           0,
           -0.09,
           -0.08,
           29.51,
           29.48,
           29.82,
           29.42,
           26500,
           4,
           29.5,
           "Pacer Benchmark Industrial Real Estate SCTR ETF"
          ],
          [
           118,
           115.92,
           -2.08,
           -1.76,
           0,
           0,
           -2.08,
           -1.76,
           28.6,
           28.98,
           29.24,
           28.55,
           19386,
           4,
           29.5,
           "Pacer Benchmark Industrial Real Estate SCTR ETF"
          ],
          [
           118,
           117.52,
           -0.48,
           -0.41,
           0,
           0,
           -0.48,
           -0.41,
           29.46,
           29.38,
           29.54,
           29.18,
           16772,
           4,
           29.5,
           "Pacer Benchmark Industrial Real Estate SCTR ETF"
          ],
          [
           118,
           115.6,
           -2.4,
           -2.03,
           0,
           0,
           -2.4,
           -2.03,
           29.37,
           28.9,
           29.65,
           28.9,
           7083,
           4,
           29.5,
           "Pacer Benchmark Industrial Real Estate SCTR ETF"
          ],
          [
           118,
           116.77,
           -1.23,
           -1.04,
           0,
           0,
           -1.23,
           -1.04,
           29.12,
           29.19,
           29.39,
           28.76,
           10327,
           4,
           29.5,
           "Pacer Benchmark Industrial Real Estate SCTR ETF"
          ],
          [
           118,
           121.45,
           3.45,
           2.92,
           0,
           0,
           3.45,
           2.92,
           29.42,
           30.36,
           30.41,
           29.42,
           9209,
           4,
           29.5,
           "Pacer Benchmark Industrial Real Estate SCTR ETF"
          ],
          [
           118,
           122.54,
           4.54,
           3.85,
           0,
           0,
           4.54,
           3.85,
           31.11,
           30.64,
           31.27,
           30.61,
           31410,
           4,
           29.5,
           "Pacer Benchmark Industrial Real Estate SCTR ETF"
          ],
          [
           118,
           123.1,
           5.1,
           4.32,
           0,
           0,
           5.1,
           4.32,
           31.12,
           30.77,
           31.34,
           30.77,
           21825,
           4,
           29.5,
           "Pacer Benchmark Industrial Real Estate SCTR ETF"
          ],
          [
           118,
           120.48,
           2.48,
           2.1,
           0,
           0,
           2.48,
           2.1,
           30.75,
           30.12,
           30.75,
           29.52,
           25867,
           4,
           29.5,
           "Pacer Benchmark Industrial Real Estate SCTR ETF"
          ],
          [
           118,
           115.9,
           -2.1,
           -1.78,
           0,
           0,
           -2.1,
           -1.78,
           29.35,
           28.98,
           29.47,
           28.81,
           14184,
           4,
           29.5,
           "Pacer Benchmark Industrial Real Estate SCTR ETF"
          ],
          [
           118,
           115.12,
           -2.88,
           -2.44,
           0,
           0,
           -2.88,
           -2.44,
           28.59,
           28.78,
           28.82,
           28.24,
           10435,
           4,
           29.5,
           "Pacer Benchmark Industrial Real Estate SCTR ETF"
          ],
          [
           118,
           115.76,
           -2.24,
           -1.9,
           0,
           0,
           -2.24,
           -1.9,
           29.15,
           28.94,
           29.38,
           28.91,
           13359,
           4,
           29.5,
           "Pacer Benchmark Industrial Real Estate SCTR ETF"
          ],
          [
           118,
           115.43,
           -2.57,
           -2.17,
           0,
           0,
           -2.57,
           -2.17,
           29.29,
           28.86,
           29.29,
           28.86,
           14666,
           4,
           29.5,
           "Pacer Benchmark Industrial Real Estate SCTR ETF"
          ],
          [
           118,
           116.67,
           -1.33,
           -1.13,
           0,
           0,
           -1.33,
           -1.13,
           29.3,
           29.17,
           29.51,
           29.12,
           82625,
           4,
           29.5,
           "Pacer Benchmark Industrial Real Estate SCTR ETF"
          ],
          [
           118,
           121.3,
           3.3,
           2.8,
           0,
           0,
           3.3,
           2.8,
           29.72,
           30.32,
           30.38,
           29.72,
           25609,
           4,
           29.5,
           "Pacer Benchmark Industrial Real Estate SCTR ETF"
          ],
          [
           118,
           120.41,
           2.41,
           2.04,
           0,
           0,
           2.41,
           2.04,
           29.98,
           30.1,
           30.5,
           29.72,
           20656,
           4,
           29.5,
           "Pacer Benchmark Industrial Real Estate SCTR ETF"
          ],
          [
           118,
           113.93,
           -4.07,
           -3.45,
           0,
           0,
           -4.07,
           -3.45,
           29.86,
           28.48,
           29.86,
           28.48,
           29997,
           4,
           29.5,
           "Pacer Benchmark Industrial Real Estate SCTR ETF"
          ],
          [
           118,
           110.25,
           -7.75,
           -6.57,
           0,
           0,
           -7.75,
           -6.57,
           28.17,
           27.56,
           28.17,
           27.52,
           28768,
           4,
           29.5,
           "Pacer Benchmark Industrial Real Estate SCTR ETF"
          ],
          [
           118,
           110.25,
           -7.75,
           -6.57,
           0,
           0,
           -7.75,
           -6.57,
           27.42,
           27.56,
           27.57,
           26.5,
           31141,
           4,
           29.5,
           "Pacer Benchmark Industrial Real Estate SCTR ETF"
          ],
          [
           118,
           110.86,
           -7.14,
           -6.05,
           0,
           0,
           -7.14,
           -6.05,
           27.39,
           27.71,
           27.71,
           27.31,
           38064,
           4,
           29.5,
           "Pacer Benchmark Industrial Real Estate SCTR ETF"
          ],
          [
           118,
           117.04,
           -0.96,
           -0.81,
           0,
           0,
           -0.96,
           -0.81,
           28.69,
           29.26,
           29.42,
           28.69,
           29661,
           4,
           29.5,
           "Pacer Benchmark Industrial Real Estate SCTR ETF"
          ],
          [
           118,
           114.88,
           -3.12,
           -2.64,
           0,
           0,
           -3.12,
           -2.64,
           29.08,
           28.72,
           29.23,
           28.72,
           62531,
           4,
           29.5,
           "Pacer Benchmark Industrial Real Estate SCTR ETF"
          ],
          [
           118,
           117.36,
           -0.64,
           -0.54,
           0,
           0,
           -0.64,
           -0.54,
           29.16,
           29.34,
           29.34,
           29.08,
           18919,
           4,
           29.5,
           "Pacer Benchmark Industrial Real Estate SCTR ETF"
          ],
          [
           118,
           117.55,
           -0.45,
           -0.38,
           0,
           0,
           -0.45,
           -0.38,
           29.42,
           29.39,
           29.63,
           29.24,
           12932,
           4,
           29.5,
           "Pacer Benchmark Industrial Real Estate SCTR ETF"
          ],
          [
           118,
           118.64,
           0.64,
           0.54,
           0,
           0,
           0.64,
           0.54,
           29.49,
           29.66,
           29.67,
           29.35,
           27079,
           4,
           29.5,
           "Pacer Benchmark Industrial Real Estate SCTR ETF"
          ],
          [
           118,
           122.27,
           4.27,
           3.62,
           0,
           0,
           4.27,
           3.62,
           30.35,
           30.57,
           30.8,
           30.35,
           18665,
           4,
           29.5,
           "Pacer Benchmark Industrial Real Estate SCTR ETF"
          ],
          [
           118,
           124.08,
           6.08,
           5.15,
           0,
           0,
           6.08,
           5.15,
           31.12,
           31.02,
           31.16,
           30.46,
           15895,
           4,
           29.5,
           "Pacer Benchmark Industrial Real Estate SCTR ETF"
          ],
          [
           118,
           124.97,
           6.97,
           5.91,
           0,
           0,
           6.97,
           5.91,
           31.1,
           31.24,
           31.27,
           31.06,
           13624,
           4,
           29.5,
           "Pacer Benchmark Industrial Real Estate SCTR ETF"
          ],
          [
           118,
           124.17,
           6.17,
           5.23,
           0,
           0,
           6.17,
           5.23,
           31.4,
           31.04,
           31.4,
           30.89,
           17058,
           4,
           29.5,
           "Pacer Benchmark Industrial Real Estate SCTR ETF"
          ],
          [
           118,
           125.79,
           7.79,
           6.6,
           0,
           0,
           7.79,
           6.6,
           31.1,
           31.45,
           31.64,
           31.1,
           9146,
           4,
           29.5,
           "Pacer Benchmark Industrial Real Estate SCTR ETF"
          ],
          [
           118,
           127.36,
           9.36,
           7.93,
           0,
           0,
           9.36,
           7.93,
           31.57,
           31.84,
           31.84,
           31.46,
           0,
           4,
           29.5,
           "Pacer Benchmark Industrial Real Estate SCTR ETF"
          ]
         ],
         "hovertemplate": "<b>%{hovertext}</b><br><br>symbol=INDS<br>date=%{x}<br>total_pct_gain=%{customdata[7]}<br>invested_amount=%{customdata[0]}<br>market_value=%{customdata[1]}<br>unrealized_gain=%{customdata[2]}<br>unrealized_pct_gain=%{customdata[3]}<br>realized_gain=%{customdata[4]}<br>realized_pct_gain=%{customdata[5]}<br>total_gain=%{customdata[6]}<br>open=%{customdata[8]}<br>close=%{customdata[9]}<br>high=%{customdata[10]}<br>low=%{customdata[11]}<br>volume=%{customdata[12]}<br>quantity=%{customdata[13]}<br>average_cost=%{customdata[14]}<br>company_name=%{customdata[15]}<extra></extra>",
         "hovertext": [
          "INDS",
          "INDS",
          "INDS",
          "INDS",
          "INDS",
          "INDS",
          "INDS",
          "INDS",
          "INDS",
          "INDS",
          "INDS",
          "INDS",
          "INDS",
          "INDS",
          "INDS",
          "INDS",
          "INDS",
          "INDS",
          "INDS",
          "INDS",
          "INDS",
          "INDS",
          "INDS",
          "INDS",
          "INDS",
          "INDS",
          "INDS",
          "INDS",
          "INDS",
          "INDS",
          "INDS",
          "INDS",
          "INDS",
          "INDS",
          "INDS",
          "INDS"
         ],
         "legendgroup": "INDS",
         "line": {
          "color": "#FF6692",
          "dash": "solid"
         },
         "mode": "lines",
         "name": "INDS",
         "showlegend": true,
         "type": "scatter",
         "x": [
          "2020-04-13T00:00:00",
          "2020-04-14T00:00:00",
          "2020-04-15T00:00:00",
          "2020-04-16T00:00:00",
          "2020-04-17T00:00:00",
          "2020-04-20T00:00:00",
          "2020-04-21T00:00:00",
          "2020-04-22T00:00:00",
          "2020-04-23T00:00:00",
          "2020-04-24T00:00:00",
          "2020-04-27T00:00:00",
          "2020-04-28T00:00:00",
          "2020-04-29T00:00:00",
          "2020-04-30T00:00:00",
          "2020-05-01T00:00:00",
          "2020-05-04T00:00:00",
          "2020-05-05T00:00:00",
          "2020-05-06T00:00:00",
          "2020-05-07T00:00:00",
          "2020-05-08T00:00:00",
          "2020-05-11T00:00:00",
          "2020-05-12T00:00:00",
          "2020-05-13T00:00:00",
          "2020-05-14T00:00:00",
          "2020-05-15T00:00:00",
          "2020-05-18T00:00:00",
          "2020-05-19T00:00:00",
          "2020-05-20T00:00:00",
          "2020-05-21T00:00:00",
          "2020-05-22T00:00:00",
          "2020-05-26T00:00:00",
          "2020-05-27T00:00:00",
          "2020-05-28T00:00:00",
          "2020-05-29T00:00:00",
          "2020-06-01T00:00:00",
          "2020-06-02T15:02:47"
         ],
         "xaxis": "x",
         "y": [
          0,
          0,
          0,
          -0.43,
          2.35,
          -0.08,
          -1.76,
          -0.41,
          -2.03,
          -1.04,
          2.92,
          3.85,
          4.32,
          2.1,
          -1.78,
          -2.44,
          -1.9,
          -2.17,
          -1.13,
          2.8,
          2.04,
          -3.45,
          -6.57,
          -6.57,
          -6.05,
          -0.81,
          -2.64,
          -0.54,
          -0.38,
          0.54,
          3.62,
          5.15,
          5.91,
          5.23,
          6.6,
          7.93
         ],
         "yaxis": "y"
        },
        {
         "customdata": [
          [
           0,
           0,
           0,
           0,
           0,
           0,
           0,
           0,
           33.32,
           32.05,
           33.32,
           31.82,
           214161,
           0,
           0,
           "Pacer Benchmark Data & Infrastructure Real Estate SCTR ETF"
          ],
          [
           0,
           0,
           0,
           0,
           0,
           0,
           0,
           0,
           32.75,
           33.39,
           33.47,
           32.75,
           246277,
           0,
           0,
           "Pacer Benchmark Data & Infrastructure Real Estate SCTR ETF"
          ],
          [
           0,
           0,
           0,
           0,
           0,
           0,
           0,
           0,
           32.5,
           32.52,
           32.87,
           32.28,
           276767,
           0,
           0,
           "Pacer Benchmark Data & Infrastructure Real Estate SCTR ETF"
          ],
          [
           130.56,
           132.76,
           2.2,
           1.69,
           0,
           0,
           2.2,
           1.69,
           32.7,
           33.19,
           33.25,
           32.57,
           241737,
           4,
           32.64,
           "Pacer Benchmark Data & Infrastructure Real Estate SCTR ETF"
          ],
          [
           130.56,
           135.24,
           4.68,
           3.58,
           0,
           0,
           4.68,
           3.58,
           33.87,
           33.81,
           33.92,
           33.08,
           298979,
           4,
           32.64,
           "Pacer Benchmark Data & Infrastructure Real Estate SCTR ETF"
          ],
          [
           1032.63,
           1024.24,
           -8.39,
           -0.81,
           0,
           0,
           -8.39,
           -0.81,
           33.37,
           33.04,
           33.5,
           33.04,
           140271,
           31,
           33.31,
           "Pacer Benchmark Data & Infrastructure Real Estate SCTR ETF"
          ],
          [
           1032.63,
           1017.42,
           -15.21,
           -1.47,
           0,
           0,
           -15.21,
           -1.47,
           32.75,
           32.82,
           32.98,
           32.26,
           202789,
           31,
           33.31,
           "Pacer Benchmark Data & Infrastructure Real Estate SCTR ETF"
          ],
          [
           1032.63,
           1043.15,
           10.52,
           1.02,
           0,
           0,
           10.52,
           1.02,
           33.39,
           33.65,
           33.87,
           33.1,
           225661,
           31,
           33.31,
           "Pacer Benchmark Data & Infrastructure Real Estate SCTR ETF"
          ],
          [
           1032.63,
           1043.46,
           10.83,
           1.05,
           0,
           0,
           10.83,
           1.05,
           33.95,
           33.66,
           34.09,
           33.51,
           178305,
           31,
           33.31,
           "Pacer Benchmark Data & Infrastructure Real Estate SCTR ETF"
          ],
          [
           1032.63,
           1039.12,
           6.49,
           0.63,
           0,
           0,
           6.49,
           0.63,
           33.61,
           33.52,
           33.9,
           33.2,
           339886,
           31,
           33.31,
           "Pacer Benchmark Data & Infrastructure Real Estate SCTR ETF"
          ],
          [
           1032.63,
           1065.47,
           32.84,
           3.18,
           0,
           0,
           32.84,
           3.18,
           33.92,
           34.37,
           34.4,
           33.83,
           299898,
           31,
           33.31,
           "Pacer Benchmark Data & Infrastructure Real Estate SCTR ETF"
          ],
          [
           1032.63,
           1049.35,
           16.72,
           1.62,
           0,
           0,
           16.72,
           1.62,
           34.78,
           33.85,
           34.94,
           33.85,
           352892,
           31,
           33.31,
           "Pacer Benchmark Data & Infrastructure Real Estate SCTR ETF"
          ],
          [
           1032.63,
           1035.4,
           2.77,
           0.27,
           0,
           0,
           2.77,
           0.27,
           34.67,
           33.4,
           34.98,
           33.38,
           334654,
           31,
           33.31,
           "Pacer Benchmark Data & Infrastructure Real Estate SCTR ETF"
          ],
          [
           1032.63,
           1033.54,
           0.91,
           0.09,
           0,
           0,
           0.91,
           0.09,
           33.42,
           33.34,
           33.44,
           32.95,
           288189,
           31,
           33.31,
           "Pacer Benchmark Data & Infrastructure Real Estate SCTR ETF"
          ],
          [
           1032.63,
           1011.22,
           -21.41,
           -2.07,
           0,
           0,
           -21.41,
           -2.07,
           33.05,
           32.62,
           33.05,
           32.45,
           181809,
           31,
           33.31,
           "Pacer Benchmark Data & Infrastructure Real Estate SCTR ETF"
          ],
          [
           1032.63,
           1019.28,
           -13.35,
           -1.29,
           0,
           0,
           -13.35,
           -1.29,
           32.63,
           32.88,
           32.88,
           32.12,
           190581,
           31,
           33.31,
           "Pacer Benchmark Data & Infrastructure Real Estate SCTR ETF"
          ],
          [
           1032.63,
           1030.44,
           -2.19,
           -0.21,
           0,
           0,
           -2.19,
           -0.21,
           33.1,
           33.24,
           33.53,
           33.04,
           179317,
           31,
           33.31,
           "Pacer Benchmark Data & Infrastructure Real Estate SCTR ETF"
          ],
          [
           1032.63,
           1024.55,
           -8.08,
           -0.78,
           0,
           0,
           -8.08,
           -0.78,
           33.62,
           33.05,
           33.62,
           33.05,
           211081,
           31,
           33.31,
           "Pacer Benchmark Data & Infrastructure Real Estate SCTR ETF"
          ],
          [
           1032.63,
           1029.2,
           -3.43,
           -0.33,
           0,
           0,
           -3.43,
           -0.33,
           33.58,
           33.2,
           33.72,
           33.14,
           345726,
           31,
           33.31,
           "Pacer Benchmark Data & Infrastructure Real Estate SCTR ETF"
          ],
          [
           1032.63,
           1044.08,
           11.45,
           1.11,
           0,
           0,
           11.45,
           1.11,
           33.73,
           33.68,
           33.73,
           33.26,
           287552,
           31,
           33.31,
           "Pacer Benchmark Data & Infrastructure Real Estate SCTR ETF"
          ],
          [
           1032.63,
           1038.81,
           6.18,
           0.6,
           0,
           0,
           6.18,
           0.6,
           33.25,
           33.51,
           33.99,
           33.22,
           186112,
           31,
           33.31,
           "Pacer Benchmark Data & Infrastructure Real Estate SCTR ETF"
          ],
          [
           1032.63,
           1012.46,
           -20.17,
           -1.95,
           0,
           0,
           -20.17,
           -1.95,
           33.85,
           32.66,
           33.85,
           32.66,
           529263,
           31,
           33.31,
           "Pacer Benchmark Data & Infrastructure Real Estate SCTR ETF"
          ],
          [
           1227.74,
           1205.83,
           -21.91,
           -1.78,
           0,
           0,
           -21.91,
           -1.78,
           32.6,
           32.59,
           33.28,
           32.38,
           364161,
           37,
           33.18,
           "Pacer Benchmark Data & Infrastructure Real Estate SCTR ETF"
          ],
          [
           1227.74,
           1195.47,
           -32.27,
           -2.63,
           0,
           0,
           -32.27,
           -2.63,
           32.43,
           32.31,
           32.43,
           31.78,
           184943,
           37,
           33.18,
           "Pacer Benchmark Data & Infrastructure Real Estate SCTR ETF"
          ],
          [
           1227.74,
           1189.55,
           -38.19,
           -3.11,
           0,
           0,
           -38.19,
           -3.11,
           31.93,
           32.15,
           32.26,
           31.69,
           179651,
           37,
           33.18,
           "Pacer Benchmark Data & Infrastructure Real Estate SCTR ETF"
          ],
          [
           1227.74,
           1223.96,
           -3.78,
           -0.31,
           0,
           0,
           -3.78,
           -0.31,
           33.16,
           33.08,
           33.3,
           32.85,
           143761,
           37,
           33.18,
           "Pacer Benchmark Data & Infrastructure Real Estate SCTR ETF"
          ],
          [
           1227.74,
           1206.57,
           -21.17,
           -1.72,
           0,
           0,
           -21.17,
           -1.72,
           33.15,
           32.61,
           33.15,
           32.61,
           294604,
           37,
           33.18,
           "Pacer Benchmark Data & Infrastructure Real Estate SCTR ETF"
          ],
          [
           1227.74,
           1213.97,
           -13.77,
           -1.12,
           0,
           0,
           -13.77,
           -1.12,
           33.19,
           32.81,
           33.19,
           32.58,
           219430,
           37,
           33.18,
           "Pacer Benchmark Data & Infrastructure Real Estate SCTR ETF"
          ],
          [
           1227.74,
           1198.43,
           -29.31,
           -2.39,
           0,
           0,
           -29.31,
           -2.39,
           32.75,
           32.39,
           32.76,
           32.11,
           166683,
           37,
           33.18,
           "Pacer Benchmark Data & Infrastructure Real Estate SCTR ETF"
          ],
          [
           1227.74,
           1229.14,
           1.4,
           0.11,
           0,
           0,
           1.4,
           0.11,
           32.39,
           33.22,
           33.29,
           32.21,
           291102,
           37,
           33.18,
           "Pacer Benchmark Data & Infrastructure Real Estate SCTR ETF"
          ],
          [
           1495.95,
           1506.6,
           10.65,
           0.71,
           0,
           0,
           10.65,
           0.71,
           33.98,
           33.48,
           34.1,
           33.47,
           187993,
           45,
           33.24,
           "Pacer Benchmark Data & Infrastructure Real Estate SCTR ETF"
          ],
          [
           1495.95,
           1543.05,
           47.1,
           3.15,
           0,
           0,
           47.1,
           3.15,
           33.99,
           34.29,
           34.29,
           33.25,
           407284,
           45,
           33.24,
           "Pacer Benchmark Data & Infrastructure Real Estate SCTR ETF"
          ],
          [
           1495.95,
           1561.95,
           66,
           4.41,
           0,
           0,
           66,
           4.41,
           34.56,
           34.71,
           34.95,
           34.39,
           229239,
           45,
           33.24,
           "Pacer Benchmark Data & Infrastructure Real Estate SCTR ETF"
          ],
          [
           1495.95,
           1569.15,
           73.2,
           4.89,
           0,
           0,
           73.2,
           4.89,
           34.56,
           34.87,
           34.99,
           34.4,
           134246,
           45,
           33.24,
           "Pacer Benchmark Data & Infrastructure Real Estate SCTR ETF"
          ],
          [
           1495.95,
           1592.1,
           96.15,
           6.43,
           0,
           0,
           96.15,
           6.43,
           34.97,
           35.38,
           35.74,
           34.77,
           609544,
           45,
           33.24,
           "Pacer Benchmark Data & Infrastructure Real Estate SCTR ETF"
          ],
          [
           1495.95,
           1583.1,
           87.15,
           5.83,
           0,
           0,
           87.15,
           5.83,
           35.6,
           35.18,
           35.61,
           35,
           0,
           45,
           33.24,
           "Pacer Benchmark Data & Infrastructure Real Estate SCTR ETF"
          ]
         ],
         "hovertemplate": "<b>%{hovertext}</b><br><br>symbol=SRVR<br>date=%{x}<br>total_pct_gain=%{customdata[7]}<br>invested_amount=%{customdata[0]}<br>market_value=%{customdata[1]}<br>unrealized_gain=%{customdata[2]}<br>unrealized_pct_gain=%{customdata[3]}<br>realized_gain=%{customdata[4]}<br>realized_pct_gain=%{customdata[5]}<br>total_gain=%{customdata[6]}<br>open=%{customdata[8]}<br>close=%{customdata[9]}<br>high=%{customdata[10]}<br>low=%{customdata[11]}<br>volume=%{customdata[12]}<br>quantity=%{customdata[13]}<br>average_cost=%{customdata[14]}<br>company_name=%{customdata[15]}<extra></extra>",
         "hovertext": [
          "SRVR",
          "SRVR",
          "SRVR",
          "SRVR",
          "SRVR",
          "SRVR",
          "SRVR",
          "SRVR",
          "SRVR",
          "SRVR",
          "SRVR",
          "SRVR",
          "SRVR",
          "SRVR",
          "SRVR",
          "SRVR",
          "SRVR",
          "SRVR",
          "SRVR",
          "SRVR",
          "SRVR",
          "SRVR",
          "SRVR",
          "SRVR",
          "SRVR",
          "SRVR",
          "SRVR",
          "SRVR",
          "SRVR",
          "SRVR",
          "SRVR",
          "SRVR",
          "SRVR",
          "SRVR",
          "SRVR",
          "SRVR"
         ],
         "legendgroup": "SRVR",
         "line": {
          "color": "#B6E880",
          "dash": "solid"
         },
         "mode": "lines",
         "name": "SRVR",
         "showlegend": true,
         "type": "scatter",
         "x": [
          "2020-04-13T00:00:00",
          "2020-04-14T00:00:00",
          "2020-04-15T00:00:00",
          "2020-04-16T00:00:00",
          "2020-04-17T00:00:00",
          "2020-04-20T00:00:00",
          "2020-04-21T00:00:00",
          "2020-04-22T00:00:00",
          "2020-04-23T00:00:00",
          "2020-04-24T00:00:00",
          "2020-04-27T00:00:00",
          "2020-04-28T00:00:00",
          "2020-04-29T00:00:00",
          "2020-04-30T00:00:00",
          "2020-05-01T00:00:00",
          "2020-05-04T00:00:00",
          "2020-05-05T00:00:00",
          "2020-05-06T00:00:00",
          "2020-05-07T00:00:00",
          "2020-05-08T00:00:00",
          "2020-05-11T00:00:00",
          "2020-05-12T00:00:00",
          "2020-05-13T00:00:00",
          "2020-05-14T00:00:00",
          "2020-05-15T00:00:00",
          "2020-05-18T00:00:00",
          "2020-05-19T00:00:00",
          "2020-05-20T00:00:00",
          "2020-05-21T00:00:00",
          "2020-05-22T00:00:00",
          "2020-05-26T00:00:00",
          "2020-05-27T00:00:00",
          "2020-05-28T00:00:00",
          "2020-05-29T00:00:00",
          "2020-06-01T00:00:00",
          "2020-06-02T15:02:47"
         ],
         "xaxis": "x",
         "y": [
          0,
          0,
          0,
          1.69,
          3.58,
          -0.81,
          -1.47,
          1.02,
          1.05,
          0.63,
          3.18,
          1.62,
          0.27,
          0.09,
          -2.07,
          -1.29,
          -0.21,
          -0.78,
          -0.33,
          1.11,
          0.6,
          -1.95,
          -1.78,
          -2.63,
          -3.11,
          -0.31,
          -1.72,
          -1.12,
          -2.39,
          0.11,
          0.71,
          3.15,
          4.41,
          4.89,
          6.43,
          5.83
         ],
         "yaxis": "y"
        },
        {
         "customdata": [
          [
           0,
           0,
           0,
           0,
           0,
           0,
           0,
           0,
           158.34,
           159.79,
           160.22,
           156,
           146349,
           0,
           0,
           "Vanguard Consumer Discretionary Index Fund"
          ],
          [
           0,
           0,
           0,
           0,
           0,
           0,
           0,
           0,
           163.37,
           166.22,
           166.68,
           162.81,
           104244,
           0,
           0,
           "Vanguard Consumer Discretionary Index Fund"
          ],
          [
           0,
           0,
           0,
           0,
           0,
           0,
           0,
           0,
           162.84,
           162.96,
           164.32,
           161.18,
           75771,
           0,
           0,
           "Vanguard Consumer Discretionary Index Fund"
          ],
          [
           329.85,
           330.78,
           0.93,
           0.28,
           0,
           0,
           0.93,
           0.28,
           163.81,
           165.39,
           167.31,
           162.54,
           81102,
           2,
           164.92,
           "Vanguard Consumer Discretionary Index Fund"
          ],
          [
           329.85,
           339.92,
           10.07,
           3.05,
           0,
           0,
           10.07,
           3.05,
           169.62,
           169.96,
           170.23,
           167.48,
           105607,
           2,
           164.92,
           "Vanguard Consumer Discretionary Index Fund"
          ],
          [
           329.85,
           334.52,
           4.67,
           1.42,
           0,
           0,
           4.67,
           1.42,
           167.8,
           167.26,
           170.67,
           167.25,
           169044,
           2,
           164.92,
           "Vanguard Consumer Discretionary Index Fund"
          ],
          [
           329.85,
           325.04,
           -4.81,
           -1.46,
           0,
           0,
           -4.81,
           -1.46,
           165.05,
           162.52,
           165.69,
           161.5,
           108098,
           2,
           164.92,
           "Vanguard Consumer Discretionary Index Fund"
          ],
          [
           329.85,
           332.16,
           2.31,
           0.7,
           0,
           0,
           2.31,
           0.7,
           165.87,
           166.08,
           166.96,
           165.11,
           50875,
           2,
           164.92,
           "Vanguard Consumer Discretionary Index Fund"
          ],
          [
           329.85,
           333.02,
           3.17,
           0.96,
           0,
           0,
           3.17,
           0.96,
           167.17,
           166.51,
           168.71,
           165.84,
           106745,
           2,
           164.92,
           "Vanguard Consumer Discretionary Index Fund"
          ],
          [
           329.85,
           338.92,
           9.07,
           2.75,
           0,
           0,
           9.07,
           2.75,
           168,
           169.46,
           170.13,
           166.86,
           59483,
           2,
           164.92,
           "Vanguard Consumer Discretionary Index Fund"
          ],
          [
           329.85,
           346.44,
           16.59,
           5.03,
           0,
           0,
           16.59,
           5.03,
           171.13,
           173.22,
           174.13,
           171.13,
           200633,
           2,
           164.92,
           "Vanguard Consumer Discretionary Index Fund"
          ],
          [
           329.85,
           346.82,
           16.97,
           5.14,
           0,
           0,
           16.97,
           5.14,
           176.3,
           173.41,
           176.55,
           172.39,
           75633,
           2,
           164.92,
           "Vanguard Consumer Discretionary Index Fund"
          ],
          [
           329.85,
           356.84,
           26.99,
           8.18,
           0,
           0,
           26.99,
           8.18,
           177.01,
           178.42,
           179.31,
           176.3,
           73400,
           2,
           164.92,
           "Vanguard Consumer Discretionary Index Fund"
          ],
          [
           329.85,
           354.44,
           24.59,
           7.45,
           0,
           0,
           24.59,
           7.45,
           177.79,
           177.22,
           178.69,
           175.6,
           73453,
           2,
           164.92,
           "Vanguard Consumer Discretionary Index Fund"
          ],
          [
           329.85,
           339.22,
           9.37,
           2.84,
           0,
           0,
           9.37,
           2.84,
           171.98,
           169.61,
           172.8,
           167.89,
           88893,
           2,
           164.92,
           "Vanguard Consumer Discretionary Index Fund"
          ],
          [
           329.85,
           342.14,
           12.29,
           3.73,
           0,
           0,
           12.29,
           3.73,
           167.57,
           171.07,
           171.07,
           166.34,
           104986,
           2,
           164.92,
           "Vanguard Consumer Discretionary Index Fund"
          ],
          [
           329.85,
           343.64,
           13.79,
           4.18,
           0,
           0,
           13.79,
           4.18,
           173.22,
           171.82,
           174.22,
           171.63,
           44111,
           2,
           164.92,
           "Vanguard Consumer Discretionary Index Fund"
          ],
          [
           329.85,
           345.76,
           15.91,
           4.82,
           0,
           0,
           15.91,
           4.82,
           173.31,
           172.88,
           174.04,
           172.06,
           40256,
           2,
           164.92,
           "Vanguard Consumer Discretionary Index Fund"
          ],
          [
           329.85,
           350.16,
           20.31,
           6.16,
           0,
           0,
           20.31,
           6.16,
           174.76,
           175.08,
           175.81,
           174.29,
           71696,
           2,
           164.92,
           "Vanguard Consumer Discretionary Index Fund"
          ],
          [
           329.85,
           358.62,
           28.77,
           8.72,
           0,
           0,
           28.77,
           8.72,
           177.29,
           179.31,
           179.32,
           176.5,
           65792,
           2,
           164.92,
           "Vanguard Consumer Discretionary Index Fund"
          ],
          [
           329.85,
           357.86,
           28.01,
           8.49,
           0,
           0,
           28.01,
           8.49,
           177.57,
           178.93,
           180.03,
           177.57,
           67749,
           2,
           164.92,
           "Vanguard Consumer Discretionary Index Fund"
          ],
          [
           329.85,
           349.7,
           19.85,
           6.02,
           0,
           0,
           19.85,
           6.02,
           179.71,
           174.85,
           180.24,
           174.85,
           48497,
           2,
           164.92,
           "Vanguard Consumer Discretionary Index Fund"
          ],
          [
           329.85,
           343.42,
           13.57,
           4.11,
           0,
           0,
           13.57,
           4.11,
           174.89,
           171.71,
           175.45,
           169.97,
           70058,
           2,
           164.92,
           "Vanguard Consumer Discretionary Index Fund"
          ],
          [
           329.85,
           348.28,
           18.43,
           5.59,
           0,
           0,
           18.43,
           5.59,
           169.64,
           174.14,
           174.18,
           167.91,
           105439,
           2,
           164.92,
           "Vanguard Consumer Discretionary Index Fund"
          ],
          [
           329.85,
           352.88,
           23.03,
           6.98,
           0,
           0,
           23.03,
           6.98,
           172.84,
           176.44,
           176.44,
           172.42,
           106622,
           2,
           164.92,
           "Vanguard Consumer Discretionary Index Fund"
          ],
          [
           329.85,
           365.34,
           35.49,
           10.76,
           0,
           0,
           35.49,
           10.76,
           180.76,
           182.67,
           183.49,
           180.76,
           86367,
           2,
           164.92,
           "Vanguard Consumer Discretionary Index Fund"
          ],
          [
           329.85,
           364.88,
           35.03,
           10.62,
           0,
           0,
           35.03,
           10.62,
           182.71,
           182.44,
           185.46,
           181.86,
           61008,
           2,
           164.92,
           "Vanguard Consumer Discretionary Index Fund"
          ],
          [
           329.85,
           370,
           40.15,
           12.17,
           0,
           0,
           40.15,
           12.17,
           185.17,
           185,
           185.56,
           183.83,
           134458,
           2,
           164.92,
           "Vanguard Consumer Discretionary Index Fund"
          ],
          [
           329.85,
           371.58,
           41.73,
           12.65,
           0,
           0,
           41.73,
           12.65,
           185.41,
           185.79,
           186.62,
           183.23,
           118026,
           2,
           164.92,
           "Vanguard Consumer Discretionary Index Fund"
          ],
          [
           329.85,
           371.5,
           41.65,
           12.63,
           0,
           0,
           41.65,
           12.63,
           185.68,
           185.75,
           186.1,
           184.4,
           252090,
           2,
           164.92,
           "Vanguard Consumer Discretionary Index Fund"
          ],
          [
           706.93,
           753.84,
           46.91,
           6.64,
           0,
           0,
           46.91,
           6.64,
           190.35,
           188.46,
           190.87,
           188.19,
           73785,
           4,
           176.73,
           "Vanguard Consumer Discretionary Index Fund"
          ],
          [
           706.93,
           766.76,
           59.83,
           8.46,
           0,
           0,
           59.83,
           8.46,
           190.59,
           191.69,
           191.7,
           186.23,
           62121,
           4,
           176.73,
           "Vanguard Consumer Discretionary Index Fund"
          ],
          [
           706.93,
           757.08,
           50.15,
           7.09,
           0,
           0,
           50.15,
           7.09,
           192.24,
           189.27,
           192.84,
           188.61,
           119145,
           4,
           176.73,
           "Vanguard Consumer Discretionary Index Fund"
          ],
          [
           706.93,
           760.48,
           53.55,
           7.58,
           0,
           0,
           53.55,
           7.58,
           189.17,
           190.12,
           190.72,
           187.78,
           88334,
           4,
           176.73,
           "Vanguard Consumer Discretionary Index Fund"
          ],
          [
           706.93,
           771.72,
           64.79,
           9.16,
           0,
           0,
           64.79,
           9.16,
           190.77,
           192.93,
           193.56,
           190.75,
           144429,
           4,
           176.73,
           "Vanguard Consumer Discretionary Index Fund"
          ],
          [
           706.93,
           772.92,
           65.99,
           9.33,
           0,
           0,
           65.99,
           9.33,
           193.79,
           193.23,
           194.75,
           193,
           0,
           4,
           176.73,
           "Vanguard Consumer Discretionary Index Fund"
          ]
         ],
         "hovertemplate": "<b>%{hovertext}</b><br><br>symbol=VCR<br>date=%{x}<br>total_pct_gain=%{customdata[7]}<br>invested_amount=%{customdata[0]}<br>market_value=%{customdata[1]}<br>unrealized_gain=%{customdata[2]}<br>unrealized_pct_gain=%{customdata[3]}<br>realized_gain=%{customdata[4]}<br>realized_pct_gain=%{customdata[5]}<br>total_gain=%{customdata[6]}<br>open=%{customdata[8]}<br>close=%{customdata[9]}<br>high=%{customdata[10]}<br>low=%{customdata[11]}<br>volume=%{customdata[12]}<br>quantity=%{customdata[13]}<br>average_cost=%{customdata[14]}<br>company_name=%{customdata[15]}<extra></extra>",
         "hovertext": [
          "VCR",
          "VCR",
          "VCR",
          "VCR",
          "VCR",
          "VCR",
          "VCR",
          "VCR",
          "VCR",
          "VCR",
          "VCR",
          "VCR",
          "VCR",
          "VCR",
          "VCR",
          "VCR",
          "VCR",
          "VCR",
          "VCR",
          "VCR",
          "VCR",
          "VCR",
          "VCR",
          "VCR",
          "VCR",
          "VCR",
          "VCR",
          "VCR",
          "VCR",
          "VCR",
          "VCR",
          "VCR",
          "VCR",
          "VCR",
          "VCR",
          "VCR"
         ],
         "legendgroup": "VCR",
         "line": {
          "color": "#FF97FF",
          "dash": "solid"
         },
         "mode": "lines",
         "name": "VCR",
         "showlegend": true,
         "type": "scatter",
         "x": [
          "2020-04-13T00:00:00",
          "2020-04-14T00:00:00",
          "2020-04-15T00:00:00",
          "2020-04-16T00:00:00",
          "2020-04-17T00:00:00",
          "2020-04-20T00:00:00",
          "2020-04-21T00:00:00",
          "2020-04-22T00:00:00",
          "2020-04-23T00:00:00",
          "2020-04-24T00:00:00",
          "2020-04-27T00:00:00",
          "2020-04-28T00:00:00",
          "2020-04-29T00:00:00",
          "2020-04-30T00:00:00",
          "2020-05-01T00:00:00",
          "2020-05-04T00:00:00",
          "2020-05-05T00:00:00",
          "2020-05-06T00:00:00",
          "2020-05-07T00:00:00",
          "2020-05-08T00:00:00",
          "2020-05-11T00:00:00",
          "2020-05-12T00:00:00",
          "2020-05-13T00:00:00",
          "2020-05-14T00:00:00",
          "2020-05-15T00:00:00",
          "2020-05-18T00:00:00",
          "2020-05-19T00:00:00",
          "2020-05-20T00:00:00",
          "2020-05-21T00:00:00",
          "2020-05-22T00:00:00",
          "2020-05-26T00:00:00",
          "2020-05-27T00:00:00",
          "2020-05-28T00:00:00",
          "2020-05-29T00:00:00",
          "2020-06-01T00:00:00",
          "2020-06-02T15:02:47"
         ],
         "xaxis": "x",
         "y": [
          0,
          0,
          0,
          0.28,
          3.05,
          1.42,
          -1.46,
          0.7,
          0.96,
          2.75,
          5.03,
          5.14,
          8.18,
          7.45,
          2.84,
          3.73,
          4.18,
          4.82,
          6.16,
          8.72,
          8.49,
          6.02,
          4.11,
          5.59,
          6.98,
          10.76,
          10.62,
          12.17,
          12.65,
          12.63,
          6.64,
          8.46,
          7.09,
          7.58,
          9.16,
          9.33
         ],
         "yaxis": "y"
        },
        {
         "customdata": [
          [
           130,
           125.49,
           -4.51,
           -3.47,
           0,
           0,
           -4.51,
           -3.47,
           123.33,
           125.49,
           125.69,
           122.75,
           5480835,
           1,
           130,
           "VanEck Vectors Semiconductor ETF"
          ],
          [
           130,
           130.98,
           0.98,
           0.75,
           0,
           0,
           0.98,
           0.75,
           128.62,
           130.98,
           131.1,
           128.18,
           7673223,
           1,
           130,
           "VanEck Vectors Semiconductor ETF"
          ],
          [
           130,
           127.45,
           -2.55,
           -1.96,
           0,
           0,
           -2.55,
           -1.96,
           128.05,
           127.45,
           128.13,
           125.99,
           6013364,
           1,
           130,
           "VanEck Vectors Semiconductor ETF"
          ],
          [
           130,
           130.83,
           0.83,
           0.64,
           0,
           0,
           0.83,
           0.64,
           129.65,
           130.83,
           131.43,
           128.4,
           4654983,
           1,
           130,
           "VanEck Vectors Semiconductor ETF"
          ],
          [
           130,
           132.11,
           2.11,
           1.62,
           0,
           0,
           2.11,
           1.62,
           133.36,
           132.11,
           133.95,
           130.86,
           5097583,
           1,
           130,
           "VanEck Vectors Semiconductor ETF"
          ],
          [
           1049.31,
           1034.48,
           -14.83,
           -1.41,
           0,
           0,
           -14.83,
           -1.41,
           130.01,
           129.31,
           132.12,
           129.27,
           3120611,
           8,
           131.16,
           "VanEck Vectors Semiconductor ETF"
          ],
          [
           1049.31,
           988.16,
           -61.15,
           -5.83,
           0,
           0,
           -61.15,
           -5.83,
           127.11,
           123.52,
           127.82,
           122.78,
           6383646,
           8,
           131.16,
           "VanEck Vectors Semiconductor ETF"
          ],
          [
           1049.31,
           1044,
           -5.31,
           -0.51,
           0,
           0,
           -5.31,
           -0.51,
           127.15,
           130.5,
           131.24,
           127.05,
           6015263,
           8,
           131.16,
           "VanEck Vectors Semiconductor ETF"
          ],
          [
           1049.31,
           1034.4,
           -14.91,
           -1.42,
           0,
           0,
           -14.91,
           -1.42,
           130.46,
           129.3,
           131.92,
           129,
           4272239,
           8,
           131.16,
           "VanEck Vectors Semiconductor ETF"
          ],
          [
           1049.31,
           1055.28,
           5.97,
           0.57,
           0,
           0,
           5.97,
           0.57,
           129.29,
           131.91,
           132.23,
           128.32,
           3993989,
           8,
           131.16,
           "VanEck Vectors Semiconductor ETF"
          ],
          [
           1049.31,
           1068.32,
           19.01,
           1.81,
           0,
           0,
           19.01,
           1.81,
           133.22,
           133.54,
           134.67,
           132.51,
           4451812,
           8,
           131.16,
           "VanEck Vectors Semiconductor ETF"
          ],
          [
           1049.31,
           1061.2,
           11.89,
           1.13,
           0,
           0,
           11.89,
           1.13,
           135.79,
           132.65,
           136.46,
           132.5,
           4556783,
           8,
           131.16,
           "VanEck Vectors Semiconductor ETF"
          ],
          [
           1049.31,
           1111.04,
           61.73,
           5.88,
           0,
           0,
           61.73,
           5.88,
           135.04,
           138.88,
           139.36,
           134.53,
           4885494,
           8,
           131.16,
           "VanEck Vectors Semiconductor ETF"
          ],
          [
           1049.31,
           1069.84,
           20.53,
           1.96,
           0,
           0,
           20.53,
           1.96,
           138.1,
           133.73,
           138.1,
           133.5,
           6868199,
           8,
           131.16,
           "VanEck Vectors Semiconductor ETF"
          ],
          [
           1049.31,
           1019.44,
           -29.87,
           -2.85,
           0,
           0,
           -29.87,
           -2.85,
           130.86,
           127.43,
           131.1,
           126.93,
           6015563,
           8,
           131.16,
           "VanEck Vectors Semiconductor ETF"
          ],
          [
           1049.31,
           1030.72,
           -18.59,
           -1.77,
           0,
           0,
           -18.59,
           -1.77,
           126.9,
           128.84,
           129,
           126.11,
           3807896,
           8,
           131.16,
           "VanEck Vectors Semiconductor ETF"
          ],
          [
           1049.31,
           1044.16,
           -5.15,
           -0.49,
           0,
           0,
           -5.15,
           -0.49,
           130.67,
           130.52,
           132.83,
           129.78,
           4834448,
           8,
           131.16,
           "VanEck Vectors Semiconductor ETF"
          ],
          [
           1049.31,
           1056.4,
           7.09,
           0.68,
           0,
           0,
           7.09,
           0.68,
           132.11,
           132.05,
           134.04,
           131.74,
           3326449,
           8,
           131.16,
           "VanEck Vectors Semiconductor ETF"
          ],
          [
           1049.31,
           1066,
           16.69,
           1.59,
           0,
           0,
           16.69,
           1.59,
           134.5,
           133.25,
           134.92,
           132.71,
           3123389,
           8,
           131.16,
           "VanEck Vectors Semiconductor ETF"
          ],
          [
           1049.31,
           1093.2,
           43.89,
           4.18,
           0,
           0,
           43.89,
           4.18,
           134.72,
           136.65,
           136.81,
           134.18,
           3016635,
           8,
           131.16,
           "VanEck Vectors Semiconductor ETF"
          ],
          [
           1049.31,
           1093.76,
           44.45,
           4.24,
           0,
           0,
           44.45,
           4.24,
           135.33,
           136.72,
           137.7,
           135.24,
           2720856,
           8,
           131.16,
           "VanEck Vectors Semiconductor ETF"
          ],
          [
           1049.31,
           1063.68,
           14.37,
           1.37,
           0,
           0,
           14.37,
           1.37,
           137.6,
           132.96,
           137.91,
           132.92,
           3576627,
           8,
           131.16,
           "VanEck Vectors Semiconductor ETF"
          ],
          [
           1307.8,
           1306,
           -1.8,
           -0.14,
           0,
           0,
           -1.8,
           -0.14,
           133.93,
           130.6,
           134.39,
           128.77,
           6864249,
           10,
           130.78,
           "VanEck Vectors Semiconductor ETF"
          ],
          [
           1307.8,
           1342.6,
           34.8,
           2.66,
           0,
           0,
           34.8,
           2.66,
           129.61,
           134.26,
           134.39,
           127.41,
           5694808,
           10,
           130.78,
           "VanEck Vectors Semiconductor ETF"
          ],
          [
           1307.8,
           1312,
           4.2,
           0.32,
           0,
           0,
           4.2,
           0.32,
           129.75,
           131.2,
           131.85,
           128.86,
           7479518,
           10,
           130.78,
           "VanEck Vectors Semiconductor ETF"
          ],
          [
           1307.8,
           1368.5,
           60.7,
           4.64,
           0,
           0,
           60.7,
           4.64,
           134.56,
           136.85,
           137.57,
           134.43,
           4240437,
           10,
           130.78,
           "VanEck Vectors Semiconductor ETF"
          ],
          [
           1307.8,
           1363.4,
           55.6,
           4.25,
           0,
           0,
           55.6,
           4.25,
           136.79,
           136.34,
           139.27,
           136.13,
           3994057,
           10,
           130.78,
           "VanEck Vectors Semiconductor ETF"
          ],
          [
           1307.8,
           1412.8,
           105,
           8.03,
           0,
           0,
           105,
           8.03,
           139.36,
           141.28,
           142.01,
           139.32,
           4524349,
           10,
           130.78,
           "VanEck Vectors Semiconductor ETF"
          ],
          [
           1307.8,
           1377,
           69.2,
           5.29,
           0,
           0,
           69.2,
           5.29,
           140.94,
           137.7,
           141.29,
           137.5,
           4432682,
           10,
           130.78,
           "VanEck Vectors Semiconductor ETF"
          ],
          [
           1307.8,
           1379.9,
           72.1,
           5.51,
           0,
           0,
           72.1,
           5.51,
           137.77,
           137.99,
           138.15,
           136.09,
           2477552,
           10,
           130.78,
           "VanEck Vectors Semiconductor ETF"
          ],
          [
           1307.8,
           1391.8,
           84,
           6.42,
           0,
           0,
           84,
           6.42,
           141.27,
           139.18,
           142.14,
           138.97,
           4663592,
           10,
           130.78,
           "VanEck Vectors Semiconductor ETF"
          ],
          [
           1307.8,
           1412.8,
           105,
           8.03,
           0,
           0,
           105,
           8.03,
           139.23,
           141.28,
           141.3,
           135.65,
           6509352,
           10,
           130.78,
           "VanEck Vectors Semiconductor ETF"
          ],
          [
           1307.8,
           1382.6,
           74.8,
           5.72,
           0,
           0,
           74.8,
           5.72,
           140.5,
           138.26,
           142.01,
           137.55,
           5192872,
           10,
           130.78,
           "VanEck Vectors Semiconductor ETF"
          ],
          [
           1307.8,
           1410.3,
           102.5,
           7.84,
           0,
           0,
           102.5,
           7.84,
           138.77,
           141.03,
           141.89,
           138.28,
           6013103,
           10,
           130.78,
           "VanEck Vectors Semiconductor ETF"
          ],
          [
           1307.8,
           1408.2,
           100.4,
           7.68,
           0,
           0,
           100.4,
           7.68,
           140.9,
           140.82,
           141.56,
           139.78,
           3167531,
           10,
           130.78,
           "VanEck Vectors Semiconductor ETF"
          ],
          [
           1307.8,
           1414.5,
           106.7,
           8.16,
           0,
           0,
           106.7,
           8.16,
           141.49,
           141.45,
           142.61,
           140.73,
           0,
           10,
           130.78,
           "VanEck Vectors Semiconductor ETF"
          ]
         ],
         "hovertemplate": "<b>%{hovertext}</b><br><br>symbol=SMH<br>date=%{x}<br>total_pct_gain=%{customdata[7]}<br>invested_amount=%{customdata[0]}<br>market_value=%{customdata[1]}<br>unrealized_gain=%{customdata[2]}<br>unrealized_pct_gain=%{customdata[3]}<br>realized_gain=%{customdata[4]}<br>realized_pct_gain=%{customdata[5]}<br>total_gain=%{customdata[6]}<br>open=%{customdata[8]}<br>close=%{customdata[9]}<br>high=%{customdata[10]}<br>low=%{customdata[11]}<br>volume=%{customdata[12]}<br>quantity=%{customdata[13]}<br>average_cost=%{customdata[14]}<br>company_name=%{customdata[15]}<extra></extra>",
         "hovertext": [
          "SMH",
          "SMH",
          "SMH",
          "SMH",
          "SMH",
          "SMH",
          "SMH",
          "SMH",
          "SMH",
          "SMH",
          "SMH",
          "SMH",
          "SMH",
          "SMH",
          "SMH",
          "SMH",
          "SMH",
          "SMH",
          "SMH",
          "SMH",
          "SMH",
          "SMH",
          "SMH",
          "SMH",
          "SMH",
          "SMH",
          "SMH",
          "SMH",
          "SMH",
          "SMH",
          "SMH",
          "SMH",
          "SMH",
          "SMH",
          "SMH",
          "SMH"
         ],
         "legendgroup": "SMH",
         "line": {
          "color": "#FECB52",
          "dash": "solid"
         },
         "mode": "lines",
         "name": "SMH",
         "showlegend": true,
         "type": "scatter",
         "x": [
          "2020-04-13T00:00:00",
          "2020-04-14T00:00:00",
          "2020-04-15T00:00:00",
          "2020-04-16T00:00:00",
          "2020-04-17T00:00:00",
          "2020-04-20T00:00:00",
          "2020-04-21T00:00:00",
          "2020-04-22T00:00:00",
          "2020-04-23T00:00:00",
          "2020-04-24T00:00:00",
          "2020-04-27T00:00:00",
          "2020-04-28T00:00:00",
          "2020-04-29T00:00:00",
          "2020-04-30T00:00:00",
          "2020-05-01T00:00:00",
          "2020-05-04T00:00:00",
          "2020-05-05T00:00:00",
          "2020-05-06T00:00:00",
          "2020-05-07T00:00:00",
          "2020-05-08T00:00:00",
          "2020-05-11T00:00:00",
          "2020-05-12T00:00:00",
          "2020-05-13T00:00:00",
          "2020-05-14T00:00:00",
          "2020-05-15T00:00:00",
          "2020-05-18T00:00:00",
          "2020-05-19T00:00:00",
          "2020-05-20T00:00:00",
          "2020-05-21T00:00:00",
          "2020-05-22T00:00:00",
          "2020-05-26T00:00:00",
          "2020-05-27T00:00:00",
          "2020-05-28T00:00:00",
          "2020-05-29T00:00:00",
          "2020-06-01T00:00:00",
          "2020-06-02T15:02:47"
         ],
         "xaxis": "x",
         "y": [
          -3.47,
          0.75,
          -1.96,
          0.64,
          1.62,
          -1.41,
          -5.83,
          -0.51,
          -1.42,
          0.57,
          1.81,
          1.13,
          5.88,
          1.96,
          -2.85,
          -1.77,
          -0.49,
          0.68,
          1.59,
          4.18,
          4.24,
          1.37,
          -0.14,
          2.66,
          0.32,
          4.64,
          4.25,
          8.03,
          5.29,
          5.51,
          6.42,
          8.03,
          5.72,
          7.84,
          7.68,
          8.16
         ],
         "yaxis": "y"
        },
        {
         "customdata": [
          [
           227.41,
           220.05,
           -7.36,
           -3.24,
           0,
           0,
           -7.36,
           -3.24,
           216.76,
           220.05,
           220.71,
           215.01,
           1322725,
           1,
           227.41,
           "iShares PHLX Semiconductor ETF"
          ],
          [
           227.41,
           230.2,
           2.79,
           1.23,
           0,
           0,
           2.79,
           1.23,
           225.38,
           230.2,
           230.2,
           224.84,
           1957081,
           1,
           227.41,
           "iShares PHLX Semiconductor ETF"
          ],
          [
           227.41,
           223.35,
           -4.06,
           -1.79,
           0,
           0,
           -4.06,
           -1.79,
           225.37,
           223.35,
           225.37,
           221.25,
           1206848,
           1,
           227.41,
           "iShares PHLX Semiconductor ETF"
          ],
          [
           227.41,
           229.62,
           2.21,
           0.97,
           0,
           0,
           2.21,
           0.97,
           227.4,
           229.62,
           230.11,
           224.38,
           1112670,
           1,
           227.41,
           "iShares PHLX Semiconductor ETF"
          ],
          [
           227.41,
           231.4,
           3.99,
           1.75,
           0,
           0,
           3.99,
           1.75,
           233.66,
           231.4,
           234.13,
           228.55,
           924308,
           1,
           227.41,
           "iShares PHLX Semiconductor ETF"
          ],
          [
           2065.93,
           2037.33,
           -28.6,
           -1.38,
           0,
           0,
           -28.6,
           -1.38,
           227.92,
           226.37,
           231.31,
           226.07,
           904729,
           9,
           229.55,
           "iShares PHLX Semiconductor ETF"
          ],
          [
           2065.93,
           1937.52,
           -128.41,
           -6.22,
           0,
           0,
           -128.41,
           -6.22,
           222.84,
           215.28,
           223.99,
           214.58,
           1217662,
           9,
           229.55,
           "iShares PHLX Semiconductor ETF"
          ],
          [
           2065.93,
           2054.79,
           -11.14,
           -0.54,
           0,
           0,
           -11.14,
           -0.54,
           222.3,
           228.31,
           229.39,
           221.17,
           1113839,
           9,
           229.55,
           "iShares PHLX Semiconductor ETF"
          ],
          [
           2065.93,
           2034.27,
           -31.66,
           -1.53,
           0,
           0,
           -31.66,
           -1.53,
           228.32,
           226.03,
           230.67,
           225.23,
           977694,
           9,
           229.55,
           "iShares PHLX Semiconductor ETF"
          ],
          [
           2065.93,
           2076.57,
           10.64,
           0.52,
           0,
           0,
           10.64,
           0.52,
           225.88,
           230.73,
           231.24,
           223.99,
           962422,
           9,
           229.55,
           "iShares PHLX Semiconductor ETF"
          ],
          [
           2065.93,
           2104.29,
           38.36,
           1.86,
           0,
           0,
           38.36,
           1.86,
           233.71,
           233.81,
           236.14,
           232.73,
           1070751,
           9,
           229.55,
           "iShares PHLX Semiconductor ETF"
          ],
          [
           2065.93,
           2093.4,
           27.47,
           1.33,
           0,
           0,
           27.47,
           1.33,
           238.17,
           232.6,
           239.36,
           232.34,
           1364692,
           9,
           229.55,
           "iShares PHLX Semiconductor ETF"
          ],
          [
           2065.93,
           2192.76,
           126.83,
           6.14,
           0,
           0,
           126.83,
           6.14,
           236.73,
           243.64,
           244.63,
           236.29,
           1325455,
           9,
           229.55,
           "iShares PHLX Semiconductor ETF"
          ],
          [
           2065.93,
           2115.36,
           49.43,
           2.39,
           0,
           0,
           49.43,
           2.39,
           242.61,
           235.04,
           242.91,
           234.64,
           1724108,
           9,
           229.55,
           "iShares PHLX Semiconductor ETF"
          ],
          [
           2065.93,
           2012.22,
           -53.71,
           -2.6,
           0,
           0,
           -53.71,
           -2.6,
           228.86,
           223.58,
           230.11,
           222.5,
           2011251,
           9,
           229.55,
           "iShares PHLX Semiconductor ETF"
          ],
          [
           2065.93,
           2028.96,
           -36.97,
           -1.79,
           0,
           0,
           -36.97,
           -1.79,
           221.45,
           225.44,
           225.72,
           220.57,
           1127116,
           9,
           229.55,
           "iShares PHLX Semiconductor ETF"
          ],
          [
           2065.93,
           2063.07,
           -2.86,
           -0.14,
           0,
           0,
           -2.86,
           -0.14,
           229.64,
           229.23,
           233.5,
           227.86,
           1502088,
           9,
           229.55,
           "iShares PHLX Semiconductor ETF"
          ],
          [
           2065.93,
           2088.36,
           22.43,
           1.09,
           0,
           0,
           22.43,
           1.09,
           231.73,
           232.04,
           235.61,
           231.37,
           1469636,
           9,
           229.55,
           "iShares PHLX Semiconductor ETF"
          ],
          [
           2065.93,
           2107.17,
           41.24,
           2,
           0,
           0,
           41.24,
           2,
           236.14,
           234.13,
           237.03,
           232.96,
           943114,
           9,
           229.55,
           "iShares PHLX Semiconductor ETF"
          ],
          [
           2065.93,
           2169.36,
           103.43,
           5.01,
           0,
           0,
           103.43,
           5.01,
           236.58,
           241.04,
           241.29,
           235.91,
           1295227,
           9,
           229.55,
           "iShares PHLX Semiconductor ETF"
          ],
          [
           2065.93,
           2167.29,
           101.36,
           4.91,
           0,
           0,
           101.36,
           4.91,
           238.78,
           240.81,
           242.97,
           238.34,
           1166529,
           9,
           229.55,
           "iShares PHLX Semiconductor ETF"
          ],
          [
           2065.93,
           2109.78,
           43.85,
           2.12,
           0,
           0,
           43.85,
           2.12,
           242.44,
           234.42,
           243.25,
           234.22,
           1254681,
           9,
           229.55,
           "iShares PHLX Semiconductor ETF"
          ],
          [
           2521.19,
           2528.9,
           7.71,
           0.31,
           0,
           0,
           7.71,
           0.31,
           235.56,
           229.9,
           236.64,
           226.42,
           2296523,
           11,
           229.2,
           "iShares PHLX Semiconductor ETF"
          ],
          [
           2521.19,
           2596.55,
           75.36,
           2.99,
           0,
           0,
           75.36,
           2.99,
           227.94,
           236.05,
           236.28,
           224.11,
           2173884,
           11,
           229.2,
           "iShares PHLX Semiconductor ETF"
          ],
          [
           2521.19,
           2542.87,
           21.68,
           0.86,
           0,
           0,
           21.68,
           0.86,
           228.14,
           231.17,
           231.96,
           226.74,
           1885658,
           11,
           229.2,
           "iShares PHLX Semiconductor ETF"
          ],
          [
           2521.19,
           2659.69,
           138.5,
           5.49,
           0,
           0,
           138.5,
           5.49,
           236.66,
           241.79,
           243.08,
           236.66,
           1648106,
           11,
           229.2,
           "iShares PHLX Semiconductor ETF"
          ],
          [
           2521.19,
           2651,
           129.81,
           5.15,
           0,
           0,
           129.81,
           5.15,
           241.84,
           241,
           246.58,
           240.91,
           1409598,
           11,
           229.2,
           "iShares PHLX Semiconductor ETF"
          ],
          [
           2521.19,
           2748.68,
           227.49,
           9.02,
           0,
           0,
           227.49,
           9.02,
           245.96,
           249.88,
           251.51,
           245.96,
           1264070,
           11,
           229.2,
           "iShares PHLX Semiconductor ETF"
          ],
          [
           2521.19,
           2679.49,
           158.3,
           6.28,
           0,
           0,
           158.3,
           6.28,
           249.96,
           243.59,
           250.15,
           243.19,
           1260427,
           11,
           229.2,
           "iShares PHLX Semiconductor ETF"
          ],
          [
           2521.19,
           2691.37,
           170.18,
           6.75,
           0,
           0,
           170.18,
           6.75,
           243.83,
           244.67,
           245.08,
           240.81,
           800938,
           11,
           229.2,
           "iShares PHLX Semiconductor ETF"
          ],
          [
           2521.19,
           2719.64,
           198.45,
           7.87,
           0,
           0,
           198.45,
           7.87,
           251.22,
           247.24,
           252.43,
           246.91,
           1437003,
           11,
           229.2,
           "iShares PHLX Semiconductor ETF"
          ],
          [
           2521.19,
           2761.55,
           240.36,
           9.53,
           0,
           0,
           240.36,
           9.53,
           248,
           251.05,
           251.05,
           240.98,
           1765890,
           11,
           229.2,
           "iShares PHLX Semiconductor ETF"
          ],
          [
           2521.19,
           2701.27,
           180.08,
           7.14,
           0,
           0,
           180.08,
           7.14,
           249.21,
           245.57,
           252.56,
           244.22,
           1490374,
           11,
           229.2,
           "iShares PHLX Semiconductor ETF"
          ],
          [
           2521.19,
           2770.46,
           249.27,
           9.89,
           0,
           0,
           249.27,
           9.89,
           246.38,
           251.86,
           252.53,
           245.62,
           2094005,
           11,
           229.2,
           "iShares PHLX Semiconductor ETF"
          ],
          [
           2521.19,
           2755.5,
           234.31,
           9.29,
           0,
           0,
           234.31,
           9.29,
           250.56,
           250.5,
           251.68,
           248.27,
           927676,
           11,
           229.2,
           "iShares PHLX Semiconductor ETF"
          ],
          [
           2521.19,
           2766.61,
           245.42,
           9.73,
           0,
           0,
           245.42,
           9.73,
           251.22,
           251.51,
           253.74,
           250.05,
           0,
           11,
           229.2,
           "iShares PHLX Semiconductor ETF"
          ]
         ],
         "hovertemplate": "<b>%{hovertext}</b><br><br>symbol=SOXX<br>date=%{x}<br>total_pct_gain=%{customdata[7]}<br>invested_amount=%{customdata[0]}<br>market_value=%{customdata[1]}<br>unrealized_gain=%{customdata[2]}<br>unrealized_pct_gain=%{customdata[3]}<br>realized_gain=%{customdata[4]}<br>realized_pct_gain=%{customdata[5]}<br>total_gain=%{customdata[6]}<br>open=%{customdata[8]}<br>close=%{customdata[9]}<br>high=%{customdata[10]}<br>low=%{customdata[11]}<br>volume=%{customdata[12]}<br>quantity=%{customdata[13]}<br>average_cost=%{customdata[14]}<br>company_name=%{customdata[15]}<extra></extra>",
         "hovertext": [
          "SOXX",
          "SOXX",
          "SOXX",
          "SOXX",
          "SOXX",
          "SOXX",
          "SOXX",
          "SOXX",
          "SOXX",
          "SOXX",
          "SOXX",
          "SOXX",
          "SOXX",
          "SOXX",
          "SOXX",
          "SOXX",
          "SOXX",
          "SOXX",
          "SOXX",
          "SOXX",
          "SOXX",
          "SOXX",
          "SOXX",
          "SOXX",
          "SOXX",
          "SOXX",
          "SOXX",
          "SOXX",
          "SOXX",
          "SOXX",
          "SOXX",
          "SOXX",
          "SOXX",
          "SOXX",
          "SOXX",
          "SOXX"
         ],
         "legendgroup": "SOXX",
         "line": {
          "color": "#636efa",
          "dash": "solid"
         },
         "mode": "lines",
         "name": "SOXX",
         "showlegend": true,
         "type": "scatter",
         "x": [
          "2020-04-13T00:00:00",
          "2020-04-14T00:00:00",
          "2020-04-15T00:00:00",
          "2020-04-16T00:00:00",
          "2020-04-17T00:00:00",
          "2020-04-20T00:00:00",
          "2020-04-21T00:00:00",
          "2020-04-22T00:00:00",
          "2020-04-23T00:00:00",
          "2020-04-24T00:00:00",
          "2020-04-27T00:00:00",
          "2020-04-28T00:00:00",
          "2020-04-29T00:00:00",
          "2020-04-30T00:00:00",
          "2020-05-01T00:00:00",
          "2020-05-04T00:00:00",
          "2020-05-05T00:00:00",
          "2020-05-06T00:00:00",
          "2020-05-07T00:00:00",
          "2020-05-08T00:00:00",
          "2020-05-11T00:00:00",
          "2020-05-12T00:00:00",
          "2020-05-13T00:00:00",
          "2020-05-14T00:00:00",
          "2020-05-15T00:00:00",
          "2020-05-18T00:00:00",
          "2020-05-19T00:00:00",
          "2020-05-20T00:00:00",
          "2020-05-21T00:00:00",
          "2020-05-22T00:00:00",
          "2020-05-26T00:00:00",
          "2020-05-27T00:00:00",
          "2020-05-28T00:00:00",
          "2020-05-29T00:00:00",
          "2020-06-01T00:00:00",
          "2020-06-02T15:02:47"
         ],
         "xaxis": "x",
         "y": [
          -3.24,
          1.23,
          -1.79,
          0.97,
          1.75,
          -1.38,
          -6.22,
          -0.54,
          -1.53,
          0.52,
          1.86,
          1.33,
          6.14,
          2.39,
          -2.6,
          -1.79,
          -0.14,
          1.09,
          2,
          5.01,
          4.91,
          2.12,
          0.31,
          2.99,
          0.86,
          5.49,
          5.15,
          9.02,
          6.28,
          6.75,
          7.87,
          9.53,
          7.14,
          9.89,
          9.29,
          9.73
         ],
         "yaxis": "y"
        },
        {
         "customdata": [
          [
           0,
           0,
           0,
           0,
           0,
           0,
           0,
           0,
           19.33,
           19.34,
           19.48,
           19.24,
           3000,
           0,
           0,
           "ARK Israel Innovative Technology ETF"
          ],
          [
           0,
           0,
           0,
           0,
           0,
           0,
           0,
           0,
           19.99,
           19.88,
           20.14,
           19.57,
           4411,
           0,
           0,
           "ARK Israel Innovative Technology ETF"
          ],
          [
           0,
           0,
           0,
           0,
           0,
           0,
           0,
           0,
           19.56,
           19.64,
           19.74,
           19.39,
           1389,
           0,
           0,
           "ARK Israel Innovative Technology ETF"
          ],
          [
           178.2,
           178.65,
           0.45,
           0.25,
           0,
           0,
           0.45,
           0.25,
           19.93,
           19.85,
           19.93,
           19.72,
           4681,
           9,
           19.8,
           "ARK Israel Innovative Technology ETF"
          ],
          [
           178.2,
           182.63,
           4.43,
           2.48,
           0,
           0,
           4.43,
           2.48,
           20.4,
           20.29,
           20.4,
           20.13,
           3237,
           9,
           19.8,
           "ARK Israel Innovative Technology ETF"
          ],
          [
           1596,
           1588.9,
           -7.11,
           -0.45,
           0,
           0,
           -7.11,
           -0.45,
           20.4,
           20.64,
           20.97,
           20.4,
           12300,
           77,
           20.73,
           "ARK Israel Innovative Technology ETF"
          ],
          [
           1596,
           1531.53,
           -64.47,
           -4.04,
           0,
           0,
           -64.47,
           -4.04,
           20.38,
           19.89,
           20.44,
           19.73,
           2492,
           77,
           20.73,
           "ARK Israel Innovative Technology ETF"
          ],
          [
           1596,
           1559.25,
           -36.75,
           -2.3,
           0,
           0,
           -36.75,
           -2.3,
           20.22,
           20.25,
           20.5,
           20.22,
           4000,
           77,
           20.73,
           "ARK Israel Innovative Technology ETF"
          ],
          [
           1596,
           1575.8,
           -20.2,
           -1.27,
           0,
           0,
           -20.2,
           -1.27,
           20.57,
           20.46,
           20.58,
           20.39,
           3200,
           77,
           20.73,
           "ARK Israel Innovative Technology ETF"
          ],
          [
           1596,
           1586.24,
           -9.76,
           -0.61,
           0,
           0,
           -9.76,
           -0.61,
           20.68,
           20.6,
           20.68,
           20.44,
           9219,
           77,
           20.73,
           "ARK Israel Innovative Technology ETF"
          ],
          [
           1596,
           1678.6,
           82.6,
           5.18,
           0,
           0,
           82.6,
           5.18,
           21.31,
           21.8,
           21.88,
           21.22,
           8584,
           77,
           20.73,
           "ARK Israel Innovative Technology ETF"
          ],
          [
           1596,
           1667.05,
           71.05,
           4.45,
           0,
           0,
           71.05,
           4.45,
           23.5,
           21.65,
           23.5,
           21.3,
           9566,
           77,
           20.73,
           "ARK Israel Innovative Technology ETF"
          ],
          [
           1596,
           1725.57,
           129.57,
           8.12,
           0,
           0,
           129.57,
           8.12,
           21.84,
           22.41,
           22.6,
           21.84,
           14042,
           77,
           20.73,
           "ARK Israel Innovative Technology ETF"
          ],
          [
           1596,
           1689.76,
           93.76,
           5.87,
           0,
           0,
           93.76,
           5.87,
           22.18,
           21.94,
           22.29,
           21.75,
           14862,
           77,
           20.73,
           "ARK Israel Innovative Technology ETF"
          ],
          [
           1596,
           1618.55,
           22.55,
           1.41,
           0,
           0,
           22.55,
           1.41,
           21.51,
           21.02,
           21.62,
           20.9,
           4269,
           77,
           20.73,
           "ARK Israel Innovative Technology ETF"
          ],
          [
           1596,
           1630.42,
           34.42,
           2.16,
           0,
           0,
           34.42,
           2.16,
           20.83,
           21.17,
           21.17,
           20.76,
           6541,
           77,
           20.73,
           "ARK Israel Innovative Technology ETF"
          ],
          [
           1596,
           1654.58,
           58.58,
           3.67,
           0,
           0,
           58.58,
           3.67,
           21.3,
           21.49,
           21.88,
           21.3,
           5725,
           77,
           20.73,
           "ARK Israel Innovative Technology ETF"
          ],
          [
           1596,
           1666.66,
           70.66,
           4.43,
           0,
           0,
           70.66,
           4.43,
           21.64,
           21.64,
           21.75,
           21.43,
           5349,
           77,
           20.73,
           "ARK Israel Innovative Technology ETF"
          ],
          [
           1596,
           1691.69,
           95.69,
           6,
           0,
           0,
           95.69,
           6,
           22.06,
           21.97,
           22.18,
           21.94,
           4094,
           77,
           20.73,
           "ARK Israel Innovative Technology ETF"
          ],
          [
           1596,
           1729.06,
           133.06,
           8.34,
           0,
           0,
           133.06,
           8.34,
           22.18,
           22.46,
           22.5,
           22.07,
           2225,
           77,
           20.73,
           "ARK Israel Innovative Technology ETF"
          ],
          [
           1596,
           1757.07,
           161.07,
           10.09,
           0,
           0,
           161.07,
           10.09,
           22.39,
           22.82,
           22.84,
           22.39,
           10364,
           77,
           20.73,
           "ARK Israel Innovative Technology ETF"
          ],
          [
           1596,
           1726.34,
           130.34,
           8.17,
           0,
           0,
           130.34,
           8.17,
           22.92,
           22.42,
           22.95,
           22.42,
           40783,
           77,
           20.73,
           "ARK Israel Innovative Technology ETF"
          ],
          [
           1897.88,
           1974.02,
           76.14,
           4.01,
           0,
           0,
           76.14,
           4.01,
           22.58,
           21.69,
           22.58,
           21.44,
           17590,
           91,
           20.86,
           "ARK Israel Innovative Technology ETF"
          ],
          [
           1897.88,
           1960.61,
           62.73,
           3.31,
           0,
           0,
           62.73,
           3.31,
           21.45,
           21.55,
           21.55,
           21.06,
           14859,
           91,
           20.86,
           "ARK Israel Innovative Technology ETF"
          ],
          [
           1897.88,
           1985.62,
           87.74,
           4.62,
           0,
           0,
           87.74,
           4.62,
           21.55,
           21.82,
           21.82,
           21.5,
           2657,
           91,
           20.86,
           "ARK Israel Innovative Technology ETF"
          ],
          [
           1897.88,
           2068.43,
           170.55,
           8.99,
           0,
           0,
           170.55,
           8.99,
           22.56,
           22.73,
           22.78,
           22.4,
           10857,
           91,
           20.86,
           "ARK Israel Innovative Technology ETF"
          ],
          [
           1897.88,
           2091.27,
           193.39,
           10.19,
           0,
           0,
           193.39,
           10.19,
           22.73,
           22.98,
           23.1,
           22.66,
           4173,
           91,
           20.86,
           "ARK Israel Innovative Technology ETF"
          ],
          [
           1897.88,
           2131.22,
           233.34,
           12.29,
           0,
           0,
           233.34,
           12.29,
           23.66,
           23.42,
           23.66,
           23.25,
           6371,
           91,
           20.86,
           "ARK Israel Innovative Technology ETF"
          ],
          [
           1897.88,
           2123.48,
           225.61,
           11.89,
           0,
           0,
           225.61,
           11.89,
           23.48,
           23.34,
           23.51,
           22.94,
           29200,
           91,
           20.86,
           "ARK Israel Innovative Technology ETF"
          ],
          [
           1897.88,
           2129.74,
           231.86,
           12.22,
           0,
           0,
           231.86,
           12.22,
           23.28,
           23.4,
           23.49,
           23.16,
           5080,
           91,
           20.86,
           "ARK Israel Innovative Technology ETF"
          ],
          [
           2422.47,
           2686.73,
           264.26,
           10.91,
           0,
           0,
           264.26,
           10.91,
           24.66,
           23.78,
           24.66,
           23.7,
           12097,
           113,
           21.44,
           "ARK Israel Innovative Technology ETF"
          ],
          [
           2422.47,
           2669.06,
           246.59,
           10.18,
           0,
           0,
           246.59,
           10.18,
           24.06,
           23.62,
           24.06,
           23.16,
           7294,
           113,
           21.44,
           "ARK Israel Innovative Technology ETF"
          ],
          [
           2422.47,
           2650.61,
           228.14,
           9.42,
           0,
           0,
           228.14,
           9.42,
           23.84,
           23.46,
           23.95,
           23.36,
           8808,
           113,
           21.44,
           "ARK Israel Innovative Technology ETF"
          ],
          [
           2422.47,
           2685.33,
           262.86,
           10.85,
           0,
           0,
           262.86,
           10.85,
           23.37,
           23.76,
           23.76,
           23.37,
           2700,
           113,
           21.44,
           "ARK Israel Innovative Technology ETF"
          ],
          [
           2422.47,
           2728.95,
           306.48,
           12.65,
           0,
           0,
           306.48,
           12.65,
           23.74,
           24.15,
           24.15,
           23.74,
           5134,
           113,
           21.44,
           "ARK Israel Innovative Technology ETF"
          ],
          [
           2422.47,
           2727.82,
           305.35,
           12.6,
           0,
           0,
           305.35,
           12.6,
           24.22,
           24.14,
           24.47,
           24.14,
           0,
           113,
           21.44,
           "ARK Israel Innovative Technology ETF"
          ]
         ],
         "hovertemplate": "<b>%{hovertext}</b><br><br>symbol=IZRL<br>date=%{x}<br>total_pct_gain=%{customdata[7]}<br>invested_amount=%{customdata[0]}<br>market_value=%{customdata[1]}<br>unrealized_gain=%{customdata[2]}<br>unrealized_pct_gain=%{customdata[3]}<br>realized_gain=%{customdata[4]}<br>realized_pct_gain=%{customdata[5]}<br>total_gain=%{customdata[6]}<br>open=%{customdata[8]}<br>close=%{customdata[9]}<br>high=%{customdata[10]}<br>low=%{customdata[11]}<br>volume=%{customdata[12]}<br>quantity=%{customdata[13]}<br>average_cost=%{customdata[14]}<br>company_name=%{customdata[15]}<extra></extra>",
         "hovertext": [
          "IZRL",
          "IZRL",
          "IZRL",
          "IZRL",
          "IZRL",
          "IZRL",
          "IZRL",
          "IZRL",
          "IZRL",
          "IZRL",
          "IZRL",
          "IZRL",
          "IZRL",
          "IZRL",
          "IZRL",
          "IZRL",
          "IZRL",
          "IZRL",
          "IZRL",
          "IZRL",
          "IZRL",
          "IZRL",
          "IZRL",
          "IZRL",
          "IZRL",
          "IZRL",
          "IZRL",
          "IZRL",
          "IZRL",
          "IZRL",
          "IZRL",
          "IZRL",
          "IZRL",
          "IZRL",
          "IZRL",
          "IZRL"
         ],
         "legendgroup": "IZRL",
         "line": {
          "color": "#EF553B",
          "dash": "solid"
         },
         "mode": "lines",
         "name": "IZRL",
         "showlegend": true,
         "type": "scatter",
         "x": [
          "2020-04-13T00:00:00",
          "2020-04-14T00:00:00",
          "2020-04-15T00:00:00",
          "2020-04-16T00:00:00",
          "2020-04-17T00:00:00",
          "2020-04-20T00:00:00",
          "2020-04-21T00:00:00",
          "2020-04-22T00:00:00",
          "2020-04-23T00:00:00",
          "2020-04-24T00:00:00",
          "2020-04-27T00:00:00",
          "2020-04-28T00:00:00",
          "2020-04-29T00:00:00",
          "2020-04-30T00:00:00",
          "2020-05-01T00:00:00",
          "2020-05-04T00:00:00",
          "2020-05-05T00:00:00",
          "2020-05-06T00:00:00",
          "2020-05-07T00:00:00",
          "2020-05-08T00:00:00",
          "2020-05-11T00:00:00",
          "2020-05-12T00:00:00",
          "2020-05-13T00:00:00",
          "2020-05-14T00:00:00",
          "2020-05-15T00:00:00",
          "2020-05-18T00:00:00",
          "2020-05-19T00:00:00",
          "2020-05-20T00:00:00",
          "2020-05-21T00:00:00",
          "2020-05-22T00:00:00",
          "2020-05-26T00:00:00",
          "2020-05-27T00:00:00",
          "2020-05-28T00:00:00",
          "2020-05-29T00:00:00",
          "2020-06-01T00:00:00",
          "2020-06-02T15:02:47"
         ],
         "xaxis": "x",
         "y": [
          0,
          0,
          0,
          0.25,
          2.48,
          -0.45,
          -4.04,
          -2.3,
          -1.27,
          -0.61,
          5.18,
          4.45,
          8.12,
          5.87,
          1.41,
          2.16,
          3.67,
          4.43,
          6,
          8.34,
          10.09,
          8.17,
          4.01,
          3.31,
          4.62,
          8.99,
          10.19,
          12.29,
          11.89,
          12.22,
          10.91,
          10.18,
          9.42,
          10.85,
          12.65,
          12.6
         ],
         "yaxis": "y"
        },
        {
         "customdata": [
          [
           322.2,
           301.77,
           -20.43,
           -6.34,
           0,
           0,
           -20.43,
           -6.34,
           33.61,
           33.53,
           33.61,
           32.38,
           205615,
           9,
           35.8,
           "ARK Genomic Revolution Multi-Sector ETF"
          ],
          [
           322.2,
           319.68,
           -2.52,
           -0.78,
           0,
           0,
           -2.52,
           -0.78,
           34.76,
           35.52,
           35.61,
           34.23,
           300480,
           9,
           35.8,
           "ARK Genomic Revolution Multi-Sector ETF"
          ],
          [
           322.2,
           315.45,
           -6.75,
           -2.09,
           0,
           0,
           -6.75,
           -2.09,
           34.93,
           35.05,
           35.55,
           34,
           324111,
           9,
           35.8,
           "ARK Genomic Revolution Multi-Sector ETF"
          ],
          [
           322.2,
           325.89,
           3.69,
           1.15,
           0,
           0,
           3.69,
           1.15,
           35.87,
           36.21,
           36.29,
           35.35,
           295036,
           9,
           35.8,
           "ARK Genomic Revolution Multi-Sector ETF"
          ],
          [
           322.2,
           336.69,
           14.49,
           4.5,
           0,
           0,
           14.49,
           4.5,
           37.62,
           37.41,
           37.62,
           36.62,
           276777,
           9,
           35.8,
           "ARK Genomic Revolution Multi-Sector ETF"
          ],
          [
           6309.85,
           6323.84,
           13.99,
           0.22,
           0,
           0,
           13.99,
           0.22,
           37.26,
           38.56,
           39.32,
           37.08,
           560749,
           164,
           38.47,
           "ARK Genomic Revolution Multi-Sector ETF"
          ],
          [
           6309.85,
           6191,
           -118.85,
           -1.88,
           0,
           0,
           -118.85,
           -1.88,
           38.28,
           37.75,
           38.49,
           36.91,
           338638,
           164,
           38.47,
           "ARK Genomic Revolution Multi-Sector ETF"
          ],
          [
           6309.85,
           6382.88,
           73.03,
           1.16,
           0,
           0,
           73.03,
           1.16,
           38.94,
           38.92,
           39.4,
           38.42,
           420517,
           164,
           38.47,
           "ARK Genomic Revolution Multi-Sector ETF"
          ],
          [
           6309.85,
           6359.1,
           49.25,
           0.78,
           0,
           0,
           49.25,
           0.78,
           39.57,
           38.78,
           40,
           38.75,
           357413,
           164,
           38.47,
           "ARK Genomic Revolution Multi-Sector ETF"
          ],
          [
           6309.85,
           6569.84,
           259.99,
           4.12,
           0,
           0,
           259.99,
           4.12,
           39.62,
           40.06,
           40.27,
           39.01,
           451171,
           164,
           38.47,
           "ARK Genomic Revolution Multi-Sector ETF"
          ],
          [
           6309.85,
           6874.06,
           564.21,
           8.94,
           0,
           0,
           564.21,
           8.94,
           41.01,
           41.92,
           42.61,
           40.78,
           828551,
           164,
           38.47,
           "ARK Genomic Revolution Multi-Sector ETF"
          ],
          [
           6309.85,
           6656.76,
           346.91,
           5.5,
           0,
           0,
           346.91,
           5.5,
           42.99,
           40.59,
           43.03,
           40.07,
           810762,
           164,
           38.47,
           "ARK Genomic Revolution Multi-Sector ETF"
          ],
          [
           6309.85,
           6856.84,
           546.99,
           8.67,
           0,
           0,
           546.99,
           8.67,
           41.91,
           41.81,
           42.04,
           40.36,
           304576,
           164,
           38.47,
           "ARK Genomic Revolution Multi-Sector ETF"
          ],
          [
           6309.85,
           6673.16,
           363.31,
           5.76,
           0,
           0,
           363.31,
           5.76,
           41.83,
           40.69,
           42,
           40.65,
           265665,
           164,
           38.47,
           "ARK Genomic Revolution Multi-Sector ETF"
          ],
          [
           6309.85,
           6535.4,
           225.55,
           3.57,
           0,
           0,
           225.55,
           3.57,
           39.51,
           39.85,
           40,
           38.85,
           421562,
           164,
           38.47,
           "ARK Genomic Revolution Multi-Sector ETF"
          ],
          [
           6309.85,
           6753.52,
           443.67,
           7.03,
           0,
           0,
           443.67,
           7.03,
           39.75,
           41.18,
           41.22,
           39.59,
           227994,
           164,
           38.47,
           "ARK Genomic Revolution Multi-Sector ETF"
          ],
          [
           6309.85,
           6817.48,
           507.63,
           8.05,
           0,
           0,
           507.63,
           8.05,
           42.02,
           41.57,
           42.3,
           41.24,
           386711,
           164,
           38.47,
           "ARK Genomic Revolution Multi-Sector ETF"
          ],
          [
           6309.85,
           6855.2,
           545.35,
           8.64,
           0,
           0,
           545.35,
           8.64,
           41.88,
           41.8,
           42.53,
           41.31,
           431601,
           164,
           38.47,
           "ARK Genomic Revolution Multi-Sector ETF"
          ],
          [
           6309.85,
           6889.64,
           579.79,
           9.19,
           0,
           0,
           579.79,
           9.19,
           42.62,
           42.01,
           42.62,
           41.51,
           280508,
           164,
           38.47,
           "ARK Genomic Revolution Multi-Sector ETF"
          ],
          [
           6309.85,
           7089.72,
           779.87,
           12.36,
           0,
           0,
           779.87,
           12.36,
           42.89,
           43.23,
           43.5,
           42.29,
           390505,
           164,
           38.47,
           "ARK Genomic Revolution Multi-Sector ETF"
          ],
          [
           6309.85,
           7555.48,
           1245.63,
           19.74,
           0,
           0,
           1245.63,
           19.74,
           43.02,
           46.07,
           46.48,
           42.8,
           797836,
           164,
           38.47,
           "ARK Genomic Revolution Multi-Sector ETF"
          ],
          [
           6309.85,
           7402.96,
           1093.11,
           17.32,
           0,
           0,
           1093.11,
           17.32,
           46.87,
           45.14,
           47.17,
           44.8,
           809617,
           164,
           38.47,
           "ARK Genomic Revolution Multi-Sector ETF"
          ],
          [
           7385.35,
           8153.46,
           768.11,
           10.4,
           0,
           0,
           768.11,
           10.4,
           45.48,
           43.14,
           45.89,
           41.5,
           1194704,
           189,
           39.08,
           "ARK Genomic Revolution Multi-Sector ETF"
          ],
          [
           7385.35,
           8040.06,
           654.71,
           8.86,
           0,
           0,
           654.71,
           8.86,
           42.88,
           42.54,
           43.34,
           41.65,
           376814,
           189,
           39.08,
           "ARK Genomic Revolution Multi-Sector ETF"
          ],
          [
           7385.35,
           8484.21,
           1098.86,
           14.88,
           0,
           0,
           1098.86,
           14.88,
           42.47,
           44.89,
           45.03,
           42.22,
           449218,
           189,
           39.08,
           "ARK Genomic Revolution Multi-Sector ETF"
          ],
          [
           7385.35,
           8892.45,
           1507.1,
           20.41,
           0,
           0,
           1507.1,
           20.41,
           47.49,
           47.05,
           47.49,
           46.12,
           888559,
           189,
           39.08,
           "ARK Genomic Revolution Multi-Sector ETF"
          ],
          [
           7385.35,
           8809.29,
           1423.94,
           19.28,
           0,
           0,
           1423.94,
           19.28,
           47.29,
           46.61,
           48.12,
           46.51,
           697005,
           189,
           39.08,
           "ARK Genomic Revolution Multi-Sector ETF"
          ],
          [
           7385.35,
           9096.57,
           1711.22,
           23.17,
           0,
           0,
           1711.22,
           23.17,
           47.72,
           48.13,
           48.27,
           47.25,
           881430,
           189,
           39.08,
           "ARK Genomic Revolution Multi-Sector ETF"
          ],
          [
           7385.35,
           9106.02,
           1720.67,
           23.3,
           0,
           0,
           1720.67,
           23.3,
           48.17,
           48.18,
           48.56,
           47.01,
           710285,
           189,
           39.08,
           "ARK Genomic Revolution Multi-Sector ETF"
          ],
          [
           7385.35,
           9366.84,
           1981.49,
           26.83,
           0,
           0,
           1981.49,
           26.83,
           48.39,
           49.56,
           49.6,
           47.85,
           595468,
           189,
           39.08,
           "ARK Genomic Revolution Multi-Sector ETF"
          ],
          [
           9892.28,
           11570.41,
           1678.13,
           16.96,
           0,
           0,
           1678.13,
           16.96,
           51.16,
           48.01,
           51.16,
           47.9,
           940656,
           241,
           41.05,
           "ARK Genomic Revolution Multi-Sector ETF"
          ],
          [
           9892.28,
           11122.15,
           1229.87,
           12.43,
           0,
           0,
           1229.87,
           12.43,
           48.27,
           46.15,
           48.27,
           44.1,
           910483,
           241,
           41.05,
           "ARK Genomic Revolution Multi-Sector ETF"
          ],
          [
           9892.28,
           10914.89,
           1022.61,
           10.34,
           0,
           0,
           1022.61,
           10.34,
           46.06,
           45.29,
           46.76,
           45.07,
           515625,
           241,
           41.05,
           "ARK Genomic Revolution Multi-Sector ETF"
          ],
          [
           9892.28,
           11167.94,
           1275.66,
           12.9,
           0,
           0,
           1275.66,
           12.9,
           45.26,
           46.34,
           46.38,
           44.7,
           478454,
           241,
           41.05,
           "ARK Genomic Revolution Multi-Sector ETF"
          ],
          [
           9892.28,
           11425.81,
           1533.53,
           15.5,
           0,
           0,
           1533.53,
           15.5,
           46.77,
           47.41,
           47.74,
           46.12,
           552715,
           241,
           41.05,
           "ARK Genomic Revolution Multi-Sector ETF"
          ],
          [
           9892.28,
           11346.28,
           1454,
           14.7,
           0,
           0,
           1454,
           14.7,
           47.5,
           47.08,
           47.7,
           46.8,
           0,
           241,
           41.05,
           "ARK Genomic Revolution Multi-Sector ETF"
          ]
         ],
         "hovertemplate": "<b>%{hovertext}</b><br><br>symbol=ARKG<br>date=%{x}<br>total_pct_gain=%{customdata[7]}<br>invested_amount=%{customdata[0]}<br>market_value=%{customdata[1]}<br>unrealized_gain=%{customdata[2]}<br>unrealized_pct_gain=%{customdata[3]}<br>realized_gain=%{customdata[4]}<br>realized_pct_gain=%{customdata[5]}<br>total_gain=%{customdata[6]}<br>open=%{customdata[8]}<br>close=%{customdata[9]}<br>high=%{customdata[10]}<br>low=%{customdata[11]}<br>volume=%{customdata[12]}<br>quantity=%{customdata[13]}<br>average_cost=%{customdata[14]}<br>company_name=%{customdata[15]}<extra></extra>",
         "hovertext": [
          "ARKG",
          "ARKG",
          "ARKG",
          "ARKG",
          "ARKG",
          "ARKG",
          "ARKG",
          "ARKG",
          "ARKG",
          "ARKG",
          "ARKG",
          "ARKG",
          "ARKG",
          "ARKG",
          "ARKG",
          "ARKG",
          "ARKG",
          "ARKG",
          "ARKG",
          "ARKG",
          "ARKG",
          "ARKG",
          "ARKG",
          "ARKG",
          "ARKG",
          "ARKG",
          "ARKG",
          "ARKG",
          "ARKG",
          "ARKG",
          "ARKG",
          "ARKG",
          "ARKG",
          "ARKG",
          "ARKG",
          "ARKG"
         ],
         "legendgroup": "ARKG",
         "line": {
          "color": "#00cc96",
          "dash": "solid"
         },
         "mode": "lines",
         "name": "ARKG",
         "showlegend": true,
         "type": "scatter",
         "x": [
          "2020-04-13T00:00:00",
          "2020-04-14T00:00:00",
          "2020-04-15T00:00:00",
          "2020-04-16T00:00:00",
          "2020-04-17T00:00:00",
          "2020-04-20T00:00:00",
          "2020-04-21T00:00:00",
          "2020-04-22T00:00:00",
          "2020-04-23T00:00:00",
          "2020-04-24T00:00:00",
          "2020-04-27T00:00:00",
          "2020-04-28T00:00:00",
          "2020-04-29T00:00:00",
          "2020-04-30T00:00:00",
          "2020-05-01T00:00:00",
          "2020-05-04T00:00:00",
          "2020-05-05T00:00:00",
          "2020-05-06T00:00:00",
          "2020-05-07T00:00:00",
          "2020-05-08T00:00:00",
          "2020-05-11T00:00:00",
          "2020-05-12T00:00:00",
          "2020-05-13T00:00:00",
          "2020-05-14T00:00:00",
          "2020-05-15T00:00:00",
          "2020-05-18T00:00:00",
          "2020-05-19T00:00:00",
          "2020-05-20T00:00:00",
          "2020-05-21T00:00:00",
          "2020-05-22T00:00:00",
          "2020-05-26T00:00:00",
          "2020-05-27T00:00:00",
          "2020-05-28T00:00:00",
          "2020-05-29T00:00:00",
          "2020-06-01T00:00:00",
          "2020-06-02T15:02:47"
         ],
         "xaxis": "x",
         "y": [
          -6.34,
          -0.78,
          -2.09,
          1.15,
          4.5,
          0.22,
          -1.88,
          1.16,
          0.78,
          4.12,
          8.94,
          5.5,
          8.67,
          5.76,
          3.57,
          7.03,
          8.05,
          8.64,
          9.19,
          12.36,
          19.74,
          17.32,
          10.4,
          8.86,
          14.88,
          20.41,
          19.28,
          23.17,
          23.3,
          26.83,
          16.96,
          12.43,
          10.34,
          12.9,
          15.5,
          14.7
         ],
         "yaxis": "y"
        },
        {
         "customdata": [
          [
           0,
           0,
           0,
           0,
           0,
           0,
           0,
           0,
           56.61,
           57.42,
           57.49,
           55.41,
           201672,
           0,
           0,
           "ARK Web x.0 ETF"
          ],
          [
           0,
           0,
           0,
           0,
           0,
           0,
           0,
           0,
           59.25,
           60.31,
           60.88,
           59.11,
           371815,
           0,
           0,
           "ARK Web x.0 ETF"
          ],
          [
           0,
           0,
           0,
           0,
           0,
           0,
           0,
           0,
           59.66,
           59.93,
           60.23,
           58.75,
           279990,
           0,
           0,
           "ARK Web x.0 ETF"
          ],
          [
           478.96,
           487.6,
           8.64,
           1.8,
           0,
           0,
           8.64,
           1.8,
           60.35,
           60.95,
           61.7,
           59.8,
           299615,
           8,
           59.87,
           "ARK Web x.0 ETF"
          ],
          [
           478.96,
           495.36,
           16.4,
           3.42,
           0,
           0,
           16.4,
           3.42,
           62.25,
           61.92,
           62.25,
           61.2,
           338536,
           8,
           59.87,
           "ARK Web x.0 ETF"
          ],
          [
           6007.12,
           5960.64,
           -46.48,
           -0.77,
           0,
           0,
           -46.48,
           -0.77,
           61.39,
           62.09,
           63.25,
           61,
           309430,
           96,
           62.57,
           "ARK Web x.0 ETF"
          ],
          [
           6007.12,
           5696.64,
           -310.48,
           -5.17,
           0,
           0,
           -310.48,
           -5.17,
           61,
           59.34,
           61.32,
           58.37,
           294719,
           96,
           62.57,
           "ARK Web x.0 ETF"
          ],
          [
           6007.12,
           5962.56,
           -44.56,
           -0.74,
           0,
           0,
           -44.56,
           -0.74,
           61.13,
           62.11,
           62.32,
           60.65,
           236535,
           96,
           62.57,
           "ARK Web x.0 ETF"
          ],
          [
           6007.12,
           5922.24,
           -84.88,
           -1.41,
           0,
           0,
           -84.88,
           -1.41,
           62.19,
           61.69,
           63,
           61.63,
           188509,
           96,
           62.57,
           "ARK Web x.0 ETF"
          ],
          [
           6007.12,
           6041.28,
           34.16,
           0.57,
           0,
           0,
           34.16,
           0.57,
           61.93,
           62.93,
           63.06,
           61.37,
           178778,
           96,
           62.57,
           "ARK Web x.0 ETF"
          ],
          [
           6007.12,
           6236.16,
           229.04,
           3.81,
           0,
           0,
           229.04,
           3.81,
           63.96,
           64.96,
           65.15,
           63.74,
           263529,
           96,
           62.57,
           "ARK Web x.0 ETF"
          ],
          [
           6007.12,
           6048.96,
           41.84,
           0.7,
           0,
           0,
           41.84,
           0.7,
           65.79,
           63.01,
           65.8,
           62.59,
           298651,
           96,
           62.57,
           "ARK Web x.0 ETF"
          ],
          [
           6007.12,
           6364.8,
           357.68,
           5.95,
           0,
           0,
           357.68,
           5.95,
           64.5,
           66.3,
           66.54,
           64.09,
           282460,
           96,
           62.57,
           "ARK Web x.0 ETF"
          ],
          [
           6007.12,
           6306.24,
           299.12,
           4.98,
           0,
           0,
           299.12,
           4.98,
           66.76,
           65.69,
           67.36,
           65.29,
           231491,
           96,
           62.57,
           "ARK Web x.0 ETF"
          ],
          [
           6007.12,
           6037.44,
           30.32,
           0.5,
           0,
           0,
           30.32,
           0.5,
           63.72,
           62.89,
           64.56,
           62.33,
           329523,
           96,
           62.57,
           "ARK Web x.0 ETF"
          ],
          [
           6007.12,
           6233.28,
           226.16,
           3.76,
           0,
           0,
           226.16,
           3.76,
           62.11,
           64.93,
           64.94,
           62.11,
           233019,
           96,
           62.57,
           "ARK Web x.0 ETF"
          ],
          [
           6007.12,
           6330.24,
           323.12,
           5.38,
           0,
           0,
           323.12,
           5.38,
           65.97,
           65.94,
           66.94,
           65.58,
           248782,
           96,
           62.57,
           "ARK Web x.0 ETF"
          ],
          [
           6007.12,
           6411.84,
           404.72,
           6.74,
           0,
           0,
           404.72,
           6.74,
           66.27,
           66.79,
           67.43,
           65.91,
           351134,
           96,
           62.57,
           "ARK Web x.0 ETF"
          ],
          [
           6007.12,
           6720,
           712.88,
           11.87,
           0,
           0,
           712.88,
           11.87,
           68.08,
           70,
           70.32,
           68.04,
           333082,
           96,
           62.57,
           "ARK Web x.0 ETF"
          ],
          [
           6007.12,
           6867.84,
           860.72,
           14.33,
           0,
           0,
           860.72,
           14.33,
           70.5,
           71.54,
           71.92,
           69.6,
           430440,
           96,
           62.57,
           "ARK Web x.0 ETF"
          ],
          [
           6007.12,
           6887.04,
           879.92,
           14.65,
           0,
           0,
           879.92,
           14.65,
           70.85,
           71.74,
           72.2,
           70.43,
           362134,
           96,
           62.57,
           "ARK Web x.0 ETF"
          ],
          [
           6007.12,
           6760.32,
           753.2,
           12.54,
           0,
           0,
           753.2,
           12.54,
           72.23,
           70.42,
           72.62,
           70.41,
           310316,
           96,
           62.57,
           "ARK Web x.0 ETF"
          ],
          [
           7097.84,
           7730.24,
           632.4,
           8.91,
           0,
           0,
           632.4,
           8.91,
           70.7,
           69.02,
           71.16,
           67.45,
           440229,
           112,
           63.37,
           "ARK Web x.0 ETF"
          ],
          [
           7097.84,
           7845.6,
           747.76,
           10.54,
           0,
           0,
           747.76,
           10.54,
           68.24,
           70.05,
           70.14,
           67.27,
           274407,
           112,
           63.37,
           "ARK Web x.0 ETF"
          ],
          [
           7097.84,
           7953.12,
           855.28,
           12.05,
           0,
           0,
           855.28,
           12.05,
           69.33,
           71.01,
           71.24,
           69.16,
           250346,
           112,
           63.37,
           "ARK Web x.0 ETF"
          ],
          [
           7097.84,
           8044.96,
           947.12,
           13.34,
           0,
           0,
           947.12,
           13.34,
           72.94,
           71.83,
           73.29,
           71.64,
           393500,
           112,
           63.37,
           "ARK Web x.0 ETF"
          ],
          [
           7097.84,
           8118.88,
           1021.04,
           14.39,
           0,
           0,
           1021.04,
           14.39,
           72.02,
           72.49,
           73.64,
           72.02,
           376330,
           112,
           63.37,
           "ARK Web x.0 ETF"
          ],
          [
           7097.84,
           8302.56,
           1204.72,
           16.97,
           0,
           0,
           1204.72,
           16.97,
           73.74,
           74.13,
           74.4,
           73.3,
           416248,
           112,
           63.37,
           "ARK Web x.0 ETF"
          ],
          [
           7097.84,
           8249.92,
           1152.08,
           16.23,
           0,
           0,
           1152.08,
           16.23,
           73.94,
           73.66,
           74.16,
           72.38,
           399657,
           112,
           63.37,
           "ARK Web x.0 ETF"
          ],
          [
           7097.84,
           8301.44,
           1203.6,
           16.96,
           0,
           0,
           1203.6,
           16.96,
           73.63,
           74.12,
           74.25,
           72.96,
           271105,
           112,
           63.37,
           "ARK Web x.0 ETF"
          ],
          [
           7097.84,
           8289.12,
           1191.28,
           16.78,
           0,
           0,
           1191.28,
           16.78,
           75.86,
           74.01,
           75.86,
           73.83,
           420499,
           112,
           63.37,
           "ARK Web x.0 ETF"
          ],
          [
           7097.84,
           8239.84,
           1142,
           16.09,
           0,
           0,
           1142,
           16.09,
           74,
           73.57,
           74,
           70.45,
           525018,
           112,
           63.37,
           "ARK Web x.0 ETF"
          ],
          [
           7097.84,
           8220.8,
           1122.96,
           15.82,
           0,
           0,
           1122.96,
           15.82,
           73.36,
           73.4,
           74.83,
           72.88,
           279480,
           112,
           63.37,
           "ARK Web x.0 ETF"
          ],
          [
           7097.84,
           8410.08,
           1312.24,
           18.49,
           0,
           0,
           1312.24,
           18.49,
           73.54,
           75.09,
           75.26,
           73.43,
           282216,
           112,
           63.37,
           "ARK Web x.0 ETF"
          ],
          [
           7097.84,
           8613.92,
           1516.08,
           21.36,
           0,
           0,
           1516.08,
           21.36,
           75.22,
           76.91,
           77.04,
           75.22,
           472029,
           112,
           63.37,
           "ARK Web x.0 ETF"
          ],
          [
           7097.84,
           8594.32,
           1496.48,
           21.08,
           0,
           0,
           1496.48,
           21.08,
           77.34,
           76.74,
           77.85,
           76.53,
           0,
           112,
           63.37,
           "ARK Web x.0 ETF"
          ]
         ],
         "hovertemplate": "<b>%{hovertext}</b><br><br>symbol=ARKW<br>date=%{x}<br>total_pct_gain=%{customdata[7]}<br>invested_amount=%{customdata[0]}<br>market_value=%{customdata[1]}<br>unrealized_gain=%{customdata[2]}<br>unrealized_pct_gain=%{customdata[3]}<br>realized_gain=%{customdata[4]}<br>realized_pct_gain=%{customdata[5]}<br>total_gain=%{customdata[6]}<br>open=%{customdata[8]}<br>close=%{customdata[9]}<br>high=%{customdata[10]}<br>low=%{customdata[11]}<br>volume=%{customdata[12]}<br>quantity=%{customdata[13]}<br>average_cost=%{customdata[14]}<br>company_name=%{customdata[15]}<extra></extra>",
         "hovertext": [
          "ARKW",
          "ARKW",
          "ARKW",
          "ARKW",
          "ARKW",
          "ARKW",
          "ARKW",
          "ARKW",
          "ARKW",
          "ARKW",
          "ARKW",
          "ARKW",
          "ARKW",
          "ARKW",
          "ARKW",
          "ARKW",
          "ARKW",
          "ARKW",
          "ARKW",
          "ARKW",
          "ARKW",
          "ARKW",
          "ARKW",
          "ARKW",
          "ARKW",
          "ARKW",
          "ARKW",
          "ARKW",
          "ARKW",
          "ARKW",
          "ARKW",
          "ARKW",
          "ARKW",
          "ARKW",
          "ARKW",
          "ARKW"
         ],
         "legendgroup": "ARKW",
         "line": {
          "color": "#ab63fa",
          "dash": "solid"
         },
         "mode": "lines",
         "name": "ARKW",
         "showlegend": true,
         "type": "scatter",
         "x": [
          "2020-04-13T00:00:00",
          "2020-04-14T00:00:00",
          "2020-04-15T00:00:00",
          "2020-04-16T00:00:00",
          "2020-04-17T00:00:00",
          "2020-04-20T00:00:00",
          "2020-04-21T00:00:00",
          "2020-04-22T00:00:00",
          "2020-04-23T00:00:00",
          "2020-04-24T00:00:00",
          "2020-04-27T00:00:00",
          "2020-04-28T00:00:00",
          "2020-04-29T00:00:00",
          "2020-04-30T00:00:00",
          "2020-05-01T00:00:00",
          "2020-05-04T00:00:00",
          "2020-05-05T00:00:00",
          "2020-05-06T00:00:00",
          "2020-05-07T00:00:00",
          "2020-05-08T00:00:00",
          "2020-05-11T00:00:00",
          "2020-05-12T00:00:00",
          "2020-05-13T00:00:00",
          "2020-05-14T00:00:00",
          "2020-05-15T00:00:00",
          "2020-05-18T00:00:00",
          "2020-05-19T00:00:00",
          "2020-05-20T00:00:00",
          "2020-05-21T00:00:00",
          "2020-05-22T00:00:00",
          "2020-05-26T00:00:00",
          "2020-05-27T00:00:00",
          "2020-05-28T00:00:00",
          "2020-05-29T00:00:00",
          "2020-06-01T00:00:00",
          "2020-06-02T15:02:47"
         ],
         "xaxis": "x",
         "y": [
          0,
          0,
          0,
          1.8,
          3.42,
          -0.77,
          -5.17,
          -0.74,
          -1.41,
          0.57,
          3.81,
          0.7,
          5.95,
          4.98,
          0.5,
          3.76,
          5.38,
          6.74,
          11.87,
          14.33,
          14.65,
          12.54,
          8.91,
          10.54,
          12.05,
          13.34,
          14.39,
          16.97,
          16.23,
          16.96,
          16.78,
          16.09,
          15.82,
          18.49,
          21.36,
          21.08
         ],
         "yaxis": "y"
        },
        {
         "customdata": [
          [
           0,
           0,
           0,
           0,
           0,
           0,
           0,
           0,
           89.61,
           90.87,
           91.08,
           89.25,
           48406,
           0,
           0,
           "SPDR S&P Semiconductor ETF"
          ],
          [
           0,
           0,
           0,
           0,
           0,
           0,
           0,
           0,
           93.02,
           94.55,
           94.67,
           92.85,
           148547,
           0,
           0,
           "SPDR S&P Semiconductor ETF"
          ],
          [
           0,
           0,
           0,
           0,
           0,
           0,
           0,
           0,
           92.25,
           91.78,
           92.51,
           90.9,
           67937,
           0,
           0,
           "SPDR S&P Semiconductor ETF"
          ],
          [
           461.3,
           465.25,
           3.95,
           0.86,
           0,
           0,
           3.95,
           0.86,
           93.04,
           93.05,
           93.21,
           91.32,
           121884,
           5,
           92.26,
           "SPDR S&P Semiconductor ETF"
          ],
          [
           461.3,
           470,
           8.7,
           1.89,
           0,
           0,
           8.7,
           1.89,
           94.97,
           94,
           95.55,
           93,
           74522,
           5,
           92.26,
           "SPDR S&P Semiconductor ETF"
          ],
          [
           3650.16,
           3604.38,
           -45.78,
           -1.25,
           0,
           0,
           -45.78,
           -1.25,
           92.38,
           92.42,
           94.34,
           92.16,
           59256,
           39,
           93.59,
           "SPDR S&P Semiconductor ETF"
          ],
          [
           3650.16,
           3455.79,
           -194.37,
           -5.32,
           0,
           0,
           -194.37,
           -5.32,
           91.03,
           88.61,
           91.29,
           88.16,
           57839,
           39,
           93.59,
           "SPDR S&P Semiconductor ETF"
          ],
          [
           3650.16,
           3631.68,
           -18.48,
           -0.51,
           0,
           0,
           -18.48,
           -0.51,
           91.31,
           93.12,
           93.5,
           90.87,
           55851,
           39,
           93.59,
           "SPDR S&P Semiconductor ETF"
          ],
          [
           3650.16,
           3637.92,
           -12.24,
           -0.34,
           0,
           0,
           -12.24,
           -0.34,
           93.47,
           93.28,
           94.81,
           92.88,
           61851,
           39,
           93.59,
           "SPDR S&P Semiconductor ETF"
          ],
          [
           3650.16,
           3711.63,
           61.47,
           1.68,
           0,
           0,
           61.47,
           1.68,
           93.8,
           95.17,
           95.31,
           92.56,
           54397,
           39,
           93.59,
           "SPDR S&P Semiconductor ETF"
          ],
          [
           3650.16,
           3795.87,
           145.71,
           3.99,
           0,
           0,
           145.71,
           3.99,
           96.33,
           97.33,
           97.73,
           96.04,
           70475,
           39,
           93.59,
           "SPDR S&P Semiconductor ETF"
          ],
          [
           3650.16,
           3799.77,
           149.61,
           4.1,
           0,
           0,
           149.61,
           4.1,
           98.92,
           97.43,
           99.71,
           97.39,
           76711,
           39,
           93.59,
           "SPDR S&P Semiconductor ETF"
          ],
          [
           3650.16,
           4032.6,
           382.44,
           10.48,
           0,
           0,
           382.44,
           10.48,
           99.62,
           103.4,
           103.74,
           99.62,
           354003,
           39,
           93.59,
           "SPDR S&P Semiconductor ETF"
          ],
          [
           3650.16,
           3881.67,
           231.51,
           6.34,
           0,
           0,
           231.51,
           6.34,
           102.71,
           99.53,
           102.71,
           99.53,
           65984,
           39,
           93.59,
           "SPDR S&P Semiconductor ETF"
          ],
          [
           3650.16,
           3681.6,
           31.44,
           0.86,
           0,
           0,
           31.44,
           0.86,
           97.1,
           94.4,
           97.41,
           93.96,
           91454,
           39,
           93.59,
           "SPDR S&P Semiconductor ETF"
          ],
          [
           3650.16,
           3712.02,
           61.86,
           1.69,
           0,
           0,
           61.86,
           1.69,
           93.44,
           95.18,
           95.18,
           93.03,
           67961,
           39,
           93.59,
           "SPDR S&P Semiconductor ETF"
          ],
          [
           3650.16,
           3791.19,
           141.03,
           3.86,
           0,
           0,
           141.03,
           3.86,
           97.25,
           97.21,
           99.04,
           96.57,
           68221,
           39,
           93.59,
           "SPDR S&P Semiconductor ETF"
          ],
          [
           3650.16,
           3831.75,
           181.59,
           4.97,
           0,
           0,
           181.59,
           4.97,
           98.1,
           98.25,
           99.6,
           98,
           49695,
           39,
           93.59,
           "SPDR S&P Semiconductor ETF"
          ],
          [
           3650.16,
           3891.42,
           241.26,
           6.61,
           0,
           0,
           241.26,
           6.61,
           100,
           99.78,
           100.59,
           98.56,
           60823,
           39,
           93.59,
           "SPDR S&P Semiconductor ETF"
          ],
          [
           3650.16,
           4023.63,
           373.47,
           10.23,
           0,
           0,
           373.47,
           10.23,
           101.95,
           103.17,
           103.18,
           100.91,
           62276,
           39,
           93.59,
           "SPDR S&P Semiconductor ETF"
          ],
          [
           3650.16,
           4007.64,
           357.48,
           9.79,
           0,
           0,
           357.48,
           9.79,
           102.08,
           102.76,
           103.77,
           101.63,
           41565,
           39,
           93.59,
           "SPDR S&P Semiconductor ETF"
          ],
          [
           3650.16,
           3886.35,
           236.19,
           6.47,
           0,
           0,
           236.19,
           6.47,
           103.32,
           99.65,
           103.78,
           99.64,
           188347,
           39,
           93.59,
           "SPDR S&P Semiconductor ETF"
          ],
          [
           4322.34,
           4467.06,
           144.73,
           3.35,
           0,
           0,
           144.73,
           3.35,
           99.81,
           97.11,
           100.66,
           95.69,
           140654,
           46,
           93.96,
           "SPDR S&P Semiconductor ETF"
          ],
          [
           4322.34,
           4524.56,
           202.23,
           4.68,
           0,
           0,
           202.23,
           4.68,
           96.12,
           98.36,
           98.36,
           94.14,
           129423,
           46,
           93.96,
           "SPDR S&P Semiconductor ETF"
          ],
          [
           4322.34,
           4439.46,
           117.12,
           2.71,
           0,
           0,
           117.12,
           2.71,
           95.38,
           96.51,
           96.74,
           94.9,
           44126,
           46,
           93.96,
           "SPDR S&P Semiconductor ETF"
          ],
          [
           4322.34,
           4709.94,
           387.6,
           8.97,
           0,
           0,
           387.6,
           8.97,
           99.16,
           102.39,
           102.85,
           99.16,
           189657,
           46,
           93.96,
           "SPDR S&P Semiconductor ETF"
          ],
          [
           4322.34,
           4695.22,
           372.88,
           8.63,
           0,
           0,
           372.88,
           8.63,
           102.3,
           102.07,
           104.46,
           101.99,
           142479,
           46,
           93.96,
           "SPDR S&P Semiconductor ETF"
          ],
          [
           4322.34,
           4869.56,
           547.23,
           12.66,
           0,
           0,
           547.23,
           12.66,
           104.15,
           105.86,
           106.57,
           104.15,
           119666,
           46,
           93.96,
           "SPDR S&P Semiconductor ETF"
          ],
          [
           4322.34,
           4741.68,
           419.35,
           9.7,
           0,
           0,
           419.35,
           9.7,
           105.78,
           103.08,
           106.17,
           102.96,
           54825,
           46,
           93.96,
           "SPDR S&P Semiconductor ETF"
          ],
          [
           4322.34,
           4790.44,
           468.1,
           10.83,
           0,
           0,
           468.1,
           10.83,
           103.32,
           104.14,
           104.23,
           102.25,
           117159,
           46,
           93.96,
           "SPDR S&P Semiconductor ETF"
          ],
          [
           4322.34,
           4877.84,
           555.51,
           12.85,
           0,
           0,
           555.51,
           12.85,
           107.15,
           106.04,
           108.05,
           105.92,
           50372,
           46,
           93.96,
           "SPDR S&P Semiconductor ETF"
          ],
          [
           4322.34,
           4946.84,
           624.51,
           14.45,
           0,
           0,
           624.51,
           14.45,
           106.92,
           107.54,
           107.57,
           103.28,
           59654,
           46,
           93.96,
           "SPDR S&P Semiconductor ETF"
          ],
          [
           4322.34,
           4813.9,
           491.57,
           11.37,
           0,
           0,
           491.57,
           11.37,
           107.26,
           104.65,
           108.07,
           104.13,
           140379,
           46,
           93.96,
           "SPDR S&P Semiconductor ETF"
          ],
          [
           4322.34,
           4933.96,
           611.62,
           14.15,
           0,
           0,
           611.62,
           14.15,
           105.22,
           107.26,
           107.49,
           104.6,
           50895,
           46,
           93.96,
           "SPDR S&P Semiconductor ETF"
          ],
          [
           4322.34,
           4936.26,
           613.93,
           14.2,
           0,
           0,
           613.93,
           14.2,
           106.94,
           107.31,
           108.19,
           106.26,
           122325,
           46,
           93.96,
           "SPDR S&P Semiconductor ETF"
          ],
          [
           4322.34,
           4950.52,
           628.19,
           14.53,
           0,
           0,
           628.19,
           14.53,
           107.72,
           107.62,
           108.4,
           107.12,
           0,
           46,
           93.96,
           "SPDR S&P Semiconductor ETF"
          ]
         ],
         "hovertemplate": "<b>%{hovertext}</b><br><br>symbol=XSD<br>date=%{x}<br>total_pct_gain=%{customdata[7]}<br>invested_amount=%{customdata[0]}<br>market_value=%{customdata[1]}<br>unrealized_gain=%{customdata[2]}<br>unrealized_pct_gain=%{customdata[3]}<br>realized_gain=%{customdata[4]}<br>realized_pct_gain=%{customdata[5]}<br>total_gain=%{customdata[6]}<br>open=%{customdata[8]}<br>close=%{customdata[9]}<br>high=%{customdata[10]}<br>low=%{customdata[11]}<br>volume=%{customdata[12]}<br>quantity=%{customdata[13]}<br>average_cost=%{customdata[14]}<br>company_name=%{customdata[15]}<extra></extra>",
         "hovertext": [
          "XSD",
          "XSD",
          "XSD",
          "XSD",
          "XSD",
          "XSD",
          "XSD",
          "XSD",
          "XSD",
          "XSD",
          "XSD",
          "XSD",
          "XSD",
          "XSD",
          "XSD",
          "XSD",
          "XSD",
          "XSD",
          "XSD",
          "XSD",
          "XSD",
          "XSD",
          "XSD",
          "XSD",
          "XSD",
          "XSD",
          "XSD",
          "XSD",
          "XSD",
          "XSD",
          "XSD",
          "XSD",
          "XSD",
          "XSD",
          "XSD",
          "XSD"
         ],
         "legendgroup": "XSD",
         "line": {
          "color": "#FFA15A",
          "dash": "solid"
         },
         "mode": "lines",
         "name": "XSD",
         "showlegend": true,
         "type": "scatter",
         "x": [
          "2020-04-13T00:00:00",
          "2020-04-14T00:00:00",
          "2020-04-15T00:00:00",
          "2020-04-16T00:00:00",
          "2020-04-17T00:00:00",
          "2020-04-20T00:00:00",
          "2020-04-21T00:00:00",
          "2020-04-22T00:00:00",
          "2020-04-23T00:00:00",
          "2020-04-24T00:00:00",
          "2020-04-27T00:00:00",
          "2020-04-28T00:00:00",
          "2020-04-29T00:00:00",
          "2020-04-30T00:00:00",
          "2020-05-01T00:00:00",
          "2020-05-04T00:00:00",
          "2020-05-05T00:00:00",
          "2020-05-06T00:00:00",
          "2020-05-07T00:00:00",
          "2020-05-08T00:00:00",
          "2020-05-11T00:00:00",
          "2020-05-12T00:00:00",
          "2020-05-13T00:00:00",
          "2020-05-14T00:00:00",
          "2020-05-15T00:00:00",
          "2020-05-18T00:00:00",
          "2020-05-19T00:00:00",
          "2020-05-20T00:00:00",
          "2020-05-21T00:00:00",
          "2020-05-22T00:00:00",
          "2020-05-26T00:00:00",
          "2020-05-27T00:00:00",
          "2020-05-28T00:00:00",
          "2020-05-29T00:00:00",
          "2020-06-01T00:00:00",
          "2020-06-02T15:02:47"
         ],
         "xaxis": "x",
         "y": [
          0,
          0,
          0,
          0.86,
          1.89,
          -1.25,
          -5.32,
          -0.51,
          -0.34,
          1.68,
          3.99,
          4.1,
          10.48,
          6.34,
          0.86,
          1.69,
          3.86,
          4.97,
          6.61,
          10.23,
          9.79,
          6.47,
          3.35,
          4.68,
          2.71,
          8.97,
          8.63,
          12.66,
          9.7,
          10.83,
          12.85,
          14.45,
          11.37,
          14.15,
          14.2,
          14.53
         ],
         "yaxis": "y"
        },
        {
         "customdata": [
          [
           0,
           0,
           0,
           0,
           0,
           0,
           0,
           0,
           53,
           52.92,
           53.05,
           52.58,
           330432,
           0,
           0,
           "Fidelity Total Bond ETF"
          ],
          [
           0,
           0,
           0,
           0,
           0,
           0,
           0,
           0,
           53.07,
           53.07,
           53.4,
           52.92,
           445112,
           0,
           0,
           "Fidelity Total Bond ETF"
          ],
          [
           0,
           0,
           0,
           0,
           0,
           0,
           0,
           0,
           53.07,
           53.24,
           53.33,
           53.07,
           231906,
           0,
           0,
           "Fidelity Total Bond ETF"
          ],
          [
           106.4,
           106.28,
           -0.12,
           -0.11,
           0,
           0,
           -0.12,
           -0.11,
           53.2,
           53.14,
           53.25,
           53,
           240672,
           2,
           53.2,
           "Fidelity Total Bond ETF"
          ],
          [
           106.4,
           106.24,
           -0.16,
           -0.15,
           0,
           0,
           -0.16,
           -0.15,
           53.14,
           53.12,
           53.25,
           53.08,
           262878,
           2,
           53.2,
           "Fidelity Total Bond ETF"
          ],
          [
           1008.76,
           1005.1,
           -3.66,
           -0.36,
           0,
           0,
           -3.66,
           -0.36,
           53.12,
           52.9,
           53.12,
           52.84,
           223255,
           19,
           53.09,
           "Fidelity Total Bond ETF"
          ],
          [
           1008.76,
           998.07,
           -10.69,
           -1.06,
           0,
           0,
           -10.69,
           -1.06,
           52.9,
           52.53,
           53.13,
           52.5,
           432918,
           19,
           53.09,
           "Fidelity Total Bond ETF"
          ],
          [
           1008.76,
           1004.15,
           -4.61,
           -0.46,
           0,
           0,
           -4.61,
           -0.46,
           52.58,
           52.85,
           52.85,
           52.49,
           215111,
           19,
           53.09,
           "Fidelity Total Bond ETF"
          ],
          [
           1008.76,
           1007,
           -1.76,
           -0.17,
           0,
           0,
           -1.76,
           -0.17,
           52.98,
           53,
           53.05,
           52.9,
           203063,
           19,
           53.09,
           "Fidelity Total Bond ETF"
          ],
          [
           1008.76,
           1008.14,
           -0.62,
           -0.06,
           0,
           0,
           -0.62,
           -0.06,
           53,
           53.06,
           53.06,
           52.86,
           207503,
           19,
           53.09,
           "Fidelity Total Bond ETF"
          ],
          [
           1008.76,
           1004.34,
           -4.42,
           -0.44,
           0,
           0,
           -4.42,
           -0.44,
           52.97,
           52.86,
           52.97,
           52.74,
           255680,
           19,
           53.09,
           "Fidelity Total Bond ETF"
          ],
          [
           1008.76,
           1003.2,
           -5.56,
           -0.55,
           0,
           0,
           -5.56,
           -0.55,
           52.79,
           52.8,
           52.88,
           52.58,
           146270,
           19,
           53.09,
           "Fidelity Total Bond ETF"
          ],
          [
           1008.76,
           1005.86,
           -2.9,
           -0.29,
           0,
           0,
           -2.9,
           -0.29,
           52.91,
           52.94,
           52.99,
           52.89,
           322178,
           19,
           53.09,
           "Fidelity Total Bond ETF"
          ],
          [
           1008.76,
           1004.34,
           -4.42,
           -0.44,
           0,
           0,
           -4.42,
           -0.44,
           52.93,
           52.86,
           53.07,
           52.58,
           244102,
           19,
           53.09,
           "Fidelity Total Bond ETF"
          ],
          [
           1008.76,
           1001.87,
           -6.89,
           -0.68,
           0,
           0,
           -6.89,
           -0.68,
           52.87,
           52.73,
           53,
           52.73,
           305330,
           19,
           53.09,
           "Fidelity Total Bond ETF"
          ],
          [
           1008.76,
           1005.29,
           -3.47,
           -0.34,
           0,
           0,
           -3.47,
           -0.34,
           52.9,
           52.91,
           52.94,
           52.73,
           189637,
           19,
           53.09,
           "Fidelity Total Bond ETF"
          ],
          [
           1008.76,
           1004.34,
           -4.42,
           -0.44,
           0,
           0,
           -4.42,
           -0.44,
           52.87,
           52.86,
           52.9,
           52.7,
           283858,
           19,
           53.09,
           "Fidelity Total Bond ETF"
          ],
          [
           1008.76,
           1002.63,
           -6.13,
           -0.61,
           0,
           0,
           -6.13,
           -0.61,
           52.85,
           52.77,
           52.85,
           52.56,
           165156,
           19,
           53.09,
           "Fidelity Total Bond ETF"
          ],
          [
           1008.76,
           1003.39,
           -5.37,
           -0.53,
           0,
           0,
           -5.37,
           -0.53,
           52.54,
           52.81,
           52.89,
           52.54,
           150902,
           19,
           53.09,
           "Fidelity Total Bond ETF"
          ],
          [
           1008.76,
           1003.39,
           -5.37,
           -0.53,
           0,
           0,
           -5.37,
           -0.53,
           52.85,
           52.81,
           52.95,
           52.6,
           554805,
           19,
           53.09,
           "Fidelity Total Bond ETF"
          ],
          [
           1008.76,
           997.88,
           -10.88,
           -1.08,
           0,
           0,
           -10.88,
           -1.08,
           52.8,
           52.52,
           52.8,
           52.5,
           218961,
           19,
           53.09,
           "Fidelity Total Bond ETF"
          ],
          [
           1008.76,
           1000.54,
           -8.22,
           -0.81,
           0,
           0,
           -8.22,
           -0.81,
           52.66,
           52.66,
           52.85,
           52.62,
           152263,
           19,
           53.09,
           "Fidelity Total Bond ETF"
          ],
          [
           1272.31,
           1266.11,
           -6.2,
           -0.49,
           0,
           0,
           -6.2,
           -0.49,
           52.67,
           52.75,
           52.98,
           52.67,
           364821,
           24,
           53.01,
           "Fidelity Total Bond ETF"
          ],
          [
           1272.31,
           1267.2,
           -5.11,
           -0.4,
           0,
           0,
           -5.11,
           -0.4,
           52.81,
           52.8,
           52.87,
           52.67,
           143289,
           24,
           53.01,
           "Fidelity Total Bond ETF"
          ],
          [
           1272.31,
           1267.44,
           -4.87,
           -0.38,
           0,
           0,
           -4.87,
           -0.38,
           52.8,
           52.81,
           52.88,
           52.71,
           180042,
           24,
           53.01,
           "Fidelity Total Bond ETF"
          ],
          [
           1272.31,
           1269.36,
           -2.95,
           -0.23,
           0,
           0,
           -2.95,
           -0.23,
           52.86,
           52.89,
           53,
           52.83,
           229354,
           24,
           53.01,
           "Fidelity Total Bond ETF"
          ],
          [
           1272.31,
           1274.16,
           1.85,
           0.15,
           0,
           0,
           1.85,
           0.15,
           53.05,
           53.09,
           53.12,
           53,
           280330,
           24,
           53.01,
           "Fidelity Total Bond ETF"
          ],
          [
           1272.31,
           1279.44,
           7.13,
           0.56,
           0,
           0,
           7.13,
           0.56,
           53.02,
           53.31,
           53.4,
           53.02,
           252079,
           24,
           53.01,
           "Fidelity Total Bond ETF"
          ],
          [
           1272.31,
           1281.36,
           9.05,
           0.71,
           0,
           0,
           9.05,
           0.71,
           53.37,
           53.39,
           53.47,
           53.32,
           195397,
           24,
           53.01,
           "Fidelity Total Bond ETF"
          ],
          [
           1272.31,
           1281.12,
           8.81,
           0.69,
           0,
           0,
           8.81,
           0.69,
           53.39,
           53.38,
           53.45,
           53.34,
           138085,
           24,
           53.01,
           "Fidelity Total Bond ETF"
          ],
          [
           1432.5,
           1442.07,
           9.57,
           0.67,
           0,
           0,
           9.57,
           0.67,
           53.38,
           53.41,
           53.46,
           53.27,
           229874,
           27,
           53.06,
           "Fidelity Total Bond ETF"
          ],
          [
           1432.5,
           1442.88,
           10.38,
           0.72,
           0,
           0,
           10.38,
           0.72,
           53.41,
           53.44,
           53.5,
           53.32,
           148575,
           27,
           53.06,
           "Fidelity Total Bond ETF"
          ],
          [
           1432.5,
           1440.99,
           8.49,
           0.59,
           0,
           0,
           8.49,
           0.59,
           53.38,
           53.37,
           53.49,
           53.36,
           165127,
           27,
           53.06,
           "Fidelity Total Bond ETF"
          ],
          [
           1432.5,
           1447.2,
           14.7,
           1.03,
           0,
           0,
           14.7,
           1.03,
           53.55,
           53.6,
           53.67,
           53.37,
           240374,
           27,
           53.06,
           "Fidelity Total Bond ETF"
          ],
          [
           1432.5,
           1447.47,
           14.97,
           1.04,
           0,
           0,
           14.97,
           1.04,
           53.55,
           53.61,
           53.64,
           53.4,
           227213,
           27,
           53.06,
           "Fidelity Total Bond ETF"
          ],
          [
           1432.5,
           1448.55,
           16.05,
           1.12,
           0,
           0,
           16.05,
           1.12,
           53.63,
           53.65,
           53.68,
           53.63,
           0,
           27,
           53.06,
           "Fidelity Total Bond ETF"
          ]
         ],
         "hovertemplate": "<b>%{hovertext}</b><br><br>symbol=FBND<br>date=%{x}<br>total_pct_gain=%{customdata[7]}<br>invested_amount=%{customdata[0]}<br>market_value=%{customdata[1]}<br>unrealized_gain=%{customdata[2]}<br>unrealized_pct_gain=%{customdata[3]}<br>realized_gain=%{customdata[4]}<br>realized_pct_gain=%{customdata[5]}<br>total_gain=%{customdata[6]}<br>open=%{customdata[8]}<br>close=%{customdata[9]}<br>high=%{customdata[10]}<br>low=%{customdata[11]}<br>volume=%{customdata[12]}<br>quantity=%{customdata[13]}<br>average_cost=%{customdata[14]}<br>company_name=%{customdata[15]}<extra></extra>",
         "hovertext": [
          "FBND",
          "FBND",
          "FBND",
          "FBND",
          "FBND",
          "FBND",
          "FBND",
          "FBND",
          "FBND",
          "FBND",
          "FBND",
          "FBND",
          "FBND",
          "FBND",
          "FBND",
          "FBND",
          "FBND",
          "FBND",
          "FBND",
          "FBND",
          "FBND",
          "FBND",
          "FBND",
          "FBND",
          "FBND",
          "FBND",
          "FBND",
          "FBND",
          "FBND",
          "FBND",
          "FBND",
          "FBND",
          "FBND",
          "FBND",
          "FBND",
          "FBND"
         ],
         "legendgroup": "FBND",
         "line": {
          "color": "#19d3f3",
          "dash": "solid"
         },
         "mode": "lines",
         "name": "FBND",
         "showlegend": true,
         "type": "scatter",
         "x": [
          "2020-04-13T00:00:00",
          "2020-04-14T00:00:00",
          "2020-04-15T00:00:00",
          "2020-04-16T00:00:00",
          "2020-04-17T00:00:00",
          "2020-04-20T00:00:00",
          "2020-04-21T00:00:00",
          "2020-04-22T00:00:00",
          "2020-04-23T00:00:00",
          "2020-04-24T00:00:00",
          "2020-04-27T00:00:00",
          "2020-04-28T00:00:00",
          "2020-04-29T00:00:00",
          "2020-04-30T00:00:00",
          "2020-05-01T00:00:00",
          "2020-05-04T00:00:00",
          "2020-05-05T00:00:00",
          "2020-05-06T00:00:00",
          "2020-05-07T00:00:00",
          "2020-05-08T00:00:00",
          "2020-05-11T00:00:00",
          "2020-05-12T00:00:00",
          "2020-05-13T00:00:00",
          "2020-05-14T00:00:00",
          "2020-05-15T00:00:00",
          "2020-05-18T00:00:00",
          "2020-05-19T00:00:00",
          "2020-05-20T00:00:00",
          "2020-05-21T00:00:00",
          "2020-05-22T00:00:00",
          "2020-05-26T00:00:00",
          "2020-05-27T00:00:00",
          "2020-05-28T00:00:00",
          "2020-05-29T00:00:00",
          "2020-06-01T00:00:00",
          "2020-06-02T15:02:47"
         ],
         "xaxis": "x",
         "y": [
          0,
          0,
          0,
          -0.11,
          -0.15,
          -0.36,
          -1.06,
          -0.46,
          -0.17,
          -0.06,
          -0.44,
          -0.55,
          -0.29,
          -0.44,
          -0.68,
          -0.34,
          -0.44,
          -0.61,
          -0.53,
          -0.53,
          -1.08,
          -0.81,
          -0.49,
          -0.4,
          -0.38,
          -0.23,
          0.15,
          0.56,
          0.71,
          0.69,
          0.67,
          0.72,
          0.59,
          1.03,
          1.04,
          1.12
         ],
         "yaxis": "y"
        },
        {
         "customdata": [
          [
           0,
           0,
           0,
           0,
           0,
           0,
           0,
           0,
           224.28,
           225.39,
           225.44,
           220.62,
           1013741,
           0,
           0,
           "Vanguard Information Technology Index Fund"
          ],
          [
           0,
           0,
           0,
           0,
           0,
           0,
           0,
           0,
           230.53,
           234.54,
           235,
           229.51,
           1617610,
           0,
           0,
           "Vanguard Information Technology Index Fund"
          ],
          [
           0,
           0,
           0,
           0,
           0,
           0,
           0,
           0,
           229.88,
           229.46,
           231.08,
           227.58,
           911873,
           0,
           0,
           "Vanguard Information Technology Index Fund"
          ],
          [
           914.96,
           927.36,
           12.4,
           1.36,
           0,
           0,
           12.4,
           1.36,
           232.19,
           231.84,
           232.54,
           228.24,
           1248053,
           4,
           228.74,
           "Vanguard Information Technology Index Fund"
          ],
          [
           914.96,
           942.28,
           27.32,
           2.99,
           0,
           0,
           27.32,
           2.99,
           236.04,
           235.57,
           236.32,
           232.05,
           1008287,
           4,
           228.74,
           "Vanguard Information Technology Index Fund"
          ],
          [
           4203.49,
           4169.88,
           -33.61,
           -0.8,
           0,
           0,
           -33.61,
           -0.8,
           232.49,
           231.66,
           235.3,
           231.61,
           1313058,
           18,
           233.53,
           "Vanguard Information Technology Index Fund"
          ],
          [
           4203.49,
           3998.52,
           -204.97,
           -4.88,
           0,
           0,
           -204.97,
           -4.88,
           228.48,
           222.14,
           229,
           220.84,
           1049520,
           18,
           233.53,
           "Vanguard Information Technology Index Fund"
          ],
          [
           4203.49,
           4150.08,
           -53.41,
           -1.27,
           0,
           0,
           -53.41,
           -1.27,
           227.57,
           230.56,
           231.74,
           226.65,
           673941,
           18,
           233.53,
           "Vanguard Information Technology Index Fund"
          ],
          [
           4203.49,
           4128.84,
           -74.65,
           -1.78,
           0,
           0,
           -74.65,
           -1.78,
           231.13,
           229.38,
           233.77,
           229.09,
           600064,
           18,
           233.53,
           "Vanguard Information Technology Index Fund"
          ],
          [
           4203.49,
           4210.02,
           6.53,
           0.16,
           0,
           0,
           6.53,
           0.16,
           230.24,
           233.89,
           234.09,
           228.71,
           856590,
           18,
           233.53,
           "Vanguard Information Technology Index Fund"
          ],
          [
           4203.49,
           4257.9,
           54.41,
           1.29,
           0,
           0,
           54.41,
           1.29,
           236.16,
           236.55,
           237.01,
           235,
           885956,
           18,
           233.53,
           "Vanguard Information Technology Index Fund"
          ],
          [
           4203.49,
           4203.9,
           0.41,
           0.01,
           0,
           0,
           0.41,
           0.01,
           239.5,
           233.55,
           239.66,
           233.27,
           843130,
           18,
           233.53,
           "Vanguard Information Technology Index Fund"
          ],
          [
           4203.49,
           4383.36,
           179.87,
           4.28,
           0,
           0,
           179.87,
           4.28,
           238.46,
           243.52,
           244.2,
           237.75,
           948400,
           18,
           233.53,
           "Vanguard Information Technology Index Fund"
          ],
          [
           4203.49,
           4356,
           152.51,
           3.63,
           0,
           0,
           152.51,
           3.63,
           244.09,
           242,
           244.09,
           240.33,
           836594,
           18,
           233.53,
           "Vanguard Information Technology Index Fund"
          ],
          [
           4203.49,
           4230.9,
           27.41,
           0.65,
           0,
           0,
           27.41,
           0.65,
           236.57,
           235.05,
           239.32,
           234.06,
           929747,
           18,
           233.53,
           "Vanguard Information Technology Index Fund"
          ],
          [
           4203.49,
           4282.92,
           79.43,
           1.89,
           0,
           0,
           79.43,
           1.89,
           233.33,
           237.94,
           238.14,
           232.57,
           614285,
           18,
           233.53,
           "Vanguard Information Technology Index Fund"
          ],
          [
           4203.49,
           4349.16,
           145.67,
           3.47,
           0,
           0,
           145.67,
           3.47,
           240.65,
           241.62,
           244.47,
           240.45,
           899892,
           18,
           233.53,
           "Vanguard Information Technology Index Fund"
          ],
          [
           4203.49,
           4380.48,
           176.99,
           4.21,
           0,
           0,
           176.99,
           4.21,
           243.66,
           243.36,
           245.71,
           242.16,
           711968,
           18,
           233.53,
           "Vanguard Information Technology Index Fund"
          ],
          [
           4203.49,
           4459.32,
           255.83,
           6.09,
           0,
           0,
           255.83,
           6.09,
           247.02,
           247.74,
           249.11,
           246.68,
           812373,
           18,
           233.53,
           "Vanguard Information Technology Index Fund"
          ],
          [
           4203.49,
           4525.38,
           321.89,
           7.66,
           0,
           0,
           321.89,
           7.66,
           250.35,
           251.41,
           251.71,
           248.54,
           774306,
           18,
           233.53,
           "Vanguard Information Technology Index Fund"
          ],
          [
           4203.49,
           4556.52,
           353.03,
           8.4,
           0,
           0,
           353.03,
           8.4,
           249.79,
           253.14,
           254.66,
           249.35,
           1383069,
           18,
           233.53,
           "Vanguard Information Technology Index Fund"
          ],
          [
           4203.49,
           4458.6,
           255.11,
           6.07,
           0,
           0,
           255.11,
           6.07,
           254.37,
           247.7,
           254.91,
           247.7,
           3593130,
           18,
           233.53,
           "Vanguard Information Technology Index Fund"
          ],
          [
           4925.53,
           5109.3,
           183.77,
           3.73,
           0,
           0,
           183.77,
           3.73,
           248.13,
           243.3,
           249.76,
           240.16,
           1162850,
           21,
           234.55,
           "Vanguard Information Technology Index Fund"
          ],
          [
           4925.53,
           5170.83,
           245.3,
           4.98,
           0,
           0,
           245.3,
           4.98,
           241.31,
           246.23,
           246.5,
           238.58,
           799810,
           21,
           234.55,
           "Vanguard Information Technology Index Fund"
          ],
          [
           4925.53,
           5201.28,
           275.75,
           5.6,
           0,
           0,
           275.75,
           5.6,
           242.77,
           247.68,
           247.68,
           242.1,
           665344,
           21,
           234.55,
           "Vanguard Information Technology Index Fund"
          ],
          [
           4925.53,
           5326.65,
           401.12,
           8.14,
           0,
           0,
           401.12,
           8.14,
           252.59,
           253.65,
           255.09,
           251.94,
           900486,
           21,
           234.55,
           "Vanguard Information Technology Index Fund"
          ],
          [
           4925.53,
           5310.48,
           384.95,
           7.82,
           0,
           0,
           384.95,
           7.82,
           254.04,
           252.88,
           256.97,
           252.88,
           708897,
           21,
           234.55,
           "Vanguard Information Technology Index Fund"
          ],
          [
           4925.53,
           5432.07,
           506.54,
           10.28,
           0,
           0,
           506.54,
           10.28,
           256.53,
           258.67,
           259.17,
           256.21,
           708963,
           21,
           234.55,
           "Vanguard Information Technology Index Fund"
          ],
          [
           4925.53,
           5364.87,
           439.34,
           8.92,
           0,
           0,
           439.34,
           8.92,
           258.49,
           255.47,
           259.36,
           254.93,
           703050,
           21,
           234.55,
           "Vanguard Information Technology Index Fund"
          ],
          [
           4925.53,
           5391.12,
           465.59,
           9.45,
           0,
           0,
           465.59,
           9.45,
           255.07,
           256.72,
           256.9,
           254.01,
           521144,
           21,
           234.55,
           "Vanguard Information Technology Index Fund"
          ],
          [
           5183.41,
           5651.8,
           468.39,
           9.04,
           0,
           0,
           468.39,
           9.04,
           261.9,
           256.9,
           261.99,
           256.45,
           763066,
           22,
           235.61,
           "Vanguard Information Technology Index Fund"
          ],
          [
           5183.41,
           5683.26,
           499.85,
           9.64,
           0,
           0,
           499.85,
           9.64,
           256.75,
           258.33,
           258.36,
           250.91,
           836748,
           22,
           235.61,
           "Vanguard Information Technology Index Fund"
          ],
          [
           5183.41,
           5671.82,
           488.41,
           9.42,
           0,
           0,
           488.41,
           9.42,
           257.59,
           257.81,
           262.55,
           257,
           702469,
           22,
           235.61,
           "Vanguard Information Technology Index Fund"
          ],
          [
           5183.41,
           5742.66,
           559.25,
           10.79,
           0,
           0,
           559.25,
           10.79,
           258.44,
           261.03,
           261.7,
           256.54,
           738513,
           22,
           235.61,
           "Vanguard Information Technology Index Fund"
          ],
          [
           5183.41,
           5761.14,
           577.73,
           11.15,
           0,
           0,
           577.73,
           11.15,
           259.98,
           261.87,
           262.48,
           259.09,
           1017631,
           22,
           235.61,
           "Vanguard Information Technology Index Fund"
          ],
          [
           5183.41,
           5738.26,
           554.85,
           10.7,
           0,
           0,
           554.85,
           10.7,
           262.37,
           260.83,
           262.92,
           260.5,
           0,
           22,
           235.61,
           "Vanguard Information Technology Index Fund"
          ]
         ],
         "hovertemplate": "<b>%{hovertext}</b><br><br>symbol=VGT<br>date=%{x}<br>total_pct_gain=%{customdata[7]}<br>invested_amount=%{customdata[0]}<br>market_value=%{customdata[1]}<br>unrealized_gain=%{customdata[2]}<br>unrealized_pct_gain=%{customdata[3]}<br>realized_gain=%{customdata[4]}<br>realized_pct_gain=%{customdata[5]}<br>total_gain=%{customdata[6]}<br>open=%{customdata[8]}<br>close=%{customdata[9]}<br>high=%{customdata[10]}<br>low=%{customdata[11]}<br>volume=%{customdata[12]}<br>quantity=%{customdata[13]}<br>average_cost=%{customdata[14]}<br>company_name=%{customdata[15]}<extra></extra>",
         "hovertext": [
          "VGT",
          "VGT",
          "VGT",
          "VGT",
          "VGT",
          "VGT",
          "VGT",
          "VGT",
          "VGT",
          "VGT",
          "VGT",
          "VGT",
          "VGT",
          "VGT",
          "VGT",
          "VGT",
          "VGT",
          "VGT",
          "VGT",
          "VGT",
          "VGT",
          "VGT",
          "VGT",
          "VGT",
          "VGT",
          "VGT",
          "VGT",
          "VGT",
          "VGT",
          "VGT",
          "VGT",
          "VGT",
          "VGT",
          "VGT",
          "VGT",
          "VGT"
         ],
         "legendgroup": "VGT",
         "line": {
          "color": "#FF6692",
          "dash": "solid"
         },
         "mode": "lines",
         "name": "VGT",
         "showlegend": true,
         "type": "scatter",
         "x": [
          "2020-04-13T00:00:00",
          "2020-04-14T00:00:00",
          "2020-04-15T00:00:00",
          "2020-04-16T00:00:00",
          "2020-04-17T00:00:00",
          "2020-04-20T00:00:00",
          "2020-04-21T00:00:00",
          "2020-04-22T00:00:00",
          "2020-04-23T00:00:00",
          "2020-04-24T00:00:00",
          "2020-04-27T00:00:00",
          "2020-04-28T00:00:00",
          "2020-04-29T00:00:00",
          "2020-04-30T00:00:00",
          "2020-05-01T00:00:00",
          "2020-05-04T00:00:00",
          "2020-05-05T00:00:00",
          "2020-05-06T00:00:00",
          "2020-05-07T00:00:00",
          "2020-05-08T00:00:00",
          "2020-05-11T00:00:00",
          "2020-05-12T00:00:00",
          "2020-05-13T00:00:00",
          "2020-05-14T00:00:00",
          "2020-05-15T00:00:00",
          "2020-05-18T00:00:00",
          "2020-05-19T00:00:00",
          "2020-05-20T00:00:00",
          "2020-05-21T00:00:00",
          "2020-05-22T00:00:00",
          "2020-05-26T00:00:00",
          "2020-05-27T00:00:00",
          "2020-05-28T00:00:00",
          "2020-05-29T00:00:00",
          "2020-06-01T00:00:00",
          "2020-06-02T15:02:47"
         ],
         "xaxis": "x",
         "y": [
          0,
          0,
          0,
          1.36,
          2.99,
          -0.8,
          -4.88,
          -1.27,
          -1.78,
          0.16,
          1.29,
          0.01,
          4.28,
          3.63,
          0.65,
          1.89,
          3.47,
          4.21,
          6.09,
          7.66,
          8.4,
          6.07,
          3.73,
          4.98,
          5.6,
          8.14,
          7.82,
          10.28,
          8.92,
          9.45,
          9.04,
          9.64,
          9.42,
          10.79,
          11.15,
          10.7
         ],
         "yaxis": "y"
        },
        {
         "customdata": [
          [
           0,
           0,
           0,
           0,
           0,
           0,
           0,
           0,
           47.17,
           47.85,
           47.93,
           46.11,
           573080,
           0,
           0,
           "ARK Innovation ETF"
          ],
          [
           0,
           0,
           0,
           0,
           0,
           0,
           0,
           0,
           49.72,
           50.38,
           50.83,
           49.37,
           900587,
           0,
           0,
           "ARK Innovation ETF"
          ],
          [
           0,
           0,
           0,
           0,
           0,
           0,
           0,
           0,
           49.48,
           49.56,
           50.03,
           48.6,
           807347,
           0,
           0,
           "ARK Innovation ETF"
          ],
          [
           1896.96,
           1922.8,
           25.84,
           1.36,
           0,
           0,
           25.84,
           1.36,
           49.92,
           50.6,
           50.89,
           49.3,
           683964,
           38,
           49.92,
           "ARK Innovation ETF"
          ],
          [
           1896.96,
           1985.88,
           88.92,
           4.69,
           0,
           0,
           88.92,
           4.69,
           52.11,
           52.26,
           52.35,
           51.3,
           980591,
           38,
           49.92,
           "ARK Innovation ETF"
          ],
          [
           16574.2,
           16579.2,
           5,
           0.03,
           0,
           0,
           5,
           0.03,
           51.64,
           52.8,
           53.87,
           51.01,
           839349,
           314,
           52.78,
           "ARK Innovation ETF"
          ],
          [
           16574.2,
           15891.54,
           -682.66,
           -4.12,
           0,
           0,
           -682.66,
           -4.12,
           51.99,
           50.61,
           52.26,
           49.75,
           710923,
           314,
           52.78,
           "ARK Innovation ETF"
          ],
          [
           16574.2,
           16459.88,
           -114.32,
           -0.69,
           0,
           0,
           -114.32,
           -0.69,
           52.16,
           52.42,
           52.68,
           51.3,
           517821,
           314,
           52.78,
           "ARK Innovation ETF"
          ],
          [
           16574.2,
           16331.14,
           -243.06,
           -1.47,
           0,
           0,
           -243.06,
           -1.47,
           52.43,
           52.01,
           53.47,
           51.93,
           653988,
           314,
           52.78,
           "ARK Innovation ETF"
          ],
          [
           16574.2,
           16660.84,
           86.64,
           0.52,
           0,
           0,
           86.64,
           0.52,
           52.38,
           53.06,
           53.36,
           51.73,
           496497,
           314,
           52.78,
           "ARK Innovation ETF"
          ],
          [
           16574.2,
           17470.96,
           896.76,
           5.41,
           0,
           0,
           896.76,
           5.41,
           54.07,
           55.64,
           56.43,
           53.76,
           1905928,
           314,
           52.78,
           "ARK Innovation ETF"
          ],
          [
           16574.2,
           16971.7,
           397.5,
           2.4,
           0,
           0,
           397.5,
           2.4,
           56.73,
           54.05,
           56.73,
           53.38,
           892954,
           314,
           52.78,
           "ARK Innovation ETF"
          ],
          [
           16574.2,
           17781.82,
           1207.62,
           7.29,
           0,
           0,
           1207.62,
           7.29,
           55.69,
           56.63,
           56.87,
           54.6,
           1010339,
           314,
           52.78,
           "ARK Innovation ETF"
          ],
          [
           16574.2,
           17373.62,
           799.42,
           4.82,
           0,
           0,
           799.42,
           4.82,
           56.72,
           55.33,
           57,
           55.1,
           780701,
           314,
           52.78,
           "ARK Innovation ETF"
          ],
          [
           16574.2,
           16447.32,
           -126.88,
           -0.77,
           0,
           0,
           -126.88,
           -0.77,
           53.82,
           52.38,
           54.23,
           51.67,
           870861,
           314,
           52.78,
           "ARK Innovation ETF"
          ],
          [
           16574.2,
           17053.34,
           479.14,
           2.89,
           0,
           0,
           479.14,
           2.89,
           51.71,
           54.31,
           54.31,
           51.53,
           459780,
           314,
           52.78,
           "ARK Innovation ETF"
          ],
          [
           16574.2,
           17288.84,
           714.64,
           4.31,
           0,
           0,
           714.64,
           4.31,
           55.53,
           55.06,
           56.02,
           54.76,
           637359,
           314,
           52.78,
           "ARK Innovation ETF"
          ],
          [
           16574.2,
           17373.62,
           799.42,
           4.82,
           0,
           0,
           799.42,
           4.82,
           55.33,
           55.33,
           55.85,
           54.75,
           614214,
           314,
           52.78,
           "ARK Innovation ETF"
          ],
          [
           16574.2,
           17772.4,
           1198.2,
           7.23,
           0,
           0,
           1198.2,
           7.23,
           56.09,
           56.6,
           56.9,
           55.64,
           638817,
           314,
           52.78,
           "ARK Innovation ETF"
          ],
          [
           16574.2,
           18306.2,
           1732,
           10.45,
           0,
           0,
           1732,
           10.45,
           57.16,
           58.3,
           58.45,
           56.5,
           620653,
           314,
           52.78,
           "ARK Innovation ETF"
          ],
          [
           16574.2,
           18739.52,
           2165.32,
           13.06,
           0,
           0,
           2165.32,
           13.06,
           57.55,
           59.68,
           60.19,
           57.39,
           767536,
           314,
           52.78,
           "ARK Innovation ETF"
          ],
          [
           16574.2,
           18262.24,
           1688.04,
           10.18,
           0,
           0,
           1688.04,
           10.18,
           60.5,
           58.16,
           60.5,
           58.16,
           951623,
           314,
           52.78,
           "ARK Innovation ETF"
          ],
          [
           19579.3,
           20729.44,
           1150.14,
           5.87,
           0,
           0,
           1150.14,
           5.87,
           58.03,
           56.33,
           58.72,
           54.77,
           925798,
           368,
           53.2,
           "ARK Innovation ETF"
          ],
          [
           19579.3,
           20700,
           1120.7,
           5.72,
           0,
           0,
           1120.7,
           5.72,
           55.43,
           56.25,
           56.45,
           54.31,
           1022935,
           368,
           53.2,
           "ARK Innovation ETF"
          ],
          [
           19579.3,
           21377.12,
           1797.82,
           9.18,
           0,
           0,
           1797.82,
           9.18,
           55.83,
           58.09,
           58.22,
           55.52,
           493672,
           368,
           53.2,
           "ARK Innovation ETF"
          ],
          [
           19579.3,
           22035.84,
           2456.54,
           12.55,
           0,
           0,
           2456.54,
           12.55,
           60.07,
           59.88,
           60.64,
           59.62,
           825904,
           368,
           53.2,
           "ARK Innovation ETF"
          ],
          [
           19579.3,
           22013.76,
           2434.46,
           12.43,
           0,
           0,
           2434.46,
           12.43,
           60.01,
           59.82,
           61.15,
           59.68,
           867446,
           368,
           53.2,
           "ARK Innovation ETF"
          ],
          [
           19579.3,
           22749.76,
           3170.46,
           16.19,
           0,
           0,
           3170.46,
           16.19,
           61.01,
           61.82,
           61.89,
           59.96,
           1101324,
           368,
           53.2,
           "ARK Innovation ETF"
          ],
          [
           19579.3,
           22808.64,
           3229.34,
           16.49,
           0,
           0,
           3229.34,
           16.49,
           61.82,
           61.98,
           62.34,
           60.51,
           839035,
           368,
           53.2,
           "ARK Innovation ETF"
          ],
          [
           19579.3,
           23095.68,
           3516.38,
           17.96,
           0,
           0,
           3516.38,
           17.96,
           61.96,
           62.76,
           62.8,
           61.5,
           683713,
           368,
           53.2,
           "ARK Innovation ETF"
          ],
          [
           19579.3,
           23147.2,
           3567.9,
           18.22,
           0,
           0,
           3567.9,
           18.22,
           64.9,
           62.9,
           64.9,
           62.78,
           1448778,
           368,
           53.2,
           "ARK Innovation ETF"
          ],
          [
           19579.3,
           23003.68,
           3424.38,
           17.49,
           0,
           0,
           3424.38,
           17.49,
           63.52,
           62.51,
           63.52,
           59.65,
           1074517,
           368,
           53.2,
           "ARK Innovation ETF"
          ],
          [
           19579.3,
           22724,
           3144.7,
           16.06,
           0,
           0,
           3144.7,
           16.06,
           62.73,
           61.75,
           63.26,
           61.49,
           832534,
           368,
           53.2,
           "ARK Innovation ETF"
          ],
          [
           19579.3,
           23117.76,
           3538.46,
           18.07,
           0,
           0,
           3538.46,
           18.07,
           61.94,
           62.82,
           63,
           61.28,
           599556,
           368,
           53.2,
           "ARK Innovation ETF"
          ],
          [
           19579.3,
           23846.4,
           4267.1,
           21.79,
           0,
           0,
           4267.1,
           21.79,
           63.36,
           64.8,
           65.17,
           62.93,
           1557055,
           368,
           53.2,
           "ARK Innovation ETF"
          ],
          [
           19579.3,
           23776.48,
           4197.18,
           21.44,
           0,
           0,
           4197.18,
           21.44,
           65.2,
           64.61,
           65.33,
           64.34,
           0,
           368,
           53.2,
           "ARK Innovation ETF"
          ]
         ],
         "hovertemplate": "<b>%{hovertext}</b><br><br>symbol=ARKK<br>date=%{x}<br>total_pct_gain=%{customdata[7]}<br>invested_amount=%{customdata[0]}<br>market_value=%{customdata[1]}<br>unrealized_gain=%{customdata[2]}<br>unrealized_pct_gain=%{customdata[3]}<br>realized_gain=%{customdata[4]}<br>realized_pct_gain=%{customdata[5]}<br>total_gain=%{customdata[6]}<br>open=%{customdata[8]}<br>close=%{customdata[9]}<br>high=%{customdata[10]}<br>low=%{customdata[11]}<br>volume=%{customdata[12]}<br>quantity=%{customdata[13]}<br>average_cost=%{customdata[14]}<br>company_name=%{customdata[15]}<extra></extra>",
         "hovertext": [
          "ARKK",
          "ARKK",
          "ARKK",
          "ARKK",
          "ARKK",
          "ARKK",
          "ARKK",
          "ARKK",
          "ARKK",
          "ARKK",
          "ARKK",
          "ARKK",
          "ARKK",
          "ARKK",
          "ARKK",
          "ARKK",
          "ARKK",
          "ARKK",
          "ARKK",
          "ARKK",
          "ARKK",
          "ARKK",
          "ARKK",
          "ARKK",
          "ARKK",
          "ARKK",
          "ARKK",
          "ARKK",
          "ARKK",
          "ARKK",
          "ARKK",
          "ARKK",
          "ARKK",
          "ARKK",
          "ARKK",
          "ARKK"
         ],
         "legendgroup": "ARKK",
         "line": {
          "color": "#B6E880",
          "dash": "solid"
         },
         "mode": "lines",
         "name": "ARKK",
         "showlegend": true,
         "type": "scatter",
         "x": [
          "2020-04-13T00:00:00",
          "2020-04-14T00:00:00",
          "2020-04-15T00:00:00",
          "2020-04-16T00:00:00",
          "2020-04-17T00:00:00",
          "2020-04-20T00:00:00",
          "2020-04-21T00:00:00",
          "2020-04-22T00:00:00",
          "2020-04-23T00:00:00",
          "2020-04-24T00:00:00",
          "2020-04-27T00:00:00",
          "2020-04-28T00:00:00",
          "2020-04-29T00:00:00",
          "2020-04-30T00:00:00",
          "2020-05-01T00:00:00",
          "2020-05-04T00:00:00",
          "2020-05-05T00:00:00",
          "2020-05-06T00:00:00",
          "2020-05-07T00:00:00",
          "2020-05-08T00:00:00",
          "2020-05-11T00:00:00",
          "2020-05-12T00:00:00",
          "2020-05-13T00:00:00",
          "2020-05-14T00:00:00",
          "2020-05-15T00:00:00",
          "2020-05-18T00:00:00",
          "2020-05-19T00:00:00",
          "2020-05-20T00:00:00",
          "2020-05-21T00:00:00",
          "2020-05-22T00:00:00",
          "2020-05-26T00:00:00",
          "2020-05-27T00:00:00",
          "2020-05-28T00:00:00",
          "2020-05-29T00:00:00",
          "2020-06-01T00:00:00",
          "2020-06-02T15:02:47"
         ],
         "xaxis": "x",
         "y": [
          0,
          0,
          0,
          1.36,
          4.69,
          0.03,
          -4.12,
          -0.69,
          -1.47,
          0.52,
          5.41,
          2.4,
          7.29,
          4.82,
          -0.77,
          2.89,
          4.31,
          4.82,
          7.23,
          10.45,
          13.06,
          10.18,
          5.87,
          5.72,
          9.18,
          12.55,
          12.43,
          16.19,
          16.49,
          17.96,
          18.22,
          17.49,
          16.06,
          18.07,
          21.79,
          21.44
         ],
         "yaxis": "y"
        }
       ],
       "layout": {
        "height": 700,
        "legend": {
         "title": {
          "text": "symbol"
         },
         "tracegroupgap": 0
        },
        "shapes": [
         {
          "fillcolor": "Red",
          "opacity": 0.2,
          "type": "rect",
          "x0": "2020-04-13T00:00:00+00:00",
          "x1": "2020-06-02T15:02:47+00:00",
          "xref": "x",
          "y0": -22.93,
          "y1": 0,
          "yref": "y"
         }
        ],
        "template": {
         "data": {
          "bar": [
           {
            "error_x": {
             "color": "#2a3f5f"
            },
            "error_y": {
             "color": "#2a3f5f"
            },
            "marker": {
             "line": {
              "color": "#E5ECF6",
              "width": 0.5
             }
            },
            "type": "bar"
           }
          ],
          "barpolar": [
           {
            "marker": {
             "line": {
              "color": "#E5ECF6",
              "width": 0.5
             }
            },
            "type": "barpolar"
           }
          ],
          "carpet": [
           {
            "aaxis": {
             "endlinecolor": "#2a3f5f",
             "gridcolor": "white",
             "linecolor": "white",
             "minorgridcolor": "white",
             "startlinecolor": "#2a3f5f"
            },
            "baxis": {
             "endlinecolor": "#2a3f5f",
             "gridcolor": "white",
             "linecolor": "white",
             "minorgridcolor": "white",
             "startlinecolor": "#2a3f5f"
            },
            "type": "carpet"
           }
          ],
          "choropleth": [
           {
            "colorbar": {
             "outlinewidth": 0,
             "ticks": ""
            },
            "type": "choropleth"
           }
          ],
          "contour": [
           {
            "colorbar": {
             "outlinewidth": 0,
             "ticks": ""
            },
            "colorscale": [
             [
              0,
              "#0d0887"
             ],
             [
              0.1111111111111111,
              "#46039f"
             ],
             [
              0.2222222222222222,
              "#7201a8"
             ],
             [
              0.3333333333333333,
              "#9c179e"
             ],
             [
              0.4444444444444444,
              "#bd3786"
             ],
             [
              0.5555555555555556,
              "#d8576b"
             ],
             [
              0.6666666666666666,
              "#ed7953"
             ],
             [
              0.7777777777777778,
              "#fb9f3a"
             ],
             [
              0.8888888888888888,
              "#fdca26"
             ],
             [
              1,
              "#f0f921"
             ]
            ],
            "type": "contour"
           }
          ],
          "contourcarpet": [
           {
            "colorbar": {
             "outlinewidth": 0,
             "ticks": ""
            },
            "type": "contourcarpet"
           }
          ],
          "heatmap": [
           {
            "colorbar": {
             "outlinewidth": 0,
             "ticks": ""
            },
            "colorscale": [
             [
              0,
              "#0d0887"
             ],
             [
              0.1111111111111111,
              "#46039f"
             ],
             [
              0.2222222222222222,
              "#7201a8"
             ],
             [
              0.3333333333333333,
              "#9c179e"
             ],
             [
              0.4444444444444444,
              "#bd3786"
             ],
             [
              0.5555555555555556,
              "#d8576b"
             ],
             [
              0.6666666666666666,
              "#ed7953"
             ],
             [
              0.7777777777777778,
              "#fb9f3a"
             ],
             [
              0.8888888888888888,
              "#fdca26"
             ],
             [
              1,
              "#f0f921"
             ]
            ],
            "type": "heatmap"
           }
          ],
          "heatmapgl": [
           {
            "colorbar": {
             "outlinewidth": 0,
             "ticks": ""
            },
            "colorscale": [
             [
              0,
              "#0d0887"
             ],
             [
              0.1111111111111111,
              "#46039f"
             ],
             [
              0.2222222222222222,
              "#7201a8"
             ],
             [
              0.3333333333333333,
              "#9c179e"
             ],
             [
              0.4444444444444444,
              "#bd3786"
             ],
             [
              0.5555555555555556,
              "#d8576b"
             ],
             [
              0.6666666666666666,
              "#ed7953"
             ],
             [
              0.7777777777777778,
              "#fb9f3a"
             ],
             [
              0.8888888888888888,
              "#fdca26"
             ],
             [
              1,
              "#f0f921"
             ]
            ],
            "type": "heatmapgl"
           }
          ],
          "histogram": [
           {
            "marker": {
             "colorbar": {
              "outlinewidth": 0,
              "ticks": ""
             }
            },
            "type": "histogram"
           }
          ],
          "histogram2d": [
           {
            "colorbar": {
             "outlinewidth": 0,
             "ticks": ""
            },
            "colorscale": [
             [
              0,
              "#0d0887"
             ],
             [
              0.1111111111111111,
              "#46039f"
             ],
             [
              0.2222222222222222,
              "#7201a8"
             ],
             [
              0.3333333333333333,
              "#9c179e"
             ],
             [
              0.4444444444444444,
              "#bd3786"
             ],
             [
              0.5555555555555556,
              "#d8576b"
             ],
             [
              0.6666666666666666,
              "#ed7953"
             ],
             [
              0.7777777777777778,
              "#fb9f3a"
             ],
             [
              0.8888888888888888,
              "#fdca26"
             ],
             [
              1,
              "#f0f921"
             ]
            ],
            "type": "histogram2d"
           }
          ],
          "histogram2dcontour": [
           {
            "colorbar": {
             "outlinewidth": 0,
             "ticks": ""
            },
            "colorscale": [
             [
              0,
              "#0d0887"
             ],
             [
              0.1111111111111111,
              "#46039f"
             ],
             [
              0.2222222222222222,
              "#7201a8"
             ],
             [
              0.3333333333333333,
              "#9c179e"
             ],
             [
              0.4444444444444444,
              "#bd3786"
             ],
             [
              0.5555555555555556,
              "#d8576b"
             ],
             [
              0.6666666666666666,
              "#ed7953"
             ],
             [
              0.7777777777777778,
              "#fb9f3a"
             ],
             [
              0.8888888888888888,
              "#fdca26"
             ],
             [
              1,
              "#f0f921"
             ]
            ],
            "type": "histogram2dcontour"
           }
          ],
          "mesh3d": [
           {
            "colorbar": {
             "outlinewidth": 0,
             "ticks": ""
            },
            "type": "mesh3d"
           }
          ],
          "parcoords": [
           {
            "line": {
             "colorbar": {
              "outlinewidth": 0,
              "ticks": ""
             }
            },
            "type": "parcoords"
           }
          ],
          "pie": [
           {
            "automargin": true,
            "type": "pie"
           }
          ],
          "scatter": [
           {
            "marker": {
             "colorbar": {
              "outlinewidth": 0,
              "ticks": ""
             }
            },
            "type": "scatter"
           }
          ],
          "scatter3d": [
           {
            "line": {
             "colorbar": {
              "outlinewidth": 0,
              "ticks": ""
             }
            },
            "marker": {
             "colorbar": {
              "outlinewidth": 0,
              "ticks": ""
             }
            },
            "type": "scatter3d"
           }
          ],
          "scattercarpet": [
           {
            "marker": {
             "colorbar": {
              "outlinewidth": 0,
              "ticks": ""
             }
            },
            "type": "scattercarpet"
           }
          ],
          "scattergeo": [
           {
            "marker": {
             "colorbar": {
              "outlinewidth": 0,
              "ticks": ""
             }
            },
            "type": "scattergeo"
           }
          ],
          "scattergl": [
           {
            "marker": {
             "colorbar": {
              "outlinewidth": 0,
              "ticks": ""
             }
            },
            "type": "scattergl"
           }
          ],
          "scattermapbox": [
           {
            "marker": {
             "colorbar": {
              "outlinewidth": 0,
              "ticks": ""
             }
            },
            "type": "scattermapbox"
           }
          ],
          "scatterpolar": [
           {
            "marker": {
             "colorbar": {
              "outlinewidth": 0,
              "ticks": ""
             }
            },
            "type": "scatterpolar"
           }
          ],
          "scatterpolargl": [
           {
            "marker": {
             "colorbar": {
              "outlinewidth": 0,
              "ticks": ""
             }
            },
            "type": "scatterpolargl"
           }
          ],
          "scatterternary": [
           {
            "marker": {
             "colorbar": {
              "outlinewidth": 0,
              "ticks": ""
             }
            },
            "type": "scatterternary"
           }
          ],
          "surface": [
           {
            "colorbar": {
             "outlinewidth": 0,
             "ticks": ""
            },
            "colorscale": [
             [
              0,
              "#0d0887"
             ],
             [
              0.1111111111111111,
              "#46039f"
             ],
             [
              0.2222222222222222,
              "#7201a8"
             ],
             [
              0.3333333333333333,
              "#9c179e"
             ],
             [
              0.4444444444444444,
              "#bd3786"
             ],
             [
              0.5555555555555556,
              "#d8576b"
             ],
             [
              0.6666666666666666,
              "#ed7953"
             ],
             [
              0.7777777777777778,
              "#fb9f3a"
             ],
             [
              0.8888888888888888,
              "#fdca26"
             ],
             [
              1,
              "#f0f921"
             ]
            ],
            "type": "surface"
           }
          ],
          "table": [
           {
            "cells": {
             "fill": {
              "color": "#EBF0F8"
             },
             "line": {
              "color": "white"
             }
            },
            "header": {
             "fill": {
              "color": "#C8D4E3"
             },
             "line": {
              "color": "white"
             }
            },
            "type": "table"
           }
          ]
         },
         "layout": {
          "annotationdefaults": {
           "arrowcolor": "#2a3f5f",
           "arrowhead": 0,
           "arrowwidth": 1
          },
          "coloraxis": {
           "colorbar": {
            "outlinewidth": 0,
            "ticks": ""
           }
          },
          "colorscale": {
           "diverging": [
            [
             0,
             "#8e0152"
            ],
            [
             0.1,
             "#c51b7d"
            ],
            [
             0.2,
             "#de77ae"
            ],
            [
             0.3,
             "#f1b6da"
            ],
            [
             0.4,
             "#fde0ef"
            ],
            [
             0.5,
             "#f7f7f7"
            ],
            [
             0.6,
             "#e6f5d0"
            ],
            [
             0.7,
             "#b8e186"
            ],
            [
             0.8,
             "#7fbc41"
            ],
            [
             0.9,
             "#4d9221"
            ],
            [
             1,
             "#276419"
            ]
           ],
           "sequential": [
            [
             0,
             "#0d0887"
            ],
            [
             0.1111111111111111,
             "#46039f"
            ],
            [
             0.2222222222222222,
             "#7201a8"
            ],
            [
             0.3333333333333333,
             "#9c179e"
            ],
            [
             0.4444444444444444,
             "#bd3786"
            ],
            [
             0.5555555555555556,
             "#d8576b"
            ],
            [
             0.6666666666666666,
             "#ed7953"
            ],
            [
             0.7777777777777778,
             "#fb9f3a"
            ],
            [
             0.8888888888888888,
             "#fdca26"
            ],
            [
             1,
             "#f0f921"
            ]
           ],
           "sequentialminus": [
            [
             0,
             "#0d0887"
            ],
            [
             0.1111111111111111,
             "#46039f"
            ],
            [
             0.2222222222222222,
             "#7201a8"
            ],
            [
             0.3333333333333333,
             "#9c179e"
            ],
            [
             0.4444444444444444,
             "#bd3786"
            ],
            [
             0.5555555555555556,
             "#d8576b"
            ],
            [
             0.6666666666666666,
             "#ed7953"
            ],
            [
             0.7777777777777778,
             "#fb9f3a"
            ],
            [
             0.8888888888888888,
             "#fdca26"
            ],
            [
             1,
             "#f0f921"
            ]
           ]
          },
          "colorway": [
           "#636efa",
           "#EF553B",
           "#00cc96",
           "#ab63fa",
           "#FFA15A",
           "#19d3f3",
           "#FF6692",
           "#B6E880",
           "#FF97FF",
           "#FECB52"
          ],
          "font": {
           "color": "#2a3f5f"
          },
          "geo": {
           "bgcolor": "white",
           "lakecolor": "white",
           "landcolor": "#E5ECF6",
           "showlakes": true,
           "showland": true,
           "subunitcolor": "white"
          },
          "hoverlabel": {
           "align": "left"
          },
          "hovermode": "closest",
          "mapbox": {
           "style": "light"
          },
          "paper_bgcolor": "white",
          "plot_bgcolor": "#E5ECF6",
          "polar": {
           "angularaxis": {
            "gridcolor": "white",
            "linecolor": "white",
            "ticks": ""
           },
           "bgcolor": "#E5ECF6",
           "radialaxis": {
            "gridcolor": "white",
            "linecolor": "white",
            "ticks": ""
           }
          },
          "scene": {
           "xaxis": {
            "backgroundcolor": "#E5ECF6",
            "gridcolor": "white",
            "gridwidth": 2,
            "linecolor": "white",
            "showbackground": true,
            "ticks": "",
            "zerolinecolor": "white"
           },
           "yaxis": {
            "backgroundcolor": "#E5ECF6",
            "gridcolor": "white",
            "gridwidth": 2,
            "linecolor": "white",
            "showbackground": true,
            "ticks": "",
            "zerolinecolor": "white"
           },
           "zaxis": {
            "backgroundcolor": "#E5ECF6",
            "gridcolor": "white",
            "gridwidth": 2,
            "linecolor": "white",
            "showbackground": true,
            "ticks": "",
            "zerolinecolor": "white"
           }
          },
          "shapedefaults": {
           "line": {
            "color": "#2a3f5f"
           }
          },
          "ternary": {
           "aaxis": {
            "gridcolor": "white",
            "linecolor": "white",
            "ticks": ""
           },
           "baxis": {
            "gridcolor": "white",
            "linecolor": "white",
            "ticks": ""
           },
           "bgcolor": "#E5ECF6",
           "caxis": {
            "gridcolor": "white",
            "linecolor": "white",
            "ticks": ""
           }
          },
          "title": {
           "x": 0.05
          },
          "xaxis": {
           "automargin": true,
           "gridcolor": "white",
           "linecolor": "white",
           "ticks": "",
           "title": {
            "standoff": 15
           },
           "zerolinecolor": "white",
           "zerolinewidth": 2
          },
          "yaxis": {
           "automargin": true,
           "gridcolor": "white",
           "linecolor": "white",
           "ticks": "",
           "title": {
            "standoff": 15
           },
           "zerolinecolor": "white",
           "zerolinewidth": 2
          }
         }
        },
        "title": {
         "text": "Portfolio Stocks"
        },
        "xaxis": {
         "anchor": "y",
         "domain": [
          0,
          1
         ],
         "rangeselector": {
          "buttons": [
           {
            "count": 1,
            "label": "1m",
            "step": "month",
            "stepmode": "backward"
           },
           {
            "count": 6,
            "label": "6m",
            "step": "month",
            "stepmode": "backward"
           },
           {
            "count": 1,
            "label": "YTD",
            "step": "year",
            "stepmode": "todate"
           },
           {
            "count": 1,
            "label": "1y",
            "step": "year",
            "stepmode": "backward"
           },
           {
            "step": "all"
           }
          ]
         },
         "rangeslider": {
          "visible": true
         },
         "title": {
          "text": "date"
         }
        },
        "yaxis": {
         "anchor": "x",
         "domain": [
          0,
          1
         ],
         "range": [
          -22.93,
          27.83
         ],
         "title": {
          "text": "total_pct_gain"
         }
        }
       }
      },
      "text/html": [
       "<div>\n",
       "        \n",
       "        \n",
       "            <div id=\"e9cc0b4d-2e05-4330-9cee-55eeefde98b2\" class=\"plotly-graph-div\" style=\"height:700px; width:100%;\"></div>\n",
       "            <script type=\"text/javascript\">\n",
       "                require([\"plotly\"], function(Plotly) {\n",
       "                    window.PLOTLYENV=window.PLOTLYENV || {};\n",
       "                    \n",
       "                if (document.getElementById(\"e9cc0b4d-2e05-4330-9cee-55eeefde98b2\")) {\n",
       "                    Plotly.newPlot(\n",
       "                        'e9cc0b4d-2e05-4330-9cee-55eeefde98b2',\n",
       "                        [{\"customdata\": [[0.0, 0.0, 0.0, 0.0, 0.0, 0.0, 0.0, 0.0, 40.03, 40.6, 40.62, 39.9, 125124.0, 0.0, 0.0, \"VanEck Vectors Video Gaming & eSports ETF\"], [0.0, 0.0, 0.0, 0.0, 0.0, 0.0, 0.0, 0.0, 41.58, 41.62, 42.0, 41.3, 178144.0, 0.0, 0.0, \"VanEck Vectors Video Gaming & eSports ETF\"], [0.0, 0.0, 0.0, 0.0, 0.0, 0.0, 0.0, 0.0, 41.42, 42.09, 42.3, 41.19, 159519.0, 0.0, 0.0, \"VanEck Vectors Video Gaming & eSports ETF\"], [128.19, 128.61, 0.42, 0.33, 0.0, 0.0, 0.42, 0.33, 42.73, 42.87, 43.12, 42.31, 219459.0, 3.0, 42.73, \"VanEck Vectors Video Gaming & eSports ETF\"], [128.19, 128.36, 0.17, 0.13, 0.0, 0.0, 0.17, 0.13, 43.23, 42.79, 43.23, 42.4, 107302.0, 3.0, 42.73, \"VanEck Vectors Video Gaming & eSports ETF\"], [1031.19, 1023.6, -7.59, -0.74, 0.0, 0.0, -7.59, -0.74, 42.54, 42.65, 43.12, 42.5, 173348.0, 24.0, 42.97, \"VanEck Vectors Video Gaming & eSports ETF\"], [1031.19, 996.0, -35.19, -3.41, 0.0, 0.0, -35.19, -3.41, 42.39, 41.5, 42.39, 41.08, 120400.0, 24.0, 42.97, \"VanEck Vectors Video Gaming & eSports ETF\"], [1031.19, 1021.2, -9.99, -0.97, 0.0, 0.0, -9.99, -0.97, 42.35, 42.55, 42.74, 41.82, 71663.0, 24.0, 42.97, \"VanEck Vectors Video Gaming & eSports ETF\"], [1031.19, 1015.32, -15.87, -1.54, 0.0, 0.0, -15.87, -1.54, 42.92, 42.3, 42.92, 42.15, 65168.0, 24.0, 42.97, \"VanEck Vectors Video Gaming & eSports ETF\"], [1031.19, 1023.6, -7.59, -0.74, 0.0, 0.0, -7.59, -0.74, 42.44, 42.65, 42.82, 42.17, 84878.0, 24.0, 42.97, \"VanEck Vectors Video Gaming & eSports ETF\"], [1031.19, 1034.4, 3.21, 0.31, 0.0, 0.0, 3.21, 0.31, 43.03, 43.1, 43.31, 42.87, 71298.0, 24.0, 42.97, \"VanEck Vectors Video Gaming & eSports ETF\"], [1031.19, 1015.44, -15.75, -1.53, 0.0, 0.0, -15.75, -1.53, 43.67, 42.31, 43.67, 42.31, 76189.0, 24.0, 42.97, \"VanEck Vectors Video Gaming & eSports ETF\"], [1031.19, 1029.6, -1.59, -0.15, 0.0, 0.0, -1.59, -0.15, 42.91, 42.9, 43.1, 42.5, 62845.0, 24.0, 42.97, \"VanEck Vectors Video Gaming & eSports ETF\"], [1031.19, 999.84, -31.35, -3.04, 0.0, 0.0, -31.35, -3.04, 42.45, 41.66, 42.45, 41.6, 152485.0, 24.0, 42.97, \"VanEck Vectors Video Gaming & eSports ETF\"], [1031.19, 983.76, -47.43, -4.6, 0.0, 0.0, -47.43, -4.6, 41.12, 40.99, 41.41, 40.78, 46394.0, 24.0, 42.97, \"VanEck Vectors Video Gaming & eSports ETF\"], [1031.19, 1005.12, -26.07, -2.53, 0.0, 0.0, -26.07, -2.53, 41.02, 41.88, 41.88, 41.01, 43815.0, 24.0, 42.97, \"VanEck Vectors Video Gaming & eSports ETF\"], [1031.19, 1017.36, -13.83, -1.34, 0.0, 0.0, -13.83, -1.34, 42.45, 42.39, 42.71, 42.12, 81778.0, 24.0, 42.97, \"VanEck Vectors Video Gaming & eSports ETF\"], [1031.19, 1024.32, -6.87, -0.67, 0.0, 0.0, -6.87, -0.67, 42.61, 42.68, 43.14, 42.5, 57745.0, 24.0, 42.97, \"VanEck Vectors Video Gaming & eSports ETF\"], [1031.19, 1040.88, 9.69, 0.94, 0.0, 0.0, 9.69, 0.94, 43.46, 43.37, 43.58, 43.02, 117757.0, 24.0, 42.97, \"VanEck Vectors Video Gaming & eSports ETF\"], [1031.19, 1052.4, 21.21, 2.06, 0.0, 0.0, 21.21, 2.06, 43.73, 43.85, 43.98, 43.5, 86489.0, 24.0, 42.97, \"VanEck Vectors Video Gaming & eSports ETF\"], [1031.19, 1070.16, 38.97, 3.78, 0.0, 0.0, 38.97, 3.78, 43.95, 44.59, 44.7, 43.95, 160192.0, 24.0, 42.97, \"VanEck Vectors Video Gaming & eSports ETF\"], [1031.19, 1062.72, 31.53, 3.06, 0.0, 0.0, 31.53, 3.06, 45.13, 44.28, 45.3, 44.28, 139472.0, 24.0, 42.97, \"VanEck Vectors Video Gaming & eSports ETF\"], [1252.99, 1290.5, 37.51, 2.99, 0.0, 0.0, 37.51, 2.99, 44.45, 44.5, 45.33, 44.09, 120612.0, 29.0, 43.21, \"VanEck Vectors Video Gaming & eSports ETF\"], [1252.99, 1298.62, 45.63, 3.64, 0.0, 0.0, 45.63, 3.64, 44.18, 44.78, 44.78, 43.87, 97210.0, 29.0, 43.21, \"VanEck Vectors Video Gaming & eSports ETF\"], [1252.99, 1313.7, 60.71, 4.85, 0.0, 0.0, 60.71, 4.85, 44.54, 45.3, 45.3, 44.26, 117869.0, 29.0, 43.21, \"VanEck Vectors Video Gaming & eSports ETF\"], [1252.99, 1340.96, 87.97, 7.02, 0.0, 0.0, 87.97, 7.02, 45.78, 46.24, 46.35, 45.55, 192583.0, 29.0, 43.21, \"VanEck Vectors Video Gaming & eSports ETF\"], [1252.99, 1342.12, 89.13, 7.11, 0.0, 0.0, 89.13, 7.11, 46.07, 46.28, 46.76, 45.98, 116990.0, 29.0, 43.21, \"VanEck Vectors Video Gaming & eSports ETF\"], [1252.99, 1363.87, 110.88, 8.85, 0.0, 0.0, 110.88, 8.85, 46.81, 47.03, 47.48, 46.8, 140962.0, 29.0, 43.21, \"VanEck Vectors Video Gaming & eSports ETF\"], [1252.99, 1362.13, 109.14, 8.71, 0.0, 0.0, 109.14, 8.71, 47.08, 46.97, 47.46, 46.64, 126031.0, 29.0, 43.21, \"VanEck Vectors Video Gaming & eSports ETF\"], [1252.99, 1363.29, 110.3, 8.8, 0.0, 0.0, 110.3, 8.8, 46.88, 47.01, 47.14, 46.5, 85937.0, 29.0, 43.21, \"VanEck Vectors Video Gaming & eSports ETF\"], [1444.71, 1549.03, 104.31, 7.22, 0.0, 0.0, 104.31, 7.22, 47.93, 46.94, 47.94, 46.85, 139843.0, 33.0, 43.78, \"VanEck Vectors Video Gaming & eSports ETF\"], [1444.71, 1518.33, 73.62, 5.1, 0.0, 0.0, 73.62, 5.1, 46.71, 46.01, 46.71, 44.97, 225051.0, 33.0, 43.78, \"VanEck Vectors Video Gaming & eSports ETF\"], [1444.71, 1509.42, 64.71, 4.48, 0.0, 0.0, 64.71, 4.48, 45.73, 45.74, 46.54, 45.66, 137632.0, 33.0, 43.78, \"VanEck Vectors Video Gaming & eSports ETF\"], [1444.71, 1563.87, 119.16, 8.25, 0.0, 0.0, 119.16, 8.25, 46.1, 47.39, 47.39, 46.0, 131650.0, 33.0, 43.78, \"VanEck Vectors Video Gaming & eSports ETF\"], [1444.71, 1590.93, 146.22, 10.12, 0.0, 0.0, 146.22, 10.12, 47.64, 48.21, 48.25, 47.4, 165327.0, 33.0, 43.78, \"VanEck Vectors Video Gaming & eSports ETF\"], [1444.71, 1588.95, 144.24, 9.98, 0.0, 0.0, 144.24, 9.98, 48.36, 48.15, 48.4, 48.05, 0.0, 33.0, 43.78, \"VanEck Vectors Video Gaming & eSports ETF\"]], \"hovertemplate\": \"<b>%{hovertext}</b><br><br>symbol=ESPO<br>date=%{x}<br>total_pct_gain=%{customdata[7]}<br>invested_amount=%{customdata[0]}<br>market_value=%{customdata[1]}<br>unrealized_gain=%{customdata[2]}<br>unrealized_pct_gain=%{customdata[3]}<br>realized_gain=%{customdata[4]}<br>realized_pct_gain=%{customdata[5]}<br>total_gain=%{customdata[6]}<br>open=%{customdata[8]}<br>close=%{customdata[9]}<br>high=%{customdata[10]}<br>low=%{customdata[11]}<br>volume=%{customdata[12]}<br>quantity=%{customdata[13]}<br>average_cost=%{customdata[14]}<br>company_name=%{customdata[15]}<extra></extra>\", \"hovertext\": [\"ESPO\", \"ESPO\", \"ESPO\", \"ESPO\", \"ESPO\", \"ESPO\", \"ESPO\", \"ESPO\", \"ESPO\", \"ESPO\", \"ESPO\", \"ESPO\", \"ESPO\", \"ESPO\", \"ESPO\", \"ESPO\", \"ESPO\", \"ESPO\", \"ESPO\", \"ESPO\", \"ESPO\", \"ESPO\", \"ESPO\", \"ESPO\", \"ESPO\", \"ESPO\", \"ESPO\", \"ESPO\", \"ESPO\", \"ESPO\", \"ESPO\", \"ESPO\", \"ESPO\", \"ESPO\", \"ESPO\", \"ESPO\"], \"legendgroup\": \"ESPO\", \"line\": {\"color\": \"#636efa\", \"dash\": \"solid\"}, \"mode\": \"lines\", \"name\": \"ESPO\", \"showlegend\": true, \"type\": \"scatter\", \"x\": [\"2020-04-13T00:00:00\", \"2020-04-14T00:00:00\", \"2020-04-15T00:00:00\", \"2020-04-16T00:00:00\", \"2020-04-17T00:00:00\", \"2020-04-20T00:00:00\", \"2020-04-21T00:00:00\", \"2020-04-22T00:00:00\", \"2020-04-23T00:00:00\", \"2020-04-24T00:00:00\", \"2020-04-27T00:00:00\", \"2020-04-28T00:00:00\", \"2020-04-29T00:00:00\", \"2020-04-30T00:00:00\", \"2020-05-01T00:00:00\", \"2020-05-04T00:00:00\", \"2020-05-05T00:00:00\", \"2020-05-06T00:00:00\", \"2020-05-07T00:00:00\", \"2020-05-08T00:00:00\", \"2020-05-11T00:00:00\", \"2020-05-12T00:00:00\", \"2020-05-13T00:00:00\", \"2020-05-14T00:00:00\", \"2020-05-15T00:00:00\", \"2020-05-18T00:00:00\", \"2020-05-19T00:00:00\", \"2020-05-20T00:00:00\", \"2020-05-21T00:00:00\", \"2020-05-22T00:00:00\", \"2020-05-26T00:00:00\", \"2020-05-27T00:00:00\", \"2020-05-28T00:00:00\", \"2020-05-29T00:00:00\", \"2020-06-01T00:00:00\", \"2020-06-02T15:02:47\"], \"xaxis\": \"x\", \"y\": [0.0, 0.0, 0.0, 0.33, 0.13, -0.74, -3.41, -0.97, -1.54, -0.74, 0.31, -1.53, -0.15, -3.04, -4.6, -2.53, -1.34, -0.67, 0.94, 2.06, 3.78, 3.06, 2.99, 3.64, 4.85, 7.02, 7.11, 8.85, 8.71, 8.8, 7.22, 5.1, 4.48, 8.25, 10.12, 9.98], \"yaxis\": \"y\"}, {\"customdata\": [[0.0, 0.0, 0.0, 0.0, 0.0, 0.0, 0.0, 0.0, 17.02, 17.09, 17.18, 16.78, 27305.0, 0.0, 0.0, \"Global X Video Games & Esports ETF\"], [0.0, 0.0, 0.0, 0.0, 0.0, 0.0, 0.0, 0.0, 17.54, 17.6, 17.8, 17.36, 21322.0, 0.0, 0.0, \"Global X Video Games & Esports ETF\"], [0.0, 0.0, 0.0, 0.0, 0.0, 0.0, 0.0, 0.0, 17.34, 17.58, 17.79, 17.3, 14844.0, 0.0, 0.0, \"Global X Video Games & Esports ETF\"], [125.44, 127.33, 1.89, 1.51, 0.0, 0.0, 1.89, 1.51, 17.91, 18.19, 18.19, 17.85, 34850.0, 7.0, 17.92, \"Global X Video Games & Esports ETF\"], [125.44, 126.53, 1.09, 0.87, 0.0, 0.0, 1.09, 0.87, 18.44, 18.08, 18.44, 17.8, 22644.0, 7.0, 17.92, \"Global X Video Games & Esports ETF\"], [1031.19, 1027.45, -3.74, -0.36, 0.0, 0.0, -3.74, -0.36, 18.2, 18.03, 18.2, 17.98, 40200.0, 57.0, 18.09, \"Global X Video Games & Esports ETF\"], [1031.19, 1005.76, -25.42, -2.47, 0.0, 0.0, -25.42, -2.47, 18.05, 17.64, 18.05, 17.35, 29536.0, 57.0, 18.09, \"Global X Video Games & Esports ETF\"], [1031.19, 1016.26, -14.93, -1.45, 0.0, 0.0, -14.93, -1.45, 17.98, 17.83, 17.98, 17.58, 16373.0, 57.0, 18.09, \"Global X Video Games & Esports ETF\"], [1031.19, 1011.75, -19.44, -1.89, 0.0, 0.0, -19.44, -1.89, 18.05, 17.75, 18.05, 17.74, 36130.0, 57.0, 18.09, \"Global X Video Games & Esports ETF\"], [1031.19, 1020.36, -10.83, -1.05, 0.0, 0.0, -10.83, -1.05, 17.91, 17.9, 18.06, 17.65, 131627.0, 57.0, 18.09, \"Global X Video Games & Esports ETF\"], [1031.19, 1030.56, -0.63, -0.06, 0.0, 0.0, -0.63, -0.06, 18.0, 18.08, 18.27, 18.0, 23707.0, 57.0, 18.09, \"Global X Video Games & Esports ETF\"], [1031.19, 1019.16, -12.03, -1.17, 0.0, 0.0, -12.03, -1.17, 18.64, 17.88, 18.64, 17.88, 13208.0, 57.0, 18.09, \"Global X Video Games & Esports ETF\"], [1031.19, 1036.26, 5.07, 0.49, 0.0, 0.0, 5.07, 0.49, 18.14, 18.18, 18.29, 18.0, 21445.0, 57.0, 18.09, \"Global X Video Games & Esports ETF\"], [1031.19, 1013.46, -17.73, -1.72, 0.0, 0.0, -17.73, -1.72, 17.84, 17.78, 18.02, 17.74, 18679.0, 57.0, 18.09, \"Global X Video Games & Esports ETF\"], [1031.19, 995.22, -35.97, -3.49, 0.0, 0.0, -35.97, -3.49, 17.72, 17.46, 17.72, 17.28, 22958.0, 57.0, 18.09, \"Global X Video Games & Esports ETF\"], [1031.19, 999.21, -31.98, -3.1, 0.0, 0.0, -31.98, -3.1, 17.29, 17.53, 17.62, 17.29, 875464.0, 57.0, 18.09, \"Global X Video Games & Esports ETF\"], [1031.19, 1020.3, -10.89, -1.06, 0.0, 0.0, -10.89, -1.06, 17.81, 17.9, 18.12, 17.8, 20084.0, 57.0, 18.09, \"Global X Video Games & Esports ETF\"], [1031.19, 1030.84, -0.34, -0.03, 0.0, 0.0, -0.34, -0.03, 17.98, 18.08, 18.28, 17.98, 31564.0, 57.0, 18.09, \"Global X Video Games & Esports ETF\"], [1031.19, 1052.5, 21.32, 2.07, 0.0, 0.0, 21.32, 2.07, 18.47, 18.46, 18.5, 18.23, 19331.0, 57.0, 18.09, \"Global X Video Games & Esports ETF\"], [1031.19, 1066.81, 35.62, 3.45, 0.0, 0.0, 35.62, 3.45, 18.47, 18.72, 18.75, 18.47, 31706.0, 57.0, 18.09, \"Global X Video Games & Esports ETF\"], [1031.19, 1073.88, 42.69, 4.14, 0.0, 0.0, 42.69, 4.14, 18.73, 18.84, 18.91, 18.52, 25456.0, 57.0, 18.09, \"Global X Video Games & Esports ETF\"], [1031.19, 1076.73, 45.54, 4.42, 0.0, 0.0, 45.54, 4.42, 19.08, 18.89, 19.24, 18.88, 51441.0, 57.0, 18.09, \"Global X Video Games & Esports ETF\"], [1237.99, 1277.88, 39.89, 3.22, 0.0, 0.0, 39.89, 3.22, 19.08, 18.79, 19.2, 18.66, 20489.0, 68.0, 18.21, \"Global X Video Games & Esports ETF\"], [1237.99, 1291.87, 53.88, 4.35, 0.0, 0.0, 53.88, 4.35, 18.87, 19.0, 19.0, 18.62, 22047.0, 68.0, 18.21, \"Global X Video Games & Esports ETF\"], [1237.99, 1307.94, 69.95, 5.65, 0.0, 0.0, 69.95, 5.65, 19.02, 19.23, 19.23, 18.92, 25061.0, 68.0, 18.21, \"Global X Video Games & Esports ETF\"], [1237.99, 1347.08, 109.09, 8.81, 0.0, 0.0, 109.09, 8.81, 19.71, 19.81, 19.87, 19.37, 58505.0, 68.0, 18.21, \"Global X Video Games & Esports ETF\"], [1237.99, 1352.52, 114.53, 9.25, 0.0, 0.0, 114.53, 9.25, 19.66, 19.89, 19.99, 19.65, 42659.0, 68.0, 18.21, \"Global X Video Games & Esports ETF\"], [1237.99, 1364.42, 126.43, 10.21, 0.0, 0.0, 126.43, 10.21, 20.26, 20.07, 20.36, 20.02, 53050.0, 68.0, 18.21, \"Global X Video Games & Esports ETF\"], [1237.99, 1367.48, 129.49, 10.46, 0.0, 0.0, 129.49, 10.46, 20.26, 20.11, 20.26, 19.8, 35502.0, 68.0, 18.21, \"Global X Video Games & Esports ETF\"], [1237.99, 1370.19, 132.2, 10.68, 0.0, 0.0, 132.2, 10.68, 20.25, 20.15, 20.27, 19.94, 31038.0, 68.0, 18.21, \"Global X Video Games & Esports ETF\"], [1520.37, 1657.22, 136.85, 9.0, 0.0, 0.0, 136.85, 9.0, 20.6, 20.21, 20.6, 20.06, 55611.0, 82.0, 18.54, \"Global X Video Games & Esports ETF\"], [1520.37, 1635.08, 114.71, 7.54, 0.0, 0.0, 114.71, 7.54, 20.35, 19.94, 20.35, 19.29, 1723710.0, 82.0, 18.54, \"Global X Video Games & Esports ETF\"], [1520.37, 1618.68, 98.31, 6.47, 0.0, 0.0, 98.31, 6.47, 19.95, 19.74, 20.1, 19.71, 29809.0, 82.0, 18.54, \"Global X Video Games & Esports ETF\"], [1520.37, 1672.39, 152.02, 10.0, 0.0, 0.0, 152.02, 10.0, 19.88, 20.4, 20.46, 19.81, 43823.0, 82.0, 18.54, \"Global X Video Games & Esports ETF\"], [1520.37, 1709.86, 189.49, 12.46, 0.0, 0.0, 189.49, 12.46, 20.52, 20.85, 20.92, 20.52, 57933.0, 82.0, 18.54, \"Global X Video Games & Esports ETF\"], [1520.37, 1708.47, 188.1, 12.37, 0.0, 0.0, 188.1, 12.37, 20.99, 20.84, 21.0, 20.73, 0.0, 82.0, 18.54, \"Global X Video Games & Esports ETF\"]], \"hovertemplate\": \"<b>%{hovertext}</b><br><br>symbol=HERO<br>date=%{x}<br>total_pct_gain=%{customdata[7]}<br>invested_amount=%{customdata[0]}<br>market_value=%{customdata[1]}<br>unrealized_gain=%{customdata[2]}<br>unrealized_pct_gain=%{customdata[3]}<br>realized_gain=%{customdata[4]}<br>realized_pct_gain=%{customdata[5]}<br>total_gain=%{customdata[6]}<br>open=%{customdata[8]}<br>close=%{customdata[9]}<br>high=%{customdata[10]}<br>low=%{customdata[11]}<br>volume=%{customdata[12]}<br>quantity=%{customdata[13]}<br>average_cost=%{customdata[14]}<br>company_name=%{customdata[15]}<extra></extra>\", \"hovertext\": [\"HERO\", \"HERO\", \"HERO\", \"HERO\", \"HERO\", \"HERO\", \"HERO\", \"HERO\", \"HERO\", \"HERO\", \"HERO\", \"HERO\", \"HERO\", \"HERO\", \"HERO\", \"HERO\", \"HERO\", \"HERO\", \"HERO\", \"HERO\", \"HERO\", \"HERO\", \"HERO\", \"HERO\", \"HERO\", \"HERO\", \"HERO\", \"HERO\", \"HERO\", \"HERO\", \"HERO\", \"HERO\", \"HERO\", \"HERO\", \"HERO\", \"HERO\"], \"legendgroup\": \"HERO\", \"line\": {\"color\": \"#EF553B\", \"dash\": \"solid\"}, \"mode\": \"lines\", \"name\": \"HERO\", \"showlegend\": true, \"type\": \"scatter\", \"x\": [\"2020-04-13T00:00:00\", \"2020-04-14T00:00:00\", \"2020-04-15T00:00:00\", \"2020-04-16T00:00:00\", \"2020-04-17T00:00:00\", \"2020-04-20T00:00:00\", \"2020-04-21T00:00:00\", \"2020-04-22T00:00:00\", \"2020-04-23T00:00:00\", \"2020-04-24T00:00:00\", \"2020-04-27T00:00:00\", \"2020-04-28T00:00:00\", \"2020-04-29T00:00:00\", \"2020-04-30T00:00:00\", \"2020-05-01T00:00:00\", \"2020-05-04T00:00:00\", \"2020-05-05T00:00:00\", \"2020-05-06T00:00:00\", \"2020-05-07T00:00:00\", \"2020-05-08T00:00:00\", \"2020-05-11T00:00:00\", \"2020-05-12T00:00:00\", \"2020-05-13T00:00:00\", \"2020-05-14T00:00:00\", \"2020-05-15T00:00:00\", \"2020-05-18T00:00:00\", \"2020-05-19T00:00:00\", \"2020-05-20T00:00:00\", \"2020-05-21T00:00:00\", \"2020-05-22T00:00:00\", \"2020-05-26T00:00:00\", \"2020-05-27T00:00:00\", \"2020-05-28T00:00:00\", \"2020-05-29T00:00:00\", \"2020-06-01T00:00:00\", \"2020-06-02T15:02:47\"], \"xaxis\": \"x\", \"y\": [0.0, 0.0, 0.0, 1.51, 0.87, -0.36, -2.47, -1.45, -1.89, -1.05, -0.06, -1.17, 0.49, -1.72, -3.49, -3.1, -1.06, -0.03, 2.07, 3.45, 4.14, 4.42, 3.22, 4.35, 5.65, 8.81, 9.25, 10.21, 10.46, 10.68, 9.0, 7.54, 6.47, 10.0, 12.46, 12.37], \"yaxis\": \"y\"}, {\"customdata\": [[0.0, 0.0, 0.0, 0.0, 0.0, 0.0, 0.0, 0.0, 146.76, 145.77, 147.06, 144.37, 257362.0, 0.0, 0.0, \"Vanguard Consumer Staples Index Fund\"], [0.0, 0.0, 0.0, 0.0, 0.0, 0.0, 0.0, 0.0, 147.86, 151.79, 151.87, 147.85, 850466.0, 0.0, 0.0, \"Vanguard Consumer Staples Index Fund\"], [0.0, 0.0, 0.0, 0.0, 0.0, 0.0, 0.0, 0.0, 149.17, 149.22, 151.23, 148.08, 225653.0, 0.0, 0.0, \"Vanguard Consumer Staples Index Fund\"], [299.9, 300.58, 0.68, 0.23, 0.0, 0.0, 0.68, 0.23, 149.95, 150.29, 150.73, 148.09, 195404.0, 2.0, 149.95, \"Vanguard Consumer Staples Index Fund\"], [299.9, 305.04, 5.14, 1.71, 0.0, 0.0, 5.14, 1.71, 152.42, 152.52, 153.05, 150.21, 230577.0, 2.0, 149.95, \"Vanguard Consumer Staples Index Fund\"], [2123.18, 2094.4, -28.78, -1.36, 0.0, 0.0, -28.78, -1.36, 151.11, 149.6, 152.28, 149.6, 211365.0, 14.0, 151.66, \"Vanguard Consumer Staples Index Fund\"], [2123.18, 2051.98, -71.2, -3.35, 0.0, 0.0, -71.2, -3.35, 147.55, 146.57, 148.26, 146.04, 179815.0, 14.0, 151.66, \"Vanguard Consumer Staples Index Fund\"], [2123.18, 2072.0, -51.18, -2.41, 0.0, 0.0, -51.18, -2.41, 148.42, 148.0, 148.94, 147.01, 186897.0, 14.0, 151.66, \"Vanguard Consumer Staples Index Fund\"], [2123.18, 2058.98, -64.2, -3.02, 0.0, 0.0, -64.2, -3.02, 148.05, 147.07, 148.78, 146.78, 142867.0, 14.0, 151.66, \"Vanguard Consumer Staples Index Fund\"], [2123.18, 2079.0, -44.18, -2.08, 0.0, 0.0, -44.18, -2.08, 147.9, 148.5, 149.0, 147.36, 118919.0, 14.0, 151.66, \"Vanguard Consumer Staples Index Fund\"], [2123.18, 2092.3, -30.88, -1.45, 0.0, 0.0, -30.88, -1.45, 149.43, 149.45, 150.0, 148.68, 451568.0, 14.0, 151.66, \"Vanguard Consumer Staples Index Fund\"], [2123.18, 2103.08, -20.1, -0.95, 0.0, 0.0, -20.1, -0.95, 151.38, 150.22, 151.38, 149.65, 141564.0, 14.0, 151.66, \"Vanguard Consumer Staples Index Fund\"], [2123.18, 2098.74, -24.44, -1.15, 0.0, 0.0, -24.44, -1.15, 151.17, 149.91, 151.17, 148.9, 164790.0, 14.0, 151.66, \"Vanguard Consumer Staples Index Fund\"], [2123.18, 2071.58, -51.6, -2.43, 0.0, 0.0, -51.6, -2.43, 149.19, 147.97, 149.27, 147.16, 267150.0, 14.0, 151.66, \"Vanguard Consumer Staples Index Fund\"], [2123.18, 2046.66, -76.52, -3.6, 0.0, 0.0, -76.52, -3.6, 146.81, 146.19, 148.0, 145.56, 212430.0, 14.0, 151.66, \"Vanguard Consumer Staples Index Fund\"], [2123.18, 2045.82, -77.36, -3.64, 0.0, 0.0, -77.36, -3.64, 145.63, 146.13, 146.3, 144.57, 210362.0, 14.0, 151.66, \"Vanguard Consumer Staples Index Fund\"], [2123.18, 2048.9, -74.28, -3.5, 0.0, 0.0, -74.28, -3.5, 146.83, 146.35, 147.78, 146.18, 152959.0, 14.0, 151.66, \"Vanguard Consumer Staples Index Fund\"], [2123.18, 2026.92, -96.26, -4.53, 0.0, 0.0, -96.26, -4.53, 146.69, 144.78, 146.78, 144.66, 127050.0, 14.0, 151.66, \"Vanguard Consumer Staples Index Fund\"], [2123.18, 2022.44, -100.74, -4.74, 0.0, 0.0, -100.74, -4.74, 145.93, 144.46, 146.13, 144.29, 118832.0, 14.0, 151.66, \"Vanguard Consumer Staples Index Fund\"], [2123.18, 2071.3, -51.88, -2.44, 0.0, 0.0, -51.88, -2.44, 145.9, 147.95, 148.26, 145.9, 154185.0, 14.0, 151.66, \"Vanguard Consumer Staples Index Fund\"], [2123.18, 2065.7, -57.48, -2.71, 0.0, 0.0, -57.48, -2.71, 147.32, 147.55, 148.86, 147.29, 426025.0, 14.0, 151.66, \"Vanguard Consumer Staples Index Fund\"], [2123.18, 2048.06, -75.12, -3.54, 0.0, 0.0, -75.12, -3.54, 148.07, 146.29, 149.74, 146.29, 2471005.0, 14.0, 151.66, \"Vanguard Consumer Staples Index Fund\"], [2556.04, 2466.02, -90.01, -3.52, 0.0, 0.0, -90.01, -3.52, 146.23, 145.06, 146.95, 144.24, 211249.0, 17.0, 150.35, \"Vanguard Consumer Staples Index Fund\"], [2556.04, 2455.82, -100.21, -3.92, 0.0, 0.0, -100.21, -3.92, 144.15, 144.46, 144.86, 142.36, 272025.0, 17.0, 150.35, \"Vanguard Consumer Staples Index Fund\"], [2556.04, 2478.43, -77.61, -3.04, 0.0, 0.0, -77.61, -3.04, 144.43, 145.79, 146.27, 144.1, 188256.0, 17.0, 150.35, \"Vanguard Consumer Staples Index Fund\"], [2556.04, 2520.25, -35.78, -1.4, 0.0, 0.0, -35.78, -1.4, 148.11, 148.25, 149.03, 147.32, 162946.0, 17.0, 150.35, \"Vanguard Consumer Staples Index Fund\"], [2556.04, 2474.86, -81.17, -3.18, 0.0, 0.0, -81.17, -3.18, 148.49, 145.58, 148.49, 145.58, 353959.0, 17.0, 150.35, \"Vanguard Consumer Staples Index Fund\"], [2556.04, 2505.46, -50.57, -1.98, 0.0, 0.0, -50.57, -1.98, 147.06, 147.38, 147.46, 146.3, 96255.0, 17.0, 150.35, \"Vanguard Consumer Staples Index Fund\"], [2556.04, 2478.94, -77.09, -3.02, 0.0, 0.0, -77.09, -3.02, 147.11, 145.82, 147.12, 145.58, 177413.0, 17.0, 150.35, \"Vanguard Consumer Staples Index Fund\"], [2556.04, 2488.46, -67.57, -2.64, 0.0, 0.0, -67.57, -2.64, 146.18, 146.38, 146.38, 145.71, 126512.0, 17.0, 150.35, \"Vanguard Consumer Staples Index Fund\"], [2703.72, 2651.76, -51.97, -1.92, 0.0, 0.0, -51.97, -1.92, 148.7, 147.32, 148.73, 147.13, 245371.0, 18.0, 150.21, \"Vanguard Consumer Staples Index Fund\"], [2703.72, 2700.9, -2.82, -0.1, 0.0, 0.0, -2.82, -0.1, 148.7, 150.05, 150.05, 147.87, 190235.0, 18.0, 150.21, \"Vanguard Consumer Staples Index Fund\"], [2703.72, 2713.14, 9.41, 0.35, 0.0, 0.0, 9.41, 0.35, 151.2, 150.73, 151.82, 150.38, 228848.0, 18.0, 150.21, \"Vanguard Consumer Staples Index Fund\"], [2703.72, 2720.34, 16.62, 0.61, 0.0, 0.0, 16.62, 0.61, 150.33, 151.13, 151.46, 149.1, 155355.0, 18.0, 150.21, \"Vanguard Consumer Staples Index Fund\"], [2703.72, 2736.72, 32.99, 1.22, 0.0, 0.0, 32.99, 1.22, 150.98, 152.04, 152.68, 150.98, 156697.0, 18.0, 150.21, \"Vanguard Consumer Staples Index Fund\"], [2703.72, 2736.72, 32.99, 1.22, 0.0, 0.0, 32.99, 1.22, 152.39, 152.04, 152.67, 151.55, 0.0, 18.0, 150.21, \"Vanguard Consumer Staples Index Fund\"]], \"hovertemplate\": \"<b>%{hovertext}</b><br><br>symbol=VDC<br>date=%{x}<br>total_pct_gain=%{customdata[7]}<br>invested_amount=%{customdata[0]}<br>market_value=%{customdata[1]}<br>unrealized_gain=%{customdata[2]}<br>unrealized_pct_gain=%{customdata[3]}<br>realized_gain=%{customdata[4]}<br>realized_pct_gain=%{customdata[5]}<br>total_gain=%{customdata[6]}<br>open=%{customdata[8]}<br>close=%{customdata[9]}<br>high=%{customdata[10]}<br>low=%{customdata[11]}<br>volume=%{customdata[12]}<br>quantity=%{customdata[13]}<br>average_cost=%{customdata[14]}<br>company_name=%{customdata[15]}<extra></extra>\", \"hovertext\": [\"VDC\", \"VDC\", \"VDC\", \"VDC\", \"VDC\", \"VDC\", \"VDC\", \"VDC\", \"VDC\", \"VDC\", \"VDC\", \"VDC\", \"VDC\", \"VDC\", \"VDC\", \"VDC\", \"VDC\", \"VDC\", \"VDC\", \"VDC\", \"VDC\", \"VDC\", \"VDC\", \"VDC\", \"VDC\", \"VDC\", \"VDC\", \"VDC\", \"VDC\", \"VDC\", \"VDC\", \"VDC\", \"VDC\", \"VDC\", \"VDC\", \"VDC\"], \"legendgroup\": \"VDC\", \"line\": {\"color\": \"#00cc96\", \"dash\": \"solid\"}, \"mode\": \"lines\", \"name\": \"VDC\", \"showlegend\": true, \"type\": \"scatter\", \"x\": [\"2020-04-13T00:00:00\", \"2020-04-14T00:00:00\", \"2020-04-15T00:00:00\", \"2020-04-16T00:00:00\", \"2020-04-17T00:00:00\", \"2020-04-20T00:00:00\", \"2020-04-21T00:00:00\", \"2020-04-22T00:00:00\", \"2020-04-23T00:00:00\", \"2020-04-24T00:00:00\", \"2020-04-27T00:00:00\", \"2020-04-28T00:00:00\", \"2020-04-29T00:00:00\", \"2020-04-30T00:00:00\", \"2020-05-01T00:00:00\", \"2020-05-04T00:00:00\", \"2020-05-05T00:00:00\", \"2020-05-06T00:00:00\", \"2020-05-07T00:00:00\", \"2020-05-08T00:00:00\", \"2020-05-11T00:00:00\", \"2020-05-12T00:00:00\", \"2020-05-13T00:00:00\", \"2020-05-14T00:00:00\", \"2020-05-15T00:00:00\", \"2020-05-18T00:00:00\", \"2020-05-19T00:00:00\", \"2020-05-20T00:00:00\", \"2020-05-21T00:00:00\", \"2020-05-22T00:00:00\", \"2020-05-26T00:00:00\", \"2020-05-27T00:00:00\", \"2020-05-28T00:00:00\", \"2020-05-29T00:00:00\", \"2020-06-01T00:00:00\", \"2020-06-02T15:02:47\"], \"xaxis\": \"x\", \"y\": [0.0, 0.0, 0.0, 0.23, 1.71, -1.36, -3.35, -2.41, -3.02, -2.08, -1.45, -0.95, -1.15, -2.43, -3.6, -3.64, -3.5, -4.53, -4.74, -2.44, -2.71, -3.54, -3.52, -3.92, -3.04, -1.4, -3.18, -1.98, -3.02, -2.64, -1.92, -0.1, 0.35, 0.61, 1.22, 1.22], \"yaxis\": \"y\"}, {\"customdata\": [[0.0, 0.0, 0.0, 0.0, 0.0, 0.0, 0.0, 0.0, 60.28, 59.84, 60.3, 59.84, 1289.0, 0.0, 0.0, \"FlexShares Credit-Scored US Long Corporate Bond Index Fund\"], [0.0, 0.0, 0.0, 0.0, 0.0, 0.0, 0.0, 0.0, 60.5, 60.48, 60.84, 60.48, 1092.0, 0.0, 0.0, \"FlexShares Credit-Scored US Long Corporate Bond Index Fund\"], [0.0, 0.0, 0.0, 0.0, 0.0, 0.0, 0.0, 0.0, 62.74, 62.52, 62.79, 62.34, 3496.0, 0.0, 0.0, \"FlexShares Credit-Scored US Long Corporate Bond Index Fund\"], [119.98, 121.45, 1.47, 1.23, 0.0, 0.0, 1.47, 1.23, 61.53, 60.73, 61.53, 60.03, 6464.0, 2.0, 59.99, \"FlexShares Credit-Scored US Long Corporate Bond Index Fund\"], [119.98, 116.44, -3.54, -2.95, 0.0, 0.0, -3.54, -2.95, 58.22, 58.22, 58.22, 58.22, 244.0, 2.0, 59.99, \"FlexShares Credit-Scored US Long Corporate Bond Index Fund\"], [1009.03, 946.87, -62.17, -6.16, 0.0, 0.0, -62.17, -6.16, 58.41, 55.7, 58.41, 55.7, 727.0, 17.0, 59.35, \"FlexShares Credit-Scored US Long Corporate Bond Index Fund\"], [1009.03, 873.38, -135.66, -13.44, 0.0, 0.0, -135.66, -13.44, 55.28, 51.38, 55.91, 45.9, 11288.0, 17.0, 59.35, \"FlexShares Credit-Scored US Long Corporate Bond Index Fund\"], [1009.03, 942.19, -66.85, -6.62, 0.0, 0.0, -66.85, -6.62, 53.89, 55.42, 55.42, 52.4, 3738.0, 17.0, 59.35, \"FlexShares Credit-Scored US Long Corporate Bond Index Fund\"], [1009.03, 870.57, -138.46, -13.72, 0.0, 0.0, -138.46, -13.72, 53.51, 51.21, 53.67, 51.15, 9419.0, 17.0, 59.35, \"FlexShares Credit-Scored US Long Corporate Bond Index Fund\"], [1009.03, 804.78, -204.25, -20.24, 0.0, 0.0, -204.25, -20.24, 48.0, 47.34, 49.29, 46.31, 8286.0, 17.0, 59.35, \"FlexShares Credit-Scored US Long Corporate Bond Index Fund\"], [1009.03, 777.62, -231.41, -22.93, 0.0, 0.0, -231.41, -22.93, 47.93, 45.74, 47.93, 45.41, 877.0, 17.0, 59.35, \"FlexShares Credit-Scored US Long Corporate Bond Index Fund\"], [1009.03, 941.8, -67.23, -6.66, 0.0, 0.0, -67.23, -6.66, 55.5, 55.4, 55.5, 54.99, 2679.0, 17.0, 59.35, \"FlexShares Credit-Scored US Long Corporate Bond Index Fund\"], [1009.03, 943.27, -65.76, -6.52, 0.0, 0.0, -65.76, -6.52, 55.4, 55.49, 55.49, 54.22, 2688.0, 17.0, 59.35, \"FlexShares Credit-Scored US Long Corporate Bond Index Fund\"], [1009.03, 957.78, -51.25, -5.08, 0.0, 0.0, -51.25, -5.08, 56.38, 56.34, 56.81, 56.34, 2793.0, 17.0, 59.35, \"FlexShares Credit-Scored US Long Corporate Bond Index Fund\"], [1009.03, 951.04, -57.99, -5.75, 0.0, 0.0, -57.99, -5.75, 55.47, 55.94, 55.94, 55.44, 18572.0, 17.0, 59.35, \"FlexShares Credit-Scored US Long Corporate Bond Index Fund\"], [1009.03, 957.79, -51.24, -5.08, 0.0, 0.0, -51.24, -5.08, 56.5, 56.34, 56.6, 56.18, 3745.0, 17.0, 59.35, \"FlexShares Credit-Scored US Long Corporate Bond Index Fund\"], [1009.03, 1013.89, 4.86, 0.48, 0.0, 0.0, 4.86, 0.48, 59.96, 59.64, 60.25, 59.64, 1565.0, 17.0, 59.35, \"FlexShares Credit-Scored US Long Corporate Bond Index Fund\"], [1009.03, 1019.2, 10.17, 1.01, 0.0, 0.0, 10.17, 1.01, 59.74, 59.95, 60.0, 59.23, 2518.0, 17.0, 59.35, \"FlexShares Credit-Scored US Long Corporate Bond Index Fund\"], [1009.03, 1018.21, 9.18, 0.91, 0.0, 0.0, 9.18, 0.91, 60.9, 59.89, 60.9, 59.6, 3325.0, 17.0, 59.35, \"FlexShares Credit-Scored US Long Corporate Bond Index Fund\"], [1009.03, 1013.39, 4.36, 0.43, 0.0, 0.0, 4.36, 0.43, 59.34, 59.61, 59.61, 59.22, 2178.0, 17.0, 59.35, \"FlexShares Credit-Scored US Long Corporate Bond Index Fund\"], [1009.03, 1010.1, 1.07, 0.11, 0.0, 0.0, 1.07, 0.11, 59.64, 59.42, 59.85, 59.12, 3261.0, 17.0, 59.35, \"FlexShares Credit-Scored US Long Corporate Bond Index Fund\"], [1009.03, 1002.39, -6.64, -0.66, 0.0, 0.0, -6.64, -0.66, 59.67, 58.96, 59.71, 58.96, 4381.0, 17.0, 59.35, \"FlexShares Credit-Scored US Long Corporate Bond Index Fund\"], [1180.56, 1185.24, 4.68, 0.4, 0.0, 0.0, 4.68, 0.4, 59.26, 59.26, 59.26, 59.26, 98.0, 20.0, 59.03, \"FlexShares Credit-Scored US Long Corporate Bond Index Fund\"], [1180.56, 1191.05, 10.5, 0.89, 0.0, 0.0, 10.5, 0.89, 59.47, 59.55, 59.78, 59.47, 4725.0, 20.0, 59.03, \"FlexShares Credit-Scored US Long Corporate Bond Index Fund\"], [1180.56, 1171.52, -9.04, -0.77, 0.0, 0.0, -9.04, -0.77, 58.89, 58.58, 58.89, 58.4, 1145.0, 20.0, 59.03, \"FlexShares Credit-Scored US Long Corporate Bond Index Fund\"], [1180.56, 1167.44, -13.12, -1.11, 0.0, 0.0, -13.12, -1.11, 58.4, 58.37, 58.64, 58.37, 1302.0, 20.0, 59.03, \"FlexShares Credit-Scored US Long Corporate Bond Index Fund\"], [1180.56, 1147.07, -33.49, -2.84, 0.0, 0.0, -33.49, -2.84, 57.9, 57.35, 57.92, 57.28, 27345.0, 20.0, 59.03, \"FlexShares Credit-Scored US Long Corporate Bond Index Fund\"], [1180.56, 1159.16, -21.39, -1.81, 0.0, 0.0, -21.39, -1.81, 57.66, 57.96, 57.96, 57.56, 778.0, 20.0, 59.03, \"FlexShares Credit-Scored US Long Corporate Bond Index Fund\"], [1180.56, 1168.4, -12.16, -1.03, 0.0, 0.0, -12.16, -1.03, 58.48, 58.42, 58.48, 58.16, 13466.0, 20.0, 59.03, \"FlexShares Credit-Scored US Long Corporate Bond Index Fund\"], [1180.56, 1193.24, 12.69, 1.07, 0.0, 0.0, 12.69, 1.07, 59.7, 59.66, 59.91, 59.66, 1171.0, 20.0, 59.03, \"FlexShares Credit-Scored US Long Corporate Bond Index Fund\"], [1300.02, 1309.87, 9.85, 0.76, 0.0, 0.0, 9.85, 0.76, 59.7, 59.54, 59.72, 59.54, 276.0, 22.0, 59.09, \"FlexShares Credit-Scored US Long Corporate Bond Index Fund\"], [1300.02, 1316.1, 16.09, 1.24, 0.0, 0.0, 16.09, 1.24, 59.82, 59.82, 59.82, 59.82, 112.0, 22.0, 59.09, \"FlexShares Credit-Scored US Long Corporate Bond Index Fund\"], [1300.02, 1316.65, 16.63, 1.28, 0.0, 0.0, 16.63, 1.28, 59.85, 59.85, 59.85, 59.85, 170.0, 22.0, 59.09, \"FlexShares Credit-Scored US Long Corporate Bond Index Fund\"], [1300.02, 1330.2, 30.19, 2.32, 0.0, 0.0, 30.19, 2.32, 60.13, 60.46, 60.46, 59.94, 1171.0, 22.0, 59.09, \"FlexShares Credit-Scored US Long Corporate Bond Index Fund\"], [1300.02, 1321.08, 21.07, 1.62, 0.0, 0.0, 21.07, 1.62, 60.07, 60.05, 60.07, 60.05, 210.0, 22.0, 59.09, \"FlexShares Credit-Scored US Long Corporate Bond Index Fund\"], [1300.02, 1326.6, 26.58, 2.04, 0.0, 0.0, 26.58, 2.04, 60.23, 60.3, 60.3, 60.23, 0.0, 22.0, 59.09, \"FlexShares Credit-Scored US Long Corporate Bond Index Fund\"]], \"hovertemplate\": \"<b>%{hovertext}</b><br><br>symbol=LKOR<br>date=%{x}<br>total_pct_gain=%{customdata[7]}<br>invested_amount=%{customdata[0]}<br>market_value=%{customdata[1]}<br>unrealized_gain=%{customdata[2]}<br>unrealized_pct_gain=%{customdata[3]}<br>realized_gain=%{customdata[4]}<br>realized_pct_gain=%{customdata[5]}<br>total_gain=%{customdata[6]}<br>open=%{customdata[8]}<br>close=%{customdata[9]}<br>high=%{customdata[10]}<br>low=%{customdata[11]}<br>volume=%{customdata[12]}<br>quantity=%{customdata[13]}<br>average_cost=%{customdata[14]}<br>company_name=%{customdata[15]}<extra></extra>\", \"hovertext\": [\"LKOR\", \"LKOR\", \"LKOR\", \"LKOR\", \"LKOR\", \"LKOR\", \"LKOR\", \"LKOR\", \"LKOR\", \"LKOR\", \"LKOR\", \"LKOR\", \"LKOR\", \"LKOR\", \"LKOR\", \"LKOR\", \"LKOR\", \"LKOR\", \"LKOR\", \"LKOR\", \"LKOR\", \"LKOR\", \"LKOR\", \"LKOR\", \"LKOR\", \"LKOR\", \"LKOR\", \"LKOR\", \"LKOR\", \"LKOR\", \"LKOR\", \"LKOR\", \"LKOR\", \"LKOR\", \"LKOR\", \"LKOR\"], \"legendgroup\": \"LKOR\", \"line\": {\"color\": \"#ab63fa\", \"dash\": \"solid\"}, \"mode\": \"lines\", \"name\": \"LKOR\", \"showlegend\": true, \"type\": \"scatter\", \"x\": [\"2020-04-13T00:00:00\", \"2020-04-14T00:00:00\", \"2020-04-15T00:00:00\", \"2020-04-16T00:00:00\", \"2020-04-17T00:00:00\", \"2020-04-20T00:00:00\", \"2020-04-21T00:00:00\", \"2020-04-22T00:00:00\", \"2020-04-23T00:00:00\", \"2020-04-24T00:00:00\", \"2020-04-27T00:00:00\", \"2020-04-28T00:00:00\", \"2020-04-29T00:00:00\", \"2020-04-30T00:00:00\", \"2020-05-01T00:00:00\", \"2020-05-04T00:00:00\", \"2020-05-05T00:00:00\", \"2020-05-06T00:00:00\", \"2020-05-07T00:00:00\", \"2020-05-08T00:00:00\", \"2020-05-11T00:00:00\", \"2020-05-12T00:00:00\", \"2020-05-13T00:00:00\", \"2020-05-14T00:00:00\", \"2020-05-15T00:00:00\", \"2020-05-18T00:00:00\", \"2020-05-19T00:00:00\", \"2020-05-20T00:00:00\", \"2020-05-21T00:00:00\", \"2020-05-22T00:00:00\", \"2020-05-26T00:00:00\", \"2020-05-27T00:00:00\", \"2020-05-28T00:00:00\", \"2020-05-29T00:00:00\", \"2020-06-01T00:00:00\", \"2020-06-02T15:02:47\"], \"xaxis\": \"x\", \"y\": [0.0, 0.0, 0.0, 1.23, -2.95, -6.16, -13.44, -6.62, -13.72, -20.24, -22.93, -6.66, -6.52, -5.08, -5.75, -5.08, 0.48, 1.01, 0.91, 0.43, 0.11, -0.66, 0.4, 0.89, -0.77, -1.11, -2.84, -1.81, -1.03, 1.07, 0.76, 1.24, 1.28, 2.32, 1.62, 2.04], \"yaxis\": \"y\"}, {\"customdata\": [[0.0, 0.0, 0.0, 0.0, 0.0, 0.0, 0.0, 0.0, 26.99, 25.76, 26.99, 25.68, 19133.0, 0.0, 0.0, \"PPTY-U.S. Diversified Real Estate ETF\"], [0.0, 0.0, 0.0, 0.0, 0.0, 0.0, 0.0, 0.0, 26.83, 26.55, 26.83, 26.32, 52637.0, 0.0, 0.0, \"PPTY-U.S. Diversified Real Estate ETF\"], [0.0, 0.0, 0.0, 0.0, 0.0, 0.0, 0.0, 0.0, 25.62, 25.42, 25.62, 25.05, 23210.0, 0.0, 0.0, \"PPTY-U.S. Diversified Real Estate ETF\"], [128.3, 125.24, -3.06, -2.39, 0.0, 0.0, -3.06, -2.39, 25.05, 25.05, 25.14, 24.88, 34688.0, 5.0, 25.66, \"PPTY-U.S. Diversified Real Estate ETF\"], [128.3, 129.5, 1.2, 0.94, 0.0, 0.0, 1.2, 0.94, 25.86, 25.9, 26.07, 25.63, 60282.0, 5.0, 25.66, \"PPTY-U.S. Diversified Real Estate ETF\"], [128.3, 124.47, -3.83, -2.98, 0.0, 0.0, -3.83, -2.98, 25.52, 24.89, 25.52, 24.43, 50439.0, 5.0, 25.66, \"PPTY-U.S. Diversified Real Estate ETF\"], [128.3, 121.1, -7.2, -5.61, 0.0, 0.0, -7.2, -5.61, 24.15, 24.22, 24.37, 23.93, 48958.0, 5.0, 25.66, \"PPTY-U.S. Diversified Real Estate ETF\"], [128.3, 121.81, -6.49, -5.06, 0.0, 0.0, -6.49, -5.06, 24.61, 24.36, 24.61, 24.25, 35392.0, 5.0, 25.66, \"PPTY-U.S. Diversified Real Estate ETF\"], [128.3, 120.65, -7.65, -5.96, 0.0, 0.0, -7.65, -5.96, 24.49, 24.13, 24.8, 23.82, 41213.0, 5.0, 25.66, \"PPTY-U.S. Diversified Real Estate ETF\"], [128.3, 120.7, -7.6, -5.92, 0.0, 0.0, -7.6, -5.92, 24.29, 24.14, 24.55, 24.03, 25032.0, 5.0, 25.66, \"PPTY-U.S. Diversified Real Estate ETF\"], [128.3, 126.07, -2.23, -1.74, 0.0, 0.0, -2.23, -1.74, 24.65, 25.21, 25.43, 24.63, 21422.0, 5.0, 25.66, \"PPTY-U.S. Diversified Real Estate ETF\"], [128.3, 128.1, -0.2, -0.16, 0.0, 0.0, -0.2, -0.16, 25.91, 25.62, 26.07, 25.62, 42278.0, 5.0, 25.66, \"PPTY-U.S. Diversified Real Estate ETF\"], [128.3, 132.1, 3.8, 2.96, 0.0, 0.0, 3.8, 2.96, 26.37, 26.42, 26.73, 25.95, 31178.0, 5.0, 25.66, \"PPTY-U.S. Diversified Real Estate ETF\"], [128.3, 129.75, 1.45, 1.13, 0.0, 0.0, 1.45, 1.13, 25.73, 25.95, 25.95, 25.54, 37408.0, 5.0, 25.66, \"PPTY-U.S. Diversified Real Estate ETF\"], [128.3, 124.45, -3.85, -3.0, 0.0, 0.0, -3.85, -3.0, 25.05, 24.89, 25.3, 24.75, 28507.0, 5.0, 25.66, \"PPTY-U.S. Diversified Real Estate ETF\"], [128.3, 123.85, -4.45, -3.47, 0.0, 0.0, -4.45, -3.47, 24.59, 24.77, 24.81, 24.34, 31107.0, 5.0, 25.66, \"PPTY-U.S. Diversified Real Estate ETF\"], [128.3, 124.41, -3.89, -3.03, 0.0, 0.0, -3.89, -3.03, 25.01, 24.88, 25.32, 24.88, 15394.0, 5.0, 25.66, \"PPTY-U.S. Diversified Real Estate ETF\"], [128.3, 122.35, -5.95, -4.64, 0.0, 0.0, -5.95, -4.64, 24.89, 24.47, 24.93, 24.47, 23897.0, 5.0, 25.66, \"PPTY-U.S. Diversified Real Estate ETF\"], [128.3, 123.3, -5.0, -3.9, 0.0, 0.0, -5.0, -3.9, 24.75, 24.66, 25.08, 24.64, 8731.0, 5.0, 25.66, \"PPTY-U.S. Diversified Real Estate ETF\"], [128.3, 126.49, -1.81, -1.41, 0.0, 0.0, -1.81, -1.41, 25.12, 25.3, 25.44, 25.07, 15481.0, 5.0, 25.66, \"PPTY-U.S. Diversified Real Estate ETF\"], [128.3, 124.34, -3.96, -3.08, 0.0, 0.0, -3.96, -3.08, 25.23, 24.87, 25.23, 24.73, 11907.0, 5.0, 25.66, \"PPTY-U.S. Diversified Real Estate ETF\"], [128.3, 118.2, -10.1, -7.87, 0.0, 0.0, -10.1, -7.87, 24.5, 23.64, 24.5, 23.61, 17067.0, 5.0, 25.66, \"PPTY-U.S. Diversified Real Estate ETF\"], [128.3, 114.33, -13.97, -10.89, 0.0, 0.0, -13.97, -10.89, 23.24, 22.87, 23.31, 22.75, 21409.0, 5.0, 25.66, \"PPTY-U.S. Diversified Real Estate ETF\"], [128.3, 115.35, -12.95, -10.09, 0.0, 0.0, -12.95, -10.09, 22.27, 23.07, 23.07, 22.06, 11915.0, 5.0, 25.66, \"PPTY-U.S. Diversified Real Estate ETF\"], [128.3, 115.0, -13.3, -10.37, 0.0, 0.0, -13.3, -10.37, 22.62, 23.0, 23.0, 22.52, 54318.0, 5.0, 25.66, \"PPTY-U.S. Diversified Real Estate ETF\"], [128.3, 121.6, -6.7, -5.22, 0.0, 0.0, -6.7, -5.22, 23.05, 24.32, 24.62, 23.05, 20012.0, 5.0, 25.66, \"PPTY-U.S. Diversified Real Estate ETF\"], [128.3, 120.79, -7.51, -5.85, 0.0, 0.0, -7.51, -5.85, 24.52, 24.16, 24.52, 24.04, 16361.0, 5.0, 25.66, \"PPTY-U.S. Diversified Real Estate ETF\"], [128.3, 122.3, -6.0, -4.68, 0.0, 0.0, -6.0, -4.68, 24.34, 24.46, 24.47, 24.13, 12700.0, 5.0, 25.66, \"PPTY-U.S. Diversified Real Estate ETF\"], [128.3, 122.01, -6.29, -4.9, 0.0, 0.0, -6.29, -4.9, 24.44, 24.4, 24.62, 24.35, 24851.0, 5.0, 25.66, \"PPTY-U.S. Diversified Real Estate ETF\"], [128.3, 122.6, -5.7, -4.44, 0.0, 0.0, -5.7, -4.44, 24.42, 24.52, 24.59, 24.32, 13490.0, 5.0, 25.66, \"PPTY-U.S. Diversified Real Estate ETF\"], [128.3, 127.78, -0.52, -0.4, 0.0, 0.0, -0.52, -0.4, 25.42, 25.56, 25.77, 25.42, 22333.0, 5.0, 25.66, \"PPTY-U.S. Diversified Real Estate ETF\"], [128.3, 130.45, 2.15, 1.68, 0.0, 0.0, 2.15, 1.68, 26.22, 26.09, 26.22, 25.57, 21119.0, 5.0, 25.66, \"PPTY-U.S. Diversified Real Estate ETF\"], [128.3, 130.2, 1.9, 1.48, 0.0, 0.0, 1.9, 1.48, 26.14, 26.04, 26.14, 25.81, 11343.0, 5.0, 25.66, \"PPTY-U.S. Diversified Real Estate ETF\"], [128.3, 128.38, 0.08, 0.06, 0.0, 0.0, 0.08, 0.06, 25.63, 25.68, 25.81, 25.55, 31218.0, 5.0, 25.66, \"PPTY-U.S. Diversified Real Estate ETF\"], [128.3, 131.15, 2.85, 2.22, 0.0, 0.0, 2.85, 2.22, 25.86, 26.23, 26.39, 25.86, 15052.0, 5.0, 25.66, \"PPTY-U.S. Diversified Real Estate ETF\"], [128.3, 132.7, 4.4, 3.43, 0.0, 0.0, 4.4, 3.43, 26.29, 26.54, 26.54, 26.29, 0.0, 5.0, 25.66, \"PPTY-U.S. Diversified Real Estate ETF\"]], \"hovertemplate\": \"<b>%{hovertext}</b><br><br>symbol=PPTY<br>date=%{x}<br>total_pct_gain=%{customdata[7]}<br>invested_amount=%{customdata[0]}<br>market_value=%{customdata[1]}<br>unrealized_gain=%{customdata[2]}<br>unrealized_pct_gain=%{customdata[3]}<br>realized_gain=%{customdata[4]}<br>realized_pct_gain=%{customdata[5]}<br>total_gain=%{customdata[6]}<br>open=%{customdata[8]}<br>close=%{customdata[9]}<br>high=%{customdata[10]}<br>low=%{customdata[11]}<br>volume=%{customdata[12]}<br>quantity=%{customdata[13]}<br>average_cost=%{customdata[14]}<br>company_name=%{customdata[15]}<extra></extra>\", \"hovertext\": [\"PPTY\", \"PPTY\", \"PPTY\", \"PPTY\", \"PPTY\", \"PPTY\", \"PPTY\", \"PPTY\", \"PPTY\", \"PPTY\", \"PPTY\", \"PPTY\", \"PPTY\", \"PPTY\", \"PPTY\", \"PPTY\", \"PPTY\", \"PPTY\", \"PPTY\", \"PPTY\", \"PPTY\", \"PPTY\", \"PPTY\", \"PPTY\", \"PPTY\", \"PPTY\", \"PPTY\", \"PPTY\", \"PPTY\", \"PPTY\", \"PPTY\", \"PPTY\", \"PPTY\", \"PPTY\", \"PPTY\", \"PPTY\"], \"legendgroup\": \"PPTY\", \"line\": {\"color\": \"#FFA15A\", \"dash\": \"solid\"}, \"mode\": \"lines\", \"name\": \"PPTY\", \"showlegend\": true, \"type\": \"scatter\", \"x\": [\"2020-04-13T00:00:00\", \"2020-04-14T00:00:00\", \"2020-04-15T00:00:00\", \"2020-04-16T00:00:00\", \"2020-04-17T00:00:00\", \"2020-04-20T00:00:00\", \"2020-04-21T00:00:00\", \"2020-04-22T00:00:00\", \"2020-04-23T00:00:00\", \"2020-04-24T00:00:00\", \"2020-04-27T00:00:00\", \"2020-04-28T00:00:00\", \"2020-04-29T00:00:00\", \"2020-04-30T00:00:00\", \"2020-05-01T00:00:00\", \"2020-05-04T00:00:00\", \"2020-05-05T00:00:00\", \"2020-05-06T00:00:00\", \"2020-05-07T00:00:00\", \"2020-05-08T00:00:00\", \"2020-05-11T00:00:00\", \"2020-05-12T00:00:00\", \"2020-05-13T00:00:00\", \"2020-05-14T00:00:00\", \"2020-05-15T00:00:00\", \"2020-05-18T00:00:00\", \"2020-05-19T00:00:00\", \"2020-05-20T00:00:00\", \"2020-05-21T00:00:00\", \"2020-05-22T00:00:00\", \"2020-05-26T00:00:00\", \"2020-05-27T00:00:00\", \"2020-05-28T00:00:00\", \"2020-05-29T00:00:00\", \"2020-06-01T00:00:00\", \"2020-06-02T15:02:47\"], \"xaxis\": \"x\", \"y\": [0.0, 0.0, 0.0, -2.39, 0.94, -2.98, -5.61, -5.06, -5.96, -5.92, -1.74, -0.16, 2.96, 1.13, -3.0, -3.47, -3.03, -4.64, -3.9, -1.41, -3.08, -7.87, -10.89, -10.09, -10.37, -5.22, -5.85, -4.68, -4.9, -4.44, -0.4, 1.68, 1.48, 0.06, 2.22, 3.43], \"yaxis\": \"y\"}, {\"customdata\": [[0.0, 0.0, 0.0, 0.0, 0.0, 0.0, 0.0, 0.0, 31.17, 30.71, 31.17, 30.55, 1035489.0, 0.0, 0.0, \"SPDR Portfolio Long Term Corporate Bond ETF\"], [0.0, 0.0, 0.0, 0.0, 0.0, 0.0, 0.0, 0.0, 31.02, 30.6, 31.02, 30.38, 1057836.0, 0.0, 0.0, \"SPDR Portfolio Long Term Corporate Bond ETF\"], [0.0, 0.0, 0.0, 0.0, 0.0, 0.0, 0.0, 0.0, 30.43, 30.69, 30.77, 30.39, 1213910.0, 0.0, 0.0, \"SPDR Portfolio Long Term Corporate Bond ETF\"], [122.76, 123.08, 0.32, 0.26, 0.0, 0.0, 0.32, 0.26, 30.69, 30.77, 31.01, 30.52, 962853.0, 4.0, 30.69, \"SPDR Portfolio Long Term Corporate Bond ETF\"], [122.76, 123.88, 1.12, 0.91, 0.0, 0.0, 1.12, 0.91, 31.28, 30.97, 31.28, 30.64, 1923704.0, 4.0, 30.69, \"SPDR Portfolio Long Term Corporate Bond ETF\"], [1009.14, 1016.4, 7.25, 0.72, 0.0, 0.0, 7.25, 0.72, 30.47, 30.8, 30.87, 30.42, 947107.0, 33.0, 30.58, \"SPDR Portfolio Long Term Corporate Bond ETF\"], [1009.14, 1013.1, 3.96, 0.39, 0.0, 0.0, 3.96, 0.39, 30.73, 30.7, 30.79, 30.43, 889362.0, 33.0, 30.58, \"SPDR Portfolio Long Term Corporate Bond ETF\"], [1009.14, 1010.46, 1.32, 0.13, 0.0, 0.0, 1.32, 0.13, 30.74, 30.62, 30.74, 30.44, 650513.0, 33.0, 30.58, \"SPDR Portfolio Long Term Corporate Bond ETF\"], [1009.14, 1015.41, 6.26, 0.62, 0.0, 0.0, 6.26, 0.62, 30.82, 30.77, 30.92, 30.75, 644096.0, 33.0, 30.58, \"SPDR Portfolio Long Term Corporate Bond ETF\"], [1009.14, 1015.08, 5.94, 0.59, 0.0, 0.0, 5.94, 0.59, 30.81, 30.76, 30.81, 30.59, 752464.0, 33.0, 30.58, \"SPDR Portfolio Long Term Corporate Bond ETF\"], [1009.14, 1005.51, -3.63, -0.36, 0.0, 0.0, -3.63, -0.36, 30.84, 30.47, 30.84, 30.43, 409897.0, 33.0, 30.58, \"SPDR Portfolio Long Term Corporate Bond ETF\"], [1009.14, 1009.47, 0.33, 0.03, 0.0, 0.0, 0.33, 0.03, 30.72, 30.59, 30.73, 30.5, 607138.0, 33.0, 30.58, \"SPDR Portfolio Long Term Corporate Bond ETF\"], [1009.14, 1016.07, 6.92, 0.69, 0.0, 0.0, 6.92, 0.69, 30.76, 30.79, 30.82, 30.56, 542171.0, 33.0, 30.58, \"SPDR Portfolio Long Term Corporate Bond ETF\"], [1009.14, 1005.84, -3.3, -0.33, 0.0, 0.0, -3.3, -0.33, 30.74, 30.48, 30.74, 30.43, 478776.0, 33.0, 30.58, \"SPDR Portfolio Long Term Corporate Bond ETF\"], [1009.14, 994.95, -14.2, -1.41, 0.0, 0.0, -14.2, -1.41, 30.3, 30.15, 30.3, 29.96, 741838.0, 33.0, 30.58, \"SPDR Portfolio Long Term Corporate Bond ETF\"], [1009.14, 997.26, -11.88, -1.18, 0.0, 0.0, -11.88, -1.18, 30.34, 30.22, 30.34, 30.04, 911938.0, 33.0, 30.58, \"SPDR Portfolio Long Term Corporate Bond ETF\"], [1009.14, 993.63, -15.51, -1.54, 0.0, 0.0, -15.51, -1.54, 30.09, 30.11, 30.22, 30.02, 605326.0, 33.0, 30.58, \"SPDR Portfolio Long Term Corporate Bond ETF\"], [1009.14, 978.12, -31.02, -3.07, 0.0, 0.0, -31.02, -3.07, 29.83, 29.64, 29.83, 29.5, 687570.0, 33.0, 30.58, \"SPDR Portfolio Long Term Corporate Bond ETF\"], [1009.14, 972.51, -36.63, -3.63, 0.0, 0.0, -36.63, -3.63, 29.59, 29.47, 29.72, 29.47, 1472328.0, 33.0, 30.58, \"SPDR Portfolio Long Term Corporate Bond ETF\"], [1009.14, 965.91, -43.24, -4.28, 0.0, 0.0, -43.24, -4.28, 29.26, 29.27, 29.36, 29.23, 743337.0, 33.0, 30.58, \"SPDR Portfolio Long Term Corporate Bond ETF\"], [1009.14, 956.01, -53.13, -5.27, 0.0, 0.0, -53.13, -5.27, 29.12, 28.97, 29.19, 28.92, 393585.0, 33.0, 30.58, \"SPDR Portfolio Long Term Corporate Bond ETF\"], [1009.14, 966.9, -42.24, -4.19, 0.0, 0.0, -42.24, -4.19, 29.54, 29.3, 29.54, 29.2, 2277903.0, 33.0, 30.58, \"SPDR Portfolio Long Term Corporate Bond ETF\"], [1214.77, 1177.2, -37.57, -3.09, 0.0, 0.0, -37.57, -3.09, 29.58, 29.43, 29.59, 29.34, 920493.0, 40.0, 30.37, \"SPDR Portfolio Long Term Corporate Bond ETF\"], [1214.77, 1187.2, -27.57, -2.27, 0.0, 0.0, -27.57, -2.27, 29.47, 29.68, 29.81, 29.38, 552923.0, 40.0, 30.37, \"SPDR Portfolio Long Term Corporate Bond ETF\"], [1214.77, 1194.4, -20.37, -1.68, 0.0, 0.0, -20.37, -1.68, 29.79, 29.86, 29.92, 29.73, 913450.0, 40.0, 30.37, \"SPDR Portfolio Long Term Corporate Bond ETF\"], [1214.77, 1202.8, -11.97, -0.99, 0.0, 0.0, -11.97, -0.99, 30.0, 30.07, 30.16, 29.92, 607155.0, 40.0, 30.37, \"SPDR Portfolio Long Term Corporate Bond ETF\"], [1214.77, 1199.2, -15.57, -1.28, 0.0, 0.0, -15.57, -1.28, 30.1, 29.98, 30.1, 29.95, 543819.0, 40.0, 30.37, \"SPDR Portfolio Long Term Corporate Bond ETF\"], [1214.77, 1217.6, 2.83, 0.23, 0.0, 0.0, 2.83, 0.23, 30.16, 30.44, 30.57, 30.12, 493977.0, 40.0, 30.37, \"SPDR Portfolio Long Term Corporate Bond ETF\"], [1214.77, 1218.0, 3.23, 0.27, 0.0, 0.0, 3.23, 0.27, 30.58, 30.45, 30.58, 30.39, 413753.0, 40.0, 30.37, \"SPDR Portfolio Long Term Corporate Bond ETF\"], [1214.77, 1224.0, 9.23, 0.76, 0.0, 0.0, 9.23, 0.76, 30.51, 30.6, 30.6, 30.44, 225661.0, 40.0, 30.37, \"SPDR Portfolio Long Term Corporate Bond ETF\"], [1336.69, 1339.8, 3.11, 0.23, 0.0, 0.0, 3.11, 0.23, 30.63, 30.45, 30.63, 30.39, 622831.0, 44.0, 30.38, \"SPDR Portfolio Long Term Corporate Bond ETF\"], [1336.69, 1346.4, 9.71, 0.73, 0.0, 0.0, 9.71, 0.73, 30.57, 30.6, 30.61, 30.48, 332432.0, 44.0, 30.38, \"SPDR Portfolio Long Term Corporate Bond ETF\"], [1336.69, 1348.6, 11.91, 0.89, 0.0, 0.0, 11.91, 0.89, 30.52, 30.65, 30.65, 30.46, 311333.0, 44.0, 30.38, \"SPDR Portfolio Long Term Corporate Bond ETF\"], [1336.69, 1356.52, 19.83, 1.48, 0.0, 0.0, 19.83, 1.48, 30.66, 30.83, 30.89, 30.57, 351737.0, 44.0, 30.38, \"SPDR Portfolio Long Term Corporate Bond ETF\"], [1336.69, 1347.72, 11.03, 0.82, 0.0, 0.0, 11.03, 0.82, 30.69, 30.63, 30.73, 30.54, 388987.0, 44.0, 30.38, \"SPDR Portfolio Long Term Corporate Bond ETF\"], [1336.69, 1351.24, 14.55, 1.09, 0.0, 0.0, 14.55, 1.09, 30.7, 30.71, 30.75, 30.7, 0.0, 44.0, 30.38, \"SPDR Portfolio Long Term Corporate Bond ETF\"]], \"hovertemplate\": \"<b>%{hovertext}</b><br><br>symbol=SPLB<br>date=%{x}<br>total_pct_gain=%{customdata[7]}<br>invested_amount=%{customdata[0]}<br>market_value=%{customdata[1]}<br>unrealized_gain=%{customdata[2]}<br>unrealized_pct_gain=%{customdata[3]}<br>realized_gain=%{customdata[4]}<br>realized_pct_gain=%{customdata[5]}<br>total_gain=%{customdata[6]}<br>open=%{customdata[8]}<br>close=%{customdata[9]}<br>high=%{customdata[10]}<br>low=%{customdata[11]}<br>volume=%{customdata[12]}<br>quantity=%{customdata[13]}<br>average_cost=%{customdata[14]}<br>company_name=%{customdata[15]}<extra></extra>\", \"hovertext\": [\"SPLB\", \"SPLB\", \"SPLB\", \"SPLB\", \"SPLB\", \"SPLB\", \"SPLB\", \"SPLB\", \"SPLB\", \"SPLB\", \"SPLB\", \"SPLB\", \"SPLB\", \"SPLB\", \"SPLB\", \"SPLB\", \"SPLB\", \"SPLB\", \"SPLB\", \"SPLB\", \"SPLB\", \"SPLB\", \"SPLB\", \"SPLB\", \"SPLB\", \"SPLB\", \"SPLB\", \"SPLB\", \"SPLB\", \"SPLB\", \"SPLB\", \"SPLB\", \"SPLB\", \"SPLB\", \"SPLB\", \"SPLB\"], \"legendgroup\": \"SPLB\", \"line\": {\"color\": \"#19d3f3\", \"dash\": \"solid\"}, \"mode\": \"lines\", \"name\": \"SPLB\", \"showlegend\": true, \"type\": \"scatter\", \"x\": [\"2020-04-13T00:00:00\", \"2020-04-14T00:00:00\", \"2020-04-15T00:00:00\", \"2020-04-16T00:00:00\", \"2020-04-17T00:00:00\", \"2020-04-20T00:00:00\", \"2020-04-21T00:00:00\", \"2020-04-22T00:00:00\", \"2020-04-23T00:00:00\", \"2020-04-24T00:00:00\", \"2020-04-27T00:00:00\", \"2020-04-28T00:00:00\", \"2020-04-29T00:00:00\", \"2020-04-30T00:00:00\", \"2020-05-01T00:00:00\", \"2020-05-04T00:00:00\", \"2020-05-05T00:00:00\", \"2020-05-06T00:00:00\", \"2020-05-07T00:00:00\", \"2020-05-08T00:00:00\", \"2020-05-11T00:00:00\", \"2020-05-12T00:00:00\", \"2020-05-13T00:00:00\", \"2020-05-14T00:00:00\", \"2020-05-15T00:00:00\", \"2020-05-18T00:00:00\", \"2020-05-19T00:00:00\", \"2020-05-20T00:00:00\", \"2020-05-21T00:00:00\", \"2020-05-22T00:00:00\", \"2020-05-26T00:00:00\", \"2020-05-27T00:00:00\", \"2020-05-28T00:00:00\", \"2020-05-29T00:00:00\", \"2020-06-01T00:00:00\", \"2020-06-02T15:02:47\"], \"xaxis\": \"x\", \"y\": [0.0, 0.0, 0.0, 0.26, 0.91, 0.72, 0.39, 0.13, 0.62, 0.59, -0.36, 0.03, 0.69, -0.33, -1.41, -1.18, -1.54, -3.07, -3.63, -4.28, -5.27, -4.19, -3.09, -2.27, -1.68, -0.99, -1.28, 0.23, 0.27, 0.76, 0.23, 0.73, 0.89, 1.48, 0.82, 1.09], \"yaxis\": \"y\"}, {\"customdata\": [[0.0, 0.0, 0.0, 0.0, 0.0, 0.0, 0.0, 0.0, 31.08, 29.88, 31.1, 29.86, 25261.0, 0.0, 0.0, \"Pacer Benchmark Industrial Real Estate SCTR ETF\"], [0.0, 0.0, 0.0, 0.0, 0.0, 0.0, 0.0, 0.0, 30.73, 30.73, 31.06, 30.58, 18258.0, 0.0, 0.0, \"Pacer Benchmark Industrial Real Estate SCTR ETF\"], [0.0, 0.0, 0.0, 0.0, 0.0, 0.0, 0.0, 0.0, 29.87, 29.25, 29.87, 29.1, 23041.0, 0.0, 0.0, \"Pacer Benchmark Industrial Real Estate SCTR ETF\"], [118.0, 117.49, -0.51, -0.43, 0.0, 0.0, -0.51, -0.43, 29.5, 29.37, 29.54, 29.0, 15762.0, 4.0, 29.5, \"Pacer Benchmark Industrial Real Estate SCTR ETF\"], [118.0, 120.78, 2.78, 2.35, 0.0, 0.0, 2.78, 2.35, 30.14, 30.19, 30.37, 29.86, 14498.0, 4.0, 29.5, \"Pacer Benchmark Industrial Real Estate SCTR ETF\"], [118.0, 117.91, -0.09, -0.08, 0.0, 0.0, -0.09, -0.08, 29.51, 29.48, 29.82, 29.42, 26500.0, 4.0, 29.5, \"Pacer Benchmark Industrial Real Estate SCTR ETF\"], [118.0, 115.92, -2.08, -1.76, 0.0, 0.0, -2.08, -1.76, 28.6, 28.98, 29.24, 28.55, 19386.0, 4.0, 29.5, \"Pacer Benchmark Industrial Real Estate SCTR ETF\"], [118.0, 117.52, -0.48, -0.41, 0.0, 0.0, -0.48, -0.41, 29.46, 29.38, 29.54, 29.18, 16772.0, 4.0, 29.5, \"Pacer Benchmark Industrial Real Estate SCTR ETF\"], [118.0, 115.6, -2.4, -2.03, 0.0, 0.0, -2.4, -2.03, 29.37, 28.9, 29.65, 28.9, 7083.0, 4.0, 29.5, \"Pacer Benchmark Industrial Real Estate SCTR ETF\"], [118.0, 116.77, -1.23, -1.04, 0.0, 0.0, -1.23, -1.04, 29.12, 29.19, 29.39, 28.76, 10327.0, 4.0, 29.5, \"Pacer Benchmark Industrial Real Estate SCTR ETF\"], [118.0, 121.45, 3.45, 2.92, 0.0, 0.0, 3.45, 2.92, 29.42, 30.36, 30.41, 29.42, 9209.0, 4.0, 29.5, \"Pacer Benchmark Industrial Real Estate SCTR ETF\"], [118.0, 122.54, 4.54, 3.85, 0.0, 0.0, 4.54, 3.85, 31.11, 30.64, 31.27, 30.61, 31410.0, 4.0, 29.5, \"Pacer Benchmark Industrial Real Estate SCTR ETF\"], [118.0, 123.1, 5.1, 4.32, 0.0, 0.0, 5.1, 4.32, 31.12, 30.77, 31.34, 30.77, 21825.0, 4.0, 29.5, \"Pacer Benchmark Industrial Real Estate SCTR ETF\"], [118.0, 120.48, 2.48, 2.1, 0.0, 0.0, 2.48, 2.1, 30.75, 30.12, 30.75, 29.52, 25867.0, 4.0, 29.5, \"Pacer Benchmark Industrial Real Estate SCTR ETF\"], [118.0, 115.9, -2.1, -1.78, 0.0, 0.0, -2.1, -1.78, 29.35, 28.98, 29.47, 28.81, 14184.0, 4.0, 29.5, \"Pacer Benchmark Industrial Real Estate SCTR ETF\"], [118.0, 115.12, -2.88, -2.44, 0.0, 0.0, -2.88, -2.44, 28.59, 28.78, 28.82, 28.24, 10435.0, 4.0, 29.5, \"Pacer Benchmark Industrial Real Estate SCTR ETF\"], [118.0, 115.76, -2.24, -1.9, 0.0, 0.0, -2.24, -1.9, 29.15, 28.94, 29.38, 28.91, 13359.0, 4.0, 29.5, \"Pacer Benchmark Industrial Real Estate SCTR ETF\"], [118.0, 115.43, -2.57, -2.17, 0.0, 0.0, -2.57, -2.17, 29.29, 28.86, 29.29, 28.86, 14666.0, 4.0, 29.5, \"Pacer Benchmark Industrial Real Estate SCTR ETF\"], [118.0, 116.67, -1.33, -1.13, 0.0, 0.0, -1.33, -1.13, 29.3, 29.17, 29.51, 29.12, 82625.0, 4.0, 29.5, \"Pacer Benchmark Industrial Real Estate SCTR ETF\"], [118.0, 121.3, 3.3, 2.8, 0.0, 0.0, 3.3, 2.8, 29.72, 30.32, 30.38, 29.72, 25609.0, 4.0, 29.5, \"Pacer Benchmark Industrial Real Estate SCTR ETF\"], [118.0, 120.41, 2.41, 2.04, 0.0, 0.0, 2.41, 2.04, 29.98, 30.1, 30.5, 29.72, 20656.0, 4.0, 29.5, \"Pacer Benchmark Industrial Real Estate SCTR ETF\"], [118.0, 113.93, -4.07, -3.45, 0.0, 0.0, -4.07, -3.45, 29.86, 28.48, 29.86, 28.48, 29997.0, 4.0, 29.5, \"Pacer Benchmark Industrial Real Estate SCTR ETF\"], [118.0, 110.25, -7.75, -6.57, 0.0, 0.0, -7.75, -6.57, 28.17, 27.56, 28.17, 27.52, 28768.0, 4.0, 29.5, \"Pacer Benchmark Industrial Real Estate SCTR ETF\"], [118.0, 110.25, -7.75, -6.57, 0.0, 0.0, -7.75, -6.57, 27.42, 27.56, 27.57, 26.5, 31141.0, 4.0, 29.5, \"Pacer Benchmark Industrial Real Estate SCTR ETF\"], [118.0, 110.86, -7.14, -6.05, 0.0, 0.0, -7.14, -6.05, 27.39, 27.71, 27.71, 27.31, 38064.0, 4.0, 29.5, \"Pacer Benchmark Industrial Real Estate SCTR ETF\"], [118.0, 117.04, -0.96, -0.81, 0.0, 0.0, -0.96, -0.81, 28.69, 29.26, 29.42, 28.69, 29661.0, 4.0, 29.5, \"Pacer Benchmark Industrial Real Estate SCTR ETF\"], [118.0, 114.88, -3.12, -2.64, 0.0, 0.0, -3.12, -2.64, 29.08, 28.72, 29.23, 28.72, 62531.0, 4.0, 29.5, \"Pacer Benchmark Industrial Real Estate SCTR ETF\"], [118.0, 117.36, -0.64, -0.54, 0.0, 0.0, -0.64, -0.54, 29.16, 29.34, 29.34, 29.08, 18919.0, 4.0, 29.5, \"Pacer Benchmark Industrial Real Estate SCTR ETF\"], [118.0, 117.55, -0.45, -0.38, 0.0, 0.0, -0.45, -0.38, 29.42, 29.39, 29.63, 29.24, 12932.0, 4.0, 29.5, \"Pacer Benchmark Industrial Real Estate SCTR ETF\"], [118.0, 118.64, 0.64, 0.54, 0.0, 0.0, 0.64, 0.54, 29.49, 29.66, 29.67, 29.35, 27079.0, 4.0, 29.5, \"Pacer Benchmark Industrial Real Estate SCTR ETF\"], [118.0, 122.27, 4.27, 3.62, 0.0, 0.0, 4.27, 3.62, 30.35, 30.57, 30.8, 30.35, 18665.0, 4.0, 29.5, \"Pacer Benchmark Industrial Real Estate SCTR ETF\"], [118.0, 124.08, 6.08, 5.15, 0.0, 0.0, 6.08, 5.15, 31.12, 31.02, 31.16, 30.46, 15895.0, 4.0, 29.5, \"Pacer Benchmark Industrial Real Estate SCTR ETF\"], [118.0, 124.97, 6.97, 5.91, 0.0, 0.0, 6.97, 5.91, 31.1, 31.24, 31.27, 31.06, 13624.0, 4.0, 29.5, \"Pacer Benchmark Industrial Real Estate SCTR ETF\"], [118.0, 124.17, 6.17, 5.23, 0.0, 0.0, 6.17, 5.23, 31.4, 31.04, 31.4, 30.89, 17058.0, 4.0, 29.5, \"Pacer Benchmark Industrial Real Estate SCTR ETF\"], [118.0, 125.79, 7.79, 6.6, 0.0, 0.0, 7.79, 6.6, 31.1, 31.45, 31.64, 31.1, 9146.0, 4.0, 29.5, \"Pacer Benchmark Industrial Real Estate SCTR ETF\"], [118.0, 127.36, 9.36, 7.93, 0.0, 0.0, 9.36, 7.93, 31.57, 31.84, 31.84, 31.46, 0.0, 4.0, 29.5, \"Pacer Benchmark Industrial Real Estate SCTR ETF\"]], \"hovertemplate\": \"<b>%{hovertext}</b><br><br>symbol=INDS<br>date=%{x}<br>total_pct_gain=%{customdata[7]}<br>invested_amount=%{customdata[0]}<br>market_value=%{customdata[1]}<br>unrealized_gain=%{customdata[2]}<br>unrealized_pct_gain=%{customdata[3]}<br>realized_gain=%{customdata[4]}<br>realized_pct_gain=%{customdata[5]}<br>total_gain=%{customdata[6]}<br>open=%{customdata[8]}<br>close=%{customdata[9]}<br>high=%{customdata[10]}<br>low=%{customdata[11]}<br>volume=%{customdata[12]}<br>quantity=%{customdata[13]}<br>average_cost=%{customdata[14]}<br>company_name=%{customdata[15]}<extra></extra>\", \"hovertext\": [\"INDS\", \"INDS\", \"INDS\", \"INDS\", \"INDS\", \"INDS\", \"INDS\", \"INDS\", \"INDS\", \"INDS\", \"INDS\", \"INDS\", \"INDS\", \"INDS\", \"INDS\", \"INDS\", \"INDS\", \"INDS\", \"INDS\", \"INDS\", \"INDS\", \"INDS\", \"INDS\", \"INDS\", \"INDS\", \"INDS\", \"INDS\", \"INDS\", \"INDS\", \"INDS\", \"INDS\", \"INDS\", \"INDS\", \"INDS\", \"INDS\", \"INDS\"], \"legendgroup\": \"INDS\", \"line\": {\"color\": \"#FF6692\", \"dash\": \"solid\"}, \"mode\": \"lines\", \"name\": \"INDS\", \"showlegend\": true, \"type\": \"scatter\", \"x\": [\"2020-04-13T00:00:00\", \"2020-04-14T00:00:00\", \"2020-04-15T00:00:00\", \"2020-04-16T00:00:00\", \"2020-04-17T00:00:00\", \"2020-04-20T00:00:00\", \"2020-04-21T00:00:00\", \"2020-04-22T00:00:00\", \"2020-04-23T00:00:00\", \"2020-04-24T00:00:00\", \"2020-04-27T00:00:00\", \"2020-04-28T00:00:00\", \"2020-04-29T00:00:00\", \"2020-04-30T00:00:00\", \"2020-05-01T00:00:00\", \"2020-05-04T00:00:00\", \"2020-05-05T00:00:00\", \"2020-05-06T00:00:00\", \"2020-05-07T00:00:00\", \"2020-05-08T00:00:00\", \"2020-05-11T00:00:00\", \"2020-05-12T00:00:00\", \"2020-05-13T00:00:00\", \"2020-05-14T00:00:00\", \"2020-05-15T00:00:00\", \"2020-05-18T00:00:00\", \"2020-05-19T00:00:00\", \"2020-05-20T00:00:00\", \"2020-05-21T00:00:00\", \"2020-05-22T00:00:00\", \"2020-05-26T00:00:00\", \"2020-05-27T00:00:00\", \"2020-05-28T00:00:00\", \"2020-05-29T00:00:00\", \"2020-06-01T00:00:00\", \"2020-06-02T15:02:47\"], \"xaxis\": \"x\", \"y\": [0.0, 0.0, 0.0, -0.43, 2.35, -0.08, -1.76, -0.41, -2.03, -1.04, 2.92, 3.85, 4.32, 2.1, -1.78, -2.44, -1.9, -2.17, -1.13, 2.8, 2.04, -3.45, -6.57, -6.57, -6.05, -0.81, -2.64, -0.54, -0.38, 0.54, 3.62, 5.15, 5.91, 5.23, 6.6, 7.93], \"yaxis\": \"y\"}, {\"customdata\": [[0.0, 0.0, 0.0, 0.0, 0.0, 0.0, 0.0, 0.0, 33.32, 32.05, 33.32, 31.82, 214161.0, 0.0, 0.0, \"Pacer Benchmark Data & Infrastructure Real Estate SCTR ETF\"], [0.0, 0.0, 0.0, 0.0, 0.0, 0.0, 0.0, 0.0, 32.75, 33.39, 33.47, 32.75, 246277.0, 0.0, 0.0, \"Pacer Benchmark Data & Infrastructure Real Estate SCTR ETF\"], [0.0, 0.0, 0.0, 0.0, 0.0, 0.0, 0.0, 0.0, 32.5, 32.52, 32.87, 32.28, 276767.0, 0.0, 0.0, \"Pacer Benchmark Data & Infrastructure Real Estate SCTR ETF\"], [130.56, 132.76, 2.2, 1.69, 0.0, 0.0, 2.2, 1.69, 32.7, 33.19, 33.25, 32.57, 241737.0, 4.0, 32.64, \"Pacer Benchmark Data & Infrastructure Real Estate SCTR ETF\"], [130.56, 135.24, 4.68, 3.58, 0.0, 0.0, 4.68, 3.58, 33.87, 33.81, 33.92, 33.08, 298979.0, 4.0, 32.64, \"Pacer Benchmark Data & Infrastructure Real Estate SCTR ETF\"], [1032.63, 1024.24, -8.39, -0.81, 0.0, 0.0, -8.39, -0.81, 33.37, 33.04, 33.5, 33.04, 140271.0, 31.0, 33.31, \"Pacer Benchmark Data & Infrastructure Real Estate SCTR ETF\"], [1032.63, 1017.42, -15.21, -1.47, 0.0, 0.0, -15.21, -1.47, 32.75, 32.82, 32.98, 32.26, 202789.0, 31.0, 33.31, \"Pacer Benchmark Data & Infrastructure Real Estate SCTR ETF\"], [1032.63, 1043.15, 10.52, 1.02, 0.0, 0.0, 10.52, 1.02, 33.39, 33.65, 33.87, 33.1, 225661.0, 31.0, 33.31, \"Pacer Benchmark Data & Infrastructure Real Estate SCTR ETF\"], [1032.63, 1043.46, 10.83, 1.05, 0.0, 0.0, 10.83, 1.05, 33.95, 33.66, 34.09, 33.51, 178305.0, 31.0, 33.31, \"Pacer Benchmark Data & Infrastructure Real Estate SCTR ETF\"], [1032.63, 1039.12, 6.49, 0.63, 0.0, 0.0, 6.49, 0.63, 33.61, 33.52, 33.9, 33.2, 339886.0, 31.0, 33.31, \"Pacer Benchmark Data & Infrastructure Real Estate SCTR ETF\"], [1032.63, 1065.47, 32.84, 3.18, 0.0, 0.0, 32.84, 3.18, 33.92, 34.37, 34.4, 33.83, 299898.0, 31.0, 33.31, \"Pacer Benchmark Data & Infrastructure Real Estate SCTR ETF\"], [1032.63, 1049.35, 16.72, 1.62, 0.0, 0.0, 16.72, 1.62, 34.78, 33.85, 34.94, 33.85, 352892.0, 31.0, 33.31, \"Pacer Benchmark Data & Infrastructure Real Estate SCTR ETF\"], [1032.63, 1035.4, 2.77, 0.27, 0.0, 0.0, 2.77, 0.27, 34.67, 33.4, 34.98, 33.38, 334654.0, 31.0, 33.31, \"Pacer Benchmark Data & Infrastructure Real Estate SCTR ETF\"], [1032.63, 1033.54, 0.91, 0.09, 0.0, 0.0, 0.91, 0.09, 33.42, 33.34, 33.44, 32.95, 288189.0, 31.0, 33.31, \"Pacer Benchmark Data & Infrastructure Real Estate SCTR ETF\"], [1032.63, 1011.22, -21.41, -2.07, 0.0, 0.0, -21.41, -2.07, 33.05, 32.62, 33.05, 32.45, 181809.0, 31.0, 33.31, \"Pacer Benchmark Data & Infrastructure Real Estate SCTR ETF\"], [1032.63, 1019.28, -13.35, -1.29, 0.0, 0.0, -13.35, -1.29, 32.63, 32.88, 32.88, 32.12, 190581.0, 31.0, 33.31, \"Pacer Benchmark Data & Infrastructure Real Estate SCTR ETF\"], [1032.63, 1030.44, -2.19, -0.21, 0.0, 0.0, -2.19, -0.21, 33.1, 33.24, 33.53, 33.04, 179317.0, 31.0, 33.31, \"Pacer Benchmark Data & Infrastructure Real Estate SCTR ETF\"], [1032.63, 1024.55, -8.08, -0.78, 0.0, 0.0, -8.08, -0.78, 33.62, 33.05, 33.62, 33.05, 211081.0, 31.0, 33.31, \"Pacer Benchmark Data & Infrastructure Real Estate SCTR ETF\"], [1032.63, 1029.2, -3.43, -0.33, 0.0, 0.0, -3.43, -0.33, 33.58, 33.2, 33.72, 33.14, 345726.0, 31.0, 33.31, \"Pacer Benchmark Data & Infrastructure Real Estate SCTR ETF\"], [1032.63, 1044.08, 11.45, 1.11, 0.0, 0.0, 11.45, 1.11, 33.73, 33.68, 33.73, 33.26, 287552.0, 31.0, 33.31, \"Pacer Benchmark Data & Infrastructure Real Estate SCTR ETF\"], [1032.63, 1038.81, 6.18, 0.6, 0.0, 0.0, 6.18, 0.6, 33.25, 33.51, 33.99, 33.22, 186112.0, 31.0, 33.31, \"Pacer Benchmark Data & Infrastructure Real Estate SCTR ETF\"], [1032.63, 1012.46, -20.17, -1.95, 0.0, 0.0, -20.17, -1.95, 33.85, 32.66, 33.85, 32.66, 529263.0, 31.0, 33.31, \"Pacer Benchmark Data & Infrastructure Real Estate SCTR ETF\"], [1227.74, 1205.83, -21.91, -1.78, 0.0, 0.0, -21.91, -1.78, 32.6, 32.59, 33.28, 32.38, 364161.0, 37.0, 33.18, \"Pacer Benchmark Data & Infrastructure Real Estate SCTR ETF\"], [1227.74, 1195.47, -32.27, -2.63, 0.0, 0.0, -32.27, -2.63, 32.43, 32.31, 32.43, 31.78, 184943.0, 37.0, 33.18, \"Pacer Benchmark Data & Infrastructure Real Estate SCTR ETF\"], [1227.74, 1189.55, -38.19, -3.11, 0.0, 0.0, -38.19, -3.11, 31.93, 32.15, 32.26, 31.69, 179651.0, 37.0, 33.18, \"Pacer Benchmark Data & Infrastructure Real Estate SCTR ETF\"], [1227.74, 1223.96, -3.78, -0.31, 0.0, 0.0, -3.78, -0.31, 33.16, 33.08, 33.3, 32.85, 143761.0, 37.0, 33.18, \"Pacer Benchmark Data & Infrastructure Real Estate SCTR ETF\"], [1227.74, 1206.57, -21.17, -1.72, 0.0, 0.0, -21.17, -1.72, 33.15, 32.61, 33.15, 32.61, 294604.0, 37.0, 33.18, \"Pacer Benchmark Data & Infrastructure Real Estate SCTR ETF\"], [1227.74, 1213.97, -13.77, -1.12, 0.0, 0.0, -13.77, -1.12, 33.19, 32.81, 33.19, 32.58, 219430.0, 37.0, 33.18, \"Pacer Benchmark Data & Infrastructure Real Estate SCTR ETF\"], [1227.74, 1198.43, -29.31, -2.39, 0.0, 0.0, -29.31, -2.39, 32.75, 32.39, 32.76, 32.11, 166683.0, 37.0, 33.18, \"Pacer Benchmark Data & Infrastructure Real Estate SCTR ETF\"], [1227.74, 1229.14, 1.4, 0.11, 0.0, 0.0, 1.4, 0.11, 32.39, 33.22, 33.29, 32.21, 291102.0, 37.0, 33.18, \"Pacer Benchmark Data & Infrastructure Real Estate SCTR ETF\"], [1495.95, 1506.6, 10.65, 0.71, 0.0, 0.0, 10.65, 0.71, 33.98, 33.48, 34.1, 33.47, 187993.0, 45.0, 33.24, \"Pacer Benchmark Data & Infrastructure Real Estate SCTR ETF\"], [1495.95, 1543.05, 47.1, 3.15, 0.0, 0.0, 47.1, 3.15, 33.99, 34.29, 34.29, 33.25, 407284.0, 45.0, 33.24, \"Pacer Benchmark Data & Infrastructure Real Estate SCTR ETF\"], [1495.95, 1561.95, 66.0, 4.41, 0.0, 0.0, 66.0, 4.41, 34.56, 34.71, 34.95, 34.39, 229239.0, 45.0, 33.24, \"Pacer Benchmark Data & Infrastructure Real Estate SCTR ETF\"], [1495.95, 1569.15, 73.2, 4.89, 0.0, 0.0, 73.2, 4.89, 34.56, 34.87, 34.99, 34.4, 134246.0, 45.0, 33.24, \"Pacer Benchmark Data & Infrastructure Real Estate SCTR ETF\"], [1495.95, 1592.1, 96.15, 6.43, 0.0, 0.0, 96.15, 6.43, 34.97, 35.38, 35.74, 34.77, 609544.0, 45.0, 33.24, \"Pacer Benchmark Data & Infrastructure Real Estate SCTR ETF\"], [1495.95, 1583.1, 87.15, 5.83, 0.0, 0.0, 87.15, 5.83, 35.6, 35.18, 35.61, 35.0, 0.0, 45.0, 33.24, \"Pacer Benchmark Data & Infrastructure Real Estate SCTR ETF\"]], \"hovertemplate\": \"<b>%{hovertext}</b><br><br>symbol=SRVR<br>date=%{x}<br>total_pct_gain=%{customdata[7]}<br>invested_amount=%{customdata[0]}<br>market_value=%{customdata[1]}<br>unrealized_gain=%{customdata[2]}<br>unrealized_pct_gain=%{customdata[3]}<br>realized_gain=%{customdata[4]}<br>realized_pct_gain=%{customdata[5]}<br>total_gain=%{customdata[6]}<br>open=%{customdata[8]}<br>close=%{customdata[9]}<br>high=%{customdata[10]}<br>low=%{customdata[11]}<br>volume=%{customdata[12]}<br>quantity=%{customdata[13]}<br>average_cost=%{customdata[14]}<br>company_name=%{customdata[15]}<extra></extra>\", \"hovertext\": [\"SRVR\", \"SRVR\", \"SRVR\", \"SRVR\", \"SRVR\", \"SRVR\", \"SRVR\", \"SRVR\", \"SRVR\", \"SRVR\", \"SRVR\", \"SRVR\", \"SRVR\", \"SRVR\", \"SRVR\", \"SRVR\", \"SRVR\", \"SRVR\", \"SRVR\", \"SRVR\", \"SRVR\", \"SRVR\", \"SRVR\", \"SRVR\", \"SRVR\", \"SRVR\", \"SRVR\", \"SRVR\", \"SRVR\", \"SRVR\", \"SRVR\", \"SRVR\", \"SRVR\", \"SRVR\", \"SRVR\", \"SRVR\"], \"legendgroup\": \"SRVR\", \"line\": {\"color\": \"#B6E880\", \"dash\": \"solid\"}, \"mode\": \"lines\", \"name\": \"SRVR\", \"showlegend\": true, \"type\": \"scatter\", \"x\": [\"2020-04-13T00:00:00\", \"2020-04-14T00:00:00\", \"2020-04-15T00:00:00\", \"2020-04-16T00:00:00\", \"2020-04-17T00:00:00\", \"2020-04-20T00:00:00\", \"2020-04-21T00:00:00\", \"2020-04-22T00:00:00\", \"2020-04-23T00:00:00\", \"2020-04-24T00:00:00\", \"2020-04-27T00:00:00\", \"2020-04-28T00:00:00\", \"2020-04-29T00:00:00\", \"2020-04-30T00:00:00\", \"2020-05-01T00:00:00\", \"2020-05-04T00:00:00\", \"2020-05-05T00:00:00\", \"2020-05-06T00:00:00\", \"2020-05-07T00:00:00\", \"2020-05-08T00:00:00\", \"2020-05-11T00:00:00\", \"2020-05-12T00:00:00\", \"2020-05-13T00:00:00\", \"2020-05-14T00:00:00\", \"2020-05-15T00:00:00\", \"2020-05-18T00:00:00\", \"2020-05-19T00:00:00\", \"2020-05-20T00:00:00\", \"2020-05-21T00:00:00\", \"2020-05-22T00:00:00\", \"2020-05-26T00:00:00\", \"2020-05-27T00:00:00\", \"2020-05-28T00:00:00\", \"2020-05-29T00:00:00\", \"2020-06-01T00:00:00\", \"2020-06-02T15:02:47\"], \"xaxis\": \"x\", \"y\": [0.0, 0.0, 0.0, 1.69, 3.58, -0.81, -1.47, 1.02, 1.05, 0.63, 3.18, 1.62, 0.27, 0.09, -2.07, -1.29, -0.21, -0.78, -0.33, 1.11, 0.6, -1.95, -1.78, -2.63, -3.11, -0.31, -1.72, -1.12, -2.39, 0.11, 0.71, 3.15, 4.41, 4.89, 6.43, 5.83], \"yaxis\": \"y\"}, {\"customdata\": [[0.0, 0.0, 0.0, 0.0, 0.0, 0.0, 0.0, 0.0, 158.34, 159.79, 160.22, 156.0, 146349.0, 0.0, 0.0, \"Vanguard Consumer Discretionary Index Fund\"], [0.0, 0.0, 0.0, 0.0, 0.0, 0.0, 0.0, 0.0, 163.37, 166.22, 166.68, 162.81, 104244.0, 0.0, 0.0, \"Vanguard Consumer Discretionary Index Fund\"], [0.0, 0.0, 0.0, 0.0, 0.0, 0.0, 0.0, 0.0, 162.84, 162.96, 164.32, 161.18, 75771.0, 0.0, 0.0, \"Vanguard Consumer Discretionary Index Fund\"], [329.85, 330.78, 0.93, 0.28, 0.0, 0.0, 0.93, 0.28, 163.81, 165.39, 167.31, 162.54, 81102.0, 2.0, 164.92, \"Vanguard Consumer Discretionary Index Fund\"], [329.85, 339.92, 10.07, 3.05, 0.0, 0.0, 10.07, 3.05, 169.62, 169.96, 170.23, 167.48, 105607.0, 2.0, 164.92, \"Vanguard Consumer Discretionary Index Fund\"], [329.85, 334.52, 4.67, 1.42, 0.0, 0.0, 4.67, 1.42, 167.8, 167.26, 170.67, 167.25, 169044.0, 2.0, 164.92, \"Vanguard Consumer Discretionary Index Fund\"], [329.85, 325.04, -4.81, -1.46, 0.0, 0.0, -4.81, -1.46, 165.05, 162.52, 165.69, 161.5, 108098.0, 2.0, 164.92, \"Vanguard Consumer Discretionary Index Fund\"], [329.85, 332.16, 2.31, 0.7, 0.0, 0.0, 2.31, 0.7, 165.87, 166.08, 166.96, 165.11, 50875.0, 2.0, 164.92, \"Vanguard Consumer Discretionary Index Fund\"], [329.85, 333.02, 3.17, 0.96, 0.0, 0.0, 3.17, 0.96, 167.17, 166.51, 168.71, 165.84, 106745.0, 2.0, 164.92, \"Vanguard Consumer Discretionary Index Fund\"], [329.85, 338.92, 9.07, 2.75, 0.0, 0.0, 9.07, 2.75, 168.0, 169.46, 170.13, 166.86, 59483.0, 2.0, 164.92, \"Vanguard Consumer Discretionary Index Fund\"], [329.85, 346.44, 16.59, 5.03, 0.0, 0.0, 16.59, 5.03, 171.13, 173.22, 174.13, 171.13, 200633.0, 2.0, 164.92, \"Vanguard Consumer Discretionary Index Fund\"], [329.85, 346.82, 16.97, 5.14, 0.0, 0.0, 16.97, 5.14, 176.3, 173.41, 176.55, 172.39, 75633.0, 2.0, 164.92, \"Vanguard Consumer Discretionary Index Fund\"], [329.85, 356.84, 26.99, 8.18, 0.0, 0.0, 26.99, 8.18, 177.01, 178.42, 179.31, 176.3, 73400.0, 2.0, 164.92, \"Vanguard Consumer Discretionary Index Fund\"], [329.85, 354.44, 24.59, 7.45, 0.0, 0.0, 24.59, 7.45, 177.79, 177.22, 178.69, 175.6, 73453.0, 2.0, 164.92, \"Vanguard Consumer Discretionary Index Fund\"], [329.85, 339.22, 9.37, 2.84, 0.0, 0.0, 9.37, 2.84, 171.98, 169.61, 172.8, 167.89, 88893.0, 2.0, 164.92, \"Vanguard Consumer Discretionary Index Fund\"], [329.85, 342.14, 12.29, 3.73, 0.0, 0.0, 12.29, 3.73, 167.57, 171.07, 171.07, 166.34, 104986.0, 2.0, 164.92, \"Vanguard Consumer Discretionary Index Fund\"], [329.85, 343.64, 13.79, 4.18, 0.0, 0.0, 13.79, 4.18, 173.22, 171.82, 174.22, 171.63, 44111.0, 2.0, 164.92, \"Vanguard Consumer Discretionary Index Fund\"], [329.85, 345.76, 15.91, 4.82, 0.0, 0.0, 15.91, 4.82, 173.31, 172.88, 174.04, 172.06, 40256.0, 2.0, 164.92, \"Vanguard Consumer Discretionary Index Fund\"], [329.85, 350.16, 20.31, 6.16, 0.0, 0.0, 20.31, 6.16, 174.76, 175.08, 175.81, 174.29, 71696.0, 2.0, 164.92, \"Vanguard Consumer Discretionary Index Fund\"], [329.85, 358.62, 28.77, 8.72, 0.0, 0.0, 28.77, 8.72, 177.29, 179.31, 179.32, 176.5, 65792.0, 2.0, 164.92, \"Vanguard Consumer Discretionary Index Fund\"], [329.85, 357.86, 28.01, 8.49, 0.0, 0.0, 28.01, 8.49, 177.57, 178.93, 180.03, 177.57, 67749.0, 2.0, 164.92, \"Vanguard Consumer Discretionary Index Fund\"], [329.85, 349.7, 19.85, 6.02, 0.0, 0.0, 19.85, 6.02, 179.71, 174.85, 180.24, 174.85, 48497.0, 2.0, 164.92, \"Vanguard Consumer Discretionary Index Fund\"], [329.85, 343.42, 13.57, 4.11, 0.0, 0.0, 13.57, 4.11, 174.89, 171.71, 175.45, 169.97, 70058.0, 2.0, 164.92, \"Vanguard Consumer Discretionary Index Fund\"], [329.85, 348.28, 18.43, 5.59, 0.0, 0.0, 18.43, 5.59, 169.64, 174.14, 174.18, 167.91, 105439.0, 2.0, 164.92, \"Vanguard Consumer Discretionary Index Fund\"], [329.85, 352.88, 23.03, 6.98, 0.0, 0.0, 23.03, 6.98, 172.84, 176.44, 176.44, 172.42, 106622.0, 2.0, 164.92, \"Vanguard Consumer Discretionary Index Fund\"], [329.85, 365.34, 35.49, 10.76, 0.0, 0.0, 35.49, 10.76, 180.76, 182.67, 183.49, 180.76, 86367.0, 2.0, 164.92, \"Vanguard Consumer Discretionary Index Fund\"], [329.85, 364.88, 35.03, 10.62, 0.0, 0.0, 35.03, 10.62, 182.71, 182.44, 185.46, 181.86, 61008.0, 2.0, 164.92, \"Vanguard Consumer Discretionary Index Fund\"], [329.85, 370.0, 40.15, 12.17, 0.0, 0.0, 40.15, 12.17, 185.17, 185.0, 185.56, 183.83, 134458.0, 2.0, 164.92, \"Vanguard Consumer Discretionary Index Fund\"], [329.85, 371.58, 41.73, 12.65, 0.0, 0.0, 41.73, 12.65, 185.41, 185.79, 186.62, 183.23, 118026.0, 2.0, 164.92, \"Vanguard Consumer Discretionary Index Fund\"], [329.85, 371.5, 41.65, 12.63, 0.0, 0.0, 41.65, 12.63, 185.68, 185.75, 186.1, 184.4, 252090.0, 2.0, 164.92, \"Vanguard Consumer Discretionary Index Fund\"], [706.93, 753.84, 46.91, 6.64, 0.0, 0.0, 46.91, 6.64, 190.35, 188.46, 190.87, 188.19, 73785.0, 4.0, 176.73, \"Vanguard Consumer Discretionary Index Fund\"], [706.93, 766.76, 59.83, 8.46, 0.0, 0.0, 59.83, 8.46, 190.59, 191.69, 191.7, 186.23, 62121.0, 4.0, 176.73, \"Vanguard Consumer Discretionary Index Fund\"], [706.93, 757.08, 50.15, 7.09, 0.0, 0.0, 50.15, 7.09, 192.24, 189.27, 192.84, 188.61, 119145.0, 4.0, 176.73, \"Vanguard Consumer Discretionary Index Fund\"], [706.93, 760.48, 53.55, 7.58, 0.0, 0.0, 53.55, 7.58, 189.17, 190.12, 190.72, 187.78, 88334.0, 4.0, 176.73, \"Vanguard Consumer Discretionary Index Fund\"], [706.93, 771.72, 64.79, 9.16, 0.0, 0.0, 64.79, 9.16, 190.77, 192.93, 193.56, 190.75, 144429.0, 4.0, 176.73, \"Vanguard Consumer Discretionary Index Fund\"], [706.93, 772.92, 65.99, 9.33, 0.0, 0.0, 65.99, 9.33, 193.79, 193.23, 194.75, 193.0, 0.0, 4.0, 176.73, \"Vanguard Consumer Discretionary Index Fund\"]], \"hovertemplate\": \"<b>%{hovertext}</b><br><br>symbol=VCR<br>date=%{x}<br>total_pct_gain=%{customdata[7]}<br>invested_amount=%{customdata[0]}<br>market_value=%{customdata[1]}<br>unrealized_gain=%{customdata[2]}<br>unrealized_pct_gain=%{customdata[3]}<br>realized_gain=%{customdata[4]}<br>realized_pct_gain=%{customdata[5]}<br>total_gain=%{customdata[6]}<br>open=%{customdata[8]}<br>close=%{customdata[9]}<br>high=%{customdata[10]}<br>low=%{customdata[11]}<br>volume=%{customdata[12]}<br>quantity=%{customdata[13]}<br>average_cost=%{customdata[14]}<br>company_name=%{customdata[15]}<extra></extra>\", \"hovertext\": [\"VCR\", \"VCR\", \"VCR\", \"VCR\", \"VCR\", \"VCR\", \"VCR\", \"VCR\", \"VCR\", \"VCR\", \"VCR\", \"VCR\", \"VCR\", \"VCR\", \"VCR\", \"VCR\", \"VCR\", \"VCR\", \"VCR\", \"VCR\", \"VCR\", \"VCR\", \"VCR\", \"VCR\", \"VCR\", \"VCR\", \"VCR\", \"VCR\", \"VCR\", \"VCR\", \"VCR\", \"VCR\", \"VCR\", \"VCR\", \"VCR\", \"VCR\"], \"legendgroup\": \"VCR\", \"line\": {\"color\": \"#FF97FF\", \"dash\": \"solid\"}, \"mode\": \"lines\", \"name\": \"VCR\", \"showlegend\": true, \"type\": \"scatter\", \"x\": [\"2020-04-13T00:00:00\", \"2020-04-14T00:00:00\", \"2020-04-15T00:00:00\", \"2020-04-16T00:00:00\", \"2020-04-17T00:00:00\", \"2020-04-20T00:00:00\", \"2020-04-21T00:00:00\", \"2020-04-22T00:00:00\", \"2020-04-23T00:00:00\", \"2020-04-24T00:00:00\", \"2020-04-27T00:00:00\", \"2020-04-28T00:00:00\", \"2020-04-29T00:00:00\", \"2020-04-30T00:00:00\", \"2020-05-01T00:00:00\", \"2020-05-04T00:00:00\", \"2020-05-05T00:00:00\", \"2020-05-06T00:00:00\", \"2020-05-07T00:00:00\", \"2020-05-08T00:00:00\", \"2020-05-11T00:00:00\", \"2020-05-12T00:00:00\", \"2020-05-13T00:00:00\", \"2020-05-14T00:00:00\", \"2020-05-15T00:00:00\", \"2020-05-18T00:00:00\", \"2020-05-19T00:00:00\", \"2020-05-20T00:00:00\", \"2020-05-21T00:00:00\", \"2020-05-22T00:00:00\", \"2020-05-26T00:00:00\", \"2020-05-27T00:00:00\", \"2020-05-28T00:00:00\", \"2020-05-29T00:00:00\", \"2020-06-01T00:00:00\", \"2020-06-02T15:02:47\"], \"xaxis\": \"x\", \"y\": [0.0, 0.0, 0.0, 0.28, 3.05, 1.42, -1.46, 0.7, 0.96, 2.75, 5.03, 5.14, 8.18, 7.45, 2.84, 3.73, 4.18, 4.82, 6.16, 8.72, 8.49, 6.02, 4.11, 5.59, 6.98, 10.76, 10.62, 12.17, 12.65, 12.63, 6.64, 8.46, 7.09, 7.58, 9.16, 9.33], \"yaxis\": \"y\"}, {\"customdata\": [[130.0, 125.49, -4.51, -3.47, 0.0, 0.0, -4.51, -3.47, 123.33, 125.49, 125.69, 122.75, 5480835.0, 1.0, 130.0, \"VanEck Vectors Semiconductor ETF\"], [130.0, 130.98, 0.98, 0.75, 0.0, 0.0, 0.98, 0.75, 128.62, 130.98, 131.1, 128.18, 7673223.0, 1.0, 130.0, \"VanEck Vectors Semiconductor ETF\"], [130.0, 127.45, -2.55, -1.96, 0.0, 0.0, -2.55, -1.96, 128.05, 127.45, 128.13, 125.99, 6013364.0, 1.0, 130.0, \"VanEck Vectors Semiconductor ETF\"], [130.0, 130.83, 0.83, 0.64, 0.0, 0.0, 0.83, 0.64, 129.65, 130.83, 131.43, 128.4, 4654983.0, 1.0, 130.0, \"VanEck Vectors Semiconductor ETF\"], [130.0, 132.11, 2.11, 1.62, 0.0, 0.0, 2.11, 1.62, 133.36, 132.11, 133.95, 130.86, 5097583.0, 1.0, 130.0, \"VanEck Vectors Semiconductor ETF\"], [1049.31, 1034.48, -14.83, -1.41, 0.0, 0.0, -14.83, -1.41, 130.01, 129.31, 132.12, 129.27, 3120611.0, 8.0, 131.16, \"VanEck Vectors Semiconductor ETF\"], [1049.31, 988.16, -61.15, -5.83, 0.0, 0.0, -61.15, -5.83, 127.11, 123.52, 127.82, 122.78, 6383646.0, 8.0, 131.16, \"VanEck Vectors Semiconductor ETF\"], [1049.31, 1044.0, -5.31, -0.51, 0.0, 0.0, -5.31, -0.51, 127.15, 130.5, 131.24, 127.05, 6015263.0, 8.0, 131.16, \"VanEck Vectors Semiconductor ETF\"], [1049.31, 1034.4, -14.91, -1.42, 0.0, 0.0, -14.91, -1.42, 130.46, 129.3, 131.92, 129.0, 4272239.0, 8.0, 131.16, \"VanEck Vectors Semiconductor ETF\"], [1049.31, 1055.28, 5.97, 0.57, 0.0, 0.0, 5.97, 0.57, 129.29, 131.91, 132.23, 128.32, 3993989.0, 8.0, 131.16, \"VanEck Vectors Semiconductor ETF\"], [1049.31, 1068.32, 19.01, 1.81, 0.0, 0.0, 19.01, 1.81, 133.22, 133.54, 134.67, 132.51, 4451812.0, 8.0, 131.16, \"VanEck Vectors Semiconductor ETF\"], [1049.31, 1061.2, 11.89, 1.13, 0.0, 0.0, 11.89, 1.13, 135.79, 132.65, 136.46, 132.5, 4556783.0, 8.0, 131.16, \"VanEck Vectors Semiconductor ETF\"], [1049.31, 1111.04, 61.73, 5.88, 0.0, 0.0, 61.73, 5.88, 135.04, 138.88, 139.36, 134.53, 4885494.0, 8.0, 131.16, \"VanEck Vectors Semiconductor ETF\"], [1049.31, 1069.84, 20.53, 1.96, 0.0, 0.0, 20.53, 1.96, 138.1, 133.73, 138.1, 133.5, 6868199.0, 8.0, 131.16, \"VanEck Vectors Semiconductor ETF\"], [1049.31, 1019.44, -29.87, -2.85, 0.0, 0.0, -29.87, -2.85, 130.86, 127.43, 131.1, 126.93, 6015563.0, 8.0, 131.16, \"VanEck Vectors Semiconductor ETF\"], [1049.31, 1030.72, -18.59, -1.77, 0.0, 0.0, -18.59, -1.77, 126.9, 128.84, 129.0, 126.11, 3807896.0, 8.0, 131.16, \"VanEck Vectors Semiconductor ETF\"], [1049.31, 1044.16, -5.15, -0.49, 0.0, 0.0, -5.15, -0.49, 130.67, 130.52, 132.83, 129.78, 4834448.0, 8.0, 131.16, \"VanEck Vectors Semiconductor ETF\"], [1049.31, 1056.4, 7.09, 0.68, 0.0, 0.0, 7.09, 0.68, 132.11, 132.05, 134.04, 131.74, 3326449.0, 8.0, 131.16, \"VanEck Vectors Semiconductor ETF\"], [1049.31, 1066.0, 16.69, 1.59, 0.0, 0.0, 16.69, 1.59, 134.5, 133.25, 134.92, 132.71, 3123389.0, 8.0, 131.16, \"VanEck Vectors Semiconductor ETF\"], [1049.31, 1093.2, 43.89, 4.18, 0.0, 0.0, 43.89, 4.18, 134.72, 136.65, 136.81, 134.18, 3016635.0, 8.0, 131.16, \"VanEck Vectors Semiconductor ETF\"], [1049.31, 1093.76, 44.45, 4.24, 0.0, 0.0, 44.45, 4.24, 135.33, 136.72, 137.7, 135.24, 2720856.0, 8.0, 131.16, \"VanEck Vectors Semiconductor ETF\"], [1049.31, 1063.68, 14.37, 1.37, 0.0, 0.0, 14.37, 1.37, 137.6, 132.96, 137.91, 132.92, 3576627.0, 8.0, 131.16, \"VanEck Vectors Semiconductor ETF\"], [1307.8, 1306.0, -1.8, -0.14, 0.0, 0.0, -1.8, -0.14, 133.93, 130.6, 134.39, 128.77, 6864249.0, 10.0, 130.78, \"VanEck Vectors Semiconductor ETF\"], [1307.8, 1342.6, 34.8, 2.66, 0.0, 0.0, 34.8, 2.66, 129.61, 134.26, 134.39, 127.41, 5694808.0, 10.0, 130.78, \"VanEck Vectors Semiconductor ETF\"], [1307.8, 1312.0, 4.2, 0.32, 0.0, 0.0, 4.2, 0.32, 129.75, 131.2, 131.85, 128.86, 7479518.0, 10.0, 130.78, \"VanEck Vectors Semiconductor ETF\"], [1307.8, 1368.5, 60.7, 4.64, 0.0, 0.0, 60.7, 4.64, 134.56, 136.85, 137.57, 134.43, 4240437.0, 10.0, 130.78, \"VanEck Vectors Semiconductor ETF\"], [1307.8, 1363.4, 55.6, 4.25, 0.0, 0.0, 55.6, 4.25, 136.79, 136.34, 139.27, 136.13, 3994057.0, 10.0, 130.78, \"VanEck Vectors Semiconductor ETF\"], [1307.8, 1412.8, 105.0, 8.03, 0.0, 0.0, 105.0, 8.03, 139.36, 141.28, 142.01, 139.32, 4524349.0, 10.0, 130.78, \"VanEck Vectors Semiconductor ETF\"], [1307.8, 1377.0, 69.2, 5.29, 0.0, 0.0, 69.2, 5.29, 140.94, 137.7, 141.29, 137.5, 4432682.0, 10.0, 130.78, \"VanEck Vectors Semiconductor ETF\"], [1307.8, 1379.9, 72.1, 5.51, 0.0, 0.0, 72.1, 5.51, 137.77, 137.99, 138.15, 136.09, 2477552.0, 10.0, 130.78, \"VanEck Vectors Semiconductor ETF\"], [1307.8, 1391.8, 84.0, 6.42, 0.0, 0.0, 84.0, 6.42, 141.27, 139.18, 142.14, 138.97, 4663592.0, 10.0, 130.78, \"VanEck Vectors Semiconductor ETF\"], [1307.8, 1412.8, 105.0, 8.03, 0.0, 0.0, 105.0, 8.03, 139.23, 141.28, 141.3, 135.65, 6509352.0, 10.0, 130.78, \"VanEck Vectors Semiconductor ETF\"], [1307.8, 1382.6, 74.8, 5.72, 0.0, 0.0, 74.8, 5.72, 140.5, 138.26, 142.01, 137.55, 5192872.0, 10.0, 130.78, \"VanEck Vectors Semiconductor ETF\"], [1307.8, 1410.3, 102.5, 7.84, 0.0, 0.0, 102.5, 7.84, 138.77, 141.03, 141.89, 138.28, 6013103.0, 10.0, 130.78, \"VanEck Vectors Semiconductor ETF\"], [1307.8, 1408.2, 100.4, 7.68, 0.0, 0.0, 100.4, 7.68, 140.9, 140.82, 141.56, 139.78, 3167531.0, 10.0, 130.78, \"VanEck Vectors Semiconductor ETF\"], [1307.8, 1414.5, 106.7, 8.16, 0.0, 0.0, 106.7, 8.16, 141.49, 141.45, 142.61, 140.73, 0.0, 10.0, 130.78, \"VanEck Vectors Semiconductor ETF\"]], \"hovertemplate\": \"<b>%{hovertext}</b><br><br>symbol=SMH<br>date=%{x}<br>total_pct_gain=%{customdata[7]}<br>invested_amount=%{customdata[0]}<br>market_value=%{customdata[1]}<br>unrealized_gain=%{customdata[2]}<br>unrealized_pct_gain=%{customdata[3]}<br>realized_gain=%{customdata[4]}<br>realized_pct_gain=%{customdata[5]}<br>total_gain=%{customdata[6]}<br>open=%{customdata[8]}<br>close=%{customdata[9]}<br>high=%{customdata[10]}<br>low=%{customdata[11]}<br>volume=%{customdata[12]}<br>quantity=%{customdata[13]}<br>average_cost=%{customdata[14]}<br>company_name=%{customdata[15]}<extra></extra>\", \"hovertext\": [\"SMH\", \"SMH\", \"SMH\", \"SMH\", \"SMH\", \"SMH\", \"SMH\", \"SMH\", \"SMH\", \"SMH\", \"SMH\", \"SMH\", \"SMH\", \"SMH\", \"SMH\", \"SMH\", \"SMH\", \"SMH\", \"SMH\", \"SMH\", \"SMH\", \"SMH\", \"SMH\", \"SMH\", \"SMH\", \"SMH\", \"SMH\", \"SMH\", \"SMH\", \"SMH\", \"SMH\", \"SMH\", \"SMH\", \"SMH\", \"SMH\", \"SMH\"], \"legendgroup\": \"SMH\", \"line\": {\"color\": \"#FECB52\", \"dash\": \"solid\"}, \"mode\": \"lines\", \"name\": \"SMH\", \"showlegend\": true, \"type\": \"scatter\", \"x\": [\"2020-04-13T00:00:00\", \"2020-04-14T00:00:00\", \"2020-04-15T00:00:00\", \"2020-04-16T00:00:00\", \"2020-04-17T00:00:00\", \"2020-04-20T00:00:00\", \"2020-04-21T00:00:00\", \"2020-04-22T00:00:00\", \"2020-04-23T00:00:00\", \"2020-04-24T00:00:00\", \"2020-04-27T00:00:00\", \"2020-04-28T00:00:00\", \"2020-04-29T00:00:00\", \"2020-04-30T00:00:00\", \"2020-05-01T00:00:00\", \"2020-05-04T00:00:00\", \"2020-05-05T00:00:00\", \"2020-05-06T00:00:00\", \"2020-05-07T00:00:00\", \"2020-05-08T00:00:00\", \"2020-05-11T00:00:00\", \"2020-05-12T00:00:00\", \"2020-05-13T00:00:00\", \"2020-05-14T00:00:00\", \"2020-05-15T00:00:00\", \"2020-05-18T00:00:00\", \"2020-05-19T00:00:00\", \"2020-05-20T00:00:00\", \"2020-05-21T00:00:00\", \"2020-05-22T00:00:00\", \"2020-05-26T00:00:00\", \"2020-05-27T00:00:00\", \"2020-05-28T00:00:00\", \"2020-05-29T00:00:00\", \"2020-06-01T00:00:00\", \"2020-06-02T15:02:47\"], \"xaxis\": \"x\", \"y\": [-3.47, 0.75, -1.96, 0.64, 1.62, -1.41, -5.83, -0.51, -1.42, 0.57, 1.81, 1.13, 5.88, 1.96, -2.85, -1.77, -0.49, 0.68, 1.59, 4.18, 4.24, 1.37, -0.14, 2.66, 0.32, 4.64, 4.25, 8.03, 5.29, 5.51, 6.42, 8.03, 5.72, 7.84, 7.68, 8.16], \"yaxis\": \"y\"}, {\"customdata\": [[227.41, 220.05, -7.36, -3.24, 0.0, 0.0, -7.36, -3.24, 216.76, 220.05, 220.71, 215.01, 1322725.0, 1.0, 227.41, \"iShares PHLX Semiconductor ETF\"], [227.41, 230.2, 2.79, 1.23, 0.0, 0.0, 2.79, 1.23, 225.38, 230.2, 230.2, 224.84, 1957081.0, 1.0, 227.41, \"iShares PHLX Semiconductor ETF\"], [227.41, 223.35, -4.06, -1.79, 0.0, 0.0, -4.06, -1.79, 225.37, 223.35, 225.37, 221.25, 1206848.0, 1.0, 227.41, \"iShares PHLX Semiconductor ETF\"], [227.41, 229.62, 2.21, 0.97, 0.0, 0.0, 2.21, 0.97, 227.4, 229.62, 230.11, 224.38, 1112670.0, 1.0, 227.41, \"iShares PHLX Semiconductor ETF\"], [227.41, 231.4, 3.99, 1.75, 0.0, 0.0, 3.99, 1.75, 233.66, 231.4, 234.13, 228.55, 924308.0, 1.0, 227.41, \"iShares PHLX Semiconductor ETF\"], [2065.93, 2037.33, -28.6, -1.38, 0.0, 0.0, -28.6, -1.38, 227.92, 226.37, 231.31, 226.07, 904729.0, 9.0, 229.55, \"iShares PHLX Semiconductor ETF\"], [2065.93, 1937.52, -128.41, -6.22, 0.0, 0.0, -128.41, -6.22, 222.84, 215.28, 223.99, 214.58, 1217662.0, 9.0, 229.55, \"iShares PHLX Semiconductor ETF\"], [2065.93, 2054.79, -11.14, -0.54, 0.0, 0.0, -11.14, -0.54, 222.3, 228.31, 229.39, 221.17, 1113839.0, 9.0, 229.55, \"iShares PHLX Semiconductor ETF\"], [2065.93, 2034.27, -31.66, -1.53, 0.0, 0.0, -31.66, -1.53, 228.32, 226.03, 230.67, 225.23, 977694.0, 9.0, 229.55, \"iShares PHLX Semiconductor ETF\"], [2065.93, 2076.57, 10.64, 0.52, 0.0, 0.0, 10.64, 0.52, 225.88, 230.73, 231.24, 223.99, 962422.0, 9.0, 229.55, \"iShares PHLX Semiconductor ETF\"], [2065.93, 2104.29, 38.36, 1.86, 0.0, 0.0, 38.36, 1.86, 233.71, 233.81, 236.14, 232.73, 1070751.0, 9.0, 229.55, \"iShares PHLX Semiconductor ETF\"], [2065.93, 2093.4, 27.47, 1.33, 0.0, 0.0, 27.47, 1.33, 238.17, 232.6, 239.36, 232.34, 1364692.0, 9.0, 229.55, \"iShares PHLX Semiconductor ETF\"], [2065.93, 2192.76, 126.83, 6.14, 0.0, 0.0, 126.83, 6.14, 236.73, 243.64, 244.63, 236.29, 1325455.0, 9.0, 229.55, \"iShares PHLX Semiconductor ETF\"], [2065.93, 2115.36, 49.43, 2.39, 0.0, 0.0, 49.43, 2.39, 242.61, 235.04, 242.91, 234.64, 1724108.0, 9.0, 229.55, \"iShares PHLX Semiconductor ETF\"], [2065.93, 2012.22, -53.71, -2.6, 0.0, 0.0, -53.71, -2.6, 228.86, 223.58, 230.11, 222.5, 2011251.0, 9.0, 229.55, \"iShares PHLX Semiconductor ETF\"], [2065.93, 2028.96, -36.97, -1.79, 0.0, 0.0, -36.97, -1.79, 221.45, 225.44, 225.72, 220.57, 1127116.0, 9.0, 229.55, \"iShares PHLX Semiconductor ETF\"], [2065.93, 2063.07, -2.86, -0.14, 0.0, 0.0, -2.86, -0.14, 229.64, 229.23, 233.5, 227.86, 1502088.0, 9.0, 229.55, \"iShares PHLX Semiconductor ETF\"], [2065.93, 2088.36, 22.43, 1.09, 0.0, 0.0, 22.43, 1.09, 231.73, 232.04, 235.61, 231.37, 1469636.0, 9.0, 229.55, \"iShares PHLX Semiconductor ETF\"], [2065.93, 2107.17, 41.24, 2.0, 0.0, 0.0, 41.24, 2.0, 236.14, 234.13, 237.03, 232.96, 943114.0, 9.0, 229.55, \"iShares PHLX Semiconductor ETF\"], [2065.93, 2169.36, 103.43, 5.01, 0.0, 0.0, 103.43, 5.01, 236.58, 241.04, 241.29, 235.91, 1295227.0, 9.0, 229.55, \"iShares PHLX Semiconductor ETF\"], [2065.93, 2167.29, 101.36, 4.91, 0.0, 0.0, 101.36, 4.91, 238.78, 240.81, 242.97, 238.34, 1166529.0, 9.0, 229.55, \"iShares PHLX Semiconductor ETF\"], [2065.93, 2109.78, 43.85, 2.12, 0.0, 0.0, 43.85, 2.12, 242.44, 234.42, 243.25, 234.22, 1254681.0, 9.0, 229.55, \"iShares PHLX Semiconductor ETF\"], [2521.19, 2528.9, 7.71, 0.31, 0.0, 0.0, 7.71, 0.31, 235.56, 229.9, 236.64, 226.42, 2296523.0, 11.0, 229.2, \"iShares PHLX Semiconductor ETF\"], [2521.19, 2596.55, 75.36, 2.99, 0.0, 0.0, 75.36, 2.99, 227.94, 236.05, 236.28, 224.11, 2173884.0, 11.0, 229.2, \"iShares PHLX Semiconductor ETF\"], [2521.19, 2542.87, 21.68, 0.86, 0.0, 0.0, 21.68, 0.86, 228.14, 231.17, 231.96, 226.74, 1885658.0, 11.0, 229.2, \"iShares PHLX Semiconductor ETF\"], [2521.19, 2659.69, 138.5, 5.49, 0.0, 0.0, 138.5, 5.49, 236.66, 241.79, 243.08, 236.66, 1648106.0, 11.0, 229.2, \"iShares PHLX Semiconductor ETF\"], [2521.19, 2651.0, 129.81, 5.15, 0.0, 0.0, 129.81, 5.15, 241.84, 241.0, 246.58, 240.91, 1409598.0, 11.0, 229.2, \"iShares PHLX Semiconductor ETF\"], [2521.19, 2748.68, 227.49, 9.02, 0.0, 0.0, 227.49, 9.02, 245.96, 249.88, 251.51, 245.96, 1264070.0, 11.0, 229.2, \"iShares PHLX Semiconductor ETF\"], [2521.19, 2679.49, 158.3, 6.28, 0.0, 0.0, 158.3, 6.28, 249.96, 243.59, 250.15, 243.19, 1260427.0, 11.0, 229.2, \"iShares PHLX Semiconductor ETF\"], [2521.19, 2691.37, 170.18, 6.75, 0.0, 0.0, 170.18, 6.75, 243.83, 244.67, 245.08, 240.81, 800938.0, 11.0, 229.2, \"iShares PHLX Semiconductor ETF\"], [2521.19, 2719.64, 198.45, 7.87, 0.0, 0.0, 198.45, 7.87, 251.22, 247.24, 252.43, 246.91, 1437003.0, 11.0, 229.2, \"iShares PHLX Semiconductor ETF\"], [2521.19, 2761.55, 240.36, 9.53, 0.0, 0.0, 240.36, 9.53, 248.0, 251.05, 251.05, 240.98, 1765890.0, 11.0, 229.2, \"iShares PHLX Semiconductor ETF\"], [2521.19, 2701.27, 180.08, 7.14, 0.0, 0.0, 180.08, 7.14, 249.21, 245.57, 252.56, 244.22, 1490374.0, 11.0, 229.2, \"iShares PHLX Semiconductor ETF\"], [2521.19, 2770.46, 249.27, 9.89, 0.0, 0.0, 249.27, 9.89, 246.38, 251.86, 252.53, 245.62, 2094005.0, 11.0, 229.2, \"iShares PHLX Semiconductor ETF\"], [2521.19, 2755.5, 234.31, 9.29, 0.0, 0.0, 234.31, 9.29, 250.56, 250.5, 251.68, 248.27, 927676.0, 11.0, 229.2, \"iShares PHLX Semiconductor ETF\"], [2521.19, 2766.61, 245.42, 9.73, 0.0, 0.0, 245.42, 9.73, 251.22, 251.51, 253.74, 250.05, 0.0, 11.0, 229.2, \"iShares PHLX Semiconductor ETF\"]], \"hovertemplate\": \"<b>%{hovertext}</b><br><br>symbol=SOXX<br>date=%{x}<br>total_pct_gain=%{customdata[7]}<br>invested_amount=%{customdata[0]}<br>market_value=%{customdata[1]}<br>unrealized_gain=%{customdata[2]}<br>unrealized_pct_gain=%{customdata[3]}<br>realized_gain=%{customdata[4]}<br>realized_pct_gain=%{customdata[5]}<br>total_gain=%{customdata[6]}<br>open=%{customdata[8]}<br>close=%{customdata[9]}<br>high=%{customdata[10]}<br>low=%{customdata[11]}<br>volume=%{customdata[12]}<br>quantity=%{customdata[13]}<br>average_cost=%{customdata[14]}<br>company_name=%{customdata[15]}<extra></extra>\", \"hovertext\": [\"SOXX\", \"SOXX\", \"SOXX\", \"SOXX\", \"SOXX\", \"SOXX\", \"SOXX\", \"SOXX\", \"SOXX\", \"SOXX\", \"SOXX\", \"SOXX\", \"SOXX\", \"SOXX\", \"SOXX\", \"SOXX\", \"SOXX\", \"SOXX\", \"SOXX\", \"SOXX\", \"SOXX\", \"SOXX\", \"SOXX\", \"SOXX\", \"SOXX\", \"SOXX\", \"SOXX\", \"SOXX\", \"SOXX\", \"SOXX\", \"SOXX\", \"SOXX\", \"SOXX\", \"SOXX\", \"SOXX\", \"SOXX\"], \"legendgroup\": \"SOXX\", \"line\": {\"color\": \"#636efa\", \"dash\": \"solid\"}, \"mode\": \"lines\", \"name\": \"SOXX\", \"showlegend\": true, \"type\": \"scatter\", \"x\": [\"2020-04-13T00:00:00\", \"2020-04-14T00:00:00\", \"2020-04-15T00:00:00\", \"2020-04-16T00:00:00\", \"2020-04-17T00:00:00\", \"2020-04-20T00:00:00\", \"2020-04-21T00:00:00\", \"2020-04-22T00:00:00\", \"2020-04-23T00:00:00\", \"2020-04-24T00:00:00\", \"2020-04-27T00:00:00\", \"2020-04-28T00:00:00\", \"2020-04-29T00:00:00\", \"2020-04-30T00:00:00\", \"2020-05-01T00:00:00\", \"2020-05-04T00:00:00\", \"2020-05-05T00:00:00\", \"2020-05-06T00:00:00\", \"2020-05-07T00:00:00\", \"2020-05-08T00:00:00\", \"2020-05-11T00:00:00\", \"2020-05-12T00:00:00\", \"2020-05-13T00:00:00\", \"2020-05-14T00:00:00\", \"2020-05-15T00:00:00\", \"2020-05-18T00:00:00\", \"2020-05-19T00:00:00\", \"2020-05-20T00:00:00\", \"2020-05-21T00:00:00\", \"2020-05-22T00:00:00\", \"2020-05-26T00:00:00\", \"2020-05-27T00:00:00\", \"2020-05-28T00:00:00\", \"2020-05-29T00:00:00\", \"2020-06-01T00:00:00\", \"2020-06-02T15:02:47\"], \"xaxis\": \"x\", \"y\": [-3.24, 1.23, -1.79, 0.97, 1.75, -1.38, -6.22, -0.54, -1.53, 0.52, 1.86, 1.33, 6.14, 2.39, -2.6, -1.79, -0.14, 1.09, 2.0, 5.01, 4.91, 2.12, 0.31, 2.99, 0.86, 5.49, 5.15, 9.02, 6.28, 6.75, 7.87, 9.53, 7.14, 9.89, 9.29, 9.73], \"yaxis\": \"y\"}, {\"customdata\": [[0.0, 0.0, 0.0, 0.0, 0.0, 0.0, 0.0, 0.0, 19.33, 19.34, 19.48, 19.24, 3000.0, 0.0, 0.0, \"ARK Israel Innovative Technology ETF\"], [0.0, 0.0, 0.0, 0.0, 0.0, 0.0, 0.0, 0.0, 19.99, 19.88, 20.14, 19.57, 4411.0, 0.0, 0.0, \"ARK Israel Innovative Technology ETF\"], [0.0, 0.0, 0.0, 0.0, 0.0, 0.0, 0.0, 0.0, 19.56, 19.64, 19.74, 19.39, 1389.0, 0.0, 0.0, \"ARK Israel Innovative Technology ETF\"], [178.2, 178.65, 0.45, 0.25, 0.0, 0.0, 0.45, 0.25, 19.93, 19.85, 19.93, 19.72, 4681.0, 9.0, 19.8, \"ARK Israel Innovative Technology ETF\"], [178.2, 182.63, 4.43, 2.48, 0.0, 0.0, 4.43, 2.48, 20.4, 20.29, 20.4, 20.13, 3237.0, 9.0, 19.8, \"ARK Israel Innovative Technology ETF\"], [1596.0, 1588.9, -7.11, -0.45, 0.0, 0.0, -7.11, -0.45, 20.4, 20.64, 20.97, 20.4, 12300.0, 77.0, 20.73, \"ARK Israel Innovative Technology ETF\"], [1596.0, 1531.53, -64.47, -4.04, 0.0, 0.0, -64.47, -4.04, 20.38, 19.89, 20.44, 19.73, 2492.0, 77.0, 20.73, \"ARK Israel Innovative Technology ETF\"], [1596.0, 1559.25, -36.75, -2.3, 0.0, 0.0, -36.75, -2.3, 20.22, 20.25, 20.5, 20.22, 4000.0, 77.0, 20.73, \"ARK Israel Innovative Technology ETF\"], [1596.0, 1575.8, -20.2, -1.27, 0.0, 0.0, -20.2, -1.27, 20.57, 20.46, 20.58, 20.39, 3200.0, 77.0, 20.73, \"ARK Israel Innovative Technology ETF\"], [1596.0, 1586.24, -9.76, -0.61, 0.0, 0.0, -9.76, -0.61, 20.68, 20.6, 20.68, 20.44, 9219.0, 77.0, 20.73, \"ARK Israel Innovative Technology ETF\"], [1596.0, 1678.6, 82.6, 5.18, 0.0, 0.0, 82.6, 5.18, 21.31, 21.8, 21.88, 21.22, 8584.0, 77.0, 20.73, \"ARK Israel Innovative Technology ETF\"], [1596.0, 1667.05, 71.05, 4.45, 0.0, 0.0, 71.05, 4.45, 23.5, 21.65, 23.5, 21.3, 9566.0, 77.0, 20.73, \"ARK Israel Innovative Technology ETF\"], [1596.0, 1725.57, 129.57, 8.12, 0.0, 0.0, 129.57, 8.12, 21.84, 22.41, 22.6, 21.84, 14042.0, 77.0, 20.73, \"ARK Israel Innovative Technology ETF\"], [1596.0, 1689.76, 93.76, 5.87, 0.0, 0.0, 93.76, 5.87, 22.18, 21.94, 22.29, 21.75, 14862.0, 77.0, 20.73, \"ARK Israel Innovative Technology ETF\"], [1596.0, 1618.55, 22.55, 1.41, 0.0, 0.0, 22.55, 1.41, 21.51, 21.02, 21.62, 20.9, 4269.0, 77.0, 20.73, \"ARK Israel Innovative Technology ETF\"], [1596.0, 1630.42, 34.42, 2.16, 0.0, 0.0, 34.42, 2.16, 20.83, 21.17, 21.17, 20.76, 6541.0, 77.0, 20.73, \"ARK Israel Innovative Technology ETF\"], [1596.0, 1654.58, 58.58, 3.67, 0.0, 0.0, 58.58, 3.67, 21.3, 21.49, 21.88, 21.3, 5725.0, 77.0, 20.73, \"ARK Israel Innovative Technology ETF\"], [1596.0, 1666.66, 70.66, 4.43, 0.0, 0.0, 70.66, 4.43, 21.64, 21.64, 21.75, 21.43, 5349.0, 77.0, 20.73, \"ARK Israel Innovative Technology ETF\"], [1596.0, 1691.69, 95.69, 6.0, 0.0, 0.0, 95.69, 6.0, 22.06, 21.97, 22.18, 21.94, 4094.0, 77.0, 20.73, \"ARK Israel Innovative Technology ETF\"], [1596.0, 1729.06, 133.06, 8.34, 0.0, 0.0, 133.06, 8.34, 22.18, 22.46, 22.5, 22.07, 2225.0, 77.0, 20.73, \"ARK Israel Innovative Technology ETF\"], [1596.0, 1757.07, 161.07, 10.09, 0.0, 0.0, 161.07, 10.09, 22.39, 22.82, 22.84, 22.39, 10364.0, 77.0, 20.73, \"ARK Israel Innovative Technology ETF\"], [1596.0, 1726.34, 130.34, 8.17, 0.0, 0.0, 130.34, 8.17, 22.92, 22.42, 22.95, 22.42, 40783.0, 77.0, 20.73, \"ARK Israel Innovative Technology ETF\"], [1897.88, 1974.02, 76.14, 4.01, 0.0, 0.0, 76.14, 4.01, 22.58, 21.69, 22.58, 21.44, 17590.0, 91.0, 20.86, \"ARK Israel Innovative Technology ETF\"], [1897.88, 1960.61, 62.73, 3.31, 0.0, 0.0, 62.73, 3.31, 21.45, 21.55, 21.55, 21.06, 14859.0, 91.0, 20.86, \"ARK Israel Innovative Technology ETF\"], [1897.88, 1985.62, 87.74, 4.62, 0.0, 0.0, 87.74, 4.62, 21.55, 21.82, 21.82, 21.5, 2657.0, 91.0, 20.86, \"ARK Israel Innovative Technology ETF\"], [1897.88, 2068.43, 170.55, 8.99, 0.0, 0.0, 170.55, 8.99, 22.56, 22.73, 22.78, 22.4, 10857.0, 91.0, 20.86, \"ARK Israel Innovative Technology ETF\"], [1897.88, 2091.27, 193.39, 10.19, 0.0, 0.0, 193.39, 10.19, 22.73, 22.98, 23.1, 22.66, 4173.0, 91.0, 20.86, \"ARK Israel Innovative Technology ETF\"], [1897.88, 2131.22, 233.34, 12.29, 0.0, 0.0, 233.34, 12.29, 23.66, 23.42, 23.66, 23.25, 6371.0, 91.0, 20.86, \"ARK Israel Innovative Technology ETF\"], [1897.88, 2123.48, 225.61, 11.89, 0.0, 0.0, 225.61, 11.89, 23.48, 23.34, 23.51, 22.94, 29200.0, 91.0, 20.86, \"ARK Israel Innovative Technology ETF\"], [1897.88, 2129.74, 231.86, 12.22, 0.0, 0.0, 231.86, 12.22, 23.28, 23.4, 23.49, 23.16, 5080.0, 91.0, 20.86, \"ARK Israel Innovative Technology ETF\"], [2422.47, 2686.73, 264.26, 10.91, 0.0, 0.0, 264.26, 10.91, 24.66, 23.78, 24.66, 23.7, 12097.0, 113.0, 21.44, \"ARK Israel Innovative Technology ETF\"], [2422.47, 2669.06, 246.59, 10.18, 0.0, 0.0, 246.59, 10.18, 24.06, 23.62, 24.06, 23.16, 7294.0, 113.0, 21.44, \"ARK Israel Innovative Technology ETF\"], [2422.47, 2650.61, 228.14, 9.42, 0.0, 0.0, 228.14, 9.42, 23.84, 23.46, 23.95, 23.36, 8808.0, 113.0, 21.44, \"ARK Israel Innovative Technology ETF\"], [2422.47, 2685.33, 262.86, 10.85, 0.0, 0.0, 262.86, 10.85, 23.37, 23.76, 23.76, 23.37, 2700.0, 113.0, 21.44, \"ARK Israel Innovative Technology ETF\"], [2422.47, 2728.95, 306.48, 12.65, 0.0, 0.0, 306.48, 12.65, 23.74, 24.15, 24.15, 23.74, 5134.0, 113.0, 21.44, \"ARK Israel Innovative Technology ETF\"], [2422.47, 2727.82, 305.35, 12.6, 0.0, 0.0, 305.35, 12.6, 24.22, 24.14, 24.47, 24.14, 0.0, 113.0, 21.44, \"ARK Israel Innovative Technology ETF\"]], \"hovertemplate\": \"<b>%{hovertext}</b><br><br>symbol=IZRL<br>date=%{x}<br>total_pct_gain=%{customdata[7]}<br>invested_amount=%{customdata[0]}<br>market_value=%{customdata[1]}<br>unrealized_gain=%{customdata[2]}<br>unrealized_pct_gain=%{customdata[3]}<br>realized_gain=%{customdata[4]}<br>realized_pct_gain=%{customdata[5]}<br>total_gain=%{customdata[6]}<br>open=%{customdata[8]}<br>close=%{customdata[9]}<br>high=%{customdata[10]}<br>low=%{customdata[11]}<br>volume=%{customdata[12]}<br>quantity=%{customdata[13]}<br>average_cost=%{customdata[14]}<br>company_name=%{customdata[15]}<extra></extra>\", \"hovertext\": [\"IZRL\", \"IZRL\", \"IZRL\", \"IZRL\", \"IZRL\", \"IZRL\", \"IZRL\", \"IZRL\", \"IZRL\", \"IZRL\", \"IZRL\", \"IZRL\", \"IZRL\", \"IZRL\", \"IZRL\", \"IZRL\", \"IZRL\", \"IZRL\", \"IZRL\", \"IZRL\", \"IZRL\", \"IZRL\", \"IZRL\", \"IZRL\", \"IZRL\", \"IZRL\", \"IZRL\", \"IZRL\", \"IZRL\", \"IZRL\", \"IZRL\", \"IZRL\", \"IZRL\", \"IZRL\", \"IZRL\", \"IZRL\"], \"legendgroup\": \"IZRL\", \"line\": {\"color\": \"#EF553B\", \"dash\": \"solid\"}, \"mode\": \"lines\", \"name\": \"IZRL\", \"showlegend\": true, \"type\": \"scatter\", \"x\": [\"2020-04-13T00:00:00\", \"2020-04-14T00:00:00\", \"2020-04-15T00:00:00\", \"2020-04-16T00:00:00\", \"2020-04-17T00:00:00\", \"2020-04-20T00:00:00\", \"2020-04-21T00:00:00\", \"2020-04-22T00:00:00\", \"2020-04-23T00:00:00\", \"2020-04-24T00:00:00\", \"2020-04-27T00:00:00\", \"2020-04-28T00:00:00\", \"2020-04-29T00:00:00\", \"2020-04-30T00:00:00\", \"2020-05-01T00:00:00\", \"2020-05-04T00:00:00\", \"2020-05-05T00:00:00\", \"2020-05-06T00:00:00\", \"2020-05-07T00:00:00\", \"2020-05-08T00:00:00\", \"2020-05-11T00:00:00\", \"2020-05-12T00:00:00\", \"2020-05-13T00:00:00\", \"2020-05-14T00:00:00\", \"2020-05-15T00:00:00\", \"2020-05-18T00:00:00\", \"2020-05-19T00:00:00\", \"2020-05-20T00:00:00\", \"2020-05-21T00:00:00\", \"2020-05-22T00:00:00\", \"2020-05-26T00:00:00\", \"2020-05-27T00:00:00\", \"2020-05-28T00:00:00\", \"2020-05-29T00:00:00\", \"2020-06-01T00:00:00\", \"2020-06-02T15:02:47\"], \"xaxis\": \"x\", \"y\": [0.0, 0.0, 0.0, 0.25, 2.48, -0.45, -4.04, -2.3, -1.27, -0.61, 5.18, 4.45, 8.12, 5.87, 1.41, 2.16, 3.67, 4.43, 6.0, 8.34, 10.09, 8.17, 4.01, 3.31, 4.62, 8.99, 10.19, 12.29, 11.89, 12.22, 10.91, 10.18, 9.42, 10.85, 12.65, 12.6], \"yaxis\": \"y\"}, {\"customdata\": [[322.2, 301.77, -20.43, -6.34, 0.0, 0.0, -20.43, -6.34, 33.61, 33.53, 33.61, 32.38, 205615.0, 9.0, 35.8, \"ARK Genomic Revolution Multi-Sector ETF\"], [322.2, 319.68, -2.52, -0.78, 0.0, 0.0, -2.52, -0.78, 34.76, 35.52, 35.61, 34.23, 300480.0, 9.0, 35.8, \"ARK Genomic Revolution Multi-Sector ETF\"], [322.2, 315.45, -6.75, -2.09, 0.0, 0.0, -6.75, -2.09, 34.93, 35.05, 35.55, 34.0, 324111.0, 9.0, 35.8, \"ARK Genomic Revolution Multi-Sector ETF\"], [322.2, 325.89, 3.69, 1.15, 0.0, 0.0, 3.69, 1.15, 35.87, 36.21, 36.29, 35.35, 295036.0, 9.0, 35.8, \"ARK Genomic Revolution Multi-Sector ETF\"], [322.2, 336.69, 14.49, 4.5, 0.0, 0.0, 14.49, 4.5, 37.62, 37.41, 37.62, 36.62, 276777.0, 9.0, 35.8, \"ARK Genomic Revolution Multi-Sector ETF\"], [6309.85, 6323.84, 13.99, 0.22, 0.0, 0.0, 13.99, 0.22, 37.26, 38.56, 39.32, 37.08, 560749.0, 164.0, 38.47, \"ARK Genomic Revolution Multi-Sector ETF\"], [6309.85, 6191.0, -118.85, -1.88, 0.0, 0.0, -118.85, -1.88, 38.28, 37.75, 38.49, 36.91, 338638.0, 164.0, 38.47, \"ARK Genomic Revolution Multi-Sector ETF\"], [6309.85, 6382.88, 73.03, 1.16, 0.0, 0.0, 73.03, 1.16, 38.94, 38.92, 39.4, 38.42, 420517.0, 164.0, 38.47, \"ARK Genomic Revolution Multi-Sector ETF\"], [6309.85, 6359.1, 49.25, 0.78, 0.0, 0.0, 49.25, 0.78, 39.57, 38.78, 40.0, 38.75, 357413.0, 164.0, 38.47, \"ARK Genomic Revolution Multi-Sector ETF\"], [6309.85, 6569.84, 259.99, 4.12, 0.0, 0.0, 259.99, 4.12, 39.62, 40.06, 40.27, 39.01, 451171.0, 164.0, 38.47, \"ARK Genomic Revolution Multi-Sector ETF\"], [6309.85, 6874.06, 564.21, 8.94, 0.0, 0.0, 564.21, 8.94, 41.01, 41.92, 42.61, 40.78, 828551.0, 164.0, 38.47, \"ARK Genomic Revolution Multi-Sector ETF\"], [6309.85, 6656.76, 346.91, 5.5, 0.0, 0.0, 346.91, 5.5, 42.99, 40.59, 43.03, 40.07, 810762.0, 164.0, 38.47, \"ARK Genomic Revolution Multi-Sector ETF\"], [6309.85, 6856.84, 546.99, 8.67, 0.0, 0.0, 546.99, 8.67, 41.91, 41.81, 42.04, 40.36, 304576.0, 164.0, 38.47, \"ARK Genomic Revolution Multi-Sector ETF\"], [6309.85, 6673.16, 363.31, 5.76, 0.0, 0.0, 363.31, 5.76, 41.83, 40.69, 42.0, 40.65, 265665.0, 164.0, 38.47, \"ARK Genomic Revolution Multi-Sector ETF\"], [6309.85, 6535.4, 225.55, 3.57, 0.0, 0.0, 225.55, 3.57, 39.51, 39.85, 40.0, 38.85, 421562.0, 164.0, 38.47, \"ARK Genomic Revolution Multi-Sector ETF\"], [6309.85, 6753.52, 443.67, 7.03, 0.0, 0.0, 443.67, 7.03, 39.75, 41.18, 41.22, 39.59, 227994.0, 164.0, 38.47, \"ARK Genomic Revolution Multi-Sector ETF\"], [6309.85, 6817.48, 507.63, 8.05, 0.0, 0.0, 507.63, 8.05, 42.02, 41.57, 42.3, 41.24, 386711.0, 164.0, 38.47, \"ARK Genomic Revolution Multi-Sector ETF\"], [6309.85, 6855.2, 545.35, 8.64, 0.0, 0.0, 545.35, 8.64, 41.88, 41.8, 42.53, 41.31, 431601.0, 164.0, 38.47, \"ARK Genomic Revolution Multi-Sector ETF\"], [6309.85, 6889.64, 579.79, 9.19, 0.0, 0.0, 579.79, 9.19, 42.62, 42.01, 42.62, 41.51, 280508.0, 164.0, 38.47, \"ARK Genomic Revolution Multi-Sector ETF\"], [6309.85, 7089.72, 779.87, 12.36, 0.0, 0.0, 779.87, 12.36, 42.89, 43.23, 43.5, 42.29, 390505.0, 164.0, 38.47, \"ARK Genomic Revolution Multi-Sector ETF\"], [6309.85, 7555.48, 1245.63, 19.74, 0.0, 0.0, 1245.63, 19.74, 43.02, 46.07, 46.48, 42.8, 797836.0, 164.0, 38.47, \"ARK Genomic Revolution Multi-Sector ETF\"], [6309.85, 7402.96, 1093.11, 17.32, 0.0, 0.0, 1093.11, 17.32, 46.87, 45.14, 47.17, 44.8, 809617.0, 164.0, 38.47, \"ARK Genomic Revolution Multi-Sector ETF\"], [7385.35, 8153.46, 768.11, 10.4, 0.0, 0.0, 768.11, 10.4, 45.48, 43.14, 45.89, 41.5, 1194704.0, 189.0, 39.08, \"ARK Genomic Revolution Multi-Sector ETF\"], [7385.35, 8040.06, 654.71, 8.86, 0.0, 0.0, 654.71, 8.86, 42.88, 42.54, 43.34, 41.65, 376814.0, 189.0, 39.08, \"ARK Genomic Revolution Multi-Sector ETF\"], [7385.35, 8484.21, 1098.86, 14.88, 0.0, 0.0, 1098.86, 14.88, 42.47, 44.89, 45.03, 42.22, 449218.0, 189.0, 39.08, \"ARK Genomic Revolution Multi-Sector ETF\"], [7385.35, 8892.45, 1507.1, 20.41, 0.0, 0.0, 1507.1, 20.41, 47.49, 47.05, 47.49, 46.12, 888559.0, 189.0, 39.08, \"ARK Genomic Revolution Multi-Sector ETF\"], [7385.35, 8809.29, 1423.94, 19.28, 0.0, 0.0, 1423.94, 19.28, 47.29, 46.61, 48.12, 46.51, 697005.0, 189.0, 39.08, \"ARK Genomic Revolution Multi-Sector ETF\"], [7385.35, 9096.57, 1711.22, 23.17, 0.0, 0.0, 1711.22, 23.17, 47.72, 48.13, 48.27, 47.25, 881430.0, 189.0, 39.08, \"ARK Genomic Revolution Multi-Sector ETF\"], [7385.35, 9106.02, 1720.67, 23.3, 0.0, 0.0, 1720.67, 23.3, 48.17, 48.18, 48.56, 47.01, 710285.0, 189.0, 39.08, \"ARK Genomic Revolution Multi-Sector ETF\"], [7385.35, 9366.84, 1981.49, 26.83, 0.0, 0.0, 1981.49, 26.83, 48.39, 49.56, 49.6, 47.85, 595468.0, 189.0, 39.08, \"ARK Genomic Revolution Multi-Sector ETF\"], [9892.28, 11570.41, 1678.13, 16.96, 0.0, 0.0, 1678.13, 16.96, 51.16, 48.01, 51.16, 47.9, 940656.0, 241.0, 41.05, \"ARK Genomic Revolution Multi-Sector ETF\"], [9892.28, 11122.15, 1229.87, 12.43, 0.0, 0.0, 1229.87, 12.43, 48.27, 46.15, 48.27, 44.1, 910483.0, 241.0, 41.05, \"ARK Genomic Revolution Multi-Sector ETF\"], [9892.28, 10914.89, 1022.61, 10.34, 0.0, 0.0, 1022.61, 10.34, 46.06, 45.29, 46.76, 45.07, 515625.0, 241.0, 41.05, \"ARK Genomic Revolution Multi-Sector ETF\"], [9892.28, 11167.94, 1275.66, 12.9, 0.0, 0.0, 1275.66, 12.9, 45.26, 46.34, 46.38, 44.7, 478454.0, 241.0, 41.05, \"ARK Genomic Revolution Multi-Sector ETF\"], [9892.28, 11425.81, 1533.53, 15.5, 0.0, 0.0, 1533.53, 15.5, 46.77, 47.41, 47.74, 46.12, 552715.0, 241.0, 41.05, \"ARK Genomic Revolution Multi-Sector ETF\"], [9892.28, 11346.28, 1454.0, 14.7, 0.0, 0.0, 1454.0, 14.7, 47.5, 47.08, 47.7, 46.8, 0.0, 241.0, 41.05, \"ARK Genomic Revolution Multi-Sector ETF\"]], \"hovertemplate\": \"<b>%{hovertext}</b><br><br>symbol=ARKG<br>date=%{x}<br>total_pct_gain=%{customdata[7]}<br>invested_amount=%{customdata[0]}<br>market_value=%{customdata[1]}<br>unrealized_gain=%{customdata[2]}<br>unrealized_pct_gain=%{customdata[3]}<br>realized_gain=%{customdata[4]}<br>realized_pct_gain=%{customdata[5]}<br>total_gain=%{customdata[6]}<br>open=%{customdata[8]}<br>close=%{customdata[9]}<br>high=%{customdata[10]}<br>low=%{customdata[11]}<br>volume=%{customdata[12]}<br>quantity=%{customdata[13]}<br>average_cost=%{customdata[14]}<br>company_name=%{customdata[15]}<extra></extra>\", \"hovertext\": [\"ARKG\", \"ARKG\", \"ARKG\", \"ARKG\", \"ARKG\", \"ARKG\", \"ARKG\", \"ARKG\", \"ARKG\", \"ARKG\", \"ARKG\", \"ARKG\", \"ARKG\", \"ARKG\", \"ARKG\", \"ARKG\", \"ARKG\", \"ARKG\", \"ARKG\", \"ARKG\", \"ARKG\", \"ARKG\", \"ARKG\", \"ARKG\", \"ARKG\", \"ARKG\", \"ARKG\", \"ARKG\", \"ARKG\", \"ARKG\", \"ARKG\", \"ARKG\", \"ARKG\", \"ARKG\", \"ARKG\", \"ARKG\"], \"legendgroup\": \"ARKG\", \"line\": {\"color\": \"#00cc96\", \"dash\": \"solid\"}, \"mode\": \"lines\", \"name\": \"ARKG\", \"showlegend\": true, \"type\": \"scatter\", \"x\": [\"2020-04-13T00:00:00\", \"2020-04-14T00:00:00\", \"2020-04-15T00:00:00\", \"2020-04-16T00:00:00\", \"2020-04-17T00:00:00\", \"2020-04-20T00:00:00\", \"2020-04-21T00:00:00\", \"2020-04-22T00:00:00\", \"2020-04-23T00:00:00\", \"2020-04-24T00:00:00\", \"2020-04-27T00:00:00\", \"2020-04-28T00:00:00\", \"2020-04-29T00:00:00\", \"2020-04-30T00:00:00\", \"2020-05-01T00:00:00\", \"2020-05-04T00:00:00\", \"2020-05-05T00:00:00\", \"2020-05-06T00:00:00\", \"2020-05-07T00:00:00\", \"2020-05-08T00:00:00\", \"2020-05-11T00:00:00\", \"2020-05-12T00:00:00\", \"2020-05-13T00:00:00\", \"2020-05-14T00:00:00\", \"2020-05-15T00:00:00\", \"2020-05-18T00:00:00\", \"2020-05-19T00:00:00\", \"2020-05-20T00:00:00\", \"2020-05-21T00:00:00\", \"2020-05-22T00:00:00\", \"2020-05-26T00:00:00\", \"2020-05-27T00:00:00\", \"2020-05-28T00:00:00\", \"2020-05-29T00:00:00\", \"2020-06-01T00:00:00\", \"2020-06-02T15:02:47\"], \"xaxis\": \"x\", \"y\": [-6.34, -0.78, -2.09, 1.15, 4.5, 0.22, -1.88, 1.16, 0.78, 4.12, 8.94, 5.5, 8.67, 5.76, 3.57, 7.03, 8.05, 8.64, 9.19, 12.36, 19.74, 17.32, 10.4, 8.86, 14.88, 20.41, 19.28, 23.17, 23.3, 26.83, 16.96, 12.43, 10.34, 12.9, 15.5, 14.7], \"yaxis\": \"y\"}, {\"customdata\": [[0.0, 0.0, 0.0, 0.0, 0.0, 0.0, 0.0, 0.0, 56.61, 57.42, 57.49, 55.41, 201672.0, 0.0, 0.0, \"ARK Web x.0 ETF\"], [0.0, 0.0, 0.0, 0.0, 0.0, 0.0, 0.0, 0.0, 59.25, 60.31, 60.88, 59.11, 371815.0, 0.0, 0.0, \"ARK Web x.0 ETF\"], [0.0, 0.0, 0.0, 0.0, 0.0, 0.0, 0.0, 0.0, 59.66, 59.93, 60.23, 58.75, 279990.0, 0.0, 0.0, \"ARK Web x.0 ETF\"], [478.96, 487.6, 8.64, 1.8, 0.0, 0.0, 8.64, 1.8, 60.35, 60.95, 61.7, 59.8, 299615.0, 8.0, 59.87, \"ARK Web x.0 ETF\"], [478.96, 495.36, 16.4, 3.42, 0.0, 0.0, 16.4, 3.42, 62.25, 61.92, 62.25, 61.2, 338536.0, 8.0, 59.87, \"ARK Web x.0 ETF\"], [6007.12, 5960.64, -46.48, -0.77, 0.0, 0.0, -46.48, -0.77, 61.39, 62.09, 63.25, 61.0, 309430.0, 96.0, 62.57, \"ARK Web x.0 ETF\"], [6007.12, 5696.64, -310.48, -5.17, 0.0, 0.0, -310.48, -5.17, 61.0, 59.34, 61.32, 58.37, 294719.0, 96.0, 62.57, \"ARK Web x.0 ETF\"], [6007.12, 5962.56, -44.56, -0.74, 0.0, 0.0, -44.56, -0.74, 61.13, 62.11, 62.32, 60.65, 236535.0, 96.0, 62.57, \"ARK Web x.0 ETF\"], [6007.12, 5922.24, -84.88, -1.41, 0.0, 0.0, -84.88, -1.41, 62.19, 61.69, 63.0, 61.63, 188509.0, 96.0, 62.57, \"ARK Web x.0 ETF\"], [6007.12, 6041.28, 34.16, 0.57, 0.0, 0.0, 34.16, 0.57, 61.93, 62.93, 63.06, 61.37, 178778.0, 96.0, 62.57, \"ARK Web x.0 ETF\"], [6007.12, 6236.16, 229.04, 3.81, 0.0, 0.0, 229.04, 3.81, 63.96, 64.96, 65.15, 63.74, 263529.0, 96.0, 62.57, \"ARK Web x.0 ETF\"], [6007.12, 6048.96, 41.84, 0.7, 0.0, 0.0, 41.84, 0.7, 65.79, 63.01, 65.8, 62.59, 298651.0, 96.0, 62.57, \"ARK Web x.0 ETF\"], [6007.12, 6364.8, 357.68, 5.95, 0.0, 0.0, 357.68, 5.95, 64.5, 66.3, 66.54, 64.09, 282460.0, 96.0, 62.57, \"ARK Web x.0 ETF\"], [6007.12, 6306.24, 299.12, 4.98, 0.0, 0.0, 299.12, 4.98, 66.76, 65.69, 67.36, 65.29, 231491.0, 96.0, 62.57, \"ARK Web x.0 ETF\"], [6007.12, 6037.44, 30.32, 0.5, 0.0, 0.0, 30.32, 0.5, 63.72, 62.89, 64.56, 62.33, 329523.0, 96.0, 62.57, \"ARK Web x.0 ETF\"], [6007.12, 6233.28, 226.16, 3.76, 0.0, 0.0, 226.16, 3.76, 62.11, 64.93, 64.94, 62.11, 233019.0, 96.0, 62.57, \"ARK Web x.0 ETF\"], [6007.12, 6330.24, 323.12, 5.38, 0.0, 0.0, 323.12, 5.38, 65.97, 65.94, 66.94, 65.58, 248782.0, 96.0, 62.57, \"ARK Web x.0 ETF\"], [6007.12, 6411.84, 404.72, 6.74, 0.0, 0.0, 404.72, 6.74, 66.27, 66.79, 67.43, 65.91, 351134.0, 96.0, 62.57, \"ARK Web x.0 ETF\"], [6007.12, 6720.0, 712.88, 11.87, 0.0, 0.0, 712.88, 11.87, 68.08, 70.0, 70.32, 68.04, 333082.0, 96.0, 62.57, \"ARK Web x.0 ETF\"], [6007.12, 6867.84, 860.72, 14.33, 0.0, 0.0, 860.72, 14.33, 70.5, 71.54, 71.92, 69.6, 430440.0, 96.0, 62.57, \"ARK Web x.0 ETF\"], [6007.12, 6887.04, 879.92, 14.65, 0.0, 0.0, 879.92, 14.65, 70.85, 71.74, 72.2, 70.43, 362134.0, 96.0, 62.57, \"ARK Web x.0 ETF\"], [6007.12, 6760.32, 753.2, 12.54, 0.0, 0.0, 753.2, 12.54, 72.23, 70.42, 72.62, 70.41, 310316.0, 96.0, 62.57, \"ARK Web x.0 ETF\"], [7097.84, 7730.24, 632.4, 8.91, 0.0, 0.0, 632.4, 8.91, 70.7, 69.02, 71.16, 67.45, 440229.0, 112.0, 63.37, \"ARK Web x.0 ETF\"], [7097.84, 7845.6, 747.76, 10.54, 0.0, 0.0, 747.76, 10.54, 68.24, 70.05, 70.14, 67.27, 274407.0, 112.0, 63.37, \"ARK Web x.0 ETF\"], [7097.84, 7953.12, 855.28, 12.05, 0.0, 0.0, 855.28, 12.05, 69.33, 71.01, 71.24, 69.16, 250346.0, 112.0, 63.37, \"ARK Web x.0 ETF\"], [7097.84, 8044.96, 947.12, 13.34, 0.0, 0.0, 947.12, 13.34, 72.94, 71.83, 73.29, 71.64, 393500.0, 112.0, 63.37, \"ARK Web x.0 ETF\"], [7097.84, 8118.88, 1021.04, 14.39, 0.0, 0.0, 1021.04, 14.39, 72.02, 72.49, 73.64, 72.02, 376330.0, 112.0, 63.37, \"ARK Web x.0 ETF\"], [7097.84, 8302.56, 1204.72, 16.97, 0.0, 0.0, 1204.72, 16.97, 73.74, 74.13, 74.4, 73.3, 416248.0, 112.0, 63.37, \"ARK Web x.0 ETF\"], [7097.84, 8249.92, 1152.08, 16.23, 0.0, 0.0, 1152.08, 16.23, 73.94, 73.66, 74.16, 72.38, 399657.0, 112.0, 63.37, \"ARK Web x.0 ETF\"], [7097.84, 8301.44, 1203.6, 16.96, 0.0, 0.0, 1203.6, 16.96, 73.63, 74.12, 74.25, 72.96, 271105.0, 112.0, 63.37, \"ARK Web x.0 ETF\"], [7097.84, 8289.12, 1191.28, 16.78, 0.0, 0.0, 1191.28, 16.78, 75.86, 74.01, 75.86, 73.83, 420499.0, 112.0, 63.37, \"ARK Web x.0 ETF\"], [7097.84, 8239.84, 1142.0, 16.09, 0.0, 0.0, 1142.0, 16.09, 74.0, 73.57, 74.0, 70.45, 525018.0, 112.0, 63.37, \"ARK Web x.0 ETF\"], [7097.84, 8220.8, 1122.96, 15.82, 0.0, 0.0, 1122.96, 15.82, 73.36, 73.4, 74.83, 72.88, 279480.0, 112.0, 63.37, \"ARK Web x.0 ETF\"], [7097.84, 8410.08, 1312.24, 18.49, 0.0, 0.0, 1312.24, 18.49, 73.54, 75.09, 75.26, 73.43, 282216.0, 112.0, 63.37, \"ARK Web x.0 ETF\"], [7097.84, 8613.92, 1516.08, 21.36, 0.0, 0.0, 1516.08, 21.36, 75.22, 76.91, 77.04, 75.22, 472029.0, 112.0, 63.37, \"ARK Web x.0 ETF\"], [7097.84, 8594.32, 1496.48, 21.08, 0.0, 0.0, 1496.48, 21.08, 77.34, 76.74, 77.85, 76.53, 0.0, 112.0, 63.37, \"ARK Web x.0 ETF\"]], \"hovertemplate\": \"<b>%{hovertext}</b><br><br>symbol=ARKW<br>date=%{x}<br>total_pct_gain=%{customdata[7]}<br>invested_amount=%{customdata[0]}<br>market_value=%{customdata[1]}<br>unrealized_gain=%{customdata[2]}<br>unrealized_pct_gain=%{customdata[3]}<br>realized_gain=%{customdata[4]}<br>realized_pct_gain=%{customdata[5]}<br>total_gain=%{customdata[6]}<br>open=%{customdata[8]}<br>close=%{customdata[9]}<br>high=%{customdata[10]}<br>low=%{customdata[11]}<br>volume=%{customdata[12]}<br>quantity=%{customdata[13]}<br>average_cost=%{customdata[14]}<br>company_name=%{customdata[15]}<extra></extra>\", \"hovertext\": [\"ARKW\", \"ARKW\", \"ARKW\", \"ARKW\", \"ARKW\", \"ARKW\", \"ARKW\", \"ARKW\", \"ARKW\", \"ARKW\", \"ARKW\", \"ARKW\", \"ARKW\", \"ARKW\", \"ARKW\", \"ARKW\", \"ARKW\", \"ARKW\", \"ARKW\", \"ARKW\", \"ARKW\", \"ARKW\", \"ARKW\", \"ARKW\", \"ARKW\", \"ARKW\", \"ARKW\", \"ARKW\", \"ARKW\", \"ARKW\", \"ARKW\", \"ARKW\", \"ARKW\", \"ARKW\", \"ARKW\", \"ARKW\"], \"legendgroup\": \"ARKW\", \"line\": {\"color\": \"#ab63fa\", \"dash\": \"solid\"}, \"mode\": \"lines\", \"name\": \"ARKW\", \"showlegend\": true, \"type\": \"scatter\", \"x\": [\"2020-04-13T00:00:00\", \"2020-04-14T00:00:00\", \"2020-04-15T00:00:00\", \"2020-04-16T00:00:00\", \"2020-04-17T00:00:00\", \"2020-04-20T00:00:00\", \"2020-04-21T00:00:00\", \"2020-04-22T00:00:00\", \"2020-04-23T00:00:00\", \"2020-04-24T00:00:00\", \"2020-04-27T00:00:00\", \"2020-04-28T00:00:00\", \"2020-04-29T00:00:00\", \"2020-04-30T00:00:00\", \"2020-05-01T00:00:00\", \"2020-05-04T00:00:00\", \"2020-05-05T00:00:00\", \"2020-05-06T00:00:00\", \"2020-05-07T00:00:00\", \"2020-05-08T00:00:00\", \"2020-05-11T00:00:00\", \"2020-05-12T00:00:00\", \"2020-05-13T00:00:00\", \"2020-05-14T00:00:00\", \"2020-05-15T00:00:00\", \"2020-05-18T00:00:00\", \"2020-05-19T00:00:00\", \"2020-05-20T00:00:00\", \"2020-05-21T00:00:00\", \"2020-05-22T00:00:00\", \"2020-05-26T00:00:00\", \"2020-05-27T00:00:00\", \"2020-05-28T00:00:00\", \"2020-05-29T00:00:00\", \"2020-06-01T00:00:00\", \"2020-06-02T15:02:47\"], \"xaxis\": \"x\", \"y\": [0.0, 0.0, 0.0, 1.8, 3.42, -0.77, -5.17, -0.74, -1.41, 0.57, 3.81, 0.7, 5.95, 4.98, 0.5, 3.76, 5.38, 6.74, 11.87, 14.33, 14.65, 12.54, 8.91, 10.54, 12.05, 13.34, 14.39, 16.97, 16.23, 16.96, 16.78, 16.09, 15.82, 18.49, 21.36, 21.08], \"yaxis\": \"y\"}, {\"customdata\": [[0.0, 0.0, 0.0, 0.0, 0.0, 0.0, 0.0, 0.0, 89.61, 90.87, 91.08, 89.25, 48406.0, 0.0, 0.0, \"SPDR S&P Semiconductor ETF\"], [0.0, 0.0, 0.0, 0.0, 0.0, 0.0, 0.0, 0.0, 93.02, 94.55, 94.67, 92.85, 148547.0, 0.0, 0.0, \"SPDR S&P Semiconductor ETF\"], [0.0, 0.0, 0.0, 0.0, 0.0, 0.0, 0.0, 0.0, 92.25, 91.78, 92.51, 90.9, 67937.0, 0.0, 0.0, \"SPDR S&P Semiconductor ETF\"], [461.3, 465.25, 3.95, 0.86, 0.0, 0.0, 3.95, 0.86, 93.04, 93.05, 93.21, 91.32, 121884.0, 5.0, 92.26, \"SPDR S&P Semiconductor ETF\"], [461.3, 470.0, 8.7, 1.89, 0.0, 0.0, 8.7, 1.89, 94.97, 94.0, 95.55, 93.0, 74522.0, 5.0, 92.26, \"SPDR S&P Semiconductor ETF\"], [3650.16, 3604.38, -45.78, -1.25, 0.0, 0.0, -45.78, -1.25, 92.38, 92.42, 94.34, 92.16, 59256.0, 39.0, 93.59, \"SPDR S&P Semiconductor ETF\"], [3650.16, 3455.79, -194.37, -5.32, 0.0, 0.0, -194.37, -5.32, 91.03, 88.61, 91.29, 88.16, 57839.0, 39.0, 93.59, \"SPDR S&P Semiconductor ETF\"], [3650.16, 3631.68, -18.48, -0.51, 0.0, 0.0, -18.48, -0.51, 91.31, 93.12, 93.5, 90.87, 55851.0, 39.0, 93.59, \"SPDR S&P Semiconductor ETF\"], [3650.16, 3637.92, -12.24, -0.34, 0.0, 0.0, -12.24, -0.34, 93.47, 93.28, 94.81, 92.88, 61851.0, 39.0, 93.59, \"SPDR S&P Semiconductor ETF\"], [3650.16, 3711.63, 61.47, 1.68, 0.0, 0.0, 61.47, 1.68, 93.8, 95.17, 95.31, 92.56, 54397.0, 39.0, 93.59, \"SPDR S&P Semiconductor ETF\"], [3650.16, 3795.87, 145.71, 3.99, 0.0, 0.0, 145.71, 3.99, 96.33, 97.33, 97.73, 96.04, 70475.0, 39.0, 93.59, \"SPDR S&P Semiconductor ETF\"], [3650.16, 3799.77, 149.61, 4.1, 0.0, 0.0, 149.61, 4.1, 98.92, 97.43, 99.71, 97.39, 76711.0, 39.0, 93.59, \"SPDR S&P Semiconductor ETF\"], [3650.16, 4032.6, 382.44, 10.48, 0.0, 0.0, 382.44, 10.48, 99.62, 103.4, 103.74, 99.62, 354003.0, 39.0, 93.59, \"SPDR S&P Semiconductor ETF\"], [3650.16, 3881.67, 231.51, 6.34, 0.0, 0.0, 231.51, 6.34, 102.71, 99.53, 102.71, 99.53, 65984.0, 39.0, 93.59, \"SPDR S&P Semiconductor ETF\"], [3650.16, 3681.6, 31.44, 0.86, 0.0, 0.0, 31.44, 0.86, 97.1, 94.4, 97.41, 93.96, 91454.0, 39.0, 93.59, \"SPDR S&P Semiconductor ETF\"], [3650.16, 3712.02, 61.86, 1.69, 0.0, 0.0, 61.86, 1.69, 93.44, 95.18, 95.18, 93.03, 67961.0, 39.0, 93.59, \"SPDR S&P Semiconductor ETF\"], [3650.16, 3791.19, 141.03, 3.86, 0.0, 0.0, 141.03, 3.86, 97.25, 97.21, 99.04, 96.57, 68221.0, 39.0, 93.59, \"SPDR S&P Semiconductor ETF\"], [3650.16, 3831.75, 181.59, 4.97, 0.0, 0.0, 181.59, 4.97, 98.1, 98.25, 99.6, 98.0, 49695.0, 39.0, 93.59, \"SPDR S&P Semiconductor ETF\"], [3650.16, 3891.42, 241.26, 6.61, 0.0, 0.0, 241.26, 6.61, 100.0, 99.78, 100.59, 98.56, 60823.0, 39.0, 93.59, \"SPDR S&P Semiconductor ETF\"], [3650.16, 4023.63, 373.47, 10.23, 0.0, 0.0, 373.47, 10.23, 101.95, 103.17, 103.18, 100.91, 62276.0, 39.0, 93.59, \"SPDR S&P Semiconductor ETF\"], [3650.16, 4007.64, 357.48, 9.79, 0.0, 0.0, 357.48, 9.79, 102.08, 102.76, 103.77, 101.63, 41565.0, 39.0, 93.59, \"SPDR S&P Semiconductor ETF\"], [3650.16, 3886.35, 236.19, 6.47, 0.0, 0.0, 236.19, 6.47, 103.32, 99.65, 103.78, 99.64, 188347.0, 39.0, 93.59, \"SPDR S&P Semiconductor ETF\"], [4322.34, 4467.06, 144.73, 3.35, 0.0, 0.0, 144.73, 3.35, 99.81, 97.11, 100.66, 95.69, 140654.0, 46.0, 93.96, \"SPDR S&P Semiconductor ETF\"], [4322.34, 4524.56, 202.23, 4.68, 0.0, 0.0, 202.23, 4.68, 96.12, 98.36, 98.36, 94.14, 129423.0, 46.0, 93.96, \"SPDR S&P Semiconductor ETF\"], [4322.34, 4439.46, 117.12, 2.71, 0.0, 0.0, 117.12, 2.71, 95.38, 96.51, 96.74, 94.9, 44126.0, 46.0, 93.96, \"SPDR S&P Semiconductor ETF\"], [4322.34, 4709.94, 387.6, 8.97, 0.0, 0.0, 387.6, 8.97, 99.16, 102.39, 102.85, 99.16, 189657.0, 46.0, 93.96, \"SPDR S&P Semiconductor ETF\"], [4322.34, 4695.22, 372.88, 8.63, 0.0, 0.0, 372.88, 8.63, 102.3, 102.07, 104.46, 101.99, 142479.0, 46.0, 93.96, \"SPDR S&P Semiconductor ETF\"], [4322.34, 4869.56, 547.23, 12.66, 0.0, 0.0, 547.23, 12.66, 104.15, 105.86, 106.57, 104.15, 119666.0, 46.0, 93.96, \"SPDR S&P Semiconductor ETF\"], [4322.34, 4741.68, 419.35, 9.7, 0.0, 0.0, 419.35, 9.7, 105.78, 103.08, 106.17, 102.96, 54825.0, 46.0, 93.96, \"SPDR S&P Semiconductor ETF\"], [4322.34, 4790.44, 468.1, 10.83, 0.0, 0.0, 468.1, 10.83, 103.32, 104.14, 104.23, 102.25, 117159.0, 46.0, 93.96, \"SPDR S&P Semiconductor ETF\"], [4322.34, 4877.84, 555.51, 12.85, 0.0, 0.0, 555.51, 12.85, 107.15, 106.04, 108.05, 105.92, 50372.0, 46.0, 93.96, \"SPDR S&P Semiconductor ETF\"], [4322.34, 4946.84, 624.51, 14.45, 0.0, 0.0, 624.51, 14.45, 106.92, 107.54, 107.57, 103.28, 59654.0, 46.0, 93.96, \"SPDR S&P Semiconductor ETF\"], [4322.34, 4813.9, 491.57, 11.37, 0.0, 0.0, 491.57, 11.37, 107.26, 104.65, 108.07, 104.13, 140379.0, 46.0, 93.96, \"SPDR S&P Semiconductor ETF\"], [4322.34, 4933.96, 611.62, 14.15, 0.0, 0.0, 611.62, 14.15, 105.22, 107.26, 107.49, 104.6, 50895.0, 46.0, 93.96, \"SPDR S&P Semiconductor ETF\"], [4322.34, 4936.26, 613.93, 14.2, 0.0, 0.0, 613.93, 14.2, 106.94, 107.31, 108.19, 106.26, 122325.0, 46.0, 93.96, \"SPDR S&P Semiconductor ETF\"], [4322.34, 4950.52, 628.19, 14.53, 0.0, 0.0, 628.19, 14.53, 107.72, 107.62, 108.4, 107.12, 0.0, 46.0, 93.96, \"SPDR S&P Semiconductor ETF\"]], \"hovertemplate\": \"<b>%{hovertext}</b><br><br>symbol=XSD<br>date=%{x}<br>total_pct_gain=%{customdata[7]}<br>invested_amount=%{customdata[0]}<br>market_value=%{customdata[1]}<br>unrealized_gain=%{customdata[2]}<br>unrealized_pct_gain=%{customdata[3]}<br>realized_gain=%{customdata[4]}<br>realized_pct_gain=%{customdata[5]}<br>total_gain=%{customdata[6]}<br>open=%{customdata[8]}<br>close=%{customdata[9]}<br>high=%{customdata[10]}<br>low=%{customdata[11]}<br>volume=%{customdata[12]}<br>quantity=%{customdata[13]}<br>average_cost=%{customdata[14]}<br>company_name=%{customdata[15]}<extra></extra>\", \"hovertext\": [\"XSD\", \"XSD\", \"XSD\", \"XSD\", \"XSD\", \"XSD\", \"XSD\", \"XSD\", \"XSD\", \"XSD\", \"XSD\", \"XSD\", \"XSD\", \"XSD\", \"XSD\", \"XSD\", \"XSD\", \"XSD\", \"XSD\", \"XSD\", \"XSD\", \"XSD\", \"XSD\", \"XSD\", \"XSD\", \"XSD\", \"XSD\", \"XSD\", \"XSD\", \"XSD\", \"XSD\", \"XSD\", \"XSD\", \"XSD\", \"XSD\", \"XSD\"], \"legendgroup\": \"XSD\", \"line\": {\"color\": \"#FFA15A\", \"dash\": \"solid\"}, \"mode\": \"lines\", \"name\": \"XSD\", \"showlegend\": true, \"type\": \"scatter\", \"x\": [\"2020-04-13T00:00:00\", \"2020-04-14T00:00:00\", \"2020-04-15T00:00:00\", \"2020-04-16T00:00:00\", \"2020-04-17T00:00:00\", \"2020-04-20T00:00:00\", \"2020-04-21T00:00:00\", \"2020-04-22T00:00:00\", \"2020-04-23T00:00:00\", \"2020-04-24T00:00:00\", \"2020-04-27T00:00:00\", \"2020-04-28T00:00:00\", \"2020-04-29T00:00:00\", \"2020-04-30T00:00:00\", \"2020-05-01T00:00:00\", \"2020-05-04T00:00:00\", \"2020-05-05T00:00:00\", \"2020-05-06T00:00:00\", \"2020-05-07T00:00:00\", \"2020-05-08T00:00:00\", \"2020-05-11T00:00:00\", \"2020-05-12T00:00:00\", \"2020-05-13T00:00:00\", \"2020-05-14T00:00:00\", \"2020-05-15T00:00:00\", \"2020-05-18T00:00:00\", \"2020-05-19T00:00:00\", \"2020-05-20T00:00:00\", \"2020-05-21T00:00:00\", \"2020-05-22T00:00:00\", \"2020-05-26T00:00:00\", \"2020-05-27T00:00:00\", \"2020-05-28T00:00:00\", \"2020-05-29T00:00:00\", \"2020-06-01T00:00:00\", \"2020-06-02T15:02:47\"], \"xaxis\": \"x\", \"y\": [0.0, 0.0, 0.0, 0.86, 1.89, -1.25, -5.32, -0.51, -0.34, 1.68, 3.99, 4.1, 10.48, 6.34, 0.86, 1.69, 3.86, 4.97, 6.61, 10.23, 9.79, 6.47, 3.35, 4.68, 2.71, 8.97, 8.63, 12.66, 9.7, 10.83, 12.85, 14.45, 11.37, 14.15, 14.2, 14.53], \"yaxis\": \"y\"}, {\"customdata\": [[0.0, 0.0, 0.0, 0.0, 0.0, 0.0, 0.0, 0.0, 53.0, 52.92, 53.05, 52.58, 330432.0, 0.0, 0.0, \"Fidelity Total Bond ETF\"], [0.0, 0.0, 0.0, 0.0, 0.0, 0.0, 0.0, 0.0, 53.07, 53.07, 53.4, 52.92, 445112.0, 0.0, 0.0, \"Fidelity Total Bond ETF\"], [0.0, 0.0, 0.0, 0.0, 0.0, 0.0, 0.0, 0.0, 53.07, 53.24, 53.33, 53.07, 231906.0, 0.0, 0.0, \"Fidelity Total Bond ETF\"], [106.4, 106.28, -0.12, -0.11, 0.0, 0.0, -0.12, -0.11, 53.2, 53.14, 53.25, 53.0, 240672.0, 2.0, 53.2, \"Fidelity Total Bond ETF\"], [106.4, 106.24, -0.16, -0.15, 0.0, 0.0, -0.16, -0.15, 53.14, 53.12, 53.25, 53.08, 262878.0, 2.0, 53.2, \"Fidelity Total Bond ETF\"], [1008.76, 1005.1, -3.66, -0.36, 0.0, 0.0, -3.66, -0.36, 53.12, 52.9, 53.12, 52.84, 223255.0, 19.0, 53.09, \"Fidelity Total Bond ETF\"], [1008.76, 998.07, -10.69, -1.06, 0.0, 0.0, -10.69, -1.06, 52.9, 52.53, 53.13, 52.5, 432918.0, 19.0, 53.09, \"Fidelity Total Bond ETF\"], [1008.76, 1004.15, -4.61, -0.46, 0.0, 0.0, -4.61, -0.46, 52.58, 52.85, 52.85, 52.49, 215111.0, 19.0, 53.09, \"Fidelity Total Bond ETF\"], [1008.76, 1007.0, -1.76, -0.17, 0.0, 0.0, -1.76, -0.17, 52.98, 53.0, 53.05, 52.9, 203063.0, 19.0, 53.09, \"Fidelity Total Bond ETF\"], [1008.76, 1008.14, -0.62, -0.06, 0.0, 0.0, -0.62, -0.06, 53.0, 53.06, 53.06, 52.86, 207503.0, 19.0, 53.09, \"Fidelity Total Bond ETF\"], [1008.76, 1004.34, -4.42, -0.44, 0.0, 0.0, -4.42, -0.44, 52.97, 52.86, 52.97, 52.74, 255680.0, 19.0, 53.09, \"Fidelity Total Bond ETF\"], [1008.76, 1003.2, -5.56, -0.55, 0.0, 0.0, -5.56, -0.55, 52.79, 52.8, 52.88, 52.58, 146270.0, 19.0, 53.09, \"Fidelity Total Bond ETF\"], [1008.76, 1005.86, -2.9, -0.29, 0.0, 0.0, -2.9, -0.29, 52.91, 52.94, 52.99, 52.89, 322178.0, 19.0, 53.09, \"Fidelity Total Bond ETF\"], [1008.76, 1004.34, -4.42, -0.44, 0.0, 0.0, -4.42, -0.44, 52.93, 52.86, 53.07, 52.58, 244102.0, 19.0, 53.09, \"Fidelity Total Bond ETF\"], [1008.76, 1001.87, -6.89, -0.68, 0.0, 0.0, -6.89, -0.68, 52.87, 52.73, 53.0, 52.73, 305330.0, 19.0, 53.09, \"Fidelity Total Bond ETF\"], [1008.76, 1005.29, -3.47, -0.34, 0.0, 0.0, -3.47, -0.34, 52.9, 52.91, 52.94, 52.73, 189637.0, 19.0, 53.09, \"Fidelity Total Bond ETF\"], [1008.76, 1004.34, -4.42, -0.44, 0.0, 0.0, -4.42, -0.44, 52.87, 52.86, 52.9, 52.7, 283858.0, 19.0, 53.09, \"Fidelity Total Bond ETF\"], [1008.76, 1002.63, -6.13, -0.61, 0.0, 0.0, -6.13, -0.61, 52.85, 52.77, 52.85, 52.56, 165156.0, 19.0, 53.09, \"Fidelity Total Bond ETF\"], [1008.76, 1003.39, -5.37, -0.53, 0.0, 0.0, -5.37, -0.53, 52.54, 52.81, 52.89, 52.54, 150902.0, 19.0, 53.09, \"Fidelity Total Bond ETF\"], [1008.76, 1003.39, -5.37, -0.53, 0.0, 0.0, -5.37, -0.53, 52.85, 52.81, 52.95, 52.6, 554805.0, 19.0, 53.09, \"Fidelity Total Bond ETF\"], [1008.76, 997.88, -10.88, -1.08, 0.0, 0.0, -10.88, -1.08, 52.8, 52.52, 52.8, 52.5, 218961.0, 19.0, 53.09, \"Fidelity Total Bond ETF\"], [1008.76, 1000.54, -8.22, -0.81, 0.0, 0.0, -8.22, -0.81, 52.66, 52.66, 52.85, 52.62, 152263.0, 19.0, 53.09, \"Fidelity Total Bond ETF\"], [1272.31, 1266.11, -6.2, -0.49, 0.0, 0.0, -6.2, -0.49, 52.67, 52.75, 52.98, 52.67, 364821.0, 24.0, 53.01, \"Fidelity Total Bond ETF\"], [1272.31, 1267.2, -5.11, -0.4, 0.0, 0.0, -5.11, -0.4, 52.81, 52.8, 52.87, 52.67, 143289.0, 24.0, 53.01, \"Fidelity Total Bond ETF\"], [1272.31, 1267.44, -4.87, -0.38, 0.0, 0.0, -4.87, -0.38, 52.8, 52.81, 52.88, 52.71, 180042.0, 24.0, 53.01, \"Fidelity Total Bond ETF\"], [1272.31, 1269.36, -2.95, -0.23, 0.0, 0.0, -2.95, -0.23, 52.86, 52.89, 53.0, 52.83, 229354.0, 24.0, 53.01, \"Fidelity Total Bond ETF\"], [1272.31, 1274.16, 1.85, 0.15, 0.0, 0.0, 1.85, 0.15, 53.05, 53.09, 53.12, 53.0, 280330.0, 24.0, 53.01, \"Fidelity Total Bond ETF\"], [1272.31, 1279.44, 7.13, 0.56, 0.0, 0.0, 7.13, 0.56, 53.02, 53.31, 53.4, 53.02, 252079.0, 24.0, 53.01, \"Fidelity Total Bond ETF\"], [1272.31, 1281.36, 9.05, 0.71, 0.0, 0.0, 9.05, 0.71, 53.37, 53.39, 53.47, 53.32, 195397.0, 24.0, 53.01, \"Fidelity Total Bond ETF\"], [1272.31, 1281.12, 8.81, 0.69, 0.0, 0.0, 8.81, 0.69, 53.39, 53.38, 53.45, 53.34, 138085.0, 24.0, 53.01, \"Fidelity Total Bond ETF\"], [1432.5, 1442.07, 9.57, 0.67, 0.0, 0.0, 9.57, 0.67, 53.38, 53.41, 53.46, 53.27, 229874.0, 27.0, 53.06, \"Fidelity Total Bond ETF\"], [1432.5, 1442.88, 10.38, 0.72, 0.0, 0.0, 10.38, 0.72, 53.41, 53.44, 53.5, 53.32, 148575.0, 27.0, 53.06, \"Fidelity Total Bond ETF\"], [1432.5, 1440.99, 8.49, 0.59, 0.0, 0.0, 8.49, 0.59, 53.38, 53.37, 53.49, 53.36, 165127.0, 27.0, 53.06, \"Fidelity Total Bond ETF\"], [1432.5, 1447.2, 14.7, 1.03, 0.0, 0.0, 14.7, 1.03, 53.55, 53.6, 53.67, 53.37, 240374.0, 27.0, 53.06, \"Fidelity Total Bond ETF\"], [1432.5, 1447.47, 14.97, 1.04, 0.0, 0.0, 14.97, 1.04, 53.55, 53.61, 53.64, 53.4, 227213.0, 27.0, 53.06, \"Fidelity Total Bond ETF\"], [1432.5, 1448.55, 16.05, 1.12, 0.0, 0.0, 16.05, 1.12, 53.63, 53.65, 53.68, 53.63, 0.0, 27.0, 53.06, \"Fidelity Total Bond ETF\"]], \"hovertemplate\": \"<b>%{hovertext}</b><br><br>symbol=FBND<br>date=%{x}<br>total_pct_gain=%{customdata[7]}<br>invested_amount=%{customdata[0]}<br>market_value=%{customdata[1]}<br>unrealized_gain=%{customdata[2]}<br>unrealized_pct_gain=%{customdata[3]}<br>realized_gain=%{customdata[4]}<br>realized_pct_gain=%{customdata[5]}<br>total_gain=%{customdata[6]}<br>open=%{customdata[8]}<br>close=%{customdata[9]}<br>high=%{customdata[10]}<br>low=%{customdata[11]}<br>volume=%{customdata[12]}<br>quantity=%{customdata[13]}<br>average_cost=%{customdata[14]}<br>company_name=%{customdata[15]}<extra></extra>\", \"hovertext\": [\"FBND\", \"FBND\", \"FBND\", \"FBND\", \"FBND\", \"FBND\", \"FBND\", \"FBND\", \"FBND\", \"FBND\", \"FBND\", \"FBND\", \"FBND\", \"FBND\", \"FBND\", \"FBND\", \"FBND\", \"FBND\", \"FBND\", \"FBND\", \"FBND\", \"FBND\", \"FBND\", \"FBND\", \"FBND\", \"FBND\", \"FBND\", \"FBND\", \"FBND\", \"FBND\", \"FBND\", \"FBND\", \"FBND\", \"FBND\", \"FBND\", \"FBND\"], \"legendgroup\": \"FBND\", \"line\": {\"color\": \"#19d3f3\", \"dash\": \"solid\"}, \"mode\": \"lines\", \"name\": \"FBND\", \"showlegend\": true, \"type\": \"scatter\", \"x\": [\"2020-04-13T00:00:00\", \"2020-04-14T00:00:00\", \"2020-04-15T00:00:00\", \"2020-04-16T00:00:00\", \"2020-04-17T00:00:00\", \"2020-04-20T00:00:00\", \"2020-04-21T00:00:00\", \"2020-04-22T00:00:00\", \"2020-04-23T00:00:00\", \"2020-04-24T00:00:00\", \"2020-04-27T00:00:00\", \"2020-04-28T00:00:00\", \"2020-04-29T00:00:00\", \"2020-04-30T00:00:00\", \"2020-05-01T00:00:00\", \"2020-05-04T00:00:00\", \"2020-05-05T00:00:00\", \"2020-05-06T00:00:00\", \"2020-05-07T00:00:00\", \"2020-05-08T00:00:00\", \"2020-05-11T00:00:00\", \"2020-05-12T00:00:00\", \"2020-05-13T00:00:00\", \"2020-05-14T00:00:00\", \"2020-05-15T00:00:00\", \"2020-05-18T00:00:00\", \"2020-05-19T00:00:00\", \"2020-05-20T00:00:00\", \"2020-05-21T00:00:00\", \"2020-05-22T00:00:00\", \"2020-05-26T00:00:00\", \"2020-05-27T00:00:00\", \"2020-05-28T00:00:00\", \"2020-05-29T00:00:00\", \"2020-06-01T00:00:00\", \"2020-06-02T15:02:47\"], \"xaxis\": \"x\", \"y\": [0.0, 0.0, 0.0, -0.11, -0.15, -0.36, -1.06, -0.46, -0.17, -0.06, -0.44, -0.55, -0.29, -0.44, -0.68, -0.34, -0.44, -0.61, -0.53, -0.53, -1.08, -0.81, -0.49, -0.4, -0.38, -0.23, 0.15, 0.56, 0.71, 0.69, 0.67, 0.72, 0.59, 1.03, 1.04, 1.12], \"yaxis\": \"y\"}, {\"customdata\": [[0.0, 0.0, 0.0, 0.0, 0.0, 0.0, 0.0, 0.0, 224.28, 225.39, 225.44, 220.62, 1013741.0, 0.0, 0.0, \"Vanguard Information Technology Index Fund\"], [0.0, 0.0, 0.0, 0.0, 0.0, 0.0, 0.0, 0.0, 230.53, 234.54, 235.0, 229.51, 1617610.0, 0.0, 0.0, \"Vanguard Information Technology Index Fund\"], [0.0, 0.0, 0.0, 0.0, 0.0, 0.0, 0.0, 0.0, 229.88, 229.46, 231.08, 227.58, 911873.0, 0.0, 0.0, \"Vanguard Information Technology Index Fund\"], [914.96, 927.36, 12.4, 1.36, 0.0, 0.0, 12.4, 1.36, 232.19, 231.84, 232.54, 228.24, 1248053.0, 4.0, 228.74, \"Vanguard Information Technology Index Fund\"], [914.96, 942.28, 27.32, 2.99, 0.0, 0.0, 27.32, 2.99, 236.04, 235.57, 236.32, 232.05, 1008287.0, 4.0, 228.74, \"Vanguard Information Technology Index Fund\"], [4203.49, 4169.88, -33.61, -0.8, 0.0, 0.0, -33.61, -0.8, 232.49, 231.66, 235.3, 231.61, 1313058.0, 18.0, 233.53, \"Vanguard Information Technology Index Fund\"], [4203.49, 3998.52, -204.97, -4.88, 0.0, 0.0, -204.97, -4.88, 228.48, 222.14, 229.0, 220.84, 1049520.0, 18.0, 233.53, \"Vanguard Information Technology Index Fund\"], [4203.49, 4150.08, -53.41, -1.27, 0.0, 0.0, -53.41, -1.27, 227.57, 230.56, 231.74, 226.65, 673941.0, 18.0, 233.53, \"Vanguard Information Technology Index Fund\"], [4203.49, 4128.84, -74.65, -1.78, 0.0, 0.0, -74.65, -1.78, 231.13, 229.38, 233.77, 229.09, 600064.0, 18.0, 233.53, \"Vanguard Information Technology Index Fund\"], [4203.49, 4210.02, 6.53, 0.16, 0.0, 0.0, 6.53, 0.16, 230.24, 233.89, 234.09, 228.71, 856590.0, 18.0, 233.53, \"Vanguard Information Technology Index Fund\"], [4203.49, 4257.9, 54.41, 1.29, 0.0, 0.0, 54.41, 1.29, 236.16, 236.55, 237.01, 235.0, 885956.0, 18.0, 233.53, \"Vanguard Information Technology Index Fund\"], [4203.49, 4203.9, 0.41, 0.01, 0.0, 0.0, 0.41, 0.01, 239.5, 233.55, 239.66, 233.27, 843130.0, 18.0, 233.53, \"Vanguard Information Technology Index Fund\"], [4203.49, 4383.36, 179.87, 4.28, 0.0, 0.0, 179.87, 4.28, 238.46, 243.52, 244.2, 237.75, 948400.0, 18.0, 233.53, \"Vanguard Information Technology Index Fund\"], [4203.49, 4356.0, 152.51, 3.63, 0.0, 0.0, 152.51, 3.63, 244.09, 242.0, 244.09, 240.33, 836594.0, 18.0, 233.53, \"Vanguard Information Technology Index Fund\"], [4203.49, 4230.9, 27.41, 0.65, 0.0, 0.0, 27.41, 0.65, 236.57, 235.05, 239.32, 234.06, 929747.0, 18.0, 233.53, \"Vanguard Information Technology Index Fund\"], [4203.49, 4282.92, 79.43, 1.89, 0.0, 0.0, 79.43, 1.89, 233.33, 237.94, 238.14, 232.57, 614285.0, 18.0, 233.53, \"Vanguard Information Technology Index Fund\"], [4203.49, 4349.16, 145.67, 3.47, 0.0, 0.0, 145.67, 3.47, 240.65, 241.62, 244.47, 240.45, 899892.0, 18.0, 233.53, \"Vanguard Information Technology Index Fund\"], [4203.49, 4380.48, 176.99, 4.21, 0.0, 0.0, 176.99, 4.21, 243.66, 243.36, 245.71, 242.16, 711968.0, 18.0, 233.53, \"Vanguard Information Technology Index Fund\"], [4203.49, 4459.32, 255.83, 6.09, 0.0, 0.0, 255.83, 6.09, 247.02, 247.74, 249.11, 246.68, 812373.0, 18.0, 233.53, \"Vanguard Information Technology Index Fund\"], [4203.49, 4525.38, 321.89, 7.66, 0.0, 0.0, 321.89, 7.66, 250.35, 251.41, 251.71, 248.54, 774306.0, 18.0, 233.53, \"Vanguard Information Technology Index Fund\"], [4203.49, 4556.52, 353.03, 8.4, 0.0, 0.0, 353.03, 8.4, 249.79, 253.14, 254.66, 249.35, 1383069.0, 18.0, 233.53, \"Vanguard Information Technology Index Fund\"], [4203.49, 4458.6, 255.11, 6.07, 0.0, 0.0, 255.11, 6.07, 254.37, 247.7, 254.91, 247.7, 3593130.0, 18.0, 233.53, \"Vanguard Information Technology Index Fund\"], [4925.53, 5109.3, 183.77, 3.73, 0.0, 0.0, 183.77, 3.73, 248.13, 243.3, 249.76, 240.16, 1162850.0, 21.0, 234.55, \"Vanguard Information Technology Index Fund\"], [4925.53, 5170.83, 245.3, 4.98, 0.0, 0.0, 245.3, 4.98, 241.31, 246.23, 246.5, 238.58, 799810.0, 21.0, 234.55, \"Vanguard Information Technology Index Fund\"], [4925.53, 5201.28, 275.75, 5.6, 0.0, 0.0, 275.75, 5.6, 242.77, 247.68, 247.68, 242.1, 665344.0, 21.0, 234.55, \"Vanguard Information Technology Index Fund\"], [4925.53, 5326.65, 401.12, 8.14, 0.0, 0.0, 401.12, 8.14, 252.59, 253.65, 255.09, 251.94, 900486.0, 21.0, 234.55, \"Vanguard Information Technology Index Fund\"], [4925.53, 5310.48, 384.95, 7.82, 0.0, 0.0, 384.95, 7.82, 254.04, 252.88, 256.97, 252.88, 708897.0, 21.0, 234.55, \"Vanguard Information Technology Index Fund\"], [4925.53, 5432.07, 506.54, 10.28, 0.0, 0.0, 506.54, 10.28, 256.53, 258.67, 259.17, 256.21, 708963.0, 21.0, 234.55, \"Vanguard Information Technology Index Fund\"], [4925.53, 5364.87, 439.34, 8.92, 0.0, 0.0, 439.34, 8.92, 258.49, 255.47, 259.36, 254.93, 703050.0, 21.0, 234.55, \"Vanguard Information Technology Index Fund\"], [4925.53, 5391.12, 465.59, 9.45, 0.0, 0.0, 465.59, 9.45, 255.07, 256.72, 256.9, 254.01, 521144.0, 21.0, 234.55, \"Vanguard Information Technology Index Fund\"], [5183.41, 5651.8, 468.39, 9.04, 0.0, 0.0, 468.39, 9.04, 261.9, 256.9, 261.99, 256.45, 763066.0, 22.0, 235.61, \"Vanguard Information Technology Index Fund\"], [5183.41, 5683.26, 499.85, 9.64, 0.0, 0.0, 499.85, 9.64, 256.75, 258.33, 258.36, 250.91, 836748.0, 22.0, 235.61, \"Vanguard Information Technology Index Fund\"], [5183.41, 5671.82, 488.41, 9.42, 0.0, 0.0, 488.41, 9.42, 257.59, 257.81, 262.55, 257.0, 702469.0, 22.0, 235.61, \"Vanguard Information Technology Index Fund\"], [5183.41, 5742.66, 559.25, 10.79, 0.0, 0.0, 559.25, 10.79, 258.44, 261.03, 261.7, 256.54, 738513.0, 22.0, 235.61, \"Vanguard Information Technology Index Fund\"], [5183.41, 5761.14, 577.73, 11.15, 0.0, 0.0, 577.73, 11.15, 259.98, 261.87, 262.48, 259.09, 1017631.0, 22.0, 235.61, \"Vanguard Information Technology Index Fund\"], [5183.41, 5738.26, 554.85, 10.7, 0.0, 0.0, 554.85, 10.7, 262.37, 260.83, 262.92, 260.5, 0.0, 22.0, 235.61, \"Vanguard Information Technology Index Fund\"]], \"hovertemplate\": \"<b>%{hovertext}</b><br><br>symbol=VGT<br>date=%{x}<br>total_pct_gain=%{customdata[7]}<br>invested_amount=%{customdata[0]}<br>market_value=%{customdata[1]}<br>unrealized_gain=%{customdata[2]}<br>unrealized_pct_gain=%{customdata[3]}<br>realized_gain=%{customdata[4]}<br>realized_pct_gain=%{customdata[5]}<br>total_gain=%{customdata[6]}<br>open=%{customdata[8]}<br>close=%{customdata[9]}<br>high=%{customdata[10]}<br>low=%{customdata[11]}<br>volume=%{customdata[12]}<br>quantity=%{customdata[13]}<br>average_cost=%{customdata[14]}<br>company_name=%{customdata[15]}<extra></extra>\", \"hovertext\": [\"VGT\", \"VGT\", \"VGT\", \"VGT\", \"VGT\", \"VGT\", \"VGT\", \"VGT\", \"VGT\", \"VGT\", \"VGT\", \"VGT\", \"VGT\", \"VGT\", \"VGT\", \"VGT\", \"VGT\", \"VGT\", \"VGT\", \"VGT\", \"VGT\", \"VGT\", \"VGT\", \"VGT\", \"VGT\", \"VGT\", \"VGT\", \"VGT\", \"VGT\", \"VGT\", \"VGT\", \"VGT\", \"VGT\", \"VGT\", \"VGT\", \"VGT\"], \"legendgroup\": \"VGT\", \"line\": {\"color\": \"#FF6692\", \"dash\": \"solid\"}, \"mode\": \"lines\", \"name\": \"VGT\", \"showlegend\": true, \"type\": \"scatter\", \"x\": [\"2020-04-13T00:00:00\", \"2020-04-14T00:00:00\", \"2020-04-15T00:00:00\", \"2020-04-16T00:00:00\", \"2020-04-17T00:00:00\", \"2020-04-20T00:00:00\", \"2020-04-21T00:00:00\", \"2020-04-22T00:00:00\", \"2020-04-23T00:00:00\", \"2020-04-24T00:00:00\", \"2020-04-27T00:00:00\", \"2020-04-28T00:00:00\", \"2020-04-29T00:00:00\", \"2020-04-30T00:00:00\", \"2020-05-01T00:00:00\", \"2020-05-04T00:00:00\", \"2020-05-05T00:00:00\", \"2020-05-06T00:00:00\", \"2020-05-07T00:00:00\", \"2020-05-08T00:00:00\", \"2020-05-11T00:00:00\", \"2020-05-12T00:00:00\", \"2020-05-13T00:00:00\", \"2020-05-14T00:00:00\", \"2020-05-15T00:00:00\", \"2020-05-18T00:00:00\", \"2020-05-19T00:00:00\", \"2020-05-20T00:00:00\", \"2020-05-21T00:00:00\", \"2020-05-22T00:00:00\", \"2020-05-26T00:00:00\", \"2020-05-27T00:00:00\", \"2020-05-28T00:00:00\", \"2020-05-29T00:00:00\", \"2020-06-01T00:00:00\", \"2020-06-02T15:02:47\"], \"xaxis\": \"x\", \"y\": [0.0, 0.0, 0.0, 1.36, 2.99, -0.8, -4.88, -1.27, -1.78, 0.16, 1.29, 0.01, 4.28, 3.63, 0.65, 1.89, 3.47, 4.21, 6.09, 7.66, 8.4, 6.07, 3.73, 4.98, 5.6, 8.14, 7.82, 10.28, 8.92, 9.45, 9.04, 9.64, 9.42, 10.79, 11.15, 10.7], \"yaxis\": \"y\"}, {\"customdata\": [[0.0, 0.0, 0.0, 0.0, 0.0, 0.0, 0.0, 0.0, 47.17, 47.85, 47.93, 46.11, 573080.0, 0.0, 0.0, \"ARK Innovation ETF\"], [0.0, 0.0, 0.0, 0.0, 0.0, 0.0, 0.0, 0.0, 49.72, 50.38, 50.83, 49.37, 900587.0, 0.0, 0.0, \"ARK Innovation ETF\"], [0.0, 0.0, 0.0, 0.0, 0.0, 0.0, 0.0, 0.0, 49.48, 49.56, 50.03, 48.6, 807347.0, 0.0, 0.0, \"ARK Innovation ETF\"], [1896.96, 1922.8, 25.84, 1.36, 0.0, 0.0, 25.84, 1.36, 49.92, 50.6, 50.89, 49.3, 683964.0, 38.0, 49.92, \"ARK Innovation ETF\"], [1896.96, 1985.88, 88.92, 4.69, 0.0, 0.0, 88.92, 4.69, 52.11, 52.26, 52.35, 51.3, 980591.0, 38.0, 49.92, \"ARK Innovation ETF\"], [16574.2, 16579.2, 5.0, 0.03, 0.0, 0.0, 5.0, 0.03, 51.64, 52.8, 53.87, 51.01, 839349.0, 314.0, 52.78, \"ARK Innovation ETF\"], [16574.2, 15891.54, -682.66, -4.12, 0.0, 0.0, -682.66, -4.12, 51.99, 50.61, 52.26, 49.75, 710923.0, 314.0, 52.78, \"ARK Innovation ETF\"], [16574.2, 16459.88, -114.32, -0.69, 0.0, 0.0, -114.32, -0.69, 52.16, 52.42, 52.68, 51.3, 517821.0, 314.0, 52.78, \"ARK Innovation ETF\"], [16574.2, 16331.14, -243.06, -1.47, 0.0, 0.0, -243.06, -1.47, 52.43, 52.01, 53.47, 51.93, 653988.0, 314.0, 52.78, \"ARK Innovation ETF\"], [16574.2, 16660.84, 86.64, 0.52, 0.0, 0.0, 86.64, 0.52, 52.38, 53.06, 53.36, 51.73, 496497.0, 314.0, 52.78, \"ARK Innovation ETF\"], [16574.2, 17470.96, 896.76, 5.41, 0.0, 0.0, 896.76, 5.41, 54.07, 55.64, 56.43, 53.76, 1905928.0, 314.0, 52.78, \"ARK Innovation ETF\"], [16574.2, 16971.7, 397.5, 2.4, 0.0, 0.0, 397.5, 2.4, 56.73, 54.05, 56.73, 53.38, 892954.0, 314.0, 52.78, \"ARK Innovation ETF\"], [16574.2, 17781.82, 1207.62, 7.29, 0.0, 0.0, 1207.62, 7.29, 55.69, 56.63, 56.87, 54.6, 1010339.0, 314.0, 52.78, \"ARK Innovation ETF\"], [16574.2, 17373.62, 799.42, 4.82, 0.0, 0.0, 799.42, 4.82, 56.72, 55.33, 57.0, 55.1, 780701.0, 314.0, 52.78, \"ARK Innovation ETF\"], [16574.2, 16447.32, -126.88, -0.77, 0.0, 0.0, -126.88, -0.77, 53.82, 52.38, 54.23, 51.67, 870861.0, 314.0, 52.78, \"ARK Innovation ETF\"], [16574.2, 17053.34, 479.14, 2.89, 0.0, 0.0, 479.14, 2.89, 51.71, 54.31, 54.31, 51.53, 459780.0, 314.0, 52.78, \"ARK Innovation ETF\"], [16574.2, 17288.84, 714.64, 4.31, 0.0, 0.0, 714.64, 4.31, 55.53, 55.06, 56.02, 54.76, 637359.0, 314.0, 52.78, \"ARK Innovation ETF\"], [16574.2, 17373.62, 799.42, 4.82, 0.0, 0.0, 799.42, 4.82, 55.33, 55.33, 55.85, 54.75, 614214.0, 314.0, 52.78, \"ARK Innovation ETF\"], [16574.2, 17772.4, 1198.2, 7.23, 0.0, 0.0, 1198.2, 7.23, 56.09, 56.6, 56.9, 55.64, 638817.0, 314.0, 52.78, \"ARK Innovation ETF\"], [16574.2, 18306.2, 1732.0, 10.45, 0.0, 0.0, 1732.0, 10.45, 57.16, 58.3, 58.45, 56.5, 620653.0, 314.0, 52.78, \"ARK Innovation ETF\"], [16574.2, 18739.52, 2165.32, 13.06, 0.0, 0.0, 2165.32, 13.06, 57.55, 59.68, 60.19, 57.39, 767536.0, 314.0, 52.78, \"ARK Innovation ETF\"], [16574.2, 18262.24, 1688.04, 10.18, 0.0, 0.0, 1688.04, 10.18, 60.5, 58.16, 60.5, 58.16, 951623.0, 314.0, 52.78, \"ARK Innovation ETF\"], [19579.3, 20729.44, 1150.14, 5.87, 0.0, 0.0, 1150.14, 5.87, 58.03, 56.33, 58.72, 54.77, 925798.0, 368.0, 53.2, \"ARK Innovation ETF\"], [19579.3, 20700.0, 1120.7, 5.72, 0.0, 0.0, 1120.7, 5.72, 55.43, 56.25, 56.45, 54.31, 1022935.0, 368.0, 53.2, \"ARK Innovation ETF\"], [19579.3, 21377.12, 1797.82, 9.18, 0.0, 0.0, 1797.82, 9.18, 55.83, 58.09, 58.22, 55.52, 493672.0, 368.0, 53.2, \"ARK Innovation ETF\"], [19579.3, 22035.84, 2456.54, 12.55, 0.0, 0.0, 2456.54, 12.55, 60.07, 59.88, 60.64, 59.62, 825904.0, 368.0, 53.2, \"ARK Innovation ETF\"], [19579.3, 22013.76, 2434.46, 12.43, 0.0, 0.0, 2434.46, 12.43, 60.01, 59.82, 61.15, 59.68, 867446.0, 368.0, 53.2, \"ARK Innovation ETF\"], [19579.3, 22749.76, 3170.46, 16.19, 0.0, 0.0, 3170.46, 16.19, 61.01, 61.82, 61.89, 59.96, 1101324.0, 368.0, 53.2, \"ARK Innovation ETF\"], [19579.3, 22808.64, 3229.34, 16.49, 0.0, 0.0, 3229.34, 16.49, 61.82, 61.98, 62.34, 60.51, 839035.0, 368.0, 53.2, \"ARK Innovation ETF\"], [19579.3, 23095.68, 3516.38, 17.96, 0.0, 0.0, 3516.38, 17.96, 61.96, 62.76, 62.8, 61.5, 683713.0, 368.0, 53.2, \"ARK Innovation ETF\"], [19579.3, 23147.2, 3567.9, 18.22, 0.0, 0.0, 3567.9, 18.22, 64.9, 62.9, 64.9, 62.78, 1448778.0, 368.0, 53.2, \"ARK Innovation ETF\"], [19579.3, 23003.68, 3424.38, 17.49, 0.0, 0.0, 3424.38, 17.49, 63.52, 62.51, 63.52, 59.65, 1074517.0, 368.0, 53.2, \"ARK Innovation ETF\"], [19579.3, 22724.0, 3144.7, 16.06, 0.0, 0.0, 3144.7, 16.06, 62.73, 61.75, 63.26, 61.49, 832534.0, 368.0, 53.2, \"ARK Innovation ETF\"], [19579.3, 23117.76, 3538.46, 18.07, 0.0, 0.0, 3538.46, 18.07, 61.94, 62.82, 63.0, 61.28, 599556.0, 368.0, 53.2, \"ARK Innovation ETF\"], [19579.3, 23846.4, 4267.1, 21.79, 0.0, 0.0, 4267.1, 21.79, 63.36, 64.8, 65.17, 62.93, 1557055.0, 368.0, 53.2, \"ARK Innovation ETF\"], [19579.3, 23776.48, 4197.18, 21.44, 0.0, 0.0, 4197.18, 21.44, 65.2, 64.61, 65.33, 64.34, 0.0, 368.0, 53.2, \"ARK Innovation ETF\"]], \"hovertemplate\": \"<b>%{hovertext}</b><br><br>symbol=ARKK<br>date=%{x}<br>total_pct_gain=%{customdata[7]}<br>invested_amount=%{customdata[0]}<br>market_value=%{customdata[1]}<br>unrealized_gain=%{customdata[2]}<br>unrealized_pct_gain=%{customdata[3]}<br>realized_gain=%{customdata[4]}<br>realized_pct_gain=%{customdata[5]}<br>total_gain=%{customdata[6]}<br>open=%{customdata[8]}<br>close=%{customdata[9]}<br>high=%{customdata[10]}<br>low=%{customdata[11]}<br>volume=%{customdata[12]}<br>quantity=%{customdata[13]}<br>average_cost=%{customdata[14]}<br>company_name=%{customdata[15]}<extra></extra>\", \"hovertext\": [\"ARKK\", \"ARKK\", \"ARKK\", \"ARKK\", \"ARKK\", \"ARKK\", \"ARKK\", \"ARKK\", \"ARKK\", \"ARKK\", \"ARKK\", \"ARKK\", \"ARKK\", \"ARKK\", \"ARKK\", \"ARKK\", \"ARKK\", \"ARKK\", \"ARKK\", \"ARKK\", \"ARKK\", \"ARKK\", \"ARKK\", \"ARKK\", \"ARKK\", \"ARKK\", \"ARKK\", \"ARKK\", \"ARKK\", \"ARKK\", \"ARKK\", \"ARKK\", \"ARKK\", \"ARKK\", \"ARKK\", \"ARKK\"], \"legendgroup\": \"ARKK\", \"line\": {\"color\": \"#B6E880\", \"dash\": \"solid\"}, \"mode\": \"lines\", \"name\": \"ARKK\", \"showlegend\": true, \"type\": \"scatter\", \"x\": [\"2020-04-13T00:00:00\", \"2020-04-14T00:00:00\", \"2020-04-15T00:00:00\", \"2020-04-16T00:00:00\", \"2020-04-17T00:00:00\", \"2020-04-20T00:00:00\", \"2020-04-21T00:00:00\", \"2020-04-22T00:00:00\", \"2020-04-23T00:00:00\", \"2020-04-24T00:00:00\", \"2020-04-27T00:00:00\", \"2020-04-28T00:00:00\", \"2020-04-29T00:00:00\", \"2020-04-30T00:00:00\", \"2020-05-01T00:00:00\", \"2020-05-04T00:00:00\", \"2020-05-05T00:00:00\", \"2020-05-06T00:00:00\", \"2020-05-07T00:00:00\", \"2020-05-08T00:00:00\", \"2020-05-11T00:00:00\", \"2020-05-12T00:00:00\", \"2020-05-13T00:00:00\", \"2020-05-14T00:00:00\", \"2020-05-15T00:00:00\", \"2020-05-18T00:00:00\", \"2020-05-19T00:00:00\", \"2020-05-20T00:00:00\", \"2020-05-21T00:00:00\", \"2020-05-22T00:00:00\", \"2020-05-26T00:00:00\", \"2020-05-27T00:00:00\", \"2020-05-28T00:00:00\", \"2020-05-29T00:00:00\", \"2020-06-01T00:00:00\", \"2020-06-02T15:02:47\"], \"xaxis\": \"x\", \"y\": [0.0, 0.0, 0.0, 1.36, 4.69, 0.03, -4.12, -0.69, -1.47, 0.52, 5.41, 2.4, 7.29, 4.82, -0.77, 2.89, 4.31, 4.82, 7.23, 10.45, 13.06, 10.18, 5.87, 5.72, 9.18, 12.55, 12.43, 16.19, 16.49, 17.96, 18.22, 17.49, 16.06, 18.07, 21.79, 21.44], \"yaxis\": \"y\"}],\n",
       "                        {\"height\": 700, \"legend\": {\"title\": {\"text\": \"symbol\"}, \"tracegroupgap\": 0}, \"shapes\": [{\"fillcolor\": \"Red\", \"opacity\": 0.2, \"type\": \"rect\", \"x0\": \"2020-04-13T00:00:00+00:00\", \"x1\": \"2020-06-02T15:02:47+00:00\", \"xref\": \"x\", \"y0\": -22.93, \"y1\": 0, \"yref\": \"y\"}], \"template\": {\"data\": {\"bar\": [{\"error_x\": {\"color\": \"#2a3f5f\"}, \"error_y\": {\"color\": \"#2a3f5f\"}, \"marker\": {\"line\": {\"color\": \"#E5ECF6\", \"width\": 0.5}}, \"type\": \"bar\"}], \"barpolar\": [{\"marker\": {\"line\": {\"color\": \"#E5ECF6\", \"width\": 0.5}}, \"type\": \"barpolar\"}], \"carpet\": [{\"aaxis\": {\"endlinecolor\": \"#2a3f5f\", \"gridcolor\": \"white\", \"linecolor\": \"white\", \"minorgridcolor\": \"white\", \"startlinecolor\": \"#2a3f5f\"}, \"baxis\": {\"endlinecolor\": \"#2a3f5f\", \"gridcolor\": \"white\", \"linecolor\": \"white\", \"minorgridcolor\": \"white\", \"startlinecolor\": \"#2a3f5f\"}, \"type\": \"carpet\"}], \"choropleth\": [{\"colorbar\": {\"outlinewidth\": 0, \"ticks\": \"\"}, \"type\": \"choropleth\"}], \"contour\": [{\"colorbar\": {\"outlinewidth\": 0, \"ticks\": \"\"}, \"colorscale\": [[0.0, \"#0d0887\"], [0.1111111111111111, \"#46039f\"], [0.2222222222222222, \"#7201a8\"], [0.3333333333333333, \"#9c179e\"], [0.4444444444444444, \"#bd3786\"], [0.5555555555555556, \"#d8576b\"], [0.6666666666666666, \"#ed7953\"], [0.7777777777777778, \"#fb9f3a\"], [0.8888888888888888, \"#fdca26\"], [1.0, \"#f0f921\"]], \"type\": \"contour\"}], \"contourcarpet\": [{\"colorbar\": {\"outlinewidth\": 0, \"ticks\": \"\"}, \"type\": \"contourcarpet\"}], \"heatmap\": [{\"colorbar\": {\"outlinewidth\": 0, \"ticks\": \"\"}, \"colorscale\": [[0.0, \"#0d0887\"], [0.1111111111111111, \"#46039f\"], [0.2222222222222222, \"#7201a8\"], [0.3333333333333333, \"#9c179e\"], [0.4444444444444444, \"#bd3786\"], [0.5555555555555556, \"#d8576b\"], [0.6666666666666666, \"#ed7953\"], [0.7777777777777778, \"#fb9f3a\"], [0.8888888888888888, \"#fdca26\"], [1.0, \"#f0f921\"]], \"type\": \"heatmap\"}], \"heatmapgl\": [{\"colorbar\": {\"outlinewidth\": 0, \"ticks\": \"\"}, \"colorscale\": [[0.0, \"#0d0887\"], [0.1111111111111111, \"#46039f\"], [0.2222222222222222, \"#7201a8\"], [0.3333333333333333, \"#9c179e\"], [0.4444444444444444, \"#bd3786\"], [0.5555555555555556, \"#d8576b\"], [0.6666666666666666, \"#ed7953\"], [0.7777777777777778, \"#fb9f3a\"], [0.8888888888888888, \"#fdca26\"], [1.0, \"#f0f921\"]], \"type\": \"heatmapgl\"}], \"histogram\": [{\"marker\": {\"colorbar\": {\"outlinewidth\": 0, \"ticks\": \"\"}}, \"type\": \"histogram\"}], \"histogram2d\": [{\"colorbar\": {\"outlinewidth\": 0, \"ticks\": \"\"}, \"colorscale\": [[0.0, \"#0d0887\"], [0.1111111111111111, \"#46039f\"], [0.2222222222222222, \"#7201a8\"], [0.3333333333333333, \"#9c179e\"], [0.4444444444444444, \"#bd3786\"], [0.5555555555555556, \"#d8576b\"], [0.6666666666666666, \"#ed7953\"], [0.7777777777777778, \"#fb9f3a\"], [0.8888888888888888, \"#fdca26\"], [1.0, \"#f0f921\"]], \"type\": \"histogram2d\"}], \"histogram2dcontour\": [{\"colorbar\": {\"outlinewidth\": 0, \"ticks\": \"\"}, \"colorscale\": [[0.0, \"#0d0887\"], [0.1111111111111111, \"#46039f\"], [0.2222222222222222, \"#7201a8\"], [0.3333333333333333, \"#9c179e\"], [0.4444444444444444, \"#bd3786\"], [0.5555555555555556, \"#d8576b\"], [0.6666666666666666, \"#ed7953\"], [0.7777777777777778, \"#fb9f3a\"], [0.8888888888888888, \"#fdca26\"], [1.0, \"#f0f921\"]], \"type\": \"histogram2dcontour\"}], \"mesh3d\": [{\"colorbar\": {\"outlinewidth\": 0, \"ticks\": \"\"}, \"type\": \"mesh3d\"}], \"parcoords\": [{\"line\": {\"colorbar\": {\"outlinewidth\": 0, \"ticks\": \"\"}}, \"type\": \"parcoords\"}], \"pie\": [{\"automargin\": true, \"type\": \"pie\"}], \"scatter\": [{\"marker\": {\"colorbar\": {\"outlinewidth\": 0, \"ticks\": \"\"}}, \"type\": \"scatter\"}], \"scatter3d\": [{\"line\": {\"colorbar\": {\"outlinewidth\": 0, \"ticks\": \"\"}}, \"marker\": {\"colorbar\": {\"outlinewidth\": 0, \"ticks\": \"\"}}, \"type\": \"scatter3d\"}], \"scattercarpet\": [{\"marker\": {\"colorbar\": {\"outlinewidth\": 0, \"ticks\": \"\"}}, \"type\": \"scattercarpet\"}], \"scattergeo\": [{\"marker\": {\"colorbar\": {\"outlinewidth\": 0, \"ticks\": \"\"}}, \"type\": \"scattergeo\"}], \"scattergl\": [{\"marker\": {\"colorbar\": {\"outlinewidth\": 0, \"ticks\": \"\"}}, \"type\": \"scattergl\"}], \"scattermapbox\": [{\"marker\": {\"colorbar\": {\"outlinewidth\": 0, \"ticks\": \"\"}}, \"type\": \"scattermapbox\"}], \"scatterpolar\": [{\"marker\": {\"colorbar\": {\"outlinewidth\": 0, \"ticks\": \"\"}}, \"type\": \"scatterpolar\"}], \"scatterpolargl\": [{\"marker\": {\"colorbar\": {\"outlinewidth\": 0, \"ticks\": \"\"}}, \"type\": \"scatterpolargl\"}], \"scatterternary\": [{\"marker\": {\"colorbar\": {\"outlinewidth\": 0, \"ticks\": \"\"}}, \"type\": \"scatterternary\"}], \"surface\": [{\"colorbar\": {\"outlinewidth\": 0, \"ticks\": \"\"}, \"colorscale\": [[0.0, \"#0d0887\"], [0.1111111111111111, \"#46039f\"], [0.2222222222222222, \"#7201a8\"], [0.3333333333333333, \"#9c179e\"], [0.4444444444444444, \"#bd3786\"], [0.5555555555555556, \"#d8576b\"], [0.6666666666666666, \"#ed7953\"], [0.7777777777777778, \"#fb9f3a\"], [0.8888888888888888, \"#fdca26\"], [1.0, \"#f0f921\"]], \"type\": \"surface\"}], \"table\": [{\"cells\": {\"fill\": {\"color\": \"#EBF0F8\"}, \"line\": {\"color\": \"white\"}}, \"header\": {\"fill\": {\"color\": \"#C8D4E3\"}, \"line\": {\"color\": \"white\"}}, \"type\": \"table\"}]}, \"layout\": {\"annotationdefaults\": {\"arrowcolor\": \"#2a3f5f\", \"arrowhead\": 0, \"arrowwidth\": 1}, \"coloraxis\": {\"colorbar\": {\"outlinewidth\": 0, \"ticks\": \"\"}}, \"colorscale\": {\"diverging\": [[0, \"#8e0152\"], [0.1, \"#c51b7d\"], [0.2, \"#de77ae\"], [0.3, \"#f1b6da\"], [0.4, \"#fde0ef\"], [0.5, \"#f7f7f7\"], [0.6, \"#e6f5d0\"], [0.7, \"#b8e186\"], [0.8, \"#7fbc41\"], [0.9, \"#4d9221\"], [1, \"#276419\"]], \"sequential\": [[0.0, \"#0d0887\"], [0.1111111111111111, \"#46039f\"], [0.2222222222222222, \"#7201a8\"], [0.3333333333333333, \"#9c179e\"], [0.4444444444444444, \"#bd3786\"], [0.5555555555555556, \"#d8576b\"], [0.6666666666666666, \"#ed7953\"], [0.7777777777777778, \"#fb9f3a\"], [0.8888888888888888, \"#fdca26\"], [1.0, \"#f0f921\"]], \"sequentialminus\": [[0.0, \"#0d0887\"], [0.1111111111111111, \"#46039f\"], [0.2222222222222222, \"#7201a8\"], [0.3333333333333333, \"#9c179e\"], [0.4444444444444444, \"#bd3786\"], [0.5555555555555556, \"#d8576b\"], [0.6666666666666666, \"#ed7953\"], [0.7777777777777778, \"#fb9f3a\"], [0.8888888888888888, \"#fdca26\"], [1.0, \"#f0f921\"]]}, \"colorway\": [\"#636efa\", \"#EF553B\", \"#00cc96\", \"#ab63fa\", \"#FFA15A\", \"#19d3f3\", \"#FF6692\", \"#B6E880\", \"#FF97FF\", \"#FECB52\"], \"font\": {\"color\": \"#2a3f5f\"}, \"geo\": {\"bgcolor\": \"white\", \"lakecolor\": \"white\", \"landcolor\": \"#E5ECF6\", \"showlakes\": true, \"showland\": true, \"subunitcolor\": \"white\"}, \"hoverlabel\": {\"align\": \"left\"}, \"hovermode\": \"closest\", \"mapbox\": {\"style\": \"light\"}, \"paper_bgcolor\": \"white\", \"plot_bgcolor\": \"#E5ECF6\", \"polar\": {\"angularaxis\": {\"gridcolor\": \"white\", \"linecolor\": \"white\", \"ticks\": \"\"}, \"bgcolor\": \"#E5ECF6\", \"radialaxis\": {\"gridcolor\": \"white\", \"linecolor\": \"white\", \"ticks\": \"\"}}, \"scene\": {\"xaxis\": {\"backgroundcolor\": \"#E5ECF6\", \"gridcolor\": \"white\", \"gridwidth\": 2, \"linecolor\": \"white\", \"showbackground\": true, \"ticks\": \"\", \"zerolinecolor\": \"white\"}, \"yaxis\": {\"backgroundcolor\": \"#E5ECF6\", \"gridcolor\": \"white\", \"gridwidth\": 2, \"linecolor\": \"white\", \"showbackground\": true, \"ticks\": \"\", \"zerolinecolor\": \"white\"}, \"zaxis\": {\"backgroundcolor\": \"#E5ECF6\", \"gridcolor\": \"white\", \"gridwidth\": 2, \"linecolor\": \"white\", \"showbackground\": true, \"ticks\": \"\", \"zerolinecolor\": \"white\"}}, \"shapedefaults\": {\"line\": {\"color\": \"#2a3f5f\"}}, \"ternary\": {\"aaxis\": {\"gridcolor\": \"white\", \"linecolor\": \"white\", \"ticks\": \"\"}, \"baxis\": {\"gridcolor\": \"white\", \"linecolor\": \"white\", \"ticks\": \"\"}, \"bgcolor\": \"#E5ECF6\", \"caxis\": {\"gridcolor\": \"white\", \"linecolor\": \"white\", \"ticks\": \"\"}}, \"title\": {\"x\": 0.05}, \"xaxis\": {\"automargin\": true, \"gridcolor\": \"white\", \"linecolor\": \"white\", \"ticks\": \"\", \"title\": {\"standoff\": 15}, \"zerolinecolor\": \"white\", \"zerolinewidth\": 2}, \"yaxis\": {\"automargin\": true, \"gridcolor\": \"white\", \"linecolor\": \"white\", \"ticks\": \"\", \"title\": {\"standoff\": 15}, \"zerolinecolor\": \"white\", \"zerolinewidth\": 2}}}, \"title\": {\"text\": \"Portfolio Stocks\"}, \"xaxis\": {\"anchor\": \"y\", \"domain\": [0.0, 1.0], \"rangeselector\": {\"buttons\": [{\"count\": 1, \"label\": \"1m\", \"step\": \"month\", \"stepmode\": \"backward\"}, {\"count\": 6, \"label\": \"6m\", \"step\": \"month\", \"stepmode\": \"backward\"}, {\"count\": 1, \"label\": \"YTD\", \"step\": \"year\", \"stepmode\": \"todate\"}, {\"count\": 1, \"label\": \"1y\", \"step\": \"year\", \"stepmode\": \"backward\"}, {\"step\": \"all\"}]}, \"rangeslider\": {\"visible\": true}, \"title\": {\"text\": \"date\"}}, \"yaxis\": {\"anchor\": \"x\", \"domain\": [0.0, 1.0], \"range\": [-22.93, 27.83], \"title\": {\"text\": \"total_pct_gain\"}}},\n",
       "                        {\"responsive\": true}\n",
       "                    ).then(function(){\n",
       "                            \n",
       "var gd = document.getElementById('e9cc0b4d-2e05-4330-9cee-55eeefde98b2');\n",
       "var x = new MutationObserver(function (mutations, observer) {{\n",
       "        var display = window.getComputedStyle(gd).display;\n",
       "        if (!display || display === 'none') {{\n",
       "            console.log([gd, 'removed!']);\n",
       "            Plotly.purge(gd);\n",
       "            observer.disconnect();\n",
       "        }}\n",
       "}});\n",
       "\n",
       "// Listen for the removal of the full notebook cells\n",
       "var notebookContainer = gd.closest('#notebook-container');\n",
       "if (notebookContainer) {{\n",
       "    x.observe(notebookContainer, {childList: true});\n",
       "}}\n",
       "\n",
       "// Listen for the clearing of the current output cell\n",
       "var outputEl = gd.closest('.output');\n",
       "if (outputEl) {{\n",
       "    x.observe(outputEl, {childList: true});\n",
       "}}\n",
       "\n",
       "                        })\n",
       "                };\n",
       "                });\n",
       "            </script>\n",
       "        </div>"
      ]
     },
     "metadata": {},
     "output_type": "display_data"
    }
   ],
   "source": [
    "min_value = portfolio_stock_stats_combined['total_pct_gain'].min()\n",
    "max_value = portfolio_stock_stats_combined['total_pct_gain'].max()\n",
    "\n",
    "fig = px.line(portfolio_stock_stats_combined, \n",
    "              x='date', y=\"total_pct_gain\", \n",
    "              color=\"symbol\",\n",
    "              hover_name=\"symbol\", \n",
    "              hover_data=['invested_amount', 'market_value', 'unrealized_gain', \n",
    "                          'unrealized_pct_gain', 'realized_gain', 'realized_pct_gain', \n",
    "                          'total_gain', 'total_pct_gain', 'open', 'close', 'high', \n",
    "                          'low', 'volume', 'quantity', 'average_cost', 'company_name'],\n",
    "              range_y=[min_value, max_value+1],\n",
    "              height=700,\n",
    "              title='Portfolio Stocks',)\n",
    "fig.update_xaxes(\n",
    "    rangeslider_visible=True,\n",
    "    rangeselector=dict(\n",
    "        buttons=list([\n",
    "            dict(count=1, label=\"1m\", step=\"month\", stepmode=\"backward\"),\n",
    "            dict(count=6, label=\"6m\", step=\"month\", stepmode=\"backward\"),\n",
    "            dict(count=1, label=\"YTD\", step=\"year\", stepmode=\"todate\"),\n",
    "            dict(count=1, label=\"1y\", step=\"year\", stepmode=\"backward\"),\n",
    "            dict(step=\"all\")\n",
    "        ])\n",
    "    )\n",
    ")\n",
    "fig.add_shape(\n",
    "        # Rectangle reference to the axes\n",
    "            type=\"rect\",\n",
    "            xref=\"x\",\n",
    "            yref=\"y\",\n",
    "            x0=first_date,\n",
    "            y0=min_value,\n",
    "            x1=last_date,\n",
    "            y1=0,\n",
    "            opacity=0.2,\n",
    "            fillcolor=\"Red\",\n",
    "        )\n",
    "fig.write_image(\"images/portfolio_stocks.pdf\")\n",
    "fig.show()"
   ]
  },
  {
   "cell_type": "code",
   "execution_count": 21,
   "metadata": {},
   "outputs": [
    {
     "data": {
      "application/vnd.plotly.v1+json": {
       "config": {
        "plotlyServerURL": "https://plot.ly"
       },
       "data": [
        {
         "alignmentgroup": "True",
         "customdata": [
          [
           "ARK Innovation ETF"
          ]
         ],
         "hovertemplate": "symbol=%{y}<br>total_pct_gain=%{text}<br>company_name=%{customdata[0]}<extra></extra>",
         "legendgroup": "ARKK",
         "marker": {
          "color": "#636efa"
         },
         "name": "ARKK",
         "offsetgroup": "ARKK",
         "orientation": "h",
         "showlegend": true,
         "text": [
          21.44
         ],
         "textposition": "auto",
         "type": "bar",
         "x": [
          21.44
         ],
         "xaxis": "x",
         "y": [
          "ARKK"
         ],
         "yaxis": "y"
        },
        {
         "alignmentgroup": "True",
         "customdata": [
          [
           "ARK Web x.0 ETF"
          ]
         ],
         "hovertemplate": "symbol=%{y}<br>total_pct_gain=%{text}<br>company_name=%{customdata[0]}<extra></extra>",
         "legendgroup": "ARKW",
         "marker": {
          "color": "#EF553B"
         },
         "name": "ARKW",
         "offsetgroup": "ARKW",
         "orientation": "h",
         "showlegend": true,
         "text": [
          21.08
         ],
         "textposition": "auto",
         "type": "bar",
         "x": [
          21.08
         ],
         "xaxis": "x",
         "y": [
          "ARKW"
         ],
         "yaxis": "y"
        },
        {
         "alignmentgroup": "True",
         "customdata": [
          [
           "ARK Genomic Revolution Multi-Sector ETF"
          ]
         ],
         "hovertemplate": "symbol=%{y}<br>total_pct_gain=%{text}<br>company_name=%{customdata[0]}<extra></extra>",
         "legendgroup": "ARKG",
         "marker": {
          "color": "#00cc96"
         },
         "name": "ARKG",
         "offsetgroup": "ARKG",
         "orientation": "h",
         "showlegend": true,
         "text": [
          14.7
         ],
         "textposition": "auto",
         "type": "bar",
         "x": [
          14.7
         ],
         "xaxis": "x",
         "y": [
          "ARKG"
         ],
         "yaxis": "y"
        },
        {
         "alignmentgroup": "True",
         "customdata": [
          [
           "SPDR S&P Semiconductor ETF"
          ]
         ],
         "hovertemplate": "symbol=%{y}<br>total_pct_gain=%{text}<br>company_name=%{customdata[0]}<extra></extra>",
         "legendgroup": "XSD",
         "marker": {
          "color": "#ab63fa"
         },
         "name": "XSD",
         "offsetgroup": "XSD",
         "orientation": "h",
         "showlegend": true,
         "text": [
          14.53
         ],
         "textposition": "auto",
         "type": "bar",
         "x": [
          14.53
         ],
         "xaxis": "x",
         "y": [
          "XSD"
         ],
         "yaxis": "y"
        },
        {
         "alignmentgroup": "True",
         "customdata": [
          [
           "ARK Israel Innovative Technology ETF"
          ]
         ],
         "hovertemplate": "symbol=%{y}<br>total_pct_gain=%{text}<br>company_name=%{customdata[0]}<extra></extra>",
         "legendgroup": "IZRL",
         "marker": {
          "color": "#FFA15A"
         },
         "name": "IZRL",
         "offsetgroup": "IZRL",
         "orientation": "h",
         "showlegend": true,
         "text": [
          12.6
         ],
         "textposition": "auto",
         "type": "bar",
         "x": [
          12.6
         ],
         "xaxis": "x",
         "y": [
          "IZRL"
         ],
         "yaxis": "y"
        },
        {
         "alignmentgroup": "True",
         "customdata": [
          [
           "Global X Video Games & Esports ETF"
          ]
         ],
         "hovertemplate": "symbol=%{y}<br>total_pct_gain=%{text}<br>company_name=%{customdata[0]}<extra></extra>",
         "legendgroup": "HERO",
         "marker": {
          "color": "#19d3f3"
         },
         "name": "HERO",
         "offsetgroup": "HERO",
         "orientation": "h",
         "showlegend": true,
         "text": [
          12.37
         ],
         "textposition": "auto",
         "type": "bar",
         "x": [
          12.37
         ],
         "xaxis": "x",
         "y": [
          "HERO"
         ],
         "yaxis": "y"
        },
        {
         "alignmentgroup": "True",
         "customdata": [
          [
           "Vanguard Information Technology Index Fund"
          ]
         ],
         "hovertemplate": "symbol=%{y}<br>total_pct_gain=%{text}<br>company_name=%{customdata[0]}<extra></extra>",
         "legendgroup": "VGT",
         "marker": {
          "color": "#FF6692"
         },
         "name": "VGT",
         "offsetgroup": "VGT",
         "orientation": "h",
         "showlegend": true,
         "text": [
          10.7
         ],
         "textposition": "auto",
         "type": "bar",
         "x": [
          10.7
         ],
         "xaxis": "x",
         "y": [
          "VGT"
         ],
         "yaxis": "y"
        },
        {
         "alignmentgroup": "True",
         "customdata": [
          [
           "VanEck Vectors Video Gaming & eSports ETF"
          ]
         ],
         "hovertemplate": "symbol=%{y}<br>total_pct_gain=%{text}<br>company_name=%{customdata[0]}<extra></extra>",
         "legendgroup": "ESPO",
         "marker": {
          "color": "#B6E880"
         },
         "name": "ESPO",
         "offsetgroup": "ESPO",
         "orientation": "h",
         "showlegend": true,
         "text": [
          9.98
         ],
         "textposition": "auto",
         "type": "bar",
         "x": [
          9.98
         ],
         "xaxis": "x",
         "y": [
          "ESPO"
         ],
         "yaxis": "y"
        },
        {
         "alignmentgroup": "True",
         "customdata": [
          [
           "iShares PHLX Semiconductor ETF"
          ]
         ],
         "hovertemplate": "symbol=%{y}<br>total_pct_gain=%{text}<br>company_name=%{customdata[0]}<extra></extra>",
         "legendgroup": "SOXX",
         "marker": {
          "color": "#FF97FF"
         },
         "name": "SOXX",
         "offsetgroup": "SOXX",
         "orientation": "h",
         "showlegend": true,
         "text": [
          9.73
         ],
         "textposition": "auto",
         "type": "bar",
         "x": [
          9.73
         ],
         "xaxis": "x",
         "y": [
          "SOXX"
         ],
         "yaxis": "y"
        },
        {
         "alignmentgroup": "True",
         "customdata": [
          [
           "Vanguard Consumer Discretionary Index Fund"
          ]
         ],
         "hovertemplate": "symbol=%{y}<br>total_pct_gain=%{text}<br>company_name=%{customdata[0]}<extra></extra>",
         "legendgroup": "VCR",
         "marker": {
          "color": "#FECB52"
         },
         "name": "VCR",
         "offsetgroup": "VCR",
         "orientation": "h",
         "showlegend": true,
         "text": [
          9.33
         ],
         "textposition": "auto",
         "type": "bar",
         "x": [
          9.33
         ],
         "xaxis": "x",
         "y": [
          "VCR"
         ],
         "yaxis": "y"
        },
        {
         "alignmentgroup": "True",
         "customdata": [
          [
           "VanEck Vectors Semiconductor ETF"
          ]
         ],
         "hovertemplate": "symbol=%{y}<br>total_pct_gain=%{text}<br>company_name=%{customdata[0]}<extra></extra>",
         "legendgroup": "SMH",
         "marker": {
          "color": "#636efa"
         },
         "name": "SMH",
         "offsetgroup": "SMH",
         "orientation": "h",
         "showlegend": true,
         "text": [
          8.16
         ],
         "textposition": "auto",
         "type": "bar",
         "x": [
          8.16
         ],
         "xaxis": "x",
         "y": [
          "SMH"
         ],
         "yaxis": "y"
        },
        {
         "alignmentgroup": "True",
         "customdata": [
          [
           "Pacer Benchmark Industrial Real Estate SCTR ETF"
          ]
         ],
         "hovertemplate": "symbol=%{y}<br>total_pct_gain=%{text}<br>company_name=%{customdata[0]}<extra></extra>",
         "legendgroup": "INDS",
         "marker": {
          "color": "#EF553B"
         },
         "name": "INDS",
         "offsetgroup": "INDS",
         "orientation": "h",
         "showlegend": true,
         "text": [
          7.93
         ],
         "textposition": "auto",
         "type": "bar",
         "x": [
          7.93
         ],
         "xaxis": "x",
         "y": [
          "INDS"
         ],
         "yaxis": "y"
        },
        {
         "alignmentgroup": "True",
         "customdata": [
          [
           "Pacer Benchmark Data & Infrastructure Real Estate SCTR ETF"
          ]
         ],
         "hovertemplate": "symbol=%{y}<br>total_pct_gain=%{text}<br>company_name=%{customdata[0]}<extra></extra>",
         "legendgroup": "SRVR",
         "marker": {
          "color": "#00cc96"
         },
         "name": "SRVR",
         "offsetgroup": "SRVR",
         "orientation": "h",
         "showlegend": true,
         "text": [
          5.83
         ],
         "textposition": "auto",
         "type": "bar",
         "x": [
          5.83
         ],
         "xaxis": "x",
         "y": [
          "SRVR"
         ],
         "yaxis": "y"
        },
        {
         "alignmentgroup": "True",
         "customdata": [
          [
           "PPTY-U.S. Diversified Real Estate ETF"
          ]
         ],
         "hovertemplate": "symbol=%{y}<br>total_pct_gain=%{text}<br>company_name=%{customdata[0]}<extra></extra>",
         "legendgroup": "PPTY",
         "marker": {
          "color": "#ab63fa"
         },
         "name": "PPTY",
         "offsetgroup": "PPTY",
         "orientation": "h",
         "showlegend": true,
         "text": [
          3.43
         ],
         "textposition": "auto",
         "type": "bar",
         "x": [
          3.43
         ],
         "xaxis": "x",
         "y": [
          "PPTY"
         ],
         "yaxis": "y"
        },
        {
         "alignmentgroup": "True",
         "customdata": [
          [
           "FlexShares Credit-Scored US Long Corporate Bond Index Fund"
          ]
         ],
         "hovertemplate": "symbol=%{y}<br>total_pct_gain=%{text}<br>company_name=%{customdata[0]}<extra></extra>",
         "legendgroup": "LKOR",
         "marker": {
          "color": "#FFA15A"
         },
         "name": "LKOR",
         "offsetgroup": "LKOR",
         "orientation": "h",
         "showlegend": true,
         "text": [
          2.04
         ],
         "textposition": "auto",
         "type": "bar",
         "x": [
          2.04
         ],
         "xaxis": "x",
         "y": [
          "LKOR"
         ],
         "yaxis": "y"
        },
        {
         "alignmentgroup": "True",
         "customdata": [
          [
           "Vanguard Consumer Staples Index Fund"
          ]
         ],
         "hovertemplate": "symbol=%{y}<br>total_pct_gain=%{text}<br>company_name=%{customdata[0]}<extra></extra>",
         "legendgroup": "VDC",
         "marker": {
          "color": "#19d3f3"
         },
         "name": "VDC",
         "offsetgroup": "VDC",
         "orientation": "h",
         "showlegend": true,
         "text": [
          1.22
         ],
         "textposition": "auto",
         "type": "bar",
         "x": [
          1.22
         ],
         "xaxis": "x",
         "y": [
          "VDC"
         ],
         "yaxis": "y"
        },
        {
         "alignmentgroup": "True",
         "customdata": [
          [
           "Fidelity Total Bond ETF"
          ]
         ],
         "hovertemplate": "symbol=%{y}<br>total_pct_gain=%{text}<br>company_name=%{customdata[0]}<extra></extra>",
         "legendgroup": "FBND",
         "marker": {
          "color": "#FF6692"
         },
         "name": "FBND",
         "offsetgroup": "FBND",
         "orientation": "h",
         "showlegend": true,
         "text": [
          1.12
         ],
         "textposition": "auto",
         "type": "bar",
         "x": [
          1.12
         ],
         "xaxis": "x",
         "y": [
          "FBND"
         ],
         "yaxis": "y"
        },
        {
         "alignmentgroup": "True",
         "customdata": [
          [
           "SPDR Portfolio Long Term Corporate Bond ETF"
          ]
         ],
         "hovertemplate": "symbol=%{y}<br>total_pct_gain=%{text}<br>company_name=%{customdata[0]}<extra></extra>",
         "legendgroup": "SPLB",
         "marker": {
          "color": "#B6E880"
         },
         "name": "SPLB",
         "offsetgroup": "SPLB",
         "orientation": "h",
         "showlegend": true,
         "text": [
          1.09
         ],
         "textposition": "auto",
         "type": "bar",
         "x": [
          1.09
         ],
         "xaxis": "x",
         "y": [
          "SPLB"
         ],
         "yaxis": "y"
        }
       ],
       "layout": {
        "barmode": "relative",
        "height": 700,
        "legend": {
         "title": {
          "text": "symbol"
         },
         "tracegroupgap": 0
        },
        "template": {
         "data": {
          "bar": [
           {
            "error_x": {
             "color": "#2a3f5f"
            },
            "error_y": {
             "color": "#2a3f5f"
            },
            "marker": {
             "line": {
              "color": "#E5ECF6",
              "width": 0.5
             }
            },
            "type": "bar"
           }
          ],
          "barpolar": [
           {
            "marker": {
             "line": {
              "color": "#E5ECF6",
              "width": 0.5
             }
            },
            "type": "barpolar"
           }
          ],
          "carpet": [
           {
            "aaxis": {
             "endlinecolor": "#2a3f5f",
             "gridcolor": "white",
             "linecolor": "white",
             "minorgridcolor": "white",
             "startlinecolor": "#2a3f5f"
            },
            "baxis": {
             "endlinecolor": "#2a3f5f",
             "gridcolor": "white",
             "linecolor": "white",
             "minorgridcolor": "white",
             "startlinecolor": "#2a3f5f"
            },
            "type": "carpet"
           }
          ],
          "choropleth": [
           {
            "colorbar": {
             "outlinewidth": 0,
             "ticks": ""
            },
            "type": "choropleth"
           }
          ],
          "contour": [
           {
            "colorbar": {
             "outlinewidth": 0,
             "ticks": ""
            },
            "colorscale": [
             [
              0,
              "#0d0887"
             ],
             [
              0.1111111111111111,
              "#46039f"
             ],
             [
              0.2222222222222222,
              "#7201a8"
             ],
             [
              0.3333333333333333,
              "#9c179e"
             ],
             [
              0.4444444444444444,
              "#bd3786"
             ],
             [
              0.5555555555555556,
              "#d8576b"
             ],
             [
              0.6666666666666666,
              "#ed7953"
             ],
             [
              0.7777777777777778,
              "#fb9f3a"
             ],
             [
              0.8888888888888888,
              "#fdca26"
             ],
             [
              1,
              "#f0f921"
             ]
            ],
            "type": "contour"
           }
          ],
          "contourcarpet": [
           {
            "colorbar": {
             "outlinewidth": 0,
             "ticks": ""
            },
            "type": "contourcarpet"
           }
          ],
          "heatmap": [
           {
            "colorbar": {
             "outlinewidth": 0,
             "ticks": ""
            },
            "colorscale": [
             [
              0,
              "#0d0887"
             ],
             [
              0.1111111111111111,
              "#46039f"
             ],
             [
              0.2222222222222222,
              "#7201a8"
             ],
             [
              0.3333333333333333,
              "#9c179e"
             ],
             [
              0.4444444444444444,
              "#bd3786"
             ],
             [
              0.5555555555555556,
              "#d8576b"
             ],
             [
              0.6666666666666666,
              "#ed7953"
             ],
             [
              0.7777777777777778,
              "#fb9f3a"
             ],
             [
              0.8888888888888888,
              "#fdca26"
             ],
             [
              1,
              "#f0f921"
             ]
            ],
            "type": "heatmap"
           }
          ],
          "heatmapgl": [
           {
            "colorbar": {
             "outlinewidth": 0,
             "ticks": ""
            },
            "colorscale": [
             [
              0,
              "#0d0887"
             ],
             [
              0.1111111111111111,
              "#46039f"
             ],
             [
              0.2222222222222222,
              "#7201a8"
             ],
             [
              0.3333333333333333,
              "#9c179e"
             ],
             [
              0.4444444444444444,
              "#bd3786"
             ],
             [
              0.5555555555555556,
              "#d8576b"
             ],
             [
              0.6666666666666666,
              "#ed7953"
             ],
             [
              0.7777777777777778,
              "#fb9f3a"
             ],
             [
              0.8888888888888888,
              "#fdca26"
             ],
             [
              1,
              "#f0f921"
             ]
            ],
            "type": "heatmapgl"
           }
          ],
          "histogram": [
           {
            "marker": {
             "colorbar": {
              "outlinewidth": 0,
              "ticks": ""
             }
            },
            "type": "histogram"
           }
          ],
          "histogram2d": [
           {
            "colorbar": {
             "outlinewidth": 0,
             "ticks": ""
            },
            "colorscale": [
             [
              0,
              "#0d0887"
             ],
             [
              0.1111111111111111,
              "#46039f"
             ],
             [
              0.2222222222222222,
              "#7201a8"
             ],
             [
              0.3333333333333333,
              "#9c179e"
             ],
             [
              0.4444444444444444,
              "#bd3786"
             ],
             [
              0.5555555555555556,
              "#d8576b"
             ],
             [
              0.6666666666666666,
              "#ed7953"
             ],
             [
              0.7777777777777778,
              "#fb9f3a"
             ],
             [
              0.8888888888888888,
              "#fdca26"
             ],
             [
              1,
              "#f0f921"
             ]
            ],
            "type": "histogram2d"
           }
          ],
          "histogram2dcontour": [
           {
            "colorbar": {
             "outlinewidth": 0,
             "ticks": ""
            },
            "colorscale": [
             [
              0,
              "#0d0887"
             ],
             [
              0.1111111111111111,
              "#46039f"
             ],
             [
              0.2222222222222222,
              "#7201a8"
             ],
             [
              0.3333333333333333,
              "#9c179e"
             ],
             [
              0.4444444444444444,
              "#bd3786"
             ],
             [
              0.5555555555555556,
              "#d8576b"
             ],
             [
              0.6666666666666666,
              "#ed7953"
             ],
             [
              0.7777777777777778,
              "#fb9f3a"
             ],
             [
              0.8888888888888888,
              "#fdca26"
             ],
             [
              1,
              "#f0f921"
             ]
            ],
            "type": "histogram2dcontour"
           }
          ],
          "mesh3d": [
           {
            "colorbar": {
             "outlinewidth": 0,
             "ticks": ""
            },
            "type": "mesh3d"
           }
          ],
          "parcoords": [
           {
            "line": {
             "colorbar": {
              "outlinewidth": 0,
              "ticks": ""
             }
            },
            "type": "parcoords"
           }
          ],
          "pie": [
           {
            "automargin": true,
            "type": "pie"
           }
          ],
          "scatter": [
           {
            "marker": {
             "colorbar": {
              "outlinewidth": 0,
              "ticks": ""
             }
            },
            "type": "scatter"
           }
          ],
          "scatter3d": [
           {
            "line": {
             "colorbar": {
              "outlinewidth": 0,
              "ticks": ""
             }
            },
            "marker": {
             "colorbar": {
              "outlinewidth": 0,
              "ticks": ""
             }
            },
            "type": "scatter3d"
           }
          ],
          "scattercarpet": [
           {
            "marker": {
             "colorbar": {
              "outlinewidth": 0,
              "ticks": ""
             }
            },
            "type": "scattercarpet"
           }
          ],
          "scattergeo": [
           {
            "marker": {
             "colorbar": {
              "outlinewidth": 0,
              "ticks": ""
             }
            },
            "type": "scattergeo"
           }
          ],
          "scattergl": [
           {
            "marker": {
             "colorbar": {
              "outlinewidth": 0,
              "ticks": ""
             }
            },
            "type": "scattergl"
           }
          ],
          "scattermapbox": [
           {
            "marker": {
             "colorbar": {
              "outlinewidth": 0,
              "ticks": ""
             }
            },
            "type": "scattermapbox"
           }
          ],
          "scatterpolar": [
           {
            "marker": {
             "colorbar": {
              "outlinewidth": 0,
              "ticks": ""
             }
            },
            "type": "scatterpolar"
           }
          ],
          "scatterpolargl": [
           {
            "marker": {
             "colorbar": {
              "outlinewidth": 0,
              "ticks": ""
             }
            },
            "type": "scatterpolargl"
           }
          ],
          "scatterternary": [
           {
            "marker": {
             "colorbar": {
              "outlinewidth": 0,
              "ticks": ""
             }
            },
            "type": "scatterternary"
           }
          ],
          "surface": [
           {
            "colorbar": {
             "outlinewidth": 0,
             "ticks": ""
            },
            "colorscale": [
             [
              0,
              "#0d0887"
             ],
             [
              0.1111111111111111,
              "#46039f"
             ],
             [
              0.2222222222222222,
              "#7201a8"
             ],
             [
              0.3333333333333333,
              "#9c179e"
             ],
             [
              0.4444444444444444,
              "#bd3786"
             ],
             [
              0.5555555555555556,
              "#d8576b"
             ],
             [
              0.6666666666666666,
              "#ed7953"
             ],
             [
              0.7777777777777778,
              "#fb9f3a"
             ],
             [
              0.8888888888888888,
              "#fdca26"
             ],
             [
              1,
              "#f0f921"
             ]
            ],
            "type": "surface"
           }
          ],
          "table": [
           {
            "cells": {
             "fill": {
              "color": "#EBF0F8"
             },
             "line": {
              "color": "white"
             }
            },
            "header": {
             "fill": {
              "color": "#C8D4E3"
             },
             "line": {
              "color": "white"
             }
            },
            "type": "table"
           }
          ]
         },
         "layout": {
          "annotationdefaults": {
           "arrowcolor": "#2a3f5f",
           "arrowhead": 0,
           "arrowwidth": 1
          },
          "coloraxis": {
           "colorbar": {
            "outlinewidth": 0,
            "ticks": ""
           }
          },
          "colorscale": {
           "diverging": [
            [
             0,
             "#8e0152"
            ],
            [
             0.1,
             "#c51b7d"
            ],
            [
             0.2,
             "#de77ae"
            ],
            [
             0.3,
             "#f1b6da"
            ],
            [
             0.4,
             "#fde0ef"
            ],
            [
             0.5,
             "#f7f7f7"
            ],
            [
             0.6,
             "#e6f5d0"
            ],
            [
             0.7,
             "#b8e186"
            ],
            [
             0.8,
             "#7fbc41"
            ],
            [
             0.9,
             "#4d9221"
            ],
            [
             1,
             "#276419"
            ]
           ],
           "sequential": [
            [
             0,
             "#0d0887"
            ],
            [
             0.1111111111111111,
             "#46039f"
            ],
            [
             0.2222222222222222,
             "#7201a8"
            ],
            [
             0.3333333333333333,
             "#9c179e"
            ],
            [
             0.4444444444444444,
             "#bd3786"
            ],
            [
             0.5555555555555556,
             "#d8576b"
            ],
            [
             0.6666666666666666,
             "#ed7953"
            ],
            [
             0.7777777777777778,
             "#fb9f3a"
            ],
            [
             0.8888888888888888,
             "#fdca26"
            ],
            [
             1,
             "#f0f921"
            ]
           ],
           "sequentialminus": [
            [
             0,
             "#0d0887"
            ],
            [
             0.1111111111111111,
             "#46039f"
            ],
            [
             0.2222222222222222,
             "#7201a8"
            ],
            [
             0.3333333333333333,
             "#9c179e"
            ],
            [
             0.4444444444444444,
             "#bd3786"
            ],
            [
             0.5555555555555556,
             "#d8576b"
            ],
            [
             0.6666666666666666,
             "#ed7953"
            ],
            [
             0.7777777777777778,
             "#fb9f3a"
            ],
            [
             0.8888888888888888,
             "#fdca26"
            ],
            [
             1,
             "#f0f921"
            ]
           ]
          },
          "colorway": [
           "#636efa",
           "#EF553B",
           "#00cc96",
           "#ab63fa",
           "#FFA15A",
           "#19d3f3",
           "#FF6692",
           "#B6E880",
           "#FF97FF",
           "#FECB52"
          ],
          "font": {
           "color": "#2a3f5f"
          },
          "geo": {
           "bgcolor": "white",
           "lakecolor": "white",
           "landcolor": "#E5ECF6",
           "showlakes": true,
           "showland": true,
           "subunitcolor": "white"
          },
          "hoverlabel": {
           "align": "left"
          },
          "hovermode": "closest",
          "mapbox": {
           "style": "light"
          },
          "paper_bgcolor": "white",
          "plot_bgcolor": "#E5ECF6",
          "polar": {
           "angularaxis": {
            "gridcolor": "white",
            "linecolor": "white",
            "ticks": ""
           },
           "bgcolor": "#E5ECF6",
           "radialaxis": {
            "gridcolor": "white",
            "linecolor": "white",
            "ticks": ""
           }
          },
          "scene": {
           "xaxis": {
            "backgroundcolor": "#E5ECF6",
            "gridcolor": "white",
            "gridwidth": 2,
            "linecolor": "white",
            "showbackground": true,
            "ticks": "",
            "zerolinecolor": "white"
           },
           "yaxis": {
            "backgroundcolor": "#E5ECF6",
            "gridcolor": "white",
            "gridwidth": 2,
            "linecolor": "white",
            "showbackground": true,
            "ticks": "",
            "zerolinecolor": "white"
           },
           "zaxis": {
            "backgroundcolor": "#E5ECF6",
            "gridcolor": "white",
            "gridwidth": 2,
            "linecolor": "white",
            "showbackground": true,
            "ticks": "",
            "zerolinecolor": "white"
           }
          },
          "shapedefaults": {
           "line": {
            "color": "#2a3f5f"
           }
          },
          "ternary": {
           "aaxis": {
            "gridcolor": "white",
            "linecolor": "white",
            "ticks": ""
           },
           "baxis": {
            "gridcolor": "white",
            "linecolor": "white",
            "ticks": ""
           },
           "bgcolor": "#E5ECF6",
           "caxis": {
            "gridcolor": "white",
            "linecolor": "white",
            "ticks": ""
           }
          },
          "title": {
           "x": 0.05
          },
          "xaxis": {
           "automargin": true,
           "gridcolor": "white",
           "linecolor": "white",
           "ticks": "",
           "title": {
            "standoff": 15
           },
           "zerolinecolor": "white",
           "zerolinewidth": 2
          },
          "yaxis": {
           "automargin": true,
           "gridcolor": "white",
           "linecolor": "white",
           "ticks": "",
           "title": {
            "standoff": 15
           },
           "zerolinecolor": "white",
           "zerolinewidth": 2
          }
         }
        },
        "title": {
         "text": "Total Gain by Stock"
        },
        "xaxis": {
         "anchor": "y",
         "domain": [
          0,
          1
         ],
         "title": {
          "text": "total_pct_gain"
         }
        },
        "yaxis": {
         "anchor": "x",
         "categoryarray": [
          "SPLB",
          "FBND",
          "VDC",
          "LKOR",
          "PPTY",
          "SRVR",
          "INDS",
          "SMH",
          "VCR",
          "SOXX",
          "ESPO",
          "VGT",
          "HERO",
          "IZRL",
          "XSD",
          "ARKG",
          "ARKW",
          "ARKK"
         ],
         "categoryorder": "array",
         "domain": [
          0,
          1
         ],
         "title": {
          "text": "symbol"
         }
        }
       }
      },
      "text/html": [
       "<div>\n",
       "        \n",
       "        \n",
       "            <div id=\"3633d7c9-4aba-46a5-8cf4-1d3d0cc671c3\" class=\"plotly-graph-div\" style=\"height:700px; width:100%;\"></div>\n",
       "            <script type=\"text/javascript\">\n",
       "                require([\"plotly\"], function(Plotly) {\n",
       "                    window.PLOTLYENV=window.PLOTLYENV || {};\n",
       "                    \n",
       "                if (document.getElementById(\"3633d7c9-4aba-46a5-8cf4-1d3d0cc671c3\")) {\n",
       "                    Plotly.newPlot(\n",
       "                        '3633d7c9-4aba-46a5-8cf4-1d3d0cc671c3',\n",
       "                        [{\"alignmentgroup\": \"True\", \"customdata\": [[\"ARK Innovation ETF\"]], \"hovertemplate\": \"symbol=%{y}<br>total_pct_gain=%{text}<br>company_name=%{customdata[0]}<extra></extra>\", \"legendgroup\": \"ARKK\", \"marker\": {\"color\": \"#636efa\"}, \"name\": \"ARKK\", \"offsetgroup\": \"ARKK\", \"orientation\": \"h\", \"showlegend\": true, \"text\": [21.44], \"textposition\": \"auto\", \"type\": \"bar\", \"x\": [21.44], \"xaxis\": \"x\", \"y\": [\"ARKK\"], \"yaxis\": \"y\"}, {\"alignmentgroup\": \"True\", \"customdata\": [[\"ARK Web x.0 ETF\"]], \"hovertemplate\": \"symbol=%{y}<br>total_pct_gain=%{text}<br>company_name=%{customdata[0]}<extra></extra>\", \"legendgroup\": \"ARKW\", \"marker\": {\"color\": \"#EF553B\"}, \"name\": \"ARKW\", \"offsetgroup\": \"ARKW\", \"orientation\": \"h\", \"showlegend\": true, \"text\": [21.08], \"textposition\": \"auto\", \"type\": \"bar\", \"x\": [21.08], \"xaxis\": \"x\", \"y\": [\"ARKW\"], \"yaxis\": \"y\"}, {\"alignmentgroup\": \"True\", \"customdata\": [[\"ARK Genomic Revolution Multi-Sector ETF\"]], \"hovertemplate\": \"symbol=%{y}<br>total_pct_gain=%{text}<br>company_name=%{customdata[0]}<extra></extra>\", \"legendgroup\": \"ARKG\", \"marker\": {\"color\": \"#00cc96\"}, \"name\": \"ARKG\", \"offsetgroup\": \"ARKG\", \"orientation\": \"h\", \"showlegend\": true, \"text\": [14.7], \"textposition\": \"auto\", \"type\": \"bar\", \"x\": [14.7], \"xaxis\": \"x\", \"y\": [\"ARKG\"], \"yaxis\": \"y\"}, {\"alignmentgroup\": \"True\", \"customdata\": [[\"SPDR S&P Semiconductor ETF\"]], \"hovertemplate\": \"symbol=%{y}<br>total_pct_gain=%{text}<br>company_name=%{customdata[0]}<extra></extra>\", \"legendgroup\": \"XSD\", \"marker\": {\"color\": \"#ab63fa\"}, \"name\": \"XSD\", \"offsetgroup\": \"XSD\", \"orientation\": \"h\", \"showlegend\": true, \"text\": [14.53], \"textposition\": \"auto\", \"type\": \"bar\", \"x\": [14.53], \"xaxis\": \"x\", \"y\": [\"XSD\"], \"yaxis\": \"y\"}, {\"alignmentgroup\": \"True\", \"customdata\": [[\"ARK Israel Innovative Technology ETF\"]], \"hovertemplate\": \"symbol=%{y}<br>total_pct_gain=%{text}<br>company_name=%{customdata[0]}<extra></extra>\", \"legendgroup\": \"IZRL\", \"marker\": {\"color\": \"#FFA15A\"}, \"name\": \"IZRL\", \"offsetgroup\": \"IZRL\", \"orientation\": \"h\", \"showlegend\": true, \"text\": [12.6], \"textposition\": \"auto\", \"type\": \"bar\", \"x\": [12.6], \"xaxis\": \"x\", \"y\": [\"IZRL\"], \"yaxis\": \"y\"}, {\"alignmentgroup\": \"True\", \"customdata\": [[\"Global X Video Games & Esports ETF\"]], \"hovertemplate\": \"symbol=%{y}<br>total_pct_gain=%{text}<br>company_name=%{customdata[0]}<extra></extra>\", \"legendgroup\": \"HERO\", \"marker\": {\"color\": \"#19d3f3\"}, \"name\": \"HERO\", \"offsetgroup\": \"HERO\", \"orientation\": \"h\", \"showlegend\": true, \"text\": [12.37], \"textposition\": \"auto\", \"type\": \"bar\", \"x\": [12.37], \"xaxis\": \"x\", \"y\": [\"HERO\"], \"yaxis\": \"y\"}, {\"alignmentgroup\": \"True\", \"customdata\": [[\"Vanguard Information Technology Index Fund\"]], \"hovertemplate\": \"symbol=%{y}<br>total_pct_gain=%{text}<br>company_name=%{customdata[0]}<extra></extra>\", \"legendgroup\": \"VGT\", \"marker\": {\"color\": \"#FF6692\"}, \"name\": \"VGT\", \"offsetgroup\": \"VGT\", \"orientation\": \"h\", \"showlegend\": true, \"text\": [10.7], \"textposition\": \"auto\", \"type\": \"bar\", \"x\": [10.7], \"xaxis\": \"x\", \"y\": [\"VGT\"], \"yaxis\": \"y\"}, {\"alignmentgroup\": \"True\", \"customdata\": [[\"VanEck Vectors Video Gaming & eSports ETF\"]], \"hovertemplate\": \"symbol=%{y}<br>total_pct_gain=%{text}<br>company_name=%{customdata[0]}<extra></extra>\", \"legendgroup\": \"ESPO\", \"marker\": {\"color\": \"#B6E880\"}, \"name\": \"ESPO\", \"offsetgroup\": \"ESPO\", \"orientation\": \"h\", \"showlegend\": true, \"text\": [9.98], \"textposition\": \"auto\", \"type\": \"bar\", \"x\": [9.98], \"xaxis\": \"x\", \"y\": [\"ESPO\"], \"yaxis\": \"y\"}, {\"alignmentgroup\": \"True\", \"customdata\": [[\"iShares PHLX Semiconductor ETF\"]], \"hovertemplate\": \"symbol=%{y}<br>total_pct_gain=%{text}<br>company_name=%{customdata[0]}<extra></extra>\", \"legendgroup\": \"SOXX\", \"marker\": {\"color\": \"#FF97FF\"}, \"name\": \"SOXX\", \"offsetgroup\": \"SOXX\", \"orientation\": \"h\", \"showlegend\": true, \"text\": [9.73], \"textposition\": \"auto\", \"type\": \"bar\", \"x\": [9.73], \"xaxis\": \"x\", \"y\": [\"SOXX\"], \"yaxis\": \"y\"}, {\"alignmentgroup\": \"True\", \"customdata\": [[\"Vanguard Consumer Discretionary Index Fund\"]], \"hovertemplate\": \"symbol=%{y}<br>total_pct_gain=%{text}<br>company_name=%{customdata[0]}<extra></extra>\", \"legendgroup\": \"VCR\", \"marker\": {\"color\": \"#FECB52\"}, \"name\": \"VCR\", \"offsetgroup\": \"VCR\", \"orientation\": \"h\", \"showlegend\": true, \"text\": [9.33], \"textposition\": \"auto\", \"type\": \"bar\", \"x\": [9.33], \"xaxis\": \"x\", \"y\": [\"VCR\"], \"yaxis\": \"y\"}, {\"alignmentgroup\": \"True\", \"customdata\": [[\"VanEck Vectors Semiconductor ETF\"]], \"hovertemplate\": \"symbol=%{y}<br>total_pct_gain=%{text}<br>company_name=%{customdata[0]}<extra></extra>\", \"legendgroup\": \"SMH\", \"marker\": {\"color\": \"#636efa\"}, \"name\": \"SMH\", \"offsetgroup\": \"SMH\", \"orientation\": \"h\", \"showlegend\": true, \"text\": [8.16], \"textposition\": \"auto\", \"type\": \"bar\", \"x\": [8.16], \"xaxis\": \"x\", \"y\": [\"SMH\"], \"yaxis\": \"y\"}, {\"alignmentgroup\": \"True\", \"customdata\": [[\"Pacer Benchmark Industrial Real Estate SCTR ETF\"]], \"hovertemplate\": \"symbol=%{y}<br>total_pct_gain=%{text}<br>company_name=%{customdata[0]}<extra></extra>\", \"legendgroup\": \"INDS\", \"marker\": {\"color\": \"#EF553B\"}, \"name\": \"INDS\", \"offsetgroup\": \"INDS\", \"orientation\": \"h\", \"showlegend\": true, \"text\": [7.93], \"textposition\": \"auto\", \"type\": \"bar\", \"x\": [7.93], \"xaxis\": \"x\", \"y\": [\"INDS\"], \"yaxis\": \"y\"}, {\"alignmentgroup\": \"True\", \"customdata\": [[\"Pacer Benchmark Data & Infrastructure Real Estate SCTR ETF\"]], \"hovertemplate\": \"symbol=%{y}<br>total_pct_gain=%{text}<br>company_name=%{customdata[0]}<extra></extra>\", \"legendgroup\": \"SRVR\", \"marker\": {\"color\": \"#00cc96\"}, \"name\": \"SRVR\", \"offsetgroup\": \"SRVR\", \"orientation\": \"h\", \"showlegend\": true, \"text\": [5.83], \"textposition\": \"auto\", \"type\": \"bar\", \"x\": [5.83], \"xaxis\": \"x\", \"y\": [\"SRVR\"], \"yaxis\": \"y\"}, {\"alignmentgroup\": \"True\", \"customdata\": [[\"PPTY-U.S. Diversified Real Estate ETF\"]], \"hovertemplate\": \"symbol=%{y}<br>total_pct_gain=%{text}<br>company_name=%{customdata[0]}<extra></extra>\", \"legendgroup\": \"PPTY\", \"marker\": {\"color\": \"#ab63fa\"}, \"name\": \"PPTY\", \"offsetgroup\": \"PPTY\", \"orientation\": \"h\", \"showlegend\": true, \"text\": [3.43], \"textposition\": \"auto\", \"type\": \"bar\", \"x\": [3.43], \"xaxis\": \"x\", \"y\": [\"PPTY\"], \"yaxis\": \"y\"}, {\"alignmentgroup\": \"True\", \"customdata\": [[\"FlexShares Credit-Scored US Long Corporate Bond Index Fund\"]], \"hovertemplate\": \"symbol=%{y}<br>total_pct_gain=%{text}<br>company_name=%{customdata[0]}<extra></extra>\", \"legendgroup\": \"LKOR\", \"marker\": {\"color\": \"#FFA15A\"}, \"name\": \"LKOR\", \"offsetgroup\": \"LKOR\", \"orientation\": \"h\", \"showlegend\": true, \"text\": [2.04], \"textposition\": \"auto\", \"type\": \"bar\", \"x\": [2.04], \"xaxis\": \"x\", \"y\": [\"LKOR\"], \"yaxis\": \"y\"}, {\"alignmentgroup\": \"True\", \"customdata\": [[\"Vanguard Consumer Staples Index Fund\"]], \"hovertemplate\": \"symbol=%{y}<br>total_pct_gain=%{text}<br>company_name=%{customdata[0]}<extra></extra>\", \"legendgroup\": \"VDC\", \"marker\": {\"color\": \"#19d3f3\"}, \"name\": \"VDC\", \"offsetgroup\": \"VDC\", \"orientation\": \"h\", \"showlegend\": true, \"text\": [1.22], \"textposition\": \"auto\", \"type\": \"bar\", \"x\": [1.22], \"xaxis\": \"x\", \"y\": [\"VDC\"], \"yaxis\": \"y\"}, {\"alignmentgroup\": \"True\", \"customdata\": [[\"Fidelity Total Bond ETF\"]], \"hovertemplate\": \"symbol=%{y}<br>total_pct_gain=%{text}<br>company_name=%{customdata[0]}<extra></extra>\", \"legendgroup\": \"FBND\", \"marker\": {\"color\": \"#FF6692\"}, \"name\": \"FBND\", \"offsetgroup\": \"FBND\", \"orientation\": \"h\", \"showlegend\": true, \"text\": [1.12], \"textposition\": \"auto\", \"type\": \"bar\", \"x\": [1.12], \"xaxis\": \"x\", \"y\": [\"FBND\"], \"yaxis\": \"y\"}, {\"alignmentgroup\": \"True\", \"customdata\": [[\"SPDR Portfolio Long Term Corporate Bond ETF\"]], \"hovertemplate\": \"symbol=%{y}<br>total_pct_gain=%{text}<br>company_name=%{customdata[0]}<extra></extra>\", \"legendgroup\": \"SPLB\", \"marker\": {\"color\": \"#B6E880\"}, \"name\": \"SPLB\", \"offsetgroup\": \"SPLB\", \"orientation\": \"h\", \"showlegend\": true, \"text\": [1.09], \"textposition\": \"auto\", \"type\": \"bar\", \"x\": [1.09], \"xaxis\": \"x\", \"y\": [\"SPLB\"], \"yaxis\": \"y\"}],\n",
       "                        {\"barmode\": \"relative\", \"height\": 700, \"legend\": {\"title\": {\"text\": \"symbol\"}, \"tracegroupgap\": 0}, \"template\": {\"data\": {\"bar\": [{\"error_x\": {\"color\": \"#2a3f5f\"}, \"error_y\": {\"color\": \"#2a3f5f\"}, \"marker\": {\"line\": {\"color\": \"#E5ECF6\", \"width\": 0.5}}, \"type\": \"bar\"}], \"barpolar\": [{\"marker\": {\"line\": {\"color\": \"#E5ECF6\", \"width\": 0.5}}, \"type\": \"barpolar\"}], \"carpet\": [{\"aaxis\": {\"endlinecolor\": \"#2a3f5f\", \"gridcolor\": \"white\", \"linecolor\": \"white\", \"minorgridcolor\": \"white\", \"startlinecolor\": \"#2a3f5f\"}, \"baxis\": {\"endlinecolor\": \"#2a3f5f\", \"gridcolor\": \"white\", \"linecolor\": \"white\", \"minorgridcolor\": \"white\", \"startlinecolor\": \"#2a3f5f\"}, \"type\": \"carpet\"}], \"choropleth\": [{\"colorbar\": {\"outlinewidth\": 0, \"ticks\": \"\"}, \"type\": \"choropleth\"}], \"contour\": [{\"colorbar\": {\"outlinewidth\": 0, \"ticks\": \"\"}, \"colorscale\": [[0.0, \"#0d0887\"], [0.1111111111111111, \"#46039f\"], [0.2222222222222222, \"#7201a8\"], [0.3333333333333333, \"#9c179e\"], [0.4444444444444444, \"#bd3786\"], [0.5555555555555556, \"#d8576b\"], [0.6666666666666666, \"#ed7953\"], [0.7777777777777778, \"#fb9f3a\"], [0.8888888888888888, \"#fdca26\"], [1.0, \"#f0f921\"]], \"type\": \"contour\"}], \"contourcarpet\": [{\"colorbar\": {\"outlinewidth\": 0, \"ticks\": \"\"}, \"type\": \"contourcarpet\"}], \"heatmap\": [{\"colorbar\": {\"outlinewidth\": 0, \"ticks\": \"\"}, \"colorscale\": [[0.0, \"#0d0887\"], [0.1111111111111111, \"#46039f\"], [0.2222222222222222, \"#7201a8\"], [0.3333333333333333, \"#9c179e\"], [0.4444444444444444, \"#bd3786\"], [0.5555555555555556, \"#d8576b\"], [0.6666666666666666, \"#ed7953\"], [0.7777777777777778, \"#fb9f3a\"], [0.8888888888888888, \"#fdca26\"], [1.0, \"#f0f921\"]], \"type\": \"heatmap\"}], \"heatmapgl\": [{\"colorbar\": {\"outlinewidth\": 0, \"ticks\": \"\"}, \"colorscale\": [[0.0, \"#0d0887\"], [0.1111111111111111, \"#46039f\"], [0.2222222222222222, \"#7201a8\"], [0.3333333333333333, \"#9c179e\"], [0.4444444444444444, \"#bd3786\"], [0.5555555555555556, \"#d8576b\"], [0.6666666666666666, \"#ed7953\"], [0.7777777777777778, \"#fb9f3a\"], [0.8888888888888888, \"#fdca26\"], [1.0, \"#f0f921\"]], \"type\": \"heatmapgl\"}], \"histogram\": [{\"marker\": {\"colorbar\": {\"outlinewidth\": 0, \"ticks\": \"\"}}, \"type\": \"histogram\"}], \"histogram2d\": [{\"colorbar\": {\"outlinewidth\": 0, \"ticks\": \"\"}, \"colorscale\": [[0.0, \"#0d0887\"], [0.1111111111111111, \"#46039f\"], [0.2222222222222222, \"#7201a8\"], [0.3333333333333333, \"#9c179e\"], [0.4444444444444444, \"#bd3786\"], [0.5555555555555556, \"#d8576b\"], [0.6666666666666666, \"#ed7953\"], [0.7777777777777778, \"#fb9f3a\"], [0.8888888888888888, \"#fdca26\"], [1.0, \"#f0f921\"]], \"type\": \"histogram2d\"}], \"histogram2dcontour\": [{\"colorbar\": {\"outlinewidth\": 0, \"ticks\": \"\"}, \"colorscale\": [[0.0, \"#0d0887\"], [0.1111111111111111, \"#46039f\"], [0.2222222222222222, \"#7201a8\"], [0.3333333333333333, \"#9c179e\"], [0.4444444444444444, \"#bd3786\"], [0.5555555555555556, \"#d8576b\"], [0.6666666666666666, \"#ed7953\"], [0.7777777777777778, \"#fb9f3a\"], [0.8888888888888888, \"#fdca26\"], [1.0, \"#f0f921\"]], \"type\": \"histogram2dcontour\"}], \"mesh3d\": [{\"colorbar\": {\"outlinewidth\": 0, \"ticks\": \"\"}, \"type\": \"mesh3d\"}], \"parcoords\": [{\"line\": {\"colorbar\": {\"outlinewidth\": 0, \"ticks\": \"\"}}, \"type\": \"parcoords\"}], \"pie\": [{\"automargin\": true, \"type\": \"pie\"}], \"scatter\": [{\"marker\": {\"colorbar\": {\"outlinewidth\": 0, \"ticks\": \"\"}}, \"type\": \"scatter\"}], \"scatter3d\": [{\"line\": {\"colorbar\": {\"outlinewidth\": 0, \"ticks\": \"\"}}, \"marker\": {\"colorbar\": {\"outlinewidth\": 0, \"ticks\": \"\"}}, \"type\": \"scatter3d\"}], \"scattercarpet\": [{\"marker\": {\"colorbar\": {\"outlinewidth\": 0, \"ticks\": \"\"}}, \"type\": \"scattercarpet\"}], \"scattergeo\": [{\"marker\": {\"colorbar\": {\"outlinewidth\": 0, \"ticks\": \"\"}}, \"type\": \"scattergeo\"}], \"scattergl\": [{\"marker\": {\"colorbar\": {\"outlinewidth\": 0, \"ticks\": \"\"}}, \"type\": \"scattergl\"}], \"scattermapbox\": [{\"marker\": {\"colorbar\": {\"outlinewidth\": 0, \"ticks\": \"\"}}, \"type\": \"scattermapbox\"}], \"scatterpolar\": [{\"marker\": {\"colorbar\": {\"outlinewidth\": 0, \"ticks\": \"\"}}, \"type\": \"scatterpolar\"}], \"scatterpolargl\": [{\"marker\": {\"colorbar\": {\"outlinewidth\": 0, \"ticks\": \"\"}}, \"type\": \"scatterpolargl\"}], \"scatterternary\": [{\"marker\": {\"colorbar\": {\"outlinewidth\": 0, \"ticks\": \"\"}}, \"type\": \"scatterternary\"}], \"surface\": [{\"colorbar\": {\"outlinewidth\": 0, \"ticks\": \"\"}, \"colorscale\": [[0.0, \"#0d0887\"], [0.1111111111111111, \"#46039f\"], [0.2222222222222222, \"#7201a8\"], [0.3333333333333333, \"#9c179e\"], [0.4444444444444444, \"#bd3786\"], [0.5555555555555556, \"#d8576b\"], [0.6666666666666666, \"#ed7953\"], [0.7777777777777778, \"#fb9f3a\"], [0.8888888888888888, \"#fdca26\"], [1.0, \"#f0f921\"]], \"type\": \"surface\"}], \"table\": [{\"cells\": {\"fill\": {\"color\": \"#EBF0F8\"}, \"line\": {\"color\": \"white\"}}, \"header\": {\"fill\": {\"color\": \"#C8D4E3\"}, \"line\": {\"color\": \"white\"}}, \"type\": \"table\"}]}, \"layout\": {\"annotationdefaults\": {\"arrowcolor\": \"#2a3f5f\", \"arrowhead\": 0, \"arrowwidth\": 1}, \"coloraxis\": {\"colorbar\": {\"outlinewidth\": 0, \"ticks\": \"\"}}, \"colorscale\": {\"diverging\": [[0, \"#8e0152\"], [0.1, \"#c51b7d\"], [0.2, \"#de77ae\"], [0.3, \"#f1b6da\"], [0.4, \"#fde0ef\"], [0.5, \"#f7f7f7\"], [0.6, \"#e6f5d0\"], [0.7, \"#b8e186\"], [0.8, \"#7fbc41\"], [0.9, \"#4d9221\"], [1, \"#276419\"]], \"sequential\": [[0.0, \"#0d0887\"], [0.1111111111111111, \"#46039f\"], [0.2222222222222222, \"#7201a8\"], [0.3333333333333333, \"#9c179e\"], [0.4444444444444444, \"#bd3786\"], [0.5555555555555556, \"#d8576b\"], [0.6666666666666666, \"#ed7953\"], [0.7777777777777778, \"#fb9f3a\"], [0.8888888888888888, \"#fdca26\"], [1.0, \"#f0f921\"]], \"sequentialminus\": [[0.0, \"#0d0887\"], [0.1111111111111111, \"#46039f\"], [0.2222222222222222, \"#7201a8\"], [0.3333333333333333, \"#9c179e\"], [0.4444444444444444, \"#bd3786\"], [0.5555555555555556, \"#d8576b\"], [0.6666666666666666, \"#ed7953\"], [0.7777777777777778, \"#fb9f3a\"], [0.8888888888888888, \"#fdca26\"], [1.0, \"#f0f921\"]]}, \"colorway\": [\"#636efa\", \"#EF553B\", \"#00cc96\", \"#ab63fa\", \"#FFA15A\", \"#19d3f3\", \"#FF6692\", \"#B6E880\", \"#FF97FF\", \"#FECB52\"], \"font\": {\"color\": \"#2a3f5f\"}, \"geo\": {\"bgcolor\": \"white\", \"lakecolor\": \"white\", \"landcolor\": \"#E5ECF6\", \"showlakes\": true, \"showland\": true, \"subunitcolor\": \"white\"}, \"hoverlabel\": {\"align\": \"left\"}, \"hovermode\": \"closest\", \"mapbox\": {\"style\": \"light\"}, \"paper_bgcolor\": \"white\", \"plot_bgcolor\": \"#E5ECF6\", \"polar\": {\"angularaxis\": {\"gridcolor\": \"white\", \"linecolor\": \"white\", \"ticks\": \"\"}, \"bgcolor\": \"#E5ECF6\", \"radialaxis\": {\"gridcolor\": \"white\", \"linecolor\": \"white\", \"ticks\": \"\"}}, \"scene\": {\"xaxis\": {\"backgroundcolor\": \"#E5ECF6\", \"gridcolor\": \"white\", \"gridwidth\": 2, \"linecolor\": \"white\", \"showbackground\": true, \"ticks\": \"\", \"zerolinecolor\": \"white\"}, \"yaxis\": {\"backgroundcolor\": \"#E5ECF6\", \"gridcolor\": \"white\", \"gridwidth\": 2, \"linecolor\": \"white\", \"showbackground\": true, \"ticks\": \"\", \"zerolinecolor\": \"white\"}, \"zaxis\": {\"backgroundcolor\": \"#E5ECF6\", \"gridcolor\": \"white\", \"gridwidth\": 2, \"linecolor\": \"white\", \"showbackground\": true, \"ticks\": \"\", \"zerolinecolor\": \"white\"}}, \"shapedefaults\": {\"line\": {\"color\": \"#2a3f5f\"}}, \"ternary\": {\"aaxis\": {\"gridcolor\": \"white\", \"linecolor\": \"white\", \"ticks\": \"\"}, \"baxis\": {\"gridcolor\": \"white\", \"linecolor\": \"white\", \"ticks\": \"\"}, \"bgcolor\": \"#E5ECF6\", \"caxis\": {\"gridcolor\": \"white\", \"linecolor\": \"white\", \"ticks\": \"\"}}, \"title\": {\"x\": 0.05}, \"xaxis\": {\"automargin\": true, \"gridcolor\": \"white\", \"linecolor\": \"white\", \"ticks\": \"\", \"title\": {\"standoff\": 15}, \"zerolinecolor\": \"white\", \"zerolinewidth\": 2}, \"yaxis\": {\"automargin\": true, \"gridcolor\": \"white\", \"linecolor\": \"white\", \"ticks\": \"\", \"title\": {\"standoff\": 15}, \"zerolinecolor\": \"white\", \"zerolinewidth\": 2}}}, \"title\": {\"text\": \"Total Gain by Stock\"}, \"xaxis\": {\"anchor\": \"y\", \"domain\": [0.0, 1.0], \"title\": {\"text\": \"total_pct_gain\"}}, \"yaxis\": {\"anchor\": \"x\", \"categoryarray\": [\"SPLB\", \"FBND\", \"VDC\", \"LKOR\", \"PPTY\", \"SRVR\", \"INDS\", \"SMH\", \"VCR\", \"SOXX\", \"ESPO\", \"VGT\", \"HERO\", \"IZRL\", \"XSD\", \"ARKG\", \"ARKW\", \"ARKK\"], \"categoryorder\": \"array\", \"domain\": [0.0, 1.0], \"title\": {\"text\": \"symbol\"}}},\n",
       "                        {\"responsive\": true}\n",
       "                    ).then(function(){\n",
       "                            \n",
       "var gd = document.getElementById('3633d7c9-4aba-46a5-8cf4-1d3d0cc671c3');\n",
       "var x = new MutationObserver(function (mutations, observer) {{\n",
       "        var display = window.getComputedStyle(gd).display;\n",
       "        if (!display || display === 'none') {{\n",
       "            console.log([gd, 'removed!']);\n",
       "            Plotly.purge(gd);\n",
       "            observer.disconnect();\n",
       "        }}\n",
       "}});\n",
       "\n",
       "// Listen for the removal of the full notebook cells\n",
       "var notebookContainer = gd.closest('#notebook-container');\n",
       "if (notebookContainer) {{\n",
       "    x.observe(notebookContainer, {childList: true});\n",
       "}}\n",
       "\n",
       "// Listen for the clearing of the current output cell\n",
       "var outputEl = gd.closest('.output');\n",
       "if (outputEl) {{\n",
       "    x.observe(outputEl, {childList: true});\n",
       "}}\n",
       "\n",
       "                        })\n",
       "                };\n",
       "                });\n",
       "            </script>\n",
       "        </div>"
      ]
     },
     "metadata": {},
     "output_type": "display_data"
    }
   ],
   "source": [
    "fig = px.bar(s_composition_stats.sort_values(by='total_pct_gain', ascending=False),\n",
    "             x=\"total_pct_gain\", y=\"symbol\", \n",
    "             title='Total Gain by Stock', \n",
    "             color=\"symbol\",\n",
    "             text=\"total_pct_gain\",\n",
    "             hover_data=['company_name'],\n",
    "             orientation='h',\n",
    "             height=700)\n",
    "fig.write_image(\"images/total_gain_by_stock.pdf\")\n",
    "fig.show()"
   ]
  },
  {
   "cell_type": "code",
   "execution_count": 22,
   "metadata": {},
   "outputs": [
    {
     "data": {
      "application/vnd.plotly.v1+json": {
       "config": {
        "plotlyServerURL": "https://plot.ly"
       },
       "data": [
        {
         "alignmentgroup": "True",
         "customdata": [
          [
           "ARK Innovation ETF"
          ]
         ],
         "hovertemplate": "symbol=%{y}<br>composition_invested=%{text}<br>company_name=%{customdata[0]}<extra></extra>",
         "legendgroup": "ARKK",
         "marker": {
          "color": "#636efa"
         },
         "name": "ARKK",
         "offsetgroup": "ARKK",
         "orientation": "h",
         "showlegend": true,
         "text": [
          30.35
         ],
         "textposition": "auto",
         "type": "bar",
         "x": [
          30.35
         ],
         "xaxis": "x",
         "y": [
          "ARKK"
         ],
         "yaxis": "y"
        },
        {
         "alignmentgroup": "True",
         "customdata": [
          [
           "ARK Web x.0 ETF"
          ]
         ],
         "hovertemplate": "symbol=%{y}<br>composition_invested=%{text}<br>company_name=%{customdata[0]}<extra></extra>",
         "legendgroup": "ARKW",
         "marker": {
          "color": "#EF553B"
         },
         "name": "ARKW",
         "offsetgroup": "ARKW",
         "orientation": "h",
         "showlegend": true,
         "text": [
          11
         ],
         "textposition": "auto",
         "type": "bar",
         "x": [
          11
         ],
         "xaxis": "x",
         "y": [
          "ARKW"
         ],
         "yaxis": "y"
        },
        {
         "alignmentgroup": "True",
         "customdata": [
          [
           "ARK Genomic Revolution Multi-Sector ETF"
          ]
         ],
         "hovertemplate": "symbol=%{y}<br>composition_invested=%{text}<br>company_name=%{customdata[0]}<extra></extra>",
         "legendgroup": "ARKG",
         "marker": {
          "color": "#00cc96"
         },
         "name": "ARKG",
         "offsetgroup": "ARKG",
         "orientation": "h",
         "showlegend": true,
         "text": [
          15.33
         ],
         "textposition": "auto",
         "type": "bar",
         "x": [
          15.33
         ],
         "xaxis": "x",
         "y": [
          "ARKG"
         ],
         "yaxis": "y"
        },
        {
         "alignmentgroup": "True",
         "customdata": [
          [
           "SPDR S&P Semiconductor ETF"
          ]
         ],
         "hovertemplate": "symbol=%{y}<br>composition_invested=%{text}<br>company_name=%{customdata[0]}<extra></extra>",
         "legendgroup": "XSD",
         "marker": {
          "color": "#ab63fa"
         },
         "name": "XSD",
         "offsetgroup": "XSD",
         "orientation": "h",
         "showlegend": true,
         "text": [
          6.7
         ],
         "textposition": "auto",
         "type": "bar",
         "x": [
          6.7
         ],
         "xaxis": "x",
         "y": [
          "XSD"
         ],
         "yaxis": "y"
        },
        {
         "alignmentgroup": "True",
         "customdata": [
          [
           "ARK Israel Innovative Technology ETF"
          ]
         ],
         "hovertemplate": "symbol=%{y}<br>composition_invested=%{text}<br>company_name=%{customdata[0]}<extra></extra>",
         "legendgroup": "IZRL",
         "marker": {
          "color": "#FFA15A"
         },
         "name": "IZRL",
         "offsetgroup": "IZRL",
         "orientation": "h",
         "showlegend": true,
         "text": [
          3.75
         ],
         "textposition": "auto",
         "type": "bar",
         "x": [
          3.75
         ],
         "xaxis": "x",
         "y": [
          "IZRL"
         ],
         "yaxis": "y"
        },
        {
         "alignmentgroup": "True",
         "customdata": [
          [
           "Global X Video Games & Esports ETF"
          ]
         ],
         "hovertemplate": "symbol=%{y}<br>composition_invested=%{text}<br>company_name=%{customdata[0]}<extra></extra>",
         "legendgroup": "HERO",
         "marker": {
          "color": "#19d3f3"
         },
         "name": "HERO",
         "offsetgroup": "HERO",
         "orientation": "h",
         "showlegend": true,
         "text": [
          2.36
         ],
         "textposition": "auto",
         "type": "bar",
         "x": [
          2.36
         ],
         "xaxis": "x",
         "y": [
          "HERO"
         ],
         "yaxis": "y"
        },
        {
         "alignmentgroup": "True",
         "customdata": [
          [
           "Vanguard Information Technology Index Fund"
          ]
         ],
         "hovertemplate": "symbol=%{y}<br>composition_invested=%{text}<br>company_name=%{customdata[0]}<extra></extra>",
         "legendgroup": "VGT",
         "marker": {
          "color": "#FF6692"
         },
         "name": "VGT",
         "offsetgroup": "VGT",
         "orientation": "h",
         "showlegend": true,
         "text": [
          8.03
         ],
         "textposition": "auto",
         "type": "bar",
         "x": [
          8.03
         ],
         "xaxis": "x",
         "y": [
          "VGT"
         ],
         "yaxis": "y"
        },
        {
         "alignmentgroup": "True",
         "customdata": [
          [
           "VanEck Vectors Video Gaming & eSports ETF"
          ]
         ],
         "hovertemplate": "symbol=%{y}<br>composition_invested=%{text}<br>company_name=%{customdata[0]}<extra></extra>",
         "legendgroup": "ESPO",
         "marker": {
          "color": "#B6E880"
         },
         "name": "ESPO",
         "offsetgroup": "ESPO",
         "orientation": "h",
         "showlegend": true,
         "text": [
          2.24
         ],
         "textposition": "auto",
         "type": "bar",
         "x": [
          2.24
         ],
         "xaxis": "x",
         "y": [
          "ESPO"
         ],
         "yaxis": "y"
        },
        {
         "alignmentgroup": "True",
         "customdata": [
          [
           "iShares PHLX Semiconductor ETF"
          ]
         ],
         "hovertemplate": "symbol=%{y}<br>composition_invested=%{text}<br>company_name=%{customdata[0]}<extra></extra>",
         "legendgroup": "SOXX",
         "marker": {
          "color": "#FF97FF"
         },
         "name": "SOXX",
         "offsetgroup": "SOXX",
         "orientation": "h",
         "showlegend": true,
         "text": [
          3.91
         ],
         "textposition": "auto",
         "type": "bar",
         "x": [
          3.91
         ],
         "xaxis": "x",
         "y": [
          "SOXX"
         ],
         "yaxis": "y"
        },
        {
         "alignmentgroup": "True",
         "customdata": [
          [
           "Vanguard Consumer Discretionary Index Fund"
          ]
         ],
         "hovertemplate": "symbol=%{y}<br>composition_invested=%{text}<br>company_name=%{customdata[0]}<extra></extra>",
         "legendgroup": "VCR",
         "marker": {
          "color": "#FECB52"
         },
         "name": "VCR",
         "offsetgroup": "VCR",
         "orientation": "h",
         "showlegend": true,
         "text": [
          1.1
         ],
         "textposition": "auto",
         "type": "bar",
         "x": [
          1.1
         ],
         "xaxis": "x",
         "y": [
          "VCR"
         ],
         "yaxis": "y"
        },
        {
         "alignmentgroup": "True",
         "customdata": [
          [
           "VanEck Vectors Semiconductor ETF"
          ]
         ],
         "hovertemplate": "symbol=%{y}<br>composition_invested=%{text}<br>company_name=%{customdata[0]}<extra></extra>",
         "legendgroup": "SMH",
         "marker": {
          "color": "#636efa"
         },
         "name": "SMH",
         "offsetgroup": "SMH",
         "orientation": "h",
         "showlegend": true,
         "text": [
          2.03
         ],
         "textposition": "auto",
         "type": "bar",
         "x": [
          2.03
         ],
         "xaxis": "x",
         "y": [
          "SMH"
         ],
         "yaxis": "y"
        },
        {
         "alignmentgroup": "True",
         "customdata": [
          [
           "Pacer Benchmark Industrial Real Estate SCTR ETF"
          ]
         ],
         "hovertemplate": "symbol=%{y}<br>composition_invested=%{text}<br>company_name=%{customdata[0]}<extra></extra>",
         "legendgroup": "INDS",
         "marker": {
          "color": "#EF553B"
         },
         "name": "INDS",
         "offsetgroup": "INDS",
         "orientation": "h",
         "showlegend": true,
         "text": [
          0.18
         ],
         "textposition": "auto",
         "type": "bar",
         "x": [
          0.18
         ],
         "xaxis": "x",
         "y": [
          "INDS"
         ],
         "yaxis": "y"
        },
        {
         "alignmentgroup": "True",
         "customdata": [
          [
           "Pacer Benchmark Data & Infrastructure Real Estate SCTR ETF"
          ]
         ],
         "hovertemplate": "symbol=%{y}<br>composition_invested=%{text}<br>company_name=%{customdata[0]}<extra></extra>",
         "legendgroup": "SRVR",
         "marker": {
          "color": "#00cc96"
         },
         "name": "SRVR",
         "offsetgroup": "SRVR",
         "orientation": "h",
         "showlegend": true,
         "text": [
          2.32
         ],
         "textposition": "auto",
         "type": "bar",
         "x": [
          2.32
         ],
         "xaxis": "x",
         "y": [
          "SRVR"
         ],
         "yaxis": "y"
        },
        {
         "alignmentgroup": "True",
         "customdata": [
          [
           "PPTY-U.S. Diversified Real Estate ETF"
          ]
         ],
         "hovertemplate": "symbol=%{y}<br>composition_invested=%{text}<br>company_name=%{customdata[0]}<extra></extra>",
         "legendgroup": "PPTY",
         "marker": {
          "color": "#ab63fa"
         },
         "name": "PPTY",
         "offsetgroup": "PPTY",
         "orientation": "h",
         "showlegend": true,
         "text": [
          0.2
         ],
         "textposition": "auto",
         "type": "bar",
         "x": [
          0.2
         ],
         "xaxis": "x",
         "y": [
          "PPTY"
         ],
         "yaxis": "y"
        },
        {
         "alignmentgroup": "True",
         "customdata": [
          [
           "FlexShares Credit-Scored US Long Corporate Bond Index Fund"
          ]
         ],
         "hovertemplate": "symbol=%{y}<br>composition_invested=%{text}<br>company_name=%{customdata[0]}<extra></extra>",
         "legendgroup": "LKOR",
         "marker": {
          "color": "#FFA15A"
         },
         "name": "LKOR",
         "offsetgroup": "LKOR",
         "orientation": "h",
         "showlegend": true,
         "text": [
          2.02
         ],
         "textposition": "auto",
         "type": "bar",
         "x": [
          2.02
         ],
         "xaxis": "x",
         "y": [
          "LKOR"
         ],
         "yaxis": "y"
        },
        {
         "alignmentgroup": "True",
         "customdata": [
          [
           "Vanguard Consumer Staples Index Fund"
          ]
         ],
         "hovertemplate": "symbol=%{y}<br>composition_invested=%{text}<br>company_name=%{customdata[0]}<extra></extra>",
         "legendgroup": "VDC",
         "marker": {
          "color": "#19d3f3"
         },
         "name": "VDC",
         "offsetgroup": "VDC",
         "orientation": "h",
         "showlegend": true,
         "text": [
          4.19
         ],
         "textposition": "auto",
         "type": "bar",
         "x": [
          4.19
         ],
         "xaxis": "x",
         "y": [
          "VDC"
         ],
         "yaxis": "y"
        },
        {
         "alignmentgroup": "True",
         "customdata": [
          [
           "Fidelity Total Bond ETF"
          ]
         ],
         "hovertemplate": "symbol=%{y}<br>composition_invested=%{text}<br>company_name=%{customdata[0]}<extra></extra>",
         "legendgroup": "FBND",
         "marker": {
          "color": "#FF6692"
         },
         "name": "FBND",
         "offsetgroup": "FBND",
         "orientation": "h",
         "showlegend": true,
         "text": [
          2.22
         ],
         "textposition": "auto",
         "type": "bar",
         "x": [
          2.22
         ],
         "xaxis": "x",
         "y": [
          "FBND"
         ],
         "yaxis": "y"
        },
        {
         "alignmentgroup": "True",
         "customdata": [
          [
           "SPDR Portfolio Long Term Corporate Bond ETF"
          ]
         ],
         "hovertemplate": "symbol=%{y}<br>composition_invested=%{text}<br>company_name=%{customdata[0]}<extra></extra>",
         "legendgroup": "SPLB",
         "marker": {
          "color": "#B6E880"
         },
         "name": "SPLB",
         "offsetgroup": "SPLB",
         "orientation": "h",
         "showlegend": true,
         "text": [
          2.07
         ],
         "textposition": "auto",
         "type": "bar",
         "x": [
          2.07
         ],
         "xaxis": "x",
         "y": [
          "SPLB"
         ],
         "yaxis": "y"
        }
       ],
       "layout": {
        "barmode": "relative",
        "height": 700,
        "legend": {
         "title": {
          "text": "symbol"
         },
         "tracegroupgap": 0
        },
        "template": {
         "data": {
          "bar": [
           {
            "error_x": {
             "color": "#2a3f5f"
            },
            "error_y": {
             "color": "#2a3f5f"
            },
            "marker": {
             "line": {
              "color": "#E5ECF6",
              "width": 0.5
             }
            },
            "type": "bar"
           }
          ],
          "barpolar": [
           {
            "marker": {
             "line": {
              "color": "#E5ECF6",
              "width": 0.5
             }
            },
            "type": "barpolar"
           }
          ],
          "carpet": [
           {
            "aaxis": {
             "endlinecolor": "#2a3f5f",
             "gridcolor": "white",
             "linecolor": "white",
             "minorgridcolor": "white",
             "startlinecolor": "#2a3f5f"
            },
            "baxis": {
             "endlinecolor": "#2a3f5f",
             "gridcolor": "white",
             "linecolor": "white",
             "minorgridcolor": "white",
             "startlinecolor": "#2a3f5f"
            },
            "type": "carpet"
           }
          ],
          "choropleth": [
           {
            "colorbar": {
             "outlinewidth": 0,
             "ticks": ""
            },
            "type": "choropleth"
           }
          ],
          "contour": [
           {
            "colorbar": {
             "outlinewidth": 0,
             "ticks": ""
            },
            "colorscale": [
             [
              0,
              "#0d0887"
             ],
             [
              0.1111111111111111,
              "#46039f"
             ],
             [
              0.2222222222222222,
              "#7201a8"
             ],
             [
              0.3333333333333333,
              "#9c179e"
             ],
             [
              0.4444444444444444,
              "#bd3786"
             ],
             [
              0.5555555555555556,
              "#d8576b"
             ],
             [
              0.6666666666666666,
              "#ed7953"
             ],
             [
              0.7777777777777778,
              "#fb9f3a"
             ],
             [
              0.8888888888888888,
              "#fdca26"
             ],
             [
              1,
              "#f0f921"
             ]
            ],
            "type": "contour"
           }
          ],
          "contourcarpet": [
           {
            "colorbar": {
             "outlinewidth": 0,
             "ticks": ""
            },
            "type": "contourcarpet"
           }
          ],
          "heatmap": [
           {
            "colorbar": {
             "outlinewidth": 0,
             "ticks": ""
            },
            "colorscale": [
             [
              0,
              "#0d0887"
             ],
             [
              0.1111111111111111,
              "#46039f"
             ],
             [
              0.2222222222222222,
              "#7201a8"
             ],
             [
              0.3333333333333333,
              "#9c179e"
             ],
             [
              0.4444444444444444,
              "#bd3786"
             ],
             [
              0.5555555555555556,
              "#d8576b"
             ],
             [
              0.6666666666666666,
              "#ed7953"
             ],
             [
              0.7777777777777778,
              "#fb9f3a"
             ],
             [
              0.8888888888888888,
              "#fdca26"
             ],
             [
              1,
              "#f0f921"
             ]
            ],
            "type": "heatmap"
           }
          ],
          "heatmapgl": [
           {
            "colorbar": {
             "outlinewidth": 0,
             "ticks": ""
            },
            "colorscale": [
             [
              0,
              "#0d0887"
             ],
             [
              0.1111111111111111,
              "#46039f"
             ],
             [
              0.2222222222222222,
              "#7201a8"
             ],
             [
              0.3333333333333333,
              "#9c179e"
             ],
             [
              0.4444444444444444,
              "#bd3786"
             ],
             [
              0.5555555555555556,
              "#d8576b"
             ],
             [
              0.6666666666666666,
              "#ed7953"
             ],
             [
              0.7777777777777778,
              "#fb9f3a"
             ],
             [
              0.8888888888888888,
              "#fdca26"
             ],
             [
              1,
              "#f0f921"
             ]
            ],
            "type": "heatmapgl"
           }
          ],
          "histogram": [
           {
            "marker": {
             "colorbar": {
              "outlinewidth": 0,
              "ticks": ""
             }
            },
            "type": "histogram"
           }
          ],
          "histogram2d": [
           {
            "colorbar": {
             "outlinewidth": 0,
             "ticks": ""
            },
            "colorscale": [
             [
              0,
              "#0d0887"
             ],
             [
              0.1111111111111111,
              "#46039f"
             ],
             [
              0.2222222222222222,
              "#7201a8"
             ],
             [
              0.3333333333333333,
              "#9c179e"
             ],
             [
              0.4444444444444444,
              "#bd3786"
             ],
             [
              0.5555555555555556,
              "#d8576b"
             ],
             [
              0.6666666666666666,
              "#ed7953"
             ],
             [
              0.7777777777777778,
              "#fb9f3a"
             ],
             [
              0.8888888888888888,
              "#fdca26"
             ],
             [
              1,
              "#f0f921"
             ]
            ],
            "type": "histogram2d"
           }
          ],
          "histogram2dcontour": [
           {
            "colorbar": {
             "outlinewidth": 0,
             "ticks": ""
            },
            "colorscale": [
             [
              0,
              "#0d0887"
             ],
             [
              0.1111111111111111,
              "#46039f"
             ],
             [
              0.2222222222222222,
              "#7201a8"
             ],
             [
              0.3333333333333333,
              "#9c179e"
             ],
             [
              0.4444444444444444,
              "#bd3786"
             ],
             [
              0.5555555555555556,
              "#d8576b"
             ],
             [
              0.6666666666666666,
              "#ed7953"
             ],
             [
              0.7777777777777778,
              "#fb9f3a"
             ],
             [
              0.8888888888888888,
              "#fdca26"
             ],
             [
              1,
              "#f0f921"
             ]
            ],
            "type": "histogram2dcontour"
           }
          ],
          "mesh3d": [
           {
            "colorbar": {
             "outlinewidth": 0,
             "ticks": ""
            },
            "type": "mesh3d"
           }
          ],
          "parcoords": [
           {
            "line": {
             "colorbar": {
              "outlinewidth": 0,
              "ticks": ""
             }
            },
            "type": "parcoords"
           }
          ],
          "pie": [
           {
            "automargin": true,
            "type": "pie"
           }
          ],
          "scatter": [
           {
            "marker": {
             "colorbar": {
              "outlinewidth": 0,
              "ticks": ""
             }
            },
            "type": "scatter"
           }
          ],
          "scatter3d": [
           {
            "line": {
             "colorbar": {
              "outlinewidth": 0,
              "ticks": ""
             }
            },
            "marker": {
             "colorbar": {
              "outlinewidth": 0,
              "ticks": ""
             }
            },
            "type": "scatter3d"
           }
          ],
          "scattercarpet": [
           {
            "marker": {
             "colorbar": {
              "outlinewidth": 0,
              "ticks": ""
             }
            },
            "type": "scattercarpet"
           }
          ],
          "scattergeo": [
           {
            "marker": {
             "colorbar": {
              "outlinewidth": 0,
              "ticks": ""
             }
            },
            "type": "scattergeo"
           }
          ],
          "scattergl": [
           {
            "marker": {
             "colorbar": {
              "outlinewidth": 0,
              "ticks": ""
             }
            },
            "type": "scattergl"
           }
          ],
          "scattermapbox": [
           {
            "marker": {
             "colorbar": {
              "outlinewidth": 0,
              "ticks": ""
             }
            },
            "type": "scattermapbox"
           }
          ],
          "scatterpolar": [
           {
            "marker": {
             "colorbar": {
              "outlinewidth": 0,
              "ticks": ""
             }
            },
            "type": "scatterpolar"
           }
          ],
          "scatterpolargl": [
           {
            "marker": {
             "colorbar": {
              "outlinewidth": 0,
              "ticks": ""
             }
            },
            "type": "scatterpolargl"
           }
          ],
          "scatterternary": [
           {
            "marker": {
             "colorbar": {
              "outlinewidth": 0,
              "ticks": ""
             }
            },
            "type": "scatterternary"
           }
          ],
          "surface": [
           {
            "colorbar": {
             "outlinewidth": 0,
             "ticks": ""
            },
            "colorscale": [
             [
              0,
              "#0d0887"
             ],
             [
              0.1111111111111111,
              "#46039f"
             ],
             [
              0.2222222222222222,
              "#7201a8"
             ],
             [
              0.3333333333333333,
              "#9c179e"
             ],
             [
              0.4444444444444444,
              "#bd3786"
             ],
             [
              0.5555555555555556,
              "#d8576b"
             ],
             [
              0.6666666666666666,
              "#ed7953"
             ],
             [
              0.7777777777777778,
              "#fb9f3a"
             ],
             [
              0.8888888888888888,
              "#fdca26"
             ],
             [
              1,
              "#f0f921"
             ]
            ],
            "type": "surface"
           }
          ],
          "table": [
           {
            "cells": {
             "fill": {
              "color": "#EBF0F8"
             },
             "line": {
              "color": "white"
             }
            },
            "header": {
             "fill": {
              "color": "#C8D4E3"
             },
             "line": {
              "color": "white"
             }
            },
            "type": "table"
           }
          ]
         },
         "layout": {
          "annotationdefaults": {
           "arrowcolor": "#2a3f5f",
           "arrowhead": 0,
           "arrowwidth": 1
          },
          "coloraxis": {
           "colorbar": {
            "outlinewidth": 0,
            "ticks": ""
           }
          },
          "colorscale": {
           "diverging": [
            [
             0,
             "#8e0152"
            ],
            [
             0.1,
             "#c51b7d"
            ],
            [
             0.2,
             "#de77ae"
            ],
            [
             0.3,
             "#f1b6da"
            ],
            [
             0.4,
             "#fde0ef"
            ],
            [
             0.5,
             "#f7f7f7"
            ],
            [
             0.6,
             "#e6f5d0"
            ],
            [
             0.7,
             "#b8e186"
            ],
            [
             0.8,
             "#7fbc41"
            ],
            [
             0.9,
             "#4d9221"
            ],
            [
             1,
             "#276419"
            ]
           ],
           "sequential": [
            [
             0,
             "#0d0887"
            ],
            [
             0.1111111111111111,
             "#46039f"
            ],
            [
             0.2222222222222222,
             "#7201a8"
            ],
            [
             0.3333333333333333,
             "#9c179e"
            ],
            [
             0.4444444444444444,
             "#bd3786"
            ],
            [
             0.5555555555555556,
             "#d8576b"
            ],
            [
             0.6666666666666666,
             "#ed7953"
            ],
            [
             0.7777777777777778,
             "#fb9f3a"
            ],
            [
             0.8888888888888888,
             "#fdca26"
            ],
            [
             1,
             "#f0f921"
            ]
           ],
           "sequentialminus": [
            [
             0,
             "#0d0887"
            ],
            [
             0.1111111111111111,
             "#46039f"
            ],
            [
             0.2222222222222222,
             "#7201a8"
            ],
            [
             0.3333333333333333,
             "#9c179e"
            ],
            [
             0.4444444444444444,
             "#bd3786"
            ],
            [
             0.5555555555555556,
             "#d8576b"
            ],
            [
             0.6666666666666666,
             "#ed7953"
            ],
            [
             0.7777777777777778,
             "#fb9f3a"
            ],
            [
             0.8888888888888888,
             "#fdca26"
            ],
            [
             1,
             "#f0f921"
            ]
           ]
          },
          "colorway": [
           "#636efa",
           "#EF553B",
           "#00cc96",
           "#ab63fa",
           "#FFA15A",
           "#19d3f3",
           "#FF6692",
           "#B6E880",
           "#FF97FF",
           "#FECB52"
          ],
          "font": {
           "color": "#2a3f5f"
          },
          "geo": {
           "bgcolor": "white",
           "lakecolor": "white",
           "landcolor": "#E5ECF6",
           "showlakes": true,
           "showland": true,
           "subunitcolor": "white"
          },
          "hoverlabel": {
           "align": "left"
          },
          "hovermode": "closest",
          "mapbox": {
           "style": "light"
          },
          "paper_bgcolor": "white",
          "plot_bgcolor": "#E5ECF6",
          "polar": {
           "angularaxis": {
            "gridcolor": "white",
            "linecolor": "white",
            "ticks": ""
           },
           "bgcolor": "#E5ECF6",
           "radialaxis": {
            "gridcolor": "white",
            "linecolor": "white",
            "ticks": ""
           }
          },
          "scene": {
           "xaxis": {
            "backgroundcolor": "#E5ECF6",
            "gridcolor": "white",
            "gridwidth": 2,
            "linecolor": "white",
            "showbackground": true,
            "ticks": "",
            "zerolinecolor": "white"
           },
           "yaxis": {
            "backgroundcolor": "#E5ECF6",
            "gridcolor": "white",
            "gridwidth": 2,
            "linecolor": "white",
            "showbackground": true,
            "ticks": "",
            "zerolinecolor": "white"
           },
           "zaxis": {
            "backgroundcolor": "#E5ECF6",
            "gridcolor": "white",
            "gridwidth": 2,
            "linecolor": "white",
            "showbackground": true,
            "ticks": "",
            "zerolinecolor": "white"
           }
          },
          "shapedefaults": {
           "line": {
            "color": "#2a3f5f"
           }
          },
          "ternary": {
           "aaxis": {
            "gridcolor": "white",
            "linecolor": "white",
            "ticks": ""
           },
           "baxis": {
            "gridcolor": "white",
            "linecolor": "white",
            "ticks": ""
           },
           "bgcolor": "#E5ECF6",
           "caxis": {
            "gridcolor": "white",
            "linecolor": "white",
            "ticks": ""
           }
          },
          "title": {
           "x": 0.05
          },
          "xaxis": {
           "automargin": true,
           "gridcolor": "white",
           "linecolor": "white",
           "ticks": "",
           "title": {
            "standoff": 15
           },
           "zerolinecolor": "white",
           "zerolinewidth": 2
          },
          "yaxis": {
           "automargin": true,
           "gridcolor": "white",
           "linecolor": "white",
           "ticks": "",
           "title": {
            "standoff": 15
           },
           "zerolinecolor": "white",
           "zerolinewidth": 2
          }
         }
        },
        "title": {
         "text": "Allocation by Stock"
        },
        "xaxis": {
         "anchor": "y",
         "domain": [
          0,
          1
         ],
         "title": {
          "text": "composition_invested"
         }
        },
        "yaxis": {
         "anchor": "x",
         "categoryarray": [
          "SPLB",
          "FBND",
          "VDC",
          "LKOR",
          "PPTY",
          "SRVR",
          "INDS",
          "SMH",
          "VCR",
          "SOXX",
          "ESPO",
          "VGT",
          "HERO",
          "IZRL",
          "XSD",
          "ARKG",
          "ARKW",
          "ARKK"
         ],
         "categoryorder": "array",
         "domain": [
          0,
          1
         ],
         "title": {
          "text": "symbol"
         }
        }
       }
      },
      "text/html": [
       "<div>\n",
       "        \n",
       "        \n",
       "            <div id=\"b85628b5-d4eb-4196-879e-ef155b9ffa3f\" class=\"plotly-graph-div\" style=\"height:700px; width:100%;\"></div>\n",
       "            <script type=\"text/javascript\">\n",
       "                require([\"plotly\"], function(Plotly) {\n",
       "                    window.PLOTLYENV=window.PLOTLYENV || {};\n",
       "                    \n",
       "                if (document.getElementById(\"b85628b5-d4eb-4196-879e-ef155b9ffa3f\")) {\n",
       "                    Plotly.newPlot(\n",
       "                        'b85628b5-d4eb-4196-879e-ef155b9ffa3f',\n",
       "                        [{\"alignmentgroup\": \"True\", \"customdata\": [[\"ARK Innovation ETF\"]], \"hovertemplate\": \"symbol=%{y}<br>composition_invested=%{text}<br>company_name=%{customdata[0]}<extra></extra>\", \"legendgroup\": \"ARKK\", \"marker\": {\"color\": \"#636efa\"}, \"name\": \"ARKK\", \"offsetgroup\": \"ARKK\", \"orientation\": \"h\", \"showlegend\": true, \"text\": [30.35], \"textposition\": \"auto\", \"type\": \"bar\", \"x\": [30.35], \"xaxis\": \"x\", \"y\": [\"ARKK\"], \"yaxis\": \"y\"}, {\"alignmentgroup\": \"True\", \"customdata\": [[\"ARK Web x.0 ETF\"]], \"hovertemplate\": \"symbol=%{y}<br>composition_invested=%{text}<br>company_name=%{customdata[0]}<extra></extra>\", \"legendgroup\": \"ARKW\", \"marker\": {\"color\": \"#EF553B\"}, \"name\": \"ARKW\", \"offsetgroup\": \"ARKW\", \"orientation\": \"h\", \"showlegend\": true, \"text\": [11.0], \"textposition\": \"auto\", \"type\": \"bar\", \"x\": [11.0], \"xaxis\": \"x\", \"y\": [\"ARKW\"], \"yaxis\": \"y\"}, {\"alignmentgroup\": \"True\", \"customdata\": [[\"ARK Genomic Revolution Multi-Sector ETF\"]], \"hovertemplate\": \"symbol=%{y}<br>composition_invested=%{text}<br>company_name=%{customdata[0]}<extra></extra>\", \"legendgroup\": \"ARKG\", \"marker\": {\"color\": \"#00cc96\"}, \"name\": \"ARKG\", \"offsetgroup\": \"ARKG\", \"orientation\": \"h\", \"showlegend\": true, \"text\": [15.33], \"textposition\": \"auto\", \"type\": \"bar\", \"x\": [15.33], \"xaxis\": \"x\", \"y\": [\"ARKG\"], \"yaxis\": \"y\"}, {\"alignmentgroup\": \"True\", \"customdata\": [[\"SPDR S&P Semiconductor ETF\"]], \"hovertemplate\": \"symbol=%{y}<br>composition_invested=%{text}<br>company_name=%{customdata[0]}<extra></extra>\", \"legendgroup\": \"XSD\", \"marker\": {\"color\": \"#ab63fa\"}, \"name\": \"XSD\", \"offsetgroup\": \"XSD\", \"orientation\": \"h\", \"showlegend\": true, \"text\": [6.7], \"textposition\": \"auto\", \"type\": \"bar\", \"x\": [6.7], \"xaxis\": \"x\", \"y\": [\"XSD\"], \"yaxis\": \"y\"}, {\"alignmentgroup\": \"True\", \"customdata\": [[\"ARK Israel Innovative Technology ETF\"]], \"hovertemplate\": \"symbol=%{y}<br>composition_invested=%{text}<br>company_name=%{customdata[0]}<extra></extra>\", \"legendgroup\": \"IZRL\", \"marker\": {\"color\": \"#FFA15A\"}, \"name\": \"IZRL\", \"offsetgroup\": \"IZRL\", \"orientation\": \"h\", \"showlegend\": true, \"text\": [3.75], \"textposition\": \"auto\", \"type\": \"bar\", \"x\": [3.75], \"xaxis\": \"x\", \"y\": [\"IZRL\"], \"yaxis\": \"y\"}, {\"alignmentgroup\": \"True\", \"customdata\": [[\"Global X Video Games & Esports ETF\"]], \"hovertemplate\": \"symbol=%{y}<br>composition_invested=%{text}<br>company_name=%{customdata[0]}<extra></extra>\", \"legendgroup\": \"HERO\", \"marker\": {\"color\": \"#19d3f3\"}, \"name\": \"HERO\", \"offsetgroup\": \"HERO\", \"orientation\": \"h\", \"showlegend\": true, \"text\": [2.36], \"textposition\": \"auto\", \"type\": \"bar\", \"x\": [2.36], \"xaxis\": \"x\", \"y\": [\"HERO\"], \"yaxis\": \"y\"}, {\"alignmentgroup\": \"True\", \"customdata\": [[\"Vanguard Information Technology Index Fund\"]], \"hovertemplate\": \"symbol=%{y}<br>composition_invested=%{text}<br>company_name=%{customdata[0]}<extra></extra>\", \"legendgroup\": \"VGT\", \"marker\": {\"color\": \"#FF6692\"}, \"name\": \"VGT\", \"offsetgroup\": \"VGT\", \"orientation\": \"h\", \"showlegend\": true, \"text\": [8.03], \"textposition\": \"auto\", \"type\": \"bar\", \"x\": [8.03], \"xaxis\": \"x\", \"y\": [\"VGT\"], \"yaxis\": \"y\"}, {\"alignmentgroup\": \"True\", \"customdata\": [[\"VanEck Vectors Video Gaming & eSports ETF\"]], \"hovertemplate\": \"symbol=%{y}<br>composition_invested=%{text}<br>company_name=%{customdata[0]}<extra></extra>\", \"legendgroup\": \"ESPO\", \"marker\": {\"color\": \"#B6E880\"}, \"name\": \"ESPO\", \"offsetgroup\": \"ESPO\", \"orientation\": \"h\", \"showlegend\": true, \"text\": [2.24], \"textposition\": \"auto\", \"type\": \"bar\", \"x\": [2.24], \"xaxis\": \"x\", \"y\": [\"ESPO\"], \"yaxis\": \"y\"}, {\"alignmentgroup\": \"True\", \"customdata\": [[\"iShares PHLX Semiconductor ETF\"]], \"hovertemplate\": \"symbol=%{y}<br>composition_invested=%{text}<br>company_name=%{customdata[0]}<extra></extra>\", \"legendgroup\": \"SOXX\", \"marker\": {\"color\": \"#FF97FF\"}, \"name\": \"SOXX\", \"offsetgroup\": \"SOXX\", \"orientation\": \"h\", \"showlegend\": true, \"text\": [3.91], \"textposition\": \"auto\", \"type\": \"bar\", \"x\": [3.91], \"xaxis\": \"x\", \"y\": [\"SOXX\"], \"yaxis\": \"y\"}, {\"alignmentgroup\": \"True\", \"customdata\": [[\"Vanguard Consumer Discretionary Index Fund\"]], \"hovertemplate\": \"symbol=%{y}<br>composition_invested=%{text}<br>company_name=%{customdata[0]}<extra></extra>\", \"legendgroup\": \"VCR\", \"marker\": {\"color\": \"#FECB52\"}, \"name\": \"VCR\", \"offsetgroup\": \"VCR\", \"orientation\": \"h\", \"showlegend\": true, \"text\": [1.1], \"textposition\": \"auto\", \"type\": \"bar\", \"x\": [1.1], \"xaxis\": \"x\", \"y\": [\"VCR\"], \"yaxis\": \"y\"}, {\"alignmentgroup\": \"True\", \"customdata\": [[\"VanEck Vectors Semiconductor ETF\"]], \"hovertemplate\": \"symbol=%{y}<br>composition_invested=%{text}<br>company_name=%{customdata[0]}<extra></extra>\", \"legendgroup\": \"SMH\", \"marker\": {\"color\": \"#636efa\"}, \"name\": \"SMH\", \"offsetgroup\": \"SMH\", \"orientation\": \"h\", \"showlegend\": true, \"text\": [2.03], \"textposition\": \"auto\", \"type\": \"bar\", \"x\": [2.03], \"xaxis\": \"x\", \"y\": [\"SMH\"], \"yaxis\": \"y\"}, {\"alignmentgroup\": \"True\", \"customdata\": [[\"Pacer Benchmark Industrial Real Estate SCTR ETF\"]], \"hovertemplate\": \"symbol=%{y}<br>composition_invested=%{text}<br>company_name=%{customdata[0]}<extra></extra>\", \"legendgroup\": \"INDS\", \"marker\": {\"color\": \"#EF553B\"}, \"name\": \"INDS\", \"offsetgroup\": \"INDS\", \"orientation\": \"h\", \"showlegend\": true, \"text\": [0.18], \"textposition\": \"auto\", \"type\": \"bar\", \"x\": [0.18], \"xaxis\": \"x\", \"y\": [\"INDS\"], \"yaxis\": \"y\"}, {\"alignmentgroup\": \"True\", \"customdata\": [[\"Pacer Benchmark Data & Infrastructure Real Estate SCTR ETF\"]], \"hovertemplate\": \"symbol=%{y}<br>composition_invested=%{text}<br>company_name=%{customdata[0]}<extra></extra>\", \"legendgroup\": \"SRVR\", \"marker\": {\"color\": \"#00cc96\"}, \"name\": \"SRVR\", \"offsetgroup\": \"SRVR\", \"orientation\": \"h\", \"showlegend\": true, \"text\": [2.32], \"textposition\": \"auto\", \"type\": \"bar\", \"x\": [2.32], \"xaxis\": \"x\", \"y\": [\"SRVR\"], \"yaxis\": \"y\"}, {\"alignmentgroup\": \"True\", \"customdata\": [[\"PPTY-U.S. Diversified Real Estate ETF\"]], \"hovertemplate\": \"symbol=%{y}<br>composition_invested=%{text}<br>company_name=%{customdata[0]}<extra></extra>\", \"legendgroup\": \"PPTY\", \"marker\": {\"color\": \"#ab63fa\"}, \"name\": \"PPTY\", \"offsetgroup\": \"PPTY\", \"orientation\": \"h\", \"showlegend\": true, \"text\": [0.2], \"textposition\": \"auto\", \"type\": \"bar\", \"x\": [0.2], \"xaxis\": \"x\", \"y\": [\"PPTY\"], \"yaxis\": \"y\"}, {\"alignmentgroup\": \"True\", \"customdata\": [[\"FlexShares Credit-Scored US Long Corporate Bond Index Fund\"]], \"hovertemplate\": \"symbol=%{y}<br>composition_invested=%{text}<br>company_name=%{customdata[0]}<extra></extra>\", \"legendgroup\": \"LKOR\", \"marker\": {\"color\": \"#FFA15A\"}, \"name\": \"LKOR\", \"offsetgroup\": \"LKOR\", \"orientation\": \"h\", \"showlegend\": true, \"text\": [2.02], \"textposition\": \"auto\", \"type\": \"bar\", \"x\": [2.02], \"xaxis\": \"x\", \"y\": [\"LKOR\"], \"yaxis\": \"y\"}, {\"alignmentgroup\": \"True\", \"customdata\": [[\"Vanguard Consumer Staples Index Fund\"]], \"hovertemplate\": \"symbol=%{y}<br>composition_invested=%{text}<br>company_name=%{customdata[0]}<extra></extra>\", \"legendgroup\": \"VDC\", \"marker\": {\"color\": \"#19d3f3\"}, \"name\": \"VDC\", \"offsetgroup\": \"VDC\", \"orientation\": \"h\", \"showlegend\": true, \"text\": [4.19], \"textposition\": \"auto\", \"type\": \"bar\", \"x\": [4.19], \"xaxis\": \"x\", \"y\": [\"VDC\"], \"yaxis\": \"y\"}, {\"alignmentgroup\": \"True\", \"customdata\": [[\"Fidelity Total Bond ETF\"]], \"hovertemplate\": \"symbol=%{y}<br>composition_invested=%{text}<br>company_name=%{customdata[0]}<extra></extra>\", \"legendgroup\": \"FBND\", \"marker\": {\"color\": \"#FF6692\"}, \"name\": \"FBND\", \"offsetgroup\": \"FBND\", \"orientation\": \"h\", \"showlegend\": true, \"text\": [2.22], \"textposition\": \"auto\", \"type\": \"bar\", \"x\": [2.22], \"xaxis\": \"x\", \"y\": [\"FBND\"], \"yaxis\": \"y\"}, {\"alignmentgroup\": \"True\", \"customdata\": [[\"SPDR Portfolio Long Term Corporate Bond ETF\"]], \"hovertemplate\": \"symbol=%{y}<br>composition_invested=%{text}<br>company_name=%{customdata[0]}<extra></extra>\", \"legendgroup\": \"SPLB\", \"marker\": {\"color\": \"#B6E880\"}, \"name\": \"SPLB\", \"offsetgroup\": \"SPLB\", \"orientation\": \"h\", \"showlegend\": true, \"text\": [2.07], \"textposition\": \"auto\", \"type\": \"bar\", \"x\": [2.07], \"xaxis\": \"x\", \"y\": [\"SPLB\"], \"yaxis\": \"y\"}],\n",
       "                        {\"barmode\": \"relative\", \"height\": 700, \"legend\": {\"title\": {\"text\": \"symbol\"}, \"tracegroupgap\": 0}, \"template\": {\"data\": {\"bar\": [{\"error_x\": {\"color\": \"#2a3f5f\"}, \"error_y\": {\"color\": \"#2a3f5f\"}, \"marker\": {\"line\": {\"color\": \"#E5ECF6\", \"width\": 0.5}}, \"type\": \"bar\"}], \"barpolar\": [{\"marker\": {\"line\": {\"color\": \"#E5ECF6\", \"width\": 0.5}}, \"type\": \"barpolar\"}], \"carpet\": [{\"aaxis\": {\"endlinecolor\": \"#2a3f5f\", \"gridcolor\": \"white\", \"linecolor\": \"white\", \"minorgridcolor\": \"white\", \"startlinecolor\": \"#2a3f5f\"}, \"baxis\": {\"endlinecolor\": \"#2a3f5f\", \"gridcolor\": \"white\", \"linecolor\": \"white\", \"minorgridcolor\": \"white\", \"startlinecolor\": \"#2a3f5f\"}, \"type\": \"carpet\"}], \"choropleth\": [{\"colorbar\": {\"outlinewidth\": 0, \"ticks\": \"\"}, \"type\": \"choropleth\"}], \"contour\": [{\"colorbar\": {\"outlinewidth\": 0, \"ticks\": \"\"}, \"colorscale\": [[0.0, \"#0d0887\"], [0.1111111111111111, \"#46039f\"], [0.2222222222222222, \"#7201a8\"], [0.3333333333333333, \"#9c179e\"], [0.4444444444444444, \"#bd3786\"], [0.5555555555555556, \"#d8576b\"], [0.6666666666666666, \"#ed7953\"], [0.7777777777777778, \"#fb9f3a\"], [0.8888888888888888, \"#fdca26\"], [1.0, \"#f0f921\"]], \"type\": \"contour\"}], \"contourcarpet\": [{\"colorbar\": {\"outlinewidth\": 0, \"ticks\": \"\"}, \"type\": \"contourcarpet\"}], \"heatmap\": [{\"colorbar\": {\"outlinewidth\": 0, \"ticks\": \"\"}, \"colorscale\": [[0.0, \"#0d0887\"], [0.1111111111111111, \"#46039f\"], [0.2222222222222222, \"#7201a8\"], [0.3333333333333333, \"#9c179e\"], [0.4444444444444444, \"#bd3786\"], [0.5555555555555556, \"#d8576b\"], [0.6666666666666666, \"#ed7953\"], [0.7777777777777778, \"#fb9f3a\"], [0.8888888888888888, \"#fdca26\"], [1.0, \"#f0f921\"]], \"type\": \"heatmap\"}], \"heatmapgl\": [{\"colorbar\": {\"outlinewidth\": 0, \"ticks\": \"\"}, \"colorscale\": [[0.0, \"#0d0887\"], [0.1111111111111111, \"#46039f\"], [0.2222222222222222, \"#7201a8\"], [0.3333333333333333, \"#9c179e\"], [0.4444444444444444, \"#bd3786\"], [0.5555555555555556, \"#d8576b\"], [0.6666666666666666, \"#ed7953\"], [0.7777777777777778, \"#fb9f3a\"], [0.8888888888888888, \"#fdca26\"], [1.0, \"#f0f921\"]], \"type\": \"heatmapgl\"}], \"histogram\": [{\"marker\": {\"colorbar\": {\"outlinewidth\": 0, \"ticks\": \"\"}}, \"type\": \"histogram\"}], \"histogram2d\": [{\"colorbar\": {\"outlinewidth\": 0, \"ticks\": \"\"}, \"colorscale\": [[0.0, \"#0d0887\"], [0.1111111111111111, \"#46039f\"], [0.2222222222222222, \"#7201a8\"], [0.3333333333333333, \"#9c179e\"], [0.4444444444444444, \"#bd3786\"], [0.5555555555555556, \"#d8576b\"], [0.6666666666666666, \"#ed7953\"], [0.7777777777777778, \"#fb9f3a\"], [0.8888888888888888, \"#fdca26\"], [1.0, \"#f0f921\"]], \"type\": \"histogram2d\"}], \"histogram2dcontour\": [{\"colorbar\": {\"outlinewidth\": 0, \"ticks\": \"\"}, \"colorscale\": [[0.0, \"#0d0887\"], [0.1111111111111111, \"#46039f\"], [0.2222222222222222, \"#7201a8\"], [0.3333333333333333, \"#9c179e\"], [0.4444444444444444, \"#bd3786\"], [0.5555555555555556, \"#d8576b\"], [0.6666666666666666, \"#ed7953\"], [0.7777777777777778, \"#fb9f3a\"], [0.8888888888888888, \"#fdca26\"], [1.0, \"#f0f921\"]], \"type\": \"histogram2dcontour\"}], \"mesh3d\": [{\"colorbar\": {\"outlinewidth\": 0, \"ticks\": \"\"}, \"type\": \"mesh3d\"}], \"parcoords\": [{\"line\": {\"colorbar\": {\"outlinewidth\": 0, \"ticks\": \"\"}}, \"type\": \"parcoords\"}], \"pie\": [{\"automargin\": true, \"type\": \"pie\"}], \"scatter\": [{\"marker\": {\"colorbar\": {\"outlinewidth\": 0, \"ticks\": \"\"}}, \"type\": \"scatter\"}], \"scatter3d\": [{\"line\": {\"colorbar\": {\"outlinewidth\": 0, \"ticks\": \"\"}}, \"marker\": {\"colorbar\": {\"outlinewidth\": 0, \"ticks\": \"\"}}, \"type\": \"scatter3d\"}], \"scattercarpet\": [{\"marker\": {\"colorbar\": {\"outlinewidth\": 0, \"ticks\": \"\"}}, \"type\": \"scattercarpet\"}], \"scattergeo\": [{\"marker\": {\"colorbar\": {\"outlinewidth\": 0, \"ticks\": \"\"}}, \"type\": \"scattergeo\"}], \"scattergl\": [{\"marker\": {\"colorbar\": {\"outlinewidth\": 0, \"ticks\": \"\"}}, \"type\": \"scattergl\"}], \"scattermapbox\": [{\"marker\": {\"colorbar\": {\"outlinewidth\": 0, \"ticks\": \"\"}}, \"type\": \"scattermapbox\"}], \"scatterpolar\": [{\"marker\": {\"colorbar\": {\"outlinewidth\": 0, \"ticks\": \"\"}}, \"type\": \"scatterpolar\"}], \"scatterpolargl\": [{\"marker\": {\"colorbar\": {\"outlinewidth\": 0, \"ticks\": \"\"}}, \"type\": \"scatterpolargl\"}], \"scatterternary\": [{\"marker\": {\"colorbar\": {\"outlinewidth\": 0, \"ticks\": \"\"}}, \"type\": \"scatterternary\"}], \"surface\": [{\"colorbar\": {\"outlinewidth\": 0, \"ticks\": \"\"}, \"colorscale\": [[0.0, \"#0d0887\"], [0.1111111111111111, \"#46039f\"], [0.2222222222222222, \"#7201a8\"], [0.3333333333333333, \"#9c179e\"], [0.4444444444444444, \"#bd3786\"], [0.5555555555555556, \"#d8576b\"], [0.6666666666666666, \"#ed7953\"], [0.7777777777777778, \"#fb9f3a\"], [0.8888888888888888, \"#fdca26\"], [1.0, \"#f0f921\"]], \"type\": \"surface\"}], \"table\": [{\"cells\": {\"fill\": {\"color\": \"#EBF0F8\"}, \"line\": {\"color\": \"white\"}}, \"header\": {\"fill\": {\"color\": \"#C8D4E3\"}, \"line\": {\"color\": \"white\"}}, \"type\": \"table\"}]}, \"layout\": {\"annotationdefaults\": {\"arrowcolor\": \"#2a3f5f\", \"arrowhead\": 0, \"arrowwidth\": 1}, \"coloraxis\": {\"colorbar\": {\"outlinewidth\": 0, \"ticks\": \"\"}}, \"colorscale\": {\"diverging\": [[0, \"#8e0152\"], [0.1, \"#c51b7d\"], [0.2, \"#de77ae\"], [0.3, \"#f1b6da\"], [0.4, \"#fde0ef\"], [0.5, \"#f7f7f7\"], [0.6, \"#e6f5d0\"], [0.7, \"#b8e186\"], [0.8, \"#7fbc41\"], [0.9, \"#4d9221\"], [1, \"#276419\"]], \"sequential\": [[0.0, \"#0d0887\"], [0.1111111111111111, \"#46039f\"], [0.2222222222222222, \"#7201a8\"], [0.3333333333333333, \"#9c179e\"], [0.4444444444444444, \"#bd3786\"], [0.5555555555555556, \"#d8576b\"], [0.6666666666666666, \"#ed7953\"], [0.7777777777777778, \"#fb9f3a\"], [0.8888888888888888, \"#fdca26\"], [1.0, \"#f0f921\"]], \"sequentialminus\": [[0.0, \"#0d0887\"], [0.1111111111111111, \"#46039f\"], [0.2222222222222222, \"#7201a8\"], [0.3333333333333333, \"#9c179e\"], [0.4444444444444444, \"#bd3786\"], [0.5555555555555556, \"#d8576b\"], [0.6666666666666666, \"#ed7953\"], [0.7777777777777778, \"#fb9f3a\"], [0.8888888888888888, \"#fdca26\"], [1.0, \"#f0f921\"]]}, \"colorway\": [\"#636efa\", \"#EF553B\", \"#00cc96\", \"#ab63fa\", \"#FFA15A\", \"#19d3f3\", \"#FF6692\", \"#B6E880\", \"#FF97FF\", \"#FECB52\"], \"font\": {\"color\": \"#2a3f5f\"}, \"geo\": {\"bgcolor\": \"white\", \"lakecolor\": \"white\", \"landcolor\": \"#E5ECF6\", \"showlakes\": true, \"showland\": true, \"subunitcolor\": \"white\"}, \"hoverlabel\": {\"align\": \"left\"}, \"hovermode\": \"closest\", \"mapbox\": {\"style\": \"light\"}, \"paper_bgcolor\": \"white\", \"plot_bgcolor\": \"#E5ECF6\", \"polar\": {\"angularaxis\": {\"gridcolor\": \"white\", \"linecolor\": \"white\", \"ticks\": \"\"}, \"bgcolor\": \"#E5ECF6\", \"radialaxis\": {\"gridcolor\": \"white\", \"linecolor\": \"white\", \"ticks\": \"\"}}, \"scene\": {\"xaxis\": {\"backgroundcolor\": \"#E5ECF6\", \"gridcolor\": \"white\", \"gridwidth\": 2, \"linecolor\": \"white\", \"showbackground\": true, \"ticks\": \"\", \"zerolinecolor\": \"white\"}, \"yaxis\": {\"backgroundcolor\": \"#E5ECF6\", \"gridcolor\": \"white\", \"gridwidth\": 2, \"linecolor\": \"white\", \"showbackground\": true, \"ticks\": \"\", \"zerolinecolor\": \"white\"}, \"zaxis\": {\"backgroundcolor\": \"#E5ECF6\", \"gridcolor\": \"white\", \"gridwidth\": 2, \"linecolor\": \"white\", \"showbackground\": true, \"ticks\": \"\", \"zerolinecolor\": \"white\"}}, \"shapedefaults\": {\"line\": {\"color\": \"#2a3f5f\"}}, \"ternary\": {\"aaxis\": {\"gridcolor\": \"white\", \"linecolor\": \"white\", \"ticks\": \"\"}, \"baxis\": {\"gridcolor\": \"white\", \"linecolor\": \"white\", \"ticks\": \"\"}, \"bgcolor\": \"#E5ECF6\", \"caxis\": {\"gridcolor\": \"white\", \"linecolor\": \"white\", \"ticks\": \"\"}}, \"title\": {\"x\": 0.05}, \"xaxis\": {\"automargin\": true, \"gridcolor\": \"white\", \"linecolor\": \"white\", \"ticks\": \"\", \"title\": {\"standoff\": 15}, \"zerolinecolor\": \"white\", \"zerolinewidth\": 2}, \"yaxis\": {\"automargin\": true, \"gridcolor\": \"white\", \"linecolor\": \"white\", \"ticks\": \"\", \"title\": {\"standoff\": 15}, \"zerolinecolor\": \"white\", \"zerolinewidth\": 2}}}, \"title\": {\"text\": \"Allocation by Stock\"}, \"xaxis\": {\"anchor\": \"y\", \"domain\": [0.0, 1.0], \"title\": {\"text\": \"composition_invested\"}}, \"yaxis\": {\"anchor\": \"x\", \"categoryarray\": [\"SPLB\", \"FBND\", \"VDC\", \"LKOR\", \"PPTY\", \"SRVR\", \"INDS\", \"SMH\", \"VCR\", \"SOXX\", \"ESPO\", \"VGT\", \"HERO\", \"IZRL\", \"XSD\", \"ARKG\", \"ARKW\", \"ARKK\"], \"categoryorder\": \"array\", \"domain\": [0.0, 1.0], \"title\": {\"text\": \"symbol\"}}},\n",
       "                        {\"responsive\": true}\n",
       "                    ).then(function(){\n",
       "                            \n",
       "var gd = document.getElementById('b85628b5-d4eb-4196-879e-ef155b9ffa3f');\n",
       "var x = new MutationObserver(function (mutations, observer) {{\n",
       "        var display = window.getComputedStyle(gd).display;\n",
       "        if (!display || display === 'none') {{\n",
       "            console.log([gd, 'removed!']);\n",
       "            Plotly.purge(gd);\n",
       "            observer.disconnect();\n",
       "        }}\n",
       "}});\n",
       "\n",
       "// Listen for the removal of the full notebook cells\n",
       "var notebookContainer = gd.closest('#notebook-container');\n",
       "if (notebookContainer) {{\n",
       "    x.observe(notebookContainer, {childList: true});\n",
       "}}\n",
       "\n",
       "// Listen for the clearing of the current output cell\n",
       "var outputEl = gd.closest('.output');\n",
       "if (outputEl) {{\n",
       "    x.observe(outputEl, {childList: true});\n",
       "}}\n",
       "\n",
       "                        })\n",
       "                };\n",
       "                });\n",
       "            </script>\n",
       "        </div>"
      ]
     },
     "metadata": {},
     "output_type": "display_data"
    }
   ],
   "source": [
    "fig = px.bar(s_composition_stats.sort_values(by='total_pct_gain', ascending=False),\n",
    "             x=\"composition_invested\", y=\"symbol\", \n",
    "             title='Allocation by Stock', \n",
    "             color=\"symbol\",\n",
    "             text=\"composition_invested\",\n",
    "             hover_data=['company_name'],\n",
    "             orientation='h',\n",
    "             height=700)\n",
    "fig.write_image(\"images/allocation_by_stock.pdf\")\n",
    "fig.show()"
   ]
  },
  {
   "cell_type": "code",
   "execution_count": 23,
   "metadata": {},
   "outputs": [
    {
     "data": {
      "application/vnd.plotly.v1+json": {
       "config": {
        "plotlyServerURL": "https://plot.ly"
       },
       "data": [
        {
         "alignmentgroup": "True",
         "hovertemplate": "category=%{y}<br>total_pct_gain=%{text}<extra></extra>",
         "legendgroup": "Innovation",
         "marker": {
          "color": "#636efa"
         },
         "name": "Innovation",
         "offsetgroup": "Innovation",
         "orientation": "h",
         "showlegend": true,
         "text": [
          19.11
         ],
         "textposition": "auto",
         "type": "bar",
         "x": [
          19.11
         ],
         "xaxis": "x",
         "y": [
          "Innovation"
         ],
         "yaxis": "y"
        },
        {
         "alignmentgroup": "True",
         "hovertemplate": "category=%{y}<br>total_pct_gain=%{text}<extra></extra>",
         "legendgroup": "Semiconductor",
         "marker": {
          "color": "#EF553B"
         },
         "name": "Semiconductor",
         "offsetgroup": "Semiconductor",
         "orientation": "h",
         "showlegend": true,
         "text": [
          12.03
         ],
         "textposition": "auto",
         "type": "bar",
         "x": [
          12.03
         ],
         "xaxis": "x",
         "y": [
          "Semiconductor"
         ],
         "yaxis": "y"
        },
        {
         "alignmentgroup": "True",
         "hovertemplate": "category=%{y}<br>total_pct_gain=%{text}<extra></extra>",
         "legendgroup": "Gaming",
         "marker": {
          "color": "#00cc96"
         },
         "name": "Gaming",
         "offsetgroup": "Gaming",
         "orientation": "h",
         "showlegend": true,
         "text": [
          11.21
         ],
         "textposition": "auto",
         "type": "bar",
         "x": [
          11.21
         ],
         "xaxis": "x",
         "y": [
          "Gaming"
         ],
         "yaxis": "y"
        },
        {
         "alignmentgroup": "True",
         "hovertemplate": "category=%{y}<br>total_pct_gain=%{text}<extra></extra>",
         "legendgroup": "Technology",
         "marker": {
          "color": "#ab63fa"
         },
         "name": "Technology",
         "offsetgroup": "Technology",
         "orientation": "h",
         "showlegend": true,
         "text": [
          10.7
         ],
         "textposition": "auto",
         "type": "bar",
         "x": [
          10.7
         ],
         "xaxis": "x",
         "y": [
          "Technology"
         ],
         "yaxis": "y"
        },
        {
         "alignmentgroup": "True",
         "hovertemplate": "category=%{y}<br>total_pct_gain=%{text}<extra></extra>",
         "legendgroup": "Consumer Discretionary",
         "marker": {
          "color": "#FFA15A"
         },
         "name": "Consumer Discretionary",
         "offsetgroup": "Consumer Discretionary",
         "orientation": "h",
         "showlegend": true,
         "text": [
          9.33
         ],
         "textposition": "auto",
         "type": "bar",
         "x": [
          9.33
         ],
         "xaxis": "x",
         "y": [
          "Consumer Discretionary"
         ],
         "yaxis": "y"
        },
        {
         "alignmentgroup": "True",
         "hovertemplate": "category=%{y}<br>total_pct_gain=%{text}<extra></extra>",
         "legendgroup": "Real Estate",
         "marker": {
          "color": "#19d3f3"
         },
         "name": "Real Estate",
         "offsetgroup": "Real Estate",
         "orientation": "h",
         "showlegend": true,
         "text": [
          5.79
         ],
         "textposition": "auto",
         "type": "bar",
         "x": [
          5.79
         ],
         "xaxis": "x",
         "y": [
          "Real Estate"
         ],
         "yaxis": "y"
        },
        {
         "alignmentgroup": "True",
         "hovertemplate": "category=%{y}<br>total_pct_gain=%{text}<extra></extra>",
         "legendgroup": "Bonds",
         "marker": {
          "color": "#FF6692"
         },
         "name": "Bonds",
         "offsetgroup": "Bonds",
         "orientation": "h",
         "showlegend": true,
         "text": [
          1.41
         ],
         "textposition": "auto",
         "type": "bar",
         "x": [
          1.41
         ],
         "xaxis": "x",
         "y": [
          "Bonds"
         ],
         "yaxis": "y"
        },
        {
         "alignmentgroup": "True",
         "hovertemplate": "category=%{y}<br>total_pct_gain=%{text}<extra></extra>",
         "legendgroup": "Consumer Staples",
         "marker": {
          "color": "#B6E880"
         },
         "name": "Consumer Staples",
         "offsetgroup": "Consumer Staples",
         "orientation": "h",
         "showlegend": true,
         "text": [
          1.22
         ],
         "textposition": "auto",
         "type": "bar",
         "x": [
          1.22
         ],
         "xaxis": "x",
         "y": [
          "Consumer Staples"
         ],
         "yaxis": "y"
        }
       ],
       "layout": {
        "barmode": "relative",
        "legend": {
         "title": {
          "text": "category"
         },
         "tracegroupgap": 0
        },
        "template": {
         "data": {
          "bar": [
           {
            "error_x": {
             "color": "#2a3f5f"
            },
            "error_y": {
             "color": "#2a3f5f"
            },
            "marker": {
             "line": {
              "color": "#E5ECF6",
              "width": 0.5
             }
            },
            "type": "bar"
           }
          ],
          "barpolar": [
           {
            "marker": {
             "line": {
              "color": "#E5ECF6",
              "width": 0.5
             }
            },
            "type": "barpolar"
           }
          ],
          "carpet": [
           {
            "aaxis": {
             "endlinecolor": "#2a3f5f",
             "gridcolor": "white",
             "linecolor": "white",
             "minorgridcolor": "white",
             "startlinecolor": "#2a3f5f"
            },
            "baxis": {
             "endlinecolor": "#2a3f5f",
             "gridcolor": "white",
             "linecolor": "white",
             "minorgridcolor": "white",
             "startlinecolor": "#2a3f5f"
            },
            "type": "carpet"
           }
          ],
          "choropleth": [
           {
            "colorbar": {
             "outlinewidth": 0,
             "ticks": ""
            },
            "type": "choropleth"
           }
          ],
          "contour": [
           {
            "colorbar": {
             "outlinewidth": 0,
             "ticks": ""
            },
            "colorscale": [
             [
              0,
              "#0d0887"
             ],
             [
              0.1111111111111111,
              "#46039f"
             ],
             [
              0.2222222222222222,
              "#7201a8"
             ],
             [
              0.3333333333333333,
              "#9c179e"
             ],
             [
              0.4444444444444444,
              "#bd3786"
             ],
             [
              0.5555555555555556,
              "#d8576b"
             ],
             [
              0.6666666666666666,
              "#ed7953"
             ],
             [
              0.7777777777777778,
              "#fb9f3a"
             ],
             [
              0.8888888888888888,
              "#fdca26"
             ],
             [
              1,
              "#f0f921"
             ]
            ],
            "type": "contour"
           }
          ],
          "contourcarpet": [
           {
            "colorbar": {
             "outlinewidth": 0,
             "ticks": ""
            },
            "type": "contourcarpet"
           }
          ],
          "heatmap": [
           {
            "colorbar": {
             "outlinewidth": 0,
             "ticks": ""
            },
            "colorscale": [
             [
              0,
              "#0d0887"
             ],
             [
              0.1111111111111111,
              "#46039f"
             ],
             [
              0.2222222222222222,
              "#7201a8"
             ],
             [
              0.3333333333333333,
              "#9c179e"
             ],
             [
              0.4444444444444444,
              "#bd3786"
             ],
             [
              0.5555555555555556,
              "#d8576b"
             ],
             [
              0.6666666666666666,
              "#ed7953"
             ],
             [
              0.7777777777777778,
              "#fb9f3a"
             ],
             [
              0.8888888888888888,
              "#fdca26"
             ],
             [
              1,
              "#f0f921"
             ]
            ],
            "type": "heatmap"
           }
          ],
          "heatmapgl": [
           {
            "colorbar": {
             "outlinewidth": 0,
             "ticks": ""
            },
            "colorscale": [
             [
              0,
              "#0d0887"
             ],
             [
              0.1111111111111111,
              "#46039f"
             ],
             [
              0.2222222222222222,
              "#7201a8"
             ],
             [
              0.3333333333333333,
              "#9c179e"
             ],
             [
              0.4444444444444444,
              "#bd3786"
             ],
             [
              0.5555555555555556,
              "#d8576b"
             ],
             [
              0.6666666666666666,
              "#ed7953"
             ],
             [
              0.7777777777777778,
              "#fb9f3a"
             ],
             [
              0.8888888888888888,
              "#fdca26"
             ],
             [
              1,
              "#f0f921"
             ]
            ],
            "type": "heatmapgl"
           }
          ],
          "histogram": [
           {
            "marker": {
             "colorbar": {
              "outlinewidth": 0,
              "ticks": ""
             }
            },
            "type": "histogram"
           }
          ],
          "histogram2d": [
           {
            "colorbar": {
             "outlinewidth": 0,
             "ticks": ""
            },
            "colorscale": [
             [
              0,
              "#0d0887"
             ],
             [
              0.1111111111111111,
              "#46039f"
             ],
             [
              0.2222222222222222,
              "#7201a8"
             ],
             [
              0.3333333333333333,
              "#9c179e"
             ],
             [
              0.4444444444444444,
              "#bd3786"
             ],
             [
              0.5555555555555556,
              "#d8576b"
             ],
             [
              0.6666666666666666,
              "#ed7953"
             ],
             [
              0.7777777777777778,
              "#fb9f3a"
             ],
             [
              0.8888888888888888,
              "#fdca26"
             ],
             [
              1,
              "#f0f921"
             ]
            ],
            "type": "histogram2d"
           }
          ],
          "histogram2dcontour": [
           {
            "colorbar": {
             "outlinewidth": 0,
             "ticks": ""
            },
            "colorscale": [
             [
              0,
              "#0d0887"
             ],
             [
              0.1111111111111111,
              "#46039f"
             ],
             [
              0.2222222222222222,
              "#7201a8"
             ],
             [
              0.3333333333333333,
              "#9c179e"
             ],
             [
              0.4444444444444444,
              "#bd3786"
             ],
             [
              0.5555555555555556,
              "#d8576b"
             ],
             [
              0.6666666666666666,
              "#ed7953"
             ],
             [
              0.7777777777777778,
              "#fb9f3a"
             ],
             [
              0.8888888888888888,
              "#fdca26"
             ],
             [
              1,
              "#f0f921"
             ]
            ],
            "type": "histogram2dcontour"
           }
          ],
          "mesh3d": [
           {
            "colorbar": {
             "outlinewidth": 0,
             "ticks": ""
            },
            "type": "mesh3d"
           }
          ],
          "parcoords": [
           {
            "line": {
             "colorbar": {
              "outlinewidth": 0,
              "ticks": ""
             }
            },
            "type": "parcoords"
           }
          ],
          "pie": [
           {
            "automargin": true,
            "type": "pie"
           }
          ],
          "scatter": [
           {
            "marker": {
             "colorbar": {
              "outlinewidth": 0,
              "ticks": ""
             }
            },
            "type": "scatter"
           }
          ],
          "scatter3d": [
           {
            "line": {
             "colorbar": {
              "outlinewidth": 0,
              "ticks": ""
             }
            },
            "marker": {
             "colorbar": {
              "outlinewidth": 0,
              "ticks": ""
             }
            },
            "type": "scatter3d"
           }
          ],
          "scattercarpet": [
           {
            "marker": {
             "colorbar": {
              "outlinewidth": 0,
              "ticks": ""
             }
            },
            "type": "scattercarpet"
           }
          ],
          "scattergeo": [
           {
            "marker": {
             "colorbar": {
              "outlinewidth": 0,
              "ticks": ""
             }
            },
            "type": "scattergeo"
           }
          ],
          "scattergl": [
           {
            "marker": {
             "colorbar": {
              "outlinewidth": 0,
              "ticks": ""
             }
            },
            "type": "scattergl"
           }
          ],
          "scattermapbox": [
           {
            "marker": {
             "colorbar": {
              "outlinewidth": 0,
              "ticks": ""
             }
            },
            "type": "scattermapbox"
           }
          ],
          "scatterpolar": [
           {
            "marker": {
             "colorbar": {
              "outlinewidth": 0,
              "ticks": ""
             }
            },
            "type": "scatterpolar"
           }
          ],
          "scatterpolargl": [
           {
            "marker": {
             "colorbar": {
              "outlinewidth": 0,
              "ticks": ""
             }
            },
            "type": "scatterpolargl"
           }
          ],
          "scatterternary": [
           {
            "marker": {
             "colorbar": {
              "outlinewidth": 0,
              "ticks": ""
             }
            },
            "type": "scatterternary"
           }
          ],
          "surface": [
           {
            "colorbar": {
             "outlinewidth": 0,
             "ticks": ""
            },
            "colorscale": [
             [
              0,
              "#0d0887"
             ],
             [
              0.1111111111111111,
              "#46039f"
             ],
             [
              0.2222222222222222,
              "#7201a8"
             ],
             [
              0.3333333333333333,
              "#9c179e"
             ],
             [
              0.4444444444444444,
              "#bd3786"
             ],
             [
              0.5555555555555556,
              "#d8576b"
             ],
             [
              0.6666666666666666,
              "#ed7953"
             ],
             [
              0.7777777777777778,
              "#fb9f3a"
             ],
             [
              0.8888888888888888,
              "#fdca26"
             ],
             [
              1,
              "#f0f921"
             ]
            ],
            "type": "surface"
           }
          ],
          "table": [
           {
            "cells": {
             "fill": {
              "color": "#EBF0F8"
             },
             "line": {
              "color": "white"
             }
            },
            "header": {
             "fill": {
              "color": "#C8D4E3"
             },
             "line": {
              "color": "white"
             }
            },
            "type": "table"
           }
          ]
         },
         "layout": {
          "annotationdefaults": {
           "arrowcolor": "#2a3f5f",
           "arrowhead": 0,
           "arrowwidth": 1
          },
          "coloraxis": {
           "colorbar": {
            "outlinewidth": 0,
            "ticks": ""
           }
          },
          "colorscale": {
           "diverging": [
            [
             0,
             "#8e0152"
            ],
            [
             0.1,
             "#c51b7d"
            ],
            [
             0.2,
             "#de77ae"
            ],
            [
             0.3,
             "#f1b6da"
            ],
            [
             0.4,
             "#fde0ef"
            ],
            [
             0.5,
             "#f7f7f7"
            ],
            [
             0.6,
             "#e6f5d0"
            ],
            [
             0.7,
             "#b8e186"
            ],
            [
             0.8,
             "#7fbc41"
            ],
            [
             0.9,
             "#4d9221"
            ],
            [
             1,
             "#276419"
            ]
           ],
           "sequential": [
            [
             0,
             "#0d0887"
            ],
            [
             0.1111111111111111,
             "#46039f"
            ],
            [
             0.2222222222222222,
             "#7201a8"
            ],
            [
             0.3333333333333333,
             "#9c179e"
            ],
            [
             0.4444444444444444,
             "#bd3786"
            ],
            [
             0.5555555555555556,
             "#d8576b"
            ],
            [
             0.6666666666666666,
             "#ed7953"
            ],
            [
             0.7777777777777778,
             "#fb9f3a"
            ],
            [
             0.8888888888888888,
             "#fdca26"
            ],
            [
             1,
             "#f0f921"
            ]
           ],
           "sequentialminus": [
            [
             0,
             "#0d0887"
            ],
            [
             0.1111111111111111,
             "#46039f"
            ],
            [
             0.2222222222222222,
             "#7201a8"
            ],
            [
             0.3333333333333333,
             "#9c179e"
            ],
            [
             0.4444444444444444,
             "#bd3786"
            ],
            [
             0.5555555555555556,
             "#d8576b"
            ],
            [
             0.6666666666666666,
             "#ed7953"
            ],
            [
             0.7777777777777778,
             "#fb9f3a"
            ],
            [
             0.8888888888888888,
             "#fdca26"
            ],
            [
             1,
             "#f0f921"
            ]
           ]
          },
          "colorway": [
           "#636efa",
           "#EF553B",
           "#00cc96",
           "#ab63fa",
           "#FFA15A",
           "#19d3f3",
           "#FF6692",
           "#B6E880",
           "#FF97FF",
           "#FECB52"
          ],
          "font": {
           "color": "#2a3f5f"
          },
          "geo": {
           "bgcolor": "white",
           "lakecolor": "white",
           "landcolor": "#E5ECF6",
           "showlakes": true,
           "showland": true,
           "subunitcolor": "white"
          },
          "hoverlabel": {
           "align": "left"
          },
          "hovermode": "closest",
          "mapbox": {
           "style": "light"
          },
          "paper_bgcolor": "white",
          "plot_bgcolor": "#E5ECF6",
          "polar": {
           "angularaxis": {
            "gridcolor": "white",
            "linecolor": "white",
            "ticks": ""
           },
           "bgcolor": "#E5ECF6",
           "radialaxis": {
            "gridcolor": "white",
            "linecolor": "white",
            "ticks": ""
           }
          },
          "scene": {
           "xaxis": {
            "backgroundcolor": "#E5ECF6",
            "gridcolor": "white",
            "gridwidth": 2,
            "linecolor": "white",
            "showbackground": true,
            "ticks": "",
            "zerolinecolor": "white"
           },
           "yaxis": {
            "backgroundcolor": "#E5ECF6",
            "gridcolor": "white",
            "gridwidth": 2,
            "linecolor": "white",
            "showbackground": true,
            "ticks": "",
            "zerolinecolor": "white"
           },
           "zaxis": {
            "backgroundcolor": "#E5ECF6",
            "gridcolor": "white",
            "gridwidth": 2,
            "linecolor": "white",
            "showbackground": true,
            "ticks": "",
            "zerolinecolor": "white"
           }
          },
          "shapedefaults": {
           "line": {
            "color": "#2a3f5f"
           }
          },
          "ternary": {
           "aaxis": {
            "gridcolor": "white",
            "linecolor": "white",
            "ticks": ""
           },
           "baxis": {
            "gridcolor": "white",
            "linecolor": "white",
            "ticks": ""
           },
           "bgcolor": "#E5ECF6",
           "caxis": {
            "gridcolor": "white",
            "linecolor": "white",
            "ticks": ""
           }
          },
          "title": {
           "x": 0.05
          },
          "xaxis": {
           "automargin": true,
           "gridcolor": "white",
           "linecolor": "white",
           "ticks": "",
           "title": {
            "standoff": 15
           },
           "zerolinecolor": "white",
           "zerolinewidth": 2
          },
          "yaxis": {
           "automargin": true,
           "gridcolor": "white",
           "linecolor": "white",
           "ticks": "",
           "title": {
            "standoff": 15
           },
           "zerolinecolor": "white",
           "zerolinewidth": 2
          }
         }
        },
        "title": {
         "text": "Total Gain by Category"
        },
        "xaxis": {
         "anchor": "y",
         "domain": [
          0,
          1
         ],
         "title": {
          "text": "total_pct_gain"
         }
        },
        "yaxis": {
         "anchor": "x",
         "categoryarray": [
          "Consumer Staples",
          "Bonds",
          "Real Estate",
          "Consumer Discretionary",
          "Technology",
          "Gaming",
          "Semiconductor",
          "Innovation"
         ],
         "categoryorder": "array",
         "domain": [
          0,
          1
         ],
         "title": {
          "text": "category"
         }
        }
       }
      },
      "text/html": [
       "<div>\n",
       "        \n",
       "        \n",
       "            <div id=\"16fb35a3-9839-4d1c-8cb9-d2bb94c98ff5\" class=\"plotly-graph-div\" style=\"height:525px; width:100%;\"></div>\n",
       "            <script type=\"text/javascript\">\n",
       "                require([\"plotly\"], function(Plotly) {\n",
       "                    window.PLOTLYENV=window.PLOTLYENV || {};\n",
       "                    \n",
       "                if (document.getElementById(\"16fb35a3-9839-4d1c-8cb9-d2bb94c98ff5\")) {\n",
       "                    Plotly.newPlot(\n",
       "                        '16fb35a3-9839-4d1c-8cb9-d2bb94c98ff5',\n",
       "                        [{\"alignmentgroup\": \"True\", \"hovertemplate\": \"category=%{y}<br>total_pct_gain=%{text}<extra></extra>\", \"legendgroup\": \"Innovation\", \"marker\": {\"color\": \"#636efa\"}, \"name\": \"Innovation\", \"offsetgroup\": \"Innovation\", \"orientation\": \"h\", \"showlegend\": true, \"text\": [19.11], \"textposition\": \"auto\", \"type\": \"bar\", \"x\": [19.11], \"xaxis\": \"x\", \"y\": [\"Innovation\"], \"yaxis\": \"y\"}, {\"alignmentgroup\": \"True\", \"hovertemplate\": \"category=%{y}<br>total_pct_gain=%{text}<extra></extra>\", \"legendgroup\": \"Semiconductor\", \"marker\": {\"color\": \"#EF553B\"}, \"name\": \"Semiconductor\", \"offsetgroup\": \"Semiconductor\", \"orientation\": \"h\", \"showlegend\": true, \"text\": [12.03], \"textposition\": \"auto\", \"type\": \"bar\", \"x\": [12.03], \"xaxis\": \"x\", \"y\": [\"Semiconductor\"], \"yaxis\": \"y\"}, {\"alignmentgroup\": \"True\", \"hovertemplate\": \"category=%{y}<br>total_pct_gain=%{text}<extra></extra>\", \"legendgroup\": \"Gaming\", \"marker\": {\"color\": \"#00cc96\"}, \"name\": \"Gaming\", \"offsetgroup\": \"Gaming\", \"orientation\": \"h\", \"showlegend\": true, \"text\": [11.21], \"textposition\": \"auto\", \"type\": \"bar\", \"x\": [11.21], \"xaxis\": \"x\", \"y\": [\"Gaming\"], \"yaxis\": \"y\"}, {\"alignmentgroup\": \"True\", \"hovertemplate\": \"category=%{y}<br>total_pct_gain=%{text}<extra></extra>\", \"legendgroup\": \"Technology\", \"marker\": {\"color\": \"#ab63fa\"}, \"name\": \"Technology\", \"offsetgroup\": \"Technology\", \"orientation\": \"h\", \"showlegend\": true, \"text\": [10.7], \"textposition\": \"auto\", \"type\": \"bar\", \"x\": [10.7], \"xaxis\": \"x\", \"y\": [\"Technology\"], \"yaxis\": \"y\"}, {\"alignmentgroup\": \"True\", \"hovertemplate\": \"category=%{y}<br>total_pct_gain=%{text}<extra></extra>\", \"legendgroup\": \"Consumer Discretionary\", \"marker\": {\"color\": \"#FFA15A\"}, \"name\": \"Consumer Discretionary\", \"offsetgroup\": \"Consumer Discretionary\", \"orientation\": \"h\", \"showlegend\": true, \"text\": [9.33], \"textposition\": \"auto\", \"type\": \"bar\", \"x\": [9.33], \"xaxis\": \"x\", \"y\": [\"Consumer Discretionary\"], \"yaxis\": \"y\"}, {\"alignmentgroup\": \"True\", \"hovertemplate\": \"category=%{y}<br>total_pct_gain=%{text}<extra></extra>\", \"legendgroup\": \"Real Estate\", \"marker\": {\"color\": \"#19d3f3\"}, \"name\": \"Real Estate\", \"offsetgroup\": \"Real Estate\", \"orientation\": \"h\", \"showlegend\": true, \"text\": [5.79], \"textposition\": \"auto\", \"type\": \"bar\", \"x\": [5.79], \"xaxis\": \"x\", \"y\": [\"Real Estate\"], \"yaxis\": \"y\"}, {\"alignmentgroup\": \"True\", \"hovertemplate\": \"category=%{y}<br>total_pct_gain=%{text}<extra></extra>\", \"legendgroup\": \"Bonds\", \"marker\": {\"color\": \"#FF6692\"}, \"name\": \"Bonds\", \"offsetgroup\": \"Bonds\", \"orientation\": \"h\", \"showlegend\": true, \"text\": [1.41], \"textposition\": \"auto\", \"type\": \"bar\", \"x\": [1.41], \"xaxis\": \"x\", \"y\": [\"Bonds\"], \"yaxis\": \"y\"}, {\"alignmentgroup\": \"True\", \"hovertemplate\": \"category=%{y}<br>total_pct_gain=%{text}<extra></extra>\", \"legendgroup\": \"Consumer Staples\", \"marker\": {\"color\": \"#B6E880\"}, \"name\": \"Consumer Staples\", \"offsetgroup\": \"Consumer Staples\", \"orientation\": \"h\", \"showlegend\": true, \"text\": [1.22], \"textposition\": \"auto\", \"type\": \"bar\", \"x\": [1.22], \"xaxis\": \"x\", \"y\": [\"Consumer Staples\"], \"yaxis\": \"y\"}],\n",
       "                        {\"barmode\": \"relative\", \"legend\": {\"title\": {\"text\": \"category\"}, \"tracegroupgap\": 0}, \"template\": {\"data\": {\"bar\": [{\"error_x\": {\"color\": \"#2a3f5f\"}, \"error_y\": {\"color\": \"#2a3f5f\"}, \"marker\": {\"line\": {\"color\": \"#E5ECF6\", \"width\": 0.5}}, \"type\": \"bar\"}], \"barpolar\": [{\"marker\": {\"line\": {\"color\": \"#E5ECF6\", \"width\": 0.5}}, \"type\": \"barpolar\"}], \"carpet\": [{\"aaxis\": {\"endlinecolor\": \"#2a3f5f\", \"gridcolor\": \"white\", \"linecolor\": \"white\", \"minorgridcolor\": \"white\", \"startlinecolor\": \"#2a3f5f\"}, \"baxis\": {\"endlinecolor\": \"#2a3f5f\", \"gridcolor\": \"white\", \"linecolor\": \"white\", \"minorgridcolor\": \"white\", \"startlinecolor\": \"#2a3f5f\"}, \"type\": \"carpet\"}], \"choropleth\": [{\"colorbar\": {\"outlinewidth\": 0, \"ticks\": \"\"}, \"type\": \"choropleth\"}], \"contour\": [{\"colorbar\": {\"outlinewidth\": 0, \"ticks\": \"\"}, \"colorscale\": [[0.0, \"#0d0887\"], [0.1111111111111111, \"#46039f\"], [0.2222222222222222, \"#7201a8\"], [0.3333333333333333, \"#9c179e\"], [0.4444444444444444, \"#bd3786\"], [0.5555555555555556, \"#d8576b\"], [0.6666666666666666, \"#ed7953\"], [0.7777777777777778, \"#fb9f3a\"], [0.8888888888888888, \"#fdca26\"], [1.0, \"#f0f921\"]], \"type\": \"contour\"}], \"contourcarpet\": [{\"colorbar\": {\"outlinewidth\": 0, \"ticks\": \"\"}, \"type\": \"contourcarpet\"}], \"heatmap\": [{\"colorbar\": {\"outlinewidth\": 0, \"ticks\": \"\"}, \"colorscale\": [[0.0, \"#0d0887\"], [0.1111111111111111, \"#46039f\"], [0.2222222222222222, \"#7201a8\"], [0.3333333333333333, \"#9c179e\"], [0.4444444444444444, \"#bd3786\"], [0.5555555555555556, \"#d8576b\"], [0.6666666666666666, \"#ed7953\"], [0.7777777777777778, \"#fb9f3a\"], [0.8888888888888888, \"#fdca26\"], [1.0, \"#f0f921\"]], \"type\": \"heatmap\"}], \"heatmapgl\": [{\"colorbar\": {\"outlinewidth\": 0, \"ticks\": \"\"}, \"colorscale\": [[0.0, \"#0d0887\"], [0.1111111111111111, \"#46039f\"], [0.2222222222222222, \"#7201a8\"], [0.3333333333333333, \"#9c179e\"], [0.4444444444444444, \"#bd3786\"], [0.5555555555555556, \"#d8576b\"], [0.6666666666666666, \"#ed7953\"], [0.7777777777777778, \"#fb9f3a\"], [0.8888888888888888, \"#fdca26\"], [1.0, \"#f0f921\"]], \"type\": \"heatmapgl\"}], \"histogram\": [{\"marker\": {\"colorbar\": {\"outlinewidth\": 0, \"ticks\": \"\"}}, \"type\": \"histogram\"}], \"histogram2d\": [{\"colorbar\": {\"outlinewidth\": 0, \"ticks\": \"\"}, \"colorscale\": [[0.0, \"#0d0887\"], [0.1111111111111111, \"#46039f\"], [0.2222222222222222, \"#7201a8\"], [0.3333333333333333, \"#9c179e\"], [0.4444444444444444, \"#bd3786\"], [0.5555555555555556, \"#d8576b\"], [0.6666666666666666, \"#ed7953\"], [0.7777777777777778, \"#fb9f3a\"], [0.8888888888888888, \"#fdca26\"], [1.0, \"#f0f921\"]], \"type\": \"histogram2d\"}], \"histogram2dcontour\": [{\"colorbar\": {\"outlinewidth\": 0, \"ticks\": \"\"}, \"colorscale\": [[0.0, \"#0d0887\"], [0.1111111111111111, \"#46039f\"], [0.2222222222222222, \"#7201a8\"], [0.3333333333333333, \"#9c179e\"], [0.4444444444444444, \"#bd3786\"], [0.5555555555555556, \"#d8576b\"], [0.6666666666666666, \"#ed7953\"], [0.7777777777777778, \"#fb9f3a\"], [0.8888888888888888, \"#fdca26\"], [1.0, \"#f0f921\"]], \"type\": \"histogram2dcontour\"}], \"mesh3d\": [{\"colorbar\": {\"outlinewidth\": 0, \"ticks\": \"\"}, \"type\": \"mesh3d\"}], \"parcoords\": [{\"line\": {\"colorbar\": {\"outlinewidth\": 0, \"ticks\": \"\"}}, \"type\": \"parcoords\"}], \"pie\": [{\"automargin\": true, \"type\": \"pie\"}], \"scatter\": [{\"marker\": {\"colorbar\": {\"outlinewidth\": 0, \"ticks\": \"\"}}, \"type\": \"scatter\"}], \"scatter3d\": [{\"line\": {\"colorbar\": {\"outlinewidth\": 0, \"ticks\": \"\"}}, \"marker\": {\"colorbar\": {\"outlinewidth\": 0, \"ticks\": \"\"}}, \"type\": \"scatter3d\"}], \"scattercarpet\": [{\"marker\": {\"colorbar\": {\"outlinewidth\": 0, \"ticks\": \"\"}}, \"type\": \"scattercarpet\"}], \"scattergeo\": [{\"marker\": {\"colorbar\": {\"outlinewidth\": 0, \"ticks\": \"\"}}, \"type\": \"scattergeo\"}], \"scattergl\": [{\"marker\": {\"colorbar\": {\"outlinewidth\": 0, \"ticks\": \"\"}}, \"type\": \"scattergl\"}], \"scattermapbox\": [{\"marker\": {\"colorbar\": {\"outlinewidth\": 0, \"ticks\": \"\"}}, \"type\": \"scattermapbox\"}], \"scatterpolar\": [{\"marker\": {\"colorbar\": {\"outlinewidth\": 0, \"ticks\": \"\"}}, \"type\": \"scatterpolar\"}], \"scatterpolargl\": [{\"marker\": {\"colorbar\": {\"outlinewidth\": 0, \"ticks\": \"\"}}, \"type\": \"scatterpolargl\"}], \"scatterternary\": [{\"marker\": {\"colorbar\": {\"outlinewidth\": 0, \"ticks\": \"\"}}, \"type\": \"scatterternary\"}], \"surface\": [{\"colorbar\": {\"outlinewidth\": 0, \"ticks\": \"\"}, \"colorscale\": [[0.0, \"#0d0887\"], [0.1111111111111111, \"#46039f\"], [0.2222222222222222, \"#7201a8\"], [0.3333333333333333, \"#9c179e\"], [0.4444444444444444, \"#bd3786\"], [0.5555555555555556, \"#d8576b\"], [0.6666666666666666, \"#ed7953\"], [0.7777777777777778, \"#fb9f3a\"], [0.8888888888888888, \"#fdca26\"], [1.0, \"#f0f921\"]], \"type\": \"surface\"}], \"table\": [{\"cells\": {\"fill\": {\"color\": \"#EBF0F8\"}, \"line\": {\"color\": \"white\"}}, \"header\": {\"fill\": {\"color\": \"#C8D4E3\"}, \"line\": {\"color\": \"white\"}}, \"type\": \"table\"}]}, \"layout\": {\"annotationdefaults\": {\"arrowcolor\": \"#2a3f5f\", \"arrowhead\": 0, \"arrowwidth\": 1}, \"coloraxis\": {\"colorbar\": {\"outlinewidth\": 0, \"ticks\": \"\"}}, \"colorscale\": {\"diverging\": [[0, \"#8e0152\"], [0.1, \"#c51b7d\"], [0.2, \"#de77ae\"], [0.3, \"#f1b6da\"], [0.4, \"#fde0ef\"], [0.5, \"#f7f7f7\"], [0.6, \"#e6f5d0\"], [0.7, \"#b8e186\"], [0.8, \"#7fbc41\"], [0.9, \"#4d9221\"], [1, \"#276419\"]], \"sequential\": [[0.0, \"#0d0887\"], [0.1111111111111111, \"#46039f\"], [0.2222222222222222, \"#7201a8\"], [0.3333333333333333, \"#9c179e\"], [0.4444444444444444, \"#bd3786\"], [0.5555555555555556, \"#d8576b\"], [0.6666666666666666, \"#ed7953\"], [0.7777777777777778, \"#fb9f3a\"], [0.8888888888888888, \"#fdca26\"], [1.0, \"#f0f921\"]], \"sequentialminus\": [[0.0, \"#0d0887\"], [0.1111111111111111, \"#46039f\"], [0.2222222222222222, \"#7201a8\"], [0.3333333333333333, \"#9c179e\"], [0.4444444444444444, \"#bd3786\"], [0.5555555555555556, \"#d8576b\"], [0.6666666666666666, \"#ed7953\"], [0.7777777777777778, \"#fb9f3a\"], [0.8888888888888888, \"#fdca26\"], [1.0, \"#f0f921\"]]}, \"colorway\": [\"#636efa\", \"#EF553B\", \"#00cc96\", \"#ab63fa\", \"#FFA15A\", \"#19d3f3\", \"#FF6692\", \"#B6E880\", \"#FF97FF\", \"#FECB52\"], \"font\": {\"color\": \"#2a3f5f\"}, \"geo\": {\"bgcolor\": \"white\", \"lakecolor\": \"white\", \"landcolor\": \"#E5ECF6\", \"showlakes\": true, \"showland\": true, \"subunitcolor\": \"white\"}, \"hoverlabel\": {\"align\": \"left\"}, \"hovermode\": \"closest\", \"mapbox\": {\"style\": \"light\"}, \"paper_bgcolor\": \"white\", \"plot_bgcolor\": \"#E5ECF6\", \"polar\": {\"angularaxis\": {\"gridcolor\": \"white\", \"linecolor\": \"white\", \"ticks\": \"\"}, \"bgcolor\": \"#E5ECF6\", \"radialaxis\": {\"gridcolor\": \"white\", \"linecolor\": \"white\", \"ticks\": \"\"}}, \"scene\": {\"xaxis\": {\"backgroundcolor\": \"#E5ECF6\", \"gridcolor\": \"white\", \"gridwidth\": 2, \"linecolor\": \"white\", \"showbackground\": true, \"ticks\": \"\", \"zerolinecolor\": \"white\"}, \"yaxis\": {\"backgroundcolor\": \"#E5ECF6\", \"gridcolor\": \"white\", \"gridwidth\": 2, \"linecolor\": \"white\", \"showbackground\": true, \"ticks\": \"\", \"zerolinecolor\": \"white\"}, \"zaxis\": {\"backgroundcolor\": \"#E5ECF6\", \"gridcolor\": \"white\", \"gridwidth\": 2, \"linecolor\": \"white\", \"showbackground\": true, \"ticks\": \"\", \"zerolinecolor\": \"white\"}}, \"shapedefaults\": {\"line\": {\"color\": \"#2a3f5f\"}}, \"ternary\": {\"aaxis\": {\"gridcolor\": \"white\", \"linecolor\": \"white\", \"ticks\": \"\"}, \"baxis\": {\"gridcolor\": \"white\", \"linecolor\": \"white\", \"ticks\": \"\"}, \"bgcolor\": \"#E5ECF6\", \"caxis\": {\"gridcolor\": \"white\", \"linecolor\": \"white\", \"ticks\": \"\"}}, \"title\": {\"x\": 0.05}, \"xaxis\": {\"automargin\": true, \"gridcolor\": \"white\", \"linecolor\": \"white\", \"ticks\": \"\", \"title\": {\"standoff\": 15}, \"zerolinecolor\": \"white\", \"zerolinewidth\": 2}, \"yaxis\": {\"automargin\": true, \"gridcolor\": \"white\", \"linecolor\": \"white\", \"ticks\": \"\", \"title\": {\"standoff\": 15}, \"zerolinecolor\": \"white\", \"zerolinewidth\": 2}}}, \"title\": {\"text\": \"Total Gain by Category\"}, \"xaxis\": {\"anchor\": \"y\", \"domain\": [0.0, 1.0], \"title\": {\"text\": \"total_pct_gain\"}}, \"yaxis\": {\"anchor\": \"x\", \"categoryarray\": [\"Consumer Staples\", \"Bonds\", \"Real Estate\", \"Consumer Discretionary\", \"Technology\", \"Gaming\", \"Semiconductor\", \"Innovation\"], \"categoryorder\": \"array\", \"domain\": [0.0, 1.0], \"title\": {\"text\": \"category\"}}},\n",
       "                        {\"responsive\": true}\n",
       "                    ).then(function(){\n",
       "                            \n",
       "var gd = document.getElementById('16fb35a3-9839-4d1c-8cb9-d2bb94c98ff5');\n",
       "var x = new MutationObserver(function (mutations, observer) {{\n",
       "        var display = window.getComputedStyle(gd).display;\n",
       "        if (!display || display === 'none') {{\n",
       "            console.log([gd, 'removed!']);\n",
       "            Plotly.purge(gd);\n",
       "            observer.disconnect();\n",
       "        }}\n",
       "}});\n",
       "\n",
       "// Listen for the removal of the full notebook cells\n",
       "var notebookContainer = gd.closest('#notebook-container');\n",
       "if (notebookContainer) {{\n",
       "    x.observe(notebookContainer, {childList: true});\n",
       "}}\n",
       "\n",
       "// Listen for the clearing of the current output cell\n",
       "var outputEl = gd.closest('.output');\n",
       "if (outputEl) {{\n",
       "    x.observe(outputEl, {childList: true});\n",
       "}}\n",
       "\n",
       "                        })\n",
       "                };\n",
       "                });\n",
       "            </script>\n",
       "        </div>"
      ]
     },
     "metadata": {},
     "output_type": "display_data"
    }
   ],
   "source": [
    "fig = px.bar(c_composition_stats.sort_values(by='total_pct_gain', ascending=False),\n",
    "             x=\"total_pct_gain\", y=\"category\", \n",
    "             title='Total Gain by Category', \n",
    "             color=\"category\", \n",
    "             text=\"total_pct_gain\",\n",
    "             orientation='h')\n",
    "fig.write_image(\"images/total_gain_by_category.pdf\")\n",
    "fig.show()"
   ]
  },
  {
   "cell_type": "code",
   "execution_count": 24,
   "metadata": {},
   "outputs": [
    {
     "data": {
      "application/vnd.plotly.v1+json": {
       "config": {
        "plotlyServerURL": "https://plot.ly"
       },
       "data": [
        {
         "alignmentgroup": "True",
         "customdata": [
          [
           7
          ]
         ],
         "hovertemplate": "category=%{y}<br>desired_composition_invested_diff=%{text}<br>desired_allocation=%{customdata[0]}<extra></extra>",
         "legendgroup": "Gaming",
         "marker": {
          "color": "#636efa"
         },
         "name": "Gaming",
         "offsetgroup": "Gaming",
         "orientation": "h",
         "showlegend": true,
         "text": [
          -2.4
         ],
         "textposition": "auto",
         "type": "bar",
         "x": [
          -2.4
         ],
         "xaxis": "x",
         "y": [
          "Gaming"
         ],
         "yaxis": "y"
        },
        {
         "alignmentgroup": "True",
         "customdata": [
          [
           4
          ]
         ],
         "hovertemplate": "category=%{y}<br>desired_composition_invested_diff=%{text}<br>desired_allocation=%{customdata[0]}<extra></extra>",
         "legendgroup": "Consumer Staples",
         "marker": {
          "color": "#EF553B"
         },
         "name": "Consumer Staples",
         "offsetgroup": "Consumer Staples",
         "orientation": "h",
         "showlegend": true,
         "text": [
          0.19
         ],
         "textposition": "auto",
         "type": "bar",
         "x": [
          0.19
         ],
         "xaxis": "x",
         "y": [
          "Consumer Staples"
         ],
         "yaxis": "y"
        },
        {
         "alignmentgroup": "True",
         "customdata": [
          [
           7
          ]
         ],
         "hovertemplate": "category=%{y}<br>desired_composition_invested_diff=%{text}<br>desired_allocation=%{customdata[0]}<extra></extra>",
         "legendgroup": "Bonds",
         "marker": {
          "color": "#00cc96"
         },
         "name": "Bonds",
         "offsetgroup": "Bonds",
         "orientation": "h",
         "showlegend": true,
         "text": [
          -0.69
         ],
         "textposition": "auto",
         "type": "bar",
         "x": [
          -0.69
         ],
         "xaxis": "x",
         "y": [
          "Bonds"
         ],
         "yaxis": "y"
        },
        {
         "alignmentgroup": "True",
         "customdata": [
          [
           4
          ]
         ],
         "hovertemplate": "category=%{y}<br>desired_composition_invested_diff=%{text}<br>desired_allocation=%{customdata[0]}<extra></extra>",
         "legendgroup": "Real Estate",
         "marker": {
          "color": "#ab63fa"
         },
         "name": "Real Estate",
         "offsetgroup": "Real Estate",
         "orientation": "h",
         "showlegend": true,
         "text": [
          -1.3
         ],
         "textposition": "auto",
         "type": "bar",
         "x": [
          -1.3
         ],
         "xaxis": "x",
         "y": [
          "Real Estate"
         ],
         "yaxis": "y"
        },
        {
         "alignmentgroup": "True",
         "customdata": [
          [
           4
          ]
         ],
         "hovertemplate": "category=%{y}<br>desired_composition_invested_diff=%{text}<br>desired_allocation=%{customdata[0]}<extra></extra>",
         "legendgroup": "Consumer Discretionary",
         "marker": {
          "color": "#FFA15A"
         },
         "name": "Consumer Discretionary",
         "offsetgroup": "Consumer Discretionary",
         "orientation": "h",
         "showlegend": true,
         "text": [
          -2.9
         ],
         "textposition": "auto",
         "type": "bar",
         "x": [
          -2.9
         ],
         "xaxis": "x",
         "y": [
          "Consumer Discretionary"
         ],
         "yaxis": "y"
        },
        {
         "alignmentgroup": "True",
         "customdata": [
          [
           7
          ]
         ],
         "hovertemplate": "category=%{y}<br>desired_composition_invested_diff=%{text}<br>desired_allocation=%{customdata[0]}<extra></extra>",
         "legendgroup": "Semiconductor",
         "marker": {
          "color": "#19d3f3"
         },
         "name": "Semiconductor",
         "offsetgroup": "Semiconductor",
         "orientation": "h",
         "showlegend": true,
         "text": [
          5.64
         ],
         "textposition": "auto",
         "type": "bar",
         "x": [
          5.64
         ],
         "xaxis": "x",
         "y": [
          "Semiconductor"
         ],
         "yaxis": "y"
        },
        {
         "alignmentgroup": "True",
         "customdata": [
          [
           60
          ]
         ],
         "hovertemplate": "category=%{y}<br>desired_composition_invested_diff=%{text}<br>desired_allocation=%{customdata[0]}<extra></extra>",
         "legendgroup": "Innovation",
         "marker": {
          "color": "#FF6692"
         },
         "name": "Innovation",
         "offsetgroup": "Innovation",
         "orientation": "h",
         "showlegend": true,
         "text": [
          0.44
         ],
         "textposition": "auto",
         "type": "bar",
         "x": [
          0.44
         ],
         "xaxis": "x",
         "y": [
          "Innovation"
         ],
         "yaxis": "y"
        },
        {
         "alignmentgroup": "True",
         "customdata": [
          [
           7
          ]
         ],
         "hovertemplate": "category=%{y}<br>desired_composition_invested_diff=%{text}<br>desired_allocation=%{customdata[0]}<extra></extra>",
         "legendgroup": "Technology",
         "marker": {
          "color": "#B6E880"
         },
         "name": "Technology",
         "offsetgroup": "Technology",
         "orientation": "h",
         "showlegend": true,
         "text": [
          1.03
         ],
         "textposition": "auto",
         "type": "bar",
         "x": [
          1.03
         ],
         "xaxis": "x",
         "y": [
          "Technology"
         ],
         "yaxis": "y"
        }
       ],
       "layout": {
        "barmode": "relative",
        "legend": {
         "title": {
          "text": "category"
         },
         "tracegroupgap": 0
        },
        "template": {
         "data": {
          "bar": [
           {
            "error_x": {
             "color": "#2a3f5f"
            },
            "error_y": {
             "color": "#2a3f5f"
            },
            "marker": {
             "line": {
              "color": "#E5ECF6",
              "width": 0.5
             }
            },
            "type": "bar"
           }
          ],
          "barpolar": [
           {
            "marker": {
             "line": {
              "color": "#E5ECF6",
              "width": 0.5
             }
            },
            "type": "barpolar"
           }
          ],
          "carpet": [
           {
            "aaxis": {
             "endlinecolor": "#2a3f5f",
             "gridcolor": "white",
             "linecolor": "white",
             "minorgridcolor": "white",
             "startlinecolor": "#2a3f5f"
            },
            "baxis": {
             "endlinecolor": "#2a3f5f",
             "gridcolor": "white",
             "linecolor": "white",
             "minorgridcolor": "white",
             "startlinecolor": "#2a3f5f"
            },
            "type": "carpet"
           }
          ],
          "choropleth": [
           {
            "colorbar": {
             "outlinewidth": 0,
             "ticks": ""
            },
            "type": "choropleth"
           }
          ],
          "contour": [
           {
            "colorbar": {
             "outlinewidth": 0,
             "ticks": ""
            },
            "colorscale": [
             [
              0,
              "#0d0887"
             ],
             [
              0.1111111111111111,
              "#46039f"
             ],
             [
              0.2222222222222222,
              "#7201a8"
             ],
             [
              0.3333333333333333,
              "#9c179e"
             ],
             [
              0.4444444444444444,
              "#bd3786"
             ],
             [
              0.5555555555555556,
              "#d8576b"
             ],
             [
              0.6666666666666666,
              "#ed7953"
             ],
             [
              0.7777777777777778,
              "#fb9f3a"
             ],
             [
              0.8888888888888888,
              "#fdca26"
             ],
             [
              1,
              "#f0f921"
             ]
            ],
            "type": "contour"
           }
          ],
          "contourcarpet": [
           {
            "colorbar": {
             "outlinewidth": 0,
             "ticks": ""
            },
            "type": "contourcarpet"
           }
          ],
          "heatmap": [
           {
            "colorbar": {
             "outlinewidth": 0,
             "ticks": ""
            },
            "colorscale": [
             [
              0,
              "#0d0887"
             ],
             [
              0.1111111111111111,
              "#46039f"
             ],
             [
              0.2222222222222222,
              "#7201a8"
             ],
             [
              0.3333333333333333,
              "#9c179e"
             ],
             [
              0.4444444444444444,
              "#bd3786"
             ],
             [
              0.5555555555555556,
              "#d8576b"
             ],
             [
              0.6666666666666666,
              "#ed7953"
             ],
             [
              0.7777777777777778,
              "#fb9f3a"
             ],
             [
              0.8888888888888888,
              "#fdca26"
             ],
             [
              1,
              "#f0f921"
             ]
            ],
            "type": "heatmap"
           }
          ],
          "heatmapgl": [
           {
            "colorbar": {
             "outlinewidth": 0,
             "ticks": ""
            },
            "colorscale": [
             [
              0,
              "#0d0887"
             ],
             [
              0.1111111111111111,
              "#46039f"
             ],
             [
              0.2222222222222222,
              "#7201a8"
             ],
             [
              0.3333333333333333,
              "#9c179e"
             ],
             [
              0.4444444444444444,
              "#bd3786"
             ],
             [
              0.5555555555555556,
              "#d8576b"
             ],
             [
              0.6666666666666666,
              "#ed7953"
             ],
             [
              0.7777777777777778,
              "#fb9f3a"
             ],
             [
              0.8888888888888888,
              "#fdca26"
             ],
             [
              1,
              "#f0f921"
             ]
            ],
            "type": "heatmapgl"
           }
          ],
          "histogram": [
           {
            "marker": {
             "colorbar": {
              "outlinewidth": 0,
              "ticks": ""
             }
            },
            "type": "histogram"
           }
          ],
          "histogram2d": [
           {
            "colorbar": {
             "outlinewidth": 0,
             "ticks": ""
            },
            "colorscale": [
             [
              0,
              "#0d0887"
             ],
             [
              0.1111111111111111,
              "#46039f"
             ],
             [
              0.2222222222222222,
              "#7201a8"
             ],
             [
              0.3333333333333333,
              "#9c179e"
             ],
             [
              0.4444444444444444,
              "#bd3786"
             ],
             [
              0.5555555555555556,
              "#d8576b"
             ],
             [
              0.6666666666666666,
              "#ed7953"
             ],
             [
              0.7777777777777778,
              "#fb9f3a"
             ],
             [
              0.8888888888888888,
              "#fdca26"
             ],
             [
              1,
              "#f0f921"
             ]
            ],
            "type": "histogram2d"
           }
          ],
          "histogram2dcontour": [
           {
            "colorbar": {
             "outlinewidth": 0,
             "ticks": ""
            },
            "colorscale": [
             [
              0,
              "#0d0887"
             ],
             [
              0.1111111111111111,
              "#46039f"
             ],
             [
              0.2222222222222222,
              "#7201a8"
             ],
             [
              0.3333333333333333,
              "#9c179e"
             ],
             [
              0.4444444444444444,
              "#bd3786"
             ],
             [
              0.5555555555555556,
              "#d8576b"
             ],
             [
              0.6666666666666666,
              "#ed7953"
             ],
             [
              0.7777777777777778,
              "#fb9f3a"
             ],
             [
              0.8888888888888888,
              "#fdca26"
             ],
             [
              1,
              "#f0f921"
             ]
            ],
            "type": "histogram2dcontour"
           }
          ],
          "mesh3d": [
           {
            "colorbar": {
             "outlinewidth": 0,
             "ticks": ""
            },
            "type": "mesh3d"
           }
          ],
          "parcoords": [
           {
            "line": {
             "colorbar": {
              "outlinewidth": 0,
              "ticks": ""
             }
            },
            "type": "parcoords"
           }
          ],
          "pie": [
           {
            "automargin": true,
            "type": "pie"
           }
          ],
          "scatter": [
           {
            "marker": {
             "colorbar": {
              "outlinewidth": 0,
              "ticks": ""
             }
            },
            "type": "scatter"
           }
          ],
          "scatter3d": [
           {
            "line": {
             "colorbar": {
              "outlinewidth": 0,
              "ticks": ""
             }
            },
            "marker": {
             "colorbar": {
              "outlinewidth": 0,
              "ticks": ""
             }
            },
            "type": "scatter3d"
           }
          ],
          "scattercarpet": [
           {
            "marker": {
             "colorbar": {
              "outlinewidth": 0,
              "ticks": ""
             }
            },
            "type": "scattercarpet"
           }
          ],
          "scattergeo": [
           {
            "marker": {
             "colorbar": {
              "outlinewidth": 0,
              "ticks": ""
             }
            },
            "type": "scattergeo"
           }
          ],
          "scattergl": [
           {
            "marker": {
             "colorbar": {
              "outlinewidth": 0,
              "ticks": ""
             }
            },
            "type": "scattergl"
           }
          ],
          "scattermapbox": [
           {
            "marker": {
             "colorbar": {
              "outlinewidth": 0,
              "ticks": ""
             }
            },
            "type": "scattermapbox"
           }
          ],
          "scatterpolar": [
           {
            "marker": {
             "colorbar": {
              "outlinewidth": 0,
              "ticks": ""
             }
            },
            "type": "scatterpolar"
           }
          ],
          "scatterpolargl": [
           {
            "marker": {
             "colorbar": {
              "outlinewidth": 0,
              "ticks": ""
             }
            },
            "type": "scatterpolargl"
           }
          ],
          "scatterternary": [
           {
            "marker": {
             "colorbar": {
              "outlinewidth": 0,
              "ticks": ""
             }
            },
            "type": "scatterternary"
           }
          ],
          "surface": [
           {
            "colorbar": {
             "outlinewidth": 0,
             "ticks": ""
            },
            "colorscale": [
             [
              0,
              "#0d0887"
             ],
             [
              0.1111111111111111,
              "#46039f"
             ],
             [
              0.2222222222222222,
              "#7201a8"
             ],
             [
              0.3333333333333333,
              "#9c179e"
             ],
             [
              0.4444444444444444,
              "#bd3786"
             ],
             [
              0.5555555555555556,
              "#d8576b"
             ],
             [
              0.6666666666666666,
              "#ed7953"
             ],
             [
              0.7777777777777778,
              "#fb9f3a"
             ],
             [
              0.8888888888888888,
              "#fdca26"
             ],
             [
              1,
              "#f0f921"
             ]
            ],
            "type": "surface"
           }
          ],
          "table": [
           {
            "cells": {
             "fill": {
              "color": "#EBF0F8"
             },
             "line": {
              "color": "white"
             }
            },
            "header": {
             "fill": {
              "color": "#C8D4E3"
             },
             "line": {
              "color": "white"
             }
            },
            "type": "table"
           }
          ]
         },
         "layout": {
          "annotationdefaults": {
           "arrowcolor": "#2a3f5f",
           "arrowhead": 0,
           "arrowwidth": 1
          },
          "coloraxis": {
           "colorbar": {
            "outlinewidth": 0,
            "ticks": ""
           }
          },
          "colorscale": {
           "diverging": [
            [
             0,
             "#8e0152"
            ],
            [
             0.1,
             "#c51b7d"
            ],
            [
             0.2,
             "#de77ae"
            ],
            [
             0.3,
             "#f1b6da"
            ],
            [
             0.4,
             "#fde0ef"
            ],
            [
             0.5,
             "#f7f7f7"
            ],
            [
             0.6,
             "#e6f5d0"
            ],
            [
             0.7,
             "#b8e186"
            ],
            [
             0.8,
             "#7fbc41"
            ],
            [
             0.9,
             "#4d9221"
            ],
            [
             1,
             "#276419"
            ]
           ],
           "sequential": [
            [
             0,
             "#0d0887"
            ],
            [
             0.1111111111111111,
             "#46039f"
            ],
            [
             0.2222222222222222,
             "#7201a8"
            ],
            [
             0.3333333333333333,
             "#9c179e"
            ],
            [
             0.4444444444444444,
             "#bd3786"
            ],
            [
             0.5555555555555556,
             "#d8576b"
            ],
            [
             0.6666666666666666,
             "#ed7953"
            ],
            [
             0.7777777777777778,
             "#fb9f3a"
            ],
            [
             0.8888888888888888,
             "#fdca26"
            ],
            [
             1,
             "#f0f921"
            ]
           ],
           "sequentialminus": [
            [
             0,
             "#0d0887"
            ],
            [
             0.1111111111111111,
             "#46039f"
            ],
            [
             0.2222222222222222,
             "#7201a8"
            ],
            [
             0.3333333333333333,
             "#9c179e"
            ],
            [
             0.4444444444444444,
             "#bd3786"
            ],
            [
             0.5555555555555556,
             "#d8576b"
            ],
            [
             0.6666666666666666,
             "#ed7953"
            ],
            [
             0.7777777777777778,
             "#fb9f3a"
            ],
            [
             0.8888888888888888,
             "#fdca26"
            ],
            [
             1,
             "#f0f921"
            ]
           ]
          },
          "colorway": [
           "#636efa",
           "#EF553B",
           "#00cc96",
           "#ab63fa",
           "#FFA15A",
           "#19d3f3",
           "#FF6692",
           "#B6E880",
           "#FF97FF",
           "#FECB52"
          ],
          "font": {
           "color": "#2a3f5f"
          },
          "geo": {
           "bgcolor": "white",
           "lakecolor": "white",
           "landcolor": "#E5ECF6",
           "showlakes": true,
           "showland": true,
           "subunitcolor": "white"
          },
          "hoverlabel": {
           "align": "left"
          },
          "hovermode": "closest",
          "mapbox": {
           "style": "light"
          },
          "paper_bgcolor": "white",
          "plot_bgcolor": "#E5ECF6",
          "polar": {
           "angularaxis": {
            "gridcolor": "white",
            "linecolor": "white",
            "ticks": ""
           },
           "bgcolor": "#E5ECF6",
           "radialaxis": {
            "gridcolor": "white",
            "linecolor": "white",
            "ticks": ""
           }
          },
          "scene": {
           "xaxis": {
            "backgroundcolor": "#E5ECF6",
            "gridcolor": "white",
            "gridwidth": 2,
            "linecolor": "white",
            "showbackground": true,
            "ticks": "",
            "zerolinecolor": "white"
           },
           "yaxis": {
            "backgroundcolor": "#E5ECF6",
            "gridcolor": "white",
            "gridwidth": 2,
            "linecolor": "white",
            "showbackground": true,
            "ticks": "",
            "zerolinecolor": "white"
           },
           "zaxis": {
            "backgroundcolor": "#E5ECF6",
            "gridcolor": "white",
            "gridwidth": 2,
            "linecolor": "white",
            "showbackground": true,
            "ticks": "",
            "zerolinecolor": "white"
           }
          },
          "shapedefaults": {
           "line": {
            "color": "#2a3f5f"
           }
          },
          "ternary": {
           "aaxis": {
            "gridcolor": "white",
            "linecolor": "white",
            "ticks": ""
           },
           "baxis": {
            "gridcolor": "white",
            "linecolor": "white",
            "ticks": ""
           },
           "bgcolor": "#E5ECF6",
           "caxis": {
            "gridcolor": "white",
            "linecolor": "white",
            "ticks": ""
           }
          },
          "title": {
           "x": 0.05
          },
          "xaxis": {
           "automargin": true,
           "gridcolor": "white",
           "linecolor": "white",
           "ticks": "",
           "title": {
            "standoff": 15
           },
           "zerolinecolor": "white",
           "zerolinewidth": 2
          },
          "yaxis": {
           "automargin": true,
           "gridcolor": "white",
           "linecolor": "white",
           "ticks": "",
           "title": {
            "standoff": 15
           },
           "zerolinecolor": "white",
           "zerolinewidth": 2
          }
         }
        },
        "title": {
         "text": "Allocation Difference"
        },
        "xaxis": {
         "anchor": "y",
         "domain": [
          0,
          1
         ],
         "title": {
          "text": "desired_composition_invested_diff"
         }
        },
        "yaxis": {
         "anchor": "x",
         "categoryarray": [
          "Technology",
          "Innovation",
          "Semiconductor",
          "Consumer Discretionary",
          "Real Estate",
          "Bonds",
          "Consumer Staples",
          "Gaming"
         ],
         "categoryorder": "array",
         "domain": [
          0,
          1
         ],
         "title": {
          "text": "category"
         }
        }
       }
      },
      "text/html": [
       "<div>\n",
       "        \n",
       "        \n",
       "            <div id=\"30cb999a-c8a6-421e-b153-6a9cbc931162\" class=\"plotly-graph-div\" style=\"height:525px; width:100%;\"></div>\n",
       "            <script type=\"text/javascript\">\n",
       "                require([\"plotly\"], function(Plotly) {\n",
       "                    window.PLOTLYENV=window.PLOTLYENV || {};\n",
       "                    \n",
       "                if (document.getElementById(\"30cb999a-c8a6-421e-b153-6a9cbc931162\")) {\n",
       "                    Plotly.newPlot(\n",
       "                        '30cb999a-c8a6-421e-b153-6a9cbc931162',\n",
       "                        [{\"alignmentgroup\": \"True\", \"customdata\": [[7.0]], \"hovertemplate\": \"category=%{y}<br>desired_composition_invested_diff=%{text}<br>desired_allocation=%{customdata[0]}<extra></extra>\", \"legendgroup\": \"Gaming\", \"marker\": {\"color\": \"#636efa\"}, \"name\": \"Gaming\", \"offsetgroup\": \"Gaming\", \"orientation\": \"h\", \"showlegend\": true, \"text\": [-2.4], \"textposition\": \"auto\", \"type\": \"bar\", \"x\": [-2.4], \"xaxis\": \"x\", \"y\": [\"Gaming\"], \"yaxis\": \"y\"}, {\"alignmentgroup\": \"True\", \"customdata\": [[4.0]], \"hovertemplate\": \"category=%{y}<br>desired_composition_invested_diff=%{text}<br>desired_allocation=%{customdata[0]}<extra></extra>\", \"legendgroup\": \"Consumer Staples\", \"marker\": {\"color\": \"#EF553B\"}, \"name\": \"Consumer Staples\", \"offsetgroup\": \"Consumer Staples\", \"orientation\": \"h\", \"showlegend\": true, \"text\": [0.19], \"textposition\": \"auto\", \"type\": \"bar\", \"x\": [0.19], \"xaxis\": \"x\", \"y\": [\"Consumer Staples\"], \"yaxis\": \"y\"}, {\"alignmentgroup\": \"True\", \"customdata\": [[7.0]], \"hovertemplate\": \"category=%{y}<br>desired_composition_invested_diff=%{text}<br>desired_allocation=%{customdata[0]}<extra></extra>\", \"legendgroup\": \"Bonds\", \"marker\": {\"color\": \"#00cc96\"}, \"name\": \"Bonds\", \"offsetgroup\": \"Bonds\", \"orientation\": \"h\", \"showlegend\": true, \"text\": [-0.69], \"textposition\": \"auto\", \"type\": \"bar\", \"x\": [-0.69], \"xaxis\": \"x\", \"y\": [\"Bonds\"], \"yaxis\": \"y\"}, {\"alignmentgroup\": \"True\", \"customdata\": [[4.0]], \"hovertemplate\": \"category=%{y}<br>desired_composition_invested_diff=%{text}<br>desired_allocation=%{customdata[0]}<extra></extra>\", \"legendgroup\": \"Real Estate\", \"marker\": {\"color\": \"#ab63fa\"}, \"name\": \"Real Estate\", \"offsetgroup\": \"Real Estate\", \"orientation\": \"h\", \"showlegend\": true, \"text\": [-1.3], \"textposition\": \"auto\", \"type\": \"bar\", \"x\": [-1.3], \"xaxis\": \"x\", \"y\": [\"Real Estate\"], \"yaxis\": \"y\"}, {\"alignmentgroup\": \"True\", \"customdata\": [[4.0]], \"hovertemplate\": \"category=%{y}<br>desired_composition_invested_diff=%{text}<br>desired_allocation=%{customdata[0]}<extra></extra>\", \"legendgroup\": \"Consumer Discretionary\", \"marker\": {\"color\": \"#FFA15A\"}, \"name\": \"Consumer Discretionary\", \"offsetgroup\": \"Consumer Discretionary\", \"orientation\": \"h\", \"showlegend\": true, \"text\": [-2.9], \"textposition\": \"auto\", \"type\": \"bar\", \"x\": [-2.9], \"xaxis\": \"x\", \"y\": [\"Consumer Discretionary\"], \"yaxis\": \"y\"}, {\"alignmentgroup\": \"True\", \"customdata\": [[7.0]], \"hovertemplate\": \"category=%{y}<br>desired_composition_invested_diff=%{text}<br>desired_allocation=%{customdata[0]}<extra></extra>\", \"legendgroup\": \"Semiconductor\", \"marker\": {\"color\": \"#19d3f3\"}, \"name\": \"Semiconductor\", \"offsetgroup\": \"Semiconductor\", \"orientation\": \"h\", \"showlegend\": true, \"text\": [5.64], \"textposition\": \"auto\", \"type\": \"bar\", \"x\": [5.64], \"xaxis\": \"x\", \"y\": [\"Semiconductor\"], \"yaxis\": \"y\"}, {\"alignmentgroup\": \"True\", \"customdata\": [[60.0]], \"hovertemplate\": \"category=%{y}<br>desired_composition_invested_diff=%{text}<br>desired_allocation=%{customdata[0]}<extra></extra>\", \"legendgroup\": \"Innovation\", \"marker\": {\"color\": \"#FF6692\"}, \"name\": \"Innovation\", \"offsetgroup\": \"Innovation\", \"orientation\": \"h\", \"showlegend\": true, \"text\": [0.44], \"textposition\": \"auto\", \"type\": \"bar\", \"x\": [0.44], \"xaxis\": \"x\", \"y\": [\"Innovation\"], \"yaxis\": \"y\"}, {\"alignmentgroup\": \"True\", \"customdata\": [[7.0]], \"hovertemplate\": \"category=%{y}<br>desired_composition_invested_diff=%{text}<br>desired_allocation=%{customdata[0]}<extra></extra>\", \"legendgroup\": \"Technology\", \"marker\": {\"color\": \"#B6E880\"}, \"name\": \"Technology\", \"offsetgroup\": \"Technology\", \"orientation\": \"h\", \"showlegend\": true, \"text\": [1.03], \"textposition\": \"auto\", \"type\": \"bar\", \"x\": [1.03], \"xaxis\": \"x\", \"y\": [\"Technology\"], \"yaxis\": \"y\"}],\n",
       "                        {\"barmode\": \"relative\", \"legend\": {\"title\": {\"text\": \"category\"}, \"tracegroupgap\": 0}, \"template\": {\"data\": {\"bar\": [{\"error_x\": {\"color\": \"#2a3f5f\"}, \"error_y\": {\"color\": \"#2a3f5f\"}, \"marker\": {\"line\": {\"color\": \"#E5ECF6\", \"width\": 0.5}}, \"type\": \"bar\"}], \"barpolar\": [{\"marker\": {\"line\": {\"color\": \"#E5ECF6\", \"width\": 0.5}}, \"type\": \"barpolar\"}], \"carpet\": [{\"aaxis\": {\"endlinecolor\": \"#2a3f5f\", \"gridcolor\": \"white\", \"linecolor\": \"white\", \"minorgridcolor\": \"white\", \"startlinecolor\": \"#2a3f5f\"}, \"baxis\": {\"endlinecolor\": \"#2a3f5f\", \"gridcolor\": \"white\", \"linecolor\": \"white\", \"minorgridcolor\": \"white\", \"startlinecolor\": \"#2a3f5f\"}, \"type\": \"carpet\"}], \"choropleth\": [{\"colorbar\": {\"outlinewidth\": 0, \"ticks\": \"\"}, \"type\": \"choropleth\"}], \"contour\": [{\"colorbar\": {\"outlinewidth\": 0, \"ticks\": \"\"}, \"colorscale\": [[0.0, \"#0d0887\"], [0.1111111111111111, \"#46039f\"], [0.2222222222222222, \"#7201a8\"], [0.3333333333333333, \"#9c179e\"], [0.4444444444444444, \"#bd3786\"], [0.5555555555555556, \"#d8576b\"], [0.6666666666666666, \"#ed7953\"], [0.7777777777777778, \"#fb9f3a\"], [0.8888888888888888, \"#fdca26\"], [1.0, \"#f0f921\"]], \"type\": \"contour\"}], \"contourcarpet\": [{\"colorbar\": {\"outlinewidth\": 0, \"ticks\": \"\"}, \"type\": \"contourcarpet\"}], \"heatmap\": [{\"colorbar\": {\"outlinewidth\": 0, \"ticks\": \"\"}, \"colorscale\": [[0.0, \"#0d0887\"], [0.1111111111111111, \"#46039f\"], [0.2222222222222222, \"#7201a8\"], [0.3333333333333333, \"#9c179e\"], [0.4444444444444444, \"#bd3786\"], [0.5555555555555556, \"#d8576b\"], [0.6666666666666666, \"#ed7953\"], [0.7777777777777778, \"#fb9f3a\"], [0.8888888888888888, \"#fdca26\"], [1.0, \"#f0f921\"]], \"type\": \"heatmap\"}], \"heatmapgl\": [{\"colorbar\": {\"outlinewidth\": 0, \"ticks\": \"\"}, \"colorscale\": [[0.0, \"#0d0887\"], [0.1111111111111111, \"#46039f\"], [0.2222222222222222, \"#7201a8\"], [0.3333333333333333, \"#9c179e\"], [0.4444444444444444, \"#bd3786\"], [0.5555555555555556, \"#d8576b\"], [0.6666666666666666, \"#ed7953\"], [0.7777777777777778, \"#fb9f3a\"], [0.8888888888888888, \"#fdca26\"], [1.0, \"#f0f921\"]], \"type\": \"heatmapgl\"}], \"histogram\": [{\"marker\": {\"colorbar\": {\"outlinewidth\": 0, \"ticks\": \"\"}}, \"type\": \"histogram\"}], \"histogram2d\": [{\"colorbar\": {\"outlinewidth\": 0, \"ticks\": \"\"}, \"colorscale\": [[0.0, \"#0d0887\"], [0.1111111111111111, \"#46039f\"], [0.2222222222222222, \"#7201a8\"], [0.3333333333333333, \"#9c179e\"], [0.4444444444444444, \"#bd3786\"], [0.5555555555555556, \"#d8576b\"], [0.6666666666666666, \"#ed7953\"], [0.7777777777777778, \"#fb9f3a\"], [0.8888888888888888, \"#fdca26\"], [1.0, \"#f0f921\"]], \"type\": \"histogram2d\"}], \"histogram2dcontour\": [{\"colorbar\": {\"outlinewidth\": 0, \"ticks\": \"\"}, \"colorscale\": [[0.0, \"#0d0887\"], [0.1111111111111111, \"#46039f\"], [0.2222222222222222, \"#7201a8\"], [0.3333333333333333, \"#9c179e\"], [0.4444444444444444, \"#bd3786\"], [0.5555555555555556, \"#d8576b\"], [0.6666666666666666, \"#ed7953\"], [0.7777777777777778, \"#fb9f3a\"], [0.8888888888888888, \"#fdca26\"], [1.0, \"#f0f921\"]], \"type\": \"histogram2dcontour\"}], \"mesh3d\": [{\"colorbar\": {\"outlinewidth\": 0, \"ticks\": \"\"}, \"type\": \"mesh3d\"}], \"parcoords\": [{\"line\": {\"colorbar\": {\"outlinewidth\": 0, \"ticks\": \"\"}}, \"type\": \"parcoords\"}], \"pie\": [{\"automargin\": true, \"type\": \"pie\"}], \"scatter\": [{\"marker\": {\"colorbar\": {\"outlinewidth\": 0, \"ticks\": \"\"}}, \"type\": \"scatter\"}], \"scatter3d\": [{\"line\": {\"colorbar\": {\"outlinewidth\": 0, \"ticks\": \"\"}}, \"marker\": {\"colorbar\": {\"outlinewidth\": 0, \"ticks\": \"\"}}, \"type\": \"scatter3d\"}], \"scattercarpet\": [{\"marker\": {\"colorbar\": {\"outlinewidth\": 0, \"ticks\": \"\"}}, \"type\": \"scattercarpet\"}], \"scattergeo\": [{\"marker\": {\"colorbar\": {\"outlinewidth\": 0, \"ticks\": \"\"}}, \"type\": \"scattergeo\"}], \"scattergl\": [{\"marker\": {\"colorbar\": {\"outlinewidth\": 0, \"ticks\": \"\"}}, \"type\": \"scattergl\"}], \"scattermapbox\": [{\"marker\": {\"colorbar\": {\"outlinewidth\": 0, \"ticks\": \"\"}}, \"type\": \"scattermapbox\"}], \"scatterpolar\": [{\"marker\": {\"colorbar\": {\"outlinewidth\": 0, \"ticks\": \"\"}}, \"type\": \"scatterpolar\"}], \"scatterpolargl\": [{\"marker\": {\"colorbar\": {\"outlinewidth\": 0, \"ticks\": \"\"}}, \"type\": \"scatterpolargl\"}], \"scatterternary\": [{\"marker\": {\"colorbar\": {\"outlinewidth\": 0, \"ticks\": \"\"}}, \"type\": \"scatterternary\"}], \"surface\": [{\"colorbar\": {\"outlinewidth\": 0, \"ticks\": \"\"}, \"colorscale\": [[0.0, \"#0d0887\"], [0.1111111111111111, \"#46039f\"], [0.2222222222222222, \"#7201a8\"], [0.3333333333333333, \"#9c179e\"], [0.4444444444444444, \"#bd3786\"], [0.5555555555555556, \"#d8576b\"], [0.6666666666666666, \"#ed7953\"], [0.7777777777777778, \"#fb9f3a\"], [0.8888888888888888, \"#fdca26\"], [1.0, \"#f0f921\"]], \"type\": \"surface\"}], \"table\": [{\"cells\": {\"fill\": {\"color\": \"#EBF0F8\"}, \"line\": {\"color\": \"white\"}}, \"header\": {\"fill\": {\"color\": \"#C8D4E3\"}, \"line\": {\"color\": \"white\"}}, \"type\": \"table\"}]}, \"layout\": {\"annotationdefaults\": {\"arrowcolor\": \"#2a3f5f\", \"arrowhead\": 0, \"arrowwidth\": 1}, \"coloraxis\": {\"colorbar\": {\"outlinewidth\": 0, \"ticks\": \"\"}}, \"colorscale\": {\"diverging\": [[0, \"#8e0152\"], [0.1, \"#c51b7d\"], [0.2, \"#de77ae\"], [0.3, \"#f1b6da\"], [0.4, \"#fde0ef\"], [0.5, \"#f7f7f7\"], [0.6, \"#e6f5d0\"], [0.7, \"#b8e186\"], [0.8, \"#7fbc41\"], [0.9, \"#4d9221\"], [1, \"#276419\"]], \"sequential\": [[0.0, \"#0d0887\"], [0.1111111111111111, \"#46039f\"], [0.2222222222222222, \"#7201a8\"], [0.3333333333333333, \"#9c179e\"], [0.4444444444444444, \"#bd3786\"], [0.5555555555555556, \"#d8576b\"], [0.6666666666666666, \"#ed7953\"], [0.7777777777777778, \"#fb9f3a\"], [0.8888888888888888, \"#fdca26\"], [1.0, \"#f0f921\"]], \"sequentialminus\": [[0.0, \"#0d0887\"], [0.1111111111111111, \"#46039f\"], [0.2222222222222222, \"#7201a8\"], [0.3333333333333333, \"#9c179e\"], [0.4444444444444444, \"#bd3786\"], [0.5555555555555556, \"#d8576b\"], [0.6666666666666666, \"#ed7953\"], [0.7777777777777778, \"#fb9f3a\"], [0.8888888888888888, \"#fdca26\"], [1.0, \"#f0f921\"]]}, \"colorway\": [\"#636efa\", \"#EF553B\", \"#00cc96\", \"#ab63fa\", \"#FFA15A\", \"#19d3f3\", \"#FF6692\", \"#B6E880\", \"#FF97FF\", \"#FECB52\"], \"font\": {\"color\": \"#2a3f5f\"}, \"geo\": {\"bgcolor\": \"white\", \"lakecolor\": \"white\", \"landcolor\": \"#E5ECF6\", \"showlakes\": true, \"showland\": true, \"subunitcolor\": \"white\"}, \"hoverlabel\": {\"align\": \"left\"}, \"hovermode\": \"closest\", \"mapbox\": {\"style\": \"light\"}, \"paper_bgcolor\": \"white\", \"plot_bgcolor\": \"#E5ECF6\", \"polar\": {\"angularaxis\": {\"gridcolor\": \"white\", \"linecolor\": \"white\", \"ticks\": \"\"}, \"bgcolor\": \"#E5ECF6\", \"radialaxis\": {\"gridcolor\": \"white\", \"linecolor\": \"white\", \"ticks\": \"\"}}, \"scene\": {\"xaxis\": {\"backgroundcolor\": \"#E5ECF6\", \"gridcolor\": \"white\", \"gridwidth\": 2, \"linecolor\": \"white\", \"showbackground\": true, \"ticks\": \"\", \"zerolinecolor\": \"white\"}, \"yaxis\": {\"backgroundcolor\": \"#E5ECF6\", \"gridcolor\": \"white\", \"gridwidth\": 2, \"linecolor\": \"white\", \"showbackground\": true, \"ticks\": \"\", \"zerolinecolor\": \"white\"}, \"zaxis\": {\"backgroundcolor\": \"#E5ECF6\", \"gridcolor\": \"white\", \"gridwidth\": 2, \"linecolor\": \"white\", \"showbackground\": true, \"ticks\": \"\", \"zerolinecolor\": \"white\"}}, \"shapedefaults\": {\"line\": {\"color\": \"#2a3f5f\"}}, \"ternary\": {\"aaxis\": {\"gridcolor\": \"white\", \"linecolor\": \"white\", \"ticks\": \"\"}, \"baxis\": {\"gridcolor\": \"white\", \"linecolor\": \"white\", \"ticks\": \"\"}, \"bgcolor\": \"#E5ECF6\", \"caxis\": {\"gridcolor\": \"white\", \"linecolor\": \"white\", \"ticks\": \"\"}}, \"title\": {\"x\": 0.05}, \"xaxis\": {\"automargin\": true, \"gridcolor\": \"white\", \"linecolor\": \"white\", \"ticks\": \"\", \"title\": {\"standoff\": 15}, \"zerolinecolor\": \"white\", \"zerolinewidth\": 2}, \"yaxis\": {\"automargin\": true, \"gridcolor\": \"white\", \"linecolor\": \"white\", \"ticks\": \"\", \"title\": {\"standoff\": 15}, \"zerolinecolor\": \"white\", \"zerolinewidth\": 2}}}, \"title\": {\"text\": \"Allocation Difference\"}, \"xaxis\": {\"anchor\": \"y\", \"domain\": [0.0, 1.0], \"title\": {\"text\": \"desired_composition_invested_diff\"}}, \"yaxis\": {\"anchor\": \"x\", \"categoryarray\": [\"Technology\", \"Innovation\", \"Semiconductor\", \"Consumer Discretionary\", \"Real Estate\", \"Bonds\", \"Consumer Staples\", \"Gaming\"], \"categoryorder\": \"array\", \"domain\": [0.0, 1.0], \"title\": {\"text\": \"category\"}}},\n",
       "                        {\"responsive\": true}\n",
       "                    ).then(function(){\n",
       "                            \n",
       "var gd = document.getElementById('30cb999a-c8a6-421e-b153-6a9cbc931162');\n",
       "var x = new MutationObserver(function (mutations, observer) {{\n",
       "        var display = window.getComputedStyle(gd).display;\n",
       "        if (!display || display === 'none') {{\n",
       "            console.log([gd, 'removed!']);\n",
       "            Plotly.purge(gd);\n",
       "            observer.disconnect();\n",
       "        }}\n",
       "}});\n",
       "\n",
       "// Listen for the removal of the full notebook cells\n",
       "var notebookContainer = gd.closest('#notebook-container');\n",
       "if (notebookContainer) {{\n",
       "    x.observe(notebookContainer, {childList: true});\n",
       "}}\n",
       "\n",
       "// Listen for the clearing of the current output cell\n",
       "var outputEl = gd.closest('.output');\n",
       "if (outputEl) {{\n",
       "    x.observe(outputEl, {childList: true});\n",
       "}}\n",
       "\n",
       "                        })\n",
       "                };\n",
       "                });\n",
       "            </script>\n",
       "        </div>"
      ]
     },
     "metadata": {},
     "output_type": "display_data"
    }
   ],
   "source": [
    "fig = px.bar(c_composition_stats, \n",
    "             x=\"desired_composition_invested_diff\", y=\"category\", \n",
    "             title='Allocation Difference', \n",
    "             color=\"category\", \n",
    "             text=\"desired_composition_invested_diff\", \n",
    "             hover_data=['desired_allocation'],\n",
    "             orientation='h')\n",
    "fig.write_image(\"images/allocation_difference.pdf\")\n",
    "fig.show()"
   ]
  },
  {
   "cell_type": "code",
   "execution_count": 25,
   "metadata": {},
   "outputs": [
    {
     "data": {
      "application/vnd.plotly.v1+json": {
       "config": {
        "plotlyServerURL": "https://plot.ly"
       },
       "data": [
        {
         "alignmentgroup": "True",
         "hovertemplate": "category=%{y}<br>desired_allocation=%{text}<extra></extra>",
         "legendgroup": "Innovation",
         "marker": {
          "color": "#636efa"
         },
         "name": "Innovation",
         "offsetgroup": "Innovation",
         "orientation": "h",
         "showlegend": true,
         "text": [
          60
         ],
         "textposition": "auto",
         "type": "bar",
         "x": [
          60
         ],
         "xaxis": "x",
         "y": [
          "Innovation"
         ],
         "yaxis": "y"
        },
        {
         "alignmentgroup": "True",
         "hovertemplate": "category=%{y}<br>desired_allocation=%{text}<extra></extra>",
         "legendgroup": "Gaming",
         "marker": {
          "color": "#EF553B"
         },
         "name": "Gaming",
         "offsetgroup": "Gaming",
         "orientation": "h",
         "showlegend": true,
         "text": [
          7
         ],
         "textposition": "auto",
         "type": "bar",
         "x": [
          7
         ],
         "xaxis": "x",
         "y": [
          "Gaming"
         ],
         "yaxis": "y"
        },
        {
         "alignmentgroup": "True",
         "hovertemplate": "category=%{y}<br>desired_allocation=%{text}<extra></extra>",
         "legendgroup": "Bonds",
         "marker": {
          "color": "#00cc96"
         },
         "name": "Bonds",
         "offsetgroup": "Bonds",
         "orientation": "h",
         "showlegend": true,
         "text": [
          7
         ],
         "textposition": "auto",
         "type": "bar",
         "x": [
          7
         ],
         "xaxis": "x",
         "y": [
          "Bonds"
         ],
         "yaxis": "y"
        },
        {
         "alignmentgroup": "True",
         "hovertemplate": "category=%{y}<br>desired_allocation=%{text}<extra></extra>",
         "legendgroup": "Semiconductor",
         "marker": {
          "color": "#ab63fa"
         },
         "name": "Semiconductor",
         "offsetgroup": "Semiconductor",
         "orientation": "h",
         "showlegend": true,
         "text": [
          7
         ],
         "textposition": "auto",
         "type": "bar",
         "x": [
          7
         ],
         "xaxis": "x",
         "y": [
          "Semiconductor"
         ],
         "yaxis": "y"
        },
        {
         "alignmentgroup": "True",
         "hovertemplate": "category=%{y}<br>desired_allocation=%{text}<extra></extra>",
         "legendgroup": "Technology",
         "marker": {
          "color": "#FFA15A"
         },
         "name": "Technology",
         "offsetgroup": "Technology",
         "orientation": "h",
         "showlegend": true,
         "text": [
          7
         ],
         "textposition": "auto",
         "type": "bar",
         "x": [
          7
         ],
         "xaxis": "x",
         "y": [
          "Technology"
         ],
         "yaxis": "y"
        },
        {
         "alignmentgroup": "True",
         "hovertemplate": "category=%{y}<br>desired_allocation=%{text}<extra></extra>",
         "legendgroup": "Consumer Staples",
         "marker": {
          "color": "#19d3f3"
         },
         "name": "Consumer Staples",
         "offsetgroup": "Consumer Staples",
         "orientation": "h",
         "showlegend": true,
         "text": [
          4
         ],
         "textposition": "auto",
         "type": "bar",
         "x": [
          4
         ],
         "xaxis": "x",
         "y": [
          "Consumer Staples"
         ],
         "yaxis": "y"
        },
        {
         "alignmentgroup": "True",
         "hovertemplate": "category=%{y}<br>desired_allocation=%{text}<extra></extra>",
         "legendgroup": "Real Estate",
         "marker": {
          "color": "#FF6692"
         },
         "name": "Real Estate",
         "offsetgroup": "Real Estate",
         "orientation": "h",
         "showlegend": true,
         "text": [
          4
         ],
         "textposition": "auto",
         "type": "bar",
         "x": [
          4
         ],
         "xaxis": "x",
         "y": [
          "Real Estate"
         ],
         "yaxis": "y"
        },
        {
         "alignmentgroup": "True",
         "hovertemplate": "category=%{y}<br>desired_allocation=%{text}<extra></extra>",
         "legendgroup": "Consumer Discretionary",
         "marker": {
          "color": "#B6E880"
         },
         "name": "Consumer Discretionary",
         "offsetgroup": "Consumer Discretionary",
         "orientation": "h",
         "showlegend": true,
         "text": [
          4
         ],
         "textposition": "auto",
         "type": "bar",
         "x": [
          4
         ],
         "xaxis": "x",
         "y": [
          "Consumer Discretionary"
         ],
         "yaxis": "y"
        }
       ],
       "layout": {
        "barmode": "relative",
        "legend": {
         "title": {
          "text": "category"
         },
         "tracegroupgap": 0
        },
        "template": {
         "data": {
          "bar": [
           {
            "error_x": {
             "color": "#2a3f5f"
            },
            "error_y": {
             "color": "#2a3f5f"
            },
            "marker": {
             "line": {
              "color": "#E5ECF6",
              "width": 0.5
             }
            },
            "type": "bar"
           }
          ],
          "barpolar": [
           {
            "marker": {
             "line": {
              "color": "#E5ECF6",
              "width": 0.5
             }
            },
            "type": "barpolar"
           }
          ],
          "carpet": [
           {
            "aaxis": {
             "endlinecolor": "#2a3f5f",
             "gridcolor": "white",
             "linecolor": "white",
             "minorgridcolor": "white",
             "startlinecolor": "#2a3f5f"
            },
            "baxis": {
             "endlinecolor": "#2a3f5f",
             "gridcolor": "white",
             "linecolor": "white",
             "minorgridcolor": "white",
             "startlinecolor": "#2a3f5f"
            },
            "type": "carpet"
           }
          ],
          "choropleth": [
           {
            "colorbar": {
             "outlinewidth": 0,
             "ticks": ""
            },
            "type": "choropleth"
           }
          ],
          "contour": [
           {
            "colorbar": {
             "outlinewidth": 0,
             "ticks": ""
            },
            "colorscale": [
             [
              0,
              "#0d0887"
             ],
             [
              0.1111111111111111,
              "#46039f"
             ],
             [
              0.2222222222222222,
              "#7201a8"
             ],
             [
              0.3333333333333333,
              "#9c179e"
             ],
             [
              0.4444444444444444,
              "#bd3786"
             ],
             [
              0.5555555555555556,
              "#d8576b"
             ],
             [
              0.6666666666666666,
              "#ed7953"
             ],
             [
              0.7777777777777778,
              "#fb9f3a"
             ],
             [
              0.8888888888888888,
              "#fdca26"
             ],
             [
              1,
              "#f0f921"
             ]
            ],
            "type": "contour"
           }
          ],
          "contourcarpet": [
           {
            "colorbar": {
             "outlinewidth": 0,
             "ticks": ""
            },
            "type": "contourcarpet"
           }
          ],
          "heatmap": [
           {
            "colorbar": {
             "outlinewidth": 0,
             "ticks": ""
            },
            "colorscale": [
             [
              0,
              "#0d0887"
             ],
             [
              0.1111111111111111,
              "#46039f"
             ],
             [
              0.2222222222222222,
              "#7201a8"
             ],
             [
              0.3333333333333333,
              "#9c179e"
             ],
             [
              0.4444444444444444,
              "#bd3786"
             ],
             [
              0.5555555555555556,
              "#d8576b"
             ],
             [
              0.6666666666666666,
              "#ed7953"
             ],
             [
              0.7777777777777778,
              "#fb9f3a"
             ],
             [
              0.8888888888888888,
              "#fdca26"
             ],
             [
              1,
              "#f0f921"
             ]
            ],
            "type": "heatmap"
           }
          ],
          "heatmapgl": [
           {
            "colorbar": {
             "outlinewidth": 0,
             "ticks": ""
            },
            "colorscale": [
             [
              0,
              "#0d0887"
             ],
             [
              0.1111111111111111,
              "#46039f"
             ],
             [
              0.2222222222222222,
              "#7201a8"
             ],
             [
              0.3333333333333333,
              "#9c179e"
             ],
             [
              0.4444444444444444,
              "#bd3786"
             ],
             [
              0.5555555555555556,
              "#d8576b"
             ],
             [
              0.6666666666666666,
              "#ed7953"
             ],
             [
              0.7777777777777778,
              "#fb9f3a"
             ],
             [
              0.8888888888888888,
              "#fdca26"
             ],
             [
              1,
              "#f0f921"
             ]
            ],
            "type": "heatmapgl"
           }
          ],
          "histogram": [
           {
            "marker": {
             "colorbar": {
              "outlinewidth": 0,
              "ticks": ""
             }
            },
            "type": "histogram"
           }
          ],
          "histogram2d": [
           {
            "colorbar": {
             "outlinewidth": 0,
             "ticks": ""
            },
            "colorscale": [
             [
              0,
              "#0d0887"
             ],
             [
              0.1111111111111111,
              "#46039f"
             ],
             [
              0.2222222222222222,
              "#7201a8"
             ],
             [
              0.3333333333333333,
              "#9c179e"
             ],
             [
              0.4444444444444444,
              "#bd3786"
             ],
             [
              0.5555555555555556,
              "#d8576b"
             ],
             [
              0.6666666666666666,
              "#ed7953"
             ],
             [
              0.7777777777777778,
              "#fb9f3a"
             ],
             [
              0.8888888888888888,
              "#fdca26"
             ],
             [
              1,
              "#f0f921"
             ]
            ],
            "type": "histogram2d"
           }
          ],
          "histogram2dcontour": [
           {
            "colorbar": {
             "outlinewidth": 0,
             "ticks": ""
            },
            "colorscale": [
             [
              0,
              "#0d0887"
             ],
             [
              0.1111111111111111,
              "#46039f"
             ],
             [
              0.2222222222222222,
              "#7201a8"
             ],
             [
              0.3333333333333333,
              "#9c179e"
             ],
             [
              0.4444444444444444,
              "#bd3786"
             ],
             [
              0.5555555555555556,
              "#d8576b"
             ],
             [
              0.6666666666666666,
              "#ed7953"
             ],
             [
              0.7777777777777778,
              "#fb9f3a"
             ],
             [
              0.8888888888888888,
              "#fdca26"
             ],
             [
              1,
              "#f0f921"
             ]
            ],
            "type": "histogram2dcontour"
           }
          ],
          "mesh3d": [
           {
            "colorbar": {
             "outlinewidth": 0,
             "ticks": ""
            },
            "type": "mesh3d"
           }
          ],
          "parcoords": [
           {
            "line": {
             "colorbar": {
              "outlinewidth": 0,
              "ticks": ""
             }
            },
            "type": "parcoords"
           }
          ],
          "pie": [
           {
            "automargin": true,
            "type": "pie"
           }
          ],
          "scatter": [
           {
            "marker": {
             "colorbar": {
              "outlinewidth": 0,
              "ticks": ""
             }
            },
            "type": "scatter"
           }
          ],
          "scatter3d": [
           {
            "line": {
             "colorbar": {
              "outlinewidth": 0,
              "ticks": ""
             }
            },
            "marker": {
             "colorbar": {
              "outlinewidth": 0,
              "ticks": ""
             }
            },
            "type": "scatter3d"
           }
          ],
          "scattercarpet": [
           {
            "marker": {
             "colorbar": {
              "outlinewidth": 0,
              "ticks": ""
             }
            },
            "type": "scattercarpet"
           }
          ],
          "scattergeo": [
           {
            "marker": {
             "colorbar": {
              "outlinewidth": 0,
              "ticks": ""
             }
            },
            "type": "scattergeo"
           }
          ],
          "scattergl": [
           {
            "marker": {
             "colorbar": {
              "outlinewidth": 0,
              "ticks": ""
             }
            },
            "type": "scattergl"
           }
          ],
          "scattermapbox": [
           {
            "marker": {
             "colorbar": {
              "outlinewidth": 0,
              "ticks": ""
             }
            },
            "type": "scattermapbox"
           }
          ],
          "scatterpolar": [
           {
            "marker": {
             "colorbar": {
              "outlinewidth": 0,
              "ticks": ""
             }
            },
            "type": "scatterpolar"
           }
          ],
          "scatterpolargl": [
           {
            "marker": {
             "colorbar": {
              "outlinewidth": 0,
              "ticks": ""
             }
            },
            "type": "scatterpolargl"
           }
          ],
          "scatterternary": [
           {
            "marker": {
             "colorbar": {
              "outlinewidth": 0,
              "ticks": ""
             }
            },
            "type": "scatterternary"
           }
          ],
          "surface": [
           {
            "colorbar": {
             "outlinewidth": 0,
             "ticks": ""
            },
            "colorscale": [
             [
              0,
              "#0d0887"
             ],
             [
              0.1111111111111111,
              "#46039f"
             ],
             [
              0.2222222222222222,
              "#7201a8"
             ],
             [
              0.3333333333333333,
              "#9c179e"
             ],
             [
              0.4444444444444444,
              "#bd3786"
             ],
             [
              0.5555555555555556,
              "#d8576b"
             ],
             [
              0.6666666666666666,
              "#ed7953"
             ],
             [
              0.7777777777777778,
              "#fb9f3a"
             ],
             [
              0.8888888888888888,
              "#fdca26"
             ],
             [
              1,
              "#f0f921"
             ]
            ],
            "type": "surface"
           }
          ],
          "table": [
           {
            "cells": {
             "fill": {
              "color": "#EBF0F8"
             },
             "line": {
              "color": "white"
             }
            },
            "header": {
             "fill": {
              "color": "#C8D4E3"
             },
             "line": {
              "color": "white"
             }
            },
            "type": "table"
           }
          ]
         },
         "layout": {
          "annotationdefaults": {
           "arrowcolor": "#2a3f5f",
           "arrowhead": 0,
           "arrowwidth": 1
          },
          "coloraxis": {
           "colorbar": {
            "outlinewidth": 0,
            "ticks": ""
           }
          },
          "colorscale": {
           "diverging": [
            [
             0,
             "#8e0152"
            ],
            [
             0.1,
             "#c51b7d"
            ],
            [
             0.2,
             "#de77ae"
            ],
            [
             0.3,
             "#f1b6da"
            ],
            [
             0.4,
             "#fde0ef"
            ],
            [
             0.5,
             "#f7f7f7"
            ],
            [
             0.6,
             "#e6f5d0"
            ],
            [
             0.7,
             "#b8e186"
            ],
            [
             0.8,
             "#7fbc41"
            ],
            [
             0.9,
             "#4d9221"
            ],
            [
             1,
             "#276419"
            ]
           ],
           "sequential": [
            [
             0,
             "#0d0887"
            ],
            [
             0.1111111111111111,
             "#46039f"
            ],
            [
             0.2222222222222222,
             "#7201a8"
            ],
            [
             0.3333333333333333,
             "#9c179e"
            ],
            [
             0.4444444444444444,
             "#bd3786"
            ],
            [
             0.5555555555555556,
             "#d8576b"
            ],
            [
             0.6666666666666666,
             "#ed7953"
            ],
            [
             0.7777777777777778,
             "#fb9f3a"
            ],
            [
             0.8888888888888888,
             "#fdca26"
            ],
            [
             1,
             "#f0f921"
            ]
           ],
           "sequentialminus": [
            [
             0,
             "#0d0887"
            ],
            [
             0.1111111111111111,
             "#46039f"
            ],
            [
             0.2222222222222222,
             "#7201a8"
            ],
            [
             0.3333333333333333,
             "#9c179e"
            ],
            [
             0.4444444444444444,
             "#bd3786"
            ],
            [
             0.5555555555555556,
             "#d8576b"
            ],
            [
             0.6666666666666666,
             "#ed7953"
            ],
            [
             0.7777777777777778,
             "#fb9f3a"
            ],
            [
             0.8888888888888888,
             "#fdca26"
            ],
            [
             1,
             "#f0f921"
            ]
           ]
          },
          "colorway": [
           "#636efa",
           "#EF553B",
           "#00cc96",
           "#ab63fa",
           "#FFA15A",
           "#19d3f3",
           "#FF6692",
           "#B6E880",
           "#FF97FF",
           "#FECB52"
          ],
          "font": {
           "color": "#2a3f5f"
          },
          "geo": {
           "bgcolor": "white",
           "lakecolor": "white",
           "landcolor": "#E5ECF6",
           "showlakes": true,
           "showland": true,
           "subunitcolor": "white"
          },
          "hoverlabel": {
           "align": "left"
          },
          "hovermode": "closest",
          "mapbox": {
           "style": "light"
          },
          "paper_bgcolor": "white",
          "plot_bgcolor": "#E5ECF6",
          "polar": {
           "angularaxis": {
            "gridcolor": "white",
            "linecolor": "white",
            "ticks": ""
           },
           "bgcolor": "#E5ECF6",
           "radialaxis": {
            "gridcolor": "white",
            "linecolor": "white",
            "ticks": ""
           }
          },
          "scene": {
           "xaxis": {
            "backgroundcolor": "#E5ECF6",
            "gridcolor": "white",
            "gridwidth": 2,
            "linecolor": "white",
            "showbackground": true,
            "ticks": "",
            "zerolinecolor": "white"
           },
           "yaxis": {
            "backgroundcolor": "#E5ECF6",
            "gridcolor": "white",
            "gridwidth": 2,
            "linecolor": "white",
            "showbackground": true,
            "ticks": "",
            "zerolinecolor": "white"
           },
           "zaxis": {
            "backgroundcolor": "#E5ECF6",
            "gridcolor": "white",
            "gridwidth": 2,
            "linecolor": "white",
            "showbackground": true,
            "ticks": "",
            "zerolinecolor": "white"
           }
          },
          "shapedefaults": {
           "line": {
            "color": "#2a3f5f"
           }
          },
          "ternary": {
           "aaxis": {
            "gridcolor": "white",
            "linecolor": "white",
            "ticks": ""
           },
           "baxis": {
            "gridcolor": "white",
            "linecolor": "white",
            "ticks": ""
           },
           "bgcolor": "#E5ECF6",
           "caxis": {
            "gridcolor": "white",
            "linecolor": "white",
            "ticks": ""
           }
          },
          "title": {
           "x": 0.05
          },
          "xaxis": {
           "automargin": true,
           "gridcolor": "white",
           "linecolor": "white",
           "ticks": "",
           "title": {
            "standoff": 15
           },
           "zerolinecolor": "white",
           "zerolinewidth": 2
          },
          "yaxis": {
           "automargin": true,
           "gridcolor": "white",
           "linecolor": "white",
           "ticks": "",
           "title": {
            "standoff": 15
           },
           "zerolinecolor": "white",
           "zerolinewidth": 2
          }
         }
        },
        "title": {
         "text": "Desired Allocation"
        },
        "xaxis": {
         "anchor": "y",
         "domain": [
          0,
          1
         ],
         "title": {
          "text": "desired_allocation"
         }
        },
        "yaxis": {
         "anchor": "x",
         "categoryarray": [
          "Consumer Discretionary",
          "Real Estate",
          "Consumer Staples",
          "Technology",
          "Semiconductor",
          "Bonds",
          "Gaming",
          "Innovation"
         ],
         "categoryorder": "array",
         "domain": [
          0,
          1
         ],
         "title": {
          "text": "category"
         }
        }
       }
      },
      "text/html": [
       "<div>\n",
       "        \n",
       "        \n",
       "            <div id=\"175024cc-0ead-40c2-9b02-493615337daf\" class=\"plotly-graph-div\" style=\"height:525px; width:100%;\"></div>\n",
       "            <script type=\"text/javascript\">\n",
       "                require([\"plotly\"], function(Plotly) {\n",
       "                    window.PLOTLYENV=window.PLOTLYENV || {};\n",
       "                    \n",
       "                if (document.getElementById(\"175024cc-0ead-40c2-9b02-493615337daf\")) {\n",
       "                    Plotly.newPlot(\n",
       "                        '175024cc-0ead-40c2-9b02-493615337daf',\n",
       "                        [{\"alignmentgroup\": \"True\", \"hovertemplate\": \"category=%{y}<br>desired_allocation=%{text}<extra></extra>\", \"legendgroup\": \"Innovation\", \"marker\": {\"color\": \"#636efa\"}, \"name\": \"Innovation\", \"offsetgroup\": \"Innovation\", \"orientation\": \"h\", \"showlegend\": true, \"text\": [60.0], \"textposition\": \"auto\", \"type\": \"bar\", \"x\": [60.0], \"xaxis\": \"x\", \"y\": [\"Innovation\"], \"yaxis\": \"y\"}, {\"alignmentgroup\": \"True\", \"hovertemplate\": \"category=%{y}<br>desired_allocation=%{text}<extra></extra>\", \"legendgroup\": \"Gaming\", \"marker\": {\"color\": \"#EF553B\"}, \"name\": \"Gaming\", \"offsetgroup\": \"Gaming\", \"orientation\": \"h\", \"showlegend\": true, \"text\": [7.0], \"textposition\": \"auto\", \"type\": \"bar\", \"x\": [7.0], \"xaxis\": \"x\", \"y\": [\"Gaming\"], \"yaxis\": \"y\"}, {\"alignmentgroup\": \"True\", \"hovertemplate\": \"category=%{y}<br>desired_allocation=%{text}<extra></extra>\", \"legendgroup\": \"Bonds\", \"marker\": {\"color\": \"#00cc96\"}, \"name\": \"Bonds\", \"offsetgroup\": \"Bonds\", \"orientation\": \"h\", \"showlegend\": true, \"text\": [7.0], \"textposition\": \"auto\", \"type\": \"bar\", \"x\": [7.0], \"xaxis\": \"x\", \"y\": [\"Bonds\"], \"yaxis\": \"y\"}, {\"alignmentgroup\": \"True\", \"hovertemplate\": \"category=%{y}<br>desired_allocation=%{text}<extra></extra>\", \"legendgroup\": \"Semiconductor\", \"marker\": {\"color\": \"#ab63fa\"}, \"name\": \"Semiconductor\", \"offsetgroup\": \"Semiconductor\", \"orientation\": \"h\", \"showlegend\": true, \"text\": [7.0], \"textposition\": \"auto\", \"type\": \"bar\", \"x\": [7.0], \"xaxis\": \"x\", \"y\": [\"Semiconductor\"], \"yaxis\": \"y\"}, {\"alignmentgroup\": \"True\", \"hovertemplate\": \"category=%{y}<br>desired_allocation=%{text}<extra></extra>\", \"legendgroup\": \"Technology\", \"marker\": {\"color\": \"#FFA15A\"}, \"name\": \"Technology\", \"offsetgroup\": \"Technology\", \"orientation\": \"h\", \"showlegend\": true, \"text\": [7.0], \"textposition\": \"auto\", \"type\": \"bar\", \"x\": [7.0], \"xaxis\": \"x\", \"y\": [\"Technology\"], \"yaxis\": \"y\"}, {\"alignmentgroup\": \"True\", \"hovertemplate\": \"category=%{y}<br>desired_allocation=%{text}<extra></extra>\", \"legendgroup\": \"Consumer Staples\", \"marker\": {\"color\": \"#19d3f3\"}, \"name\": \"Consumer Staples\", \"offsetgroup\": \"Consumer Staples\", \"orientation\": \"h\", \"showlegend\": true, \"text\": [4.0], \"textposition\": \"auto\", \"type\": \"bar\", \"x\": [4.0], \"xaxis\": \"x\", \"y\": [\"Consumer Staples\"], \"yaxis\": \"y\"}, {\"alignmentgroup\": \"True\", \"hovertemplate\": \"category=%{y}<br>desired_allocation=%{text}<extra></extra>\", \"legendgroup\": \"Real Estate\", \"marker\": {\"color\": \"#FF6692\"}, \"name\": \"Real Estate\", \"offsetgroup\": \"Real Estate\", \"orientation\": \"h\", \"showlegend\": true, \"text\": [4.0], \"textposition\": \"auto\", \"type\": \"bar\", \"x\": [4.0], \"xaxis\": \"x\", \"y\": [\"Real Estate\"], \"yaxis\": \"y\"}, {\"alignmentgroup\": \"True\", \"hovertemplate\": \"category=%{y}<br>desired_allocation=%{text}<extra></extra>\", \"legendgroup\": \"Consumer Discretionary\", \"marker\": {\"color\": \"#B6E880\"}, \"name\": \"Consumer Discretionary\", \"offsetgroup\": \"Consumer Discretionary\", \"orientation\": \"h\", \"showlegend\": true, \"text\": [4.0], \"textposition\": \"auto\", \"type\": \"bar\", \"x\": [4.0], \"xaxis\": \"x\", \"y\": [\"Consumer Discretionary\"], \"yaxis\": \"y\"}],\n",
       "                        {\"barmode\": \"relative\", \"legend\": {\"title\": {\"text\": \"category\"}, \"tracegroupgap\": 0}, \"template\": {\"data\": {\"bar\": [{\"error_x\": {\"color\": \"#2a3f5f\"}, \"error_y\": {\"color\": \"#2a3f5f\"}, \"marker\": {\"line\": {\"color\": \"#E5ECF6\", \"width\": 0.5}}, \"type\": \"bar\"}], \"barpolar\": [{\"marker\": {\"line\": {\"color\": \"#E5ECF6\", \"width\": 0.5}}, \"type\": \"barpolar\"}], \"carpet\": [{\"aaxis\": {\"endlinecolor\": \"#2a3f5f\", \"gridcolor\": \"white\", \"linecolor\": \"white\", \"minorgridcolor\": \"white\", \"startlinecolor\": \"#2a3f5f\"}, \"baxis\": {\"endlinecolor\": \"#2a3f5f\", \"gridcolor\": \"white\", \"linecolor\": \"white\", \"minorgridcolor\": \"white\", \"startlinecolor\": \"#2a3f5f\"}, \"type\": \"carpet\"}], \"choropleth\": [{\"colorbar\": {\"outlinewidth\": 0, \"ticks\": \"\"}, \"type\": \"choropleth\"}], \"contour\": [{\"colorbar\": {\"outlinewidth\": 0, \"ticks\": \"\"}, \"colorscale\": [[0.0, \"#0d0887\"], [0.1111111111111111, \"#46039f\"], [0.2222222222222222, \"#7201a8\"], [0.3333333333333333, \"#9c179e\"], [0.4444444444444444, \"#bd3786\"], [0.5555555555555556, \"#d8576b\"], [0.6666666666666666, \"#ed7953\"], [0.7777777777777778, \"#fb9f3a\"], [0.8888888888888888, \"#fdca26\"], [1.0, \"#f0f921\"]], \"type\": \"contour\"}], \"contourcarpet\": [{\"colorbar\": {\"outlinewidth\": 0, \"ticks\": \"\"}, \"type\": \"contourcarpet\"}], \"heatmap\": [{\"colorbar\": {\"outlinewidth\": 0, \"ticks\": \"\"}, \"colorscale\": [[0.0, \"#0d0887\"], [0.1111111111111111, \"#46039f\"], [0.2222222222222222, \"#7201a8\"], [0.3333333333333333, \"#9c179e\"], [0.4444444444444444, \"#bd3786\"], [0.5555555555555556, \"#d8576b\"], [0.6666666666666666, \"#ed7953\"], [0.7777777777777778, \"#fb9f3a\"], [0.8888888888888888, \"#fdca26\"], [1.0, \"#f0f921\"]], \"type\": \"heatmap\"}], \"heatmapgl\": [{\"colorbar\": {\"outlinewidth\": 0, \"ticks\": \"\"}, \"colorscale\": [[0.0, \"#0d0887\"], [0.1111111111111111, \"#46039f\"], [0.2222222222222222, \"#7201a8\"], [0.3333333333333333, \"#9c179e\"], [0.4444444444444444, \"#bd3786\"], [0.5555555555555556, \"#d8576b\"], [0.6666666666666666, \"#ed7953\"], [0.7777777777777778, \"#fb9f3a\"], [0.8888888888888888, \"#fdca26\"], [1.0, \"#f0f921\"]], \"type\": \"heatmapgl\"}], \"histogram\": [{\"marker\": {\"colorbar\": {\"outlinewidth\": 0, \"ticks\": \"\"}}, \"type\": \"histogram\"}], \"histogram2d\": [{\"colorbar\": {\"outlinewidth\": 0, \"ticks\": \"\"}, \"colorscale\": [[0.0, \"#0d0887\"], [0.1111111111111111, \"#46039f\"], [0.2222222222222222, \"#7201a8\"], [0.3333333333333333, \"#9c179e\"], [0.4444444444444444, \"#bd3786\"], [0.5555555555555556, \"#d8576b\"], [0.6666666666666666, \"#ed7953\"], [0.7777777777777778, \"#fb9f3a\"], [0.8888888888888888, \"#fdca26\"], [1.0, \"#f0f921\"]], \"type\": \"histogram2d\"}], \"histogram2dcontour\": [{\"colorbar\": {\"outlinewidth\": 0, \"ticks\": \"\"}, \"colorscale\": [[0.0, \"#0d0887\"], [0.1111111111111111, \"#46039f\"], [0.2222222222222222, \"#7201a8\"], [0.3333333333333333, \"#9c179e\"], [0.4444444444444444, \"#bd3786\"], [0.5555555555555556, \"#d8576b\"], [0.6666666666666666, \"#ed7953\"], [0.7777777777777778, \"#fb9f3a\"], [0.8888888888888888, \"#fdca26\"], [1.0, \"#f0f921\"]], \"type\": \"histogram2dcontour\"}], \"mesh3d\": [{\"colorbar\": {\"outlinewidth\": 0, \"ticks\": \"\"}, \"type\": \"mesh3d\"}], \"parcoords\": [{\"line\": {\"colorbar\": {\"outlinewidth\": 0, \"ticks\": \"\"}}, \"type\": \"parcoords\"}], \"pie\": [{\"automargin\": true, \"type\": \"pie\"}], \"scatter\": [{\"marker\": {\"colorbar\": {\"outlinewidth\": 0, \"ticks\": \"\"}}, \"type\": \"scatter\"}], \"scatter3d\": [{\"line\": {\"colorbar\": {\"outlinewidth\": 0, \"ticks\": \"\"}}, \"marker\": {\"colorbar\": {\"outlinewidth\": 0, \"ticks\": \"\"}}, \"type\": \"scatter3d\"}], \"scattercarpet\": [{\"marker\": {\"colorbar\": {\"outlinewidth\": 0, \"ticks\": \"\"}}, \"type\": \"scattercarpet\"}], \"scattergeo\": [{\"marker\": {\"colorbar\": {\"outlinewidth\": 0, \"ticks\": \"\"}}, \"type\": \"scattergeo\"}], \"scattergl\": [{\"marker\": {\"colorbar\": {\"outlinewidth\": 0, \"ticks\": \"\"}}, \"type\": \"scattergl\"}], \"scattermapbox\": [{\"marker\": {\"colorbar\": {\"outlinewidth\": 0, \"ticks\": \"\"}}, \"type\": \"scattermapbox\"}], \"scatterpolar\": [{\"marker\": {\"colorbar\": {\"outlinewidth\": 0, \"ticks\": \"\"}}, \"type\": \"scatterpolar\"}], \"scatterpolargl\": [{\"marker\": {\"colorbar\": {\"outlinewidth\": 0, \"ticks\": \"\"}}, \"type\": \"scatterpolargl\"}], \"scatterternary\": [{\"marker\": {\"colorbar\": {\"outlinewidth\": 0, \"ticks\": \"\"}}, \"type\": \"scatterternary\"}], \"surface\": [{\"colorbar\": {\"outlinewidth\": 0, \"ticks\": \"\"}, \"colorscale\": [[0.0, \"#0d0887\"], [0.1111111111111111, \"#46039f\"], [0.2222222222222222, \"#7201a8\"], [0.3333333333333333, \"#9c179e\"], [0.4444444444444444, \"#bd3786\"], [0.5555555555555556, \"#d8576b\"], [0.6666666666666666, \"#ed7953\"], [0.7777777777777778, \"#fb9f3a\"], [0.8888888888888888, \"#fdca26\"], [1.0, \"#f0f921\"]], \"type\": \"surface\"}], \"table\": [{\"cells\": {\"fill\": {\"color\": \"#EBF0F8\"}, \"line\": {\"color\": \"white\"}}, \"header\": {\"fill\": {\"color\": \"#C8D4E3\"}, \"line\": {\"color\": \"white\"}}, \"type\": \"table\"}]}, \"layout\": {\"annotationdefaults\": {\"arrowcolor\": \"#2a3f5f\", \"arrowhead\": 0, \"arrowwidth\": 1}, \"coloraxis\": {\"colorbar\": {\"outlinewidth\": 0, \"ticks\": \"\"}}, \"colorscale\": {\"diverging\": [[0, \"#8e0152\"], [0.1, \"#c51b7d\"], [0.2, \"#de77ae\"], [0.3, \"#f1b6da\"], [0.4, \"#fde0ef\"], [0.5, \"#f7f7f7\"], [0.6, \"#e6f5d0\"], [0.7, \"#b8e186\"], [0.8, \"#7fbc41\"], [0.9, \"#4d9221\"], [1, \"#276419\"]], \"sequential\": [[0.0, \"#0d0887\"], [0.1111111111111111, \"#46039f\"], [0.2222222222222222, \"#7201a8\"], [0.3333333333333333, \"#9c179e\"], [0.4444444444444444, \"#bd3786\"], [0.5555555555555556, \"#d8576b\"], [0.6666666666666666, \"#ed7953\"], [0.7777777777777778, \"#fb9f3a\"], [0.8888888888888888, \"#fdca26\"], [1.0, \"#f0f921\"]], \"sequentialminus\": [[0.0, \"#0d0887\"], [0.1111111111111111, \"#46039f\"], [0.2222222222222222, \"#7201a8\"], [0.3333333333333333, \"#9c179e\"], [0.4444444444444444, \"#bd3786\"], [0.5555555555555556, \"#d8576b\"], [0.6666666666666666, \"#ed7953\"], [0.7777777777777778, \"#fb9f3a\"], [0.8888888888888888, \"#fdca26\"], [1.0, \"#f0f921\"]]}, \"colorway\": [\"#636efa\", \"#EF553B\", \"#00cc96\", \"#ab63fa\", \"#FFA15A\", \"#19d3f3\", \"#FF6692\", \"#B6E880\", \"#FF97FF\", \"#FECB52\"], \"font\": {\"color\": \"#2a3f5f\"}, \"geo\": {\"bgcolor\": \"white\", \"lakecolor\": \"white\", \"landcolor\": \"#E5ECF6\", \"showlakes\": true, \"showland\": true, \"subunitcolor\": \"white\"}, \"hoverlabel\": {\"align\": \"left\"}, \"hovermode\": \"closest\", \"mapbox\": {\"style\": \"light\"}, \"paper_bgcolor\": \"white\", \"plot_bgcolor\": \"#E5ECF6\", \"polar\": {\"angularaxis\": {\"gridcolor\": \"white\", \"linecolor\": \"white\", \"ticks\": \"\"}, \"bgcolor\": \"#E5ECF6\", \"radialaxis\": {\"gridcolor\": \"white\", \"linecolor\": \"white\", \"ticks\": \"\"}}, \"scene\": {\"xaxis\": {\"backgroundcolor\": \"#E5ECF6\", \"gridcolor\": \"white\", \"gridwidth\": 2, \"linecolor\": \"white\", \"showbackground\": true, \"ticks\": \"\", \"zerolinecolor\": \"white\"}, \"yaxis\": {\"backgroundcolor\": \"#E5ECF6\", \"gridcolor\": \"white\", \"gridwidth\": 2, \"linecolor\": \"white\", \"showbackground\": true, \"ticks\": \"\", \"zerolinecolor\": \"white\"}, \"zaxis\": {\"backgroundcolor\": \"#E5ECF6\", \"gridcolor\": \"white\", \"gridwidth\": 2, \"linecolor\": \"white\", \"showbackground\": true, \"ticks\": \"\", \"zerolinecolor\": \"white\"}}, \"shapedefaults\": {\"line\": {\"color\": \"#2a3f5f\"}}, \"ternary\": {\"aaxis\": {\"gridcolor\": \"white\", \"linecolor\": \"white\", \"ticks\": \"\"}, \"baxis\": {\"gridcolor\": \"white\", \"linecolor\": \"white\", \"ticks\": \"\"}, \"bgcolor\": \"#E5ECF6\", \"caxis\": {\"gridcolor\": \"white\", \"linecolor\": \"white\", \"ticks\": \"\"}}, \"title\": {\"x\": 0.05}, \"xaxis\": {\"automargin\": true, \"gridcolor\": \"white\", \"linecolor\": \"white\", \"ticks\": \"\", \"title\": {\"standoff\": 15}, \"zerolinecolor\": \"white\", \"zerolinewidth\": 2}, \"yaxis\": {\"automargin\": true, \"gridcolor\": \"white\", \"linecolor\": \"white\", \"ticks\": \"\", \"title\": {\"standoff\": 15}, \"zerolinecolor\": \"white\", \"zerolinewidth\": 2}}}, \"title\": {\"text\": \"Desired Allocation\"}, \"xaxis\": {\"anchor\": \"y\", \"domain\": [0.0, 1.0], \"title\": {\"text\": \"desired_allocation\"}}, \"yaxis\": {\"anchor\": \"x\", \"categoryarray\": [\"Consumer Discretionary\", \"Real Estate\", \"Consumer Staples\", \"Technology\", \"Semiconductor\", \"Bonds\", \"Gaming\", \"Innovation\"], \"categoryorder\": \"array\", \"domain\": [0.0, 1.0], \"title\": {\"text\": \"category\"}}},\n",
       "                        {\"responsive\": true}\n",
       "                    ).then(function(){\n",
       "                            \n",
       "var gd = document.getElementById('175024cc-0ead-40c2-9b02-493615337daf');\n",
       "var x = new MutationObserver(function (mutations, observer) {{\n",
       "        var display = window.getComputedStyle(gd).display;\n",
       "        if (!display || display === 'none') {{\n",
       "            console.log([gd, 'removed!']);\n",
       "            Plotly.purge(gd);\n",
       "            observer.disconnect();\n",
       "        }}\n",
       "}});\n",
       "\n",
       "// Listen for the removal of the full notebook cells\n",
       "var notebookContainer = gd.closest('#notebook-container');\n",
       "if (notebookContainer) {{\n",
       "    x.observe(notebookContainer, {childList: true});\n",
       "}}\n",
       "\n",
       "// Listen for the clearing of the current output cell\n",
       "var outputEl = gd.closest('.output');\n",
       "if (outputEl) {{\n",
       "    x.observe(outputEl, {childList: true});\n",
       "}}\n",
       "\n",
       "                        })\n",
       "                };\n",
       "                });\n",
       "            </script>\n",
       "        </div>"
      ]
     },
     "metadata": {},
     "output_type": "display_data"
    }
   ],
   "source": [
    "fig = px.bar(c_composition_stats.sort_values(by='desired_allocation', ascending=False), \n",
    "             x=\"desired_allocation\", \n",
    "             y=\"category\", \n",
    "             title='Desired Allocation', \n",
    "             color=\"category\", \n",
    "             text=\"desired_allocation\", \n",
    "             orientation='h')\n",
    "fig.write_image(\"images/desired_allocation.pdf\")\n",
    "fig.show()"
   ]
  },
  {
   "cell_type": "code",
   "execution_count": 26,
   "metadata": {},
   "outputs": [
    {
     "data": {
      "application/vnd.plotly.v1+json": {
       "config": {
        "plotlyServerURL": "https://plot.ly"
       },
       "data": [
        {
         "alignmentgroup": "True",
         "customdata": [
          [
           30876.65
          ]
         ],
         "hovertemplate": "category=%{y}<br>allocation_break_even=%{customdata[0]}<br>allocation_break_even_pct=%{text}<extra></extra>",
         "legendgroup": "Innovation",
         "marker": {
          "color": "#636efa"
         },
         "name": "Innovation",
         "offsetgroup": "Innovation",
         "orientation": "h",
         "showlegend": true,
         "text": [
          59.45
         ],
         "textposition": "auto",
         "type": "bar",
         "x": [
          30876.65
         ],
         "xaxis": "x",
         "y": [
          "Innovation"
         ],
         "yaxis": "y"
        },
        {
         "alignmentgroup": "True",
         "customdata": [
          [
           5186.25
          ]
         ],
         "hovertemplate": "category=%{y}<br>allocation_break_even=%{customdata[0]}<br>allocation_break_even_pct=%{text}<extra></extra>",
         "legendgroup": "Gaming",
         "marker": {
          "color": "#EF553B"
         },
         "name": "Gaming",
         "offsetgroup": "Gaming",
         "orientation": "h",
         "showlegend": true,
         "text": [
          9.99
         ],
         "textposition": "auto",
         "type": "bar",
         "x": [
          5186.25
         ],
         "xaxis": "x",
         "y": [
          "Gaming"
         ],
         "yaxis": "y"
        },
        {
         "alignmentgroup": "True",
         "customdata": [
          [
           4082.12
          ]
         ],
         "hovertemplate": "category=%{y}<br>allocation_break_even=%{customdata[0]}<br>allocation_break_even_pct=%{text}<extra></extra>",
         "legendgroup": "Bonds",
         "marker": {
          "color": "#00cc96"
         },
         "name": "Bonds",
         "offsetgroup": "Bonds",
         "orientation": "h",
         "showlegend": true,
         "text": [
          7.86
         ],
         "textposition": "auto",
         "type": "bar",
         "x": [
          4082.12
         ],
         "xaxis": "x",
         "y": [
          "Bonds"
         ],
         "yaxis": "y"
        },
        {
         "alignmentgroup": "True",
         "customdata": [
          [
           3950.97
          ]
         ],
         "hovertemplate": "category=%{y}<br>allocation_break_even=%{customdata[0]}<br>allocation_break_even_pct=%{text}<extra></extra>",
         "legendgroup": "Consumer Discretionary",
         "marker": {
          "color": "#ab63fa"
         },
         "name": "Consumer Discretionary",
         "offsetgroup": "Consumer Discretionary",
         "orientation": "h",
         "showlegend": true,
         "text": [
          7.61
         ],
         "textposition": "auto",
         "type": "bar",
         "x": [
          3950.97
         ],
         "xaxis": "x",
         "y": [
          "Consumer Discretionary"
         ],
         "yaxis": "y"
        },
        {
         "alignmentgroup": "True",
         "customdata": [
          [
           2967.92
          ]
         ],
         "hovertemplate": "category=%{y}<br>allocation_break_even=%{customdata[0]}<br>allocation_break_even_pct=%{text}<extra></extra>",
         "legendgroup": "Technology",
         "marker": {
          "color": "#FFA15A"
         },
         "name": "Technology",
         "offsetgroup": "Technology",
         "orientation": "h",
         "showlegend": true,
         "text": [
          5.71
         ],
         "textposition": "auto",
         "type": "bar",
         "x": [
          2967.92
         ],
         "xaxis": "x",
         "y": [
          "Technology"
         ],
         "yaxis": "y"
        },
        {
         "alignmentgroup": "True",
         "customdata": [
          [
           2915.65
          ]
         ],
         "hovertemplate": "category=%{y}<br>allocation_break_even=%{customdata[0]}<br>allocation_break_even_pct=%{text}<extra></extra>",
         "legendgroup": "Real Estate",
         "marker": {
          "color": "#19d3f3"
         },
         "name": "Real Estate",
         "offsetgroup": "Real Estate",
         "orientation": "h",
         "showlegend": true,
         "text": [
          5.61
         ],
         "textposition": "auto",
         "type": "bar",
         "x": [
          2915.65
         ],
         "xaxis": "x",
         "y": [
          "Real Estate"
         ],
         "yaxis": "y"
        },
        {
         "alignmentgroup": "True",
         "customdata": [
          [
           1954.18
          ]
         ],
         "hovertemplate": "category=%{y}<br>allocation_break_even=%{customdata[0]}<br>allocation_break_even_pct=%{text}<extra></extra>",
         "legendgroup": "Consumer Staples",
         "marker": {
          "color": "#FF6692"
         },
         "name": "Consumer Staples",
         "offsetgroup": "Consumer Staples",
         "orientation": "h",
         "showlegend": true,
         "text": [
          3.76
         ],
         "textposition": "auto",
         "type": "bar",
         "x": [
          1954.18
         ],
         "xaxis": "x",
         "y": [
          "Consumer Staples"
         ],
         "yaxis": "y"
        },
        {
         "alignmentgroup": "True",
         "customdata": [
          [
           0
          ]
         ],
         "hovertemplate": "category=%{y}<br>allocation_break_even=%{customdata[0]}<br>allocation_break_even_pct=%{text}<extra></extra>",
         "legendgroup": "Semiconductor",
         "marker": {
          "color": "#B6E880"
         },
         "name": "Semiconductor",
         "offsetgroup": "Semiconductor",
         "orientation": "h",
         "showlegend": true,
         "text": [
          0
         ],
         "textposition": "auto",
         "type": "bar",
         "x": [
          0
         ],
         "xaxis": "x",
         "y": [
          "Semiconductor"
         ],
         "yaxis": "y"
        }
       ],
       "layout": {
        "barmode": "relative",
        "legend": {
         "title": {
          "text": "category"
         },
         "tracegroupgap": 0
        },
        "template": {
         "data": {
          "bar": [
           {
            "error_x": {
             "color": "#2a3f5f"
            },
            "error_y": {
             "color": "#2a3f5f"
            },
            "marker": {
             "line": {
              "color": "#E5ECF6",
              "width": 0.5
             }
            },
            "type": "bar"
           }
          ],
          "barpolar": [
           {
            "marker": {
             "line": {
              "color": "#E5ECF6",
              "width": 0.5
             }
            },
            "type": "barpolar"
           }
          ],
          "carpet": [
           {
            "aaxis": {
             "endlinecolor": "#2a3f5f",
             "gridcolor": "white",
             "linecolor": "white",
             "minorgridcolor": "white",
             "startlinecolor": "#2a3f5f"
            },
            "baxis": {
             "endlinecolor": "#2a3f5f",
             "gridcolor": "white",
             "linecolor": "white",
             "minorgridcolor": "white",
             "startlinecolor": "#2a3f5f"
            },
            "type": "carpet"
           }
          ],
          "choropleth": [
           {
            "colorbar": {
             "outlinewidth": 0,
             "ticks": ""
            },
            "type": "choropleth"
           }
          ],
          "contour": [
           {
            "colorbar": {
             "outlinewidth": 0,
             "ticks": ""
            },
            "colorscale": [
             [
              0,
              "#0d0887"
             ],
             [
              0.1111111111111111,
              "#46039f"
             ],
             [
              0.2222222222222222,
              "#7201a8"
             ],
             [
              0.3333333333333333,
              "#9c179e"
             ],
             [
              0.4444444444444444,
              "#bd3786"
             ],
             [
              0.5555555555555556,
              "#d8576b"
             ],
             [
              0.6666666666666666,
              "#ed7953"
             ],
             [
              0.7777777777777778,
              "#fb9f3a"
             ],
             [
              0.8888888888888888,
              "#fdca26"
             ],
             [
              1,
              "#f0f921"
             ]
            ],
            "type": "contour"
           }
          ],
          "contourcarpet": [
           {
            "colorbar": {
             "outlinewidth": 0,
             "ticks": ""
            },
            "type": "contourcarpet"
           }
          ],
          "heatmap": [
           {
            "colorbar": {
             "outlinewidth": 0,
             "ticks": ""
            },
            "colorscale": [
             [
              0,
              "#0d0887"
             ],
             [
              0.1111111111111111,
              "#46039f"
             ],
             [
              0.2222222222222222,
              "#7201a8"
             ],
             [
              0.3333333333333333,
              "#9c179e"
             ],
             [
              0.4444444444444444,
              "#bd3786"
             ],
             [
              0.5555555555555556,
              "#d8576b"
             ],
             [
              0.6666666666666666,
              "#ed7953"
             ],
             [
              0.7777777777777778,
              "#fb9f3a"
             ],
             [
              0.8888888888888888,
              "#fdca26"
             ],
             [
              1,
              "#f0f921"
             ]
            ],
            "type": "heatmap"
           }
          ],
          "heatmapgl": [
           {
            "colorbar": {
             "outlinewidth": 0,
             "ticks": ""
            },
            "colorscale": [
             [
              0,
              "#0d0887"
             ],
             [
              0.1111111111111111,
              "#46039f"
             ],
             [
              0.2222222222222222,
              "#7201a8"
             ],
             [
              0.3333333333333333,
              "#9c179e"
             ],
             [
              0.4444444444444444,
              "#bd3786"
             ],
             [
              0.5555555555555556,
              "#d8576b"
             ],
             [
              0.6666666666666666,
              "#ed7953"
             ],
             [
              0.7777777777777778,
              "#fb9f3a"
             ],
             [
              0.8888888888888888,
              "#fdca26"
             ],
             [
              1,
              "#f0f921"
             ]
            ],
            "type": "heatmapgl"
           }
          ],
          "histogram": [
           {
            "marker": {
             "colorbar": {
              "outlinewidth": 0,
              "ticks": ""
             }
            },
            "type": "histogram"
           }
          ],
          "histogram2d": [
           {
            "colorbar": {
             "outlinewidth": 0,
             "ticks": ""
            },
            "colorscale": [
             [
              0,
              "#0d0887"
             ],
             [
              0.1111111111111111,
              "#46039f"
             ],
             [
              0.2222222222222222,
              "#7201a8"
             ],
             [
              0.3333333333333333,
              "#9c179e"
             ],
             [
              0.4444444444444444,
              "#bd3786"
             ],
             [
              0.5555555555555556,
              "#d8576b"
             ],
             [
              0.6666666666666666,
              "#ed7953"
             ],
             [
              0.7777777777777778,
              "#fb9f3a"
             ],
             [
              0.8888888888888888,
              "#fdca26"
             ],
             [
              1,
              "#f0f921"
             ]
            ],
            "type": "histogram2d"
           }
          ],
          "histogram2dcontour": [
           {
            "colorbar": {
             "outlinewidth": 0,
             "ticks": ""
            },
            "colorscale": [
             [
              0,
              "#0d0887"
             ],
             [
              0.1111111111111111,
              "#46039f"
             ],
             [
              0.2222222222222222,
              "#7201a8"
             ],
             [
              0.3333333333333333,
              "#9c179e"
             ],
             [
              0.4444444444444444,
              "#bd3786"
             ],
             [
              0.5555555555555556,
              "#d8576b"
             ],
             [
              0.6666666666666666,
              "#ed7953"
             ],
             [
              0.7777777777777778,
              "#fb9f3a"
             ],
             [
              0.8888888888888888,
              "#fdca26"
             ],
             [
              1,
              "#f0f921"
             ]
            ],
            "type": "histogram2dcontour"
           }
          ],
          "mesh3d": [
           {
            "colorbar": {
             "outlinewidth": 0,
             "ticks": ""
            },
            "type": "mesh3d"
           }
          ],
          "parcoords": [
           {
            "line": {
             "colorbar": {
              "outlinewidth": 0,
              "ticks": ""
             }
            },
            "type": "parcoords"
           }
          ],
          "pie": [
           {
            "automargin": true,
            "type": "pie"
           }
          ],
          "scatter": [
           {
            "marker": {
             "colorbar": {
              "outlinewidth": 0,
              "ticks": ""
             }
            },
            "type": "scatter"
           }
          ],
          "scatter3d": [
           {
            "line": {
             "colorbar": {
              "outlinewidth": 0,
              "ticks": ""
             }
            },
            "marker": {
             "colorbar": {
              "outlinewidth": 0,
              "ticks": ""
             }
            },
            "type": "scatter3d"
           }
          ],
          "scattercarpet": [
           {
            "marker": {
             "colorbar": {
              "outlinewidth": 0,
              "ticks": ""
             }
            },
            "type": "scattercarpet"
           }
          ],
          "scattergeo": [
           {
            "marker": {
             "colorbar": {
              "outlinewidth": 0,
              "ticks": ""
             }
            },
            "type": "scattergeo"
           }
          ],
          "scattergl": [
           {
            "marker": {
             "colorbar": {
              "outlinewidth": 0,
              "ticks": ""
             }
            },
            "type": "scattergl"
           }
          ],
          "scattermapbox": [
           {
            "marker": {
             "colorbar": {
              "outlinewidth": 0,
              "ticks": ""
             }
            },
            "type": "scattermapbox"
           }
          ],
          "scatterpolar": [
           {
            "marker": {
             "colorbar": {
              "outlinewidth": 0,
              "ticks": ""
             }
            },
            "type": "scatterpolar"
           }
          ],
          "scatterpolargl": [
           {
            "marker": {
             "colorbar": {
              "outlinewidth": 0,
              "ticks": ""
             }
            },
            "type": "scatterpolargl"
           }
          ],
          "scatterternary": [
           {
            "marker": {
             "colorbar": {
              "outlinewidth": 0,
              "ticks": ""
             }
            },
            "type": "scatterternary"
           }
          ],
          "surface": [
           {
            "colorbar": {
             "outlinewidth": 0,
             "ticks": ""
            },
            "colorscale": [
             [
              0,
              "#0d0887"
             ],
             [
              0.1111111111111111,
              "#46039f"
             ],
             [
              0.2222222222222222,
              "#7201a8"
             ],
             [
              0.3333333333333333,
              "#9c179e"
             ],
             [
              0.4444444444444444,
              "#bd3786"
             ],
             [
              0.5555555555555556,
              "#d8576b"
             ],
             [
              0.6666666666666666,
              "#ed7953"
             ],
             [
              0.7777777777777778,
              "#fb9f3a"
             ],
             [
              0.8888888888888888,
              "#fdca26"
             ],
             [
              1,
              "#f0f921"
             ]
            ],
            "type": "surface"
           }
          ],
          "table": [
           {
            "cells": {
             "fill": {
              "color": "#EBF0F8"
             },
             "line": {
              "color": "white"
             }
            },
            "header": {
             "fill": {
              "color": "#C8D4E3"
             },
             "line": {
              "color": "white"
             }
            },
            "type": "table"
           }
          ]
         },
         "layout": {
          "annotationdefaults": {
           "arrowcolor": "#2a3f5f",
           "arrowhead": 0,
           "arrowwidth": 1
          },
          "coloraxis": {
           "colorbar": {
            "outlinewidth": 0,
            "ticks": ""
           }
          },
          "colorscale": {
           "diverging": [
            [
             0,
             "#8e0152"
            ],
            [
             0.1,
             "#c51b7d"
            ],
            [
             0.2,
             "#de77ae"
            ],
            [
             0.3,
             "#f1b6da"
            ],
            [
             0.4,
             "#fde0ef"
            ],
            [
             0.5,
             "#f7f7f7"
            ],
            [
             0.6,
             "#e6f5d0"
            ],
            [
             0.7,
             "#b8e186"
            ],
            [
             0.8,
             "#7fbc41"
            ],
            [
             0.9,
             "#4d9221"
            ],
            [
             1,
             "#276419"
            ]
           ],
           "sequential": [
            [
             0,
             "#0d0887"
            ],
            [
             0.1111111111111111,
             "#46039f"
            ],
            [
             0.2222222222222222,
             "#7201a8"
            ],
            [
             0.3333333333333333,
             "#9c179e"
            ],
            [
             0.4444444444444444,
             "#bd3786"
            ],
            [
             0.5555555555555556,
             "#d8576b"
            ],
            [
             0.6666666666666666,
             "#ed7953"
            ],
            [
             0.7777777777777778,
             "#fb9f3a"
            ],
            [
             0.8888888888888888,
             "#fdca26"
            ],
            [
             1,
             "#f0f921"
            ]
           ],
           "sequentialminus": [
            [
             0,
             "#0d0887"
            ],
            [
             0.1111111111111111,
             "#46039f"
            ],
            [
             0.2222222222222222,
             "#7201a8"
            ],
            [
             0.3333333333333333,
             "#9c179e"
            ],
            [
             0.4444444444444444,
             "#bd3786"
            ],
            [
             0.5555555555555556,
             "#d8576b"
            ],
            [
             0.6666666666666666,
             "#ed7953"
            ],
            [
             0.7777777777777778,
             "#fb9f3a"
            ],
            [
             0.8888888888888888,
             "#fdca26"
            ],
            [
             1,
             "#f0f921"
            ]
           ]
          },
          "colorway": [
           "#636efa",
           "#EF553B",
           "#00cc96",
           "#ab63fa",
           "#FFA15A",
           "#19d3f3",
           "#FF6692",
           "#B6E880",
           "#FF97FF",
           "#FECB52"
          ],
          "font": {
           "color": "#2a3f5f"
          },
          "geo": {
           "bgcolor": "white",
           "lakecolor": "white",
           "landcolor": "#E5ECF6",
           "showlakes": true,
           "showland": true,
           "subunitcolor": "white"
          },
          "hoverlabel": {
           "align": "left"
          },
          "hovermode": "closest",
          "mapbox": {
           "style": "light"
          },
          "paper_bgcolor": "white",
          "plot_bgcolor": "#E5ECF6",
          "polar": {
           "angularaxis": {
            "gridcolor": "white",
            "linecolor": "white",
            "ticks": ""
           },
           "bgcolor": "#E5ECF6",
           "radialaxis": {
            "gridcolor": "white",
            "linecolor": "white",
            "ticks": ""
           }
          },
          "scene": {
           "xaxis": {
            "backgroundcolor": "#E5ECF6",
            "gridcolor": "white",
            "gridwidth": 2,
            "linecolor": "white",
            "showbackground": true,
            "ticks": "",
            "zerolinecolor": "white"
           },
           "yaxis": {
            "backgroundcolor": "#E5ECF6",
            "gridcolor": "white",
            "gridwidth": 2,
            "linecolor": "white",
            "showbackground": true,
            "ticks": "",
            "zerolinecolor": "white"
           },
           "zaxis": {
            "backgroundcolor": "#E5ECF6",
            "gridcolor": "white",
            "gridwidth": 2,
            "linecolor": "white",
            "showbackground": true,
            "ticks": "",
            "zerolinecolor": "white"
           }
          },
          "shapedefaults": {
           "line": {
            "color": "#2a3f5f"
           }
          },
          "ternary": {
           "aaxis": {
            "gridcolor": "white",
            "linecolor": "white",
            "ticks": ""
           },
           "baxis": {
            "gridcolor": "white",
            "linecolor": "white",
            "ticks": ""
           },
           "bgcolor": "#E5ECF6",
           "caxis": {
            "gridcolor": "white",
            "linecolor": "white",
            "ticks": ""
           }
          },
          "title": {
           "x": 0.05
          },
          "xaxis": {
           "automargin": true,
           "gridcolor": "white",
           "linecolor": "white",
           "ticks": "",
           "title": {
            "standoff": 15
           },
           "zerolinecolor": "white",
           "zerolinewidth": 2
          },
          "yaxis": {
           "automargin": true,
           "gridcolor": "white",
           "linecolor": "white",
           "ticks": "",
           "title": {
            "standoff": 15
           },
           "zerolinecolor": "white",
           "zerolinewidth": 2
          }
         }
        },
        "title": {
         "text": "Allocation Break Even (%)"
        },
        "xaxis": {
         "anchor": "y",
         "domain": [
          0,
          1
         ],
         "title": {
          "text": "allocation_break_even"
         }
        },
        "yaxis": {
         "anchor": "x",
         "categoryarray": [
          "Semiconductor",
          "Consumer Staples",
          "Real Estate",
          "Technology",
          "Consumer Discretionary",
          "Bonds",
          "Gaming",
          "Innovation"
         ],
         "categoryorder": "array",
         "domain": [
          0,
          1
         ],
         "title": {
          "text": "category"
         }
        }
       }
      },
      "text/html": [
       "<div>\n",
       "        \n",
       "        \n",
       "            <div id=\"1da9d691-5eaa-47f0-99c4-cb77df2a23f5\" class=\"plotly-graph-div\" style=\"height:525px; width:100%;\"></div>\n",
       "            <script type=\"text/javascript\">\n",
       "                require([\"plotly\"], function(Plotly) {\n",
       "                    window.PLOTLYENV=window.PLOTLYENV || {};\n",
       "                    \n",
       "                if (document.getElementById(\"1da9d691-5eaa-47f0-99c4-cb77df2a23f5\")) {\n",
       "                    Plotly.newPlot(\n",
       "                        '1da9d691-5eaa-47f0-99c4-cb77df2a23f5',\n",
       "                        [{\"alignmentgroup\": \"True\", \"customdata\": [[30876.65]], \"hovertemplate\": \"category=%{y}<br>allocation_break_even=%{customdata[0]}<br>allocation_break_even_pct=%{text}<extra></extra>\", \"legendgroup\": \"Innovation\", \"marker\": {\"color\": \"#636efa\"}, \"name\": \"Innovation\", \"offsetgroup\": \"Innovation\", \"orientation\": \"h\", \"showlegend\": true, \"text\": [59.45], \"textposition\": \"auto\", \"type\": \"bar\", \"x\": [30876.65], \"xaxis\": \"x\", \"y\": [\"Innovation\"], \"yaxis\": \"y\"}, {\"alignmentgroup\": \"True\", \"customdata\": [[5186.25]], \"hovertemplate\": \"category=%{y}<br>allocation_break_even=%{customdata[0]}<br>allocation_break_even_pct=%{text}<extra></extra>\", \"legendgroup\": \"Gaming\", \"marker\": {\"color\": \"#EF553B\"}, \"name\": \"Gaming\", \"offsetgroup\": \"Gaming\", \"orientation\": \"h\", \"showlegend\": true, \"text\": [9.99], \"textposition\": \"auto\", \"type\": \"bar\", \"x\": [5186.25], \"xaxis\": \"x\", \"y\": [\"Gaming\"], \"yaxis\": \"y\"}, {\"alignmentgroup\": \"True\", \"customdata\": [[4082.12]], \"hovertemplate\": \"category=%{y}<br>allocation_break_even=%{customdata[0]}<br>allocation_break_even_pct=%{text}<extra></extra>\", \"legendgroup\": \"Bonds\", \"marker\": {\"color\": \"#00cc96\"}, \"name\": \"Bonds\", \"offsetgroup\": \"Bonds\", \"orientation\": \"h\", \"showlegend\": true, \"text\": [7.86], \"textposition\": \"auto\", \"type\": \"bar\", \"x\": [4082.12], \"xaxis\": \"x\", \"y\": [\"Bonds\"], \"yaxis\": \"y\"}, {\"alignmentgroup\": \"True\", \"customdata\": [[3950.97]], \"hovertemplate\": \"category=%{y}<br>allocation_break_even=%{customdata[0]}<br>allocation_break_even_pct=%{text}<extra></extra>\", \"legendgroup\": \"Consumer Discretionary\", \"marker\": {\"color\": \"#ab63fa\"}, \"name\": \"Consumer Discretionary\", \"offsetgroup\": \"Consumer Discretionary\", \"orientation\": \"h\", \"showlegend\": true, \"text\": [7.61], \"textposition\": \"auto\", \"type\": \"bar\", \"x\": [3950.97], \"xaxis\": \"x\", \"y\": [\"Consumer Discretionary\"], \"yaxis\": \"y\"}, {\"alignmentgroup\": \"True\", \"customdata\": [[2967.92]], \"hovertemplate\": \"category=%{y}<br>allocation_break_even=%{customdata[0]}<br>allocation_break_even_pct=%{text}<extra></extra>\", \"legendgroup\": \"Technology\", \"marker\": {\"color\": \"#FFA15A\"}, \"name\": \"Technology\", \"offsetgroup\": \"Technology\", \"orientation\": \"h\", \"showlegend\": true, \"text\": [5.71], \"textposition\": \"auto\", \"type\": \"bar\", \"x\": [2967.92], \"xaxis\": \"x\", \"y\": [\"Technology\"], \"yaxis\": \"y\"}, {\"alignmentgroup\": \"True\", \"customdata\": [[2915.65]], \"hovertemplate\": \"category=%{y}<br>allocation_break_even=%{customdata[0]}<br>allocation_break_even_pct=%{text}<extra></extra>\", \"legendgroup\": \"Real Estate\", \"marker\": {\"color\": \"#19d3f3\"}, \"name\": \"Real Estate\", \"offsetgroup\": \"Real Estate\", \"orientation\": \"h\", \"showlegend\": true, \"text\": [5.61], \"textposition\": \"auto\", \"type\": \"bar\", \"x\": [2915.65], \"xaxis\": \"x\", \"y\": [\"Real Estate\"], \"yaxis\": \"y\"}, {\"alignmentgroup\": \"True\", \"customdata\": [[1954.18]], \"hovertemplate\": \"category=%{y}<br>allocation_break_even=%{customdata[0]}<br>allocation_break_even_pct=%{text}<extra></extra>\", \"legendgroup\": \"Consumer Staples\", \"marker\": {\"color\": \"#FF6692\"}, \"name\": \"Consumer Staples\", \"offsetgroup\": \"Consumer Staples\", \"orientation\": \"h\", \"showlegend\": true, \"text\": [3.76], \"textposition\": \"auto\", \"type\": \"bar\", \"x\": [1954.18], \"xaxis\": \"x\", \"y\": [\"Consumer Staples\"], \"yaxis\": \"y\"}, {\"alignmentgroup\": \"True\", \"customdata\": [[0.0]], \"hovertemplate\": \"category=%{y}<br>allocation_break_even=%{customdata[0]}<br>allocation_break_even_pct=%{text}<extra></extra>\", \"legendgroup\": \"Semiconductor\", \"marker\": {\"color\": \"#B6E880\"}, \"name\": \"Semiconductor\", \"offsetgroup\": \"Semiconductor\", \"orientation\": \"h\", \"showlegend\": true, \"text\": [0.0], \"textposition\": \"auto\", \"type\": \"bar\", \"x\": [0.0], \"xaxis\": \"x\", \"y\": [\"Semiconductor\"], \"yaxis\": \"y\"}],\n",
       "                        {\"barmode\": \"relative\", \"legend\": {\"title\": {\"text\": \"category\"}, \"tracegroupgap\": 0}, \"template\": {\"data\": {\"bar\": [{\"error_x\": {\"color\": \"#2a3f5f\"}, \"error_y\": {\"color\": \"#2a3f5f\"}, \"marker\": {\"line\": {\"color\": \"#E5ECF6\", \"width\": 0.5}}, \"type\": \"bar\"}], \"barpolar\": [{\"marker\": {\"line\": {\"color\": \"#E5ECF6\", \"width\": 0.5}}, \"type\": \"barpolar\"}], \"carpet\": [{\"aaxis\": {\"endlinecolor\": \"#2a3f5f\", \"gridcolor\": \"white\", \"linecolor\": \"white\", \"minorgridcolor\": \"white\", \"startlinecolor\": \"#2a3f5f\"}, \"baxis\": {\"endlinecolor\": \"#2a3f5f\", \"gridcolor\": \"white\", \"linecolor\": \"white\", \"minorgridcolor\": \"white\", \"startlinecolor\": \"#2a3f5f\"}, \"type\": \"carpet\"}], \"choropleth\": [{\"colorbar\": {\"outlinewidth\": 0, \"ticks\": \"\"}, \"type\": \"choropleth\"}], \"contour\": [{\"colorbar\": {\"outlinewidth\": 0, \"ticks\": \"\"}, \"colorscale\": [[0.0, \"#0d0887\"], [0.1111111111111111, \"#46039f\"], [0.2222222222222222, \"#7201a8\"], [0.3333333333333333, \"#9c179e\"], [0.4444444444444444, \"#bd3786\"], [0.5555555555555556, \"#d8576b\"], [0.6666666666666666, \"#ed7953\"], [0.7777777777777778, \"#fb9f3a\"], [0.8888888888888888, \"#fdca26\"], [1.0, \"#f0f921\"]], \"type\": \"contour\"}], \"contourcarpet\": [{\"colorbar\": {\"outlinewidth\": 0, \"ticks\": \"\"}, \"type\": \"contourcarpet\"}], \"heatmap\": [{\"colorbar\": {\"outlinewidth\": 0, \"ticks\": \"\"}, \"colorscale\": [[0.0, \"#0d0887\"], [0.1111111111111111, \"#46039f\"], [0.2222222222222222, \"#7201a8\"], [0.3333333333333333, \"#9c179e\"], [0.4444444444444444, \"#bd3786\"], [0.5555555555555556, \"#d8576b\"], [0.6666666666666666, \"#ed7953\"], [0.7777777777777778, \"#fb9f3a\"], [0.8888888888888888, \"#fdca26\"], [1.0, \"#f0f921\"]], \"type\": \"heatmap\"}], \"heatmapgl\": [{\"colorbar\": {\"outlinewidth\": 0, \"ticks\": \"\"}, \"colorscale\": [[0.0, \"#0d0887\"], [0.1111111111111111, \"#46039f\"], [0.2222222222222222, \"#7201a8\"], [0.3333333333333333, \"#9c179e\"], [0.4444444444444444, \"#bd3786\"], [0.5555555555555556, \"#d8576b\"], [0.6666666666666666, \"#ed7953\"], [0.7777777777777778, \"#fb9f3a\"], [0.8888888888888888, \"#fdca26\"], [1.0, \"#f0f921\"]], \"type\": \"heatmapgl\"}], \"histogram\": [{\"marker\": {\"colorbar\": {\"outlinewidth\": 0, \"ticks\": \"\"}}, \"type\": \"histogram\"}], \"histogram2d\": [{\"colorbar\": {\"outlinewidth\": 0, \"ticks\": \"\"}, \"colorscale\": [[0.0, \"#0d0887\"], [0.1111111111111111, \"#46039f\"], [0.2222222222222222, \"#7201a8\"], [0.3333333333333333, \"#9c179e\"], [0.4444444444444444, \"#bd3786\"], [0.5555555555555556, \"#d8576b\"], [0.6666666666666666, \"#ed7953\"], [0.7777777777777778, \"#fb9f3a\"], [0.8888888888888888, \"#fdca26\"], [1.0, \"#f0f921\"]], \"type\": \"histogram2d\"}], \"histogram2dcontour\": [{\"colorbar\": {\"outlinewidth\": 0, \"ticks\": \"\"}, \"colorscale\": [[0.0, \"#0d0887\"], [0.1111111111111111, \"#46039f\"], [0.2222222222222222, \"#7201a8\"], [0.3333333333333333, \"#9c179e\"], [0.4444444444444444, \"#bd3786\"], [0.5555555555555556, \"#d8576b\"], [0.6666666666666666, \"#ed7953\"], [0.7777777777777778, \"#fb9f3a\"], [0.8888888888888888, \"#fdca26\"], [1.0, \"#f0f921\"]], \"type\": \"histogram2dcontour\"}], \"mesh3d\": [{\"colorbar\": {\"outlinewidth\": 0, \"ticks\": \"\"}, \"type\": \"mesh3d\"}], \"parcoords\": [{\"line\": {\"colorbar\": {\"outlinewidth\": 0, \"ticks\": \"\"}}, \"type\": \"parcoords\"}], \"pie\": [{\"automargin\": true, \"type\": \"pie\"}], \"scatter\": [{\"marker\": {\"colorbar\": {\"outlinewidth\": 0, \"ticks\": \"\"}}, \"type\": \"scatter\"}], \"scatter3d\": [{\"line\": {\"colorbar\": {\"outlinewidth\": 0, \"ticks\": \"\"}}, \"marker\": {\"colorbar\": {\"outlinewidth\": 0, \"ticks\": \"\"}}, \"type\": \"scatter3d\"}], \"scattercarpet\": [{\"marker\": {\"colorbar\": {\"outlinewidth\": 0, \"ticks\": \"\"}}, \"type\": \"scattercarpet\"}], \"scattergeo\": [{\"marker\": {\"colorbar\": {\"outlinewidth\": 0, \"ticks\": \"\"}}, \"type\": \"scattergeo\"}], \"scattergl\": [{\"marker\": {\"colorbar\": {\"outlinewidth\": 0, \"ticks\": \"\"}}, \"type\": \"scattergl\"}], \"scattermapbox\": [{\"marker\": {\"colorbar\": {\"outlinewidth\": 0, \"ticks\": \"\"}}, \"type\": \"scattermapbox\"}], \"scatterpolar\": [{\"marker\": {\"colorbar\": {\"outlinewidth\": 0, \"ticks\": \"\"}}, \"type\": \"scatterpolar\"}], \"scatterpolargl\": [{\"marker\": {\"colorbar\": {\"outlinewidth\": 0, \"ticks\": \"\"}}, \"type\": \"scatterpolargl\"}], \"scatterternary\": [{\"marker\": {\"colorbar\": {\"outlinewidth\": 0, \"ticks\": \"\"}}, \"type\": \"scatterternary\"}], \"surface\": [{\"colorbar\": {\"outlinewidth\": 0, \"ticks\": \"\"}, \"colorscale\": [[0.0, \"#0d0887\"], [0.1111111111111111, \"#46039f\"], [0.2222222222222222, \"#7201a8\"], [0.3333333333333333, \"#9c179e\"], [0.4444444444444444, \"#bd3786\"], [0.5555555555555556, \"#d8576b\"], [0.6666666666666666, \"#ed7953\"], [0.7777777777777778, \"#fb9f3a\"], [0.8888888888888888, \"#fdca26\"], [1.0, \"#f0f921\"]], \"type\": \"surface\"}], \"table\": [{\"cells\": {\"fill\": {\"color\": \"#EBF0F8\"}, \"line\": {\"color\": \"white\"}}, \"header\": {\"fill\": {\"color\": \"#C8D4E3\"}, \"line\": {\"color\": \"white\"}}, \"type\": \"table\"}]}, \"layout\": {\"annotationdefaults\": {\"arrowcolor\": \"#2a3f5f\", \"arrowhead\": 0, \"arrowwidth\": 1}, \"coloraxis\": {\"colorbar\": {\"outlinewidth\": 0, \"ticks\": \"\"}}, \"colorscale\": {\"diverging\": [[0, \"#8e0152\"], [0.1, \"#c51b7d\"], [0.2, \"#de77ae\"], [0.3, \"#f1b6da\"], [0.4, \"#fde0ef\"], [0.5, \"#f7f7f7\"], [0.6, \"#e6f5d0\"], [0.7, \"#b8e186\"], [0.8, \"#7fbc41\"], [0.9, \"#4d9221\"], [1, \"#276419\"]], \"sequential\": [[0.0, \"#0d0887\"], [0.1111111111111111, \"#46039f\"], [0.2222222222222222, \"#7201a8\"], [0.3333333333333333, \"#9c179e\"], [0.4444444444444444, \"#bd3786\"], [0.5555555555555556, \"#d8576b\"], [0.6666666666666666, \"#ed7953\"], [0.7777777777777778, \"#fb9f3a\"], [0.8888888888888888, \"#fdca26\"], [1.0, \"#f0f921\"]], \"sequentialminus\": [[0.0, \"#0d0887\"], [0.1111111111111111, \"#46039f\"], [0.2222222222222222, \"#7201a8\"], [0.3333333333333333, \"#9c179e\"], [0.4444444444444444, \"#bd3786\"], [0.5555555555555556, \"#d8576b\"], [0.6666666666666666, \"#ed7953\"], [0.7777777777777778, \"#fb9f3a\"], [0.8888888888888888, \"#fdca26\"], [1.0, \"#f0f921\"]]}, \"colorway\": [\"#636efa\", \"#EF553B\", \"#00cc96\", \"#ab63fa\", \"#FFA15A\", \"#19d3f3\", \"#FF6692\", \"#B6E880\", \"#FF97FF\", \"#FECB52\"], \"font\": {\"color\": \"#2a3f5f\"}, \"geo\": {\"bgcolor\": \"white\", \"lakecolor\": \"white\", \"landcolor\": \"#E5ECF6\", \"showlakes\": true, \"showland\": true, \"subunitcolor\": \"white\"}, \"hoverlabel\": {\"align\": \"left\"}, \"hovermode\": \"closest\", \"mapbox\": {\"style\": \"light\"}, \"paper_bgcolor\": \"white\", \"plot_bgcolor\": \"#E5ECF6\", \"polar\": {\"angularaxis\": {\"gridcolor\": \"white\", \"linecolor\": \"white\", \"ticks\": \"\"}, \"bgcolor\": \"#E5ECF6\", \"radialaxis\": {\"gridcolor\": \"white\", \"linecolor\": \"white\", \"ticks\": \"\"}}, \"scene\": {\"xaxis\": {\"backgroundcolor\": \"#E5ECF6\", \"gridcolor\": \"white\", \"gridwidth\": 2, \"linecolor\": \"white\", \"showbackground\": true, \"ticks\": \"\", \"zerolinecolor\": \"white\"}, \"yaxis\": {\"backgroundcolor\": \"#E5ECF6\", \"gridcolor\": \"white\", \"gridwidth\": 2, \"linecolor\": \"white\", \"showbackground\": true, \"ticks\": \"\", \"zerolinecolor\": \"white\"}, \"zaxis\": {\"backgroundcolor\": \"#E5ECF6\", \"gridcolor\": \"white\", \"gridwidth\": 2, \"linecolor\": \"white\", \"showbackground\": true, \"ticks\": \"\", \"zerolinecolor\": \"white\"}}, \"shapedefaults\": {\"line\": {\"color\": \"#2a3f5f\"}}, \"ternary\": {\"aaxis\": {\"gridcolor\": \"white\", \"linecolor\": \"white\", \"ticks\": \"\"}, \"baxis\": {\"gridcolor\": \"white\", \"linecolor\": \"white\", \"ticks\": \"\"}, \"bgcolor\": \"#E5ECF6\", \"caxis\": {\"gridcolor\": \"white\", \"linecolor\": \"white\", \"ticks\": \"\"}}, \"title\": {\"x\": 0.05}, \"xaxis\": {\"automargin\": true, \"gridcolor\": \"white\", \"linecolor\": \"white\", \"ticks\": \"\", \"title\": {\"standoff\": 15}, \"zerolinecolor\": \"white\", \"zerolinewidth\": 2}, \"yaxis\": {\"automargin\": true, \"gridcolor\": \"white\", \"linecolor\": \"white\", \"ticks\": \"\", \"title\": {\"standoff\": 15}, \"zerolinecolor\": \"white\", \"zerolinewidth\": 2}}}, \"title\": {\"text\": \"Allocation Break Even (%)\"}, \"xaxis\": {\"anchor\": \"y\", \"domain\": [0.0, 1.0], \"title\": {\"text\": \"allocation_break_even\"}}, \"yaxis\": {\"anchor\": \"x\", \"categoryarray\": [\"Semiconductor\", \"Consumer Staples\", \"Real Estate\", \"Technology\", \"Consumer Discretionary\", \"Bonds\", \"Gaming\", \"Innovation\"], \"categoryorder\": \"array\", \"domain\": [0.0, 1.0], \"title\": {\"text\": \"category\"}}},\n",
       "                        {\"responsive\": true}\n",
       "                    ).then(function(){\n",
       "                            \n",
       "var gd = document.getElementById('1da9d691-5eaa-47f0-99c4-cb77df2a23f5');\n",
       "var x = new MutationObserver(function (mutations, observer) {{\n",
       "        var display = window.getComputedStyle(gd).display;\n",
       "        if (!display || display === 'none') {{\n",
       "            console.log([gd, 'removed!']);\n",
       "            Plotly.purge(gd);\n",
       "            observer.disconnect();\n",
       "        }}\n",
       "}});\n",
       "\n",
       "// Listen for the removal of the full notebook cells\n",
       "var notebookContainer = gd.closest('#notebook-container');\n",
       "if (notebookContainer) {{\n",
       "    x.observe(notebookContainer, {childList: true});\n",
       "}}\n",
       "\n",
       "// Listen for the clearing of the current output cell\n",
       "var outputEl = gd.closest('.output');\n",
       "if (outputEl) {{\n",
       "    x.observe(outputEl, {childList: true});\n",
       "}}\n",
       "\n",
       "                        })\n",
       "                };\n",
       "                });\n",
       "            </script>\n",
       "        </div>"
      ]
     },
     "metadata": {},
     "output_type": "display_data"
    }
   ],
   "source": [
    "allocation_solution = sdc.maximize_desired_allocation(date=last_date)\n",
    "fig = px.bar(allocation_solution.sort_values(by='allocation_break_even_pct', ascending=False), \n",
    "             x=\"allocation_break_even\", \n",
    "             y=\"category\", \n",
    "             title='Allocation Break Even (%)', \n",
    "             color=\"category\", \n",
    "             text=\"allocation_break_even_pct\",\n",
    "             hover_data=['allocation_break_even'],\n",
    "             orientation='h')\n",
    "fig.write_image(\"images/allocation_break_even.pdf\")\n",
    "fig.show()"
   ]
  },
  {
   "cell_type": "code",
   "execution_count": null,
   "metadata": {},
   "outputs": [],
   "source": []
  }
 ],
 "metadata": {
  "kernelspec": {
   "display_name": "Python 3",
   "language": "python",
   "name": "python3"
  },
  "language_info": {
   "codemirror_mode": {
    "name": "ipython",
    "version": 3
   },
   "file_extension": ".py",
   "mimetype": "text/x-python",
   "name": "python",
   "nbconvert_exporter": "python",
   "pygments_lexer": "ipython3",
   "version": "3.7.7"
  }
 },
 "nbformat": 4,
 "nbformat_minor": 4
}
